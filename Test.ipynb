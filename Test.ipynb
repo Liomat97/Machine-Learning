{
 "cells": [
  {
   "cell_type": "markdown",
   "id": "b625c7fa",
   "metadata": {},
   "source": [
    "# Heart Desease II - Decision Tree vs Random Forest"
   ]
  },
  {
   "cell_type": "markdown",
   "id": "6c8c9804",
   "metadata": {},
   "source": [
    "by Raphael Nussbaumer, Laurin Mühlebach, Lionel Nyffeler"
   ]
  },
  {
   "cell_type": "markdown",
   "id": "4a685bf6",
   "metadata": {},
   "source": [
    "Inhaltsverzeichnis\n",
    "- **1 Import**\n",
    "    - 1.1 Basic Libraries\n",
    "    - 1.2 Importing the Dataset\n",
    "- **2 Dataset Description**\n",
    "- **3 Normalize the Dataset**\n",
    "- **4 Split the Dataset in Multiclass and Binary**\n",
    "    - 4.1 Multiclass\n",
    "    - 4.2 Binary\n",
    "- **5 Define X & Y**\n",
    "    - 5.1 Multiclass\n",
    "    - 5.2 Binary\n",
    "- **6 Analysis of the different classes**\n",
    "- **7 Split the Dataset into Train-Validation-Test**\n",
    "    - 7.1 Multiclass\n",
    "    - 7.2 Binary\n",
    "- **8 Implementing the Models**\n",
    "    - 8.1 Decision Tree Binary\n",
    "      - 8.1.1 Decision Tree Binary Basic\n",
    "      - 8.1.2 Decision Tree Binary Cross Validation\n",
    "    - 8.2 Decision Tree with Multiclass\n",
    "      - 8.2.1 Decision Tree Multiclass Basic\n",
    "      - 8.2.2 Decision Tree Multiclass Cross Validation\n",
    "    - 8.3 Random Forest Binary\n",
    "    - 8.4 Random Forest Multiclass\n",
    "- **9 All Results**\n",
    "- **10 Plots of best Model**"
   ]
  },
  {
   "cell_type": "markdown",
   "id": "c5c9ed7a",
   "metadata": {},
   "source": [
    "### 1 Import <div id=\"heading--1\"/>"
   ]
  },
  {
   "cell_type": "markdown",
   "id": "1cdc3a70",
   "metadata": {},
   "source": [
    "#### 1.1 Basic Libraries"
   ]
  },
  {
   "cell_type": "code",
   "execution_count": 2,
   "id": "14047bd7",
   "metadata": {},
   "outputs": [],
   "source": [
    "import pandas as pd\n",
    "import numpy as np \n",
    "import matplotlib.pyplot as plt \n",
    "import seaborn as sns\n",
    "\n",
    "# other imports will be made when needed later in the code"
   ]
  },
  {
   "cell_type": "markdown",
   "id": "cb8dfb39",
   "metadata": {},
   "source": [
    "#### 1.2 Importing the Dataset"
   ]
  },
  {
   "cell_type": "code",
   "execution_count": 3,
   "id": "49fa703a",
   "metadata": {},
   "outputs": [],
   "source": [
    "HD = pd.read_csv('HeartDisease.csv', sep=',')"
   ]
  },
  {
   "cell_type": "code",
   "execution_count": 4,
   "id": "2d9f027b",
   "metadata": {},
   "outputs": [
    {
     "data": {
      "text/html": [
       "<div>\n",
       "<style scoped>\n",
       "    .dataframe tbody tr th:only-of-type {\n",
       "        vertical-align: middle;\n",
       "    }\n",
       "\n",
       "    .dataframe tbody tr th {\n",
       "        vertical-align: top;\n",
       "    }\n",
       "\n",
       "    .dataframe thead th {\n",
       "        text-align: right;\n",
       "    }\n",
       "</style>\n",
       "<table border=\"1\" class=\"dataframe\">\n",
       "  <thead>\n",
       "    <tr style=\"text-align: right;\">\n",
       "      <th></th>\n",
       "      <th>age</th>\n",
       "      <th>sex</th>\n",
       "      <th>cp</th>\n",
       "      <th>trestbps</th>\n",
       "      <th>chol</th>\n",
       "      <th>fbs</th>\n",
       "      <th>restecg</th>\n",
       "      <th>thalach</th>\n",
       "      <th>exang</th>\n",
       "      <th>oldpeak</th>\n",
       "      <th>slope</th>\n",
       "      <th>ca</th>\n",
       "      <th>thal</th>\n",
       "      <th>class</th>\n",
       "    </tr>\n",
       "  </thead>\n",
       "  <tbody>\n",
       "    <tr>\n",
       "      <th>0</th>\n",
       "      <td>63.0</td>\n",
       "      <td>1.0</td>\n",
       "      <td>1.0</td>\n",
       "      <td>145.0</td>\n",
       "      <td>233.0</td>\n",
       "      <td>1.0</td>\n",
       "      <td>2.0</td>\n",
       "      <td>150.0</td>\n",
       "      <td>0.0</td>\n",
       "      <td>2.3</td>\n",
       "      <td>3.0</td>\n",
       "      <td>0.0</td>\n",
       "      <td>6.0</td>\n",
       "      <td>0</td>\n",
       "    </tr>\n",
       "    <tr>\n",
       "      <th>1</th>\n",
       "      <td>67.0</td>\n",
       "      <td>1.0</td>\n",
       "      <td>4.0</td>\n",
       "      <td>160.0</td>\n",
       "      <td>286.0</td>\n",
       "      <td>0.0</td>\n",
       "      <td>2.0</td>\n",
       "      <td>108.0</td>\n",
       "      <td>1.0</td>\n",
       "      <td>1.5</td>\n",
       "      <td>2.0</td>\n",
       "      <td>3.0</td>\n",
       "      <td>3.0</td>\n",
       "      <td>2</td>\n",
       "    </tr>\n",
       "    <tr>\n",
       "      <th>2</th>\n",
       "      <td>67.0</td>\n",
       "      <td>1.0</td>\n",
       "      <td>4.0</td>\n",
       "      <td>120.0</td>\n",
       "      <td>229.0</td>\n",
       "      <td>0.0</td>\n",
       "      <td>2.0</td>\n",
       "      <td>129.0</td>\n",
       "      <td>1.0</td>\n",
       "      <td>2.6</td>\n",
       "      <td>2.0</td>\n",
       "      <td>2.0</td>\n",
       "      <td>7.0</td>\n",
       "      <td>1</td>\n",
       "    </tr>\n",
       "    <tr>\n",
       "      <th>3</th>\n",
       "      <td>37.0</td>\n",
       "      <td>1.0</td>\n",
       "      <td>3.0</td>\n",
       "      <td>130.0</td>\n",
       "      <td>250.0</td>\n",
       "      <td>0.0</td>\n",
       "      <td>0.0</td>\n",
       "      <td>187.0</td>\n",
       "      <td>0.0</td>\n",
       "      <td>3.5</td>\n",
       "      <td>3.0</td>\n",
       "      <td>0.0</td>\n",
       "      <td>3.0</td>\n",
       "      <td>0</td>\n",
       "    </tr>\n",
       "    <tr>\n",
       "      <th>4</th>\n",
       "      <td>41.0</td>\n",
       "      <td>0.0</td>\n",
       "      <td>2.0</td>\n",
       "      <td>130.0</td>\n",
       "      <td>204.0</td>\n",
       "      <td>0.0</td>\n",
       "      <td>2.0</td>\n",
       "      <td>172.0</td>\n",
       "      <td>0.0</td>\n",
       "      <td>1.4</td>\n",
       "      <td>1.0</td>\n",
       "      <td>0.0</td>\n",
       "      <td>3.0</td>\n",
       "      <td>0</td>\n",
       "    </tr>\n",
       "  </tbody>\n",
       "</table>\n",
       "</div>"
      ],
      "text/plain": [
       "    age  sex   cp  trestbps   chol  fbs  restecg  thalach  exang  oldpeak  \\\n",
       "0  63.0  1.0  1.0     145.0  233.0  1.0      2.0    150.0    0.0      2.3   \n",
       "1  67.0  1.0  4.0     160.0  286.0  0.0      2.0    108.0    1.0      1.5   \n",
       "2  67.0  1.0  4.0     120.0  229.0  0.0      2.0    129.0    1.0      2.6   \n",
       "3  37.0  1.0  3.0     130.0  250.0  0.0      0.0    187.0    0.0      3.5   \n",
       "4  41.0  0.0  2.0     130.0  204.0  0.0      2.0    172.0    0.0      1.4   \n",
       "\n",
       "   slope   ca  thal  class  \n",
       "0    3.0  0.0   6.0      0  \n",
       "1    2.0  3.0   3.0      2  \n",
       "2    2.0  2.0   7.0      1  \n",
       "3    3.0  0.0   3.0      0  \n",
       "4    1.0  0.0   3.0      0  "
      ]
     },
     "execution_count": 4,
     "metadata": {},
     "output_type": "execute_result"
    }
   ],
   "source": [
    "HD.head(5)"
   ]
  },
  {
   "cell_type": "markdown",
   "id": "e6316ca3",
   "metadata": {},
   "source": [
    "### 2 Dataset Description"
   ]
  },
  {
   "cell_type": "code",
   "execution_count": 5,
   "id": "142b5103",
   "metadata": {},
   "outputs": [
    {
     "name": "stdout",
     "output_type": "stream",
     "text": [
      "<class 'pandas.core.frame.DataFrame'>\n",
      "RangeIndex: 297 entries, 0 to 296\n",
      "Data columns (total 14 columns):\n",
      " #   Column    Non-Null Count  Dtype  \n",
      "---  ------    --------------  -----  \n",
      " 0   age       297 non-null    float64\n",
      " 1   sex       297 non-null    float64\n",
      " 2   cp        297 non-null    float64\n",
      " 3   trestbps  297 non-null    float64\n",
      " 4   chol      297 non-null    float64\n",
      " 5   fbs       297 non-null    float64\n",
      " 6   restecg   297 non-null    float64\n",
      " 7   thalach   297 non-null    float64\n",
      " 8   exang     297 non-null    float64\n",
      " 9   oldpeak   297 non-null    float64\n",
      " 10  slope     297 non-null    float64\n",
      " 11  ca        297 non-null    float64\n",
      " 12  thal      297 non-null    float64\n",
      " 13  class     297 non-null    int64  \n",
      "dtypes: float64(13), int64(1)\n",
      "memory usage: 32.6 KB\n"
     ]
    }
   ],
   "source": [
    "HD.info()"
   ]
  },
  {
   "cell_type": "code",
   "execution_count": 6,
   "id": "db96e5e7",
   "metadata": {},
   "outputs": [
    {
     "name": "stdout",
     "output_type": "stream",
     "text": [
      "The shape of the Dataset is:  (297, 14)\n"
     ]
    }
   ],
   "source": [
    "print('The shape of the Dataset is: ', HD.shape)"
   ]
  },
  {
   "cell_type": "code",
   "execution_count": 7,
   "id": "106b825a",
   "metadata": {
    "scrolled": true
   },
   "outputs": [
    {
     "data": {
      "text/html": [
       "<div>\n",
       "<style scoped>\n",
       "    .dataframe tbody tr th:only-of-type {\n",
       "        vertical-align: middle;\n",
       "    }\n",
       "\n",
       "    .dataframe tbody tr th {\n",
       "        vertical-align: top;\n",
       "    }\n",
       "\n",
       "    .dataframe thead th {\n",
       "        text-align: right;\n",
       "    }\n",
       "</style>\n",
       "<table border=\"1\" class=\"dataframe\">\n",
       "  <thead>\n",
       "    <tr style=\"text-align: right;\">\n",
       "      <th></th>\n",
       "      <th>age</th>\n",
       "      <th>sex</th>\n",
       "      <th>cp</th>\n",
       "      <th>trestbps</th>\n",
       "      <th>chol</th>\n",
       "      <th>fbs</th>\n",
       "      <th>restecg</th>\n",
       "      <th>thalach</th>\n",
       "      <th>exang</th>\n",
       "      <th>oldpeak</th>\n",
       "      <th>slope</th>\n",
       "      <th>ca</th>\n",
       "      <th>thal</th>\n",
       "      <th>class</th>\n",
       "    </tr>\n",
       "  </thead>\n",
       "  <tbody>\n",
       "    <tr>\n",
       "      <th>count</th>\n",
       "      <td>297.000000</td>\n",
       "      <td>297.000000</td>\n",
       "      <td>297.000000</td>\n",
       "      <td>297.000000</td>\n",
       "      <td>297.000000</td>\n",
       "      <td>297.000000</td>\n",
       "      <td>297.000000</td>\n",
       "      <td>297.000000</td>\n",
       "      <td>297.000000</td>\n",
       "      <td>297.000000</td>\n",
       "      <td>297.000000</td>\n",
       "      <td>297.000000</td>\n",
       "      <td>297.000000</td>\n",
       "      <td>297.000000</td>\n",
       "    </tr>\n",
       "    <tr>\n",
       "      <th>mean</th>\n",
       "      <td>54.542088</td>\n",
       "      <td>0.676768</td>\n",
       "      <td>3.158249</td>\n",
       "      <td>131.693603</td>\n",
       "      <td>247.350168</td>\n",
       "      <td>0.144781</td>\n",
       "      <td>0.996633</td>\n",
       "      <td>149.599327</td>\n",
       "      <td>0.326599</td>\n",
       "      <td>1.055556</td>\n",
       "      <td>1.602694</td>\n",
       "      <td>0.676768</td>\n",
       "      <td>4.730640</td>\n",
       "      <td>0.946128</td>\n",
       "    </tr>\n",
       "    <tr>\n",
       "      <th>std</th>\n",
       "      <td>9.049736</td>\n",
       "      <td>0.468500</td>\n",
       "      <td>0.964859</td>\n",
       "      <td>17.762806</td>\n",
       "      <td>51.997583</td>\n",
       "      <td>0.352474</td>\n",
       "      <td>0.994914</td>\n",
       "      <td>22.941562</td>\n",
       "      <td>0.469761</td>\n",
       "      <td>1.166123</td>\n",
       "      <td>0.618187</td>\n",
       "      <td>0.938965</td>\n",
       "      <td>1.938629</td>\n",
       "      <td>1.234551</td>\n",
       "    </tr>\n",
       "    <tr>\n",
       "      <th>min</th>\n",
       "      <td>29.000000</td>\n",
       "      <td>0.000000</td>\n",
       "      <td>1.000000</td>\n",
       "      <td>94.000000</td>\n",
       "      <td>126.000000</td>\n",
       "      <td>0.000000</td>\n",
       "      <td>0.000000</td>\n",
       "      <td>71.000000</td>\n",
       "      <td>0.000000</td>\n",
       "      <td>0.000000</td>\n",
       "      <td>1.000000</td>\n",
       "      <td>0.000000</td>\n",
       "      <td>3.000000</td>\n",
       "      <td>0.000000</td>\n",
       "    </tr>\n",
       "    <tr>\n",
       "      <th>25%</th>\n",
       "      <td>48.000000</td>\n",
       "      <td>0.000000</td>\n",
       "      <td>3.000000</td>\n",
       "      <td>120.000000</td>\n",
       "      <td>211.000000</td>\n",
       "      <td>0.000000</td>\n",
       "      <td>0.000000</td>\n",
       "      <td>133.000000</td>\n",
       "      <td>0.000000</td>\n",
       "      <td>0.000000</td>\n",
       "      <td>1.000000</td>\n",
       "      <td>0.000000</td>\n",
       "      <td>3.000000</td>\n",
       "      <td>0.000000</td>\n",
       "    </tr>\n",
       "    <tr>\n",
       "      <th>50%</th>\n",
       "      <td>56.000000</td>\n",
       "      <td>1.000000</td>\n",
       "      <td>3.000000</td>\n",
       "      <td>130.000000</td>\n",
       "      <td>243.000000</td>\n",
       "      <td>0.000000</td>\n",
       "      <td>1.000000</td>\n",
       "      <td>153.000000</td>\n",
       "      <td>0.000000</td>\n",
       "      <td>0.800000</td>\n",
       "      <td>2.000000</td>\n",
       "      <td>0.000000</td>\n",
       "      <td>3.000000</td>\n",
       "      <td>0.000000</td>\n",
       "    </tr>\n",
       "    <tr>\n",
       "      <th>75%</th>\n",
       "      <td>61.000000</td>\n",
       "      <td>1.000000</td>\n",
       "      <td>4.000000</td>\n",
       "      <td>140.000000</td>\n",
       "      <td>276.000000</td>\n",
       "      <td>0.000000</td>\n",
       "      <td>2.000000</td>\n",
       "      <td>166.000000</td>\n",
       "      <td>1.000000</td>\n",
       "      <td>1.600000</td>\n",
       "      <td>2.000000</td>\n",
       "      <td>1.000000</td>\n",
       "      <td>7.000000</td>\n",
       "      <td>2.000000</td>\n",
       "    </tr>\n",
       "    <tr>\n",
       "      <th>max</th>\n",
       "      <td>77.000000</td>\n",
       "      <td>1.000000</td>\n",
       "      <td>4.000000</td>\n",
       "      <td>200.000000</td>\n",
       "      <td>564.000000</td>\n",
       "      <td>1.000000</td>\n",
       "      <td>2.000000</td>\n",
       "      <td>202.000000</td>\n",
       "      <td>1.000000</td>\n",
       "      <td>6.200000</td>\n",
       "      <td>3.000000</td>\n",
       "      <td>3.000000</td>\n",
       "      <td>7.000000</td>\n",
       "      <td>4.000000</td>\n",
       "    </tr>\n",
       "  </tbody>\n",
       "</table>\n",
       "</div>"
      ],
      "text/plain": [
       "              age         sex          cp    trestbps        chol         fbs  \\\n",
       "count  297.000000  297.000000  297.000000  297.000000  297.000000  297.000000   \n",
       "mean    54.542088    0.676768    3.158249  131.693603  247.350168    0.144781   \n",
       "std      9.049736    0.468500    0.964859   17.762806   51.997583    0.352474   \n",
       "min     29.000000    0.000000    1.000000   94.000000  126.000000    0.000000   \n",
       "25%     48.000000    0.000000    3.000000  120.000000  211.000000    0.000000   \n",
       "50%     56.000000    1.000000    3.000000  130.000000  243.000000    0.000000   \n",
       "75%     61.000000    1.000000    4.000000  140.000000  276.000000    0.000000   \n",
       "max     77.000000    1.000000    4.000000  200.000000  564.000000    1.000000   \n",
       "\n",
       "          restecg     thalach       exang     oldpeak       slope          ca  \\\n",
       "count  297.000000  297.000000  297.000000  297.000000  297.000000  297.000000   \n",
       "mean     0.996633  149.599327    0.326599    1.055556    1.602694    0.676768   \n",
       "std      0.994914   22.941562    0.469761    1.166123    0.618187    0.938965   \n",
       "min      0.000000   71.000000    0.000000    0.000000    1.000000    0.000000   \n",
       "25%      0.000000  133.000000    0.000000    0.000000    1.000000    0.000000   \n",
       "50%      1.000000  153.000000    0.000000    0.800000    2.000000    0.000000   \n",
       "75%      2.000000  166.000000    1.000000    1.600000    2.000000    1.000000   \n",
       "max      2.000000  202.000000    1.000000    6.200000    3.000000    3.000000   \n",
       "\n",
       "             thal       class  \n",
       "count  297.000000  297.000000  \n",
       "mean     4.730640    0.946128  \n",
       "std      1.938629    1.234551  \n",
       "min      3.000000    0.000000  \n",
       "25%      3.000000    0.000000  \n",
       "50%      3.000000    0.000000  \n",
       "75%      7.000000    2.000000  \n",
       "max      7.000000    4.000000  "
      ]
     },
     "execution_count": 7,
     "metadata": {},
     "output_type": "execute_result"
    }
   ],
   "source": [
    "HD.describe()"
   ]
  },
  {
   "cell_type": "code",
   "execution_count": 8,
   "id": "f3b99064",
   "metadata": {},
   "outputs": [
    {
     "data": {
      "text/plain": [
       "age         0\n",
       "sex         0\n",
       "cp          0\n",
       "trestbps    0\n",
       "chol        0\n",
       "fbs         0\n",
       "restecg     0\n",
       "thalach     0\n",
       "exang       0\n",
       "oldpeak     0\n",
       "slope       0\n",
       "ca          0\n",
       "thal        0\n",
       "class       0\n",
       "dtype: int64"
      ]
     },
     "execution_count": 8,
     "metadata": {},
     "output_type": "execute_result"
    }
   ],
   "source": [
    "#find out number of NULL Values:\n",
    "HD.isna().sum()"
   ]
  },
  {
   "cell_type": "code",
   "execution_count": 9,
   "id": "c826e4ba",
   "metadata": {},
   "outputs": [
    {
     "data": {
      "text/html": [
       "<style  type=\"text/css\" >\n",
       "    #T_85ccc8e8_8038_11ed_9e74_9cb6d0e93358row0_col0 {\n",
       "            background-color:  #800026;\n",
       "            color:  #f1f1f1;\n",
       "        }    #T_85ccc8e8_8038_11ed_9e74_9cb6d0e93358row0_col1 {\n",
       "            background-color:  #fff3ae;\n",
       "            color:  #000000;\n",
       "        }    #T_85ccc8e8_8038_11ed_9e74_9cb6d0e93358row0_col2 {\n",
       "            background-color:  #febf5a;\n",
       "            color:  #000000;\n",
       "        }    #T_85ccc8e8_8038_11ed_9e74_9cb6d0e93358row0_col3 {\n",
       "            background-color:  #febf5a;\n",
       "            color:  #000000;\n",
       "        }    #T_85ccc8e8_8038_11ed_9e74_9cb6d0e93358row0_col4 {\n",
       "            background-color:  #febf5a;\n",
       "            color:  #000000;\n",
       "        }    #T_85ccc8e8_8038_11ed_9e74_9cb6d0e93358row0_col5 {\n",
       "            background-color:  #ffe58f;\n",
       "            color:  #000000;\n",
       "        }    #T_85ccc8e8_8038_11ed_9e74_9cb6d0e93358row0_col6 {\n",
       "            background-color:  #fee084;\n",
       "            color:  #000000;\n",
       "        }    #T_85ccc8e8_8038_11ed_9e74_9cb6d0e93358row0_col7 {\n",
       "            background-color:  #fffdc6;\n",
       "            color:  #000000;\n",
       "        }    #T_85ccc8e8_8038_11ed_9e74_9cb6d0e93358row0_col8 {\n",
       "            background-color:  #febb56;\n",
       "            color:  #000000;\n",
       "        }    #T_85ccc8e8_8038_11ed_9e74_9cb6d0e93358row0_col9 {\n",
       "            background-color:  #fea948;\n",
       "            color:  #000000;\n",
       "        }    #T_85ccc8e8_8038_11ed_9e74_9cb6d0e93358row0_col10 {\n",
       "            background-color:  #feac49;\n",
       "            color:  #000000;\n",
       "        }    #T_85ccc8e8_8038_11ed_9e74_9cb6d0e93358row0_col11 {\n",
       "            background-color:  #fd8e3c;\n",
       "            color:  #000000;\n",
       "        }    #T_85ccc8e8_8038_11ed_9e74_9cb6d0e93358row0_col12 {\n",
       "            background-color:  #fec561;\n",
       "            color:  #000000;\n",
       "        }    #T_85ccc8e8_8038_11ed_9e74_9cb6d0e93358row0_col13 {\n",
       "            background-color:  #fd9c42;\n",
       "            color:  #000000;\n",
       "        }    #T_85ccc8e8_8038_11ed_9e74_9cb6d0e93358row1_col0 {\n",
       "            background-color:  #fede82;\n",
       "            color:  #000000;\n",
       "        }    #T_85ccc8e8_8038_11ed_9e74_9cb6d0e93358row1_col1 {\n",
       "            background-color:  #800026;\n",
       "            color:  #f1f1f1;\n",
       "        }    #T_85ccc8e8_8038_11ed_9e74_9cb6d0e93358row1_col2 {\n",
       "            background-color:  #fed673;\n",
       "            color:  #000000;\n",
       "        }    #T_85ccc8e8_8038_11ed_9e74_9cb6d0e93358row1_col3 {\n",
       "            background-color:  #ffffcc;\n",
       "            color:  #000000;\n",
       "        }    #T_85ccc8e8_8038_11ed_9e74_9cb6d0e93358row1_col4 {\n",
       "            background-color:  #ffffcc;\n",
       "            color:  #000000;\n",
       "        }    #T_85ccc8e8_8038_11ed_9e74_9cb6d0e93358row1_col5 {\n",
       "            background-color:  #fff2ac;\n",
       "            color:  #000000;\n",
       "        }    #T_85ccc8e8_8038_11ed_9e74_9cb6d0e93358row1_col6 {\n",
       "            background-color:  #fff1a9;\n",
       "            color:  #000000;\n",
       "        }    #T_85ccc8e8_8038_11ed_9e74_9cb6d0e93358row1_col7 {\n",
       "            background-color:  #fed976;\n",
       "            color:  #000000;\n",
       "        }    #T_85ccc8e8_8038_11ed_9e74_9cb6d0e93358row1_col8 {\n",
       "            background-color:  #feb04b;\n",
       "            color:  #000000;\n",
       "        }    #T_85ccc8e8_8038_11ed_9e74_9cb6d0e93358row1_col9 {\n",
       "            background-color:  #febe59;\n",
       "            color:  #000000;\n",
       "        }    #T_85ccc8e8_8038_11ed_9e74_9cb6d0e93358row1_col10 {\n",
       "            background-color:  #fec965;\n",
       "            color:  #000000;\n",
       "        }    #T_85ccc8e8_8038_11ed_9e74_9cb6d0e93358row1_col11 {\n",
       "            background-color:  #fecf6b;\n",
       "            color:  #000000;\n",
       "        }    #T_85ccc8e8_8038_11ed_9e74_9cb6d0e93358row1_col12 {\n",
       "            background-color:  #fd8439;\n",
       "            color:  #000000;\n",
       "        }    #T_85ccc8e8_8038_11ed_9e74_9cb6d0e93358row1_col13 {\n",
       "            background-color:  #fd9a42;\n",
       "            color:  #000000;\n",
       "        }    #T_85ccc8e8_8038_11ed_9e74_9cb6d0e93358row2_col0 {\n",
       "            background-color:  #feb651;\n",
       "            color:  #000000;\n",
       "        }    #T_85ccc8e8_8038_11ed_9e74_9cb6d0e93358row2_col1 {\n",
       "            background-color:  #ffe590;\n",
       "            color:  #000000;\n",
       "        }    #T_85ccc8e8_8038_11ed_9e74_9cb6d0e93358row2_col2 {\n",
       "            background-color:  #800026;\n",
       "            color:  #f1f1f1;\n",
       "        }    #T_85ccc8e8_8038_11ed_9e74_9cb6d0e93358row2_col3 {\n",
       "            background-color:  #fffbc2;\n",
       "            color:  #000000;\n",
       "        }    #T_85ccc8e8_8038_11ed_9e74_9cb6d0e93358row2_col4 {\n",
       "            background-color:  #fedd7f;\n",
       "            color:  #000000;\n",
       "        }    #T_85ccc8e8_8038_11ed_9e74_9cb6d0e93358row2_col5 {\n",
       "            background-color:  #ffffcc;\n",
       "            color:  #000000;\n",
       "        }    #T_85ccc8e8_8038_11ed_9e74_9cb6d0e93358row2_col6 {\n",
       "            background-color:  #ffeda0;\n",
       "            color:  #000000;\n",
       "        }    #T_85ccc8e8_8038_11ed_9e74_9cb6d0e93358row2_col7 {\n",
       "            background-color:  #fff7b9;\n",
       "            color:  #000000;\n",
       "        }    #T_85ccc8e8_8038_11ed_9e74_9cb6d0e93358row2_col8 {\n",
       "            background-color:  #fd7435;\n",
       "            color:  #000000;\n",
       "        }    #T_85ccc8e8_8038_11ed_9e74_9cb6d0e93358row2_col9 {\n",
       "            background-color:  #fea848;\n",
       "            color:  #000000;\n",
       "        }    #T_85ccc8e8_8038_11ed_9e74_9cb6d0e93358row2_col10 {\n",
       "            background-color:  #feae4a;\n",
       "            color:  #000000;\n",
       "        }    #T_85ccc8e8_8038_11ed_9e74_9cb6d0e93358row2_col11 {\n",
       "            background-color:  #feac49;\n",
       "            color:  #000000;\n",
       "        }    #T_85ccc8e8_8038_11ed_9e74_9cb6d0e93358row2_col12 {\n",
       "            background-color:  #fea245;\n",
       "            color:  #000000;\n",
       "        }    #T_85ccc8e8_8038_11ed_9e74_9cb6d0e93358row2_col13 {\n",
       "            background-color:  #fc6430;\n",
       "            color:  #000000;\n",
       "        }    #T_85ccc8e8_8038_11ed_9e74_9cb6d0e93358row3_col0 {\n",
       "            background-color:  #fd903d;\n",
       "            color:  #000000;\n",
       "        }    #T_85ccc8e8_8038_11ed_9e74_9cb6d0e93358row3_col1 {\n",
       "            background-color:  #ffefa5;\n",
       "            color:  #000000;\n",
       "        }    #T_85ccc8e8_8038_11ed_9e74_9cb6d0e93358row3_col2 {\n",
       "            background-color:  #fedd7f;\n",
       "            color:  #000000;\n",
       "        }    #T_85ccc8e8_8038_11ed_9e74_9cb6d0e93358row3_col3 {\n",
       "            background-color:  #800026;\n",
       "            color:  #f1f1f1;\n",
       "        }    #T_85ccc8e8_8038_11ed_9e74_9cb6d0e93358row3_col4 {\n",
       "            background-color:  #fed16e;\n",
       "            color:  #000000;\n",
       "        }    #T_85ccc8e8_8038_11ed_9e74_9cb6d0e93358row3_col5 {\n",
       "            background-color:  #fedd7f;\n",
       "            color:  #000000;\n",
       "        }    #T_85ccc8e8_8038_11ed_9e74_9cb6d0e93358row3_col6 {\n",
       "            background-color:  #fee085;\n",
       "            color:  #000000;\n",
       "        }    #T_85ccc8e8_8038_11ed_9e74_9cb6d0e93358row3_col7 {\n",
       "            background-color:  #fed673;\n",
       "            color:  #000000;\n",
       "        }    #T_85ccc8e8_8038_11ed_9e74_9cb6d0e93358row3_col8 {\n",
       "            background-color:  #fec15d;\n",
       "            color:  #000000;\n",
       "        }    #T_85ccc8e8_8038_11ed_9e74_9cb6d0e93358row3_col9 {\n",
       "            background-color:  #feab49;\n",
       "            color:  #000000;\n",
       "        }    #T_85ccc8e8_8038_11ed_9e74_9cb6d0e93358row3_col10 {\n",
       "            background-color:  #feb44e;\n",
       "            color:  #000000;\n",
       "        }    #T_85ccc8e8_8038_11ed_9e74_9cb6d0e93358row3_col11 {\n",
       "            background-color:  #fece6a;\n",
       "            color:  #000000;\n",
       "        }    #T_85ccc8e8_8038_11ed_9e74_9cb6d0e93358row3_col12 {\n",
       "            background-color:  #fec35e;\n",
       "            color:  #000000;\n",
       "        }    #T_85ccc8e8_8038_11ed_9e74_9cb6d0e93358row3_col13 {\n",
       "            background-color:  #fea848;\n",
       "            color:  #000000;\n",
       "        }    #T_85ccc8e8_8038_11ed_9e74_9cb6d0e93358row4_col0 {\n",
       "            background-color:  #fea245;\n",
       "            color:  #000000;\n",
       "        }    #T_85ccc8e8_8038_11ed_9e74_9cb6d0e93358row4_col1 {\n",
       "            background-color:  #ffffcc;\n",
       "            color:  #000000;\n",
       "        }    #T_85ccc8e8_8038_11ed_9e74_9cb6d0e93358row4_col2 {\n",
       "            background-color:  #fec863;\n",
       "            color:  #000000;\n",
       "        }    #T_85ccc8e8_8038_11ed_9e74_9cb6d0e93358row4_col3 {\n",
       "            background-color:  #ffe48c;\n",
       "            color:  #000000;\n",
       "        }    #T_85ccc8e8_8038_11ed_9e74_9cb6d0e93358row4_col4 {\n",
       "            background-color:  #800026;\n",
       "            color:  #f1f1f1;\n",
       "        }    #T_85ccc8e8_8038_11ed_9e74_9cb6d0e93358row4_col5 {\n",
       "            background-color:  #fff5b5;\n",
       "            color:  #000000;\n",
       "        }    #T_85ccc8e8_8038_11ed_9e74_9cb6d0e93358row4_col6 {\n",
       "            background-color:  #fede80;\n",
       "            color:  #000000;\n",
       "        }    #T_85ccc8e8_8038_11ed_9e74_9cb6d0e93358row4_col7 {\n",
       "            background-color:  #fecb67;\n",
       "            color:  #000000;\n",
       "        }    #T_85ccc8e8_8038_11ed_9e74_9cb6d0e93358row4_col8 {\n",
       "            background-color:  #fec35e;\n",
       "            color:  #000000;\n",
       "        }    #T_85ccc8e8_8038_11ed_9e74_9cb6d0e93358row4_col9 {\n",
       "            background-color:  #fece6a;\n",
       "            color:  #000000;\n",
       "        }    #T_85ccc8e8_8038_11ed_9e74_9cb6d0e93358row4_col10 {\n",
       "            background-color:  #fed16e;\n",
       "            color:  #000000;\n",
       "        }    #T_85ccc8e8_8038_11ed_9e74_9cb6d0e93358row4_col11 {\n",
       "            background-color:  #fec965;\n",
       "            color:  #000000;\n",
       "        }    #T_85ccc8e8_8038_11ed_9e74_9cb6d0e93358row4_col12 {\n",
       "            background-color:  #fedd7f;\n",
       "            color:  #000000;\n",
       "        }    #T_85ccc8e8_8038_11ed_9e74_9cb6d0e93358row4_col13 {\n",
       "            background-color:  #febd57;\n",
       "            color:  #000000;\n",
       "        }    #T_85ccc8e8_8038_11ed_9e74_9cb6d0e93358row5_col0 {\n",
       "            background-color:  #feb24c;\n",
       "            color:  #000000;\n",
       "        }    #T_85ccc8e8_8038_11ed_9e74_9cb6d0e93358row5_col1 {\n",
       "            background-color:  #fee288;\n",
       "            color:  #000000;\n",
       "        }    #T_85ccc8e8_8038_11ed_9e74_9cb6d0e93358row5_col2 {\n",
       "            background-color:  #fee084;\n",
       "            color:  #000000;\n",
       "        }    #T_85ccc8e8_8038_11ed_9e74_9cb6d0e93358row5_col3 {\n",
       "            background-color:  #fedc7c;\n",
       "            color:  #000000;\n",
       "        }    #T_85ccc8e8_8038_11ed_9e74_9cb6d0e93358row5_col4 {\n",
       "            background-color:  #ffe58f;\n",
       "            color:  #000000;\n",
       "        }    #T_85ccc8e8_8038_11ed_9e74_9cb6d0e93358row5_col5 {\n",
       "            background-color:  #800026;\n",
       "            color:  #f1f1f1;\n",
       "        }    #T_85ccc8e8_8038_11ed_9e74_9cb6d0e93358row5_col6 {\n",
       "            background-color:  #ffec9f;\n",
       "            color:  #000000;\n",
       "        }    #T_85ccc8e8_8038_11ed_9e74_9cb6d0e93358row5_col7 {\n",
       "            background-color:  #fecc68;\n",
       "            color:  #000000;\n",
       "        }    #T_85ccc8e8_8038_11ed_9e74_9cb6d0e93358row5_col8 {\n",
       "            background-color:  #fed16e;\n",
       "            color:  #000000;\n",
       "        }    #T_85ccc8e8_8038_11ed_9e74_9cb6d0e93358row5_col9 {\n",
       "            background-color:  #fed572;\n",
       "            color:  #000000;\n",
       "        }    #T_85ccc8e8_8038_11ed_9e74_9cb6d0e93358row5_col10 {\n",
       "            background-color:  #fec561;\n",
       "            color:  #000000;\n",
       "        }    #T_85ccc8e8_8038_11ed_9e74_9cb6d0e93358row5_col11 {\n",
       "            background-color:  #fec05b;\n",
       "            color:  #000000;\n",
       "        }    #T_85ccc8e8_8038_11ed_9e74_9cb6d0e93358row5_col12 {\n",
       "            background-color:  #fed572;\n",
       "            color:  #000000;\n",
       "        }    #T_85ccc8e8_8038_11ed_9e74_9cb6d0e93358row5_col13 {\n",
       "            background-color:  #fec05b;\n",
       "            color:  #000000;\n",
       "        }    #T_85ccc8e8_8038_11ed_9e74_9cb6d0e93358row6_col0 {\n",
       "            background-color:  #feae4a;\n",
       "            color:  #000000;\n",
       "        }    #T_85ccc8e8_8038_11ed_9e74_9cb6d0e93358row6_col1 {\n",
       "            background-color:  #fee289;\n",
       "            color:  #000000;\n",
       "        }    #T_85ccc8e8_8038_11ed_9e74_9cb6d0e93358row6_col2 {\n",
       "            background-color:  #fec965;\n",
       "            color:  #000000;\n",
       "        }    #T_85ccc8e8_8038_11ed_9e74_9cb6d0e93358row6_col3 {\n",
       "            background-color:  #fee187;\n",
       "            color:  #000000;\n",
       "        }    #T_85ccc8e8_8038_11ed_9e74_9cb6d0e93358row6_col4 {\n",
       "            background-color:  #fec965;\n",
       "            color:  #000000;\n",
       "        }    #T_85ccc8e8_8038_11ed_9e74_9cb6d0e93358row6_col5 {\n",
       "            background-color:  #ffeea3;\n",
       "            color:  #000000;\n",
       "        }    #T_85ccc8e8_8038_11ed_9e74_9cb6d0e93358row6_col6 {\n",
       "            background-color:  #800026;\n",
       "            color:  #f1f1f1;\n",
       "        }    #T_85ccc8e8_8038_11ed_9e74_9cb6d0e93358row6_col7 {\n",
       "            background-color:  #feda78;\n",
       "            color:  #000000;\n",
       "        }    #T_85ccc8e8_8038_11ed_9e74_9cb6d0e93358row6_col8 {\n",
       "            background-color:  #febe59;\n",
       "            color:  #000000;\n",
       "        }    #T_85ccc8e8_8038_11ed_9e74_9cb6d0e93358row6_col9 {\n",
       "            background-color:  #febd57;\n",
       "            color:  #000000;\n",
       "        }    #T_85ccc8e8_8038_11ed_9e74_9cb6d0e93358row6_col10 {\n",
       "            background-color:  #feb24c;\n",
       "            color:  #000000;\n",
       "        }    #T_85ccc8e8_8038_11ed_9e74_9cb6d0e93358row6_col11 {\n",
       "            background-color:  #fec561;\n",
       "            color:  #000000;\n",
       "        }    #T_85ccc8e8_8038_11ed_9e74_9cb6d0e93358row6_col12 {\n",
       "            background-color:  #fedd7e;\n",
       "            color:  #000000;\n",
       "        }    #T_85ccc8e8_8038_11ed_9e74_9cb6d0e93358row6_col13 {\n",
       "            background-color:  #fea446;\n",
       "            color:  #000000;\n",
       "        }    #T_85ccc8e8_8038_11ed_9e74_9cb6d0e93358row7_col0 {\n",
       "            background-color:  #ffffcc;\n",
       "            color:  #000000;\n",
       "        }    #T_85ccc8e8_8038_11ed_9e74_9cb6d0e93358row7_col1 {\n",
       "            background-color:  #ffefa4;\n",
       "            color:  #000000;\n",
       "        }    #T_85ccc8e8_8038_11ed_9e74_9cb6d0e93358row7_col2 {\n",
       "            background-color:  #ffffcc;\n",
       "            color:  #000000;\n",
       "        }    #T_85ccc8e8_8038_11ed_9e74_9cb6d0e93358row7_col3 {\n",
       "            background-color:  #fffdc6;\n",
       "            color:  #000000;\n",
       "        }    #T_85ccc8e8_8038_11ed_9e74_9cb6d0e93358row7_col4 {\n",
       "            background-color:  #ffe793;\n",
       "            color:  #000000;\n",
       "        }    #T_85ccc8e8_8038_11ed_9e74_9cb6d0e93358row7_col5 {\n",
       "            background-color:  #fff8bb;\n",
       "            color:  #000000;\n",
       "        }    #T_85ccc8e8_8038_11ed_9e74_9cb6d0e93358row7_col6 {\n",
       "            background-color:  #ffffcc;\n",
       "            color:  #000000;\n",
       "        }    #T_85ccc8e8_8038_11ed_9e74_9cb6d0e93358row7_col7 {\n",
       "            background-color:  #800026;\n",
       "            color:  #f1f1f1;\n",
       "        }    #T_85ccc8e8_8038_11ed_9e74_9cb6d0e93358row7_col8 {\n",
       "            background-color:  #ffffcc;\n",
       "            color:  #000000;\n",
       "        }    #T_85ccc8e8_8038_11ed_9e74_9cb6d0e93358row7_col9 {\n",
       "            background-color:  #ffffcc;\n",
       "            color:  #000000;\n",
       "        }    #T_85ccc8e8_8038_11ed_9e74_9cb6d0e93358row7_col10 {\n",
       "            background-color:  #ffffcc;\n",
       "            color:  #000000;\n",
       "        }    #T_85ccc8e8_8038_11ed_9e74_9cb6d0e93358row7_col11 {\n",
       "            background-color:  #ffffcc;\n",
       "            color:  #000000;\n",
       "        }    #T_85ccc8e8_8038_11ed_9e74_9cb6d0e93358row7_col12 {\n",
       "            background-color:  #ffffcc;\n",
       "            color:  #000000;\n",
       "        }    #T_85ccc8e8_8038_11ed_9e74_9cb6d0e93358row7_col13 {\n",
       "            background-color:  #ffffcc;\n",
       "            color:  #000000;\n",
       "        }    #T_85ccc8e8_8038_11ed_9e74_9cb6d0e93358row8_col0 {\n",
       "            background-color:  #feb953;\n",
       "            color:  #000000;\n",
       "        }    #T_85ccc8e8_8038_11ed_9e74_9cb6d0e93358row8_col1 {\n",
       "            background-color:  #fece6a;\n",
       "            color:  #000000;\n",
       "        }    #T_85ccc8e8_8038_11ed_9e74_9cb6d0e93358row8_col2 {\n",
       "            background-color:  #fd7a37;\n",
       "            color:  #000000;\n",
       "        }    #T_85ccc8e8_8038_11ed_9e74_9cb6d0e93358row8_col3 {\n",
       "            background-color:  #ffeda1;\n",
       "            color:  #000000;\n",
       "        }    #T_85ccc8e8_8038_11ed_9e74_9cb6d0e93358row8_col4 {\n",
       "            background-color:  #fede82;\n",
       "            color:  #000000;\n",
       "        }    #T_85ccc8e8_8038_11ed_9e74_9cb6d0e93358row8_col5 {\n",
       "            background-color:  #fff8ba;\n",
       "            color:  #000000;\n",
       "        }    #T_85ccc8e8_8038_11ed_9e74_9cb6d0e93358row8_col6 {\n",
       "            background-color:  #ffea9b;\n",
       "            color:  #000000;\n",
       "        }    #T_85ccc8e8_8038_11ed_9e74_9cb6d0e93358row8_col7 {\n",
       "            background-color:  #fffcc4;\n",
       "            color:  #000000;\n",
       "        }    #T_85ccc8e8_8038_11ed_9e74_9cb6d0e93358row8_col8 {\n",
       "            background-color:  #800026;\n",
       "            color:  #f1f1f1;\n",
       "        }    #T_85ccc8e8_8038_11ed_9e74_9cb6d0e93358row8_col9 {\n",
       "            background-color:  #fd9640;\n",
       "            color:  #000000;\n",
       "        }    #T_85ccc8e8_8038_11ed_9e74_9cb6d0e93358row8_col10 {\n",
       "            background-color:  #fd9941;\n",
       "            color:  #000000;\n",
       "        }    #T_85ccc8e8_8038_11ed_9e74_9cb6d0e93358row8_col11 {\n",
       "            background-color:  #fec05b;\n",
       "            color:  #000000;\n",
       "        }    #T_85ccc8e8_8038_11ed_9e74_9cb6d0e93358row8_col12 {\n",
       "            background-color:  #fd9640;\n",
       "            color:  #000000;\n",
       "        }    #T_85ccc8e8_8038_11ed_9e74_9cb6d0e93358row8_col13 {\n",
       "            background-color:  #fc6832;\n",
       "            color:  #000000;\n",
       "        }    #T_85ccc8e8_8038_11ed_9e74_9cb6d0e93358row9_col0 {\n",
       "            background-color:  #fea446;\n",
       "            color:  #000000;\n",
       "        }    #T_85ccc8e8_8038_11ed_9e74_9cb6d0e93358row9_col1 {\n",
       "            background-color:  #fed774;\n",
       "            color:  #000000;\n",
       "        }    #T_85ccc8e8_8038_11ed_9e74_9cb6d0e93358row9_col2 {\n",
       "            background-color:  #fea948;\n",
       "            color:  #000000;\n",
       "        }    #T_85ccc8e8_8038_11ed_9e74_9cb6d0e93358row9_col3 {\n",
       "            background-color:  #fedb7a;\n",
       "            color:  #000000;\n",
       "        }    #T_85ccc8e8_8038_11ed_9e74_9cb6d0e93358row9_col4 {\n",
       "            background-color:  #fee288;\n",
       "            color:  #000000;\n",
       "        }    #T_85ccc8e8_8038_11ed_9e74_9cb6d0e93358row9_col5 {\n",
       "            background-color:  #fff7b7;\n",
       "            color:  #000000;\n",
       "        }    #T_85ccc8e8_8038_11ed_9e74_9cb6d0e93358row9_col6 {\n",
       "            background-color:  #ffe590;\n",
       "            color:  #000000;\n",
       "        }    #T_85ccc8e8_8038_11ed_9e74_9cb6d0e93358row9_col7 {\n",
       "            background-color:  #fff8ba;\n",
       "            color:  #000000;\n",
       "        }    #T_85ccc8e8_8038_11ed_9e74_9cb6d0e93358row9_col8 {\n",
       "            background-color:  #fd913e;\n",
       "            color:  #000000;\n",
       "        }    #T_85ccc8e8_8038_11ed_9e74_9cb6d0e93358row9_col9 {\n",
       "            background-color:  #800026;\n",
       "            color:  #f1f1f1;\n",
       "        }    #T_85ccc8e8_8038_11ed_9e74_9cb6d0e93358row9_col10 {\n",
       "            background-color:  #ed3022;\n",
       "            color:  #f1f1f1;\n",
       "        }    #T_85ccc8e8_8038_11ed_9e74_9cb6d0e93358row9_col11 {\n",
       "            background-color:  #fd9e43;\n",
       "            color:  #000000;\n",
       "        }    #T_85ccc8e8_8038_11ed_9e74_9cb6d0e93358row9_col12 {\n",
       "            background-color:  #fd913e;\n",
       "            color:  #000000;\n",
       "        }    #T_85ccc8e8_8038_11ed_9e74_9cb6d0e93358row9_col13 {\n",
       "            background-color:  #f74327;\n",
       "            color:  #f1f1f1;\n",
       "        }    #T_85ccc8e8_8038_11ed_9e74_9cb6d0e93358row10_col0 {\n",
       "            background-color:  #feac49;\n",
       "            color:  #000000;\n",
       "        }    #T_85ccc8e8_8038_11ed_9e74_9cb6d0e93358row10_col1 {\n",
       "            background-color:  #fee289;\n",
       "            color:  #000000;\n",
       "        }    #T_85ccc8e8_8038_11ed_9e74_9cb6d0e93358row10_col2 {\n",
       "            background-color:  #feb54f;\n",
       "            color:  #000000;\n",
       "        }    #T_85ccc8e8_8038_11ed_9e74_9cb6d0e93358row10_col3 {\n",
       "            background-color:  #ffe58f;\n",
       "            color:  #000000;\n",
       "        }    #T_85ccc8e8_8038_11ed_9e74_9cb6d0e93358row10_col4 {\n",
       "            background-color:  #ffe895;\n",
       "            color:  #000000;\n",
       "        }    #T_85ccc8e8_8038_11ed_9e74_9cb6d0e93358row10_col5 {\n",
       "            background-color:  #fff1a9;\n",
       "            color:  #000000;\n",
       "        }    #T_85ccc8e8_8038_11ed_9e74_9cb6d0e93358row10_col6 {\n",
       "            background-color:  #fee289;\n",
       "            color:  #000000;\n",
       "        }    #T_85ccc8e8_8038_11ed_9e74_9cb6d0e93358row10_col7 {\n",
       "            background-color:  #fffcc5;\n",
       "            color:  #000000;\n",
       "        }    #T_85ccc8e8_8038_11ed_9e74_9cb6d0e93358row10_col8 {\n",
       "            background-color:  #fd9941;\n",
       "            color:  #000000;\n",
       "        }    #T_85ccc8e8_8038_11ed_9e74_9cb6d0e93358row10_col9 {\n",
       "            background-color:  #ef3323;\n",
       "            color:  #f1f1f1;\n",
       "        }    #T_85ccc8e8_8038_11ed_9e74_9cb6d0e93358row10_col10 {\n",
       "            background-color:  #800026;\n",
       "            color:  #f1f1f1;\n",
       "        }    #T_85ccc8e8_8038_11ed_9e74_9cb6d0e93358row10_col11 {\n",
       "            background-color:  #feca66;\n",
       "            color:  #000000;\n",
       "        }    #T_85ccc8e8_8038_11ed_9e74_9cb6d0e93358row10_col12 {\n",
       "            background-color:  #fea044;\n",
       "            color:  #000000;\n",
       "        }    #T_85ccc8e8_8038_11ed_9e74_9cb6d0e93358row10_col13 {\n",
       "            background-color:  #fd6e33;\n",
       "            color:  #000000;\n",
       "        }    #T_85ccc8e8_8038_11ed_9e74_9cb6d0e93358row11_col0 {\n",
       "            background-color:  #fd7836;\n",
       "            color:  #000000;\n",
       "        }    #T_85ccc8e8_8038_11ed_9e74_9cb6d0e93358row11_col1 {\n",
       "            background-color:  #fedb7a;\n",
       "            color:  #000000;\n",
       "        }    #T_85ccc8e8_8038_11ed_9e74_9cb6d0e93358row11_col2 {\n",
       "            background-color:  #fea245;\n",
       "            color:  #000000;\n",
       "        }    #T_85ccc8e8_8038_11ed_9e74_9cb6d0e93358row11_col3 {\n",
       "            background-color:  #ffe997;\n",
       "            color:  #000000;\n",
       "        }    #T_85ccc8e8_8038_11ed_9e74_9cb6d0e93358row11_col4 {\n",
       "            background-color:  #fed572;\n",
       "            color:  #000000;\n",
       "        }    #T_85ccc8e8_8038_11ed_9e74_9cb6d0e93358row11_col5 {\n",
       "            background-color:  #fee288;\n",
       "            color:  #000000;\n",
       "        }    #T_85ccc8e8_8038_11ed_9e74_9cb6d0e93358row11_col6 {\n",
       "            background-color:  #fee38b;\n",
       "            color:  #000000;\n",
       "        }    #T_85ccc8e8_8038_11ed_9e74_9cb6d0e93358row11_col7 {\n",
       "            background-color:  #fff0a7;\n",
       "            color:  #000000;\n",
       "        }    #T_85ccc8e8_8038_11ed_9e74_9cb6d0e93358row11_col8 {\n",
       "            background-color:  #feaf4b;\n",
       "            color:  #000000;\n",
       "        }    #T_85ccc8e8_8038_11ed_9e74_9cb6d0e93358row11_col9 {\n",
       "            background-color:  #fd953f;\n",
       "            color:  #000000;\n",
       "        }    #T_85ccc8e8_8038_11ed_9e74_9cb6d0e93358row11_col10 {\n",
       "            background-color:  #feb852;\n",
       "            color:  #000000;\n",
       "        }    #T_85ccc8e8_8038_11ed_9e74_9cb6d0e93358row11_col11 {\n",
       "            background-color:  #800026;\n",
       "            color:  #f1f1f1;\n",
       "        }    #T_85ccc8e8_8038_11ed_9e74_9cb6d0e93358row11_col12 {\n",
       "            background-color:  #fea647;\n",
       "            color:  #000000;\n",
       "        }    #T_85ccc8e8_8038_11ed_9e74_9cb6d0e93358row11_col13 {\n",
       "            background-color:  #f43e26;\n",
       "            color:  #f1f1f1;\n",
       "        }    #T_85ccc8e8_8038_11ed_9e74_9cb6d0e93358row12_col0 {\n",
       "            background-color:  #feb34d;\n",
       "            color:  #000000;\n",
       "        }    #T_85ccc8e8_8038_11ed_9e74_9cb6d0e93358row12_col1 {\n",
       "            background-color:  #fd913e;\n",
       "            color:  #000000;\n",
       "        }    #T_85ccc8e8_8038_11ed_9e74_9cb6d0e93358row12_col2 {\n",
       "            background-color:  #fd9a42;\n",
       "            color:  #000000;\n",
       "        }    #T_85ccc8e8_8038_11ed_9e74_9cb6d0e93358row12_col3 {\n",
       "            background-color:  #fee289;\n",
       "            color:  #000000;\n",
       "        }    #T_85ccc8e8_8038_11ed_9e74_9cb6d0e93358row12_col4 {\n",
       "            background-color:  #ffe590;\n",
       "            color:  #000000;\n",
       "        }    #T_85ccc8e8_8038_11ed_9e74_9cb6d0e93358row12_col5 {\n",
       "            background-color:  #ffefa4;\n",
       "            color:  #000000;\n",
       "        }    #T_85ccc8e8_8038_11ed_9e74_9cb6d0e93358row12_col6 {\n",
       "            background-color:  #fff3af;\n",
       "            color:  #000000;\n",
       "        }    #T_85ccc8e8_8038_11ed_9e74_9cb6d0e93358row12_col7 {\n",
       "            background-color:  #fff0a8;\n",
       "            color:  #000000;\n",
       "        }    #T_85ccc8e8_8038_11ed_9e74_9cb6d0e93358row12_col8 {\n",
       "            background-color:  #fd863a;\n",
       "            color:  #000000;\n",
       "        }    #T_85ccc8e8_8038_11ed_9e74_9cb6d0e93358row12_col9 {\n",
       "            background-color:  #fd863a;\n",
       "            color:  #000000;\n",
       "        }    #T_85ccc8e8_8038_11ed_9e74_9cb6d0e93358row12_col10 {\n",
       "            background-color:  #fd923e;\n",
       "            color:  #000000;\n",
       "        }    #T_85ccc8e8_8038_11ed_9e74_9cb6d0e93358row12_col11 {\n",
       "            background-color:  #fea747;\n",
       "            color:  #000000;\n",
       "        }    #T_85ccc8e8_8038_11ed_9e74_9cb6d0e93358row12_col12 {\n",
       "            background-color:  #800026;\n",
       "            color:  #f1f1f1;\n",
       "        }    #T_85ccc8e8_8038_11ed_9e74_9cb6d0e93358row12_col13 {\n",
       "            background-color:  #f54026;\n",
       "            color:  #f1f1f1;\n",
       "        }    #T_85ccc8e8_8038_11ed_9e74_9cb6d0e93358row13_col0 {\n",
       "            background-color:  #fd9e43;\n",
       "            color:  #000000;\n",
       "        }    #T_85ccc8e8_8038_11ed_9e74_9cb6d0e93358row13_col1 {\n",
       "            background-color:  #feb953;\n",
       "            color:  #000000;\n",
       "        }    #T_85ccc8e8_8038_11ed_9e74_9cb6d0e93358row13_col2 {\n",
       "            background-color:  #fd7034;\n",
       "            color:  #000000;\n",
       "        }    #T_85ccc8e8_8038_11ed_9e74_9cb6d0e93358row13_col3 {\n",
       "            background-color:  #fedf83;\n",
       "            color:  #000000;\n",
       "        }    #T_85ccc8e8_8038_11ed_9e74_9cb6d0e93358row13_col4 {\n",
       "            background-color:  #fede80;\n",
       "            color:  #000000;\n",
       "        }    #T_85ccc8e8_8038_11ed_9e74_9cb6d0e93358row13_col5 {\n",
       "            background-color:  #fff1a9;\n",
       "            color:  #000000;\n",
       "        }    #T_85ccc8e8_8038_11ed_9e74_9cb6d0e93358row13_col6 {\n",
       "            background-color:  #fedb7a;\n",
       "            color:  #000000;\n",
       "        }    #T_85ccc8e8_8038_11ed_9e74_9cb6d0e93358row13_col7 {\n",
       "            background-color:  #ffffcc;\n",
       "            color:  #000000;\n",
       "        }    #T_85ccc8e8_8038_11ed_9e74_9cb6d0e93358row13_col8 {\n",
       "            background-color:  #fd6e33;\n",
       "            color:  #000000;\n",
       "        }    #T_85ccc8e8_8038_11ed_9e74_9cb6d0e93358row13_col9 {\n",
       "            background-color:  #fb4b29;\n",
       "            color:  #000000;\n",
       "        }    #T_85ccc8e8_8038_11ed_9e74_9cb6d0e93358row13_col10 {\n",
       "            background-color:  #fd7435;\n",
       "            color:  #000000;\n",
       "        }    #T_85ccc8e8_8038_11ed_9e74_9cb6d0e93358row13_col11 {\n",
       "            background-color:  #fc4f2a;\n",
       "            color:  #000000;\n",
       "        }    #T_85ccc8e8_8038_11ed_9e74_9cb6d0e93358row13_col12 {\n",
       "            background-color:  #fc512b;\n",
       "            color:  #000000;\n",
       "        }    #T_85ccc8e8_8038_11ed_9e74_9cb6d0e93358row13_col13 {\n",
       "            background-color:  #800026;\n",
       "            color:  #f1f1f1;\n",
       "        }</style><table id=\"T_85ccc8e8_8038_11ed_9e74_9cb6d0e93358\" ><thead>    <tr>        <th class=\"blank level0\" ></th>        <th class=\"col_heading level0 col0\" >age</th>        <th class=\"col_heading level0 col1\" >sex</th>        <th class=\"col_heading level0 col2\" >cp</th>        <th class=\"col_heading level0 col3\" >trestbps</th>        <th class=\"col_heading level0 col4\" >chol</th>        <th class=\"col_heading level0 col5\" >fbs</th>        <th class=\"col_heading level0 col6\" >restecg</th>        <th class=\"col_heading level0 col7\" >thalach</th>        <th class=\"col_heading level0 col8\" >exang</th>        <th class=\"col_heading level0 col9\" >oldpeak</th>        <th class=\"col_heading level0 col10\" >slope</th>        <th class=\"col_heading level0 col11\" >ca</th>        <th class=\"col_heading level0 col12\" >thal</th>        <th class=\"col_heading level0 col13\" >class</th>    </tr></thead><tbody>\n",
       "                <tr>\n",
       "                        <th id=\"T_85ccc8e8_8038_11ed_9e74_9cb6d0e93358level0_row0\" class=\"row_heading level0 row0\" >age</th>\n",
       "                        <td id=\"T_85ccc8e8_8038_11ed_9e74_9cb6d0e93358row0_col0\" class=\"data row0 col0\" >1.000000</td>\n",
       "                        <td id=\"T_85ccc8e8_8038_11ed_9e74_9cb6d0e93358row0_col1\" class=\"data row0 col1\" >-0.092399</td>\n",
       "                        <td id=\"T_85ccc8e8_8038_11ed_9e74_9cb6d0e93358row0_col2\" class=\"data row0 col2\" >0.110471</td>\n",
       "                        <td id=\"T_85ccc8e8_8038_11ed_9e74_9cb6d0e93358row0_col3\" class=\"data row0 col3\" >0.290476</td>\n",
       "                        <td id=\"T_85ccc8e8_8038_11ed_9e74_9cb6d0e93358row0_col4\" class=\"data row0 col4\" >0.202644</td>\n",
       "                        <td id=\"T_85ccc8e8_8038_11ed_9e74_9cb6d0e93358row0_col5\" class=\"data row0 col5\" >0.132062</td>\n",
       "                        <td id=\"T_85ccc8e8_8038_11ed_9e74_9cb6d0e93358row0_col6\" class=\"data row0 col6\" >0.149917</td>\n",
       "                        <td id=\"T_85ccc8e8_8038_11ed_9e74_9cb6d0e93358row0_col7\" class=\"data row0 col7\" >-0.394563</td>\n",
       "                        <td id=\"T_85ccc8e8_8038_11ed_9e74_9cb6d0e93358row0_col8\" class=\"data row0 col8\" >0.096489</td>\n",
       "                        <td id=\"T_85ccc8e8_8038_11ed_9e74_9cb6d0e93358row0_col9\" class=\"data row0 col9\" >0.197123</td>\n",
       "                        <td id=\"T_85ccc8e8_8038_11ed_9e74_9cb6d0e93358row0_col10\" class=\"data row0 col10\" >0.159405</td>\n",
       "                        <td id=\"T_85ccc8e8_8038_11ed_9e74_9cb6d0e93358row0_col11\" class=\"data row0 col11\" >0.362210</td>\n",
       "                        <td id=\"T_85ccc8e8_8038_11ed_9e74_9cb6d0e93358row0_col12\" class=\"data row0 col12\" >0.126586</td>\n",
       "                        <td id=\"T_85ccc8e8_8038_11ed_9e74_9cb6d0e93358row0_col13\" class=\"data row0 col13\" >0.222156</td>\n",
       "            </tr>\n",
       "            <tr>\n",
       "                        <th id=\"T_85ccc8e8_8038_11ed_9e74_9cb6d0e93358level0_row1\" class=\"row_heading level0 row1\" >sex</th>\n",
       "                        <td id=\"T_85ccc8e8_8038_11ed_9e74_9cb6d0e93358row1_col0\" class=\"data row1 col0\" >-0.092399</td>\n",
       "                        <td id=\"T_85ccc8e8_8038_11ed_9e74_9cb6d0e93358row1_col1\" class=\"data row1 col1\" >1.000000</td>\n",
       "                        <td id=\"T_85ccc8e8_8038_11ed_9e74_9cb6d0e93358row1_col2\" class=\"data row1 col2\" >0.008908</td>\n",
       "                        <td id=\"T_85ccc8e8_8038_11ed_9e74_9cb6d0e93358row1_col3\" class=\"data row1 col3\" >-0.066340</td>\n",
       "                        <td id=\"T_85ccc8e8_8038_11ed_9e74_9cb6d0e93358row1_col4\" class=\"data row1 col4\" >-0.198089</td>\n",
       "                        <td id=\"T_85ccc8e8_8038_11ed_9e74_9cb6d0e93358row1_col5\" class=\"data row1 col5\" >0.038850</td>\n",
       "                        <td id=\"T_85ccc8e8_8038_11ed_9e74_9cb6d0e93358row1_col6\" class=\"data row1 col6\" >0.033897</td>\n",
       "                        <td id=\"T_85ccc8e8_8038_11ed_9e74_9cb6d0e93358row1_col7\" class=\"data row1 col7\" >-0.060496</td>\n",
       "                        <td id=\"T_85ccc8e8_8038_11ed_9e74_9cb6d0e93358row1_col8\" class=\"data row1 col8\" >0.143581</td>\n",
       "                        <td id=\"T_85ccc8e8_8038_11ed_9e74_9cb6d0e93358row1_col9\" class=\"data row1 col9\" >0.106567</td>\n",
       "                        <td id=\"T_85ccc8e8_8038_11ed_9e74_9cb6d0e93358row1_col10\" class=\"data row1 col10\" >0.033345</td>\n",
       "                        <td id=\"T_85ccc8e8_8038_11ed_9e74_9cb6d0e93358row1_col11\" class=\"data row1 col11\" >0.091925</td>\n",
       "                        <td id=\"T_85ccc8e8_8038_11ed_9e74_9cb6d0e93358row1_col12\" class=\"data row1 col12\" >0.383652</td>\n",
       "                        <td id=\"T_85ccc8e8_8038_11ed_9e74_9cb6d0e93358row1_col13\" class=\"data row1 col13\" >0.226797</td>\n",
       "            </tr>\n",
       "            <tr>\n",
       "                        <th id=\"T_85ccc8e8_8038_11ed_9e74_9cb6d0e93358level0_row2\" class=\"row_heading level0 row2\" >cp</th>\n",
       "                        <td id=\"T_85ccc8e8_8038_11ed_9e74_9cb6d0e93358row2_col0\" class=\"data row2 col0\" >0.110471</td>\n",
       "                        <td id=\"T_85ccc8e8_8038_11ed_9e74_9cb6d0e93358row2_col1\" class=\"data row2 col1\" >0.008908</td>\n",
       "                        <td id=\"T_85ccc8e8_8038_11ed_9e74_9cb6d0e93358row2_col2\" class=\"data row2 col2\" >1.000000</td>\n",
       "                        <td id=\"T_85ccc8e8_8038_11ed_9e74_9cb6d0e93358row2_col3\" class=\"data row2 col3\" >-0.036980</td>\n",
       "                        <td id=\"T_85ccc8e8_8038_11ed_9e74_9cb6d0e93358row2_col4\" class=\"data row2 col4\" >0.072088</td>\n",
       "                        <td id=\"T_85ccc8e8_8038_11ed_9e74_9cb6d0e93358row2_col5\" class=\"data row2 col5\" >-0.057663</td>\n",
       "                        <td id=\"T_85ccc8e8_8038_11ed_9e74_9cb6d0e93358row2_col6\" class=\"data row2 col6\" >0.063905</td>\n",
       "                        <td id=\"T_85ccc8e8_8038_11ed_9e74_9cb6d0e93358row2_col7\" class=\"data row2 col7\" >-0.339308</td>\n",
       "                        <td id=\"T_85ccc8e8_8038_11ed_9e74_9cb6d0e93358row2_col8\" class=\"data row2 col8\" >0.377525</td>\n",
       "                        <td id=\"T_85ccc8e8_8038_11ed_9e74_9cb6d0e93358row2_col9\" class=\"data row2 col9\" >0.203244</td>\n",
       "                        <td id=\"T_85ccc8e8_8038_11ed_9e74_9cb6d0e93358row2_col10\" class=\"data row2 col10\" >0.151079</td>\n",
       "                        <td id=\"T_85ccc8e8_8038_11ed_9e74_9cb6d0e93358row2_col11\" class=\"data row2 col11\" >0.235644</td>\n",
       "                        <td id=\"T_85ccc8e8_8038_11ed_9e74_9cb6d0e93358row2_col12\" class=\"data row2 col12\" >0.268500</td>\n",
       "                        <td id=\"T_85ccc8e8_8038_11ed_9e74_9cb6d0e93358row2_col13\" class=\"data row2 col13\" >0.404248</td>\n",
       "            </tr>\n",
       "            <tr>\n",
       "                        <th id=\"T_85ccc8e8_8038_11ed_9e74_9cb6d0e93358level0_row3\" class=\"row_heading level0 row3\" >trestbps</th>\n",
       "                        <td id=\"T_85ccc8e8_8038_11ed_9e74_9cb6d0e93358row3_col0\" class=\"data row3 col0\" >0.290476</td>\n",
       "                        <td id=\"T_85ccc8e8_8038_11ed_9e74_9cb6d0e93358row3_col1\" class=\"data row3 col1\" >-0.066340</td>\n",
       "                        <td id=\"T_85ccc8e8_8038_11ed_9e74_9cb6d0e93358row3_col2\" class=\"data row3 col2\" >-0.036980</td>\n",
       "                        <td id=\"T_85ccc8e8_8038_11ed_9e74_9cb6d0e93358row3_col3\" class=\"data row3 col3\" >1.000000</td>\n",
       "                        <td id=\"T_85ccc8e8_8038_11ed_9e74_9cb6d0e93358row3_col4\" class=\"data row3 col4\" >0.131536</td>\n",
       "                        <td id=\"T_85ccc8e8_8038_11ed_9e74_9cb6d0e93358row3_col5\" class=\"data row3 col5\" >0.180860</td>\n",
       "                        <td id=\"T_85ccc8e8_8038_11ed_9e74_9cb6d0e93358row3_col6\" class=\"data row3 col6\" >0.149242</td>\n",
       "                        <td id=\"T_85ccc8e8_8038_11ed_9e74_9cb6d0e93358row3_col7\" class=\"data row3 col7\" >-0.049108</td>\n",
       "                        <td id=\"T_85ccc8e8_8038_11ed_9e74_9cb6d0e93358row3_col8\" class=\"data row3 col8\" >0.066691</td>\n",
       "                        <td id=\"T_85ccc8e8_8038_11ed_9e74_9cb6d0e93358row3_col9\" class=\"data row3 col9\" >0.191243</td>\n",
       "                        <td id=\"T_85ccc8e8_8038_11ed_9e74_9cb6d0e93358row3_col10\" class=\"data row3 col10\" >0.121172</td>\n",
       "                        <td id=\"T_85ccc8e8_8038_11ed_9e74_9cb6d0e93358row3_col11\" class=\"data row3 col11\" >0.097954</td>\n",
       "                        <td id=\"T_85ccc8e8_8038_11ed_9e74_9cb6d0e93358row3_col12\" class=\"data row3 col12\" >0.138183</td>\n",
       "                        <td id=\"T_85ccc8e8_8038_11ed_9e74_9cb6d0e93358row3_col13\" class=\"data row3 col13\" >0.159620</td>\n",
       "            </tr>\n",
       "            <tr>\n",
       "                        <th id=\"T_85ccc8e8_8038_11ed_9e74_9cb6d0e93358level0_row4\" class=\"row_heading level0 row4\" >chol</th>\n",
       "                        <td id=\"T_85ccc8e8_8038_11ed_9e74_9cb6d0e93358row4_col0\" class=\"data row4 col0\" >0.202644</td>\n",
       "                        <td id=\"T_85ccc8e8_8038_11ed_9e74_9cb6d0e93358row4_col1\" class=\"data row4 col1\" >-0.198089</td>\n",
       "                        <td id=\"T_85ccc8e8_8038_11ed_9e74_9cb6d0e93358row4_col2\" class=\"data row4 col2\" >0.072088</td>\n",
       "                        <td id=\"T_85ccc8e8_8038_11ed_9e74_9cb6d0e93358row4_col3\" class=\"data row4 col3\" >0.131536</td>\n",
       "                        <td id=\"T_85ccc8e8_8038_11ed_9e74_9cb6d0e93358row4_col4\" class=\"data row4 col4\" >1.000000</td>\n",
       "                        <td id=\"T_85ccc8e8_8038_11ed_9e74_9cb6d0e93358row4_col5\" class=\"data row4 col5\" >0.012708</td>\n",
       "                        <td id=\"T_85ccc8e8_8038_11ed_9e74_9cb6d0e93358row4_col6\" class=\"data row4 col6\" >0.165046</td>\n",
       "                        <td id=\"T_85ccc8e8_8038_11ed_9e74_9cb6d0e93358row4_col7\" class=\"data row4 col7\" >-0.000075</td>\n",
       "                        <td id=\"T_85ccc8e8_8038_11ed_9e74_9cb6d0e93358row4_col8\" class=\"data row4 col8\" >0.059339</td>\n",
       "                        <td id=\"T_85ccc8e8_8038_11ed_9e74_9cb6d0e93358row4_col9\" class=\"data row4 col9\" >0.038596</td>\n",
       "                        <td id=\"T_85ccc8e8_8038_11ed_9e74_9cb6d0e93358row4_col10\" class=\"data row4 col10\" >-0.009215</td>\n",
       "                        <td id=\"T_85ccc8e8_8038_11ed_9e74_9cb6d0e93358row4_col11\" class=\"data row4 col11\" >0.115945</td>\n",
       "                        <td id=\"T_85ccc8e8_8038_11ed_9e74_9cb6d0e93358row4_col12\" class=\"data row4 col12\" >0.010859</td>\n",
       "                        <td id=\"T_85ccc8e8_8038_11ed_9e74_9cb6d0e93358row4_col13\" class=\"data row4 col13\" >0.066448</td>\n",
       "            </tr>\n",
       "            <tr>\n",
       "                        <th id=\"T_85ccc8e8_8038_11ed_9e74_9cb6d0e93358level0_row5\" class=\"row_heading level0 row5\" >fbs</th>\n",
       "                        <td id=\"T_85ccc8e8_8038_11ed_9e74_9cb6d0e93358row5_col0\" class=\"data row5 col0\" >0.132062</td>\n",
       "                        <td id=\"T_85ccc8e8_8038_11ed_9e74_9cb6d0e93358row5_col1\" class=\"data row5 col1\" >0.038850</td>\n",
       "                        <td id=\"T_85ccc8e8_8038_11ed_9e74_9cb6d0e93358row5_col2\" class=\"data row5 col2\" >-0.057663</td>\n",
       "                        <td id=\"T_85ccc8e8_8038_11ed_9e74_9cb6d0e93358row5_col3\" class=\"data row5 col3\" >0.180860</td>\n",
       "                        <td id=\"T_85ccc8e8_8038_11ed_9e74_9cb6d0e93358row5_col4\" class=\"data row5 col4\" >0.012708</td>\n",
       "                        <td id=\"T_85ccc8e8_8038_11ed_9e74_9cb6d0e93358row5_col5\" class=\"data row5 col5\" >1.000000</td>\n",
       "                        <td id=\"T_85ccc8e8_8038_11ed_9e74_9cb6d0e93358row5_col6\" class=\"data row5 col6\" >0.068831</td>\n",
       "                        <td id=\"T_85ccc8e8_8038_11ed_9e74_9cb6d0e93358row5_col7\" class=\"data row5 col7\" >-0.007842</td>\n",
       "                        <td id=\"T_85ccc8e8_8038_11ed_9e74_9cb6d0e93358row5_col8\" class=\"data row5 col8\" >-0.000893</td>\n",
       "                        <td id=\"T_85ccc8e8_8038_11ed_9e74_9cb6d0e93358row5_col9\" class=\"data row5 col9\" >0.008311</td>\n",
       "                        <td id=\"T_85ccc8e8_8038_11ed_9e74_9cb6d0e93358row5_col10\" class=\"data row5 col10\" >0.047819</td>\n",
       "                        <td id=\"T_85ccc8e8_8038_11ed_9e74_9cb6d0e93358row5_col11\" class=\"data row5 col11\" >0.152086</td>\n",
       "                        <td id=\"T_85ccc8e8_8038_11ed_9e74_9cb6d0e93358row5_col12\" class=\"data row5 col12\" >0.062209</td>\n",
       "                        <td id=\"T_85ccc8e8_8038_11ed_9e74_9cb6d0e93358row5_col13\" class=\"data row5 col13\" >0.049040</td>\n",
       "            </tr>\n",
       "            <tr>\n",
       "                        <th id=\"T_85ccc8e8_8038_11ed_9e74_9cb6d0e93358level0_row6\" class=\"row_heading level0 row6\" >restecg</th>\n",
       "                        <td id=\"T_85ccc8e8_8038_11ed_9e74_9cb6d0e93358row6_col0\" class=\"data row6 col0\" >0.149917</td>\n",
       "                        <td id=\"T_85ccc8e8_8038_11ed_9e74_9cb6d0e93358row6_col1\" class=\"data row6 col1\" >0.033897</td>\n",
       "                        <td id=\"T_85ccc8e8_8038_11ed_9e74_9cb6d0e93358row6_col2\" class=\"data row6 col2\" >0.063905</td>\n",
       "                        <td id=\"T_85ccc8e8_8038_11ed_9e74_9cb6d0e93358row6_col3\" class=\"data row6 col3\" >0.149242</td>\n",
       "                        <td id=\"T_85ccc8e8_8038_11ed_9e74_9cb6d0e93358row6_col4\" class=\"data row6 col4\" >0.165046</td>\n",
       "                        <td id=\"T_85ccc8e8_8038_11ed_9e74_9cb6d0e93358row6_col5\" class=\"data row6 col5\" >0.068831</td>\n",
       "                        <td id=\"T_85ccc8e8_8038_11ed_9e74_9cb6d0e93358row6_col6\" class=\"data row6 col6\" >1.000000</td>\n",
       "                        <td id=\"T_85ccc8e8_8038_11ed_9e74_9cb6d0e93358row6_col7\" class=\"data row6 col7\" >-0.072290</td>\n",
       "                        <td id=\"T_85ccc8e8_8038_11ed_9e74_9cb6d0e93358row6_col8\" class=\"data row6 col8\" >0.081874</td>\n",
       "                        <td id=\"T_85ccc8e8_8038_11ed_9e74_9cb6d0e93358row6_col9\" class=\"data row6 col9\" >0.113726</td>\n",
       "                        <td id=\"T_85ccc8e8_8038_11ed_9e74_9cb6d0e93358row6_col10\" class=\"data row6 col10\" >0.135141</td>\n",
       "                        <td id=\"T_85ccc8e8_8038_11ed_9e74_9cb6d0e93358row6_col11\" class=\"data row6 col11\" >0.129021</td>\n",
       "                        <td id=\"T_85ccc8e8_8038_11ed_9e74_9cb6d0e93358row6_col12\" class=\"data row6 col12\" >0.018795</td>\n",
       "                        <td id=\"T_85ccc8e8_8038_11ed_9e74_9cb6d0e93358row6_col13\" class=\"data row6 col13\" >0.184136</td>\n",
       "            </tr>\n",
       "            <tr>\n",
       "                        <th id=\"T_85ccc8e8_8038_11ed_9e74_9cb6d0e93358level0_row7\" class=\"row_heading level0 row7\" >thalach</th>\n",
       "                        <td id=\"T_85ccc8e8_8038_11ed_9e74_9cb6d0e93358row7_col0\" class=\"data row7 col0\" >-0.394563</td>\n",
       "                        <td id=\"T_85ccc8e8_8038_11ed_9e74_9cb6d0e93358row7_col1\" class=\"data row7 col1\" >-0.060496</td>\n",
       "                        <td id=\"T_85ccc8e8_8038_11ed_9e74_9cb6d0e93358row7_col2\" class=\"data row7 col2\" >-0.339308</td>\n",
       "                        <td id=\"T_85ccc8e8_8038_11ed_9e74_9cb6d0e93358row7_col3\" class=\"data row7 col3\" >-0.049108</td>\n",
       "                        <td id=\"T_85ccc8e8_8038_11ed_9e74_9cb6d0e93358row7_col4\" class=\"data row7 col4\" >-0.000075</td>\n",
       "                        <td id=\"T_85ccc8e8_8038_11ed_9e74_9cb6d0e93358row7_col5\" class=\"data row7 col5\" >-0.007842</td>\n",
       "                        <td id=\"T_85ccc8e8_8038_11ed_9e74_9cb6d0e93358row7_col6\" class=\"data row7 col6\" >-0.072290</td>\n",
       "                        <td id=\"T_85ccc8e8_8038_11ed_9e74_9cb6d0e93358row7_col7\" class=\"data row7 col7\" >1.000000</td>\n",
       "                        <td id=\"T_85ccc8e8_8038_11ed_9e74_9cb6d0e93358row7_col8\" class=\"data row7 col8\" >-0.384368</td>\n",
       "                        <td id=\"T_85ccc8e8_8038_11ed_9e74_9cb6d0e93358row7_col9\" class=\"data row7 col9\" >-0.347640</td>\n",
       "                        <td id=\"T_85ccc8e8_8038_11ed_9e74_9cb6d0e93358row7_col10\" class=\"data row7 col10\" >-0.389307</td>\n",
       "                        <td id=\"T_85ccc8e8_8038_11ed_9e74_9cb6d0e93358row7_col11\" class=\"data row7 col11\" >-0.268727</td>\n",
       "                        <td id=\"T_85ccc8e8_8038_11ed_9e74_9cb6d0e93358row7_col12\" class=\"data row7 col12\" >-0.274831</td>\n",
       "                        <td id=\"T_85ccc8e8_8038_11ed_9e74_9cb6d0e93358row7_col13\" class=\"data row7 col13\" >-0.420639</td>\n",
       "            </tr>\n",
       "            <tr>\n",
       "                        <th id=\"T_85ccc8e8_8038_11ed_9e74_9cb6d0e93358level0_row8\" class=\"row_heading level0 row8\" >exang</th>\n",
       "                        <td id=\"T_85ccc8e8_8038_11ed_9e74_9cb6d0e93358row8_col0\" class=\"data row8 col0\" >0.096489</td>\n",
       "                        <td id=\"T_85ccc8e8_8038_11ed_9e74_9cb6d0e93358row8_col1\" class=\"data row8 col1\" >0.143581</td>\n",
       "                        <td id=\"T_85ccc8e8_8038_11ed_9e74_9cb6d0e93358row8_col2\" class=\"data row8 col2\" >0.377525</td>\n",
       "                        <td id=\"T_85ccc8e8_8038_11ed_9e74_9cb6d0e93358row8_col3\" class=\"data row8 col3\" >0.066691</td>\n",
       "                        <td id=\"T_85ccc8e8_8038_11ed_9e74_9cb6d0e93358row8_col4\" class=\"data row8 col4\" >0.059339</td>\n",
       "                        <td id=\"T_85ccc8e8_8038_11ed_9e74_9cb6d0e93358row8_col5\" class=\"data row8 col5\" >-0.000893</td>\n",
       "                        <td id=\"T_85ccc8e8_8038_11ed_9e74_9cb6d0e93358row8_col6\" class=\"data row8 col6\" >0.081874</td>\n",
       "                        <td id=\"T_85ccc8e8_8038_11ed_9e74_9cb6d0e93358row8_col7\" class=\"data row8 col7\" >-0.384368</td>\n",
       "                        <td id=\"T_85ccc8e8_8038_11ed_9e74_9cb6d0e93358row8_col8\" class=\"data row8 col8\" >1.000000</td>\n",
       "                        <td id=\"T_85ccc8e8_8038_11ed_9e74_9cb6d0e93358row8_col9\" class=\"data row8 col9\" >0.289310</td>\n",
       "                        <td id=\"T_85ccc8e8_8038_11ed_9e74_9cb6d0e93358row8_col10\" class=\"data row8 col10\" >0.250572</td>\n",
       "                        <td id=\"T_85ccc8e8_8038_11ed_9e74_9cb6d0e93358row8_col11\" class=\"data row8 col11\" >0.148232</td>\n",
       "                        <td id=\"T_85ccc8e8_8038_11ed_9e74_9cb6d0e93358row8_col12\" class=\"data row8 col12\" >0.326927</td>\n",
       "                        <td id=\"T_85ccc8e8_8038_11ed_9e74_9cb6d0e93358row8_col13\" class=\"data row8 col13\" >0.391613</td>\n",
       "            </tr>\n",
       "            <tr>\n",
       "                        <th id=\"T_85ccc8e8_8038_11ed_9e74_9cb6d0e93358level0_row9\" class=\"row_heading level0 row9\" >oldpeak</th>\n",
       "                        <td id=\"T_85ccc8e8_8038_11ed_9e74_9cb6d0e93358row9_col0\" class=\"data row9 col0\" >0.197123</td>\n",
       "                        <td id=\"T_85ccc8e8_8038_11ed_9e74_9cb6d0e93358row9_col1\" class=\"data row9 col1\" >0.106567</td>\n",
       "                        <td id=\"T_85ccc8e8_8038_11ed_9e74_9cb6d0e93358row9_col2\" class=\"data row9 col2\" >0.203244</td>\n",
       "                        <td id=\"T_85ccc8e8_8038_11ed_9e74_9cb6d0e93358row9_col3\" class=\"data row9 col3\" >0.191243</td>\n",
       "                        <td id=\"T_85ccc8e8_8038_11ed_9e74_9cb6d0e93358row9_col4\" class=\"data row9 col4\" >0.038596</td>\n",
       "                        <td id=\"T_85ccc8e8_8038_11ed_9e74_9cb6d0e93358row9_col5\" class=\"data row9 col5\" >0.008311</td>\n",
       "                        <td id=\"T_85ccc8e8_8038_11ed_9e74_9cb6d0e93358row9_col6\" class=\"data row9 col6\" >0.113726</td>\n",
       "                        <td id=\"T_85ccc8e8_8038_11ed_9e74_9cb6d0e93358row9_col7\" class=\"data row9 col7\" >-0.347640</td>\n",
       "                        <td id=\"T_85ccc8e8_8038_11ed_9e74_9cb6d0e93358row9_col8\" class=\"data row9 col8\" >0.289310</td>\n",
       "                        <td id=\"T_85ccc8e8_8038_11ed_9e74_9cb6d0e93358row9_col9\" class=\"data row9 col9\" >1.000000</td>\n",
       "                        <td id=\"T_85ccc8e8_8038_11ed_9e74_9cb6d0e93358row9_col10\" class=\"data row9 col10\" >0.579037</td>\n",
       "                        <td id=\"T_85ccc8e8_8038_11ed_9e74_9cb6d0e93358row9_col11\" class=\"data row9 col11\" >0.294452</td>\n",
       "                        <td id=\"T_85ccc8e8_8038_11ed_9e74_9cb6d0e93358row9_col12\" class=\"data row9 col12\" >0.344976</td>\n",
       "                        <td id=\"T_85ccc8e8_8038_11ed_9e74_9cb6d0e93358row9_col13\" class=\"data row9 col13\" >0.501461</td>\n",
       "            </tr>\n",
       "            <tr>\n",
       "                        <th id=\"T_85ccc8e8_8038_11ed_9e74_9cb6d0e93358level0_row10\" class=\"row_heading level0 row10\" >slope</th>\n",
       "                        <td id=\"T_85ccc8e8_8038_11ed_9e74_9cb6d0e93358row10_col0\" class=\"data row10 col0\" >0.159405</td>\n",
       "                        <td id=\"T_85ccc8e8_8038_11ed_9e74_9cb6d0e93358row10_col1\" class=\"data row10 col1\" >0.033345</td>\n",
       "                        <td id=\"T_85ccc8e8_8038_11ed_9e74_9cb6d0e93358row10_col2\" class=\"data row10 col2\" >0.151079</td>\n",
       "                        <td id=\"T_85ccc8e8_8038_11ed_9e74_9cb6d0e93358row10_col3\" class=\"data row10 col3\" >0.121172</td>\n",
       "                        <td id=\"T_85ccc8e8_8038_11ed_9e74_9cb6d0e93358row10_col4\" class=\"data row10 col4\" >-0.009215</td>\n",
       "                        <td id=\"T_85ccc8e8_8038_11ed_9e74_9cb6d0e93358row10_col5\" class=\"data row10 col5\" >0.047819</td>\n",
       "                        <td id=\"T_85ccc8e8_8038_11ed_9e74_9cb6d0e93358row10_col6\" class=\"data row10 col6\" >0.135141</td>\n",
       "                        <td id=\"T_85ccc8e8_8038_11ed_9e74_9cb6d0e93358row10_col7\" class=\"data row10 col7\" >-0.389307</td>\n",
       "                        <td id=\"T_85ccc8e8_8038_11ed_9e74_9cb6d0e93358row10_col8\" class=\"data row10 col8\" >0.250572</td>\n",
       "                        <td id=\"T_85ccc8e8_8038_11ed_9e74_9cb6d0e93358row10_col9\" class=\"data row10 col9\" >0.579037</td>\n",
       "                        <td id=\"T_85ccc8e8_8038_11ed_9e74_9cb6d0e93358row10_col10\" class=\"data row10 col10\" >1.000000</td>\n",
       "                        <td id=\"T_85ccc8e8_8038_11ed_9e74_9cb6d0e93358row10_col11\" class=\"data row10 col11\" >0.109761</td>\n",
       "                        <td id=\"T_85ccc8e8_8038_11ed_9e74_9cb6d0e93358row10_col12\" class=\"data row10 col12\" >0.279688</td>\n",
       "                        <td id=\"T_85ccc8e8_8038_11ed_9e74_9cb6d0e93358row10_col13\" class=\"data row10 col13\" >0.374689</td>\n",
       "            </tr>\n",
       "            <tr>\n",
       "                        <th id=\"T_85ccc8e8_8038_11ed_9e74_9cb6d0e93358level0_row11\" class=\"row_heading level0 row11\" >ca</th>\n",
       "                        <td id=\"T_85ccc8e8_8038_11ed_9e74_9cb6d0e93358row11_col0\" class=\"data row11 col0\" >0.362210</td>\n",
       "                        <td id=\"T_85ccc8e8_8038_11ed_9e74_9cb6d0e93358row11_col1\" class=\"data row11 col1\" >0.091925</td>\n",
       "                        <td id=\"T_85ccc8e8_8038_11ed_9e74_9cb6d0e93358row11_col2\" class=\"data row11 col2\" >0.235644</td>\n",
       "                        <td id=\"T_85ccc8e8_8038_11ed_9e74_9cb6d0e93358row11_col3\" class=\"data row11 col3\" >0.097954</td>\n",
       "                        <td id=\"T_85ccc8e8_8038_11ed_9e74_9cb6d0e93358row11_col4\" class=\"data row11 col4\" >0.115945</td>\n",
       "                        <td id=\"T_85ccc8e8_8038_11ed_9e74_9cb6d0e93358row11_col5\" class=\"data row11 col5\" >0.152086</td>\n",
       "                        <td id=\"T_85ccc8e8_8038_11ed_9e74_9cb6d0e93358row11_col6\" class=\"data row11 col6\" >0.129021</td>\n",
       "                        <td id=\"T_85ccc8e8_8038_11ed_9e74_9cb6d0e93358row11_col7\" class=\"data row11 col7\" >-0.268727</td>\n",
       "                        <td id=\"T_85ccc8e8_8038_11ed_9e74_9cb6d0e93358row11_col8\" class=\"data row11 col8\" >0.148232</td>\n",
       "                        <td id=\"T_85ccc8e8_8038_11ed_9e74_9cb6d0e93358row11_col9\" class=\"data row11 col9\" >0.294452</td>\n",
       "                        <td id=\"T_85ccc8e8_8038_11ed_9e74_9cb6d0e93358row11_col10\" class=\"data row11 col10\" >0.109761</td>\n",
       "                        <td id=\"T_85ccc8e8_8038_11ed_9e74_9cb6d0e93358row11_col11\" class=\"data row11 col11\" >1.000000</td>\n",
       "                        <td id=\"T_85ccc8e8_8038_11ed_9e74_9cb6d0e93358row11_col12\" class=\"data row11 col12\" >0.256382</td>\n",
       "                        <td id=\"T_85ccc8e8_8038_11ed_9e74_9cb6d0e93358row11_col13\" class=\"data row11 col13\" >0.521178</td>\n",
       "            </tr>\n",
       "            <tr>\n",
       "                        <th id=\"T_85ccc8e8_8038_11ed_9e74_9cb6d0e93358level0_row12\" class=\"row_heading level0 row12\" >thal</th>\n",
       "                        <td id=\"T_85ccc8e8_8038_11ed_9e74_9cb6d0e93358row12_col0\" class=\"data row12 col0\" >0.126586</td>\n",
       "                        <td id=\"T_85ccc8e8_8038_11ed_9e74_9cb6d0e93358row12_col1\" class=\"data row12 col1\" >0.383652</td>\n",
       "                        <td id=\"T_85ccc8e8_8038_11ed_9e74_9cb6d0e93358row12_col2\" class=\"data row12 col2\" >0.268500</td>\n",
       "                        <td id=\"T_85ccc8e8_8038_11ed_9e74_9cb6d0e93358row12_col3\" class=\"data row12 col3\" >0.138183</td>\n",
       "                        <td id=\"T_85ccc8e8_8038_11ed_9e74_9cb6d0e93358row12_col4\" class=\"data row12 col4\" >0.010859</td>\n",
       "                        <td id=\"T_85ccc8e8_8038_11ed_9e74_9cb6d0e93358row12_col5\" class=\"data row12 col5\" >0.062209</td>\n",
       "                        <td id=\"T_85ccc8e8_8038_11ed_9e74_9cb6d0e93358row12_col6\" class=\"data row12 col6\" >0.018795</td>\n",
       "                        <td id=\"T_85ccc8e8_8038_11ed_9e74_9cb6d0e93358row12_col7\" class=\"data row12 col7\" >-0.274831</td>\n",
       "                        <td id=\"T_85ccc8e8_8038_11ed_9e74_9cb6d0e93358row12_col8\" class=\"data row12 col8\" >0.326927</td>\n",
       "                        <td id=\"T_85ccc8e8_8038_11ed_9e74_9cb6d0e93358row12_col9\" class=\"data row12 col9\" >0.344976</td>\n",
       "                        <td id=\"T_85ccc8e8_8038_11ed_9e74_9cb6d0e93358row12_col10\" class=\"data row12 col10\" >0.279688</td>\n",
       "                        <td id=\"T_85ccc8e8_8038_11ed_9e74_9cb6d0e93358row12_col11\" class=\"data row12 col11\" >0.256382</td>\n",
       "                        <td id=\"T_85ccc8e8_8038_11ed_9e74_9cb6d0e93358row12_col12\" class=\"data row12 col12\" >1.000000</td>\n",
       "                        <td id=\"T_85ccc8e8_8038_11ed_9e74_9cb6d0e93358row12_col13\" class=\"data row12 col13\" >0.513377</td>\n",
       "            </tr>\n",
       "            <tr>\n",
       "                        <th id=\"T_85ccc8e8_8038_11ed_9e74_9cb6d0e93358level0_row13\" class=\"row_heading level0 row13\" >class</th>\n",
       "                        <td id=\"T_85ccc8e8_8038_11ed_9e74_9cb6d0e93358row13_col0\" class=\"data row13 col0\" >0.222156</td>\n",
       "                        <td id=\"T_85ccc8e8_8038_11ed_9e74_9cb6d0e93358row13_col1\" class=\"data row13 col1\" >0.226797</td>\n",
       "                        <td id=\"T_85ccc8e8_8038_11ed_9e74_9cb6d0e93358row13_col2\" class=\"data row13 col2\" >0.404248</td>\n",
       "                        <td id=\"T_85ccc8e8_8038_11ed_9e74_9cb6d0e93358row13_col3\" class=\"data row13 col3\" >0.159620</td>\n",
       "                        <td id=\"T_85ccc8e8_8038_11ed_9e74_9cb6d0e93358row13_col4\" class=\"data row13 col4\" >0.066448</td>\n",
       "                        <td id=\"T_85ccc8e8_8038_11ed_9e74_9cb6d0e93358row13_col5\" class=\"data row13 col5\" >0.049040</td>\n",
       "                        <td id=\"T_85ccc8e8_8038_11ed_9e74_9cb6d0e93358row13_col6\" class=\"data row13 col6\" >0.184136</td>\n",
       "                        <td id=\"T_85ccc8e8_8038_11ed_9e74_9cb6d0e93358row13_col7\" class=\"data row13 col7\" >-0.420639</td>\n",
       "                        <td id=\"T_85ccc8e8_8038_11ed_9e74_9cb6d0e93358row13_col8\" class=\"data row13 col8\" >0.391613</td>\n",
       "                        <td id=\"T_85ccc8e8_8038_11ed_9e74_9cb6d0e93358row13_col9\" class=\"data row13 col9\" >0.501461</td>\n",
       "                        <td id=\"T_85ccc8e8_8038_11ed_9e74_9cb6d0e93358row13_col10\" class=\"data row13 col10\" >0.374689</td>\n",
       "                        <td id=\"T_85ccc8e8_8038_11ed_9e74_9cb6d0e93358row13_col11\" class=\"data row13 col11\" >0.521178</td>\n",
       "                        <td id=\"T_85ccc8e8_8038_11ed_9e74_9cb6d0e93358row13_col12\" class=\"data row13 col12\" >0.513377</td>\n",
       "                        <td id=\"T_85ccc8e8_8038_11ed_9e74_9cb6d0e93358row13_col13\" class=\"data row13 col13\" >1.000000</td>\n",
       "            </tr>\n",
       "    </tbody></table>"
      ],
      "text/plain": [
       "<pandas.io.formats.style.Styler at 0x2e07acb6940>"
      ]
     },
     "execution_count": 9,
     "metadata": {},
     "output_type": "execute_result"
    }
   ],
   "source": [
    "corr_matrix = HD.corr()\n",
    "corr_matrix.style.background_gradient(cmap='YlOrRd')"
   ]
  },
  {
   "cell_type": "code",
   "execution_count": 10,
   "id": "b54c8e52",
   "metadata": {},
   "outputs": [],
   "source": [
    "cols = ['age', 'sex', 'cp', 'trestbps', 'chol', 'fbs', 'restecg', 'thalach',\n",
    "       'exang', 'oldpeak', 'slope', 'ca', 'thal']"
   ]
  },
  {
   "cell_type": "code",
   "execution_count": 11,
   "id": "05697c6b",
   "metadata": {},
   "outputs": [
    {
     "ename": "KeyError",
     "evalue": "'class binary'",
     "output_type": "error",
     "traceback": [
      "\u001b[1;31m---------------------------------------------------------------------------\u001b[0m",
      "\u001b[1;31mKeyError\u001b[0m                                  Traceback (most recent call last)",
      "\u001b[1;32mc:\\Users\\lione\\anaconda3\\lib\\site-packages\\pandas\\core\\indexes\\base.py\u001b[0m in \u001b[0;36mget_loc\u001b[1;34m(self, key, method, tolerance)\u001b[0m\n\u001b[0;32m   2645\u001b[0m             \u001b[1;32mtry\u001b[0m\u001b[1;33m:\u001b[0m\u001b[1;33m\u001b[0m\u001b[1;33m\u001b[0m\u001b[0m\n\u001b[1;32m-> 2646\u001b[1;33m                 \u001b[1;32mreturn\u001b[0m \u001b[0mself\u001b[0m\u001b[1;33m.\u001b[0m\u001b[0m_engine\u001b[0m\u001b[1;33m.\u001b[0m\u001b[0mget_loc\u001b[0m\u001b[1;33m(\u001b[0m\u001b[0mkey\u001b[0m\u001b[1;33m)\u001b[0m\u001b[1;33m\u001b[0m\u001b[1;33m\u001b[0m\u001b[0m\n\u001b[0m\u001b[0;32m   2647\u001b[0m             \u001b[1;32mexcept\u001b[0m \u001b[0mKeyError\u001b[0m\u001b[1;33m:\u001b[0m\u001b[1;33m\u001b[0m\u001b[1;33m\u001b[0m\u001b[0m\n",
      "\u001b[1;32mpandas\\_libs\\index.pyx\u001b[0m in \u001b[0;36mpandas._libs.index.IndexEngine.get_loc\u001b[1;34m()\u001b[0m\n",
      "\u001b[1;32mpandas\\_libs\\index.pyx\u001b[0m in \u001b[0;36mpandas._libs.index.IndexEngine.get_loc\u001b[1;34m()\u001b[0m\n",
      "\u001b[1;32mpandas\\_libs\\hashtable_class_helper.pxi\u001b[0m in \u001b[0;36mpandas._libs.hashtable.PyObjectHashTable.get_item\u001b[1;34m()\u001b[0m\n",
      "\u001b[1;32mpandas\\_libs\\hashtable_class_helper.pxi\u001b[0m in \u001b[0;36mpandas._libs.hashtable.PyObjectHashTable.get_item\u001b[1;34m()\u001b[0m\n",
      "\u001b[1;31mKeyError\u001b[0m: 'class binary'",
      "\nDuring handling of the above exception, another exception occurred:\n",
      "\u001b[1;31mKeyError\u001b[0m                                  Traceback (most recent call last)",
      "\u001b[1;32m<ipython-input-11-774942878105>\u001b[0m in \u001b[0;36m<module>\u001b[1;34m\u001b[0m\n\u001b[0;32m      1\u001b[0m \u001b[1;32mfor\u001b[0m \u001b[0mi\u001b[0m \u001b[1;32min\u001b[0m \u001b[0mcols\u001b[0m\u001b[1;33m[\u001b[0m\u001b[1;33m:\u001b[0m\u001b[1;33m]\u001b[0m\u001b[1;33m:\u001b[0m\u001b[1;33m\u001b[0m\u001b[1;33m\u001b[0m\u001b[0m\n\u001b[1;32m----> 2\u001b[1;33m     \u001b[0mplt\u001b[0m\u001b[1;33m.\u001b[0m\u001b[0mhist\u001b[0m\u001b[1;33m(\u001b[0m\u001b[0mHD\u001b[0m\u001b[1;33m[\u001b[0m\u001b[0mHD\u001b[0m\u001b[1;33m[\u001b[0m\u001b[1;34m\"class binary\"\u001b[0m\u001b[1;33m]\u001b[0m\u001b[1;33m==\u001b[0m\u001b[1;36m1\u001b[0m\u001b[1;33m]\u001b[0m\u001b[1;33m[\u001b[0m\u001b[0mi\u001b[0m\u001b[1;33m]\u001b[0m\u001b[1;33m,\u001b[0m \u001b[0mcolor\u001b[0m\u001b[1;33m=\u001b[0m\u001b[1;34m'blue'\u001b[0m\u001b[1;33m,\u001b[0m \u001b[0mlabel\u001b[0m\u001b[1;33m=\u001b[0m\u001b[1;34m'True'\u001b[0m\u001b[1;33m,\u001b[0m \u001b[0malpha\u001b[0m\u001b[1;33m=\u001b[0m\u001b[1;36m0.7\u001b[0m\u001b[1;33m,\u001b[0m \u001b[0mdensity\u001b[0m\u001b[1;33m=\u001b[0m\u001b[1;32mTrue\u001b[0m\u001b[1;33m)\u001b[0m\u001b[1;33m\u001b[0m\u001b[1;33m\u001b[0m\u001b[0m\n\u001b[0m\u001b[0;32m      3\u001b[0m     \u001b[0mplt\u001b[0m\u001b[1;33m.\u001b[0m\u001b[0mhist\u001b[0m\u001b[1;33m(\u001b[0m\u001b[0mHD\u001b[0m\u001b[1;33m[\u001b[0m\u001b[0mHD\u001b[0m\u001b[1;33m[\u001b[0m\u001b[1;34m\"class binary\"\u001b[0m\u001b[1;33m]\u001b[0m\u001b[1;33m==\u001b[0m\u001b[1;36m0\u001b[0m\u001b[1;33m]\u001b[0m\u001b[1;33m[\u001b[0m\u001b[0mi\u001b[0m\u001b[1;33m]\u001b[0m\u001b[1;33m,\u001b[0m \u001b[0mcolor\u001b[0m\u001b[1;33m=\u001b[0m\u001b[1;34m'red'\u001b[0m\u001b[1;33m,\u001b[0m \u001b[0mlabel\u001b[0m\u001b[1;33m=\u001b[0m\u001b[1;34m'False'\u001b[0m\u001b[1;33m,\u001b[0m \u001b[0malpha\u001b[0m\u001b[1;33m=\u001b[0m\u001b[1;36m0.7\u001b[0m\u001b[1;33m,\u001b[0m \u001b[0mdensity\u001b[0m\u001b[1;33m=\u001b[0m\u001b[1;32mTrue\u001b[0m\u001b[1;33m)\u001b[0m\u001b[1;33m\u001b[0m\u001b[1;33m\u001b[0m\u001b[0m\n\u001b[0;32m      4\u001b[0m     \u001b[0mplt\u001b[0m\u001b[1;33m.\u001b[0m\u001b[0mxlabel\u001b[0m\u001b[1;33m(\u001b[0m\u001b[0mi\u001b[0m\u001b[1;33m)\u001b[0m\u001b[1;33m\u001b[0m\u001b[1;33m\u001b[0m\u001b[0m\n\u001b[0;32m      5\u001b[0m     \u001b[0mplt\u001b[0m\u001b[1;33m.\u001b[0m\u001b[0mylabel\u001b[0m\u001b[1;33m(\u001b[0m\u001b[1;34m'Probability'\u001b[0m\u001b[1;33m)\u001b[0m\u001b[1;33m\u001b[0m\u001b[1;33m\u001b[0m\u001b[0m\n",
      "\u001b[1;32mc:\\Users\\lione\\anaconda3\\lib\\site-packages\\pandas\\core\\frame.py\u001b[0m in \u001b[0;36m__getitem__\u001b[1;34m(self, key)\u001b[0m\n\u001b[0;32m   2798\u001b[0m             \u001b[1;32mif\u001b[0m \u001b[0mself\u001b[0m\u001b[1;33m.\u001b[0m\u001b[0mcolumns\u001b[0m\u001b[1;33m.\u001b[0m\u001b[0mnlevels\u001b[0m \u001b[1;33m>\u001b[0m \u001b[1;36m1\u001b[0m\u001b[1;33m:\u001b[0m\u001b[1;33m\u001b[0m\u001b[1;33m\u001b[0m\u001b[0m\n\u001b[0;32m   2799\u001b[0m                 \u001b[1;32mreturn\u001b[0m \u001b[0mself\u001b[0m\u001b[1;33m.\u001b[0m\u001b[0m_getitem_multilevel\u001b[0m\u001b[1;33m(\u001b[0m\u001b[0mkey\u001b[0m\u001b[1;33m)\u001b[0m\u001b[1;33m\u001b[0m\u001b[1;33m\u001b[0m\u001b[0m\n\u001b[1;32m-> 2800\u001b[1;33m             \u001b[0mindexer\u001b[0m \u001b[1;33m=\u001b[0m \u001b[0mself\u001b[0m\u001b[1;33m.\u001b[0m\u001b[0mcolumns\u001b[0m\u001b[1;33m.\u001b[0m\u001b[0mget_loc\u001b[0m\u001b[1;33m(\u001b[0m\u001b[0mkey\u001b[0m\u001b[1;33m)\u001b[0m\u001b[1;33m\u001b[0m\u001b[1;33m\u001b[0m\u001b[0m\n\u001b[0m\u001b[0;32m   2801\u001b[0m             \u001b[1;32mif\u001b[0m \u001b[0mis_integer\u001b[0m\u001b[1;33m(\u001b[0m\u001b[0mindexer\u001b[0m\u001b[1;33m)\u001b[0m\u001b[1;33m:\u001b[0m\u001b[1;33m\u001b[0m\u001b[1;33m\u001b[0m\u001b[0m\n\u001b[0;32m   2802\u001b[0m                 \u001b[0mindexer\u001b[0m \u001b[1;33m=\u001b[0m \u001b[1;33m[\u001b[0m\u001b[0mindexer\u001b[0m\u001b[1;33m]\u001b[0m\u001b[1;33m\u001b[0m\u001b[1;33m\u001b[0m\u001b[0m\n",
      "\u001b[1;32mc:\\Users\\lione\\anaconda3\\lib\\site-packages\\pandas\\core\\indexes\\base.py\u001b[0m in \u001b[0;36mget_loc\u001b[1;34m(self, key, method, tolerance)\u001b[0m\n\u001b[0;32m   2646\u001b[0m                 \u001b[1;32mreturn\u001b[0m \u001b[0mself\u001b[0m\u001b[1;33m.\u001b[0m\u001b[0m_engine\u001b[0m\u001b[1;33m.\u001b[0m\u001b[0mget_loc\u001b[0m\u001b[1;33m(\u001b[0m\u001b[0mkey\u001b[0m\u001b[1;33m)\u001b[0m\u001b[1;33m\u001b[0m\u001b[1;33m\u001b[0m\u001b[0m\n\u001b[0;32m   2647\u001b[0m             \u001b[1;32mexcept\u001b[0m \u001b[0mKeyError\u001b[0m\u001b[1;33m:\u001b[0m\u001b[1;33m\u001b[0m\u001b[1;33m\u001b[0m\u001b[0m\n\u001b[1;32m-> 2648\u001b[1;33m                 \u001b[1;32mreturn\u001b[0m \u001b[0mself\u001b[0m\u001b[1;33m.\u001b[0m\u001b[0m_engine\u001b[0m\u001b[1;33m.\u001b[0m\u001b[0mget_loc\u001b[0m\u001b[1;33m(\u001b[0m\u001b[0mself\u001b[0m\u001b[1;33m.\u001b[0m\u001b[0m_maybe_cast_indexer\u001b[0m\u001b[1;33m(\u001b[0m\u001b[0mkey\u001b[0m\u001b[1;33m)\u001b[0m\u001b[1;33m)\u001b[0m\u001b[1;33m\u001b[0m\u001b[1;33m\u001b[0m\u001b[0m\n\u001b[0m\u001b[0;32m   2649\u001b[0m         \u001b[0mindexer\u001b[0m \u001b[1;33m=\u001b[0m \u001b[0mself\u001b[0m\u001b[1;33m.\u001b[0m\u001b[0mget_indexer\u001b[0m\u001b[1;33m(\u001b[0m\u001b[1;33m[\u001b[0m\u001b[0mkey\u001b[0m\u001b[1;33m]\u001b[0m\u001b[1;33m,\u001b[0m \u001b[0mmethod\u001b[0m\u001b[1;33m=\u001b[0m\u001b[0mmethod\u001b[0m\u001b[1;33m,\u001b[0m \u001b[0mtolerance\u001b[0m\u001b[1;33m=\u001b[0m\u001b[0mtolerance\u001b[0m\u001b[1;33m)\u001b[0m\u001b[1;33m\u001b[0m\u001b[1;33m\u001b[0m\u001b[0m\n\u001b[0;32m   2650\u001b[0m         \u001b[1;32mif\u001b[0m \u001b[0mindexer\u001b[0m\u001b[1;33m.\u001b[0m\u001b[0mndim\u001b[0m \u001b[1;33m>\u001b[0m \u001b[1;36m1\u001b[0m \u001b[1;32mor\u001b[0m \u001b[0mindexer\u001b[0m\u001b[1;33m.\u001b[0m\u001b[0msize\u001b[0m \u001b[1;33m>\u001b[0m \u001b[1;36m1\u001b[0m\u001b[1;33m:\u001b[0m\u001b[1;33m\u001b[0m\u001b[1;33m\u001b[0m\u001b[0m\n",
      "\u001b[1;32mpandas\\_libs\\index.pyx\u001b[0m in \u001b[0;36mpandas._libs.index.IndexEngine.get_loc\u001b[1;34m()\u001b[0m\n",
      "\u001b[1;32mpandas\\_libs\\index.pyx\u001b[0m in \u001b[0;36mpandas._libs.index.IndexEngine.get_loc\u001b[1;34m()\u001b[0m\n",
      "\u001b[1;32mpandas\\_libs\\hashtable_class_helper.pxi\u001b[0m in \u001b[0;36mpandas._libs.hashtable.PyObjectHashTable.get_item\u001b[1;34m()\u001b[0m\n",
      "\u001b[1;32mpandas\\_libs\\hashtable_class_helper.pxi\u001b[0m in \u001b[0;36mpandas._libs.hashtable.PyObjectHashTable.get_item\u001b[1;34m()\u001b[0m\n",
      "\u001b[1;31mKeyError\u001b[0m: 'class binary'"
     ]
    }
   ],
   "source": [
    "for i in cols[:]: \n",
    "    plt.hist(HD[HD[\"class binary\"]==1][i], color='blue', label='True', alpha=0.7, density=True)\n",
    "    plt.hist(HD[HD[\"class binary\"]==0][i], color='red', label='False', alpha=0.7, density=True)\n",
    "    plt.xlabel(i)\n",
    "    plt.ylabel('Probability')\n",
    "    plt.legend()\n",
    "    plt.show()"
   ]
  },
  {
   "cell_type": "code",
   "execution_count": null,
   "id": "4bf01353",
   "metadata": {},
   "outputs": [
    {
     "data": {
      "text/plain": [
       "array([0, 2, 1, 3, 4], dtype=int64)"
      ]
     },
     "execution_count": 193,
     "metadata": {},
     "output_type": "execute_result"
    }
   ],
   "source": [
    "HD[\"class\"].unique()"
   ]
  },
  {
   "cell_type": "code",
   "execution_count": null,
   "id": "c2639c2a",
   "metadata": {},
   "outputs": [
    {
     "data": {
      "image/png": "[encoded data removed]",
      "text/plain": [
       "<Figure size 432x288 with 1 Axes>"
      ]
     },
     "metadata": {
      "needs_background": "light"
     },
     "output_type": "display_data"
    },
    {
     "data": {
      "image/png": "[encoded data removed]",
      "text/plain": [
       "<Figure size 432x288 with 1 Axes>"
      ]
     },
     "metadata": {
      "needs_background": "light"
     },
     "output_type": "display_data"
    },
    {
     "data": {
      "image/png": "[encoded data removed]",
      "text/plain": [
       "<Figure size 432x288 with 1 Axes>"
      ]
     },
     "metadata": {
      "needs_background": "light"
     },
     "output_type": "display_data"
    },
    {
     "data": {
      "image/png": "[encoded data removed]",
      "text/plain": [
       "<Figure size 432x288 with 1 Axes>"
      ]
     },
     "metadata": {
      "needs_background": "light"
     },
     "output_type": "display_data"
    },
    {
     "data": {
      "image/png": "[encoded data removed]",
      "text/plain": [
       "<Figure size 432x288 with 1 Axes>"
      ]
     },
     "metadata": {
      "needs_background": "light"
     },
     "output_type": "display_data"
    },
    {
     "data": {
      "image/png": "[encoded data removed]",
      "text/plain": [
       "<Figure size 432x288 with 1 Axes>"
      ]
     },
     "metadata": {
      "needs_background": "light"
     },
     "output_type": "display_data"
    },
    {
     "data": {
      "image/png": "[encoded data removed]",
      "text/plain": [
       "<Figure size 432x288 with 1 Axes>"
      ]
     },
     "metadata": {
      "needs_background": "light"
     },
     "output_type": "display_data"
    },
    {
     "data": {
      "image/png": "[encoded data removed]",
      "text/plain": [
       "<Figure size 432x288 with 1 Axes>"
      ]
     },
     "metadata": {
      "needs_background": "light"
     },
     "output_type": "display_data"
    },
    {
     "data": {
      "image/png": "[encoded data removed]",
      "text/plain": [
       "<Figure size 432x288 with 1 Axes>"
      ]
     },
     "metadata": {
      "needs_background": "light"
     },
     "output_type": "display_data"
    },
    {
     "data": {
      "image/png": "[encoded data removed]",
      "text/plain": [
       "<Figure size 432x288 with 1 Axes>"
      ]
     },
     "metadata": {
      "needs_background": "light"
     },
     "output_type": "display_data"
    },
    {
     "data": {
      "image/png": "[encoded data removed]",
      "text/plain": [
       "<Figure size 432x288 with 1 Axes>"
      ]
     },
     "metadata": {
      "needs_background": "light"
     },
     "output_type": "display_data"
    },
    {
     "data": {
      "image/png": "[encoded data removed]",
      "text/plain": [
       "<Figure size 432x288 with 1 Axes>"
      ]
     },
     "metadata": {
      "needs_background": "light"
     },
     "output_type": "display_data"
    },
    {
     "data": {
      "image/png": "[encoded data removed]",
      "text/plain": [
       "<Figure size 432x288 with 1 Axes>"
      ]
     },
     "metadata": {
      "needs_background": "light"
     },
     "output_type": "display_data"
    }
   ],
   "source": [
    "for i in cols[:]: \n",
    "    plt.hist(HD[HD[\"class\"]==0][i], color='blue', label='Grade 0', alpha=0.7, density=True)\n",
    "    plt.hist(HD[HD[\"class\"]==1][i], color='green', label='Grade 1', alpha=0.7, density=True)\n",
    "    plt.hist(HD[HD[\"class\"]==2][i], color='red', label='Grade 2', alpha=0.7, density=True)\n",
    "    plt.hist(HD[HD[\"class\"]==3][i], color='yellow', label='Grade 3', alpha=0.7, density=True)\n",
    "    plt.hist(HD[HD[\"class\"]==4][i], color='purple', label='Grade 4', alpha=0.7, density=True)\n",
    "    plt.xlabel(i)\n",
    "    plt.ylabel('Probability')\n",
    "    plt.legend()\n",
    "    plt.show()"
   ]
  },
  {
   "cell_type": "code",
   "execution_count": null,
   "id": "0e412017",
   "metadata": {},
   "outputs": [
    {
     "data": {
      "image/png": "[encoded data removed]",
      "text/plain": [
       "<Figure size 576x360 with 1 Axes>"
      ]
     },
     "metadata": {
      "needs_background": "light"
     },
     "output_type": "display_data"
    },
    {
     "data": {
      "image/png": "[encoded data removed]",
      "text/plain": [
       "<Figure size 576x360 with 1 Axes>"
      ]
     },
     "metadata": {
      "needs_background": "light"
     },
     "output_type": "display_data"
    },
    {
     "data": {
      "image/png": "[encoded data removed]",
      "text/plain": [
       "<Figure size 576x360 with 1 Axes>"
      ]
     },
     "metadata": {
      "needs_background": "light"
     },
     "output_type": "display_data"
    },
    {
     "data": {
      "image/png": "[encoded data removed]",
      "text/plain": [
       "<Figure size 576x360 with 1 Axes>"
      ]
     },
     "metadata": {
      "needs_background": "light"
     },
     "output_type": "display_data"
    },
    {
     "data": {
      "image/png": "[encoded data removed]",
      "text/plain": [
       "<Figure size 576x360 with 1 Axes>"
      ]
     },
     "metadata": {
      "needs_background": "light"
     },
     "output_type": "display_data"
    },
    {
     "data": {
      "image/png": "[encoded data removed]",
      "text/plain": [
       "<Figure size 576x360 with 1 Axes>"
      ]
     },
     "metadata": {
      "needs_background": "light"
     },
     "output_type": "display_data"
    },
    {
     "data": {
      "image/png": "[encoded data removed]",
      "text/plain": [
       "<Figure size 576x360 with 1 Axes>"
      ]
     },
     "metadata": {
      "needs_background": "light"
     },
     "output_type": "display_data"
    },
    {
     "data": {
      "image/png": "[encoded data removed]",
      "text/plain": [
       "<Figure size 576x360 with 1 Axes>"
      ]
     },
     "metadata": {
      "needs_background": "light"
     },
     "output_type": "display_data"
    },
    {
     "data": {
      "image/png": "[encoded data removed]",
      "text/plain": [
       "<Figure size 576x360 with 1 Axes>"
      ]
     },
     "metadata": {
      "needs_background": "light"
     },
     "output_type": "display_data"
    },
    {
     "data": {
      "image/png": "[encoded data removed]",
      "text/plain": [
       "<Figure size 576x360 with 1 Axes>"
      ]
     },
     "metadata": {
      "needs_background": "light"
     },
     "output_type": "display_data"
    },
    {
     "data": {
      "image/png": "[encoded data removed]",
      "text/plain": [
       "<Figure size 576x360 with 1 Axes>"
      ]
     },
     "metadata": {
      "needs_background": "light"
     },
     "output_type": "display_data"
    },
    {
     "data": {
      "image/png": "[encoded data removed]",
      "text/plain": [
       "<Figure size 576x360 with 1 Axes>"
      ]
     },
     "metadata": {
      "needs_background": "light"
     },
     "output_type": "display_data"
    },
    {
     "data": {
      "image/png": "[encoded data removed]",
      "text/plain": [
       "<Figure size 576x360 with 1 Axes>"
      ]
     },
     "metadata": {
      "needs_background": "light"
     },
     "output_type": "display_data"
    },
    {
     "data": {
      "image/png": "[encoded data removed]",
      "text/plain": [
       "<Figure size 576x360 with 1 Axes>"
      ]
     },
     "metadata": {
      "needs_background": "light"
     },
     "output_type": "display_data"
    }
   ],
   "source": [
    "for i in range (0, len(HD.columns)):\n",
    "    HD[HD.columns[i]].plot(kind = 'hist', grid = True, figsize = (8, 5))\n",
    "    plt.xlabel(HD.columns[i])\n",
    "    plt.ylabel('Frequency')\n",
    "    plt.show()"
   ]
  },
  {
   "cell_type": "markdown",
   "id": "a505ac38",
   "metadata": {},
   "source": [
    "### 3 Normalize the Dataset"
   ]
  },
  {
   "cell_type": "markdown",
   "id": "0774e102",
   "metadata": {},
   "source": [
    "Decision Trees can handle all handles without Normalization. Therefore no adjustments to the data has been applied."
   ]
  },
  {
   "cell_type": "markdown",
   "id": "b04ff9dd",
   "metadata": {},
   "source": [
    "### 4 Split the Dataset in Multiclass and Binary"
   ]
  },
  {
   "cell_type": "markdown",
   "id": "e82ce506",
   "metadata": {},
   "source": [
    "Add new Column \"Class Binary\" which is derived from the \"Class\" > 0"
   ]
  },
  {
   "cell_type": "code",
   "execution_count": 12,
   "id": "a2e06ab7",
   "metadata": {},
   "outputs": [
    {
     "data": {
      "text/html": [
       "<div>\n",
       "<style scoped>\n",
       "    .dataframe tbody tr th:only-of-type {\n",
       "        vertical-align: middle;\n",
       "    }\n",
       "\n",
       "    .dataframe tbody tr th {\n",
       "        vertical-align: top;\n",
       "    }\n",
       "\n",
       "    .dataframe thead th {\n",
       "        text-align: right;\n",
       "    }\n",
       "</style>\n",
       "<table border=\"1\" class=\"dataframe\">\n",
       "  <thead>\n",
       "    <tr style=\"text-align: right;\">\n",
       "      <th></th>\n",
       "      <th>age</th>\n",
       "      <th>sex</th>\n",
       "      <th>cp</th>\n",
       "      <th>trestbps</th>\n",
       "      <th>chol</th>\n",
       "      <th>fbs</th>\n",
       "      <th>restecg</th>\n",
       "      <th>thalach</th>\n",
       "      <th>exang</th>\n",
       "      <th>oldpeak</th>\n",
       "      <th>slope</th>\n",
       "      <th>ca</th>\n",
       "      <th>thal</th>\n",
       "      <th>class</th>\n",
       "      <th>class binary</th>\n",
       "    </tr>\n",
       "  </thead>\n",
       "  <tbody>\n",
       "    <tr>\n",
       "      <th>0</th>\n",
       "      <td>63.0</td>\n",
       "      <td>1.0</td>\n",
       "      <td>1.0</td>\n",
       "      <td>145.0</td>\n",
       "      <td>233.0</td>\n",
       "      <td>1.0</td>\n",
       "      <td>2.0</td>\n",
       "      <td>150.0</td>\n",
       "      <td>0.0</td>\n",
       "      <td>2.3</td>\n",
       "      <td>3.0</td>\n",
       "      <td>0.0</td>\n",
       "      <td>6.0</td>\n",
       "      <td>0</td>\n",
       "      <td>0</td>\n",
       "    </tr>\n",
       "    <tr>\n",
       "      <th>1</th>\n",
       "      <td>67.0</td>\n",
       "      <td>1.0</td>\n",
       "      <td>4.0</td>\n",
       "      <td>160.0</td>\n",
       "      <td>286.0</td>\n",
       "      <td>0.0</td>\n",
       "      <td>2.0</td>\n",
       "      <td>108.0</td>\n",
       "      <td>1.0</td>\n",
       "      <td>1.5</td>\n",
       "      <td>2.0</td>\n",
       "      <td>3.0</td>\n",
       "      <td>3.0</td>\n",
       "      <td>2</td>\n",
       "      <td>1</td>\n",
       "    </tr>\n",
       "    <tr>\n",
       "      <th>2</th>\n",
       "      <td>67.0</td>\n",
       "      <td>1.0</td>\n",
       "      <td>4.0</td>\n",
       "      <td>120.0</td>\n",
       "      <td>229.0</td>\n",
       "      <td>0.0</td>\n",
       "      <td>2.0</td>\n",
       "      <td>129.0</td>\n",
       "      <td>1.0</td>\n",
       "      <td>2.6</td>\n",
       "      <td>2.0</td>\n",
       "      <td>2.0</td>\n",
       "      <td>7.0</td>\n",
       "      <td>1</td>\n",
       "      <td>1</td>\n",
       "    </tr>\n",
       "    <tr>\n",
       "      <th>3</th>\n",
       "      <td>37.0</td>\n",
       "      <td>1.0</td>\n",
       "      <td>3.0</td>\n",
       "      <td>130.0</td>\n",
       "      <td>250.0</td>\n",
       "      <td>0.0</td>\n",
       "      <td>0.0</td>\n",
       "      <td>187.0</td>\n",
       "      <td>0.0</td>\n",
       "      <td>3.5</td>\n",
       "      <td>3.0</td>\n",
       "      <td>0.0</td>\n",
       "      <td>3.0</td>\n",
       "      <td>0</td>\n",
       "      <td>0</td>\n",
       "    </tr>\n",
       "    <tr>\n",
       "      <th>4</th>\n",
       "      <td>41.0</td>\n",
       "      <td>0.0</td>\n",
       "      <td>2.0</td>\n",
       "      <td>130.0</td>\n",
       "      <td>204.0</td>\n",
       "      <td>0.0</td>\n",
       "      <td>2.0</td>\n",
       "      <td>172.0</td>\n",
       "      <td>0.0</td>\n",
       "      <td>1.4</td>\n",
       "      <td>1.0</td>\n",
       "      <td>0.0</td>\n",
       "      <td>3.0</td>\n",
       "      <td>0</td>\n",
       "      <td>0</td>\n",
       "    </tr>\n",
       "  </tbody>\n",
       "</table>\n",
       "</div>"
      ],
      "text/plain": [
       "    age  sex   cp  trestbps   chol  fbs  restecg  thalach  exang  oldpeak  \\\n",
       "0  63.0  1.0  1.0     145.0  233.0  1.0      2.0    150.0    0.0      2.3   \n",
       "1  67.0  1.0  4.0     160.0  286.0  0.0      2.0    108.0    1.0      1.5   \n",
       "2  67.0  1.0  4.0     120.0  229.0  0.0      2.0    129.0    1.0      2.6   \n",
       "3  37.0  1.0  3.0     130.0  250.0  0.0      0.0    187.0    0.0      3.5   \n",
       "4  41.0  0.0  2.0     130.0  204.0  0.0      2.0    172.0    0.0      1.4   \n",
       "\n",
       "   slope   ca  thal  class  class binary  \n",
       "0    3.0  0.0   6.0      0             0  \n",
       "1    2.0  3.0   3.0      2             1  \n",
       "2    2.0  2.0   7.0      1             1  \n",
       "3    3.0  0.0   3.0      0             0  \n",
       "4    1.0  0.0   3.0      0             0  "
      ]
     },
     "execution_count": 12,
     "metadata": {},
     "output_type": "execute_result"
    }
   ],
   "source": [
    "HD[\"class binary\"] = np.where(HD[\"class\"] > 0, 1, 0)\n",
    "HD.head()"
   ]
  },
  {
   "cell_type": "markdown",
   "id": "cad8a299",
   "metadata": {},
   "source": [
    "#### 4.1 Multiclass"
   ]
  },
  {
   "cell_type": "markdown",
   "id": "f8dd29b7",
   "metadata": {},
   "source": [
    "For Multiclass we drop \"Class Binary\" and rename \"Class\" to \"Class Multi\""
   ]
  },
  {
   "cell_type": "code",
   "execution_count": 13,
   "id": "1e5315d3",
   "metadata": {},
   "outputs": [
    {
     "data": {
      "text/html": [
       "<div>\n",
       "<style scoped>\n",
       "    .dataframe tbody tr th:only-of-type {\n",
       "        vertical-align: middle;\n",
       "    }\n",
       "\n",
       "    .dataframe tbody tr th {\n",
       "        vertical-align: top;\n",
       "    }\n",
       "\n",
       "    .dataframe thead th {\n",
       "        text-align: right;\n",
       "    }\n",
       "</style>\n",
       "<table border=\"1\" class=\"dataframe\">\n",
       "  <thead>\n",
       "    <tr style=\"text-align: right;\">\n",
       "      <th></th>\n",
       "      <th>age</th>\n",
       "      <th>sex</th>\n",
       "      <th>cp</th>\n",
       "      <th>trestbps</th>\n",
       "      <th>chol</th>\n",
       "      <th>fbs</th>\n",
       "      <th>restecg</th>\n",
       "      <th>thalach</th>\n",
       "      <th>exang</th>\n",
       "      <th>oldpeak</th>\n",
       "      <th>slope</th>\n",
       "      <th>ca</th>\n",
       "      <th>thal</th>\n",
       "      <th>class multi</th>\n",
       "    </tr>\n",
       "  </thead>\n",
       "  <tbody>\n",
       "    <tr>\n",
       "      <th>0</th>\n",
       "      <td>63.0</td>\n",
       "      <td>1.0</td>\n",
       "      <td>1.0</td>\n",
       "      <td>145.0</td>\n",
       "      <td>233.0</td>\n",
       "      <td>1.0</td>\n",
       "      <td>2.0</td>\n",
       "      <td>150.0</td>\n",
       "      <td>0.0</td>\n",
       "      <td>2.3</td>\n",
       "      <td>3.0</td>\n",
       "      <td>0.0</td>\n",
       "      <td>6.0</td>\n",
       "      <td>0</td>\n",
       "    </tr>\n",
       "    <tr>\n",
       "      <th>1</th>\n",
       "      <td>67.0</td>\n",
       "      <td>1.0</td>\n",
       "      <td>4.0</td>\n",
       "      <td>160.0</td>\n",
       "      <td>286.0</td>\n",
       "      <td>0.0</td>\n",
       "      <td>2.0</td>\n",
       "      <td>108.0</td>\n",
       "      <td>1.0</td>\n",
       "      <td>1.5</td>\n",
       "      <td>2.0</td>\n",
       "      <td>3.0</td>\n",
       "      <td>3.0</td>\n",
       "      <td>2</td>\n",
       "    </tr>\n",
       "    <tr>\n",
       "      <th>2</th>\n",
       "      <td>67.0</td>\n",
       "      <td>1.0</td>\n",
       "      <td>4.0</td>\n",
       "      <td>120.0</td>\n",
       "      <td>229.0</td>\n",
       "      <td>0.0</td>\n",
       "      <td>2.0</td>\n",
       "      <td>129.0</td>\n",
       "      <td>1.0</td>\n",
       "      <td>2.6</td>\n",
       "      <td>2.0</td>\n",
       "      <td>2.0</td>\n",
       "      <td>7.0</td>\n",
       "      <td>1</td>\n",
       "    </tr>\n",
       "    <tr>\n",
       "      <th>3</th>\n",
       "      <td>37.0</td>\n",
       "      <td>1.0</td>\n",
       "      <td>3.0</td>\n",
       "      <td>130.0</td>\n",
       "      <td>250.0</td>\n",
       "      <td>0.0</td>\n",
       "      <td>0.0</td>\n",
       "      <td>187.0</td>\n",
       "      <td>0.0</td>\n",
       "      <td>3.5</td>\n",
       "      <td>3.0</td>\n",
       "      <td>0.0</td>\n",
       "      <td>3.0</td>\n",
       "      <td>0</td>\n",
       "    </tr>\n",
       "    <tr>\n",
       "      <th>4</th>\n",
       "      <td>41.0</td>\n",
       "      <td>0.0</td>\n",
       "      <td>2.0</td>\n",
       "      <td>130.0</td>\n",
       "      <td>204.0</td>\n",
       "      <td>0.0</td>\n",
       "      <td>2.0</td>\n",
       "      <td>172.0</td>\n",
       "      <td>0.0</td>\n",
       "      <td>1.4</td>\n",
       "      <td>1.0</td>\n",
       "      <td>0.0</td>\n",
       "      <td>3.0</td>\n",
       "      <td>0</td>\n",
       "    </tr>\n",
       "  </tbody>\n",
       "</table>\n",
       "</div>"
      ],
      "text/plain": [
       "    age  sex   cp  trestbps   chol  fbs  restecg  thalach  exang  oldpeak  \\\n",
       "0  63.0  1.0  1.0     145.0  233.0  1.0      2.0    150.0    0.0      2.3   \n",
       "1  67.0  1.0  4.0     160.0  286.0  0.0      2.0    108.0    1.0      1.5   \n",
       "2  67.0  1.0  4.0     120.0  229.0  0.0      2.0    129.0    1.0      2.6   \n",
       "3  37.0  1.0  3.0     130.0  250.0  0.0      0.0    187.0    0.0      3.5   \n",
       "4  41.0  0.0  2.0     130.0  204.0  0.0      2.0    172.0    0.0      1.4   \n",
       "\n",
       "   slope   ca  thal  class multi  \n",
       "0    3.0  0.0   6.0            0  \n",
       "1    2.0  3.0   3.0            2  \n",
       "2    2.0  2.0   7.0            1  \n",
       "3    3.0  0.0   3.0            0  \n",
       "4    1.0  0.0   3.0            0  "
      ]
     },
     "execution_count": 13,
     "metadata": {},
     "output_type": "execute_result"
    }
   ],
   "source": [
    "HD_multi = HD.drop('class binary', axis=1)\n",
    "HD_multi.rename(columns={'class': 'class multi'}, inplace=True)\n",
    "HD_multi.head()"
   ]
  },
  {
   "cell_type": "markdown",
   "id": "347cd42d",
   "metadata": {},
   "source": [
    "#### 4.2 Binary"
   ]
  },
  {
   "cell_type": "markdown",
   "id": "859a98d5",
   "metadata": {},
   "source": [
    "We drop \"Class\", because \"Class Binary\" is already available"
   ]
  },
  {
   "cell_type": "code",
   "execution_count": 14,
   "id": "0a2b2216",
   "metadata": {},
   "outputs": [
    {
     "data": {
      "text/html": [
       "<div>\n",
       "<style scoped>\n",
       "    .dataframe tbody tr th:only-of-type {\n",
       "        vertical-align: middle;\n",
       "    }\n",
       "\n",
       "    .dataframe tbody tr th {\n",
       "        vertical-align: top;\n",
       "    }\n",
       "\n",
       "    .dataframe thead th {\n",
       "        text-align: right;\n",
       "    }\n",
       "</style>\n",
       "<table border=\"1\" class=\"dataframe\">\n",
       "  <thead>\n",
       "    <tr style=\"text-align: right;\">\n",
       "      <th></th>\n",
       "      <th>age</th>\n",
       "      <th>sex</th>\n",
       "      <th>cp</th>\n",
       "      <th>trestbps</th>\n",
       "      <th>chol</th>\n",
       "      <th>fbs</th>\n",
       "      <th>restecg</th>\n",
       "      <th>thalach</th>\n",
       "      <th>exang</th>\n",
       "      <th>oldpeak</th>\n",
       "      <th>slope</th>\n",
       "      <th>ca</th>\n",
       "      <th>thal</th>\n",
       "      <th>class binary</th>\n",
       "    </tr>\n",
       "  </thead>\n",
       "  <tbody>\n",
       "    <tr>\n",
       "      <th>0</th>\n",
       "      <td>63.0</td>\n",
       "      <td>1.0</td>\n",
       "      <td>1.0</td>\n",
       "      <td>145.0</td>\n",
       "      <td>233.0</td>\n",
       "      <td>1.0</td>\n",
       "      <td>2.0</td>\n",
       "      <td>150.0</td>\n",
       "      <td>0.0</td>\n",
       "      <td>2.3</td>\n",
       "      <td>3.0</td>\n",
       "      <td>0.0</td>\n",
       "      <td>6.0</td>\n",
       "      <td>0</td>\n",
       "    </tr>\n",
       "    <tr>\n",
       "      <th>1</th>\n",
       "      <td>67.0</td>\n",
       "      <td>1.0</td>\n",
       "      <td>4.0</td>\n",
       "      <td>160.0</td>\n",
       "      <td>286.0</td>\n",
       "      <td>0.0</td>\n",
       "      <td>2.0</td>\n",
       "      <td>108.0</td>\n",
       "      <td>1.0</td>\n",
       "      <td>1.5</td>\n",
       "      <td>2.0</td>\n",
       "      <td>3.0</td>\n",
       "      <td>3.0</td>\n",
       "      <td>1</td>\n",
       "    </tr>\n",
       "    <tr>\n",
       "      <th>2</th>\n",
       "      <td>67.0</td>\n",
       "      <td>1.0</td>\n",
       "      <td>4.0</td>\n",
       "      <td>120.0</td>\n",
       "      <td>229.0</td>\n",
       "      <td>0.0</td>\n",
       "      <td>2.0</td>\n",
       "      <td>129.0</td>\n",
       "      <td>1.0</td>\n",
       "      <td>2.6</td>\n",
       "      <td>2.0</td>\n",
       "      <td>2.0</td>\n",
       "      <td>7.0</td>\n",
       "      <td>1</td>\n",
       "    </tr>\n",
       "    <tr>\n",
       "      <th>3</th>\n",
       "      <td>37.0</td>\n",
       "      <td>1.0</td>\n",
       "      <td>3.0</td>\n",
       "      <td>130.0</td>\n",
       "      <td>250.0</td>\n",
       "      <td>0.0</td>\n",
       "      <td>0.0</td>\n",
       "      <td>187.0</td>\n",
       "      <td>0.0</td>\n",
       "      <td>3.5</td>\n",
       "      <td>3.0</td>\n",
       "      <td>0.0</td>\n",
       "      <td>3.0</td>\n",
       "      <td>0</td>\n",
       "    </tr>\n",
       "    <tr>\n",
       "      <th>4</th>\n",
       "      <td>41.0</td>\n",
       "      <td>0.0</td>\n",
       "      <td>2.0</td>\n",
       "      <td>130.0</td>\n",
       "      <td>204.0</td>\n",
       "      <td>0.0</td>\n",
       "      <td>2.0</td>\n",
       "      <td>172.0</td>\n",
       "      <td>0.0</td>\n",
       "      <td>1.4</td>\n",
       "      <td>1.0</td>\n",
       "      <td>0.0</td>\n",
       "      <td>3.0</td>\n",
       "      <td>0</td>\n",
       "    </tr>\n",
       "  </tbody>\n",
       "</table>\n",
       "</div>"
      ],
      "text/plain": [
       "    age  sex   cp  trestbps   chol  fbs  restecg  thalach  exang  oldpeak  \\\n",
       "0  63.0  1.0  1.0     145.0  233.0  1.0      2.0    150.0    0.0      2.3   \n",
       "1  67.0  1.0  4.0     160.0  286.0  0.0      2.0    108.0    1.0      1.5   \n",
       "2  67.0  1.0  4.0     120.0  229.0  0.0      2.0    129.0    1.0      2.6   \n",
       "3  37.0  1.0  3.0     130.0  250.0  0.0      0.0    187.0    0.0      3.5   \n",
       "4  41.0  0.0  2.0     130.0  204.0  0.0      2.0    172.0    0.0      1.4   \n",
       "\n",
       "   slope   ca  thal  class binary  \n",
       "0    3.0  0.0   6.0             0  \n",
       "1    2.0  3.0   3.0             1  \n",
       "2    2.0  2.0   7.0             1  \n",
       "3    3.0  0.0   3.0             0  \n",
       "4    1.0  0.0   3.0             0  "
      ]
     },
     "execution_count": 14,
     "metadata": {},
     "output_type": "execute_result"
    }
   ],
   "source": [
    "HD_binary = HD.drop('class', axis=1)\n",
    "HD_binary.head()"
   ]
  },
  {
   "cell_type": "markdown",
   "id": "9d5dd709",
   "metadata": {},
   "source": [
    "### 5 Define X & Y"
   ]
  },
  {
   "cell_type": "markdown",
   "id": "bad03543",
   "metadata": {},
   "source": [
    "We define the x Table and y Table\n",
    "- x Table contains all features (without the outcome)\n",
    "- y Table only contains the Outcome"
   ]
  },
  {
   "cell_type": "markdown",
   "id": "557c314c",
   "metadata": {},
   "source": [
    "#### 5.1 Multi"
   ]
  },
  {
   "cell_type": "code",
   "execution_count": 15,
   "id": "53469630",
   "metadata": {},
   "outputs": [],
   "source": [
    "x_multi = HD_multi.drop('class multi', axis=1)       # features\n",
    "y_multi = HD_multi['class multi']                    # labels"
   ]
  },
  {
   "cell_type": "code",
   "execution_count": 16,
   "id": "924c34fc",
   "metadata": {},
   "outputs": [
    {
     "data": {
      "text/html": [
       "<div>\n",
       "<style scoped>\n",
       "    .dataframe tbody tr th:only-of-type {\n",
       "        vertical-align: middle;\n",
       "    }\n",
       "\n",
       "    .dataframe tbody tr th {\n",
       "        vertical-align: top;\n",
       "    }\n",
       "\n",
       "    .dataframe thead th {\n",
       "        text-align: right;\n",
       "    }\n",
       "</style>\n",
       "<table border=\"1\" class=\"dataframe\">\n",
       "  <thead>\n",
       "    <tr style=\"text-align: right;\">\n",
       "      <th></th>\n",
       "      <th>age</th>\n",
       "      <th>sex</th>\n",
       "      <th>cp</th>\n",
       "      <th>trestbps</th>\n",
       "      <th>chol</th>\n",
       "      <th>fbs</th>\n",
       "      <th>restecg</th>\n",
       "      <th>thalach</th>\n",
       "      <th>exang</th>\n",
       "      <th>oldpeak</th>\n",
       "      <th>slope</th>\n",
       "      <th>ca</th>\n",
       "      <th>thal</th>\n",
       "    </tr>\n",
       "  </thead>\n",
       "  <tbody>\n",
       "    <tr>\n",
       "      <th>0</th>\n",
       "      <td>63.0</td>\n",
       "      <td>1.0</td>\n",
       "      <td>1.0</td>\n",
       "      <td>145.0</td>\n",
       "      <td>233.0</td>\n",
       "      <td>1.0</td>\n",
       "      <td>2.0</td>\n",
       "      <td>150.0</td>\n",
       "      <td>0.0</td>\n",
       "      <td>2.3</td>\n",
       "      <td>3.0</td>\n",
       "      <td>0.0</td>\n",
       "      <td>6.0</td>\n",
       "    </tr>\n",
       "    <tr>\n",
       "      <th>1</th>\n",
       "      <td>67.0</td>\n",
       "      <td>1.0</td>\n",
       "      <td>4.0</td>\n",
       "      <td>160.0</td>\n",
       "      <td>286.0</td>\n",
       "      <td>0.0</td>\n",
       "      <td>2.0</td>\n",
       "      <td>108.0</td>\n",
       "      <td>1.0</td>\n",
       "      <td>1.5</td>\n",
       "      <td>2.0</td>\n",
       "      <td>3.0</td>\n",
       "      <td>3.0</td>\n",
       "    </tr>\n",
       "    <tr>\n",
       "      <th>2</th>\n",
       "      <td>67.0</td>\n",
       "      <td>1.0</td>\n",
       "      <td>4.0</td>\n",
       "      <td>120.0</td>\n",
       "      <td>229.0</td>\n",
       "      <td>0.0</td>\n",
       "      <td>2.0</td>\n",
       "      <td>129.0</td>\n",
       "      <td>1.0</td>\n",
       "      <td>2.6</td>\n",
       "      <td>2.0</td>\n",
       "      <td>2.0</td>\n",
       "      <td>7.0</td>\n",
       "    </tr>\n",
       "    <tr>\n",
       "      <th>3</th>\n",
       "      <td>37.0</td>\n",
       "      <td>1.0</td>\n",
       "      <td>3.0</td>\n",
       "      <td>130.0</td>\n",
       "      <td>250.0</td>\n",
       "      <td>0.0</td>\n",
       "      <td>0.0</td>\n",
       "      <td>187.0</td>\n",
       "      <td>0.0</td>\n",
       "      <td>3.5</td>\n",
       "      <td>3.0</td>\n",
       "      <td>0.0</td>\n",
       "      <td>3.0</td>\n",
       "    </tr>\n",
       "    <tr>\n",
       "      <th>4</th>\n",
       "      <td>41.0</td>\n",
       "      <td>0.0</td>\n",
       "      <td>2.0</td>\n",
       "      <td>130.0</td>\n",
       "      <td>204.0</td>\n",
       "      <td>0.0</td>\n",
       "      <td>2.0</td>\n",
       "      <td>172.0</td>\n",
       "      <td>0.0</td>\n",
       "      <td>1.4</td>\n",
       "      <td>1.0</td>\n",
       "      <td>0.0</td>\n",
       "      <td>3.0</td>\n",
       "    </tr>\n",
       "  </tbody>\n",
       "</table>\n",
       "</div>"
      ],
      "text/plain": [
       "    age  sex   cp  trestbps   chol  fbs  restecg  thalach  exang  oldpeak  \\\n",
       "0  63.0  1.0  1.0     145.0  233.0  1.0      2.0    150.0    0.0      2.3   \n",
       "1  67.0  1.0  4.0     160.0  286.0  0.0      2.0    108.0    1.0      1.5   \n",
       "2  67.0  1.0  4.0     120.0  229.0  0.0      2.0    129.0    1.0      2.6   \n",
       "3  37.0  1.0  3.0     130.0  250.0  0.0      0.0    187.0    0.0      3.5   \n",
       "4  41.0  0.0  2.0     130.0  204.0  0.0      2.0    172.0    0.0      1.4   \n",
       "\n",
       "   slope   ca  thal  \n",
       "0    3.0  0.0   6.0  \n",
       "1    2.0  3.0   3.0  \n",
       "2    2.0  2.0   7.0  \n",
       "3    3.0  0.0   3.0  \n",
       "4    1.0  0.0   3.0  "
      ]
     },
     "execution_count": 16,
     "metadata": {},
     "output_type": "execute_result"
    }
   ],
   "source": [
    "x_multi.head()"
   ]
  },
  {
   "cell_type": "code",
   "execution_count": 17,
   "id": "e7852f8c",
   "metadata": {},
   "outputs": [
    {
     "data": {
      "text/plain": [
       "0    0\n",
       "1    2\n",
       "2    1\n",
       "3    0\n",
       "4    0\n",
       "Name: class multi, dtype: int64"
      ]
     },
     "execution_count": 17,
     "metadata": {},
     "output_type": "execute_result"
    }
   ],
   "source": [
    "y_multi.head()"
   ]
  },
  {
   "cell_type": "markdown",
   "id": "37fcb790",
   "metadata": {},
   "source": [
    "#### 5.2 Binary"
   ]
  },
  {
   "cell_type": "markdown",
   "id": "df29b91c",
   "metadata": {},
   "source": [
    "We define the x Table and y Table\n",
    "- x Table contains all features (without the outcome)\n",
    "- y Table only contains the Outcome"
   ]
  },
  {
   "cell_type": "code",
   "execution_count": 18,
   "id": "e7a9b2dc",
   "metadata": {},
   "outputs": [],
   "source": [
    "x_binary = HD_binary.drop('class binary', axis=1)       # features\n",
    "y_binary = HD_binary['class binary']                    # labels"
   ]
  },
  {
   "cell_type": "code",
   "execution_count": 19,
   "id": "fed19573",
   "metadata": {},
   "outputs": [
    {
     "data": {
      "text/html": [
       "<div>\n",
       "<style scoped>\n",
       "    .dataframe tbody tr th:only-of-type {\n",
       "        vertical-align: middle;\n",
       "    }\n",
       "\n",
       "    .dataframe tbody tr th {\n",
       "        vertical-align: top;\n",
       "    }\n",
       "\n",
       "    .dataframe thead th {\n",
       "        text-align: right;\n",
       "    }\n",
       "</style>\n",
       "<table border=\"1\" class=\"dataframe\">\n",
       "  <thead>\n",
       "    <tr style=\"text-align: right;\">\n",
       "      <th></th>\n",
       "      <th>age</th>\n",
       "      <th>sex</th>\n",
       "      <th>cp</th>\n",
       "      <th>trestbps</th>\n",
       "      <th>chol</th>\n",
       "      <th>fbs</th>\n",
       "      <th>restecg</th>\n",
       "      <th>thalach</th>\n",
       "      <th>exang</th>\n",
       "      <th>oldpeak</th>\n",
       "      <th>slope</th>\n",
       "      <th>ca</th>\n",
       "      <th>thal</th>\n",
       "    </tr>\n",
       "  </thead>\n",
       "  <tbody>\n",
       "    <tr>\n",
       "      <th>0</th>\n",
       "      <td>63.0</td>\n",
       "      <td>1.0</td>\n",
       "      <td>1.0</td>\n",
       "      <td>145.0</td>\n",
       "      <td>233.0</td>\n",
       "      <td>1.0</td>\n",
       "      <td>2.0</td>\n",
       "      <td>150.0</td>\n",
       "      <td>0.0</td>\n",
       "      <td>2.3</td>\n",
       "      <td>3.0</td>\n",
       "      <td>0.0</td>\n",
       "      <td>6.0</td>\n",
       "    </tr>\n",
       "    <tr>\n",
       "      <th>1</th>\n",
       "      <td>67.0</td>\n",
       "      <td>1.0</td>\n",
       "      <td>4.0</td>\n",
       "      <td>160.0</td>\n",
       "      <td>286.0</td>\n",
       "      <td>0.0</td>\n",
       "      <td>2.0</td>\n",
       "      <td>108.0</td>\n",
       "      <td>1.0</td>\n",
       "      <td>1.5</td>\n",
       "      <td>2.0</td>\n",
       "      <td>3.0</td>\n",
       "      <td>3.0</td>\n",
       "    </tr>\n",
       "    <tr>\n",
       "      <th>2</th>\n",
       "      <td>67.0</td>\n",
       "      <td>1.0</td>\n",
       "      <td>4.0</td>\n",
       "      <td>120.0</td>\n",
       "      <td>229.0</td>\n",
       "      <td>0.0</td>\n",
       "      <td>2.0</td>\n",
       "      <td>129.0</td>\n",
       "      <td>1.0</td>\n",
       "      <td>2.6</td>\n",
       "      <td>2.0</td>\n",
       "      <td>2.0</td>\n",
       "      <td>7.0</td>\n",
       "    </tr>\n",
       "    <tr>\n",
       "      <th>3</th>\n",
       "      <td>37.0</td>\n",
       "      <td>1.0</td>\n",
       "      <td>3.0</td>\n",
       "      <td>130.0</td>\n",
       "      <td>250.0</td>\n",
       "      <td>0.0</td>\n",
       "      <td>0.0</td>\n",
       "      <td>187.0</td>\n",
       "      <td>0.0</td>\n",
       "      <td>3.5</td>\n",
       "      <td>3.0</td>\n",
       "      <td>0.0</td>\n",
       "      <td>3.0</td>\n",
       "    </tr>\n",
       "    <tr>\n",
       "      <th>4</th>\n",
       "      <td>41.0</td>\n",
       "      <td>0.0</td>\n",
       "      <td>2.0</td>\n",
       "      <td>130.0</td>\n",
       "      <td>204.0</td>\n",
       "      <td>0.0</td>\n",
       "      <td>2.0</td>\n",
       "      <td>172.0</td>\n",
       "      <td>0.0</td>\n",
       "      <td>1.4</td>\n",
       "      <td>1.0</td>\n",
       "      <td>0.0</td>\n",
       "      <td>3.0</td>\n",
       "    </tr>\n",
       "  </tbody>\n",
       "</table>\n",
       "</div>"
      ],
      "text/plain": [
       "    age  sex   cp  trestbps   chol  fbs  restecg  thalach  exang  oldpeak  \\\n",
       "0  63.0  1.0  1.0     145.0  233.0  1.0      2.0    150.0    0.0      2.3   \n",
       "1  67.0  1.0  4.0     160.0  286.0  0.0      2.0    108.0    1.0      1.5   \n",
       "2  67.0  1.0  4.0     120.0  229.0  0.0      2.0    129.0    1.0      2.6   \n",
       "3  37.0  1.0  3.0     130.0  250.0  0.0      0.0    187.0    0.0      3.5   \n",
       "4  41.0  0.0  2.0     130.0  204.0  0.0      2.0    172.0    0.0      1.4   \n",
       "\n",
       "   slope   ca  thal  \n",
       "0    3.0  0.0   6.0  \n",
       "1    2.0  3.0   3.0  \n",
       "2    2.0  2.0   7.0  \n",
       "3    3.0  0.0   3.0  \n",
       "4    1.0  0.0   3.0  "
      ]
     },
     "execution_count": 19,
     "metadata": {},
     "output_type": "execute_result"
    }
   ],
   "source": [
    "x_binary.head()"
   ]
  },
  {
   "cell_type": "code",
   "execution_count": 20,
   "id": "5cc52714",
   "metadata": {},
   "outputs": [
    {
     "data": {
      "text/plain": [
       "0    0\n",
       "1    1\n",
       "2    1\n",
       "3    0\n",
       "4    0\n",
       "Name: class binary, dtype: int32"
      ]
     },
     "execution_count": 20,
     "metadata": {},
     "output_type": "execute_result"
    }
   ],
   "source": [
    "y_binary.head()"
   ]
  },
  {
   "cell_type": "markdown",
   "id": "296d32ac",
   "metadata": {},
   "source": [
    "### 6 Analysis of the different classes"
   ]
  },
  {
   "cell_type": "code",
   "execution_count": 21,
   "id": "0bfbfa97",
   "metadata": {},
   "outputs": [
    {
     "data": {
      "image/png": "[encoded data removed]",
      "text/plain": [
       "<Figure size 432x288 with 1 Axes>"
      ]
     },
     "metadata": {
      "needs_background": "light"
     },
     "output_type": "display_data"
    }
   ],
   "source": [
    "sns.countplot(y_multi);"
   ]
  },
  {
   "cell_type": "code",
   "execution_count": 22,
   "id": "e4976a1f",
   "metadata": {},
   "outputs": [
    {
     "name": "stdout",
     "output_type": "stream",
     "text": [
      "The percentage of 0 is: 53.87 %\n",
      "The percentage of 1 is: 18.18 %\n",
      "The percentage of 2 is: 11.78 %\n",
      "The percentage of 3 is: 11.78 %\n",
      "The percentage of 4 is: 4.38 %\n"
     ]
    }
   ],
   "source": [
    "print('The percentage of 0 is:', '{:.2f}'.format(len(HD_multi[HD_multi['class multi']==0])/len(y_multi)*100), '%')\n",
    "print('The percentage of 1 is:', '{:.2f}'.format(len(HD_multi[HD_multi['class multi']==1])/len(y_multi)*100), '%')\n",
    "print('The percentage of 2 is:', '{:.2f}'.format(len(HD_multi[HD_multi['class multi']==2])/len(y_multi)*100), '%')\n",
    "print('The percentage of 3 is:', '{:.2f}'.format(len(HD_multi[HD_multi['class multi']==3])/len(y_multi)*100), '%')\n",
    "print('The percentage of 4 is:', '{:.2f}'.format(len(HD_multi[HD_multi['class multi']==4])/len(y_multi)*100), '%')"
   ]
  },
  {
   "cell_type": "code",
   "execution_count": 23,
   "id": "fe85ff6e",
   "metadata": {},
   "outputs": [
    {
     "data": {
      "image/png": "[encoded data removed]",
      "text/plain": [
       "<Figure size 432x288 with 1 Axes>"
      ]
     },
     "metadata": {
      "needs_background": "light"
     },
     "output_type": "display_data"
    }
   ],
   "source": [
    "sns.countplot(y_binary);"
   ]
  },
  {
   "cell_type": "code",
   "execution_count": 24,
   "id": "2018bfc0",
   "metadata": {},
   "outputs": [
    {
     "name": "stdout",
     "output_type": "stream",
     "text": [
      "The percentage of 0 is: 53.87 %\n",
      "The percentage of 1 is: 46.13 %\n"
     ]
    }
   ],
   "source": [
    "print('The percentage of 0 is:', '{:.2f}'.format(len(HD_binary[HD_binary['class binary']==0])/len(y_binary)*100), '%')\n",
    "print('The percentage of 1 is:', '{:.2f}'.format(len(HD_binary[HD_binary['class binary']==1])/len(y_binary)*100), '%')"
   ]
  },
  {
   "cell_type": "markdown",
   "id": "9ef80546",
   "metadata": {},
   "source": [
    "### 7 Split the Dataset into Train-Validation-Test"
   ]
  },
  {
   "cell_type": "markdown",
   "id": "114b4751",
   "metadata": {},
   "source": [
    "#### 7.1 Multi"
   ]
  },
  {
   "cell_type": "code",
   "execution_count": 25,
   "id": "2706102c",
   "metadata": {},
   "outputs": [],
   "source": [
    "from sklearn.model_selection import train_test_split\n",
    "\n",
    "# First we split in Train (0.7) & in Test (0.3)\n",
    "# random_state means the code will always have the same training set (in order to reproduce results)\n",
    "x_multi_train, x_multi_test, y_multi_train, y_multi_test = train_test_split(x_multi, y_multi, test_size=0.3, random_state=42, stratify=y_multi)\n",
    "\n",
    "#Secondly we split in Train & Validation\n",
    "# random_state means the code will always have the same training set (in order to reproduce results)\n",
    "\n",
    "x_multi_train_val, x_multi_validation, y_multi_train_val, y_multi_validation = train_test_split(x_multi_train, y_multi_train, test_size=(0.2/0.7), random_state=42, stratify=y_multi_train)"
   ]
  },
  {
   "cell_type": "code",
   "execution_count": 26,
   "id": "f55dfee0",
   "metadata": {},
   "outputs": [
    {
     "name": "stdout",
     "output_type": "stream",
     "text": [
      "Shape of x_multi_train             : (207, 13)\n",
      "Shape of x_multi_test              : (90, 13)\n",
      "Shape of y_multi_train             : (207,)\n",
      "Shape of y_multi_test              : (90,)\n",
      "\n",
      "Lenght of Dataset                  :  297\n",
      "Percentage of Train_multi          :  69.70 %\n",
      "Percentage of Test_multi           :  30.30 %\n",
      "Percentage of x_multi_train_val    :  49.49 %\n",
      "Percentage of Validation_multi     :  20.20 %\n"
     ]
    }
   ],
   "source": [
    "#Quick check if the split is correct:\n",
    "print(\"Shape of x_multi_train             : \"+str(x_multi_train.shape))\n",
    "print(\"Shape of x_multi_test              : \"+str(x_multi_test.shape))\n",
    "print(\"Shape of y_multi_train             : \"+str(y_multi_train.shape))\n",
    "print(\"Shape of y_multi_test              : \"+str(y_multi_test.shape))\n",
    "print('')\n",
    "print(\"Lenght of Dataset                  : \", len(x_multi))\n",
    "print(\"Percentage of Train_multi          : \", '{:.2f}'.format(len(x_multi_train)/len(x_multi)*100), '%')\n",
    "print(\"Percentage of Test_multi           : \", '{:.2f}'.format(len(x_multi_test)/len(x_multi)*100), '%')\n",
    "\n",
    "print(\"Percentage of x_multi_train_val    : \", '{:.2f}'.format(len(x_multi_train_val)/len(x_multi)*100), '%')\n",
    "print(\"Percentage of Validation_multi     : \", '{:.2f}'.format(len(x_multi_validation)/len(x_multi)*100), '%')\n"
   ]
  },
  {
   "cell_type": "markdown",
   "id": "892aec30",
   "metadata": {},
   "source": [
    "#### 7.2 Binary"
   ]
  },
  {
   "cell_type": "markdown",
   "id": "c5f1a3d7",
   "metadata": {},
   "source": [
    "Wichtig:\n",
    "- alles korrekt mit Binary / Multi?\n",
    "- Stratify nicht vergessen\n"
   ]
  },
  {
   "cell_type": "code",
   "execution_count": 27,
   "id": "8cd58d00",
   "metadata": {},
   "outputs": [],
   "source": [
    "from sklearn.model_selection import train_test_split\n",
    "\n",
    "# First we split in Train (0.7) & in Test (0.3)\n",
    "# random_state means the code will always have the same training set (in order to reproduce results)\n",
    "x_binary_train, x_binary_test, y_binary_train, y_binary_test = train_test_split(x_binary, y_binary, test_size=0.3, random_state=42, stratify=y_binary)\n",
    "\n",
    "#Secondly we split in Train & Validation\n",
    "# random_state means the code will always have the same training set (in order to reproduce results)\n",
    "\n",
    "x_binary_train_val, x_binary_validation, y_binary_train_val, y_binary_validation = train_test_split(x_binary_train, y_binary_train, test_size=(0.2/0.7), random_state=42)"
   ]
  },
  {
   "cell_type": "code",
   "execution_count": 28,
   "id": "57c328ba",
   "metadata": {},
   "outputs": [
    {
     "name": "stdout",
     "output_type": "stream",
     "text": [
      "Shape of x_binary_train             : (207, 13)\n",
      "Shape of x_binary_test              : (90, 13)\n",
      "Shape of y_binary_train             : (207,)\n",
      "Shape of y_binary_test              : (90,)\n",
      "\n",
      "Lenght of Dataset                   :  297\n",
      "Percentage of Train_binary          :  69.70 %\n",
      "Percentage of Test_binary           :  30.30 %\n",
      "Percentage of x_binary_train_val    :  49.49 %\n",
      "Percentage of Validation_binary     :  20.20 %\n"
     ]
    }
   ],
   "source": [
    "#Quick check if the split is correct:\n",
    "print(\"Shape of x_binary_train             : \"+str(x_binary_train.shape))\n",
    "print(\"Shape of x_binary_test              : \"+str(x_binary_test.shape))\n",
    "print(\"Shape of y_binary_train             : \"+str(y_binary_train.shape))\n",
    "print(\"Shape of y_binary_test              : \"+str(y_binary_test.shape))\n",
    "print('')\n",
    "print(\"Lenght of Dataset                   : \", len(x_binary))\n",
    "print(\"Percentage of Train_binary          : \", '{:.2f}'.format(len(x_binary_train)/len(x_binary)*100), '%')\n",
    "print(\"Percentage of Test_binary           : \", '{:.2f}'.format(len(x_binary_test)/len(x_binary)*100), '%')\n",
    "\n",
    "print(\"Percentage of x_binary_train_val    : \", '{:.2f}'.format(len(x_binary_train_val)/len(x_binary)*100), '%')\n",
    "print(\"Percentage of Validation_binary     : \", '{:.2f}'.format(len(x_binary_validation)/len(x_binary)*100), '%')\n"
   ]
  },
  {
   "cell_type": "markdown",
   "id": "ac948caf",
   "metadata": {},
   "source": [
    "### 8 Implementing the Models"
   ]
  },
  {
   "cell_type": "markdown",
   "id": "b0900971",
   "metadata": {},
   "source": [
    "Overview of the applied Models:\n",
    "\n",
    "        8.1 Decision Tree Binary:\n",
    "                \n",
    "                8.1.1 Basic Decision Tree -> Train & Test + Max Debth = 3\n",
    "                8.1.2 Decision Tree mit Cross Validation (KFold: Max Debth und Hyperparameter Tuning)\n",
    "        8.2 Decision Tree Multiclass:\n",
    "                \n",
    "                8.2.1 Basic Decision Tree -> Train & Test + Max Debth = 3\n",
    "                8.2.2 Decision Tree mit Cross Validation (KFold: Max Debth und Hyperparameter Tuning)\n",
    "        8.3 Random Forest mit Binary:\n",
    "\n",
    "        8.4 Random Forest mit Multiclass:"
   ]
  },
  {
   "cell_type": "markdown",
   "id": "cc202812",
   "metadata": {},
   "source": [
    "We use the following Model Abbreviations:\n",
    "- dtb_basic\n",
    "- dtb_cv\n",
    "- dtm_basic\n",
    "- dtm_cv\n",
    "- rfb\n",
    "- rfm"
   ]
  },
  {
   "attachments": {},
   "cell_type": "markdown",
   "id": "e5f2ad40",
   "metadata": {},
   "source": [
    "For each applied Model we will save the following Performance Metrics:\n",
    "- Model\n",
    "- Max Debth\n",
    "- Accuracy in Sample\n",
    "- Accuracy out of Sample\n",
    "- Precision Score\n",
    "- Recall Score\n",
    "- F1 Score\n",
    "- TP\n",
    "- TN\n",
    "- FP\n",
    "- FN"
   ]
  },
  {
   "cell_type": "code",
   "execution_count": 29,
   "id": "11122bfd",
   "metadata": {},
   "outputs": [],
   "source": [
    "Results = []"
   ]
  },
  {
   "cell_type": "markdown",
   "id": "4a79e02b",
   "metadata": {},
   "source": [
    "#### 8.1 Decision Tree Binary"
   ]
  },
  {
   "cell_type": "markdown",
   "id": "14fea073",
   "metadata": {},
   "source": [
    "##### 8.1.1 Decision Tree Binary (dtb_basic)"
   ]
  },
  {
   "attachments": {},
   "cell_type": "markdown",
   "id": "a8c611ee",
   "metadata": {},
   "source": [
    "Create Basic Decision Tree for Binary, with Default Parameters and Max Debth = 3"
   ]
  },
  {
   "cell_type": "code",
   "execution_count": 244,
   "id": "6653f612",
   "metadata": {},
   "outputs": [],
   "source": [
    "from sklearn.tree import DecisionTreeClassifier\n",
    "\n",
    "dtb_basic = DecisionTreeClassifier(max_depth=3, random_state=2)\n",
    "dtb_basic.fit(x_binary_train, y_binary_train);"
   ]
  },
  {
   "attachments": {},
   "cell_type": "markdown",
   "id": "ff75603e",
   "metadata": {},
   "source": [
    "- Welche Kennzahlen brauche ich?\n",
    "- Muss ich an Train oder Test anwenden?\n"
   ]
  },
  {
   "attachments": {},
   "cell_type": "markdown",
   "id": "8120efce",
   "metadata": {},
   "source": [
    "Was sieht man im Classification Report überhaupt alles? Lieber in Tabelle laden, was man braucht"
   ]
  },
  {
   "attachments": {},
   "cell_type": "markdown",
   "id": "c15885fd",
   "metadata": {},
   "source": [
    "https://scikit-learn.org/stable/modules/generated/sklearn.metrics.classification_report.html"
   ]
  },
  {
   "cell_type": "code",
   "execution_count": 245,
   "id": "6e3d3289",
   "metadata": {},
   "outputs": [
    {
     "name": "stdout",
     "output_type": "stream",
     "text": [
      "              precision    recall  f1-score   support\n",
      "\n",
      "           0       0.71      0.83      0.77        48\n",
      "           1       0.76      0.62      0.68        42\n",
      "\n",
      "    accuracy                           0.73        90\n",
      "   macro avg       0.74      0.73      0.73        90\n",
      "weighted avg       0.74      0.73      0.73        90\n",
      "\n"
     ]
    }
   ],
   "source": [
    "from sklearn.metrics import classification_report, accuracy_score, recall_score, f1_score, precision_score\n",
    "y_predict = dtb_basic.predict(x_binary_test)\n",
    "report = classification_report(y_binary_test, y_predict, output_dict=True )\n",
    "print(classification_report(y_binary_test, y_predict))"
   ]
  },
  {
   "cell_type": "code",
   "execution_count": 246,
   "id": "313c039b",
   "metadata": {},
   "outputs": [
    {
     "data": {
      "image/png": "[encoded data removed]",
      "text/plain": [
       "<Figure size 360x360 with 2 Axes>"
      ]
     },
     "metadata": {
      "needs_background": "light"
     },
     "output_type": "display_data"
    }
   ],
   "source": [
    "from sklearn.metrics import plot_confusion_matrix\n",
    "\n",
    "fig, ax = plt.subplots(figsize=(5, 5))\n",
    "plot_confusion_matrix(dtb_basic, x_binary_test, y_binary_test, display_labels= None, cmap=plt.cm.Blues, ax=ax)\n",
    "plt.show()"
   ]
  },
  {
   "cell_type": "code",
   "execution_count": 247,
   "id": "65836394",
   "metadata": {},
   "outputs": [],
   "source": [
    "from sklearn.metrics import accuracy_score, recall_score, precision_score, f1_score\n",
    "model = 'dtb_basic'\n",
    "max_debth = 3\n",
    "accuracy_in_sample = dtb_basic.score(x_binary_train, y_binary_train)\n",
    "accuracy_out_sample = dtb_basic.score(x_binary_test, y_binary_test)\n",
    "Precision = report['macro avg']['precision'] \n",
    "Recall = report['macro avg']['recall']\n",
    "F1 = report['macro avg']['f1-score']\n",
    "TP = 1\n",
    "TN = 1\n",
    "FP = 1\n",
    "FN = 1"
   ]
  },
  {
   "cell_type": "code",
   "execution_count": 248,
   "id": "9de8d7ad",
   "metadata": {},
   "outputs": [
    {
     "data": {
      "text/html": [
       "<div>\n",
       "<style scoped>\n",
       "    .dataframe tbody tr th:only-of-type {\n",
       "        vertical-align: middle;\n",
       "    }\n",
       "\n",
       "    .dataframe tbody tr th {\n",
       "        vertical-align: top;\n",
       "    }\n",
       "\n",
       "    .dataframe thead th {\n",
       "        text-align: right;\n",
       "    }\n",
       "</style>\n",
       "<table border=\"1\" class=\"dataframe\">\n",
       "  <thead>\n",
       "    <tr style=\"text-align: right;\">\n",
       "      <th></th>\n",
       "      <th>Model</th>\n",
       "      <th>max_debth</th>\n",
       "      <th>accuracy_in_sample</th>\n",
       "      <th>accuracy_out_sample</th>\n",
       "      <th>Precision</th>\n",
       "      <th>Recall</th>\n",
       "      <th>F1</th>\n",
       "      <th>TP</th>\n",
       "      <th>TN</th>\n",
       "      <th>FP</th>\n",
       "      <th>FN</th>\n",
       "    </tr>\n",
       "  </thead>\n",
       "  <tbody>\n",
       "    <tr>\n",
       "      <th>0</th>\n",
       "      <td>dtb_basic</td>\n",
       "      <td>3</td>\n",
       "      <td>0.879227</td>\n",
       "      <td>0.733333</td>\n",
       "      <td>0.739496</td>\n",
       "      <td>0.72619</td>\n",
       "      <td>0.726721</td>\n",
       "      <td>1</td>\n",
       "      <td>1</td>\n",
       "      <td>1</td>\n",
       "      <td>1</td>\n",
       "    </tr>\n",
       "  </tbody>\n",
       "</table>\n",
       "</div>"
      ],
      "text/plain": [
       "       Model  max_debth  accuracy_in_sample  accuracy_out_sample  Precision  \\\n",
       "0  dtb_basic          3            0.879227             0.733333   0.739496   \n",
       "\n",
       "    Recall        F1  TP  TN  FP  FN  \n",
       "0  0.72619  0.726721   1   1   1   1  "
      ]
     },
     "execution_count": 248,
     "metadata": {},
     "output_type": "execute_result"
    }
   ],
   "source": [
    "#Append the Results from the Loop to the existing Dataframe:\n",
    "dtb_basic_temp = [(model, max_debth, accuracy_in_sample, accuracy_out_sample, Precision, Recall, F1, TP, TN, FP, FN)]\n",
    "dtb_basic_results = pd.DataFrame(dtb_basic_temp)\n",
    "dtb_basic_results.rename(columns= {0:'Model', 1:'max_debth', 2:'accuracy_in_sample', 3:'accuracy_out_sample', 4:'Precision', 5:'Recall', 6:'F1', 7:'TP', 8:'TN', 9:'FP', 10:'FN' }, inplace = True)\n",
    "dtb_basic_results"
   ]
  },
  {
   "cell_type": "markdown",
   "id": "2abf05b3",
   "metadata": {},
   "source": [
    "##### 8.1.2 Decision Tree Binary with Cross Validation (dtb_cv)"
   ]
  },
  {
   "attachments": {},
   "cell_type": "markdown",
   "id": "28666e60",
   "metadata": {},
   "source": [
    "https://www.featureranking.com/tutorials/machine-learning-tutorials/sk-part-4-cross-validation-and-hyperparameter-tuning/"
   ]
  },
  {
   "attachments": {},
   "cell_type": "markdown",
   "id": "07004745",
   "metadata": {},
   "source": [
    "Was sollen wir genau nehmen?\n",
    "- Grid Search CV (Siehe unten)\n",
    "- cross_validate\n",
    "- K-Feld\n",
    "- LOOCV\n",
    "- For Loop selber programmieren\n",
    "\n",
    "\n",
    "Wenn man K-Fold macht oder Grid Search, muss man immernoch Train set nehmen oder gibt man das ganze Datenset an, da es die Unterteilung selber macht?\n",
    "\n",
    "https://towardsdatascience.com/how-to-tune-a-decision-tree-f03721801680\n",
    "\n",
    "The next step after you define the range of values is to use a hyperparameter tuning method, there’s a bunch, the most common and expensive being Grid Search where others like Random Search and Bayesian Optimization will provide a “smarter”, less expensive tuning. These methods are not really the focus of this article but if you want to learn more, check the reference section [1]."
   ]
  },
  {
   "cell_type": "code",
   "execution_count": 249,
   "id": "130a201c",
   "metadata": {},
   "outputs": [
    {
     "name": "stdout",
     "output_type": "stream",
     "text": [
      "Fitting 15 folds for each of 44 candidates, totalling 660 fits\n"
     ]
    },
    {
     "name": "stderr",
     "output_type": "stream",
     "text": [
      "[Parallel(n_jobs=1)]: Using backend SequentialBackend with 1 concurrent workers.\n"
     ]
    },
    {
     "name": "stdout",
     "output_type": "stream",
     "text": [
      "Best Model:\n",
      "{'criterion': 'entropy', 'max_depth': 3, 'min_samples_split': 2}\n",
      "Best Score:\n",
      "0.8344383818342151\n"
     ]
    },
    {
     "name": "stderr",
     "output_type": "stream",
     "text": [
      "[Parallel(n_jobs=1)]: Done 660 out of 660 | elapsed:    5.3s finished\n"
     ]
    }
   ],
   "source": [
    "from sklearn.tree import DecisionTreeClassifier\n",
    "from sklearn.model_selection import GridSearchCV\n",
    "from sklearn.model_selection import RepeatedStratifiedKFold\n",
    "from sklearn.metrics import accuracy_score\n",
    "from sklearn.metrics import make_scorer\n",
    "\n",
    "scoring = {\"AUC\": \"roc_auc\", \"Accuracy\": make_scorer(accuracy_score)}\n",
    "\n",
    "df_classifier = DecisionTreeClassifier(random_state=2)\n",
    "\n",
    "cv_method = RepeatedStratifiedKFold(n_splits=5, \n",
    "                                    n_repeats=3, \n",
    "                                    random_state=2)\n",
    "\n",
    "params_DT = {'criterion': ['gini', 'entropy'],\n",
    "             'max_depth': [1, 2, 3, 4, 5, 6, 7, 8,10,15,20],\n",
    "             'min_samples_split': [2, 3]}\n",
    "\n",
    "dtb_cv = GridSearchCV(estimator=df_classifier, \n",
    "                     param_grid=params_DT, \n",
    "                     cv=cv_method,\n",
    "                     verbose=1, #output Messages\n",
    "                     refit=\"AUC\", #das brauche ich, damit ich mehrere Scores ausweisen kann\n",
    "                     scoring=scoring) #'accuracy') #brauchen wir noch mehr Outputs?\n",
    "\n",
    "dtb_cv.fit(x_binary, y_binary)\n",
    "print('Best Model:')\n",
    "print(dtb_cv.best_params_)\n",
    "print('Best Score:')\n",
    "print(dtb_cv.best_score_)"
   ]
  },
  {
   "attachments": {},
   "cell_type": "markdown",
   "id": "20ff1c28",
   "metadata": {},
   "source": [
    "Hier eine Version ohne AUC nur mit Accurary wie im Artikel:"
   ]
  },
  {
   "cell_type": "code",
   "execution_count": 250,
   "id": "ae156259",
   "metadata": {},
   "outputs": [
    {
     "name": "stderr",
     "output_type": "stream",
     "text": [
      "[Parallel(n_jobs=1)]: Using backend SequentialBackend with 1 concurrent workers.\n"
     ]
    },
    {
     "name": "stdout",
     "output_type": "stream",
     "text": [
      "Fitting 15 folds for each of 44 candidates, totalling 660 fits\n",
      "Best Model:\n",
      "{'criterion': 'entropy', 'max_depth': 3, 'min_samples_split': 2}\n",
      "Best Score:\n",
      "0.7845951035781543\n"
     ]
    },
    {
     "name": "stderr",
     "output_type": "stream",
     "text": [
      "[Parallel(n_jobs=1)]: Done 660 out of 660 | elapsed:    3.7s finished\n"
     ]
    }
   ],
   "source": [
    "from sklearn.tree import DecisionTreeClassifier\n",
    "from sklearn.model_selection import GridSearchCV\n",
    "from sklearn.model_selection import RepeatedStratifiedKFold\n",
    "from sklearn.metrics import accuracy_score\n",
    "from sklearn.metrics import make_scorer\n",
    "\n",
    "#scoring = {\"AUC\": \"roc_auc\", \"Accuracy\": make_scorer(accuracy_score)}\n",
    "\n",
    "df_classifier = DecisionTreeClassifier(random_state=2)\n",
    "\n",
    "cv_method = RepeatedStratifiedKFold(n_splits=5, \n",
    "                                    n_repeats=3, \n",
    "                                    random_state=2)\n",
    "\n",
    "params_DT = {'criterion': ['gini', 'entropy'],\n",
    "             'max_depth': [1, 2, 3, 4, 5, 6, 7, 8,10,15,20],\n",
    "             'min_samples_split': [2, 3]}\n",
    "\n",
    "dtb_cv = GridSearchCV(estimator=df_classifier, \n",
    "                     param_grid=params_DT, \n",
    "                     cv=cv_method,\n",
    "                     verbose=1, #output Messages\n",
    "                     #refit=\"AUC\", #das brauche ich, damit ich mehrere Scores ausweisen kann\n",
    "                     scoring='accuracy') #brauchen wir noch mehr Outputs?\n",
    "\n",
    "dtb_cv.fit(x_binary, y_binary)\n",
    "print('Best Model:')\n",
    "print(dtb_cv.best_params_)\n",
    "print('Best Score:')\n",
    "print(dtb_cv.best_score_)"
   ]
  },
  {
   "cell_type": "code",
   "execution_count": 251,
   "id": "68ed7865",
   "metadata": {},
   "outputs": [
    {
     "data": {
      "image/png": "[encoded data removed]",
      "text/plain": [
       "<Figure size 432x288 with 1 Axes>"
      ]
     },
     "metadata": {
      "needs_background": "light"
     },
     "output_type": "display_data"
    }
   ],
   "source": [
    "results_DT = pd.DataFrame(dtb_cv.cv_results_['params'])\n",
    "results_DT['test_score'] = dtb_cv.cv_results_['mean_test_score']\n",
    "results_DT.columns\n",
    "\n",
    "for i in ['gini', 'entropy']:\n",
    "    temp = results_DT[results_DT['criterion'] == i]\n",
    "    temp_average = temp.groupby('max_depth').agg({'test_score': 'mean'})\n",
    "    plt.plot(temp_average, marker = '.', label = i)\n",
    "    \n",
    "plt.legend()\n",
    "plt.xlabel('Max Depth')\n",
    "plt.ylabel(\"Mean CV Score\")\n",
    "plt.title(\"DT Performance Comparison\")\n",
    "plt.show()"
   ]
  },
  {
   "attachments": {},
   "cell_type": "markdown",
   "id": "c1f72ec9",
   "metadata": {},
   "source": [
    "Habe hier das ganze Dataset genommen und nicht train"
   ]
  },
  {
   "attachments": {},
   "cell_type": "markdown",
   "id": "07a59499",
   "metadata": {},
   "source": [
    "false negative bei Healthcare nehmen?"
   ]
  },
  {
   "cell_type": "code",
   "execution_count": 252,
   "id": "db2940bc",
   "metadata": {},
   "outputs": [
    {
     "data": {
      "text/html": [
       "<div>\n",
       "<style scoped>\n",
       "    .dataframe tbody tr th:only-of-type {\n",
       "        vertical-align: middle;\n",
       "    }\n",
       "\n",
       "    .dataframe tbody tr th {\n",
       "        vertical-align: top;\n",
       "    }\n",
       "\n",
       "    .dataframe thead th {\n",
       "        text-align: right;\n",
       "    }\n",
       "</style>\n",
       "<table border=\"1\" class=\"dataframe\">\n",
       "  <thead>\n",
       "    <tr style=\"text-align: right;\">\n",
       "      <th></th>\n",
       "      <th>criterion</th>\n",
       "      <th>max_depth</th>\n",
       "      <th>min_samples_split</th>\n",
       "      <th>Accuracy</th>\n",
       "    </tr>\n",
       "  </thead>\n",
       "  <tbody>\n",
       "    <tr>\n",
       "      <th>0</th>\n",
       "      <td>gini</td>\n",
       "      <td>1</td>\n",
       "      <td>2</td>\n",
       "      <td>0.727250</td>\n",
       "    </tr>\n",
       "    <tr>\n",
       "      <th>1</th>\n",
       "      <td>gini</td>\n",
       "      <td>1</td>\n",
       "      <td>3</td>\n",
       "      <td>0.727250</td>\n",
       "    </tr>\n",
       "    <tr>\n",
       "      <th>2</th>\n",
       "      <td>gini</td>\n",
       "      <td>2</td>\n",
       "      <td>2</td>\n",
       "      <td>0.736478</td>\n",
       "    </tr>\n",
       "    <tr>\n",
       "      <th>3</th>\n",
       "      <td>gini</td>\n",
       "      <td>2</td>\n",
       "      <td>3</td>\n",
       "      <td>0.736478</td>\n",
       "    </tr>\n",
       "    <tr>\n",
       "      <th>4</th>\n",
       "      <td>gini</td>\n",
       "      <td>3</td>\n",
       "      <td>2</td>\n",
       "      <td>0.775650</td>\n",
       "    </tr>\n",
       "    <tr>\n",
       "      <th>5</th>\n",
       "      <td>gini</td>\n",
       "      <td>3</td>\n",
       "      <td>3</td>\n",
       "      <td>0.775650</td>\n",
       "    </tr>\n",
       "    <tr>\n",
       "      <th>6</th>\n",
       "      <td>gini</td>\n",
       "      <td>4</td>\n",
       "      <td>2</td>\n",
       "      <td>0.765518</td>\n",
       "    </tr>\n",
       "    <tr>\n",
       "      <th>7</th>\n",
       "      <td>gini</td>\n",
       "      <td>4</td>\n",
       "      <td>3</td>\n",
       "      <td>0.763296</td>\n",
       "    </tr>\n",
       "    <tr>\n",
       "      <th>8</th>\n",
       "      <td>gini</td>\n",
       "      <td>5</td>\n",
       "      <td>2</td>\n",
       "      <td>0.737627</td>\n",
       "    </tr>\n",
       "    <tr>\n",
       "      <th>9</th>\n",
       "      <td>gini</td>\n",
       "      <td>5</td>\n",
       "      <td>3</td>\n",
       "      <td>0.732053</td>\n",
       "    </tr>\n",
       "    <tr>\n",
       "      <th>10</th>\n",
       "      <td>gini</td>\n",
       "      <td>6</td>\n",
       "      <td>2</td>\n",
       "      <td>0.737382</td>\n",
       "    </tr>\n",
       "    <tr>\n",
       "      <th>11</th>\n",
       "      <td>gini</td>\n",
       "      <td>6</td>\n",
       "      <td>3</td>\n",
       "      <td>0.732938</td>\n",
       "    </tr>\n",
       "    <tr>\n",
       "      <th>12</th>\n",
       "      <td>gini</td>\n",
       "      <td>7</td>\n",
       "      <td>2</td>\n",
       "      <td>0.730734</td>\n",
       "    </tr>\n",
       "    <tr>\n",
       "      <th>13</th>\n",
       "      <td>gini</td>\n",
       "      <td>7</td>\n",
       "      <td>3</td>\n",
       "      <td>0.719586</td>\n",
       "    </tr>\n",
       "    <tr>\n",
       "      <th>14</th>\n",
       "      <td>gini</td>\n",
       "      <td>8</td>\n",
       "      <td>2</td>\n",
       "      <td>0.735179</td>\n",
       "    </tr>\n",
       "    <tr>\n",
       "      <th>15</th>\n",
       "      <td>gini</td>\n",
       "      <td>8</td>\n",
       "      <td>3</td>\n",
       "      <td>0.728475</td>\n",
       "    </tr>\n",
       "    <tr>\n",
       "      <th>16</th>\n",
       "      <td>gini</td>\n",
       "      <td>10</td>\n",
       "      <td>2</td>\n",
       "      <td>0.728437</td>\n",
       "    </tr>\n",
       "    <tr>\n",
       "      <th>17</th>\n",
       "      <td>gini</td>\n",
       "      <td>10</td>\n",
       "      <td>3</td>\n",
       "      <td>0.729605</td>\n",
       "    </tr>\n",
       "    <tr>\n",
       "      <th>18</th>\n",
       "      <td>gini</td>\n",
       "      <td>15</td>\n",
       "      <td>2</td>\n",
       "      <td>0.727307</td>\n",
       "    </tr>\n",
       "    <tr>\n",
       "      <th>19</th>\n",
       "      <td>gini</td>\n",
       "      <td>15</td>\n",
       "      <td>3</td>\n",
       "      <td>0.731864</td>\n",
       "    </tr>\n",
       "    <tr>\n",
       "      <th>20</th>\n",
       "      <td>gini</td>\n",
       "      <td>20</td>\n",
       "      <td>2</td>\n",
       "      <td>0.727307</td>\n",
       "    </tr>\n",
       "    <tr>\n",
       "      <th>21</th>\n",
       "      <td>gini</td>\n",
       "      <td>20</td>\n",
       "      <td>3</td>\n",
       "      <td>0.731864</td>\n",
       "    </tr>\n",
       "    <tr>\n",
       "      <th>22</th>\n",
       "      <td>entropy</td>\n",
       "      <td>1</td>\n",
       "      <td>2</td>\n",
       "      <td>0.727250</td>\n",
       "    </tr>\n",
       "    <tr>\n",
       "      <th>23</th>\n",
       "      <td>entropy</td>\n",
       "      <td>1</td>\n",
       "      <td>3</td>\n",
       "      <td>0.727250</td>\n",
       "    </tr>\n",
       "    <tr>\n",
       "      <th>24</th>\n",
       "      <td>entropy</td>\n",
       "      <td>2</td>\n",
       "      <td>2</td>\n",
       "      <td>0.739774</td>\n",
       "    </tr>\n",
       "    <tr>\n",
       "      <th>25</th>\n",
       "      <td>entropy</td>\n",
       "      <td>2</td>\n",
       "      <td>3</td>\n",
       "      <td>0.739774</td>\n",
       "    </tr>\n",
       "    <tr>\n",
       "      <th>26</th>\n",
       "      <td>entropy</td>\n",
       "      <td>3</td>\n",
       "      <td>2</td>\n",
       "      <td>0.784595</td>\n",
       "    </tr>\n",
       "    <tr>\n",
       "      <th>27</th>\n",
       "      <td>entropy</td>\n",
       "      <td>3</td>\n",
       "      <td>3</td>\n",
       "      <td>0.784595</td>\n",
       "    </tr>\n",
       "    <tr>\n",
       "      <th>28</th>\n",
       "      <td>entropy</td>\n",
       "      <td>4</td>\n",
       "      <td>2</td>\n",
       "      <td>0.765461</td>\n",
       "    </tr>\n",
       "    <tr>\n",
       "      <th>29</th>\n",
       "      <td>entropy</td>\n",
       "      <td>4</td>\n",
       "      <td>3</td>\n",
       "      <td>0.765461</td>\n",
       "    </tr>\n",
       "    <tr>\n",
       "      <th>30</th>\n",
       "      <td>entropy</td>\n",
       "      <td>5</td>\n",
       "      <td>2</td>\n",
       "      <td>0.753126</td>\n",
       "    </tr>\n",
       "    <tr>\n",
       "      <th>31</th>\n",
       "      <td>entropy</td>\n",
       "      <td>5</td>\n",
       "      <td>3</td>\n",
       "      <td>0.754237</td>\n",
       "    </tr>\n",
       "    <tr>\n",
       "      <th>32</th>\n",
       "      <td>entropy</td>\n",
       "      <td>6</td>\n",
       "      <td>2</td>\n",
       "      <td>0.757608</td>\n",
       "    </tr>\n",
       "    <tr>\n",
       "      <th>33</th>\n",
       "      <td>entropy</td>\n",
       "      <td>6</td>\n",
       "      <td>3</td>\n",
       "      <td>0.748663</td>\n",
       "    </tr>\n",
       "    <tr>\n",
       "      <th>34</th>\n",
       "      <td>entropy</td>\n",
       "      <td>7</td>\n",
       "      <td>2</td>\n",
       "      <td>0.731770</td>\n",
       "    </tr>\n",
       "    <tr>\n",
       "      <th>35</th>\n",
       "      <td>entropy</td>\n",
       "      <td>7</td>\n",
       "      <td>3</td>\n",
       "      <td>0.729529</td>\n",
       "    </tr>\n",
       "    <tr>\n",
       "      <th>36</th>\n",
       "      <td>entropy</td>\n",
       "      <td>8</td>\n",
       "      <td>2</td>\n",
       "      <td>0.744162</td>\n",
       "    </tr>\n",
       "    <tr>\n",
       "      <th>37</th>\n",
       "      <td>entropy</td>\n",
       "      <td>8</td>\n",
       "      <td>3</td>\n",
       "      <td>0.737382</td>\n",
       "    </tr>\n",
       "    <tr>\n",
       "      <th>38</th>\n",
       "      <td>entropy</td>\n",
       "      <td>10</td>\n",
       "      <td>2</td>\n",
       "      <td>0.737439</td>\n",
       "    </tr>\n",
       "    <tr>\n",
       "      <th>39</th>\n",
       "      <td>entropy</td>\n",
       "      <td>10</td>\n",
       "      <td>3</td>\n",
       "      <td>0.744181</td>\n",
       "    </tr>\n",
       "    <tr>\n",
       "      <th>40</th>\n",
       "      <td>entropy</td>\n",
       "      <td>15</td>\n",
       "      <td>2</td>\n",
       "      <td>0.732919</td>\n",
       "    </tr>\n",
       "    <tr>\n",
       "      <th>41</th>\n",
       "      <td>entropy</td>\n",
       "      <td>15</td>\n",
       "      <td>3</td>\n",
       "      <td>0.739661</td>\n",
       "    </tr>\n",
       "    <tr>\n",
       "      <th>42</th>\n",
       "      <td>entropy</td>\n",
       "      <td>20</td>\n",
       "      <td>2</td>\n",
       "      <td>0.732919</td>\n",
       "    </tr>\n",
       "    <tr>\n",
       "      <th>43</th>\n",
       "      <td>entropy</td>\n",
       "      <td>20</td>\n",
       "      <td>3</td>\n",
       "      <td>0.739661</td>\n",
       "    </tr>\n",
       "  </tbody>\n",
       "</table>\n",
       "</div>"
      ],
      "text/plain": [
       "   criterion  max_depth  min_samples_split  Accuracy\n",
       "0       gini          1                  2  0.727250\n",
       "1       gini          1                  3  0.727250\n",
       "2       gini          2                  2  0.736478\n",
       "3       gini          2                  3  0.736478\n",
       "4       gini          3                  2  0.775650\n",
       "5       gini          3                  3  0.775650\n",
       "6       gini          4                  2  0.765518\n",
       "7       gini          4                  3  0.763296\n",
       "8       gini          5                  2  0.737627\n",
       "9       gini          5                  3  0.732053\n",
       "10      gini          6                  2  0.737382\n",
       "11      gini          6                  3  0.732938\n",
       "12      gini          7                  2  0.730734\n",
       "13      gini          7                  3  0.719586\n",
       "14      gini          8                  2  0.735179\n",
       "15      gini          8                  3  0.728475\n",
       "16      gini         10                  2  0.728437\n",
       "17      gini         10                  3  0.729605\n",
       "18      gini         15                  2  0.727307\n",
       "19      gini         15                  3  0.731864\n",
       "20      gini         20                  2  0.727307\n",
       "21      gini         20                  3  0.731864\n",
       "22   entropy          1                  2  0.727250\n",
       "23   entropy          1                  3  0.727250\n",
       "24   entropy          2                  2  0.739774\n",
       "25   entropy          2                  3  0.739774\n",
       "26   entropy          3                  2  0.784595\n",
       "27   entropy          3                  3  0.784595\n",
       "28   entropy          4                  2  0.765461\n",
       "29   entropy          4                  3  0.765461\n",
       "30   entropy          5                  2  0.753126\n",
       "31   entropy          5                  3  0.754237\n",
       "32   entropy          6                  2  0.757608\n",
       "33   entropy          6                  3  0.748663\n",
       "34   entropy          7                  2  0.731770\n",
       "35   entropy          7                  3  0.729529\n",
       "36   entropy          8                  2  0.744162\n",
       "37   entropy          8                  3  0.737382\n",
       "38   entropy         10                  2  0.737439\n",
       "39   entropy         10                  3  0.744181\n",
       "40   entropy         15                  2  0.732919\n",
       "41   entropy         15                  3  0.739661\n",
       "42   entropy         20                  2  0.732919\n",
       "43   entropy         20                  3  0.739661"
      ]
     },
     "execution_count": 252,
     "metadata": {},
     "output_type": "execute_result"
    }
   ],
   "source": [
    "dtb_cv_results = pd.concat([pd.DataFrame(dtb_cv.cv_results_[\"params\"]),pd.DataFrame(dtb_cv.cv_results_[\"mean_test_score\"], columns=[\"Accuracy\"])],axis=1)\n",
    "dtb_cv_results"
   ]
  },
  {
   "cell_type": "code",
   "execution_count": 253,
   "id": "fa5b7fcc",
   "metadata": {},
   "outputs": [
    {
     "data": {
      "image/png": "[encoded data removed]",
      "text/plain": [
       "<Figure size 1152x576 with 1 Axes>"
      ]
     },
     "metadata": {
      "needs_background": "light"
     },
     "output_type": "display_data"
    }
   ],
   "source": [
    "pd.pivot_table(dtb_cv_results.reset_index(),\n",
    "               index='max_depth', columns='criterion', values='Accuracy'\n",
    "              ).plot(figsize=(16,8));"
   ]
  },
  {
   "attachments": {},
   "cell_type": "markdown",
   "id": "3e017a4f",
   "metadata": {},
   "source": [
    "Hier noch eine Auswertung wie hier: https://scikit-learn.org/stable/auto_examples/model_selection/plot_multi_metric_evaluation.html"
   ]
  },
  {
   "cell_type": "code",
   "execution_count": 254,
   "id": "ac377f33",
   "metadata": {},
   "outputs": [
    {
     "name": "stdout",
     "output_type": "stream",
     "text": [
      "Fitting 15 folds for each of 21 candidates, totalling 315 fits\n"
     ]
    },
    {
     "name": "stderr",
     "output_type": "stream",
     "text": [
      "[Parallel(n_jobs=1)]: Using backend SequentialBackend with 1 concurrent workers.\n",
      "[Parallel(n_jobs=1)]: Done 315 out of 315 | elapsed:    3.7s finished\n"
     ]
    }
   ],
   "source": [
    "from sklearn.tree import DecisionTreeClassifier\n",
    "from sklearn.model_selection import GridSearchCV\n",
    "from sklearn.model_selection import RepeatedStratifiedKFold\n",
    "from sklearn.metrics import accuracy_score\n",
    "from sklearn.metrics import make_scorer\n",
    "\n",
    "scoring = {\"AUC\": \"roc_auc\", \"Accuracy\": make_scorer(accuracy_score)}\n",
    "\n",
    "df_classifier = DecisionTreeClassifier(random_state=2)\n",
    "\n",
    "cv_method = RepeatedStratifiedKFold(n_splits=5, \n",
    "                                    n_repeats=3, \n",
    "                                    random_state=2)\n",
    "\n",
    "params_DT = {'criterion': [ 'entropy'],\n",
    "             'max_depth': [1, 2, 3, 4, 5, 6, 7, 8,10,15,20],\n",
    "             'min_samples_split': [2, 3]}\n",
    "\n",
    "dtb_cv = GridSearchCV(estimator=df_classifier, \n",
    "                     #param_grid=params_DT, \n",
    "                     param_grid={\"min_samples_split\": range(2, 403, 20)},\n",
    "                     cv=cv_method,\n",
    "                     verbose=1, #output Messages\n",
    "                     #refit=False,\n",
    "                     refit=\"AUC\",\n",
    "                     return_train_score=True,\n",
    "                     scoring=scoring) #'accuracy') #brauchen wir noch mehr Outputs?\n",
    "\n",
    "dtb_cv.fit(x_binary, y_binary)\n",
    "results = dtb_cv.cv_results_;"
   ]
  },
  {
   "cell_type": "code",
   "execution_count": 255,
   "id": "b150744d",
   "metadata": {},
   "outputs": [
    {
     "data": {
      "image/png": "[encoded data removed]",
      "text/plain": [
       "<Figure size 936x936 with 1 Axes>"
      ]
     },
     "metadata": {
      "needs_background": "light"
     },
     "output_type": "display_data"
    }
   ],
   "source": [
    "plt.figure(figsize=(13, 13))\n",
    "plt.title(\"GridSearchCV evaluating using multiple scorers simultaneously\", fontsize=16)\n",
    "\n",
    "plt.xlabel(\"min_samples_split\")\n",
    "plt.ylabel(\"Score\")\n",
    "\n",
    "ax = plt.gca()\n",
    "ax.set_xlim(0, 150)\n",
    "ax.set_ylim(0.5, 1)\n",
    "\n",
    "# Get the regular numpy array from the MaskedArray\n",
    "X_axis = np.array(results[\"param_min_samples_split\"].data, dtype=float)\n",
    "\n",
    "for scorer, color in zip(sorted(scoring), [\"g\", \"k\"]):\n",
    "    for sample, style in ((\"train\", \"--\"), (\"test\", \"-\")):\n",
    "        sample_score_mean = results[\"mean_%s_%s\" % (sample, scorer)]\n",
    "        sample_score_std = results[\"std_%s_%s\" % (sample, scorer)]\n",
    "        ax.fill_between(\n",
    "            X_axis,\n",
    "            sample_score_mean - sample_score_std,\n",
    "            sample_score_mean + sample_score_std,\n",
    "            alpha=0.1 if sample == \"test\" else 0,\n",
    "            color=color,\n",
    "        )\n",
    "        ax.plot(\n",
    "            X_axis,\n",
    "            sample_score_mean,\n",
    "            style,\n",
    "            color=color,\n",
    "            alpha=1 if sample == \"test\" else 0.7,\n",
    "            label=\"%s (%s)\" % (scorer, sample),\n",
    "        )\n",
    "\n",
    "    best_index = np.nonzero(results[\"rank_test_%s\" % scorer] == 1)[0][0]\n",
    "    best_score = results[\"mean_test_%s\" % scorer][best_index]\n",
    "\n",
    "    # Plot a dotted vertical line at the best score for that scorer marked by x\n",
    "    ax.plot(\n",
    "        [\n",
    "            X_axis[best_index],\n",
    "        ]\n",
    "        * 2,\n",
    "        [0, best_score],\n",
    "        linestyle=\"-.\",\n",
    "        color=color,\n",
    "        marker=\"x\",\n",
    "        markeredgewidth=3,\n",
    "        ms=8,\n",
    "    )\n",
    "\n",
    "    # Annotate the best score for that scorer\n",
    "    ax.annotate(\"%0.2f\" % best_score, (X_axis[best_index], best_score + 0.005))\n",
    "\n",
    "plt.legend(loc=\"best\")\n",
    "plt.grid(False)\n",
    "plt.show()"
   ]
  },
  {
   "cell_type": "markdown",
   "id": "945563df",
   "metadata": {},
   "source": [
    "Despite the plethora of wrong answers here that attempt to circumvent the error by numerically manipulating the predictions, the root cause of your error is a theoretical and not computational issue: you are trying to use a classification metric (accuracy) in a regression (i.e. numeric prediction) model (LinearRegression), which is meaningless.\n",
    "\n",
    "https://stackoverflow.com/questions/38015181/accuracy-score-valueerror-cant-handle-mix-of-binary-and-continuous-target"
   ]
  },
  {
   "cell_type": "code",
   "execution_count": 256,
   "id": "6c997410",
   "metadata": {},
   "outputs": [
    {
     "ename": "TypeError",
     "evalue": "'DecisionTreeClassifier' object is not subscriptable",
     "output_type": "error",
     "traceback": [
      "\u001b[1;31m---------------------------------------------------------------------------\u001b[0m",
      "\u001b[1;31mTypeError\u001b[0m                                 Traceback (most recent call last)",
      "\u001b[1;32m<ipython-input-256-17e430214a61>\u001b[0m in \u001b[0;36m<module>\u001b[1;34m\u001b[0m\n\u001b[0;32m     16\u001b[0m                                 scoring = ['accuracy', 'precision'] , return_train_score = True)\n\u001b[0;32m     17\u001b[0m     \u001b[1;31m# Scores in lists\u001b[0m\u001b[1;33m\u001b[0m\u001b[1;33m\u001b[0m\u001b[1;33m\u001b[0m\u001b[0m\n\u001b[1;32m---> 18\u001b[1;33m     \u001b[0mdtb_cv_acc_list\u001b[0m\u001b[1;33m.\u001b[0m\u001b[0mappend\u001b[0m\u001b[1;33m(\u001b[0m\u001b[0mdtb_cv\u001b[0m\u001b[1;33m[\u001b[0m\u001b[1;34m'test_accuracy'\u001b[0m\u001b[1;33m]\u001b[0m\u001b[1;33m.\u001b[0m\u001b[0mmean\u001b[0m\u001b[1;33m(\u001b[0m\u001b[1;33m)\u001b[0m\u001b[1;33m)\u001b[0m\u001b[1;33m\u001b[0m\u001b[1;33m\u001b[0m\u001b[0m\n\u001b[0m\u001b[0;32m     19\u001b[0m     \u001b[0mdtb_cv_tpr_list\u001b[0m\u001b[1;33m.\u001b[0m\u001b[0mappend\u001b[0m\u001b[1;33m(\u001b[0m\u001b[0mdtb_cv\u001b[0m\u001b[1;33m[\u001b[0m\u001b[1;34m'test_recall'\u001b[0m\u001b[1;33m]\u001b[0m\u001b[1;33m.\u001b[0m\u001b[0mmean\u001b[0m\u001b[1;33m(\u001b[0m\u001b[1;33m)\u001b[0m\u001b[1;33m)\u001b[0m\u001b[1;33m\u001b[0m\u001b[1;33m\u001b[0m\u001b[0m\n\u001b[0;32m     20\u001b[0m     \u001b[0mdtb_cv_acc_in_list\u001b[0m\u001b[1;33m.\u001b[0m\u001b[0mappend\u001b[0m\u001b[1;33m(\u001b[0m\u001b[0mdtb_cv\u001b[0m\u001b[1;33m[\u001b[0m\u001b[1;34m'train_accuracy'\u001b[0m\u001b[1;33m]\u001b[0m\u001b[1;33m.\u001b[0m\u001b[0mmean\u001b[0m\u001b[1;33m(\u001b[0m\u001b[1;33m)\u001b[0m\u001b[1;33m)\u001b[0m\u001b[1;33m\u001b[0m\u001b[1;33m\u001b[0m\u001b[0m\n",
      "\u001b[1;31mTypeError\u001b[0m: 'DecisionTreeClassifier' object is not subscriptable"
     ]
    }
   ],
   "source": [
    "# With cross validation\n",
    "from sklearn.model_selection import cross_validate, KFold\n",
    "\n",
    "# Define lists for the accuracies\n",
    "dtb_cv_acc_list = []\n",
    "dtb_cv_tpr_list = []\n",
    "dtb_cv_acc_in_list = []\n",
    "dtb_cv_tpr_in_list = []\n",
    "\n",
    "for depth in range(1,21):\n",
    "    # model\n",
    "    dtb_cv = DecisionTreeClassifier(max_depth=depth)\n",
    "    # 10-Fold cross validation on whole dataset\n",
    "    dtb_cv_results = cross_validate(dtb_cv, x_binary, y_binary,\n",
    "                                cv = KFold(n_splits = 10, shuffle = True, random_state = 31),\n",
    "                                scoring = ['accuracy', 'precision'] , return_train_score = True)\n",
    "    # Scores in lists\n",
    "    dtb_cv_acc_list.append(dtb_cv['test_accuracy'].mean())\n",
    "    dtb_cv_tpr_list.append(dtb_cv['test_recall'].mean())\n",
    "    dtb_cv_acc_in_list.append(dtb_cv['train_accuracy'].mean())\n",
    "    dtb_cv_tpr_in_list.append(dtb_cv['train_recall'].mean())"
   ]
  },
  {
   "cell_type": "code",
   "execution_count": null,
   "id": "f2943aa2",
   "metadata": {},
   "outputs": [
    {
     "ename": "NotFittedError",
     "evalue": "This DecisionTreeClassifier instance is not fitted yet. Call 'fit' with appropriate arguments before using this estimator.",
     "output_type": "error",
     "traceback": [
      "\u001b[1;31m---------------------------------------------------------------------------\u001b[0m",
      "\u001b[1;31mNotFittedError\u001b[0m                            Traceback (most recent call last)",
      "\u001b[1;32m<ipython-input-210-1567fb09f345>\u001b[0m in \u001b[0;36m<module>\u001b[1;34m\u001b[0m\n\u001b[0;32m      1\u001b[0m \u001b[1;32mfrom\u001b[0m \u001b[0msklearn\u001b[0m\u001b[1;33m.\u001b[0m\u001b[0mmetrics\u001b[0m \u001b[1;32mimport\u001b[0m \u001b[0mclassification_report\u001b[0m\u001b[1;33m,\u001b[0m \u001b[0maccuracy_score\u001b[0m\u001b[1;33m,\u001b[0m \u001b[0mrecall_score\u001b[0m\u001b[1;33m,\u001b[0m \u001b[0mf1_score\u001b[0m\u001b[1;33m,\u001b[0m \u001b[0mprecision_score\u001b[0m\u001b[1;33m\u001b[0m\u001b[1;33m\u001b[0m\u001b[0m\n\u001b[0;32m      2\u001b[0m \u001b[1;33m\u001b[0m\u001b[0m\n\u001b[1;32m----> 3\u001b[1;33m \u001b[0my_predict\u001b[0m \u001b[1;33m=\u001b[0m \u001b[0mdtb_cv\u001b[0m\u001b[1;33m.\u001b[0m\u001b[0mpredict\u001b[0m\u001b[1;33m(\u001b[0m\u001b[0mx_binary_test\u001b[0m\u001b[1;33m)\u001b[0m\u001b[1;33m\u001b[0m\u001b[1;33m\u001b[0m\u001b[0m\n\u001b[0m\u001b[0;32m      4\u001b[0m \u001b[0mreport\u001b[0m \u001b[1;33m=\u001b[0m \u001b[0mclassification_report\u001b[0m\u001b[1;33m(\u001b[0m\u001b[0my_binary_test\u001b[0m\u001b[1;33m,\u001b[0m \u001b[0my_predict\u001b[0m\u001b[1;33m,\u001b[0m \u001b[0moutput_dict\u001b[0m\u001b[1;33m=\u001b[0m\u001b[1;32mTrue\u001b[0m \u001b[1;33m)\u001b[0m\u001b[1;33m\u001b[0m\u001b[1;33m\u001b[0m\u001b[0m\n\u001b[0;32m      5\u001b[0m \u001b[0mprint\u001b[0m\u001b[1;33m(\u001b[0m\u001b[0mclassification_report\u001b[0m\u001b[1;33m(\u001b[0m\u001b[0my_binary_test\u001b[0m\u001b[1;33m,\u001b[0m \u001b[0my_predict\u001b[0m\u001b[1;33m)\u001b[0m\u001b[1;33m)\u001b[0m\u001b[1;33m\u001b[0m\u001b[1;33m\u001b[0m\u001b[0m\n",
      "\u001b[1;32mc:\\Users\\lione\\anaconda3\\lib\\site-packages\\sklearn\\tree\\_classes.py\u001b[0m in \u001b[0;36mpredict\u001b[1;34m(self, X, check_input)\u001b[0m\n\u001b[0;32m    424\u001b[0m             \u001b[0mThe\u001b[0m \u001b[0mpredicted\u001b[0m \u001b[0mclasses\u001b[0m\u001b[1;33m,\u001b[0m \u001b[1;32mor\u001b[0m \u001b[0mthe\u001b[0m \u001b[0mpredict\u001b[0m \u001b[0mvalues\u001b[0m\u001b[1;33m.\u001b[0m\u001b[1;33m\u001b[0m\u001b[1;33m\u001b[0m\u001b[0m\n\u001b[0;32m    425\u001b[0m         \"\"\"\n\u001b[1;32m--> 426\u001b[1;33m         \u001b[0mcheck_is_fitted\u001b[0m\u001b[1;33m(\u001b[0m\u001b[0mself\u001b[0m\u001b[1;33m)\u001b[0m\u001b[1;33m\u001b[0m\u001b[1;33m\u001b[0m\u001b[0m\n\u001b[0m\u001b[0;32m    427\u001b[0m         \u001b[0mX\u001b[0m \u001b[1;33m=\u001b[0m \u001b[0mself\u001b[0m\u001b[1;33m.\u001b[0m\u001b[0m_validate_X_predict\u001b[0m\u001b[1;33m(\u001b[0m\u001b[0mX\u001b[0m\u001b[1;33m,\u001b[0m \u001b[0mcheck_input\u001b[0m\u001b[1;33m)\u001b[0m\u001b[1;33m\u001b[0m\u001b[1;33m\u001b[0m\u001b[0m\n\u001b[0;32m    428\u001b[0m         \u001b[0mproba\u001b[0m \u001b[1;33m=\u001b[0m \u001b[0mself\u001b[0m\u001b[1;33m.\u001b[0m\u001b[0mtree_\u001b[0m\u001b[1;33m.\u001b[0m\u001b[0mpredict\u001b[0m\u001b[1;33m(\u001b[0m\u001b[0mX\u001b[0m\u001b[1;33m)\u001b[0m\u001b[1;33m\u001b[0m\u001b[1;33m\u001b[0m\u001b[0m\n",
      "\u001b[1;32mc:\\Users\\lione\\anaconda3\\lib\\site-packages\\sklearn\\utils\\validation.py\u001b[0m in \u001b[0;36minner_f\u001b[1;34m(*args, **kwargs)\u001b[0m\n\u001b[0;32m     71\u001b[0m                           FutureWarning)\n\u001b[0;32m     72\u001b[0m         \u001b[0mkwargs\u001b[0m\u001b[1;33m.\u001b[0m\u001b[0mupdate\u001b[0m\u001b[1;33m(\u001b[0m\u001b[1;33m{\u001b[0m\u001b[0mk\u001b[0m\u001b[1;33m:\u001b[0m \u001b[0marg\u001b[0m \u001b[1;32mfor\u001b[0m \u001b[0mk\u001b[0m\u001b[1;33m,\u001b[0m \u001b[0marg\u001b[0m \u001b[1;32min\u001b[0m \u001b[0mzip\u001b[0m\u001b[1;33m(\u001b[0m\u001b[0msig\u001b[0m\u001b[1;33m.\u001b[0m\u001b[0mparameters\u001b[0m\u001b[1;33m,\u001b[0m \u001b[0margs\u001b[0m\u001b[1;33m)\u001b[0m\u001b[1;33m}\u001b[0m\u001b[1;33m)\u001b[0m\u001b[1;33m\u001b[0m\u001b[1;33m\u001b[0m\u001b[0m\n\u001b[1;32m---> 73\u001b[1;33m         \u001b[1;32mreturn\u001b[0m \u001b[0mf\u001b[0m\u001b[1;33m(\u001b[0m\u001b[1;33m**\u001b[0m\u001b[0mkwargs\u001b[0m\u001b[1;33m)\u001b[0m\u001b[1;33m\u001b[0m\u001b[1;33m\u001b[0m\u001b[0m\n\u001b[0m\u001b[0;32m     74\u001b[0m     \u001b[1;32mreturn\u001b[0m \u001b[0minner_f\u001b[0m\u001b[1;33m\u001b[0m\u001b[1;33m\u001b[0m\u001b[0m\n\u001b[0;32m     75\u001b[0m \u001b[1;33m\u001b[0m\u001b[0m\n",
      "\u001b[1;32mc:\\Users\\lione\\anaconda3\\lib\\site-packages\\sklearn\\utils\\validation.py\u001b[0m in \u001b[0;36mcheck_is_fitted\u001b[1;34m(estimator, attributes, msg, all_or_any)\u001b[0m\n\u001b[0;32m   1018\u001b[0m \u001b[1;33m\u001b[0m\u001b[0m\n\u001b[0;32m   1019\u001b[0m     \u001b[1;32mif\u001b[0m \u001b[1;32mnot\u001b[0m \u001b[0mattrs\u001b[0m\u001b[1;33m:\u001b[0m\u001b[1;33m\u001b[0m\u001b[1;33m\u001b[0m\u001b[0m\n\u001b[1;32m-> 1020\u001b[1;33m         \u001b[1;32mraise\u001b[0m \u001b[0mNotFittedError\u001b[0m\u001b[1;33m(\u001b[0m\u001b[0mmsg\u001b[0m \u001b[1;33m%\u001b[0m \u001b[1;33m{\u001b[0m\u001b[1;34m'name'\u001b[0m\u001b[1;33m:\u001b[0m \u001b[0mtype\u001b[0m\u001b[1;33m(\u001b[0m\u001b[0mestimator\u001b[0m\u001b[1;33m)\u001b[0m\u001b[1;33m.\u001b[0m\u001b[0m__name__\u001b[0m\u001b[1;33m}\u001b[0m\u001b[1;33m)\u001b[0m\u001b[1;33m\u001b[0m\u001b[1;33m\u001b[0m\u001b[0m\n\u001b[0m\u001b[0;32m   1021\u001b[0m \u001b[1;33m\u001b[0m\u001b[0m\n\u001b[0;32m   1022\u001b[0m \u001b[1;33m\u001b[0m\u001b[0m\n",
      "\u001b[1;31mNotFittedError\u001b[0m: This DecisionTreeClassifier instance is not fitted yet. Call 'fit' with appropriate arguments before using this estimator."
     ]
    }
   ],
   "source": [
    "from sklearn.metrics import classification_report, accuracy_score, recall_score, f1_score, precision_score\n",
    "\n",
    "y_predict = dtb_cv.predict(x_binary_test)\n",
    "report = classification_report(y_binary_test, y_predict, output_dict=True )\n",
    "print(classification_report(y_binary_test, y_predict))"
   ]
  },
  {
   "cell_type": "markdown",
   "id": "aa5a7294",
   "metadata": {},
   "source": [
    "https://plotly.com/python/roc-and-pr-curves/"
   ]
  },
  {
   "cell_type": "code",
   "execution_count": 257,
   "id": "ff62ddf8",
   "metadata": {},
   "outputs": [
    {
     "ename": "NotFittedError",
     "evalue": "This DecisionTreeClassifier instance is not fitted yet. Call 'fit' with appropriate arguments before using this estimator.",
     "output_type": "error",
     "traceback": [
      "\u001b[1;31m---------------------------------------------------------------------------\u001b[0m",
      "\u001b[1;31mNotFittedError\u001b[0m                            Traceback (most recent call last)",
      "\u001b[1;32m<ipython-input-257-d0af48fe06db>\u001b[0m in \u001b[0;36m<module>\u001b[1;34m\u001b[0m\n\u001b[0;32m      1\u001b[0m \u001b[0mmodel\u001b[0m \u001b[1;33m=\u001b[0m \u001b[1;34m'dtb_cv'\u001b[0m\u001b[1;33m\u001b[0m\u001b[1;33m\u001b[0m\u001b[0m\n\u001b[0;32m      2\u001b[0m \u001b[0mmax_debth\u001b[0m \u001b[1;33m=\u001b[0m \u001b[1;36m3\u001b[0m\u001b[1;33m\u001b[0m\u001b[1;33m\u001b[0m\u001b[0m\n\u001b[1;32m----> 3\u001b[1;33m \u001b[0maccuracy_in_sample\u001b[0m \u001b[1;33m=\u001b[0m \u001b[0mdtb_cv\u001b[0m\u001b[1;33m.\u001b[0m\u001b[0mscore\u001b[0m\u001b[1;33m(\u001b[0m\u001b[0mx_binary_train\u001b[0m\u001b[1;33m,\u001b[0m \u001b[0my_binary_train\u001b[0m\u001b[1;33m)\u001b[0m\u001b[1;33m\u001b[0m\u001b[1;33m\u001b[0m\u001b[0m\n\u001b[0m\u001b[0;32m      4\u001b[0m \u001b[0maccuracy_out_sample\u001b[0m \u001b[1;33m=\u001b[0m \u001b[0mdtb_cv\u001b[0m\u001b[1;33m.\u001b[0m\u001b[0mscore\u001b[0m\u001b[1;33m(\u001b[0m\u001b[0mx_binary_test\u001b[0m\u001b[1;33m,\u001b[0m \u001b[0my_binary_test\u001b[0m\u001b[1;33m)\u001b[0m\u001b[1;33m\u001b[0m\u001b[1;33m\u001b[0m\u001b[0m\n\u001b[0;32m      5\u001b[0m \u001b[0mPrecision\u001b[0m \u001b[1;33m=\u001b[0m \u001b[0mreport\u001b[0m\u001b[1;33m[\u001b[0m\u001b[1;34m'macro avg'\u001b[0m\u001b[1;33m]\u001b[0m\u001b[1;33m[\u001b[0m\u001b[1;34m'precision'\u001b[0m\u001b[1;33m]\u001b[0m\u001b[1;33m\u001b[0m\u001b[1;33m\u001b[0m\u001b[0m\n",
      "\u001b[1;32mc:\\Users\\lione\\anaconda3\\lib\\site-packages\\sklearn\\base.py\u001b[0m in \u001b[0;36mscore\u001b[1;34m(self, X, y, sample_weight)\u001b[0m\n\u001b[0;32m    497\u001b[0m         \"\"\"\n\u001b[0;32m    498\u001b[0m         \u001b[1;32mfrom\u001b[0m \u001b[1;33m.\u001b[0m\u001b[0mmetrics\u001b[0m \u001b[1;32mimport\u001b[0m \u001b[0maccuracy_score\u001b[0m\u001b[1;33m\u001b[0m\u001b[1;33m\u001b[0m\u001b[0m\n\u001b[1;32m--> 499\u001b[1;33m         \u001b[1;32mreturn\u001b[0m \u001b[0maccuracy_score\u001b[0m\u001b[1;33m(\u001b[0m\u001b[0my\u001b[0m\u001b[1;33m,\u001b[0m \u001b[0mself\u001b[0m\u001b[1;33m.\u001b[0m\u001b[0mpredict\u001b[0m\u001b[1;33m(\u001b[0m\u001b[0mX\u001b[0m\u001b[1;33m)\u001b[0m\u001b[1;33m,\u001b[0m \u001b[0msample_weight\u001b[0m\u001b[1;33m=\u001b[0m\u001b[0msample_weight\u001b[0m\u001b[1;33m)\u001b[0m\u001b[1;33m\u001b[0m\u001b[1;33m\u001b[0m\u001b[0m\n\u001b[0m\u001b[0;32m    500\u001b[0m \u001b[1;33m\u001b[0m\u001b[0m\n\u001b[0;32m    501\u001b[0m     \u001b[1;32mdef\u001b[0m \u001b[0m_more_tags\u001b[0m\u001b[1;33m(\u001b[0m\u001b[0mself\u001b[0m\u001b[1;33m)\u001b[0m\u001b[1;33m:\u001b[0m\u001b[1;33m\u001b[0m\u001b[1;33m\u001b[0m\u001b[0m\n",
      "\u001b[1;32mc:\\Users\\lione\\anaconda3\\lib\\site-packages\\sklearn\\tree\\_classes.py\u001b[0m in \u001b[0;36mpredict\u001b[1;34m(self, X, check_input)\u001b[0m\n\u001b[0;32m    424\u001b[0m             \u001b[0mThe\u001b[0m \u001b[0mpredicted\u001b[0m \u001b[0mclasses\u001b[0m\u001b[1;33m,\u001b[0m \u001b[1;32mor\u001b[0m \u001b[0mthe\u001b[0m \u001b[0mpredict\u001b[0m \u001b[0mvalues\u001b[0m\u001b[1;33m.\u001b[0m\u001b[1;33m\u001b[0m\u001b[1;33m\u001b[0m\u001b[0m\n\u001b[0;32m    425\u001b[0m         \"\"\"\n\u001b[1;32m--> 426\u001b[1;33m         \u001b[0mcheck_is_fitted\u001b[0m\u001b[1;33m(\u001b[0m\u001b[0mself\u001b[0m\u001b[1;33m)\u001b[0m\u001b[1;33m\u001b[0m\u001b[1;33m\u001b[0m\u001b[0m\n\u001b[0m\u001b[0;32m    427\u001b[0m         \u001b[0mX\u001b[0m \u001b[1;33m=\u001b[0m \u001b[0mself\u001b[0m\u001b[1;33m.\u001b[0m\u001b[0m_validate_X_predict\u001b[0m\u001b[1;33m(\u001b[0m\u001b[0mX\u001b[0m\u001b[1;33m,\u001b[0m \u001b[0mcheck_input\u001b[0m\u001b[1;33m)\u001b[0m\u001b[1;33m\u001b[0m\u001b[1;33m\u001b[0m\u001b[0m\n\u001b[0;32m    428\u001b[0m         \u001b[0mproba\u001b[0m \u001b[1;33m=\u001b[0m \u001b[0mself\u001b[0m\u001b[1;33m.\u001b[0m\u001b[0mtree_\u001b[0m\u001b[1;33m.\u001b[0m\u001b[0mpredict\u001b[0m\u001b[1;33m(\u001b[0m\u001b[0mX\u001b[0m\u001b[1;33m)\u001b[0m\u001b[1;33m\u001b[0m\u001b[1;33m\u001b[0m\u001b[0m\n",
      "\u001b[1;32mc:\\Users\\lione\\anaconda3\\lib\\site-packages\\sklearn\\utils\\validation.py\u001b[0m in \u001b[0;36minner_f\u001b[1;34m(*args, **kwargs)\u001b[0m\n\u001b[0;32m     71\u001b[0m                           FutureWarning)\n\u001b[0;32m     72\u001b[0m         \u001b[0mkwargs\u001b[0m\u001b[1;33m.\u001b[0m\u001b[0mupdate\u001b[0m\u001b[1;33m(\u001b[0m\u001b[1;33m{\u001b[0m\u001b[0mk\u001b[0m\u001b[1;33m:\u001b[0m \u001b[0marg\u001b[0m \u001b[1;32mfor\u001b[0m \u001b[0mk\u001b[0m\u001b[1;33m,\u001b[0m \u001b[0marg\u001b[0m \u001b[1;32min\u001b[0m \u001b[0mzip\u001b[0m\u001b[1;33m(\u001b[0m\u001b[0msig\u001b[0m\u001b[1;33m.\u001b[0m\u001b[0mparameters\u001b[0m\u001b[1;33m,\u001b[0m \u001b[0margs\u001b[0m\u001b[1;33m)\u001b[0m\u001b[1;33m}\u001b[0m\u001b[1;33m)\u001b[0m\u001b[1;33m\u001b[0m\u001b[1;33m\u001b[0m\u001b[0m\n\u001b[1;32m---> 73\u001b[1;33m         \u001b[1;32mreturn\u001b[0m \u001b[0mf\u001b[0m\u001b[1;33m(\u001b[0m\u001b[1;33m**\u001b[0m\u001b[0mkwargs\u001b[0m\u001b[1;33m)\u001b[0m\u001b[1;33m\u001b[0m\u001b[1;33m\u001b[0m\u001b[0m\n\u001b[0m\u001b[0;32m     74\u001b[0m     \u001b[1;32mreturn\u001b[0m \u001b[0minner_f\u001b[0m\u001b[1;33m\u001b[0m\u001b[1;33m\u001b[0m\u001b[0m\n\u001b[0;32m     75\u001b[0m \u001b[1;33m\u001b[0m\u001b[0m\n",
      "\u001b[1;32mc:\\Users\\lione\\anaconda3\\lib\\site-packages\\sklearn\\utils\\validation.py\u001b[0m in \u001b[0;36mcheck_is_fitted\u001b[1;34m(estimator, attributes, msg, all_or_any)\u001b[0m\n\u001b[0;32m   1018\u001b[0m \u001b[1;33m\u001b[0m\u001b[0m\n\u001b[0;32m   1019\u001b[0m     \u001b[1;32mif\u001b[0m \u001b[1;32mnot\u001b[0m \u001b[0mattrs\u001b[0m\u001b[1;33m:\u001b[0m\u001b[1;33m\u001b[0m\u001b[1;33m\u001b[0m\u001b[0m\n\u001b[1;32m-> 1020\u001b[1;33m         \u001b[1;32mraise\u001b[0m \u001b[0mNotFittedError\u001b[0m\u001b[1;33m(\u001b[0m\u001b[0mmsg\u001b[0m \u001b[1;33m%\u001b[0m \u001b[1;33m{\u001b[0m\u001b[1;34m'name'\u001b[0m\u001b[1;33m:\u001b[0m \u001b[0mtype\u001b[0m\u001b[1;33m(\u001b[0m\u001b[0mestimator\u001b[0m\u001b[1;33m)\u001b[0m\u001b[1;33m.\u001b[0m\u001b[0m__name__\u001b[0m\u001b[1;33m}\u001b[0m\u001b[1;33m)\u001b[0m\u001b[1;33m\u001b[0m\u001b[1;33m\u001b[0m\u001b[0m\n\u001b[0m\u001b[0;32m   1021\u001b[0m \u001b[1;33m\u001b[0m\u001b[0m\n\u001b[0;32m   1022\u001b[0m \u001b[1;33m\u001b[0m\u001b[0m\n",
      "\u001b[1;31mNotFittedError\u001b[0m: This DecisionTreeClassifier instance is not fitted yet. Call 'fit' with appropriate arguments before using this estimator."
     ]
    }
   ],
   "source": [
    "model = 'dtb_cv'\n",
    "max_debth = 3\n",
    "accuracy_in_sample = dtb_cv.score(x_binary_train, y_binary_train)\n",
    "accuracy_out_sample = dtb_cv.score(x_binary_test, y_binary_test)\n",
    "Precision = report['macro avg']['precision'] \n",
    "Recall = report['macro avg']['recall']\n",
    "F1 = report['macro avg']['f1-score']\n",
    "TP = 1\n",
    "TN = 1\n",
    "FP = 1\n",
    "FN = 1"
   ]
  },
  {
   "cell_type": "code",
   "execution_count": null,
   "id": "29c7f93e",
   "metadata": {},
   "outputs": [
    {
     "data": {
      "text/html": [
       "<div>\n",
       "<style scoped>\n",
       "    .dataframe tbody tr th:only-of-type {\n",
       "        vertical-align: middle;\n",
       "    }\n",
       "\n",
       "    .dataframe tbody tr th {\n",
       "        vertical-align: top;\n",
       "    }\n",
       "\n",
       "    .dataframe thead th {\n",
       "        text-align: right;\n",
       "    }\n",
       "</style>\n",
       "<table border=\"1\" class=\"dataframe\">\n",
       "  <thead>\n",
       "    <tr style=\"text-align: right;\">\n",
       "      <th></th>\n",
       "      <th>0</th>\n",
       "      <th>1</th>\n",
       "      <th>2</th>\n",
       "      <th>3</th>\n",
       "      <th>4</th>\n",
       "      <th>5</th>\n",
       "      <th>6</th>\n",
       "      <th>7</th>\n",
       "      <th>8</th>\n",
       "      <th>9</th>\n",
       "      <th>10</th>\n",
       "    </tr>\n",
       "  </thead>\n",
       "  <tbody>\n",
       "    <tr>\n",
       "      <th>0</th>\n",
       "      <td>dtb_cv</td>\n",
       "      <td>3</td>\n",
       "      <td>0.879227</td>\n",
       "      <td>0.733333</td>\n",
       "      <td>1</td>\n",
       "      <td>1</td>\n",
       "      <td>1</td>\n",
       "      <td>1</td>\n",
       "      <td>1</td>\n",
       "      <td>1</td>\n",
       "      <td>1</td>\n",
       "    </tr>\n",
       "  </tbody>\n",
       "</table>\n",
       "</div>"
      ],
      "text/plain": [
       "        0  1         2         3  4  5  6  7  8  9  10\n",
       "0  dtb_cv  3  0.879227  0.733333  1  1  1  1  1  1   1"
      ]
     },
     "execution_count": 234,
     "metadata": {},
     "output_type": "execute_result"
    }
   ],
   "source": [
    "#Append the Results from the Loop to the existing Dataframe:\n",
    "dtb_cv_temp = [(model, max_debth, accuracy_in_sample, accuracy_out_sample, Precision, Recall, F1, TP, TN, FP, FN)]\n",
    "dtb_cv_results = pd.DataFrame(dtb_cv_temp)\n",
    "dtb_cv_results.rename(columns= {0:'Model', 1:'max_debth', 2:'accuracy_in_sample', 3:'accuracy_out_sample', 4:'Precision', 5:'Recall', 6:'F1', 7:'TP', 8:'TN', 9:'FP', 10:'FN' }, inplace = True)\n",
    "dtb_cv_results"
   ]
  },
  {
   "cell_type": "markdown",
   "id": "bf41b848",
   "metadata": {},
   "source": [
    "#### 8.2 Decision Tree Multiclass"
   ]
  },
  {
   "cell_type": "markdown",
   "id": "0dc36768",
   "metadata": {},
   "source": [
    "##### 8.2.1 Decision Tree Basic (dtm_basic)"
   ]
  },
  {
   "cell_type": "code",
   "execution_count": 258,
   "id": "3ad060fc",
   "metadata": {},
   "outputs": [],
   "source": [
    "from sklearn.tree import DecisionTreeClassifier\n",
    "\n",
    "dtm_basic = DecisionTreeClassifier(criterion = 'entropy',max_depth=3, random_state=2)\n",
    "dtm_basic.fit(x_multi_train, y_multi_train);"
   ]
  },
  {
   "cell_type": "code",
   "execution_count": 259,
   "id": "75192b30",
   "metadata": {},
   "outputs": [
    {
     "name": "stdout",
     "output_type": "stream",
     "text": [
      "              precision    recall  f1-score   support\n",
      "\n",
      "           0       0.70      0.98      0.82        48\n",
      "           1       0.00      0.00      0.00        16\n",
      "           2       0.10      0.18      0.13        11\n",
      "           3       0.00      0.00      0.00        11\n",
      "           4       0.00      0.00      0.00         4\n",
      "\n",
      "    accuracy                           0.54        90\n",
      "   macro avg       0.16      0.23      0.19        90\n",
      "weighted avg       0.39      0.54      0.45        90\n",
      "\n"
     ]
    },
    {
     "name": "stderr",
     "output_type": "stream",
     "text": [
      "c:\\Users\\lione\\anaconda3\\lib\\site-packages\\sklearn\\metrics\\_classification.py:1221: UndefinedMetricWarning: Precision and F-score are ill-defined and being set to 0.0 in labels with no predicted samples. Use `zero_division` parameter to control this behavior.\n",
      "  _warn_prf(average, modifier, msg_start, len(result))\n"
     ]
    }
   ],
   "source": [
    "from sklearn.metrics import classification_report, accuracy_score\n",
    "\n",
    "dtm_basic_report = dtm_basic.predict(x_multi_test)\n",
    "print(classification_report(y_multi_test, dtm_basic_report))"
   ]
  },
  {
   "cell_type": "code",
   "execution_count": 260,
   "id": "8a9be251",
   "metadata": {},
   "outputs": [
    {
     "data": {
      "image/png": "[encoded data removed]",
      "text/plain": [
       "<Figure size 360x360 with 2 Axes>"
      ]
     },
     "metadata": {
      "needs_background": "light"
     },
     "output_type": "display_data"
    }
   ],
   "source": [
    "fig, ax = plt.subplots(figsize=(5, 5))\n",
    "plot_confusion_matrix(dtm_basic, x_multi_test, y_multi_test, display_labels= None, cmap=plt.cm.Blues, ax=ax)\n",
    "plt.show()"
   ]
  },
  {
   "cell_type": "markdown",
   "id": "93c98297",
   "metadata": {},
   "source": [
    "https://scikit-learn.org/stable/modules/generated/sklearn.metrics.multilabel_confusion_matrix.html#sklearn.metrics.multilabel_confusion_matrix"
   ]
  },
  {
   "cell_type": "code",
   "execution_count": 242,
   "id": "a4410337",
   "metadata": {},
   "outputs": [],
   "source": [
    "model = 'dtm_basic'\n",
    "max_debth = 3\n",
    "accuracy_in_sample = dtm_basic.score(x_multi_train, y_multi_train)\n",
    "accuracy_out_sample = dtm_basic.score(x_multi_test, y_multi_test)\n",
    "Precision = report['macro avg']['precision'] \n",
    "Recall = report['macro avg']['recall']\n",
    "F1 = report['macro avg']['f1-score']\n",
    "TP = 1\n",
    "TN = 1\n",
    "FP = 1\n",
    "FN = 1"
   ]
  },
  {
   "cell_type": "code",
   "execution_count": 243,
   "id": "e771889f",
   "metadata": {},
   "outputs": [
    {
     "data": {
      "text/html": [
       "<div>\n",
       "<style scoped>\n",
       "    .dataframe tbody tr th:only-of-type {\n",
       "        vertical-align: middle;\n",
       "    }\n",
       "\n",
       "    .dataframe tbody tr th {\n",
       "        vertical-align: top;\n",
       "    }\n",
       "\n",
       "    .dataframe thead th {\n",
       "        text-align: right;\n",
       "    }\n",
       "</style>\n",
       "<table border=\"1\" class=\"dataframe\">\n",
       "  <thead>\n",
       "    <tr style=\"text-align: right;\">\n",
       "      <th></th>\n",
       "      <th>Model</th>\n",
       "      <th>max_debth</th>\n",
       "      <th>accuracy_in_sample</th>\n",
       "      <th>accuracy_out_sample</th>\n",
       "      <th>Precision</th>\n",
       "      <th>Recall</th>\n",
       "      <th>F1</th>\n",
       "      <th>TP</th>\n",
       "      <th>TN</th>\n",
       "      <th>FP</th>\n",
       "      <th>FN</th>\n",
       "    </tr>\n",
       "  </thead>\n",
       "  <tbody>\n",
       "    <tr>\n",
       "      <th>0</th>\n",
       "      <td>dtm_basic</td>\n",
       "      <td>3</td>\n",
       "      <td>0.642512</td>\n",
       "      <td>0.544444</td>\n",
       "      <td>0.739496</td>\n",
       "      <td>0.72619</td>\n",
       "      <td>0.726721</td>\n",
       "      <td>1</td>\n",
       "      <td>1</td>\n",
       "      <td>1</td>\n",
       "      <td>1</td>\n",
       "    </tr>\n",
       "  </tbody>\n",
       "</table>\n",
       "</div>"
      ],
      "text/plain": [
       "       Model  max_debth  accuracy_in_sample  accuracy_out_sample  Precision  \\\n",
       "0  dtm_basic          3            0.642512             0.544444   0.739496   \n",
       "\n",
       "    Recall        F1  TP  TN  FP  FN  \n",
       "0  0.72619  0.726721   1   1   1   1  "
      ]
     },
     "execution_count": 243,
     "metadata": {},
     "output_type": "execute_result"
    }
   ],
   "source": [
    "#Append the Results from the Loop to the existing Dataframe:\n",
    "dtm_basic_temp = [(model, max_debth, accuracy_in_sample, accuracy_out_sample, Precision, Recall, F1, TP, TN, FP, FN)]\n",
    "dtm_basic_results = pd.DataFrame(dtm_basic_temp)\n",
    "dtm_basic_results.rename(columns= {0:'Model', 1:'max_debth', 2:'accuracy_in_sample', 3:'accuracy_out_sample', 4:'Precision', 5:'Recall', 6:'F1', 7:'TP', 8:'TN', 9:'FP', 10:'FN' }, inplace = True)\n",
    "dtm_basic_results"
   ]
  },
  {
   "cell_type": "markdown",
   "id": "0810d07b",
   "metadata": {},
   "source": [
    "##### 8.2.2 Decision Tree Multiclass Cross Validation (dtm_cv)"
   ]
  },
  {
   "cell_type": "code",
   "execution_count": 261,
   "id": "fa33b4d0",
   "metadata": {},
   "outputs": [
    {
     "name": "stdout",
     "output_type": "stream",
     "text": [
      "Fitting 15 folds for each of 44 candidates, totalling 660 fits\n"
     ]
    },
    {
     "name": "stderr",
     "output_type": "stream",
     "text": [
      "[Parallel(n_jobs=1)]: Using backend SequentialBackend with 1 concurrent workers.\n"
     ]
    },
    {
     "ename": "ValueError",
     "evalue": "multiclass format is not supported",
     "output_type": "error",
     "traceback": [
      "\u001b[1;31m---------------------------------------------------------------------------\u001b[0m",
      "\u001b[1;31mValueError\u001b[0m                                Traceback (most recent call last)",
      "\u001b[1;32m<ipython-input-261-c9d332d32628>\u001b[0m in \u001b[0;36m<module>\u001b[1;34m\u001b[0m\n\u001b[0;32m     24\u001b[0m                      scoring=scoring) #'accuracy') #brauchen wir noch mehr Outputs?\n\u001b[0;32m     25\u001b[0m \u001b[1;33m\u001b[0m\u001b[0m\n\u001b[1;32m---> 26\u001b[1;33m \u001b[0mdtm_cv\u001b[0m\u001b[1;33m.\u001b[0m\u001b[0mfit\u001b[0m\u001b[1;33m(\u001b[0m\u001b[0mx_multi\u001b[0m\u001b[1;33m,\u001b[0m \u001b[0my_multi\u001b[0m\u001b[1;33m)\u001b[0m\u001b[1;33m\u001b[0m\u001b[1;33m\u001b[0m\u001b[0m\n\u001b[0m\u001b[0;32m     27\u001b[0m \u001b[0mprint\u001b[0m\u001b[1;33m(\u001b[0m\u001b[1;34m'Best Model:'\u001b[0m\u001b[1;33m)\u001b[0m\u001b[1;33m\u001b[0m\u001b[1;33m\u001b[0m\u001b[0m\n\u001b[0;32m     28\u001b[0m \u001b[0mprint\u001b[0m\u001b[1;33m(\u001b[0m\u001b[0mdtm_cv\u001b[0m\u001b[1;33m.\u001b[0m\u001b[0mbest_params_\u001b[0m\u001b[1;33m)\u001b[0m\u001b[1;33m\u001b[0m\u001b[1;33m\u001b[0m\u001b[0m\n",
      "\u001b[1;32mc:\\Users\\lione\\anaconda3\\lib\\site-packages\\sklearn\\utils\\validation.py\u001b[0m in \u001b[0;36minner_f\u001b[1;34m(*args, **kwargs)\u001b[0m\n\u001b[0;32m     71\u001b[0m                           FutureWarning)\n\u001b[0;32m     72\u001b[0m         \u001b[0mkwargs\u001b[0m\u001b[1;33m.\u001b[0m\u001b[0mupdate\u001b[0m\u001b[1;33m(\u001b[0m\u001b[1;33m{\u001b[0m\u001b[0mk\u001b[0m\u001b[1;33m:\u001b[0m \u001b[0marg\u001b[0m \u001b[1;32mfor\u001b[0m \u001b[0mk\u001b[0m\u001b[1;33m,\u001b[0m \u001b[0marg\u001b[0m \u001b[1;32min\u001b[0m \u001b[0mzip\u001b[0m\u001b[1;33m(\u001b[0m\u001b[0msig\u001b[0m\u001b[1;33m.\u001b[0m\u001b[0mparameters\u001b[0m\u001b[1;33m,\u001b[0m \u001b[0margs\u001b[0m\u001b[1;33m)\u001b[0m\u001b[1;33m}\u001b[0m\u001b[1;33m)\u001b[0m\u001b[1;33m\u001b[0m\u001b[1;33m\u001b[0m\u001b[0m\n\u001b[1;32m---> 73\u001b[1;33m         \u001b[1;32mreturn\u001b[0m \u001b[0mf\u001b[0m\u001b[1;33m(\u001b[0m\u001b[1;33m**\u001b[0m\u001b[0mkwargs\u001b[0m\u001b[1;33m)\u001b[0m\u001b[1;33m\u001b[0m\u001b[1;33m\u001b[0m\u001b[0m\n\u001b[0m\u001b[0;32m     74\u001b[0m     \u001b[1;32mreturn\u001b[0m \u001b[0minner_f\u001b[0m\u001b[1;33m\u001b[0m\u001b[1;33m\u001b[0m\u001b[0m\n\u001b[0;32m     75\u001b[0m \u001b[1;33m\u001b[0m\u001b[0m\n",
      "\u001b[1;32mc:\\Users\\lione\\anaconda3\\lib\\site-packages\\sklearn\\model_selection\\_search.py\u001b[0m in \u001b[0;36mfit\u001b[1;34m(self, X, y, groups, **fit_params)\u001b[0m\n\u001b[0;32m    734\u001b[0m                 \u001b[1;32mreturn\u001b[0m \u001b[0mresults\u001b[0m\u001b[1;33m\u001b[0m\u001b[1;33m\u001b[0m\u001b[0m\n\u001b[0;32m    735\u001b[0m \u001b[1;33m\u001b[0m\u001b[0m\n\u001b[1;32m--> 736\u001b[1;33m             \u001b[0mself\u001b[0m\u001b[1;33m.\u001b[0m\u001b[0m_run_search\u001b[0m\u001b[1;33m(\u001b[0m\u001b[0mevaluate_candidates\u001b[0m\u001b[1;33m)\u001b[0m\u001b[1;33m\u001b[0m\u001b[1;33m\u001b[0m\u001b[0m\n\u001b[0m\u001b[0;32m    737\u001b[0m \u001b[1;33m\u001b[0m\u001b[0m\n\u001b[0;32m    738\u001b[0m         \u001b[1;31m# For multi-metric evaluation, store the best_index_, best_params_ and\u001b[0m\u001b[1;33m\u001b[0m\u001b[1;33m\u001b[0m\u001b[1;33m\u001b[0m\u001b[0m\n",
      "\u001b[1;32mc:\\Users\\lione\\anaconda3\\lib\\site-packages\\sklearn\\model_selection\\_search.py\u001b[0m in \u001b[0;36m_run_search\u001b[1;34m(self, evaluate_candidates)\u001b[0m\n\u001b[0;32m   1186\u001b[0m     \u001b[1;32mdef\u001b[0m \u001b[0m_run_search\u001b[0m\u001b[1;33m(\u001b[0m\u001b[0mself\u001b[0m\u001b[1;33m,\u001b[0m \u001b[0mevaluate_candidates\u001b[0m\u001b[1;33m)\u001b[0m\u001b[1;33m:\u001b[0m\u001b[1;33m\u001b[0m\u001b[1;33m\u001b[0m\u001b[0m\n\u001b[0;32m   1187\u001b[0m         \u001b[1;34m\"\"\"Search all candidates in param_grid\"\"\"\u001b[0m\u001b[1;33m\u001b[0m\u001b[1;33m\u001b[0m\u001b[0m\n\u001b[1;32m-> 1188\u001b[1;33m         \u001b[0mevaluate_candidates\u001b[0m\u001b[1;33m(\u001b[0m\u001b[0mParameterGrid\u001b[0m\u001b[1;33m(\u001b[0m\u001b[0mself\u001b[0m\u001b[1;33m.\u001b[0m\u001b[0mparam_grid\u001b[0m\u001b[1;33m)\u001b[0m\u001b[1;33m)\u001b[0m\u001b[1;33m\u001b[0m\u001b[1;33m\u001b[0m\u001b[0m\n\u001b[0m\u001b[0;32m   1189\u001b[0m \u001b[1;33m\u001b[0m\u001b[0m\n\u001b[0;32m   1190\u001b[0m \u001b[1;33m\u001b[0m\u001b[0m\n",
      "\u001b[1;32mc:\\Users\\lione\\anaconda3\\lib\\site-packages\\sklearn\\model_selection\\_search.py\u001b[0m in \u001b[0;36mevaluate_candidates\u001b[1;34m(candidate_params)\u001b[0m\n\u001b[0;32m    706\u001b[0m                               n_splits, n_candidates, n_candidates * n_splits))\n\u001b[0;32m    707\u001b[0m \u001b[1;33m\u001b[0m\u001b[0m\n\u001b[1;32m--> 708\u001b[1;33m                 out = parallel(delayed(_fit_and_score)(clone(base_estimator),\n\u001b[0m\u001b[0;32m    709\u001b[0m                                                        \u001b[0mX\u001b[0m\u001b[1;33m,\u001b[0m \u001b[0my\u001b[0m\u001b[1;33m,\u001b[0m\u001b[1;33m\u001b[0m\u001b[1;33m\u001b[0m\u001b[0m\n\u001b[0;32m    710\u001b[0m                                                        \u001b[0mtrain\u001b[0m\u001b[1;33m=\u001b[0m\u001b[0mtrain\u001b[0m\u001b[1;33m,\u001b[0m \u001b[0mtest\u001b[0m\u001b[1;33m=\u001b[0m\u001b[0mtest\u001b[0m\u001b[1;33m,\u001b[0m\u001b[1;33m\u001b[0m\u001b[1;33m\u001b[0m\u001b[0m\n",
      "\u001b[1;32mc:\\Users\\lione\\anaconda3\\lib\\site-packages\\joblib\\parallel.py\u001b[0m in \u001b[0;36m__call__\u001b[1;34m(self, iterable)\u001b[0m\n\u001b[0;32m   1027\u001b[0m             \u001b[1;31m# remaining jobs.\u001b[0m\u001b[1;33m\u001b[0m\u001b[1;33m\u001b[0m\u001b[1;33m\u001b[0m\u001b[0m\n\u001b[0;32m   1028\u001b[0m             \u001b[0mself\u001b[0m\u001b[1;33m.\u001b[0m\u001b[0m_iterating\u001b[0m \u001b[1;33m=\u001b[0m \u001b[1;32mFalse\u001b[0m\u001b[1;33m\u001b[0m\u001b[1;33m\u001b[0m\u001b[0m\n\u001b[1;32m-> 1029\u001b[1;33m             \u001b[1;32mif\u001b[0m \u001b[0mself\u001b[0m\u001b[1;33m.\u001b[0m\u001b[0mdispatch_one_batch\u001b[0m\u001b[1;33m(\u001b[0m\u001b[0miterator\u001b[0m\u001b[1;33m)\u001b[0m\u001b[1;33m:\u001b[0m\u001b[1;33m\u001b[0m\u001b[1;33m\u001b[0m\u001b[0m\n\u001b[0m\u001b[0;32m   1030\u001b[0m                 \u001b[0mself\u001b[0m\u001b[1;33m.\u001b[0m\u001b[0m_iterating\u001b[0m \u001b[1;33m=\u001b[0m \u001b[0mself\u001b[0m\u001b[1;33m.\u001b[0m\u001b[0m_original_iterator\u001b[0m \u001b[1;32mis\u001b[0m \u001b[1;32mnot\u001b[0m \u001b[1;32mNone\u001b[0m\u001b[1;33m\u001b[0m\u001b[1;33m\u001b[0m\u001b[0m\n\u001b[0;32m   1031\u001b[0m \u001b[1;33m\u001b[0m\u001b[0m\n",
      "\u001b[1;32mc:\\Users\\lione\\anaconda3\\lib\\site-packages\\joblib\\parallel.py\u001b[0m in \u001b[0;36mdispatch_one_batch\u001b[1;34m(self, iterator)\u001b[0m\n\u001b[0;32m    845\u001b[0m                 \u001b[1;32mreturn\u001b[0m \u001b[1;32mFalse\u001b[0m\u001b[1;33m\u001b[0m\u001b[1;33m\u001b[0m\u001b[0m\n\u001b[0;32m    846\u001b[0m             \u001b[1;32melse\u001b[0m\u001b[1;33m:\u001b[0m\u001b[1;33m\u001b[0m\u001b[1;33m\u001b[0m\u001b[0m\n\u001b[1;32m--> 847\u001b[1;33m                 \u001b[0mself\u001b[0m\u001b[1;33m.\u001b[0m\u001b[0m_dispatch\u001b[0m\u001b[1;33m(\u001b[0m\u001b[0mtasks\u001b[0m\u001b[1;33m)\u001b[0m\u001b[1;33m\u001b[0m\u001b[1;33m\u001b[0m\u001b[0m\n\u001b[0m\u001b[0;32m    848\u001b[0m                 \u001b[1;32mreturn\u001b[0m \u001b[1;32mTrue\u001b[0m\u001b[1;33m\u001b[0m\u001b[1;33m\u001b[0m\u001b[0m\n\u001b[0;32m    849\u001b[0m \u001b[1;33m\u001b[0m\u001b[0m\n",
      "\u001b[1;32mc:\\Users\\lione\\anaconda3\\lib\\site-packages\\joblib\\parallel.py\u001b[0m in \u001b[0;36m_dispatch\u001b[1;34m(self, batch)\u001b[0m\n\u001b[0;32m    763\u001b[0m         \u001b[1;32mwith\u001b[0m \u001b[0mself\u001b[0m\u001b[1;33m.\u001b[0m\u001b[0m_lock\u001b[0m\u001b[1;33m:\u001b[0m\u001b[1;33m\u001b[0m\u001b[1;33m\u001b[0m\u001b[0m\n\u001b[0;32m    764\u001b[0m             \u001b[0mjob_idx\u001b[0m \u001b[1;33m=\u001b[0m \u001b[0mlen\u001b[0m\u001b[1;33m(\u001b[0m\u001b[0mself\u001b[0m\u001b[1;33m.\u001b[0m\u001b[0m_jobs\u001b[0m\u001b[1;33m)\u001b[0m\u001b[1;33m\u001b[0m\u001b[1;33m\u001b[0m\u001b[0m\n\u001b[1;32m--> 765\u001b[1;33m             \u001b[0mjob\u001b[0m \u001b[1;33m=\u001b[0m \u001b[0mself\u001b[0m\u001b[1;33m.\u001b[0m\u001b[0m_backend\u001b[0m\u001b[1;33m.\u001b[0m\u001b[0mapply_async\u001b[0m\u001b[1;33m(\u001b[0m\u001b[0mbatch\u001b[0m\u001b[1;33m,\u001b[0m \u001b[0mcallback\u001b[0m\u001b[1;33m=\u001b[0m\u001b[0mcb\u001b[0m\u001b[1;33m)\u001b[0m\u001b[1;33m\u001b[0m\u001b[1;33m\u001b[0m\u001b[0m\n\u001b[0m\u001b[0;32m    766\u001b[0m             \u001b[1;31m# A job can complete so quickly than its callback is\u001b[0m\u001b[1;33m\u001b[0m\u001b[1;33m\u001b[0m\u001b[1;33m\u001b[0m\u001b[0m\n\u001b[0;32m    767\u001b[0m             \u001b[1;31m# called before we get here, causing self._jobs to\u001b[0m\u001b[1;33m\u001b[0m\u001b[1;33m\u001b[0m\u001b[1;33m\u001b[0m\u001b[0m\n",
      "\u001b[1;32mc:\\Users\\lione\\anaconda3\\lib\\site-packages\\joblib\\_parallel_backends.py\u001b[0m in \u001b[0;36mapply_async\u001b[1;34m(self, func, callback)\u001b[0m\n\u001b[0;32m    206\u001b[0m     \u001b[1;32mdef\u001b[0m \u001b[0mapply_async\u001b[0m\u001b[1;33m(\u001b[0m\u001b[0mself\u001b[0m\u001b[1;33m,\u001b[0m \u001b[0mfunc\u001b[0m\u001b[1;33m,\u001b[0m \u001b[0mcallback\u001b[0m\u001b[1;33m=\u001b[0m\u001b[1;32mNone\u001b[0m\u001b[1;33m)\u001b[0m\u001b[1;33m:\u001b[0m\u001b[1;33m\u001b[0m\u001b[1;33m\u001b[0m\u001b[0m\n\u001b[0;32m    207\u001b[0m         \u001b[1;34m\"\"\"Schedule a func to be run\"\"\"\u001b[0m\u001b[1;33m\u001b[0m\u001b[1;33m\u001b[0m\u001b[0m\n\u001b[1;32m--> 208\u001b[1;33m         \u001b[0mresult\u001b[0m \u001b[1;33m=\u001b[0m \u001b[0mImmediateResult\u001b[0m\u001b[1;33m(\u001b[0m\u001b[0mfunc\u001b[0m\u001b[1;33m)\u001b[0m\u001b[1;33m\u001b[0m\u001b[1;33m\u001b[0m\u001b[0m\n\u001b[0m\u001b[0;32m    209\u001b[0m         \u001b[1;32mif\u001b[0m \u001b[0mcallback\u001b[0m\u001b[1;33m:\u001b[0m\u001b[1;33m\u001b[0m\u001b[1;33m\u001b[0m\u001b[0m\n\u001b[0;32m    210\u001b[0m             \u001b[0mcallback\u001b[0m\u001b[1;33m(\u001b[0m\u001b[0mresult\u001b[0m\u001b[1;33m)\u001b[0m\u001b[1;33m\u001b[0m\u001b[1;33m\u001b[0m\u001b[0m\n",
      "\u001b[1;32mc:\\Users\\lione\\anaconda3\\lib\\site-packages\\joblib\\_parallel_backends.py\u001b[0m in \u001b[0;36m__init__\u001b[1;34m(self, batch)\u001b[0m\n\u001b[0;32m    570\u001b[0m         \u001b[1;31m# Don't delay the application, to avoid keeping the input\u001b[0m\u001b[1;33m\u001b[0m\u001b[1;33m\u001b[0m\u001b[1;33m\u001b[0m\u001b[0m\n\u001b[0;32m    571\u001b[0m         \u001b[1;31m# arguments in memory\u001b[0m\u001b[1;33m\u001b[0m\u001b[1;33m\u001b[0m\u001b[1;33m\u001b[0m\u001b[0m\n\u001b[1;32m--> 572\u001b[1;33m         \u001b[0mself\u001b[0m\u001b[1;33m.\u001b[0m\u001b[0mresults\u001b[0m \u001b[1;33m=\u001b[0m \u001b[0mbatch\u001b[0m\u001b[1;33m(\u001b[0m\u001b[1;33m)\u001b[0m\u001b[1;33m\u001b[0m\u001b[1;33m\u001b[0m\u001b[0m\n\u001b[0m\u001b[0;32m    573\u001b[0m \u001b[1;33m\u001b[0m\u001b[0m\n\u001b[0;32m    574\u001b[0m     \u001b[1;32mdef\u001b[0m \u001b[0mget\u001b[0m\u001b[1;33m(\u001b[0m\u001b[0mself\u001b[0m\u001b[1;33m)\u001b[0m\u001b[1;33m:\u001b[0m\u001b[1;33m\u001b[0m\u001b[1;33m\u001b[0m\u001b[0m\n",
      "\u001b[1;32mc:\\Users\\lione\\anaconda3\\lib\\site-packages\\joblib\\parallel.py\u001b[0m in \u001b[0;36m__call__\u001b[1;34m(self)\u001b[0m\n\u001b[0;32m    250\u001b[0m         \u001b[1;31m# change the default number of processes to -1\u001b[0m\u001b[1;33m\u001b[0m\u001b[1;33m\u001b[0m\u001b[1;33m\u001b[0m\u001b[0m\n\u001b[0;32m    251\u001b[0m         \u001b[1;32mwith\u001b[0m \u001b[0mparallel_backend\u001b[0m\u001b[1;33m(\u001b[0m\u001b[0mself\u001b[0m\u001b[1;33m.\u001b[0m\u001b[0m_backend\u001b[0m\u001b[1;33m,\u001b[0m \u001b[0mn_jobs\u001b[0m\u001b[1;33m=\u001b[0m\u001b[0mself\u001b[0m\u001b[1;33m.\u001b[0m\u001b[0m_n_jobs\u001b[0m\u001b[1;33m)\u001b[0m\u001b[1;33m:\u001b[0m\u001b[1;33m\u001b[0m\u001b[1;33m\u001b[0m\u001b[0m\n\u001b[1;32m--> 252\u001b[1;33m             return [func(*args, **kwargs)\n\u001b[0m\u001b[0;32m    253\u001b[0m                     for func, args, kwargs in self.items]\n\u001b[0;32m    254\u001b[0m \u001b[1;33m\u001b[0m\u001b[0m\n",
      "\u001b[1;32mc:\\Users\\lione\\anaconda3\\lib\\site-packages\\joblib\\parallel.py\u001b[0m in \u001b[0;36m<listcomp>\u001b[1;34m(.0)\u001b[0m\n\u001b[0;32m    250\u001b[0m         \u001b[1;31m# change the default number of processes to -1\u001b[0m\u001b[1;33m\u001b[0m\u001b[1;33m\u001b[0m\u001b[1;33m\u001b[0m\u001b[0m\n\u001b[0;32m    251\u001b[0m         \u001b[1;32mwith\u001b[0m \u001b[0mparallel_backend\u001b[0m\u001b[1;33m(\u001b[0m\u001b[0mself\u001b[0m\u001b[1;33m.\u001b[0m\u001b[0m_backend\u001b[0m\u001b[1;33m,\u001b[0m \u001b[0mn_jobs\u001b[0m\u001b[1;33m=\u001b[0m\u001b[0mself\u001b[0m\u001b[1;33m.\u001b[0m\u001b[0m_n_jobs\u001b[0m\u001b[1;33m)\u001b[0m\u001b[1;33m:\u001b[0m\u001b[1;33m\u001b[0m\u001b[1;33m\u001b[0m\u001b[0m\n\u001b[1;32m--> 252\u001b[1;33m             return [func(*args, **kwargs)\n\u001b[0m\u001b[0;32m    253\u001b[0m                     for func, args, kwargs in self.items]\n\u001b[0;32m    254\u001b[0m \u001b[1;33m\u001b[0m\u001b[0m\n",
      "\u001b[1;32mc:\\Users\\lione\\anaconda3\\lib\\site-packages\\sklearn\\model_selection\\_validation.py\u001b[0m in \u001b[0;36m_fit_and_score\u001b[1;34m(estimator, X, y, scorer, train, test, verbose, parameters, fit_params, return_train_score, return_parameters, return_n_test_samples, return_times, return_estimator, error_score)\u001b[0m\n\u001b[0;32m    558\u001b[0m     \u001b[1;32melse\u001b[0m\u001b[1;33m:\u001b[0m\u001b[1;33m\u001b[0m\u001b[1;33m\u001b[0m\u001b[0m\n\u001b[0;32m    559\u001b[0m         \u001b[0mfit_time\u001b[0m \u001b[1;33m=\u001b[0m \u001b[0mtime\u001b[0m\u001b[1;33m.\u001b[0m\u001b[0mtime\u001b[0m\u001b[1;33m(\u001b[0m\u001b[1;33m)\u001b[0m \u001b[1;33m-\u001b[0m \u001b[0mstart_time\u001b[0m\u001b[1;33m\u001b[0m\u001b[1;33m\u001b[0m\u001b[0m\n\u001b[1;32m--> 560\u001b[1;33m         \u001b[0mtest_scores\u001b[0m \u001b[1;33m=\u001b[0m \u001b[0m_score\u001b[0m\u001b[1;33m(\u001b[0m\u001b[0mestimator\u001b[0m\u001b[1;33m,\u001b[0m \u001b[0mX_test\u001b[0m\u001b[1;33m,\u001b[0m \u001b[0my_test\u001b[0m\u001b[1;33m,\u001b[0m \u001b[0mscorer\u001b[0m\u001b[1;33m)\u001b[0m\u001b[1;33m\u001b[0m\u001b[1;33m\u001b[0m\u001b[0m\n\u001b[0m\u001b[0;32m    561\u001b[0m         \u001b[0mscore_time\u001b[0m \u001b[1;33m=\u001b[0m \u001b[0mtime\u001b[0m\u001b[1;33m.\u001b[0m\u001b[0mtime\u001b[0m\u001b[1;33m(\u001b[0m\u001b[1;33m)\u001b[0m \u001b[1;33m-\u001b[0m \u001b[0mstart_time\u001b[0m \u001b[1;33m-\u001b[0m \u001b[0mfit_time\u001b[0m\u001b[1;33m\u001b[0m\u001b[1;33m\u001b[0m\u001b[0m\n\u001b[0;32m    562\u001b[0m         \u001b[1;32mif\u001b[0m \u001b[0mreturn_train_score\u001b[0m\u001b[1;33m:\u001b[0m\u001b[1;33m\u001b[0m\u001b[1;33m\u001b[0m\u001b[0m\n",
      "\u001b[1;32mc:\\Users\\lione\\anaconda3\\lib\\site-packages\\sklearn\\model_selection\\_validation.py\u001b[0m in \u001b[0;36m_score\u001b[1;34m(estimator, X_test, y_test, scorer)\u001b[0m\n\u001b[0;32m    605\u001b[0m         \u001b[0mscores\u001b[0m \u001b[1;33m=\u001b[0m \u001b[0mscorer\u001b[0m\u001b[1;33m(\u001b[0m\u001b[0mestimator\u001b[0m\u001b[1;33m,\u001b[0m \u001b[0mX_test\u001b[0m\u001b[1;33m)\u001b[0m\u001b[1;33m\u001b[0m\u001b[1;33m\u001b[0m\u001b[0m\n\u001b[0;32m    606\u001b[0m     \u001b[1;32melse\u001b[0m\u001b[1;33m:\u001b[0m\u001b[1;33m\u001b[0m\u001b[1;33m\u001b[0m\u001b[0m\n\u001b[1;32m--> 607\u001b[1;33m         \u001b[0mscores\u001b[0m \u001b[1;33m=\u001b[0m \u001b[0mscorer\u001b[0m\u001b[1;33m(\u001b[0m\u001b[0mestimator\u001b[0m\u001b[1;33m,\u001b[0m \u001b[0mX_test\u001b[0m\u001b[1;33m,\u001b[0m \u001b[0my_test\u001b[0m\u001b[1;33m)\u001b[0m\u001b[1;33m\u001b[0m\u001b[1;33m\u001b[0m\u001b[0m\n\u001b[0m\u001b[0;32m    608\u001b[0m \u001b[1;33m\u001b[0m\u001b[0m\n\u001b[0;32m    609\u001b[0m     error_msg = (\"scoring must return a number, got %s (%s) \"\n",
      "\u001b[1;32mc:\\Users\\lione\\anaconda3\\lib\\site-packages\\sklearn\\metrics\\_scorer.py\u001b[0m in \u001b[0;36m__call__\u001b[1;34m(self, estimator, *args, **kwargs)\u001b[0m\n\u001b[0;32m     85\u001b[0m         \u001b[1;32mfor\u001b[0m \u001b[0mname\u001b[0m\u001b[1;33m,\u001b[0m \u001b[0mscorer\u001b[0m \u001b[1;32min\u001b[0m \u001b[0mself\u001b[0m\u001b[1;33m.\u001b[0m\u001b[0m_scorers\u001b[0m\u001b[1;33m.\u001b[0m\u001b[0mitems\u001b[0m\u001b[1;33m(\u001b[0m\u001b[1;33m)\u001b[0m\u001b[1;33m:\u001b[0m\u001b[1;33m\u001b[0m\u001b[1;33m\u001b[0m\u001b[0m\n\u001b[0;32m     86\u001b[0m             \u001b[1;32mif\u001b[0m \u001b[0misinstance\u001b[0m\u001b[1;33m(\u001b[0m\u001b[0mscorer\u001b[0m\u001b[1;33m,\u001b[0m \u001b[0m_BaseScorer\u001b[0m\u001b[1;33m)\u001b[0m\u001b[1;33m:\u001b[0m\u001b[1;33m\u001b[0m\u001b[1;33m\u001b[0m\u001b[0m\n\u001b[1;32m---> 87\u001b[1;33m                 score = scorer._score(cached_call, estimator,\n\u001b[0m\u001b[0;32m     88\u001b[0m                                       *args, **kwargs)\n\u001b[0;32m     89\u001b[0m             \u001b[1;32melse\u001b[0m\u001b[1;33m:\u001b[0m\u001b[1;33m\u001b[0m\u001b[1;33m\u001b[0m\u001b[0m\n",
      "\u001b[1;32mc:\\Users\\lione\\anaconda3\\lib\\site-packages\\sklearn\\metrics\\_scorer.py\u001b[0m in \u001b[0;36m_score\u001b[1;34m(self, method_caller, clf, X, y, sample_weight)\u001b[0m\n\u001b[0;32m    299\u001b[0m         \u001b[0my_type\u001b[0m \u001b[1;33m=\u001b[0m \u001b[0mtype_of_target\u001b[0m\u001b[1;33m(\u001b[0m\u001b[0my\u001b[0m\u001b[1;33m)\u001b[0m\u001b[1;33m\u001b[0m\u001b[1;33m\u001b[0m\u001b[0m\n\u001b[0;32m    300\u001b[0m         \u001b[1;32mif\u001b[0m \u001b[0my_type\u001b[0m \u001b[1;32mnot\u001b[0m \u001b[1;32min\u001b[0m \u001b[1;33m(\u001b[0m\u001b[1;34m\"binary\"\u001b[0m\u001b[1;33m,\u001b[0m \u001b[1;34m\"multilabel-indicator\"\u001b[0m\u001b[1;33m)\u001b[0m\u001b[1;33m:\u001b[0m\u001b[1;33m\u001b[0m\u001b[1;33m\u001b[0m\u001b[0m\n\u001b[1;32m--> 301\u001b[1;33m             \u001b[1;32mraise\u001b[0m \u001b[0mValueError\u001b[0m\u001b[1;33m(\u001b[0m\u001b[1;34m\"{0} format is not supported\"\u001b[0m\u001b[1;33m.\u001b[0m\u001b[0mformat\u001b[0m\u001b[1;33m(\u001b[0m\u001b[0my_type\u001b[0m\u001b[1;33m)\u001b[0m\u001b[1;33m)\u001b[0m\u001b[1;33m\u001b[0m\u001b[1;33m\u001b[0m\u001b[0m\n\u001b[0m\u001b[0;32m    302\u001b[0m \u001b[1;33m\u001b[0m\u001b[0m\n\u001b[0;32m    303\u001b[0m         \u001b[1;32mif\u001b[0m \u001b[0mis_regressor\u001b[0m\u001b[1;33m(\u001b[0m\u001b[0mclf\u001b[0m\u001b[1;33m)\u001b[0m\u001b[1;33m:\u001b[0m\u001b[1;33m\u001b[0m\u001b[1;33m\u001b[0m\u001b[0m\n",
      "\u001b[1;31mValueError\u001b[0m: multiclass format is not supported"
     ]
    }
   ],
   "source": [
    "from sklearn.tree import DecisionTreeClassifier\n",
    "from sklearn.model_selection import GridSearchCV\n",
    "from sklearn.model_selection import RepeatedStratifiedKFold\n",
    "from sklearn.metrics import accuracy_score\n",
    "from sklearn.metrics import make_scorer\n",
    "\n",
    "scoring = {\"AUC\": \"roc_auc\", \"Accuracy\": make_scorer(accuracy_score)}\n",
    "\n",
    "df_classifier = DecisionTreeClassifier(random_state=2)\n",
    "\n",
    "cv_method = RepeatedStratifiedKFold(n_splits=5, \n",
    "                                    n_repeats=3, \n",
    "                                    random_state=2)\n",
    "\n",
    "params_DT = {'criterion': ['gini', 'entropy'],\n",
    "             'max_depth': [1, 2, 3, 4, 5, 6, 7, 8,10,15,20],\n",
    "             'min_samples_split': [2, 3]}\n",
    "\n",
    "dtm_cv = GridSearchCV(estimator=df_classifier, \n",
    "                     param_grid=params_DT, \n",
    "                     cv=cv_method,\n",
    "                     verbose=1, #output Messages\n",
    "                     refit=\"AUC\", #das brauche ich, damit ich mehrere Scores ausweisen kann\n",
    "                     scoring=scoring) #'accuracy') #brauchen wir noch mehr Outputs?\n",
    "\n",
    "dtm_cv.fit(x_multi, y_multi)\n",
    "print('Best Model:')\n",
    "print(dtm_cv.best_params_)\n",
    "print('Best Score:')\n",
    "print(dtm_cv.best_score_)"
   ]
  },
  {
   "cell_type": "code",
   "execution_count": null,
   "id": "03562e4c",
   "metadata": {},
   "outputs": [],
   "source": []
  },
  {
   "cell_type": "code",
   "execution_count": 263,
   "id": "b9303465",
   "metadata": {},
   "outputs": [
    {
     "ename": "AttributeError",
     "evalue": "'GridSearchCV' object has no attribute 'scorer_'",
     "output_type": "error",
     "traceback": [
      "\u001b[1;31m---------------------------------------------------------------------------\u001b[0m",
      "\u001b[1;31mAttributeError\u001b[0m                            Traceback (most recent call last)",
      "\u001b[1;32m<ipython-input-263-dd83edb3e948>\u001b[0m in \u001b[0;36m<module>\u001b[1;34m\u001b[0m\n\u001b[0;32m      2\u001b[0m \u001b[0mmodel\u001b[0m \u001b[1;33m=\u001b[0m \u001b[1;34m'dtm_cv'\u001b[0m\u001b[1;33m\u001b[0m\u001b[1;33m\u001b[0m\u001b[0m\n\u001b[0;32m      3\u001b[0m \u001b[0mmax_debth\u001b[0m \u001b[1;33m=\u001b[0m \u001b[1;36m3\u001b[0m\u001b[1;33m\u001b[0m\u001b[1;33m\u001b[0m\u001b[0m\n\u001b[1;32m----> 4\u001b[1;33m \u001b[0maccuracy_in_sample\u001b[0m \u001b[1;33m=\u001b[0m \u001b[0mdtm_cv\u001b[0m\u001b[1;33m.\u001b[0m\u001b[0mscore\u001b[0m\u001b[1;33m(\u001b[0m\u001b[0mx_multi_train\u001b[0m\u001b[1;33m,\u001b[0m \u001b[0my_multi_train\u001b[0m\u001b[1;33m)\u001b[0m\u001b[1;33m\u001b[0m\u001b[1;33m\u001b[0m\u001b[0m\n\u001b[0m\u001b[0;32m      5\u001b[0m \u001b[0maccuracy_out_sample\u001b[0m \u001b[1;33m=\u001b[0m \u001b[0mdtm_cv\u001b[0m\u001b[1;33m.\u001b[0m\u001b[0mscore\u001b[0m\u001b[1;33m(\u001b[0m\u001b[0mx_multi_test\u001b[0m\u001b[1;33m,\u001b[0m \u001b[0my_multi_test\u001b[0m\u001b[1;33m)\u001b[0m\u001b[1;33m\u001b[0m\u001b[1;33m\u001b[0m\u001b[0m\n\u001b[0;32m      6\u001b[0m \u001b[0mPrecision\u001b[0m \u001b[1;33m=\u001b[0m \u001b[0mreport\u001b[0m\u001b[1;33m[\u001b[0m\u001b[1;34m'macro avg'\u001b[0m\u001b[1;33m]\u001b[0m\u001b[1;33m[\u001b[0m\u001b[1;34m'precision'\u001b[0m\u001b[1;33m]\u001b[0m\u001b[1;33m\u001b[0m\u001b[1;33m\u001b[0m\u001b[0m\n",
      "\u001b[1;32mc:\\Users\\lione\\anaconda3\\lib\\site-packages\\sklearn\\model_selection\\_search.py\u001b[0m in \u001b[0;36mscore\u001b[1;34m(self, X, y)\u001b[0m\n\u001b[0;32m    451\u001b[0m         \"\"\"\n\u001b[0;32m    452\u001b[0m         \u001b[0mself\u001b[0m\u001b[1;33m.\u001b[0m\u001b[0m_check_is_fitted\u001b[0m\u001b[1;33m(\u001b[0m\u001b[1;34m'score'\u001b[0m\u001b[1;33m)\u001b[0m\u001b[1;33m\u001b[0m\u001b[1;33m\u001b[0m\u001b[0m\n\u001b[1;32m--> 453\u001b[1;33m         \u001b[1;32mif\u001b[0m \u001b[0mself\u001b[0m\u001b[1;33m.\u001b[0m\u001b[0mscorer_\u001b[0m \u001b[1;32mis\u001b[0m \u001b[1;32mNone\u001b[0m\u001b[1;33m:\u001b[0m\u001b[1;33m\u001b[0m\u001b[1;33m\u001b[0m\u001b[0m\n\u001b[0m\u001b[0;32m    454\u001b[0m             raise ValueError(\"No score function explicitly defined, \"\n\u001b[0;32m    455\u001b[0m                              \u001b[1;34m\"and the estimator doesn't provide one %s\"\u001b[0m\u001b[1;33m\u001b[0m\u001b[1;33m\u001b[0m\u001b[0m\n",
      "\u001b[1;31mAttributeError\u001b[0m: 'GridSearchCV' object has no attribute 'scorer_'"
     ]
    }
   ],
   "source": [
    "#Hier müssen die Resultate von der Liste von oben einfügen:\n",
    "model = 'dtm_cv'\n",
    "max_debth = 3\n",
    "accuracy_in_sample = dtm_cv.score(x_multi_train, y_multi_train)\n",
    "accuracy_out_sample = dtm_cv.score(x_multi_test, y_multi_test)\n",
    "Precision = report['macro avg']['precision'] \n",
    "Recall = report['macro avg']['recall']\n",
    "F1 = report['macro avg']['f1-score']\n",
    "TP = 1\n",
    "TN = 1\n",
    "FP = 1\n",
    "FN = 1"
   ]
  },
  {
   "cell_type": "code",
   "execution_count": 264,
   "id": "77e61936",
   "metadata": {},
   "outputs": [
    {
     "data": {
      "text/html": [
       "<div>\n",
       "<style scoped>\n",
       "    .dataframe tbody tr th:only-of-type {\n",
       "        vertical-align: middle;\n",
       "    }\n",
       "\n",
       "    .dataframe tbody tr th {\n",
       "        vertical-align: top;\n",
       "    }\n",
       "\n",
       "    .dataframe thead th {\n",
       "        text-align: right;\n",
       "    }\n",
       "</style>\n",
       "<table border=\"1\" class=\"dataframe\">\n",
       "  <thead>\n",
       "    <tr style=\"text-align: right;\">\n",
       "      <th></th>\n",
       "      <th>Model</th>\n",
       "      <th>max_debth</th>\n",
       "      <th>accuracy_in_sample</th>\n",
       "      <th>accuracy_out_sample</th>\n",
       "      <th>Precision</th>\n",
       "      <th>Recall</th>\n",
       "      <th>F1</th>\n",
       "      <th>TP</th>\n",
       "      <th>TN</th>\n",
       "      <th>FP</th>\n",
       "      <th>FN</th>\n",
       "    </tr>\n",
       "  </thead>\n",
       "  <tbody>\n",
       "    <tr>\n",
       "      <th>0</th>\n",
       "      <td>dtm_cv</td>\n",
       "      <td>3</td>\n",
       "      <td>0.879227</td>\n",
       "      <td>0.733333</td>\n",
       "      <td>0.739496</td>\n",
       "      <td>0.72619</td>\n",
       "      <td>0.726721</td>\n",
       "      <td>1</td>\n",
       "      <td>1</td>\n",
       "      <td>1</td>\n",
       "      <td>1</td>\n",
       "    </tr>\n",
       "  </tbody>\n",
       "</table>\n",
       "</div>"
      ],
      "text/plain": [
       "    Model  max_debth  accuracy_in_sample  accuracy_out_sample  Precision  \\\n",
       "0  dtm_cv          3            0.879227             0.733333   0.739496   \n",
       "\n",
       "    Recall        F1  TP  TN  FP  FN  \n",
       "0  0.72619  0.726721   1   1   1   1  "
      ]
     },
     "execution_count": 264,
     "metadata": {},
     "output_type": "execute_result"
    }
   ],
   "source": [
    "#Append the Results from the Loop to the existing Dataframe:\n",
    "dtm_cv_temp = [(model, max_debth, accuracy_in_sample, accuracy_out_sample, Precision, Recall, F1, TP, TN, FP, FN)]\n",
    "dtm_cv_results = pd.DataFrame(dtm_cv_temp)\n",
    "dtm_cv_results.rename(columns={0:'Model', 1:'max_debth', 2:'accuracy_in_sample', 3:'accuracy_out_sample', 4:'Precision', 5:'Recall', 6:'F1', 7:'TP', 8:'TN', 9:'FP', 10:'FN' }, inplace = True)\n",
    "dtm_cv_results"
   ]
  },
  {
   "cell_type": "code",
   "execution_count": null,
   "id": "c5af57c7",
   "metadata": {},
   "outputs": [],
   "source": [
    "# define score lists\n",
    "# Out-of-Sample Scores\n",
    "acc_liste = []\n",
    "tpr_liste = []\n",
    "fpr_liste = []\n",
    "\n",
    "# Define list for in-sample Scores\n",
    "acc_in_liste = []\n",
    "tpr_in_liste = []\n",
    "fpr_in_liste = []"
   ]
  },
  {
   "cell_type": "code",
   "execution_count": null,
   "id": "940c6529",
   "metadata": {},
   "outputs": [],
   "source": [
    "for depth in range(1,21):\n",
    "    # define model    \n",
    "    dtm_cv = DecisionTreeClassifier(criterion = 'gini', max_depth = depth)\n",
    "    # train model\n",
    "    dtm_cv.fit(x_multi_train, y_multi_train)\n",
    "    # In-Sample Scores:\n",
    "    # predict on train set\n",
    "    y_pred_in = dtm_cv.predict(x_multi_train)\n",
    "    # accuracy\n",
    "    acc_in = dtm_cv.score(x_multi_train, y_multi_train)\n",
    "    # True Positive Rate\n",
    "    tpr_in = recall_score(y_multi_train, y_pred_in, average=None)  #ACHTUNG HIER AVERAGE NONE EINGEFÜGT!!!\n",
    "    # False Positive Rate\n",
    "    fpr_in = ((1-y_multi_train)*y_pred_in).sum()/(1-y_multi_train).sum()\n",
    "    # results in list \n",
    "    acc_in_liste.append(acc_in) # With append you add each of the new values into the list, as the \n",
    "    tpr_in_liste.append(tpr_in)\n",
    "    fpr_in_liste.append(fpr_in)\n",
    "\n",
    "    # Out-of-Sample Scores:\n",
    "    # predict on test set\n",
    "    y_pred = dtm_cv.predict(x_multi_test)\n",
    "    # Acc\n",
    "    acc = dtm_cv.score(x_multi_test, y_multi_test)\n",
    "    # True Positive Rate\n",
    "    tpr = recall_score(y_multi_test, y_pred, average=None) #ACHTUNG HIER AVERAGE NONE EINGEFÜGT!!!\n",
    "    # False Positive Rate\n",
    "    fpr = ((1-y_multi_test)*y_pred).sum()/(1-y_multi_test).sum()\n",
    "    # put results in list\n",
    "    acc_liste.append(acc)\n",
    "    tpr_liste.append(tpr)\n",
    "    fpr_liste.append(fpr)"
   ]
  },
  {
   "cell_type": "code",
   "execution_count": null,
   "id": "b52b1334",
   "metadata": {},
   "outputs": [],
   "source": [
    "# With cross validation\n",
    "from sklearn.model_selection import cross_validate, KFold\n",
    "# Define lists for the accuracies\n",
    "dtm_cv_acc_list = []\n",
    "dtm_cv_tpr_list = []\n",
    "dtm_cv_acc_in_list = []\n",
    "dtm_cv_tpr_in_list = []"
   ]
  },
  {
   "cell_type": "code",
   "execution_count": null,
   "id": "34a00fe0",
   "metadata": {},
   "outputs": [
    {
     "ename": "ValueError",
     "evalue": "Target is multiclass but average='binary'. Please choose another average setting, one of [None, 'micro', 'macro', 'weighted'].",
     "output_type": "error",
     "traceback": [
      "\u001b[1;31m---------------------------------------------------------------------------\u001b[0m",
      "\u001b[1;31mValueError\u001b[0m                                Traceback (most recent call last)",
      "\u001b[1;32m<ipython-input-303-275236c463de>\u001b[0m in \u001b[0;36m<module>\u001b[1;34m\u001b[0m\n\u001b[0;32m      3\u001b[0m     \u001b[0mdtm_cv\u001b[0m \u001b[1;33m=\u001b[0m \u001b[0mDecisionTreeClassifier\u001b[0m\u001b[1;33m(\u001b[0m\u001b[0mcriterion\u001b[0m \u001b[1;33m=\u001b[0m \u001b[1;34m'entropy'\u001b[0m\u001b[1;33m,\u001b[0m \u001b[0mmax_depth\u001b[0m \u001b[1;33m=\u001b[0m \u001b[0mdepth\u001b[0m\u001b[1;33m)\u001b[0m\u001b[1;33m\u001b[0m\u001b[1;33m\u001b[0m\u001b[0m\n\u001b[0;32m      4\u001b[0m     \u001b[1;31m# 10-Fold cross validation on whole dataset\u001b[0m\u001b[1;33m\u001b[0m\u001b[1;33m\u001b[0m\u001b[1;33m\u001b[0m\u001b[0m\n\u001b[1;32m----> 5\u001b[1;33m     dtm_cv_results = cross_validate(dtm_cv, x_multi, y_multi,\n\u001b[0m\u001b[0;32m      6\u001b[0m                             \u001b[0mcv\u001b[0m \u001b[1;33m=\u001b[0m \u001b[0mKFold\u001b[0m\u001b[1;33m(\u001b[0m\u001b[0mn_splits\u001b[0m \u001b[1;33m=\u001b[0m \u001b[1;36m10\u001b[0m\u001b[1;33m,\u001b[0m \u001b[0mshuffle\u001b[0m \u001b[1;33m=\u001b[0m \u001b[1;32mTrue\u001b[0m\u001b[1;33m,\u001b[0m \u001b[0mrandom_state\u001b[0m \u001b[1;33m=\u001b[0m \u001b[1;36m31\u001b[0m\u001b[1;33m)\u001b[0m\u001b[1;33m,\u001b[0m\u001b[1;33m\u001b[0m\u001b[1;33m\u001b[0m\u001b[0m\n\u001b[0;32m      7\u001b[0m                             scoring = ['accuracy', 'recall'], return_train_score = True)\n",
      "\u001b[1;32mc:\\Users\\lione\\anaconda3\\lib\\site-packages\\sklearn\\utils\\validation.py\u001b[0m in \u001b[0;36minner_f\u001b[1;34m(*args, **kwargs)\u001b[0m\n\u001b[0;32m     71\u001b[0m                           FutureWarning)\n\u001b[0;32m     72\u001b[0m         \u001b[0mkwargs\u001b[0m\u001b[1;33m.\u001b[0m\u001b[0mupdate\u001b[0m\u001b[1;33m(\u001b[0m\u001b[1;33m{\u001b[0m\u001b[0mk\u001b[0m\u001b[1;33m:\u001b[0m \u001b[0marg\u001b[0m \u001b[1;32mfor\u001b[0m \u001b[0mk\u001b[0m\u001b[1;33m,\u001b[0m \u001b[0marg\u001b[0m \u001b[1;32min\u001b[0m \u001b[0mzip\u001b[0m\u001b[1;33m(\u001b[0m\u001b[0msig\u001b[0m\u001b[1;33m.\u001b[0m\u001b[0mparameters\u001b[0m\u001b[1;33m,\u001b[0m \u001b[0margs\u001b[0m\u001b[1;33m)\u001b[0m\u001b[1;33m}\u001b[0m\u001b[1;33m)\u001b[0m\u001b[1;33m\u001b[0m\u001b[1;33m\u001b[0m\u001b[0m\n\u001b[1;32m---> 73\u001b[1;33m         \u001b[1;32mreturn\u001b[0m \u001b[0mf\u001b[0m\u001b[1;33m(\u001b[0m\u001b[1;33m**\u001b[0m\u001b[0mkwargs\u001b[0m\u001b[1;33m)\u001b[0m\u001b[1;33m\u001b[0m\u001b[1;33m\u001b[0m\u001b[0m\n\u001b[0m\u001b[0;32m     74\u001b[0m     \u001b[1;32mreturn\u001b[0m \u001b[0minner_f\u001b[0m\u001b[1;33m\u001b[0m\u001b[1;33m\u001b[0m\u001b[0m\n\u001b[0;32m     75\u001b[0m \u001b[1;33m\u001b[0m\u001b[0m\n",
      "\u001b[1;32mc:\\Users\\lione\\anaconda3\\lib\\site-packages\\sklearn\\model_selection\\_validation.py\u001b[0m in \u001b[0;36mcross_validate\u001b[1;34m(estimator, X, y, groups, scoring, cv, n_jobs, verbose, fit_params, pre_dispatch, return_train_score, return_estimator, error_score)\u001b[0m\n\u001b[0;32m    240\u001b[0m     parallel = Parallel(n_jobs=n_jobs, verbose=verbose,\n\u001b[0;32m    241\u001b[0m                         pre_dispatch=pre_dispatch)\n\u001b[1;32m--> 242\u001b[1;33m     scores = parallel(\n\u001b[0m\u001b[0;32m    243\u001b[0m         delayed(_fit_and_score)(\n\u001b[0;32m    244\u001b[0m             \u001b[0mclone\u001b[0m\u001b[1;33m(\u001b[0m\u001b[0mestimator\u001b[0m\u001b[1;33m)\u001b[0m\u001b[1;33m,\u001b[0m \u001b[0mX\u001b[0m\u001b[1;33m,\u001b[0m \u001b[0my\u001b[0m\u001b[1;33m,\u001b[0m \u001b[0mscorers\u001b[0m\u001b[1;33m,\u001b[0m \u001b[0mtrain\u001b[0m\u001b[1;33m,\u001b[0m \u001b[0mtest\u001b[0m\u001b[1;33m,\u001b[0m \u001b[0mverbose\u001b[0m\u001b[1;33m,\u001b[0m \u001b[1;32mNone\u001b[0m\u001b[1;33m,\u001b[0m\u001b[1;33m\u001b[0m\u001b[1;33m\u001b[0m\u001b[0m\n",
      "\u001b[1;32mc:\\Users\\lione\\anaconda3\\lib\\site-packages\\joblib\\parallel.py\u001b[0m in \u001b[0;36m__call__\u001b[1;34m(self, iterable)\u001b[0m\n\u001b[0;32m   1027\u001b[0m             \u001b[1;31m# remaining jobs.\u001b[0m\u001b[1;33m\u001b[0m\u001b[1;33m\u001b[0m\u001b[1;33m\u001b[0m\u001b[0m\n\u001b[0;32m   1028\u001b[0m             \u001b[0mself\u001b[0m\u001b[1;33m.\u001b[0m\u001b[0m_iterating\u001b[0m \u001b[1;33m=\u001b[0m \u001b[1;32mFalse\u001b[0m\u001b[1;33m\u001b[0m\u001b[1;33m\u001b[0m\u001b[0m\n\u001b[1;32m-> 1029\u001b[1;33m             \u001b[1;32mif\u001b[0m \u001b[0mself\u001b[0m\u001b[1;33m.\u001b[0m\u001b[0mdispatch_one_batch\u001b[0m\u001b[1;33m(\u001b[0m\u001b[0miterator\u001b[0m\u001b[1;33m)\u001b[0m\u001b[1;33m:\u001b[0m\u001b[1;33m\u001b[0m\u001b[1;33m\u001b[0m\u001b[0m\n\u001b[0m\u001b[0;32m   1030\u001b[0m                 \u001b[0mself\u001b[0m\u001b[1;33m.\u001b[0m\u001b[0m_iterating\u001b[0m \u001b[1;33m=\u001b[0m \u001b[0mself\u001b[0m\u001b[1;33m.\u001b[0m\u001b[0m_original_iterator\u001b[0m \u001b[1;32mis\u001b[0m \u001b[1;32mnot\u001b[0m \u001b[1;32mNone\u001b[0m\u001b[1;33m\u001b[0m\u001b[1;33m\u001b[0m\u001b[0m\n\u001b[0;32m   1031\u001b[0m \u001b[1;33m\u001b[0m\u001b[0m\n",
      "\u001b[1;32mc:\\Users\\lione\\anaconda3\\lib\\site-packages\\joblib\\parallel.py\u001b[0m in \u001b[0;36mdispatch_one_batch\u001b[1;34m(self, iterator)\u001b[0m\n\u001b[0;32m    845\u001b[0m                 \u001b[1;32mreturn\u001b[0m \u001b[1;32mFalse\u001b[0m\u001b[1;33m\u001b[0m\u001b[1;33m\u001b[0m\u001b[0m\n\u001b[0;32m    846\u001b[0m             \u001b[1;32melse\u001b[0m\u001b[1;33m:\u001b[0m\u001b[1;33m\u001b[0m\u001b[1;33m\u001b[0m\u001b[0m\n\u001b[1;32m--> 847\u001b[1;33m                 \u001b[0mself\u001b[0m\u001b[1;33m.\u001b[0m\u001b[0m_dispatch\u001b[0m\u001b[1;33m(\u001b[0m\u001b[0mtasks\u001b[0m\u001b[1;33m)\u001b[0m\u001b[1;33m\u001b[0m\u001b[1;33m\u001b[0m\u001b[0m\n\u001b[0m\u001b[0;32m    848\u001b[0m                 \u001b[1;32mreturn\u001b[0m \u001b[1;32mTrue\u001b[0m\u001b[1;33m\u001b[0m\u001b[1;33m\u001b[0m\u001b[0m\n\u001b[0;32m    849\u001b[0m \u001b[1;33m\u001b[0m\u001b[0m\n",
      "\u001b[1;32mc:\\Users\\lione\\anaconda3\\lib\\site-packages\\joblib\\parallel.py\u001b[0m in \u001b[0;36m_dispatch\u001b[1;34m(self, batch)\u001b[0m\n\u001b[0;32m    763\u001b[0m         \u001b[1;32mwith\u001b[0m \u001b[0mself\u001b[0m\u001b[1;33m.\u001b[0m\u001b[0m_lock\u001b[0m\u001b[1;33m:\u001b[0m\u001b[1;33m\u001b[0m\u001b[1;33m\u001b[0m\u001b[0m\n\u001b[0;32m    764\u001b[0m             \u001b[0mjob_idx\u001b[0m \u001b[1;33m=\u001b[0m \u001b[0mlen\u001b[0m\u001b[1;33m(\u001b[0m\u001b[0mself\u001b[0m\u001b[1;33m.\u001b[0m\u001b[0m_jobs\u001b[0m\u001b[1;33m)\u001b[0m\u001b[1;33m\u001b[0m\u001b[1;33m\u001b[0m\u001b[0m\n\u001b[1;32m--> 765\u001b[1;33m             \u001b[0mjob\u001b[0m \u001b[1;33m=\u001b[0m \u001b[0mself\u001b[0m\u001b[1;33m.\u001b[0m\u001b[0m_backend\u001b[0m\u001b[1;33m.\u001b[0m\u001b[0mapply_async\u001b[0m\u001b[1;33m(\u001b[0m\u001b[0mbatch\u001b[0m\u001b[1;33m,\u001b[0m \u001b[0mcallback\u001b[0m\u001b[1;33m=\u001b[0m\u001b[0mcb\u001b[0m\u001b[1;33m)\u001b[0m\u001b[1;33m\u001b[0m\u001b[1;33m\u001b[0m\u001b[0m\n\u001b[0m\u001b[0;32m    766\u001b[0m             \u001b[1;31m# A job can complete so quickly than its callback is\u001b[0m\u001b[1;33m\u001b[0m\u001b[1;33m\u001b[0m\u001b[1;33m\u001b[0m\u001b[0m\n\u001b[0;32m    767\u001b[0m             \u001b[1;31m# called before we get here, causing self._jobs to\u001b[0m\u001b[1;33m\u001b[0m\u001b[1;33m\u001b[0m\u001b[1;33m\u001b[0m\u001b[0m\n",
      "\u001b[1;32mc:\\Users\\lione\\anaconda3\\lib\\site-packages\\joblib\\_parallel_backends.py\u001b[0m in \u001b[0;36mapply_async\u001b[1;34m(self, func, callback)\u001b[0m\n\u001b[0;32m    206\u001b[0m     \u001b[1;32mdef\u001b[0m \u001b[0mapply_async\u001b[0m\u001b[1;33m(\u001b[0m\u001b[0mself\u001b[0m\u001b[1;33m,\u001b[0m \u001b[0mfunc\u001b[0m\u001b[1;33m,\u001b[0m \u001b[0mcallback\u001b[0m\u001b[1;33m=\u001b[0m\u001b[1;32mNone\u001b[0m\u001b[1;33m)\u001b[0m\u001b[1;33m:\u001b[0m\u001b[1;33m\u001b[0m\u001b[1;33m\u001b[0m\u001b[0m\n\u001b[0;32m    207\u001b[0m         \u001b[1;34m\"\"\"Schedule a func to be run\"\"\"\u001b[0m\u001b[1;33m\u001b[0m\u001b[1;33m\u001b[0m\u001b[0m\n\u001b[1;32m--> 208\u001b[1;33m         \u001b[0mresult\u001b[0m \u001b[1;33m=\u001b[0m \u001b[0mImmediateResult\u001b[0m\u001b[1;33m(\u001b[0m\u001b[0mfunc\u001b[0m\u001b[1;33m)\u001b[0m\u001b[1;33m\u001b[0m\u001b[1;33m\u001b[0m\u001b[0m\n\u001b[0m\u001b[0;32m    209\u001b[0m         \u001b[1;32mif\u001b[0m \u001b[0mcallback\u001b[0m\u001b[1;33m:\u001b[0m\u001b[1;33m\u001b[0m\u001b[1;33m\u001b[0m\u001b[0m\n\u001b[0;32m    210\u001b[0m             \u001b[0mcallback\u001b[0m\u001b[1;33m(\u001b[0m\u001b[0mresult\u001b[0m\u001b[1;33m)\u001b[0m\u001b[1;33m\u001b[0m\u001b[1;33m\u001b[0m\u001b[0m\n",
      "\u001b[1;32mc:\\Users\\lione\\anaconda3\\lib\\site-packages\\joblib\\_parallel_backends.py\u001b[0m in \u001b[0;36m__init__\u001b[1;34m(self, batch)\u001b[0m\n\u001b[0;32m    570\u001b[0m         \u001b[1;31m# Don't delay the application, to avoid keeping the input\u001b[0m\u001b[1;33m\u001b[0m\u001b[1;33m\u001b[0m\u001b[1;33m\u001b[0m\u001b[0m\n\u001b[0;32m    571\u001b[0m         \u001b[1;31m# arguments in memory\u001b[0m\u001b[1;33m\u001b[0m\u001b[1;33m\u001b[0m\u001b[1;33m\u001b[0m\u001b[0m\n\u001b[1;32m--> 572\u001b[1;33m         \u001b[0mself\u001b[0m\u001b[1;33m.\u001b[0m\u001b[0mresults\u001b[0m \u001b[1;33m=\u001b[0m \u001b[0mbatch\u001b[0m\u001b[1;33m(\u001b[0m\u001b[1;33m)\u001b[0m\u001b[1;33m\u001b[0m\u001b[1;33m\u001b[0m\u001b[0m\n\u001b[0m\u001b[0;32m    573\u001b[0m \u001b[1;33m\u001b[0m\u001b[0m\n\u001b[0;32m    574\u001b[0m     \u001b[1;32mdef\u001b[0m \u001b[0mget\u001b[0m\u001b[1;33m(\u001b[0m\u001b[0mself\u001b[0m\u001b[1;33m)\u001b[0m\u001b[1;33m:\u001b[0m\u001b[1;33m\u001b[0m\u001b[1;33m\u001b[0m\u001b[0m\n",
      "\u001b[1;32mc:\\Users\\lione\\anaconda3\\lib\\site-packages\\joblib\\parallel.py\u001b[0m in \u001b[0;36m__call__\u001b[1;34m(self)\u001b[0m\n\u001b[0;32m    250\u001b[0m         \u001b[1;31m# change the default number of processes to -1\u001b[0m\u001b[1;33m\u001b[0m\u001b[1;33m\u001b[0m\u001b[1;33m\u001b[0m\u001b[0m\n\u001b[0;32m    251\u001b[0m         \u001b[1;32mwith\u001b[0m \u001b[0mparallel_backend\u001b[0m\u001b[1;33m(\u001b[0m\u001b[0mself\u001b[0m\u001b[1;33m.\u001b[0m\u001b[0m_backend\u001b[0m\u001b[1;33m,\u001b[0m \u001b[0mn_jobs\u001b[0m\u001b[1;33m=\u001b[0m\u001b[0mself\u001b[0m\u001b[1;33m.\u001b[0m\u001b[0m_n_jobs\u001b[0m\u001b[1;33m)\u001b[0m\u001b[1;33m:\u001b[0m\u001b[1;33m\u001b[0m\u001b[1;33m\u001b[0m\u001b[0m\n\u001b[1;32m--> 252\u001b[1;33m             return [func(*args, **kwargs)\n\u001b[0m\u001b[0;32m    253\u001b[0m                     for func, args, kwargs in self.items]\n\u001b[0;32m    254\u001b[0m \u001b[1;33m\u001b[0m\u001b[0m\n",
      "\u001b[1;32mc:\\Users\\lione\\anaconda3\\lib\\site-packages\\joblib\\parallel.py\u001b[0m in \u001b[0;36m<listcomp>\u001b[1;34m(.0)\u001b[0m\n\u001b[0;32m    250\u001b[0m         \u001b[1;31m# change the default number of processes to -1\u001b[0m\u001b[1;33m\u001b[0m\u001b[1;33m\u001b[0m\u001b[1;33m\u001b[0m\u001b[0m\n\u001b[0;32m    251\u001b[0m         \u001b[1;32mwith\u001b[0m \u001b[0mparallel_backend\u001b[0m\u001b[1;33m(\u001b[0m\u001b[0mself\u001b[0m\u001b[1;33m.\u001b[0m\u001b[0m_backend\u001b[0m\u001b[1;33m,\u001b[0m \u001b[0mn_jobs\u001b[0m\u001b[1;33m=\u001b[0m\u001b[0mself\u001b[0m\u001b[1;33m.\u001b[0m\u001b[0m_n_jobs\u001b[0m\u001b[1;33m)\u001b[0m\u001b[1;33m:\u001b[0m\u001b[1;33m\u001b[0m\u001b[1;33m\u001b[0m\u001b[0m\n\u001b[1;32m--> 252\u001b[1;33m             return [func(*args, **kwargs)\n\u001b[0m\u001b[0;32m    253\u001b[0m                     for func, args, kwargs in self.items]\n\u001b[0;32m    254\u001b[0m \u001b[1;33m\u001b[0m\u001b[0m\n",
      "\u001b[1;32mc:\\Users\\lione\\anaconda3\\lib\\site-packages\\sklearn\\model_selection\\_validation.py\u001b[0m in \u001b[0;36m_fit_and_score\u001b[1;34m(estimator, X, y, scorer, train, test, verbose, parameters, fit_params, return_train_score, return_parameters, return_n_test_samples, return_times, return_estimator, error_score)\u001b[0m\n\u001b[0;32m    558\u001b[0m     \u001b[1;32melse\u001b[0m\u001b[1;33m:\u001b[0m\u001b[1;33m\u001b[0m\u001b[1;33m\u001b[0m\u001b[0m\n\u001b[0;32m    559\u001b[0m         \u001b[0mfit_time\u001b[0m \u001b[1;33m=\u001b[0m \u001b[0mtime\u001b[0m\u001b[1;33m.\u001b[0m\u001b[0mtime\u001b[0m\u001b[1;33m(\u001b[0m\u001b[1;33m)\u001b[0m \u001b[1;33m-\u001b[0m \u001b[0mstart_time\u001b[0m\u001b[1;33m\u001b[0m\u001b[1;33m\u001b[0m\u001b[0m\n\u001b[1;32m--> 560\u001b[1;33m         \u001b[0mtest_scores\u001b[0m \u001b[1;33m=\u001b[0m \u001b[0m_score\u001b[0m\u001b[1;33m(\u001b[0m\u001b[0mestimator\u001b[0m\u001b[1;33m,\u001b[0m \u001b[0mX_test\u001b[0m\u001b[1;33m,\u001b[0m \u001b[0my_test\u001b[0m\u001b[1;33m,\u001b[0m \u001b[0mscorer\u001b[0m\u001b[1;33m)\u001b[0m\u001b[1;33m\u001b[0m\u001b[1;33m\u001b[0m\u001b[0m\n\u001b[0m\u001b[0;32m    561\u001b[0m         \u001b[0mscore_time\u001b[0m \u001b[1;33m=\u001b[0m \u001b[0mtime\u001b[0m\u001b[1;33m.\u001b[0m\u001b[0mtime\u001b[0m\u001b[1;33m(\u001b[0m\u001b[1;33m)\u001b[0m \u001b[1;33m-\u001b[0m \u001b[0mstart_time\u001b[0m \u001b[1;33m-\u001b[0m \u001b[0mfit_time\u001b[0m\u001b[1;33m\u001b[0m\u001b[1;33m\u001b[0m\u001b[0m\n\u001b[0;32m    562\u001b[0m         \u001b[1;32mif\u001b[0m \u001b[0mreturn_train_score\u001b[0m\u001b[1;33m:\u001b[0m\u001b[1;33m\u001b[0m\u001b[1;33m\u001b[0m\u001b[0m\n",
      "\u001b[1;32mc:\\Users\\lione\\anaconda3\\lib\\site-packages\\sklearn\\model_selection\\_validation.py\u001b[0m in \u001b[0;36m_score\u001b[1;34m(estimator, X_test, y_test, scorer)\u001b[0m\n\u001b[0;32m    605\u001b[0m         \u001b[0mscores\u001b[0m \u001b[1;33m=\u001b[0m \u001b[0mscorer\u001b[0m\u001b[1;33m(\u001b[0m\u001b[0mestimator\u001b[0m\u001b[1;33m,\u001b[0m \u001b[0mX_test\u001b[0m\u001b[1;33m)\u001b[0m\u001b[1;33m\u001b[0m\u001b[1;33m\u001b[0m\u001b[0m\n\u001b[0;32m    606\u001b[0m     \u001b[1;32melse\u001b[0m\u001b[1;33m:\u001b[0m\u001b[1;33m\u001b[0m\u001b[1;33m\u001b[0m\u001b[0m\n\u001b[1;32m--> 607\u001b[1;33m         \u001b[0mscores\u001b[0m \u001b[1;33m=\u001b[0m \u001b[0mscorer\u001b[0m\u001b[1;33m(\u001b[0m\u001b[0mestimator\u001b[0m\u001b[1;33m,\u001b[0m \u001b[0mX_test\u001b[0m\u001b[1;33m,\u001b[0m \u001b[0my_test\u001b[0m\u001b[1;33m)\u001b[0m\u001b[1;33m\u001b[0m\u001b[1;33m\u001b[0m\u001b[0m\n\u001b[0m\u001b[0;32m    608\u001b[0m \u001b[1;33m\u001b[0m\u001b[0m\n\u001b[0;32m    609\u001b[0m     error_msg = (\"scoring must return a number, got %s (%s) \"\n",
      "\u001b[1;32mc:\\Users\\lione\\anaconda3\\lib\\site-packages\\sklearn\\metrics\\_scorer.py\u001b[0m in \u001b[0;36m__call__\u001b[1;34m(self, estimator, *args, **kwargs)\u001b[0m\n\u001b[0;32m     85\u001b[0m         \u001b[1;32mfor\u001b[0m \u001b[0mname\u001b[0m\u001b[1;33m,\u001b[0m \u001b[0mscorer\u001b[0m \u001b[1;32min\u001b[0m \u001b[0mself\u001b[0m\u001b[1;33m.\u001b[0m\u001b[0m_scorers\u001b[0m\u001b[1;33m.\u001b[0m\u001b[0mitems\u001b[0m\u001b[1;33m(\u001b[0m\u001b[1;33m)\u001b[0m\u001b[1;33m:\u001b[0m\u001b[1;33m\u001b[0m\u001b[1;33m\u001b[0m\u001b[0m\n\u001b[0;32m     86\u001b[0m             \u001b[1;32mif\u001b[0m \u001b[0misinstance\u001b[0m\u001b[1;33m(\u001b[0m\u001b[0mscorer\u001b[0m\u001b[1;33m,\u001b[0m \u001b[0m_BaseScorer\u001b[0m\u001b[1;33m)\u001b[0m\u001b[1;33m:\u001b[0m\u001b[1;33m\u001b[0m\u001b[1;33m\u001b[0m\u001b[0m\n\u001b[1;32m---> 87\u001b[1;33m                 score = scorer._score(cached_call, estimator,\n\u001b[0m\u001b[0;32m     88\u001b[0m                                       *args, **kwargs)\n\u001b[0;32m     89\u001b[0m             \u001b[1;32melse\u001b[0m\u001b[1;33m:\u001b[0m\u001b[1;33m\u001b[0m\u001b[1;33m\u001b[0m\u001b[0m\n",
      "\u001b[1;32mc:\\Users\\lione\\anaconda3\\lib\\site-packages\\sklearn\\metrics\\_scorer.py\u001b[0m in \u001b[0;36m_score\u001b[1;34m(self, method_caller, estimator, X, y_true, sample_weight)\u001b[0m\n\u001b[0;32m    210\u001b[0m                                                  **self._kwargs)\n\u001b[0;32m    211\u001b[0m         \u001b[1;32melse\u001b[0m\u001b[1;33m:\u001b[0m\u001b[1;33m\u001b[0m\u001b[1;33m\u001b[0m\u001b[0m\n\u001b[1;32m--> 212\u001b[1;33m             return self._sign * self._score_func(y_true, y_pred,\n\u001b[0m\u001b[0;32m    213\u001b[0m                                                  **self._kwargs)\n\u001b[0;32m    214\u001b[0m \u001b[1;33m\u001b[0m\u001b[0m\n",
      "\u001b[1;32mc:\\Users\\lione\\anaconda3\\lib\\site-packages\\sklearn\\utils\\validation.py\u001b[0m in \u001b[0;36minner_f\u001b[1;34m(*args, **kwargs)\u001b[0m\n\u001b[0;32m     71\u001b[0m                           FutureWarning)\n\u001b[0;32m     72\u001b[0m         \u001b[0mkwargs\u001b[0m\u001b[1;33m.\u001b[0m\u001b[0mupdate\u001b[0m\u001b[1;33m(\u001b[0m\u001b[1;33m{\u001b[0m\u001b[0mk\u001b[0m\u001b[1;33m:\u001b[0m \u001b[0marg\u001b[0m \u001b[1;32mfor\u001b[0m \u001b[0mk\u001b[0m\u001b[1;33m,\u001b[0m \u001b[0marg\u001b[0m \u001b[1;32min\u001b[0m \u001b[0mzip\u001b[0m\u001b[1;33m(\u001b[0m\u001b[0msig\u001b[0m\u001b[1;33m.\u001b[0m\u001b[0mparameters\u001b[0m\u001b[1;33m,\u001b[0m \u001b[0margs\u001b[0m\u001b[1;33m)\u001b[0m\u001b[1;33m}\u001b[0m\u001b[1;33m)\u001b[0m\u001b[1;33m\u001b[0m\u001b[1;33m\u001b[0m\u001b[0m\n\u001b[1;32m---> 73\u001b[1;33m         \u001b[1;32mreturn\u001b[0m \u001b[0mf\u001b[0m\u001b[1;33m(\u001b[0m\u001b[1;33m**\u001b[0m\u001b[0mkwargs\u001b[0m\u001b[1;33m)\u001b[0m\u001b[1;33m\u001b[0m\u001b[1;33m\u001b[0m\u001b[0m\n\u001b[0m\u001b[0;32m     74\u001b[0m     \u001b[1;32mreturn\u001b[0m \u001b[0minner_f\u001b[0m\u001b[1;33m\u001b[0m\u001b[1;33m\u001b[0m\u001b[0m\n\u001b[0;32m     75\u001b[0m \u001b[1;33m\u001b[0m\u001b[0m\n",
      "\u001b[1;32mc:\\Users\\lione\\anaconda3\\lib\\site-packages\\sklearn\\metrics\\_classification.py\u001b[0m in \u001b[0;36mrecall_score\u001b[1;34m(y_true, y_pred, labels, pos_label, average, sample_weight, zero_division)\u001b[0m\n\u001b[0;32m   1733\u001b[0m     \u001b[0;31m`\u001b[0m\u001b[0;31m`\u001b[0m\u001b[0mzero_division\u001b[0m\u001b[0;31m`\u001b[0m\u001b[0;31m`\u001b[0m\u001b[1;33m.\u001b[0m\u001b[1;33m\u001b[0m\u001b[1;33m\u001b[0m\u001b[0m\n\u001b[0;32m   1734\u001b[0m     \"\"\"\n\u001b[1;32m-> 1735\u001b[1;33m     _, r, _, _ = precision_recall_fscore_support(y_true, y_pred,\n\u001b[0m\u001b[0;32m   1736\u001b[0m                                                  \u001b[0mlabels\u001b[0m\u001b[1;33m=\u001b[0m\u001b[0mlabels\u001b[0m\u001b[1;33m,\u001b[0m\u001b[1;33m\u001b[0m\u001b[1;33m\u001b[0m\u001b[0m\n\u001b[0;32m   1737\u001b[0m                                                  \u001b[0mpos_label\u001b[0m\u001b[1;33m=\u001b[0m\u001b[0mpos_label\u001b[0m\u001b[1;33m,\u001b[0m\u001b[1;33m\u001b[0m\u001b[1;33m\u001b[0m\u001b[0m\n",
      "\u001b[1;32mc:\\Users\\lione\\anaconda3\\lib\\site-packages\\sklearn\\utils\\validation.py\u001b[0m in \u001b[0;36minner_f\u001b[1;34m(*args, **kwargs)\u001b[0m\n\u001b[0;32m     71\u001b[0m                           FutureWarning)\n\u001b[0;32m     72\u001b[0m         \u001b[0mkwargs\u001b[0m\u001b[1;33m.\u001b[0m\u001b[0mupdate\u001b[0m\u001b[1;33m(\u001b[0m\u001b[1;33m{\u001b[0m\u001b[0mk\u001b[0m\u001b[1;33m:\u001b[0m \u001b[0marg\u001b[0m \u001b[1;32mfor\u001b[0m \u001b[0mk\u001b[0m\u001b[1;33m,\u001b[0m \u001b[0marg\u001b[0m \u001b[1;32min\u001b[0m \u001b[0mzip\u001b[0m\u001b[1;33m(\u001b[0m\u001b[0msig\u001b[0m\u001b[1;33m.\u001b[0m\u001b[0mparameters\u001b[0m\u001b[1;33m,\u001b[0m \u001b[0margs\u001b[0m\u001b[1;33m)\u001b[0m\u001b[1;33m}\u001b[0m\u001b[1;33m)\u001b[0m\u001b[1;33m\u001b[0m\u001b[1;33m\u001b[0m\u001b[0m\n\u001b[1;32m---> 73\u001b[1;33m         \u001b[1;32mreturn\u001b[0m \u001b[0mf\u001b[0m\u001b[1;33m(\u001b[0m\u001b[1;33m**\u001b[0m\u001b[0mkwargs\u001b[0m\u001b[1;33m)\u001b[0m\u001b[1;33m\u001b[0m\u001b[1;33m\u001b[0m\u001b[0m\n\u001b[0m\u001b[0;32m     74\u001b[0m     \u001b[1;32mreturn\u001b[0m \u001b[0minner_f\u001b[0m\u001b[1;33m\u001b[0m\u001b[1;33m\u001b[0m\u001b[0m\n\u001b[0;32m     75\u001b[0m \u001b[1;33m\u001b[0m\u001b[0m\n",
      "\u001b[1;32mc:\\Users\\lione\\anaconda3\\lib\\site-packages\\sklearn\\metrics\\_classification.py\u001b[0m in \u001b[0;36mprecision_recall_fscore_support\u001b[1;34m(y_true, y_pred, beta, labels, pos_label, average, warn_for, sample_weight, zero_division)\u001b[0m\n\u001b[0;32m   1431\u001b[0m     \u001b[1;32mif\u001b[0m \u001b[0mbeta\u001b[0m \u001b[1;33m<\u001b[0m \u001b[1;36m0\u001b[0m\u001b[1;33m:\u001b[0m\u001b[1;33m\u001b[0m\u001b[1;33m\u001b[0m\u001b[0m\n\u001b[0;32m   1432\u001b[0m         \u001b[1;32mraise\u001b[0m \u001b[0mValueError\u001b[0m\u001b[1;33m(\u001b[0m\u001b[1;34m\"beta should be >=0 in the F-beta score\"\u001b[0m\u001b[1;33m)\u001b[0m\u001b[1;33m\u001b[0m\u001b[1;33m\u001b[0m\u001b[0m\n\u001b[1;32m-> 1433\u001b[1;33m     labels = _check_set_wise_labels(y_true, y_pred, average, labels,\n\u001b[0m\u001b[0;32m   1434\u001b[0m                                     pos_label)\n\u001b[0;32m   1435\u001b[0m \u001b[1;33m\u001b[0m\u001b[0m\n",
      "\u001b[1;32mc:\\Users\\lione\\anaconda3\\lib\\site-packages\\sklearn\\metrics\\_classification.py\u001b[0m in \u001b[0;36m_check_set_wise_labels\u001b[1;34m(y_true, y_pred, average, labels, pos_label)\u001b[0m\n\u001b[0;32m   1261\u001b[0m             \u001b[1;32mif\u001b[0m \u001b[0my_type\u001b[0m \u001b[1;33m==\u001b[0m \u001b[1;34m'multiclass'\u001b[0m\u001b[1;33m:\u001b[0m\u001b[1;33m\u001b[0m\u001b[1;33m\u001b[0m\u001b[0m\n\u001b[0;32m   1262\u001b[0m                 \u001b[0maverage_options\u001b[0m\u001b[1;33m.\u001b[0m\u001b[0mremove\u001b[0m\u001b[1;33m(\u001b[0m\u001b[1;34m'samples'\u001b[0m\u001b[1;33m)\u001b[0m\u001b[1;33m\u001b[0m\u001b[1;33m\u001b[0m\u001b[0m\n\u001b[1;32m-> 1263\u001b[1;33m             raise ValueError(\"Target is %s but average='binary'. Please \"\n\u001b[0m\u001b[0;32m   1264\u001b[0m                              \u001b[1;34m\"choose another average setting, one of %r.\"\u001b[0m\u001b[1;33m\u001b[0m\u001b[1;33m\u001b[0m\u001b[0m\n\u001b[0;32m   1265\u001b[0m                              % (y_type, average_options))\n",
      "\u001b[1;31mValueError\u001b[0m: Target is multiclass but average='binary'. Please choose another average setting, one of [None, 'micro', 'macro', 'weighted']."
     ]
    }
   ],
   "source": [
    "for depth in range(1,21):\n",
    "    # model\n",
    "    dtm_cv = DecisionTreeClassifier(criterion = 'entropy', max_depth = depth)\n",
    "    # 10-Fold cross validation on whole dataset\n",
    "    dtm_cv_results = cross_validate(dtm_cv, x_multi, y_multi,\n",
    "                            cv = KFold(n_splits = 10, shuffle = True, random_state = 31),\n",
    "                            scoring = ['accuracy', 'recall'], return_train_score = True)\n",
    "    # Scores in lists\n",
    "    dtm_cv_acc_list.append(dtm_cv_results['test_accuracy'].mean())\n",
    "    dtm_cv_tpr_list.append(dtm_cv_results['test_recall'].mean())\n",
    "    dtm_cv_acc_in_list.append(dtm_cv_results['train_accuracy'].mean())\n",
    "    dtm_cv_tpr_in_list.append(dtm_cv_results['train_recall'].mean())"
   ]
  },
  {
   "cell_type": "markdown",
   "id": "f4bb6fc8",
   "metadata": {},
   "source": [
    "#### 8.3 Random Forest Binary (rfb)"
   ]
  },
  {
   "cell_type": "code",
   "execution_count": 228,
   "id": "81be60e6",
   "metadata": {},
   "outputs": [],
   "source": [
    "from sklearn.ensemble import RandomForestClassifier\n",
    "\n",
    "rfb = RandomForestClassifier(max_depth=10, random_state=0)\n",
    "rfb.fit(x_binary_train, y_binary_train)\n",
    "\n",
    "from sklearn.metrics import roc_auc_score\n",
    "from sklearn.metrics import roc_curve, auc\n",
    "from sklearn.metrics import accuracy_score\n",
    "from sklearn.metrics import precision_score\n",
    "from sklearn.metrics import recall_score\n",
    "from sklearn import metrics"
   ]
  },
  {
   "cell_type": "code",
   "execution_count": 231,
   "id": "8494ae87",
   "metadata": {},
   "outputs": [
    {
     "name": "stdout",
     "output_type": "stream",
     "text": [
      "              precision    recall  f1-score   support\n",
      "\n",
      "           0       0.92      0.92      0.92        48\n",
      "           1       0.31      0.81      0.45        16\n",
      "           2       0.00      0.00      0.00        11\n",
      "           3       0.00      0.00      0.00        11\n",
      "           4       0.00      0.00      0.00         4\n",
      "\n",
      "    accuracy                           0.63        90\n",
      "   macro avg       0.25      0.35      0.27        90\n",
      "weighted avg       0.54      0.63      0.57        90\n",
      "\n"
     ]
    },
    {
     "name": "stderr",
     "output_type": "stream",
     "text": [
      "c:\\Users\\lione\\anaconda3\\lib\\site-packages\\sklearn\\metrics\\_classification.py:1221: UndefinedMetricWarning: Precision and F-score are ill-defined and being set to 0.0 in labels with no predicted samples. Use `zero_division` parameter to control this behavior.\n",
      "  _warn_prf(average, modifier, msg_start, len(result))\n"
     ]
    }
   ],
   "source": [
    "from sklearn.metrics import classification_report, accuracy_score\n",
    "\n",
    "rbf_report = rfb.predict(x_multi_test)\n",
    "print(classification_report(y_multi_test, rbf_report))"
   ]
  },
  {
   "cell_type": "code",
   "execution_count": 232,
   "id": "8a61f581",
   "metadata": {},
   "outputs": [
    {
     "data": {
      "image/png": "[encoded data removed]",
      "text/plain": [
       "<Figure size 360x360 with 2 Axes>"
      ]
     },
     "metadata": {
      "needs_background": "light"
     },
     "output_type": "display_data"
    }
   ],
   "source": [
    "fig, ax = plt.subplots(figsize=(5, 5))\n",
    "plot_confusion_matrix(rfb, x_multi_test, y_multi_test, display_labels= None, cmap=plt.cm.Blues, ax=ax)\n",
    "plt.show()"
   ]
  },
  {
   "attachments": {},
   "cell_type": "markdown",
   "id": "a39c9c66",
   "metadata": {},
   "source": [
    "Stimmt das überhaupt mit Test? müsste man nicht Predict machen?"
   ]
  },
  {
   "cell_type": "code",
   "execution_count": 280,
   "id": "c3782ed9",
   "metadata": {},
   "outputs": [],
   "source": [
    "model = 'rfb'\n",
    "max_debth = 3\n",
    "accuracy_in_sample = rfb.score(x_binary_train, y_binary_train)\n",
    "accuracy_out_sample = rfb.score(x_binary_test, y_binary_test)\n",
    "Precision = report['macro avg']['precision'] \n",
    "Recall = report['macro avg']['recall']\n",
    "F1 = report['macro avg']['f1-score']\n",
    "TP = 1\n",
    "TN = 1\n",
    "FP = 1\n",
    "FN = 1"
   ]
  },
  {
   "cell_type": "code",
   "execution_count": 281,
   "id": "b9b6264b",
   "metadata": {},
   "outputs": [
    {
     "data": {
      "text/html": [
       "<div>\n",
       "<style scoped>\n",
       "    .dataframe tbody tr th:only-of-type {\n",
       "        vertical-align: middle;\n",
       "    }\n",
       "\n",
       "    .dataframe tbody tr th {\n",
       "        vertical-align: top;\n",
       "    }\n",
       "\n",
       "    .dataframe thead th {\n",
       "        text-align: right;\n",
       "    }\n",
       "</style>\n",
       "<table border=\"1\" class=\"dataframe\">\n",
       "  <thead>\n",
       "    <tr style=\"text-align: right;\">\n",
       "      <th></th>\n",
       "      <th>Model</th>\n",
       "      <th>max_debth</th>\n",
       "      <th>accuracy_in_sample</th>\n",
       "      <th>accuracy_out_sample</th>\n",
       "      <th>Precision</th>\n",
       "      <th>Recall</th>\n",
       "      <th>F1</th>\n",
       "      <th>TP</th>\n",
       "      <th>TN</th>\n",
       "      <th>FP</th>\n",
       "      <th>FN</th>\n",
       "    </tr>\n",
       "  </thead>\n",
       "  <tbody>\n",
       "    <tr>\n",
       "      <th>0</th>\n",
       "      <td>rfb</td>\n",
       "      <td>3</td>\n",
       "      <td>1.0</td>\n",
       "      <td>0.8</td>\n",
       "      <td>0.739496</td>\n",
       "      <td>0.72619</td>\n",
       "      <td>0.726721</td>\n",
       "      <td>1</td>\n",
       "      <td>1</td>\n",
       "      <td>1</td>\n",
       "      <td>1</td>\n",
       "    </tr>\n",
       "  </tbody>\n",
       "</table>\n",
       "</div>"
      ],
      "text/plain": [
       "  Model  max_debth  accuracy_in_sample  accuracy_out_sample  Precision  \\\n",
       "0   rfb          3                 1.0                  0.8   0.739496   \n",
       "\n",
       "    Recall        F1  TP  TN  FP  FN  \n",
       "0  0.72619  0.726721   1   1   1   1  "
      ]
     },
     "execution_count": 281,
     "metadata": {},
     "output_type": "execute_result"
    }
   ],
   "source": [
    "#Append the Results from the Loop to the existing Dataframe:\n",
    "rfb_temp = [(model, max_debth, accuracy_in_sample, accuracy_out_sample, Precision, Recall, F1, TP, TN, FP, FN)]\n",
    "rfb_results = pd.DataFrame(rfb_temp)\n",
    "rfb_results.rename(columns= {0:'Model', 1:'max_debth', 2:'accuracy_in_sample', 3:'accuracy_out_sample', 4:'Precision', 5:'Recall', 6:'F1', 7:'TP', 8:'TN', 9:'FP', 10:'FN' }, inplace = True)\n",
    "rfb_results"
   ]
  },
  {
   "cell_type": "markdown",
   "id": "654b394b",
   "metadata": {},
   "source": [
    "#### 8.4 Random Forest Multiclass (rfm)"
   ]
  },
  {
   "cell_type": "code",
   "execution_count": 265,
   "id": "91fdd793",
   "metadata": {},
   "outputs": [],
   "source": [
    "# Import relevant packages\n",
    "from sklearn.ensemble import RandomForestClassifier\n",
    "rfm = RandomForestClassifier(max_depth=10, random_state=0)\n",
    "rfm.fit(x_multi_train, y_multi_train)\n",
    "\n",
    "from sklearn.metrics import roc_auc_score\n",
    "from sklearn.metrics import roc_curve, auc\n",
    "from sklearn.metrics import accuracy_score\n",
    "from sklearn.metrics import precision_score\n",
    "from sklearn.metrics import recall_score\n",
    "from sklearn import metrics"
   ]
  },
  {
   "cell_type": "code",
   "execution_count": 266,
   "id": "2d03a3af",
   "metadata": {},
   "outputs": [
    {
     "name": "stdout",
     "output_type": "stream",
     "text": [
      "              precision    recall  f1-score   support\n",
      "\n",
      "           0       0.75      0.94      0.83        48\n",
      "           1       0.17      0.12      0.14        16\n",
      "           2       0.14      0.09      0.11        11\n",
      "           3       0.10      0.09      0.10        11\n",
      "           4       0.00      0.00      0.00         4\n",
      "\n",
      "    accuracy                           0.54        90\n",
      "   macro avg       0.23      0.25      0.24        90\n",
      "weighted avg       0.46      0.54      0.50        90\n",
      "\n"
     ]
    }
   ],
   "source": [
    "from sklearn.metrics import classification_report, accuracy_score\n",
    "\n",
    "rfm_report = rfm.predict(x_multi_test)\n",
    "print(classification_report(y_multi_test, rfm_report))"
   ]
  },
  {
   "cell_type": "code",
   "execution_count": 267,
   "id": "ca2689b4",
   "metadata": {},
   "outputs": [
    {
     "data": {
      "image/png": "[encoded data removed]",
      "text/plain": [
       "<Figure size 360x360 with 2 Axes>"
      ]
     },
     "metadata": {
      "needs_background": "light"
     },
     "output_type": "display_data"
    }
   ],
   "source": [
    "fig, ax = plt.subplots(figsize=(5, 5))\n",
    "plot_confusion_matrix(rfm, x_multi_test, y_multi_test, display_labels= None, cmap=plt.cm.Blues, ax=ax)\n",
    "plt.show()"
   ]
  },
  {
   "cell_type": "code",
   "execution_count": 268,
   "id": "d6b5e799",
   "metadata": {},
   "outputs": [],
   "source": [
    "model = 'rfm'\n",
    "max_debth = 3\n",
    "accuracy_in_sample = rfm.score(x_multi_train, y_multi_train)\n",
    "accuracy_out_sample = rfm.score(x_multi_test, y_multi_test)\n",
    "Precision = report['macro avg']['precision'] \n",
    "Recall = report['macro avg']['recall']\n",
    "F1 = report['macro avg']['f1-score']\n",
    "TP = 1\n",
    "TN = 1\n",
    "FP = 1\n",
    "FN = 1"
   ]
  },
  {
   "cell_type": "code",
   "execution_count": 269,
   "id": "597bf403",
   "metadata": {},
   "outputs": [
    {
     "data": {
      "text/html": [
       "<div>\n",
       "<style scoped>\n",
       "    .dataframe tbody tr th:only-of-type {\n",
       "        vertical-align: middle;\n",
       "    }\n",
       "\n",
       "    .dataframe tbody tr th {\n",
       "        vertical-align: top;\n",
       "    }\n",
       "\n",
       "    .dataframe thead th {\n",
       "        text-align: right;\n",
       "    }\n",
       "</style>\n",
       "<table border=\"1\" class=\"dataframe\">\n",
       "  <thead>\n",
       "    <tr style=\"text-align: right;\">\n",
       "      <th></th>\n",
       "      <th>Model</th>\n",
       "      <th>max_debth</th>\n",
       "      <th>accuracy_in_sample</th>\n",
       "      <th>accuracy_out_sample</th>\n",
       "      <th>Precision</th>\n",
       "      <th>Recall</th>\n",
       "      <th>F1</th>\n",
       "      <th>TP</th>\n",
       "      <th>TN</th>\n",
       "      <th>FP</th>\n",
       "      <th>FN</th>\n",
       "    </tr>\n",
       "  </thead>\n",
       "  <tbody>\n",
       "    <tr>\n",
       "      <th>0</th>\n",
       "      <td>rfm</td>\n",
       "      <td>3</td>\n",
       "      <td>1.0</td>\n",
       "      <td>0.544444</td>\n",
       "      <td>0.739496</td>\n",
       "      <td>0.72619</td>\n",
       "      <td>0.726721</td>\n",
       "      <td>1</td>\n",
       "      <td>1</td>\n",
       "      <td>1</td>\n",
       "      <td>1</td>\n",
       "    </tr>\n",
       "  </tbody>\n",
       "</table>\n",
       "</div>"
      ],
      "text/plain": [
       "  Model  max_debth  accuracy_in_sample  accuracy_out_sample  Precision  \\\n",
       "0   rfm          3                 1.0             0.544444   0.739496   \n",
       "\n",
       "    Recall        F1  TP  TN  FP  FN  \n",
       "0  0.72619  0.726721   1   1   1   1  "
      ]
     },
     "execution_count": 269,
     "metadata": {},
     "output_type": "execute_result"
    }
   ],
   "source": [
    "#Append the Results from the Loop to the existing Dataframe:\n",
    "rfm_temp = [(model, max_debth, accuracy_in_sample, accuracy_out_sample, Precision, Recall, F1, TP, TN, FP, FN)]\n",
    "rfm_results = pd.DataFrame(rfm_temp)\n",
    "rfm_results.rename(columns={0:'Model', 1:'max_debth', 2:'accuracy_in_sample', 3:'accuracy_out_sample', 4:'Precision', 5:'Recall', 6:'F1', 7:'TP', 8:'TN', 9:'FP', 10:'FN' }, inplace = True)\n",
    "rfm_results"
   ]
  },
  {
   "cell_type": "markdown",
   "id": "abaef5da",
   "metadata": {},
   "source": [
    "### 9 All Results"
   ]
  },
  {
   "cell_type": "code",
   "execution_count": 290,
   "id": "9b6e9ed9",
   "metadata": {},
   "outputs": [
    {
     "data": {
      "text/html": [
       "<div>\n",
       "<style scoped>\n",
       "    .dataframe tbody tr th:only-of-type {\n",
       "        vertical-align: middle;\n",
       "    }\n",
       "\n",
       "    .dataframe tbody tr th {\n",
       "        vertical-align: top;\n",
       "    }\n",
       "\n",
       "    .dataframe thead th {\n",
       "        text-align: right;\n",
       "    }\n",
       "</style>\n",
       "<table border=\"1\" class=\"dataframe\">\n",
       "  <thead>\n",
       "    <tr style=\"text-align: right;\">\n",
       "      <th></th>\n",
       "      <th>Model</th>\n",
       "      <th>max_debth</th>\n",
       "      <th>accuracy_in_sample</th>\n",
       "      <th>accuracy_out_sample</th>\n",
       "      <th>Precision</th>\n",
       "      <th>Recall</th>\n",
       "      <th>F1</th>\n",
       "      <th>TP</th>\n",
       "      <th>TN</th>\n",
       "      <th>FP</th>\n",
       "      <th>FN</th>\n",
       "    </tr>\n",
       "  </thead>\n",
       "  <tbody>\n",
       "    <tr>\n",
       "      <th>0</th>\n",
       "      <td>rfm</td>\n",
       "      <td>3</td>\n",
       "      <td>1.0</td>\n",
       "      <td>0.544444</td>\n",
       "      <td>0.739496</td>\n",
       "      <td>0.72619</td>\n",
       "      <td>0.726721</td>\n",
       "      <td>1</td>\n",
       "      <td>1</td>\n",
       "      <td>1</td>\n",
       "      <td>1</td>\n",
       "    </tr>\n",
       "  </tbody>\n",
       "</table>\n",
       "</div>"
      ],
      "text/plain": [
       "  Model  max_debth  accuracy_in_sample  accuracy_out_sample  Precision  \\\n",
       "0   rfm          3                 1.0             0.544444   0.739496   \n",
       "\n",
       "    Recall        F1  TP  TN  FP  FN  \n",
       "0  0.72619  0.726721   1   1   1   1  "
      ]
     },
     "execution_count": 290,
     "metadata": {},
     "output_type": "execute_result"
    }
   ],
   "source": [
    "dtb_basic_results\n",
    "dtm_cv_results\n",
    "dtb_basic_results\n",
    "dtm_cv_results\n",
    "rfb_results\n",
    "rfm_results"
   ]
  },
  {
   "cell_type": "code",
   "execution_count": 291,
   "id": "ed5b333d",
   "metadata": {},
   "outputs": [
    {
     "data": {
      "text/html": [
       "<div>\n",
       "<style scoped>\n",
       "    .dataframe tbody tr th:only-of-type {\n",
       "        vertical-align: middle;\n",
       "    }\n",
       "\n",
       "    .dataframe tbody tr th {\n",
       "        vertical-align: top;\n",
       "    }\n",
       "\n",
       "    .dataframe thead th {\n",
       "        text-align: right;\n",
       "    }\n",
       "</style>\n",
       "<table border=\"1\" class=\"dataframe\">\n",
       "  <thead>\n",
       "    <tr style=\"text-align: right;\">\n",
       "      <th></th>\n",
       "      <th>Model</th>\n",
       "      <th>max_debth</th>\n",
       "      <th>accuracy_in_sample</th>\n",
       "      <th>accuracy_out_sample</th>\n",
       "      <th>Precision</th>\n",
       "      <th>Recall</th>\n",
       "      <th>F1</th>\n",
       "      <th>TP</th>\n",
       "      <th>TN</th>\n",
       "      <th>FP</th>\n",
       "      <th>FN</th>\n",
       "    </tr>\n",
       "  </thead>\n",
       "  <tbody>\n",
       "    <tr>\n",
       "      <th>0</th>\n",
       "      <td>dtb_basic</td>\n",
       "      <td>3</td>\n",
       "      <td>0.879227</td>\n",
       "      <td>0.733333</td>\n",
       "      <td>0.739496</td>\n",
       "      <td>0.72619</td>\n",
       "      <td>0.726721</td>\n",
       "      <td>1</td>\n",
       "      <td>1</td>\n",
       "      <td>1</td>\n",
       "      <td>1</td>\n",
       "    </tr>\n",
       "    <tr>\n",
       "      <th>0</th>\n",
       "      <td>dtm_cv</td>\n",
       "      <td>3</td>\n",
       "      <td>0.879227</td>\n",
       "      <td>0.733333</td>\n",
       "      <td>0.739496</td>\n",
       "      <td>0.72619</td>\n",
       "      <td>0.726721</td>\n",
       "      <td>1</td>\n",
       "      <td>1</td>\n",
       "      <td>1</td>\n",
       "      <td>1</td>\n",
       "    </tr>\n",
       "    <tr>\n",
       "      <th>0</th>\n",
       "      <td>dtb_basic</td>\n",
       "      <td>3</td>\n",
       "      <td>0.879227</td>\n",
       "      <td>0.733333</td>\n",
       "      <td>0.739496</td>\n",
       "      <td>0.72619</td>\n",
       "      <td>0.726721</td>\n",
       "      <td>1</td>\n",
       "      <td>1</td>\n",
       "      <td>1</td>\n",
       "      <td>1</td>\n",
       "    </tr>\n",
       "    <tr>\n",
       "      <th>0</th>\n",
       "      <td>dtm_cv</td>\n",
       "      <td>3</td>\n",
       "      <td>0.879227</td>\n",
       "      <td>0.733333</td>\n",
       "      <td>0.739496</td>\n",
       "      <td>0.72619</td>\n",
       "      <td>0.726721</td>\n",
       "      <td>1</td>\n",
       "      <td>1</td>\n",
       "      <td>1</td>\n",
       "      <td>1</td>\n",
       "    </tr>\n",
       "    <tr>\n",
       "      <th>0</th>\n",
       "      <td>rfb</td>\n",
       "      <td>3</td>\n",
       "      <td>1.000000</td>\n",
       "      <td>0.800000</td>\n",
       "      <td>0.739496</td>\n",
       "      <td>0.72619</td>\n",
       "      <td>0.726721</td>\n",
       "      <td>1</td>\n",
       "      <td>1</td>\n",
       "      <td>1</td>\n",
       "      <td>1</td>\n",
       "    </tr>\n",
       "    <tr>\n",
       "      <th>0</th>\n",
       "      <td>rfm</td>\n",
       "      <td>3</td>\n",
       "      <td>1.000000</td>\n",
       "      <td>0.544444</td>\n",
       "      <td>0.739496</td>\n",
       "      <td>0.72619</td>\n",
       "      <td>0.726721</td>\n",
       "      <td>1</td>\n",
       "      <td>1</td>\n",
       "      <td>1</td>\n",
       "      <td>1</td>\n",
       "    </tr>\n",
       "  </tbody>\n",
       "</table>\n",
       "</div>"
      ],
      "text/plain": [
       "       Model  max_debth  accuracy_in_sample  accuracy_out_sample  Precision  \\\n",
       "0  dtb_basic          3            0.879227             0.733333   0.739496   \n",
       "0     dtm_cv          3            0.879227             0.733333   0.739496   \n",
       "0  dtb_basic          3            0.879227             0.733333   0.739496   \n",
       "0     dtm_cv          3            0.879227             0.733333   0.739496   \n",
       "0        rfb          3            1.000000             0.800000   0.739496   \n",
       "0        rfm          3            1.000000             0.544444   0.739496   \n",
       "\n",
       "    Recall        F1  TP  TN  FP  FN  \n",
       "0  0.72619  0.726721   1   1   1   1  \n",
       "0  0.72619  0.726721   1   1   1   1  \n",
       "0  0.72619  0.726721   1   1   1   1  \n",
       "0  0.72619  0.726721   1   1   1   1  \n",
       "0  0.72619  0.726721   1   1   1   1  \n",
       "0  0.72619  0.726721   1   1   1   1  "
      ]
     },
     "execution_count": 291,
     "metadata": {},
     "output_type": "execute_result"
    }
   ],
   "source": [
    "Results = pd.DataFrame()\n",
    "Results = Results.append(dtb_basic_results)\n",
    "Results = Results.append(dtm_cv_results)\n",
    "Results = Results.append(dtb_basic_results)\n",
    "Results = Results.append(dtm_cv_results)\n",
    "Results = Results.append(rfb_results)\n",
    "Results = Results.append(rfm_results)\n",
    "#Results.rename(columns= {0:'Model', 1:'max_debth', 2:'accuracy_in_sample', 3:'accuracy_out_sample', 4:'Precision', 5:'Recall', 6:'F1', 7:'TP', 8:'TN', 9:'FP', 10:'FN' }, inplace = True)\n",
    "#Results.to_excel('Results.xlsx')\n",
    "Results"
   ]
  },
  {
   "cell_type": "markdown",
   "id": "85930965",
   "metadata": {},
   "source": [
    "### 10 Plots of best Model"
   ]
  },
  {
   "cell_type": "code",
   "execution_count": 50,
   "id": "7b9b6b05",
   "metadata": {},
   "outputs": [
    {
     "ename": "NameError",
     "evalue": "name 'rf' is not defined",
     "output_type": "error",
     "traceback": [
      "\u001b[1;31m---------------------------------------------------------------------------\u001b[0m",
      "\u001b[1;31mNameError\u001b[0m                                 Traceback (most recent call last)",
      "\u001b[1;32m<ipython-input-50-9676eb2a373b>\u001b[0m in \u001b[0;36m<module>\u001b[1;34m\u001b[0m\n\u001b[1;32m----> 1\u001b[1;33m \u001b[0mpredicted\u001b[0m \u001b[1;33m=\u001b[0m \u001b[0mrf\u001b[0m\u001b[1;33m.\u001b[0m\u001b[0mpredict\u001b[0m\u001b[1;33m(\u001b[0m\u001b[0mx_multi_test\u001b[0m\u001b[1;33m)\u001b[0m\u001b[1;33m\u001b[0m\u001b[1;33m\u001b[0m\u001b[0m\n\u001b[0m\u001b[0;32m      2\u001b[0m \u001b[0mpredicted_results\u001b[0m \u001b[1;33m=\u001b[0m \u001b[0mpd\u001b[0m\u001b[1;33m.\u001b[0m\u001b[0mDataFrame\u001b[0m\u001b[1;33m(\u001b[0m\u001b[0mpredicted\u001b[0m\u001b[1;33m)\u001b[0m\u001b[1;33m\u001b[0m\u001b[1;33m\u001b[0m\u001b[0m\n\u001b[0;32m      3\u001b[0m \u001b[1;33m\u001b[0m\u001b[0m\n\u001b[0;32m      4\u001b[0m \u001b[0mpredicted_results\u001b[0m\u001b[1;33m\u001b[0m\u001b[1;33m\u001b[0m\u001b[0m\n\u001b[0;32m      5\u001b[0m \u001b[0maccuracy_score\u001b[0m\u001b[1;33m(\u001b[0m\u001b[0my_multi_train\u001b[0m\u001b[1;33m,\u001b[0m \u001b[0mpredicted_results\u001b[0m\u001b[1;33m)\u001b[0m\u001b[1;33m\u001b[0m\u001b[1;33m\u001b[0m\u001b[0m\n",
      "\u001b[1;31mNameError\u001b[0m: name 'rf' is not defined"
     ]
    }
   ],
   "source": [
    "predicted = rf.predict(x_multi_test)\n",
    "predicted_results = pd.DataFrame(predicted)\n",
    "\n",
    "predicted_results\n",
    "accuracy_score(y_multi_train, predicted_results)\n",
    "\n",
    "from sklearn.tree import plot_tree\n",
    "plot_tree(dtb_basic, filled = True, rounded = True)"
   ]
  },
  {
   "cell_type": "code",
   "execution_count": 51,
   "id": "0015ed19",
   "metadata": {},
   "outputs": [
    {
     "ename": "NameError",
     "evalue": "name 'de_reg_basic' is not defined",
     "output_type": "error",
     "traceback": [
      "\u001b[1;31m---------------------------------------------------------------------------\u001b[0m",
      "\u001b[1;31mNameError\u001b[0m                                 Traceback (most recent call last)",
      "\u001b[1;32m<ipython-input-51-8f71913b38a7>\u001b[0m in \u001b[0;36m<module>\u001b[1;34m\u001b[0m\n\u001b[0;32m      1\u001b[0m \u001b[1;31m# Out-of-sample\u001b[0m\u001b[1;33m\u001b[0m\u001b[1;33m\u001b[0m\u001b[1;33m\u001b[0m\u001b[0m\n\u001b[1;32m----> 2\u001b[1;33m \u001b[0my_pred\u001b[0m \u001b[1;33m=\u001b[0m \u001b[0mde_reg_basic\u001b[0m\u001b[1;33m.\u001b[0m\u001b[0mpredict\u001b[0m\u001b[1;33m(\u001b[0m\u001b[0mx_multi_test\u001b[0m\u001b[1;33m)\u001b[0m\u001b[1;33m\u001b[0m\u001b[1;33m\u001b[0m\u001b[0m\n\u001b[0m\u001b[0;32m      3\u001b[0m \u001b[1;33m\u001b[0m\u001b[0m\n\u001b[0;32m      4\u001b[0m \u001b[1;31m# confusion_matrix\u001b[0m\u001b[1;33m\u001b[0m\u001b[1;33m\u001b[0m\u001b[1;33m\u001b[0m\u001b[0m\n\u001b[0;32m      5\u001b[0m \u001b[1;32mfrom\u001b[0m \u001b[0msklearn\u001b[0m\u001b[1;33m.\u001b[0m\u001b[0mmetrics\u001b[0m \u001b[1;32mimport\u001b[0m \u001b[0mconfusion_matrix\u001b[0m\u001b[1;33m\u001b[0m\u001b[1;33m\u001b[0m\u001b[0m\n",
      "\u001b[1;31mNameError\u001b[0m: name 'de_reg_basic' is not defined"
     ]
    }
   ],
   "source": [
    "# Out-of-sample \n",
    "y_pred = de_reg_basic.predict(x_multi_test)\n",
    "\n",
    "# confusion_matrix\n",
    "from sklearn.metrics import confusion_matrix\n",
    "\n",
    "# Out-of-Sample Confusion Matrix\n",
    "cm_credit = confusion_matrix(y_test, y_pred)\n",
    "cm_credit\n",
    "\n",
    "def plot_decision_boundary(clf, X, Y, cmap='Paired_r'):\n",
    "    h = 0.02\n",
    "    x_min, x_max = X[:,0].min() - 10*h, X[:,0].max() + 10*h\n",
    "    y_min, y_max = X[:,1].min() - 10*h, X[:,1].max() + 10*h\n",
    "    xx, yy = np.meshgrid(np.arange(x_min, x_max, h),\n",
    "                         np.arange(y_min, y_max, h))\n",
    "    Z = clf.predict(np.c_[xx.ravel(), yy.ravel()])\n",
    "    Z = Z.reshape(xx.shape)\n",
    "\n",
    "    plt.figure(figsize=(5,5))\n",
    "    plt.contourf(xx, yy, Z, cmap=cmap, alpha=0.25)\n",
    "    plt.contour(xx, yy, Z, colors='k', linewidths=0.7)\n",
    "    plt.scatter(X[:,0], X[:,1], c=Y, cmap=cmap, edgecolors='k');\n",
    "\n",
    "plot_decision_boundary(dtb_basic, X, y)\n",
    "\n",
    "from sklearn.metrics import plot_confusion_matrix\n",
    "disp = plot_confusion_matrix(dtb_basic, x_test, y_test,cmap=plt.cm.Blues)"
   ]
  },
  {
   "cell_type": "code",
   "execution_count": null,
   "id": "d5415124",
   "metadata": {},
   "outputs": [],
   "source": []
  },
  {
   "cell_type": "code",
   "execution_count": null,
   "id": "8595f9ee",
   "metadata": {},
   "outputs": [],
   "source": []
  },
  {
   "cell_type": "code",
   "execution_count": null,
   "id": "33d5d1ff",
   "metadata": {},
   "outputs": [],
   "source": []
  }
 ],
 "metadata": {
  "kernelspec": {
   "display_name": "Python 3.8.3 ('base')",
   "language": "python",
   "name": "python3"
  },
  "language_info": {
   "codemirror_mode": {
    "name": "ipython",
    "version": 3
   },
   "file_extension": ".py",
   "mimetype": "text/x-python",
   "name": "python",
   "nbconvert_exporter": "python",
   "pygments_lexer": "ipython3",
   "version": "3.8.3"
  },
  "vscode": {
   "interpreter": {
    "hash": "e520a469617dc4d8bf771f1a7d6422397314db060637112fffa727df7f704ab9"
   }
  }
 },
 "nbformat": 4,
 "nbformat_minor": 5
}
