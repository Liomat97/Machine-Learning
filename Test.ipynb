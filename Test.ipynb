{
 "cells": [
  {
   "cell_type": "markdown",
   "id": "b625c7fa",
   "metadata": {},
   "source": [
    "# Heart Desease II - Decision Tree vs Random Forest"
   ]
  },
  {
   "cell_type": "markdown",
   "id": "6c8c9804",
   "metadata": {},
   "source": [
    "by Raphael Nussbaumer, Laurin Mühlebach, Lionel Nyffeler"
   ]
  },
  {
   "cell_type": "markdown",
   "id": "4a685bf6",
   "metadata": {},
   "source": [
    "Inhaltsverzeichnis\n",
    "- **1 Import**\n",
    "    - 1.1 Basic Libraries\n",
    "    - 1.2 Importing the Dataset\n",
    "- **2 Dataset Description**\n",
    "- **3 Normalize the Dataset**\n",
    "- **4 Split the Dataset in Multiclass and Binary**\n",
    "    - 4.1 Multiclass\n",
    "    - 4.2 Binary\n",
    "- **5 Define X & Y**\n",
    "    - 5.1 Multiclass\n",
    "    - 5.2 Binary\n",
    "- **6 Analysis of the different classes**\n",
    "- **7 Split the Dataset into Train-Validation-Test**\n",
    "    - 7.1 Multiclass\n",
    "    - 7.2 Binary\n",
    "- **8 Implementing the Models**\n",
    "    - 8.1 Decision Tree Binary\n",
    "      - 8.1.1 Decision Tree Binary Basic\n",
    "      - 8.1.2 Decision Tree Binary Cross Validation\n",
    "    - 8.2 Decision Tree with Multiclass\n",
    "      - 8.2.1 Decision Tree Multiclass Basic\n",
    "      - 8.2.2 Decision Tree Multiclass Cross Validation\n",
    "    - 8.3 Random Forest Binary\n",
    "    - 8.4 Random Forest Multiclass\n",
    "- **9 All Results**\n",
    "- **10 Plots of best Model**"
   ]
  },
  {
   "cell_type": "markdown",
   "id": "c5c9ed7a",
   "metadata": {},
   "source": [
    "### 1 Import <div id=\"heading--1\"/>"
   ]
  },
  {
   "cell_type": "markdown",
   "id": "1cdc3a70",
   "metadata": {},
   "source": [
    "#### 1.1 Basic Libraries"
   ]
  },
  {
   "cell_type": "code",
   "execution_count": 1,
   "id": "14047bd7",
   "metadata": {},
   "outputs": [],
   "source": [
    "import pandas as pd\n",
    "import numpy as np \n",
    "import matplotlib.pyplot as plt \n",
    "import seaborn as sns\n",
    "\n",
    "# other imports will be made when needed later in the code"
   ]
  },
  {
   "cell_type": "markdown",
   "id": "cb8dfb39",
   "metadata": {},
   "source": [
    "#### 1.2 Importing the Dataset"
   ]
  },
  {
   "cell_type": "code",
   "execution_count": 2,
   "id": "49fa703a",
   "metadata": {},
   "outputs": [],
   "source": [
    "HD = pd.read_csv('HeartDisease.csv', sep=',')"
   ]
  },
  {
   "cell_type": "code",
   "execution_count": 3,
   "id": "2d9f027b",
   "metadata": {},
   "outputs": [
    {
     "data": {
      "text/html": [
       "<div>\n",
       "<style scoped>\n",
       "    .dataframe tbody tr th:only-of-type {\n",
       "        vertical-align: middle;\n",
       "    }\n",
       "\n",
       "    .dataframe tbody tr th {\n",
       "        vertical-align: top;\n",
       "    }\n",
       "\n",
       "    .dataframe thead th {\n",
       "        text-align: right;\n",
       "    }\n",
       "</style>\n",
       "<table border=\"1\" class=\"dataframe\">\n",
       "  <thead>\n",
       "    <tr style=\"text-align: right;\">\n",
       "      <th></th>\n",
       "      <th>age</th>\n",
       "      <th>sex</th>\n",
       "      <th>cp</th>\n",
       "      <th>trestbps</th>\n",
       "      <th>chol</th>\n",
       "      <th>fbs</th>\n",
       "      <th>restecg</th>\n",
       "      <th>thalach</th>\n",
       "      <th>exang</th>\n",
       "      <th>oldpeak</th>\n",
       "      <th>slope</th>\n",
       "      <th>ca</th>\n",
       "      <th>thal</th>\n",
       "      <th>class</th>\n",
       "    </tr>\n",
       "  </thead>\n",
       "  <tbody>\n",
       "    <tr>\n",
       "      <th>0</th>\n",
       "      <td>63.0</td>\n",
       "      <td>1.0</td>\n",
       "      <td>1.0</td>\n",
       "      <td>145.0</td>\n",
       "      <td>233.0</td>\n",
       "      <td>1.0</td>\n",
       "      <td>2.0</td>\n",
       "      <td>150.0</td>\n",
       "      <td>0.0</td>\n",
       "      <td>2.3</td>\n",
       "      <td>3.0</td>\n",
       "      <td>0.0</td>\n",
       "      <td>6.0</td>\n",
       "      <td>0</td>\n",
       "    </tr>\n",
       "    <tr>\n",
       "      <th>1</th>\n",
       "      <td>67.0</td>\n",
       "      <td>1.0</td>\n",
       "      <td>4.0</td>\n",
       "      <td>160.0</td>\n",
       "      <td>286.0</td>\n",
       "      <td>0.0</td>\n",
       "      <td>2.0</td>\n",
       "      <td>108.0</td>\n",
       "      <td>1.0</td>\n",
       "      <td>1.5</td>\n",
       "      <td>2.0</td>\n",
       "      <td>3.0</td>\n",
       "      <td>3.0</td>\n",
       "      <td>2</td>\n",
       "    </tr>\n",
       "    <tr>\n",
       "      <th>2</th>\n",
       "      <td>67.0</td>\n",
       "      <td>1.0</td>\n",
       "      <td>4.0</td>\n",
       "      <td>120.0</td>\n",
       "      <td>229.0</td>\n",
       "      <td>0.0</td>\n",
       "      <td>2.0</td>\n",
       "      <td>129.0</td>\n",
       "      <td>1.0</td>\n",
       "      <td>2.6</td>\n",
       "      <td>2.0</td>\n",
       "      <td>2.0</td>\n",
       "      <td>7.0</td>\n",
       "      <td>1</td>\n",
       "    </tr>\n",
       "    <tr>\n",
       "      <th>3</th>\n",
       "      <td>37.0</td>\n",
       "      <td>1.0</td>\n",
       "      <td>3.0</td>\n",
       "      <td>130.0</td>\n",
       "      <td>250.0</td>\n",
       "      <td>0.0</td>\n",
       "      <td>0.0</td>\n",
       "      <td>187.0</td>\n",
       "      <td>0.0</td>\n",
       "      <td>3.5</td>\n",
       "      <td>3.0</td>\n",
       "      <td>0.0</td>\n",
       "      <td>3.0</td>\n",
       "      <td>0</td>\n",
       "    </tr>\n",
       "    <tr>\n",
       "      <th>4</th>\n",
       "      <td>41.0</td>\n",
       "      <td>0.0</td>\n",
       "      <td>2.0</td>\n",
       "      <td>130.0</td>\n",
       "      <td>204.0</td>\n",
       "      <td>0.0</td>\n",
       "      <td>2.0</td>\n",
       "      <td>172.0</td>\n",
       "      <td>0.0</td>\n",
       "      <td>1.4</td>\n",
       "      <td>1.0</td>\n",
       "      <td>0.0</td>\n",
       "      <td>3.0</td>\n",
       "      <td>0</td>\n",
       "    </tr>\n",
       "  </tbody>\n",
       "</table>\n",
       "</div>"
      ],
      "text/plain": [
       "    age  sex   cp  trestbps   chol  fbs  restecg  thalach  exang  oldpeak  \\\n",
       "0  63.0  1.0  1.0     145.0  233.0  1.0      2.0    150.0    0.0      2.3   \n",
       "1  67.0  1.0  4.0     160.0  286.0  0.0      2.0    108.0    1.0      1.5   \n",
       "2  67.0  1.0  4.0     120.0  229.0  0.0      2.0    129.0    1.0      2.6   \n",
       "3  37.0  1.0  3.0     130.0  250.0  0.0      0.0    187.0    0.0      3.5   \n",
       "4  41.0  0.0  2.0     130.0  204.0  0.0      2.0    172.0    0.0      1.4   \n",
       "\n",
       "   slope   ca  thal  class  \n",
       "0    3.0  0.0   6.0      0  \n",
       "1    2.0  3.0   3.0      2  \n",
       "2    2.0  2.0   7.0      1  \n",
       "3    3.0  0.0   3.0      0  \n",
       "4    1.0  0.0   3.0      0  "
      ]
     },
     "execution_count": 3,
     "metadata": {},
     "output_type": "execute_result"
    }
   ],
   "source": [
    "HD.head(5)"
   ]
  },
  {
   "cell_type": "markdown",
   "id": "e6316ca3",
   "metadata": {},
   "source": [
    "### 2 Dataset Description"
   ]
  },
  {
   "cell_type": "code",
   "execution_count": 4,
   "id": "142b5103",
   "metadata": {},
   "outputs": [
    {
     "name": "stdout",
     "output_type": "stream",
     "text": [
      "<class 'pandas.core.frame.DataFrame'>\n",
      "RangeIndex: 297 entries, 0 to 296\n",
      "Data columns (total 14 columns):\n",
      " #   Column    Non-Null Count  Dtype  \n",
      "---  ------    --------------  -----  \n",
      " 0   age       297 non-null    float64\n",
      " 1   sex       297 non-null    float64\n",
      " 2   cp        297 non-null    float64\n",
      " 3   trestbps  297 non-null    float64\n",
      " 4   chol      297 non-null    float64\n",
      " 5   fbs       297 non-null    float64\n",
      " 6   restecg   297 non-null    float64\n",
      " 7   thalach   297 non-null    float64\n",
      " 8   exang     297 non-null    float64\n",
      " 9   oldpeak   297 non-null    float64\n",
      " 10  slope     297 non-null    float64\n",
      " 11  ca        297 non-null    float64\n",
      " 12  thal      297 non-null    float64\n",
      " 13  class     297 non-null    int64  \n",
      "dtypes: float64(13), int64(1)\n",
      "memory usage: 32.6 KB\n"
     ]
    }
   ],
   "source": [
    "HD.info()"
   ]
  },
  {
   "cell_type": "code",
   "execution_count": 5,
   "id": "db96e5e7",
   "metadata": {},
   "outputs": [
    {
     "name": "stdout",
     "output_type": "stream",
     "text": [
      "The shape of the Dataset is:  (297, 14)\n"
     ]
    }
   ],
   "source": [
    "print('The shape of the Dataset is: ', HD.shape)"
   ]
  },
  {
   "cell_type": "code",
   "execution_count": 6,
   "id": "106b825a",
   "metadata": {
    "scrolled": true
   },
   "outputs": [
    {
     "data": {
      "text/html": [
       "<div>\n",
       "<style scoped>\n",
       "    .dataframe tbody tr th:only-of-type {\n",
       "        vertical-align: middle;\n",
       "    }\n",
       "\n",
       "    .dataframe tbody tr th {\n",
       "        vertical-align: top;\n",
       "    }\n",
       "\n",
       "    .dataframe thead th {\n",
       "        text-align: right;\n",
       "    }\n",
       "</style>\n",
       "<table border=\"1\" class=\"dataframe\">\n",
       "  <thead>\n",
       "    <tr style=\"text-align: right;\">\n",
       "      <th></th>\n",
       "      <th>age</th>\n",
       "      <th>sex</th>\n",
       "      <th>cp</th>\n",
       "      <th>trestbps</th>\n",
       "      <th>chol</th>\n",
       "      <th>fbs</th>\n",
       "      <th>restecg</th>\n",
       "      <th>thalach</th>\n",
       "      <th>exang</th>\n",
       "      <th>oldpeak</th>\n",
       "      <th>slope</th>\n",
       "      <th>ca</th>\n",
       "      <th>thal</th>\n",
       "      <th>class</th>\n",
       "    </tr>\n",
       "  </thead>\n",
       "  <tbody>\n",
       "    <tr>\n",
       "      <th>count</th>\n",
       "      <td>297.000000</td>\n",
       "      <td>297.000000</td>\n",
       "      <td>297.000000</td>\n",
       "      <td>297.000000</td>\n",
       "      <td>297.000000</td>\n",
       "      <td>297.000000</td>\n",
       "      <td>297.000000</td>\n",
       "      <td>297.000000</td>\n",
       "      <td>297.000000</td>\n",
       "      <td>297.000000</td>\n",
       "      <td>297.000000</td>\n",
       "      <td>297.000000</td>\n",
       "      <td>297.000000</td>\n",
       "      <td>297.000000</td>\n",
       "    </tr>\n",
       "    <tr>\n",
       "      <th>mean</th>\n",
       "      <td>54.542088</td>\n",
       "      <td>0.676768</td>\n",
       "      <td>3.158249</td>\n",
       "      <td>131.693603</td>\n",
       "      <td>247.350168</td>\n",
       "      <td>0.144781</td>\n",
       "      <td>0.996633</td>\n",
       "      <td>149.599327</td>\n",
       "      <td>0.326599</td>\n",
       "      <td>1.055556</td>\n",
       "      <td>1.602694</td>\n",
       "      <td>0.676768</td>\n",
       "      <td>4.730640</td>\n",
       "      <td>0.946128</td>\n",
       "    </tr>\n",
       "    <tr>\n",
       "      <th>std</th>\n",
       "      <td>9.049736</td>\n",
       "      <td>0.468500</td>\n",
       "      <td>0.964859</td>\n",
       "      <td>17.762806</td>\n",
       "      <td>51.997583</td>\n",
       "      <td>0.352474</td>\n",
       "      <td>0.994914</td>\n",
       "      <td>22.941562</td>\n",
       "      <td>0.469761</td>\n",
       "      <td>1.166123</td>\n",
       "      <td>0.618187</td>\n",
       "      <td>0.938965</td>\n",
       "      <td>1.938629</td>\n",
       "      <td>1.234551</td>\n",
       "    </tr>\n",
       "    <tr>\n",
       "      <th>min</th>\n",
       "      <td>29.000000</td>\n",
       "      <td>0.000000</td>\n",
       "      <td>1.000000</td>\n",
       "      <td>94.000000</td>\n",
       "      <td>126.000000</td>\n",
       "      <td>0.000000</td>\n",
       "      <td>0.000000</td>\n",
       "      <td>71.000000</td>\n",
       "      <td>0.000000</td>\n",
       "      <td>0.000000</td>\n",
       "      <td>1.000000</td>\n",
       "      <td>0.000000</td>\n",
       "      <td>3.000000</td>\n",
       "      <td>0.000000</td>\n",
       "    </tr>\n",
       "    <tr>\n",
       "      <th>25%</th>\n",
       "      <td>48.000000</td>\n",
       "      <td>0.000000</td>\n",
       "      <td>3.000000</td>\n",
       "      <td>120.000000</td>\n",
       "      <td>211.000000</td>\n",
       "      <td>0.000000</td>\n",
       "      <td>0.000000</td>\n",
       "      <td>133.000000</td>\n",
       "      <td>0.000000</td>\n",
       "      <td>0.000000</td>\n",
       "      <td>1.000000</td>\n",
       "      <td>0.000000</td>\n",
       "      <td>3.000000</td>\n",
       "      <td>0.000000</td>\n",
       "    </tr>\n",
       "    <tr>\n",
       "      <th>50%</th>\n",
       "      <td>56.000000</td>\n",
       "      <td>1.000000</td>\n",
       "      <td>3.000000</td>\n",
       "      <td>130.000000</td>\n",
       "      <td>243.000000</td>\n",
       "      <td>0.000000</td>\n",
       "      <td>1.000000</td>\n",
       "      <td>153.000000</td>\n",
       "      <td>0.000000</td>\n",
       "      <td>0.800000</td>\n",
       "      <td>2.000000</td>\n",
       "      <td>0.000000</td>\n",
       "      <td>3.000000</td>\n",
       "      <td>0.000000</td>\n",
       "    </tr>\n",
       "    <tr>\n",
       "      <th>75%</th>\n",
       "      <td>61.000000</td>\n",
       "      <td>1.000000</td>\n",
       "      <td>4.000000</td>\n",
       "      <td>140.000000</td>\n",
       "      <td>276.000000</td>\n",
       "      <td>0.000000</td>\n",
       "      <td>2.000000</td>\n",
       "      <td>166.000000</td>\n",
       "      <td>1.000000</td>\n",
       "      <td>1.600000</td>\n",
       "      <td>2.000000</td>\n",
       "      <td>1.000000</td>\n",
       "      <td>7.000000</td>\n",
       "      <td>2.000000</td>\n",
       "    </tr>\n",
       "    <tr>\n",
       "      <th>max</th>\n",
       "      <td>77.000000</td>\n",
       "      <td>1.000000</td>\n",
       "      <td>4.000000</td>\n",
       "      <td>200.000000</td>\n",
       "      <td>564.000000</td>\n",
       "      <td>1.000000</td>\n",
       "      <td>2.000000</td>\n",
       "      <td>202.000000</td>\n",
       "      <td>1.000000</td>\n",
       "      <td>6.200000</td>\n",
       "      <td>3.000000</td>\n",
       "      <td>3.000000</td>\n",
       "      <td>7.000000</td>\n",
       "      <td>4.000000</td>\n",
       "    </tr>\n",
       "  </tbody>\n",
       "</table>\n",
       "</div>"
      ],
      "text/plain": [
       "              age         sex          cp    trestbps        chol         fbs  \\\n",
       "count  297.000000  297.000000  297.000000  297.000000  297.000000  297.000000   \n",
       "mean    54.542088    0.676768    3.158249  131.693603  247.350168    0.144781   \n",
       "std      9.049736    0.468500    0.964859   17.762806   51.997583    0.352474   \n",
       "min     29.000000    0.000000    1.000000   94.000000  126.000000    0.000000   \n",
       "25%     48.000000    0.000000    3.000000  120.000000  211.000000    0.000000   \n",
       "50%     56.000000    1.000000    3.000000  130.000000  243.000000    0.000000   \n",
       "75%     61.000000    1.000000    4.000000  140.000000  276.000000    0.000000   \n",
       "max     77.000000    1.000000    4.000000  200.000000  564.000000    1.000000   \n",
       "\n",
       "          restecg     thalach       exang     oldpeak       slope          ca  \\\n",
       "count  297.000000  297.000000  297.000000  297.000000  297.000000  297.000000   \n",
       "mean     0.996633  149.599327    0.326599    1.055556    1.602694    0.676768   \n",
       "std      0.994914   22.941562    0.469761    1.166123    0.618187    0.938965   \n",
       "min      0.000000   71.000000    0.000000    0.000000    1.000000    0.000000   \n",
       "25%      0.000000  133.000000    0.000000    0.000000    1.000000    0.000000   \n",
       "50%      1.000000  153.000000    0.000000    0.800000    2.000000    0.000000   \n",
       "75%      2.000000  166.000000    1.000000    1.600000    2.000000    1.000000   \n",
       "max      2.000000  202.000000    1.000000    6.200000    3.000000    3.000000   \n",
       "\n",
       "             thal       class  \n",
       "count  297.000000  297.000000  \n",
       "mean     4.730640    0.946128  \n",
       "std      1.938629    1.234551  \n",
       "min      3.000000    0.000000  \n",
       "25%      3.000000    0.000000  \n",
       "50%      3.000000    0.000000  \n",
       "75%      7.000000    2.000000  \n",
       "max      7.000000    4.000000  "
      ]
     },
     "execution_count": 6,
     "metadata": {},
     "output_type": "execute_result"
    }
   ],
   "source": [
    "HD.describe()"
   ]
  },
  {
   "cell_type": "code",
   "execution_count": 7,
   "id": "f3b99064",
   "metadata": {},
   "outputs": [
    {
     "data": {
      "text/plain": [
       "age         0\n",
       "sex         0\n",
       "cp          0\n",
       "trestbps    0\n",
       "chol        0\n",
       "fbs         0\n",
       "restecg     0\n",
       "thalach     0\n",
       "exang       0\n",
       "oldpeak     0\n",
       "slope       0\n",
       "ca          0\n",
       "thal        0\n",
       "class       0\n",
       "dtype: int64"
      ]
     },
     "execution_count": 7,
     "metadata": {},
     "output_type": "execute_result"
    }
   ],
   "source": [
    "#find out number of NULL Values:\n",
    "HD.isna().sum()"
   ]
  },
  {
   "cell_type": "code",
   "execution_count": 8,
   "id": "c826e4ba",
   "metadata": {},
   "outputs": [
    {
     "data": {
      "text/html": [
       "<style  type=\"text/css\" >\n",
       "    #T_84e15814_85f7_11ed_8b60_9cb6d0e93358row0_col0 {\n",
       "            background-color:  #800026;\n",
       "            color:  #f1f1f1;\n",
       "        }    #T_84e15814_85f7_11ed_8b60_9cb6d0e93358row0_col1 {\n",
       "            background-color:  #fff3ae;\n",
       "            color:  #000000;\n",
       "        }    #T_84e15814_85f7_11ed_8b60_9cb6d0e93358row0_col2 {\n",
       "            background-color:  #febf5a;\n",
       "            color:  #000000;\n",
       "        }    #T_84e15814_85f7_11ed_8b60_9cb6d0e93358row0_col3 {\n",
       "            background-color:  #febf5a;\n",
       "            color:  #000000;\n",
       "        }    #T_84e15814_85f7_11ed_8b60_9cb6d0e93358row0_col4 {\n",
       "            background-color:  #febf5a;\n",
       "            color:  #000000;\n",
       "        }    #T_84e15814_85f7_11ed_8b60_9cb6d0e93358row0_col5 {\n",
       "            background-color:  #ffe58f;\n",
       "            color:  #000000;\n",
       "        }    #T_84e15814_85f7_11ed_8b60_9cb6d0e93358row0_col6 {\n",
       "            background-color:  #fee084;\n",
       "            color:  #000000;\n",
       "        }    #T_84e15814_85f7_11ed_8b60_9cb6d0e93358row0_col7 {\n",
       "            background-color:  #fffdc6;\n",
       "            color:  #000000;\n",
       "        }    #T_84e15814_85f7_11ed_8b60_9cb6d0e93358row0_col8 {\n",
       "            background-color:  #febb56;\n",
       "            color:  #000000;\n",
       "        }    #T_84e15814_85f7_11ed_8b60_9cb6d0e93358row0_col9 {\n",
       "            background-color:  #fea948;\n",
       "            color:  #000000;\n",
       "        }    #T_84e15814_85f7_11ed_8b60_9cb6d0e93358row0_col10 {\n",
       "            background-color:  #feac49;\n",
       "            color:  #000000;\n",
       "        }    #T_84e15814_85f7_11ed_8b60_9cb6d0e93358row0_col11 {\n",
       "            background-color:  #fd8e3c;\n",
       "            color:  #000000;\n",
       "        }    #T_84e15814_85f7_11ed_8b60_9cb6d0e93358row0_col12 {\n",
       "            background-color:  #fec561;\n",
       "            color:  #000000;\n",
       "        }    #T_84e15814_85f7_11ed_8b60_9cb6d0e93358row0_col13 {\n",
       "            background-color:  #fd9c42;\n",
       "            color:  #000000;\n",
       "        }    #T_84e15814_85f7_11ed_8b60_9cb6d0e93358row1_col0 {\n",
       "            background-color:  #fede82;\n",
       "            color:  #000000;\n",
       "        }    #T_84e15814_85f7_11ed_8b60_9cb6d0e93358row1_col1 {\n",
       "            background-color:  #800026;\n",
       "            color:  #f1f1f1;\n",
       "        }    #T_84e15814_85f7_11ed_8b60_9cb6d0e93358row1_col2 {\n",
       "            background-color:  #fed673;\n",
       "            color:  #000000;\n",
       "        }    #T_84e15814_85f7_11ed_8b60_9cb6d0e93358row1_col3 {\n",
       "            background-color:  #ffffcc;\n",
       "            color:  #000000;\n",
       "        }    #T_84e15814_85f7_11ed_8b60_9cb6d0e93358row1_col4 {\n",
       "            background-color:  #ffffcc;\n",
       "            color:  #000000;\n",
       "        }    #T_84e15814_85f7_11ed_8b60_9cb6d0e93358row1_col5 {\n",
       "            background-color:  #fff2ac;\n",
       "            color:  #000000;\n",
       "        }    #T_84e15814_85f7_11ed_8b60_9cb6d0e93358row1_col6 {\n",
       "            background-color:  #fff1a9;\n",
       "            color:  #000000;\n",
       "        }    #T_84e15814_85f7_11ed_8b60_9cb6d0e93358row1_col7 {\n",
       "            background-color:  #fed976;\n",
       "            color:  #000000;\n",
       "        }    #T_84e15814_85f7_11ed_8b60_9cb6d0e93358row1_col8 {\n",
       "            background-color:  #feb04b;\n",
       "            color:  #000000;\n",
       "        }    #T_84e15814_85f7_11ed_8b60_9cb6d0e93358row1_col9 {\n",
       "            background-color:  #febe59;\n",
       "            color:  #000000;\n",
       "        }    #T_84e15814_85f7_11ed_8b60_9cb6d0e93358row1_col10 {\n",
       "            background-color:  #fec965;\n",
       "            color:  #000000;\n",
       "        }    #T_84e15814_85f7_11ed_8b60_9cb6d0e93358row1_col11 {\n",
       "            background-color:  #fecf6b;\n",
       "            color:  #000000;\n",
       "        }    #T_84e15814_85f7_11ed_8b60_9cb6d0e93358row1_col12 {\n",
       "            background-color:  #fd8439;\n",
       "            color:  #000000;\n",
       "        }    #T_84e15814_85f7_11ed_8b60_9cb6d0e93358row1_col13 {\n",
       "            background-color:  #fd9a42;\n",
       "            color:  #000000;\n",
       "        }    #T_84e15814_85f7_11ed_8b60_9cb6d0e93358row2_col0 {\n",
       "            background-color:  #feb651;\n",
       "            color:  #000000;\n",
       "        }    #T_84e15814_85f7_11ed_8b60_9cb6d0e93358row2_col1 {\n",
       "            background-color:  #ffe590;\n",
       "            color:  #000000;\n",
       "        }    #T_84e15814_85f7_11ed_8b60_9cb6d0e93358row2_col2 {\n",
       "            background-color:  #800026;\n",
       "            color:  #f1f1f1;\n",
       "        }    #T_84e15814_85f7_11ed_8b60_9cb6d0e93358row2_col3 {\n",
       "            background-color:  #fffbc2;\n",
       "            color:  #000000;\n",
       "        }    #T_84e15814_85f7_11ed_8b60_9cb6d0e93358row2_col4 {\n",
       "            background-color:  #fedd7f;\n",
       "            color:  #000000;\n",
       "        }    #T_84e15814_85f7_11ed_8b60_9cb6d0e93358row2_col5 {\n",
       "            background-color:  #ffffcc;\n",
       "            color:  #000000;\n",
       "        }    #T_84e15814_85f7_11ed_8b60_9cb6d0e93358row2_col6 {\n",
       "            background-color:  #ffeda0;\n",
       "            color:  #000000;\n",
       "        }    #T_84e15814_85f7_11ed_8b60_9cb6d0e93358row2_col7 {\n",
       "            background-color:  #fff7b9;\n",
       "            color:  #000000;\n",
       "        }    #T_84e15814_85f7_11ed_8b60_9cb6d0e93358row2_col8 {\n",
       "            background-color:  #fd7435;\n",
       "            color:  #000000;\n",
       "        }    #T_84e15814_85f7_11ed_8b60_9cb6d0e93358row2_col9 {\n",
       "            background-color:  #fea848;\n",
       "            color:  #000000;\n",
       "        }    #T_84e15814_85f7_11ed_8b60_9cb6d0e93358row2_col10 {\n",
       "            background-color:  #feae4a;\n",
       "            color:  #000000;\n",
       "        }    #T_84e15814_85f7_11ed_8b60_9cb6d0e93358row2_col11 {\n",
       "            background-color:  #feac49;\n",
       "            color:  #000000;\n",
       "        }    #T_84e15814_85f7_11ed_8b60_9cb6d0e93358row2_col12 {\n",
       "            background-color:  #fea245;\n",
       "            color:  #000000;\n",
       "        }    #T_84e15814_85f7_11ed_8b60_9cb6d0e93358row2_col13 {\n",
       "            background-color:  #fc6430;\n",
       "            color:  #000000;\n",
       "        }    #T_84e15814_85f7_11ed_8b60_9cb6d0e93358row3_col0 {\n",
       "            background-color:  #fd903d;\n",
       "            color:  #000000;\n",
       "        }    #T_84e15814_85f7_11ed_8b60_9cb6d0e93358row3_col1 {\n",
       "            background-color:  #ffefa5;\n",
       "            color:  #000000;\n",
       "        }    #T_84e15814_85f7_11ed_8b60_9cb6d0e93358row3_col2 {\n",
       "            background-color:  #fedd7f;\n",
       "            color:  #000000;\n",
       "        }    #T_84e15814_85f7_11ed_8b60_9cb6d0e93358row3_col3 {\n",
       "            background-color:  #800026;\n",
       "            color:  #f1f1f1;\n",
       "        }    #T_84e15814_85f7_11ed_8b60_9cb6d0e93358row3_col4 {\n",
       "            background-color:  #fed16e;\n",
       "            color:  #000000;\n",
       "        }    #T_84e15814_85f7_11ed_8b60_9cb6d0e93358row3_col5 {\n",
       "            background-color:  #fedd7f;\n",
       "            color:  #000000;\n",
       "        }    #T_84e15814_85f7_11ed_8b60_9cb6d0e93358row3_col6 {\n",
       "            background-color:  #fee085;\n",
       "            color:  #000000;\n",
       "        }    #T_84e15814_85f7_11ed_8b60_9cb6d0e93358row3_col7 {\n",
       "            background-color:  #fed673;\n",
       "            color:  #000000;\n",
       "        }    #T_84e15814_85f7_11ed_8b60_9cb6d0e93358row3_col8 {\n",
       "            background-color:  #fec15d;\n",
       "            color:  #000000;\n",
       "        }    #T_84e15814_85f7_11ed_8b60_9cb6d0e93358row3_col9 {\n",
       "            background-color:  #feab49;\n",
       "            color:  #000000;\n",
       "        }    #T_84e15814_85f7_11ed_8b60_9cb6d0e93358row3_col10 {\n",
       "            background-color:  #feb44e;\n",
       "            color:  #000000;\n",
       "        }    #T_84e15814_85f7_11ed_8b60_9cb6d0e93358row3_col11 {\n",
       "            background-color:  #fece6a;\n",
       "            color:  #000000;\n",
       "        }    #T_84e15814_85f7_11ed_8b60_9cb6d0e93358row3_col12 {\n",
       "            background-color:  #fec35e;\n",
       "            color:  #000000;\n",
       "        }    #T_84e15814_85f7_11ed_8b60_9cb6d0e93358row3_col13 {\n",
       "            background-color:  #fea848;\n",
       "            color:  #000000;\n",
       "        }    #T_84e15814_85f7_11ed_8b60_9cb6d0e93358row4_col0 {\n",
       "            background-color:  #fea245;\n",
       "            color:  #000000;\n",
       "        }    #T_84e15814_85f7_11ed_8b60_9cb6d0e93358row4_col1 {\n",
       "            background-color:  #ffffcc;\n",
       "            color:  #000000;\n",
       "        }    #T_84e15814_85f7_11ed_8b60_9cb6d0e93358row4_col2 {\n",
       "            background-color:  #fec863;\n",
       "            color:  #000000;\n",
       "        }    #T_84e15814_85f7_11ed_8b60_9cb6d0e93358row4_col3 {\n",
       "            background-color:  #ffe48c;\n",
       "            color:  #000000;\n",
       "        }    #T_84e15814_85f7_11ed_8b60_9cb6d0e93358row4_col4 {\n",
       "            background-color:  #800026;\n",
       "            color:  #f1f1f1;\n",
       "        }    #T_84e15814_85f7_11ed_8b60_9cb6d0e93358row4_col5 {\n",
       "            background-color:  #fff5b5;\n",
       "            color:  #000000;\n",
       "        }    #T_84e15814_85f7_11ed_8b60_9cb6d0e93358row4_col6 {\n",
       "            background-color:  #fede80;\n",
       "            color:  #000000;\n",
       "        }    #T_84e15814_85f7_11ed_8b60_9cb6d0e93358row4_col7 {\n",
       "            background-color:  #fecb67;\n",
       "            color:  #000000;\n",
       "        }    #T_84e15814_85f7_11ed_8b60_9cb6d0e93358row4_col8 {\n",
       "            background-color:  #fec35e;\n",
       "            color:  #000000;\n",
       "        }    #T_84e15814_85f7_11ed_8b60_9cb6d0e93358row4_col9 {\n",
       "            background-color:  #fece6a;\n",
       "            color:  #000000;\n",
       "        }    #T_84e15814_85f7_11ed_8b60_9cb6d0e93358row4_col10 {\n",
       "            background-color:  #fed16e;\n",
       "            color:  #000000;\n",
       "        }    #T_84e15814_85f7_11ed_8b60_9cb6d0e93358row4_col11 {\n",
       "            background-color:  #fec965;\n",
       "            color:  #000000;\n",
       "        }    #T_84e15814_85f7_11ed_8b60_9cb6d0e93358row4_col12 {\n",
       "            background-color:  #fedd7f;\n",
       "            color:  #000000;\n",
       "        }    #T_84e15814_85f7_11ed_8b60_9cb6d0e93358row4_col13 {\n",
       "            background-color:  #febd57;\n",
       "            color:  #000000;\n",
       "        }    #T_84e15814_85f7_11ed_8b60_9cb6d0e93358row5_col0 {\n",
       "            background-color:  #feb24c;\n",
       "            color:  #000000;\n",
       "        }    #T_84e15814_85f7_11ed_8b60_9cb6d0e93358row5_col1 {\n",
       "            background-color:  #fee288;\n",
       "            color:  #000000;\n",
       "        }    #T_84e15814_85f7_11ed_8b60_9cb6d0e93358row5_col2 {\n",
       "            background-color:  #fee084;\n",
       "            color:  #000000;\n",
       "        }    #T_84e15814_85f7_11ed_8b60_9cb6d0e93358row5_col3 {\n",
       "            background-color:  #fedc7c;\n",
       "            color:  #000000;\n",
       "        }    #T_84e15814_85f7_11ed_8b60_9cb6d0e93358row5_col4 {\n",
       "            background-color:  #ffe58f;\n",
       "            color:  #000000;\n",
       "        }    #T_84e15814_85f7_11ed_8b60_9cb6d0e93358row5_col5 {\n",
       "            background-color:  #800026;\n",
       "            color:  #f1f1f1;\n",
       "        }    #T_84e15814_85f7_11ed_8b60_9cb6d0e93358row5_col6 {\n",
       "            background-color:  #ffec9f;\n",
       "            color:  #000000;\n",
       "        }    #T_84e15814_85f7_11ed_8b60_9cb6d0e93358row5_col7 {\n",
       "            background-color:  #fecc68;\n",
       "            color:  #000000;\n",
       "        }    #T_84e15814_85f7_11ed_8b60_9cb6d0e93358row5_col8 {\n",
       "            background-color:  #fed16e;\n",
       "            color:  #000000;\n",
       "        }    #T_84e15814_85f7_11ed_8b60_9cb6d0e93358row5_col9 {\n",
       "            background-color:  #fed572;\n",
       "            color:  #000000;\n",
       "        }    #T_84e15814_85f7_11ed_8b60_9cb6d0e93358row5_col10 {\n",
       "            background-color:  #fec561;\n",
       "            color:  #000000;\n",
       "        }    #T_84e15814_85f7_11ed_8b60_9cb6d0e93358row5_col11 {\n",
       "            background-color:  #fec05b;\n",
       "            color:  #000000;\n",
       "        }    #T_84e15814_85f7_11ed_8b60_9cb6d0e93358row5_col12 {\n",
       "            background-color:  #fed572;\n",
       "            color:  #000000;\n",
       "        }    #T_84e15814_85f7_11ed_8b60_9cb6d0e93358row5_col13 {\n",
       "            background-color:  #fec05b;\n",
       "            color:  #000000;\n",
       "        }    #T_84e15814_85f7_11ed_8b60_9cb6d0e93358row6_col0 {\n",
       "            background-color:  #feae4a;\n",
       "            color:  #000000;\n",
       "        }    #T_84e15814_85f7_11ed_8b60_9cb6d0e93358row6_col1 {\n",
       "            background-color:  #fee289;\n",
       "            color:  #000000;\n",
       "        }    #T_84e15814_85f7_11ed_8b60_9cb6d0e93358row6_col2 {\n",
       "            background-color:  #fec965;\n",
       "            color:  #000000;\n",
       "        }    #T_84e15814_85f7_11ed_8b60_9cb6d0e93358row6_col3 {\n",
       "            background-color:  #fee187;\n",
       "            color:  #000000;\n",
       "        }    #T_84e15814_85f7_11ed_8b60_9cb6d0e93358row6_col4 {\n",
       "            background-color:  #fec965;\n",
       "            color:  #000000;\n",
       "        }    #T_84e15814_85f7_11ed_8b60_9cb6d0e93358row6_col5 {\n",
       "            background-color:  #ffeea3;\n",
       "            color:  #000000;\n",
       "        }    #T_84e15814_85f7_11ed_8b60_9cb6d0e93358row6_col6 {\n",
       "            background-color:  #800026;\n",
       "            color:  #f1f1f1;\n",
       "        }    #T_84e15814_85f7_11ed_8b60_9cb6d0e93358row6_col7 {\n",
       "            background-color:  #feda78;\n",
       "            color:  #000000;\n",
       "        }    #T_84e15814_85f7_11ed_8b60_9cb6d0e93358row6_col8 {\n",
       "            background-color:  #febe59;\n",
       "            color:  #000000;\n",
       "        }    #T_84e15814_85f7_11ed_8b60_9cb6d0e93358row6_col9 {\n",
       "            background-color:  #febd57;\n",
       "            color:  #000000;\n",
       "        }    #T_84e15814_85f7_11ed_8b60_9cb6d0e93358row6_col10 {\n",
       "            background-color:  #feb24c;\n",
       "            color:  #000000;\n",
       "        }    #T_84e15814_85f7_11ed_8b60_9cb6d0e93358row6_col11 {\n",
       "            background-color:  #fec561;\n",
       "            color:  #000000;\n",
       "        }    #T_84e15814_85f7_11ed_8b60_9cb6d0e93358row6_col12 {\n",
       "            background-color:  #fedd7e;\n",
       "            color:  #000000;\n",
       "        }    #T_84e15814_85f7_11ed_8b60_9cb6d0e93358row6_col13 {\n",
       "            background-color:  #fea446;\n",
       "            color:  #000000;\n",
       "        }    #T_84e15814_85f7_11ed_8b60_9cb6d0e93358row7_col0 {\n",
       "            background-color:  #ffffcc;\n",
       "            color:  #000000;\n",
       "        }    #T_84e15814_85f7_11ed_8b60_9cb6d0e93358row7_col1 {\n",
       "            background-color:  #ffefa4;\n",
       "            color:  #000000;\n",
       "        }    #T_84e15814_85f7_11ed_8b60_9cb6d0e93358row7_col2 {\n",
       "            background-color:  #ffffcc;\n",
       "            color:  #000000;\n",
       "        }    #T_84e15814_85f7_11ed_8b60_9cb6d0e93358row7_col3 {\n",
       "            background-color:  #fffdc6;\n",
       "            color:  #000000;\n",
       "        }    #T_84e15814_85f7_11ed_8b60_9cb6d0e93358row7_col4 {\n",
       "            background-color:  #ffe793;\n",
       "            color:  #000000;\n",
       "        }    #T_84e15814_85f7_11ed_8b60_9cb6d0e93358row7_col5 {\n",
       "            background-color:  #fff8bb;\n",
       "            color:  #000000;\n",
       "        }    #T_84e15814_85f7_11ed_8b60_9cb6d0e93358row7_col6 {\n",
       "            background-color:  #ffffcc;\n",
       "            color:  #000000;\n",
       "        }    #T_84e15814_85f7_11ed_8b60_9cb6d0e93358row7_col7 {\n",
       "            background-color:  #800026;\n",
       "            color:  #f1f1f1;\n",
       "        }    #T_84e15814_85f7_11ed_8b60_9cb6d0e93358row7_col8 {\n",
       "            background-color:  #ffffcc;\n",
       "            color:  #000000;\n",
       "        }    #T_84e15814_85f7_11ed_8b60_9cb6d0e93358row7_col9 {\n",
       "            background-color:  #ffffcc;\n",
       "            color:  #000000;\n",
       "        }    #T_84e15814_85f7_11ed_8b60_9cb6d0e93358row7_col10 {\n",
       "            background-color:  #ffffcc;\n",
       "            color:  #000000;\n",
       "        }    #T_84e15814_85f7_11ed_8b60_9cb6d0e93358row7_col11 {\n",
       "            background-color:  #ffffcc;\n",
       "            color:  #000000;\n",
       "        }    #T_84e15814_85f7_11ed_8b60_9cb6d0e93358row7_col12 {\n",
       "            background-color:  #ffffcc;\n",
       "            color:  #000000;\n",
       "        }    #T_84e15814_85f7_11ed_8b60_9cb6d0e93358row7_col13 {\n",
       "            background-color:  #ffffcc;\n",
       "            color:  #000000;\n",
       "        }    #T_84e15814_85f7_11ed_8b60_9cb6d0e93358row8_col0 {\n",
       "            background-color:  #feb953;\n",
       "            color:  #000000;\n",
       "        }    #T_84e15814_85f7_11ed_8b60_9cb6d0e93358row8_col1 {\n",
       "            background-color:  #fece6a;\n",
       "            color:  #000000;\n",
       "        }    #T_84e15814_85f7_11ed_8b60_9cb6d0e93358row8_col2 {\n",
       "            background-color:  #fd7a37;\n",
       "            color:  #000000;\n",
       "        }    #T_84e15814_85f7_11ed_8b60_9cb6d0e93358row8_col3 {\n",
       "            background-color:  #ffeda1;\n",
       "            color:  #000000;\n",
       "        }    #T_84e15814_85f7_11ed_8b60_9cb6d0e93358row8_col4 {\n",
       "            background-color:  #fede82;\n",
       "            color:  #000000;\n",
       "        }    #T_84e15814_85f7_11ed_8b60_9cb6d0e93358row8_col5 {\n",
       "            background-color:  #fff8ba;\n",
       "            color:  #000000;\n",
       "        }    #T_84e15814_85f7_11ed_8b60_9cb6d0e93358row8_col6 {\n",
       "            background-color:  #ffea9b;\n",
       "            color:  #000000;\n",
       "        }    #T_84e15814_85f7_11ed_8b60_9cb6d0e93358row8_col7 {\n",
       "            background-color:  #fffcc4;\n",
       "            color:  #000000;\n",
       "        }    #T_84e15814_85f7_11ed_8b60_9cb6d0e93358row8_col8 {\n",
       "            background-color:  #800026;\n",
       "            color:  #f1f1f1;\n",
       "        }    #T_84e15814_85f7_11ed_8b60_9cb6d0e93358row8_col9 {\n",
       "            background-color:  #fd9640;\n",
       "            color:  #000000;\n",
       "        }    #T_84e15814_85f7_11ed_8b60_9cb6d0e93358row8_col10 {\n",
       "            background-color:  #fd9941;\n",
       "            color:  #000000;\n",
       "        }    #T_84e15814_85f7_11ed_8b60_9cb6d0e93358row8_col11 {\n",
       "            background-color:  #fec05b;\n",
       "            color:  #000000;\n",
       "        }    #T_84e15814_85f7_11ed_8b60_9cb6d0e93358row8_col12 {\n",
       "            background-color:  #fd9640;\n",
       "            color:  #000000;\n",
       "        }    #T_84e15814_85f7_11ed_8b60_9cb6d0e93358row8_col13 {\n",
       "            background-color:  #fc6832;\n",
       "            color:  #000000;\n",
       "        }    #T_84e15814_85f7_11ed_8b60_9cb6d0e93358row9_col0 {\n",
       "            background-color:  #fea446;\n",
       "            color:  #000000;\n",
       "        }    #T_84e15814_85f7_11ed_8b60_9cb6d0e93358row9_col1 {\n",
       "            background-color:  #fed774;\n",
       "            color:  #000000;\n",
       "        }    #T_84e15814_85f7_11ed_8b60_9cb6d0e93358row9_col2 {\n",
       "            background-color:  #fea948;\n",
       "            color:  #000000;\n",
       "        }    #T_84e15814_85f7_11ed_8b60_9cb6d0e93358row9_col3 {\n",
       "            background-color:  #fedb7a;\n",
       "            color:  #000000;\n",
       "        }    #T_84e15814_85f7_11ed_8b60_9cb6d0e93358row9_col4 {\n",
       "            background-color:  #fee288;\n",
       "            color:  #000000;\n",
       "        }    #T_84e15814_85f7_11ed_8b60_9cb6d0e93358row9_col5 {\n",
       "            background-color:  #fff7b7;\n",
       "            color:  #000000;\n",
       "        }    #T_84e15814_85f7_11ed_8b60_9cb6d0e93358row9_col6 {\n",
       "            background-color:  #ffe590;\n",
       "            color:  #000000;\n",
       "        }    #T_84e15814_85f7_11ed_8b60_9cb6d0e93358row9_col7 {\n",
       "            background-color:  #fff8ba;\n",
       "            color:  #000000;\n",
       "        }    #T_84e15814_85f7_11ed_8b60_9cb6d0e93358row9_col8 {\n",
       "            background-color:  #fd913e;\n",
       "            color:  #000000;\n",
       "        }    #T_84e15814_85f7_11ed_8b60_9cb6d0e93358row9_col9 {\n",
       "            background-color:  #800026;\n",
       "            color:  #f1f1f1;\n",
       "        }    #T_84e15814_85f7_11ed_8b60_9cb6d0e93358row9_col10 {\n",
       "            background-color:  #ed3022;\n",
       "            color:  #f1f1f1;\n",
       "        }    #T_84e15814_85f7_11ed_8b60_9cb6d0e93358row9_col11 {\n",
       "            background-color:  #fd9e43;\n",
       "            color:  #000000;\n",
       "        }    #T_84e15814_85f7_11ed_8b60_9cb6d0e93358row9_col12 {\n",
       "            background-color:  #fd913e;\n",
       "            color:  #000000;\n",
       "        }    #T_84e15814_85f7_11ed_8b60_9cb6d0e93358row9_col13 {\n",
       "            background-color:  #f74327;\n",
       "            color:  #f1f1f1;\n",
       "        }    #T_84e15814_85f7_11ed_8b60_9cb6d0e93358row10_col0 {\n",
       "            background-color:  #feac49;\n",
       "            color:  #000000;\n",
       "        }    #T_84e15814_85f7_11ed_8b60_9cb6d0e93358row10_col1 {\n",
       "            background-color:  #fee289;\n",
       "            color:  #000000;\n",
       "        }    #T_84e15814_85f7_11ed_8b60_9cb6d0e93358row10_col2 {\n",
       "            background-color:  #feb54f;\n",
       "            color:  #000000;\n",
       "        }    #T_84e15814_85f7_11ed_8b60_9cb6d0e93358row10_col3 {\n",
       "            background-color:  #ffe58f;\n",
       "            color:  #000000;\n",
       "        }    #T_84e15814_85f7_11ed_8b60_9cb6d0e93358row10_col4 {\n",
       "            background-color:  #ffe895;\n",
       "            color:  #000000;\n",
       "        }    #T_84e15814_85f7_11ed_8b60_9cb6d0e93358row10_col5 {\n",
       "            background-color:  #fff1a9;\n",
       "            color:  #000000;\n",
       "        }    #T_84e15814_85f7_11ed_8b60_9cb6d0e93358row10_col6 {\n",
       "            background-color:  #fee289;\n",
       "            color:  #000000;\n",
       "        }    #T_84e15814_85f7_11ed_8b60_9cb6d0e93358row10_col7 {\n",
       "            background-color:  #fffcc5;\n",
       "            color:  #000000;\n",
       "        }    #T_84e15814_85f7_11ed_8b60_9cb6d0e93358row10_col8 {\n",
       "            background-color:  #fd9941;\n",
       "            color:  #000000;\n",
       "        }    #T_84e15814_85f7_11ed_8b60_9cb6d0e93358row10_col9 {\n",
       "            background-color:  #ef3323;\n",
       "            color:  #f1f1f1;\n",
       "        }    #T_84e15814_85f7_11ed_8b60_9cb6d0e93358row10_col10 {\n",
       "            background-color:  #800026;\n",
       "            color:  #f1f1f1;\n",
       "        }    #T_84e15814_85f7_11ed_8b60_9cb6d0e93358row10_col11 {\n",
       "            background-color:  #feca66;\n",
       "            color:  #000000;\n",
       "        }    #T_84e15814_85f7_11ed_8b60_9cb6d0e93358row10_col12 {\n",
       "            background-color:  #fea044;\n",
       "            color:  #000000;\n",
       "        }    #T_84e15814_85f7_11ed_8b60_9cb6d0e93358row10_col13 {\n",
       "            background-color:  #fd6e33;\n",
       "            color:  #000000;\n",
       "        }    #T_84e15814_85f7_11ed_8b60_9cb6d0e93358row11_col0 {\n",
       "            background-color:  #fd7836;\n",
       "            color:  #000000;\n",
       "        }    #T_84e15814_85f7_11ed_8b60_9cb6d0e93358row11_col1 {\n",
       "            background-color:  #fedb7a;\n",
       "            color:  #000000;\n",
       "        }    #T_84e15814_85f7_11ed_8b60_9cb6d0e93358row11_col2 {\n",
       "            background-color:  #fea245;\n",
       "            color:  #000000;\n",
       "        }    #T_84e15814_85f7_11ed_8b60_9cb6d0e93358row11_col3 {\n",
       "            background-color:  #ffe997;\n",
       "            color:  #000000;\n",
       "        }    #T_84e15814_85f7_11ed_8b60_9cb6d0e93358row11_col4 {\n",
       "            background-color:  #fed572;\n",
       "            color:  #000000;\n",
       "        }    #T_84e15814_85f7_11ed_8b60_9cb6d0e93358row11_col5 {\n",
       "            background-color:  #fee288;\n",
       "            color:  #000000;\n",
       "        }    #T_84e15814_85f7_11ed_8b60_9cb6d0e93358row11_col6 {\n",
       "            background-color:  #fee38b;\n",
       "            color:  #000000;\n",
       "        }    #T_84e15814_85f7_11ed_8b60_9cb6d0e93358row11_col7 {\n",
       "            background-color:  #fff0a7;\n",
       "            color:  #000000;\n",
       "        }    #T_84e15814_85f7_11ed_8b60_9cb6d0e93358row11_col8 {\n",
       "            background-color:  #feaf4b;\n",
       "            color:  #000000;\n",
       "        }    #T_84e15814_85f7_11ed_8b60_9cb6d0e93358row11_col9 {\n",
       "            background-color:  #fd953f;\n",
       "            color:  #000000;\n",
       "        }    #T_84e15814_85f7_11ed_8b60_9cb6d0e93358row11_col10 {\n",
       "            background-color:  #feb852;\n",
       "            color:  #000000;\n",
       "        }    #T_84e15814_85f7_11ed_8b60_9cb6d0e93358row11_col11 {\n",
       "            background-color:  #800026;\n",
       "            color:  #f1f1f1;\n",
       "        }    #T_84e15814_85f7_11ed_8b60_9cb6d0e93358row11_col12 {\n",
       "            background-color:  #fea647;\n",
       "            color:  #000000;\n",
       "        }    #T_84e15814_85f7_11ed_8b60_9cb6d0e93358row11_col13 {\n",
       "            background-color:  #f43e26;\n",
       "            color:  #f1f1f1;\n",
       "        }    #T_84e15814_85f7_11ed_8b60_9cb6d0e93358row12_col0 {\n",
       "            background-color:  #feb34d;\n",
       "            color:  #000000;\n",
       "        }    #T_84e15814_85f7_11ed_8b60_9cb6d0e93358row12_col1 {\n",
       "            background-color:  #fd913e;\n",
       "            color:  #000000;\n",
       "        }    #T_84e15814_85f7_11ed_8b60_9cb6d0e93358row12_col2 {\n",
       "            background-color:  #fd9a42;\n",
       "            color:  #000000;\n",
       "        }    #T_84e15814_85f7_11ed_8b60_9cb6d0e93358row12_col3 {\n",
       "            background-color:  #fee289;\n",
       "            color:  #000000;\n",
       "        }    #T_84e15814_85f7_11ed_8b60_9cb6d0e93358row12_col4 {\n",
       "            background-color:  #ffe590;\n",
       "            color:  #000000;\n",
       "        }    #T_84e15814_85f7_11ed_8b60_9cb6d0e93358row12_col5 {\n",
       "            background-color:  #ffefa4;\n",
       "            color:  #000000;\n",
       "        }    #T_84e15814_85f7_11ed_8b60_9cb6d0e93358row12_col6 {\n",
       "            background-color:  #fff3af;\n",
       "            color:  #000000;\n",
       "        }    #T_84e15814_85f7_11ed_8b60_9cb6d0e93358row12_col7 {\n",
       "            background-color:  #fff0a8;\n",
       "            color:  #000000;\n",
       "        }    #T_84e15814_85f7_11ed_8b60_9cb6d0e93358row12_col8 {\n",
       "            background-color:  #fd863a;\n",
       "            color:  #000000;\n",
       "        }    #T_84e15814_85f7_11ed_8b60_9cb6d0e93358row12_col9 {\n",
       "            background-color:  #fd863a;\n",
       "            color:  #000000;\n",
       "        }    #T_84e15814_85f7_11ed_8b60_9cb6d0e93358row12_col10 {\n",
       "            background-color:  #fd923e;\n",
       "            color:  #000000;\n",
       "        }    #T_84e15814_85f7_11ed_8b60_9cb6d0e93358row12_col11 {\n",
       "            background-color:  #fea747;\n",
       "            color:  #000000;\n",
       "        }    #T_84e15814_85f7_11ed_8b60_9cb6d0e93358row12_col12 {\n",
       "            background-color:  #800026;\n",
       "            color:  #f1f1f1;\n",
       "        }    #T_84e15814_85f7_11ed_8b60_9cb6d0e93358row12_col13 {\n",
       "            background-color:  #f54026;\n",
       "            color:  #f1f1f1;\n",
       "        }    #T_84e15814_85f7_11ed_8b60_9cb6d0e93358row13_col0 {\n",
       "            background-color:  #fd9e43;\n",
       "            color:  #000000;\n",
       "        }    #T_84e15814_85f7_11ed_8b60_9cb6d0e93358row13_col1 {\n",
       "            background-color:  #feb953;\n",
       "            color:  #000000;\n",
       "        }    #T_84e15814_85f7_11ed_8b60_9cb6d0e93358row13_col2 {\n",
       "            background-color:  #fd7034;\n",
       "            color:  #000000;\n",
       "        }    #T_84e15814_85f7_11ed_8b60_9cb6d0e93358row13_col3 {\n",
       "            background-color:  #fedf83;\n",
       "            color:  #000000;\n",
       "        }    #T_84e15814_85f7_11ed_8b60_9cb6d0e93358row13_col4 {\n",
       "            background-color:  #fede80;\n",
       "            color:  #000000;\n",
       "        }    #T_84e15814_85f7_11ed_8b60_9cb6d0e93358row13_col5 {\n",
       "            background-color:  #fff1a9;\n",
       "            color:  #000000;\n",
       "        }    #T_84e15814_85f7_11ed_8b60_9cb6d0e93358row13_col6 {\n",
       "            background-color:  #fedb7a;\n",
       "            color:  #000000;\n",
       "        }    #T_84e15814_85f7_11ed_8b60_9cb6d0e93358row13_col7 {\n",
       "            background-color:  #ffffcc;\n",
       "            color:  #000000;\n",
       "        }    #T_84e15814_85f7_11ed_8b60_9cb6d0e93358row13_col8 {\n",
       "            background-color:  #fd6e33;\n",
       "            color:  #000000;\n",
       "        }    #T_84e15814_85f7_11ed_8b60_9cb6d0e93358row13_col9 {\n",
       "            background-color:  #fb4b29;\n",
       "            color:  #000000;\n",
       "        }    #T_84e15814_85f7_11ed_8b60_9cb6d0e93358row13_col10 {\n",
       "            background-color:  #fd7435;\n",
       "            color:  #000000;\n",
       "        }    #T_84e15814_85f7_11ed_8b60_9cb6d0e93358row13_col11 {\n",
       "            background-color:  #fc4f2a;\n",
       "            color:  #000000;\n",
       "        }    #T_84e15814_85f7_11ed_8b60_9cb6d0e93358row13_col12 {\n",
       "            background-color:  #fc512b;\n",
       "            color:  #000000;\n",
       "        }    #T_84e15814_85f7_11ed_8b60_9cb6d0e93358row13_col13 {\n",
       "            background-color:  #800026;\n",
       "            color:  #f1f1f1;\n",
       "        }</style><table id=\"T_84e15814_85f7_11ed_8b60_9cb6d0e93358\" ><thead>    <tr>        <th class=\"blank level0\" ></th>        <th class=\"col_heading level0 col0\" >age</th>        <th class=\"col_heading level0 col1\" >sex</th>        <th class=\"col_heading level0 col2\" >cp</th>        <th class=\"col_heading level0 col3\" >trestbps</th>        <th class=\"col_heading level0 col4\" >chol</th>        <th class=\"col_heading level0 col5\" >fbs</th>        <th class=\"col_heading level0 col6\" >restecg</th>        <th class=\"col_heading level0 col7\" >thalach</th>        <th class=\"col_heading level0 col8\" >exang</th>        <th class=\"col_heading level0 col9\" >oldpeak</th>        <th class=\"col_heading level0 col10\" >slope</th>        <th class=\"col_heading level0 col11\" >ca</th>        <th class=\"col_heading level0 col12\" >thal</th>        <th class=\"col_heading level0 col13\" >class</th>    </tr></thead><tbody>\n",
       "                <tr>\n",
       "                        <th id=\"T_84e15814_85f7_11ed_8b60_9cb6d0e93358level0_row0\" class=\"row_heading level0 row0\" >age</th>\n",
       "                        <td id=\"T_84e15814_85f7_11ed_8b60_9cb6d0e93358row0_col0\" class=\"data row0 col0\" >1.000000</td>\n",
       "                        <td id=\"T_84e15814_85f7_11ed_8b60_9cb6d0e93358row0_col1\" class=\"data row0 col1\" >-0.092399</td>\n",
       "                        <td id=\"T_84e15814_85f7_11ed_8b60_9cb6d0e93358row0_col2\" class=\"data row0 col2\" >0.110471</td>\n",
       "                        <td id=\"T_84e15814_85f7_11ed_8b60_9cb6d0e93358row0_col3\" class=\"data row0 col3\" >0.290476</td>\n",
       "                        <td id=\"T_84e15814_85f7_11ed_8b60_9cb6d0e93358row0_col4\" class=\"data row0 col4\" >0.202644</td>\n",
       "                        <td id=\"T_84e15814_85f7_11ed_8b60_9cb6d0e93358row0_col5\" class=\"data row0 col5\" >0.132062</td>\n",
       "                        <td id=\"T_84e15814_85f7_11ed_8b60_9cb6d0e93358row0_col6\" class=\"data row0 col6\" >0.149917</td>\n",
       "                        <td id=\"T_84e15814_85f7_11ed_8b60_9cb6d0e93358row0_col7\" class=\"data row0 col7\" >-0.394563</td>\n",
       "                        <td id=\"T_84e15814_85f7_11ed_8b60_9cb6d0e93358row0_col8\" class=\"data row0 col8\" >0.096489</td>\n",
       "                        <td id=\"T_84e15814_85f7_11ed_8b60_9cb6d0e93358row0_col9\" class=\"data row0 col9\" >0.197123</td>\n",
       "                        <td id=\"T_84e15814_85f7_11ed_8b60_9cb6d0e93358row0_col10\" class=\"data row0 col10\" >0.159405</td>\n",
       "                        <td id=\"T_84e15814_85f7_11ed_8b60_9cb6d0e93358row0_col11\" class=\"data row0 col11\" >0.362210</td>\n",
       "                        <td id=\"T_84e15814_85f7_11ed_8b60_9cb6d0e93358row0_col12\" class=\"data row0 col12\" >0.126586</td>\n",
       "                        <td id=\"T_84e15814_85f7_11ed_8b60_9cb6d0e93358row0_col13\" class=\"data row0 col13\" >0.222156</td>\n",
       "            </tr>\n",
       "            <tr>\n",
       "                        <th id=\"T_84e15814_85f7_11ed_8b60_9cb6d0e93358level0_row1\" class=\"row_heading level0 row1\" >sex</th>\n",
       "                        <td id=\"T_84e15814_85f7_11ed_8b60_9cb6d0e93358row1_col0\" class=\"data row1 col0\" >-0.092399</td>\n",
       "                        <td id=\"T_84e15814_85f7_11ed_8b60_9cb6d0e93358row1_col1\" class=\"data row1 col1\" >1.000000</td>\n",
       "                        <td id=\"T_84e15814_85f7_11ed_8b60_9cb6d0e93358row1_col2\" class=\"data row1 col2\" >0.008908</td>\n",
       "                        <td id=\"T_84e15814_85f7_11ed_8b60_9cb6d0e93358row1_col3\" class=\"data row1 col3\" >-0.066340</td>\n",
       "                        <td id=\"T_84e15814_85f7_11ed_8b60_9cb6d0e93358row1_col4\" class=\"data row1 col4\" >-0.198089</td>\n",
       "                        <td id=\"T_84e15814_85f7_11ed_8b60_9cb6d0e93358row1_col5\" class=\"data row1 col5\" >0.038850</td>\n",
       "                        <td id=\"T_84e15814_85f7_11ed_8b60_9cb6d0e93358row1_col6\" class=\"data row1 col6\" >0.033897</td>\n",
       "                        <td id=\"T_84e15814_85f7_11ed_8b60_9cb6d0e93358row1_col7\" class=\"data row1 col7\" >-0.060496</td>\n",
       "                        <td id=\"T_84e15814_85f7_11ed_8b60_9cb6d0e93358row1_col8\" class=\"data row1 col8\" >0.143581</td>\n",
       "                        <td id=\"T_84e15814_85f7_11ed_8b60_9cb6d0e93358row1_col9\" class=\"data row1 col9\" >0.106567</td>\n",
       "                        <td id=\"T_84e15814_85f7_11ed_8b60_9cb6d0e93358row1_col10\" class=\"data row1 col10\" >0.033345</td>\n",
       "                        <td id=\"T_84e15814_85f7_11ed_8b60_9cb6d0e93358row1_col11\" class=\"data row1 col11\" >0.091925</td>\n",
       "                        <td id=\"T_84e15814_85f7_11ed_8b60_9cb6d0e93358row1_col12\" class=\"data row1 col12\" >0.383652</td>\n",
       "                        <td id=\"T_84e15814_85f7_11ed_8b60_9cb6d0e93358row1_col13\" class=\"data row1 col13\" >0.226797</td>\n",
       "            </tr>\n",
       "            <tr>\n",
       "                        <th id=\"T_84e15814_85f7_11ed_8b60_9cb6d0e93358level0_row2\" class=\"row_heading level0 row2\" >cp</th>\n",
       "                        <td id=\"T_84e15814_85f7_11ed_8b60_9cb6d0e93358row2_col0\" class=\"data row2 col0\" >0.110471</td>\n",
       "                        <td id=\"T_84e15814_85f7_11ed_8b60_9cb6d0e93358row2_col1\" class=\"data row2 col1\" >0.008908</td>\n",
       "                        <td id=\"T_84e15814_85f7_11ed_8b60_9cb6d0e93358row2_col2\" class=\"data row2 col2\" >1.000000</td>\n",
       "                        <td id=\"T_84e15814_85f7_11ed_8b60_9cb6d0e93358row2_col3\" class=\"data row2 col3\" >-0.036980</td>\n",
       "                        <td id=\"T_84e15814_85f7_11ed_8b60_9cb6d0e93358row2_col4\" class=\"data row2 col4\" >0.072088</td>\n",
       "                        <td id=\"T_84e15814_85f7_11ed_8b60_9cb6d0e93358row2_col5\" class=\"data row2 col5\" >-0.057663</td>\n",
       "                        <td id=\"T_84e15814_85f7_11ed_8b60_9cb6d0e93358row2_col6\" class=\"data row2 col6\" >0.063905</td>\n",
       "                        <td id=\"T_84e15814_85f7_11ed_8b60_9cb6d0e93358row2_col7\" class=\"data row2 col7\" >-0.339308</td>\n",
       "                        <td id=\"T_84e15814_85f7_11ed_8b60_9cb6d0e93358row2_col8\" class=\"data row2 col8\" >0.377525</td>\n",
       "                        <td id=\"T_84e15814_85f7_11ed_8b60_9cb6d0e93358row2_col9\" class=\"data row2 col9\" >0.203244</td>\n",
       "                        <td id=\"T_84e15814_85f7_11ed_8b60_9cb6d0e93358row2_col10\" class=\"data row2 col10\" >0.151079</td>\n",
       "                        <td id=\"T_84e15814_85f7_11ed_8b60_9cb6d0e93358row2_col11\" class=\"data row2 col11\" >0.235644</td>\n",
       "                        <td id=\"T_84e15814_85f7_11ed_8b60_9cb6d0e93358row2_col12\" class=\"data row2 col12\" >0.268500</td>\n",
       "                        <td id=\"T_84e15814_85f7_11ed_8b60_9cb6d0e93358row2_col13\" class=\"data row2 col13\" >0.404248</td>\n",
       "            </tr>\n",
       "            <tr>\n",
       "                        <th id=\"T_84e15814_85f7_11ed_8b60_9cb6d0e93358level0_row3\" class=\"row_heading level0 row3\" >trestbps</th>\n",
       "                        <td id=\"T_84e15814_85f7_11ed_8b60_9cb6d0e93358row3_col0\" class=\"data row3 col0\" >0.290476</td>\n",
       "                        <td id=\"T_84e15814_85f7_11ed_8b60_9cb6d0e93358row3_col1\" class=\"data row3 col1\" >-0.066340</td>\n",
       "                        <td id=\"T_84e15814_85f7_11ed_8b60_9cb6d0e93358row3_col2\" class=\"data row3 col2\" >-0.036980</td>\n",
       "                        <td id=\"T_84e15814_85f7_11ed_8b60_9cb6d0e93358row3_col3\" class=\"data row3 col3\" >1.000000</td>\n",
       "                        <td id=\"T_84e15814_85f7_11ed_8b60_9cb6d0e93358row3_col4\" class=\"data row3 col4\" >0.131536</td>\n",
       "                        <td id=\"T_84e15814_85f7_11ed_8b60_9cb6d0e93358row3_col5\" class=\"data row3 col5\" >0.180860</td>\n",
       "                        <td id=\"T_84e15814_85f7_11ed_8b60_9cb6d0e93358row3_col6\" class=\"data row3 col6\" >0.149242</td>\n",
       "                        <td id=\"T_84e15814_85f7_11ed_8b60_9cb6d0e93358row3_col7\" class=\"data row3 col7\" >-0.049108</td>\n",
       "                        <td id=\"T_84e15814_85f7_11ed_8b60_9cb6d0e93358row3_col8\" class=\"data row3 col8\" >0.066691</td>\n",
       "                        <td id=\"T_84e15814_85f7_11ed_8b60_9cb6d0e93358row3_col9\" class=\"data row3 col9\" >0.191243</td>\n",
       "                        <td id=\"T_84e15814_85f7_11ed_8b60_9cb6d0e93358row3_col10\" class=\"data row3 col10\" >0.121172</td>\n",
       "                        <td id=\"T_84e15814_85f7_11ed_8b60_9cb6d0e93358row3_col11\" class=\"data row3 col11\" >0.097954</td>\n",
       "                        <td id=\"T_84e15814_85f7_11ed_8b60_9cb6d0e93358row3_col12\" class=\"data row3 col12\" >0.138183</td>\n",
       "                        <td id=\"T_84e15814_85f7_11ed_8b60_9cb6d0e93358row3_col13\" class=\"data row3 col13\" >0.159620</td>\n",
       "            </tr>\n",
       "            <tr>\n",
       "                        <th id=\"T_84e15814_85f7_11ed_8b60_9cb6d0e93358level0_row4\" class=\"row_heading level0 row4\" >chol</th>\n",
       "                        <td id=\"T_84e15814_85f7_11ed_8b60_9cb6d0e93358row4_col0\" class=\"data row4 col0\" >0.202644</td>\n",
       "                        <td id=\"T_84e15814_85f7_11ed_8b60_9cb6d0e93358row4_col1\" class=\"data row4 col1\" >-0.198089</td>\n",
       "                        <td id=\"T_84e15814_85f7_11ed_8b60_9cb6d0e93358row4_col2\" class=\"data row4 col2\" >0.072088</td>\n",
       "                        <td id=\"T_84e15814_85f7_11ed_8b60_9cb6d0e93358row4_col3\" class=\"data row4 col3\" >0.131536</td>\n",
       "                        <td id=\"T_84e15814_85f7_11ed_8b60_9cb6d0e93358row4_col4\" class=\"data row4 col4\" >1.000000</td>\n",
       "                        <td id=\"T_84e15814_85f7_11ed_8b60_9cb6d0e93358row4_col5\" class=\"data row4 col5\" >0.012708</td>\n",
       "                        <td id=\"T_84e15814_85f7_11ed_8b60_9cb6d0e93358row4_col6\" class=\"data row4 col6\" >0.165046</td>\n",
       "                        <td id=\"T_84e15814_85f7_11ed_8b60_9cb6d0e93358row4_col7\" class=\"data row4 col7\" >-0.000075</td>\n",
       "                        <td id=\"T_84e15814_85f7_11ed_8b60_9cb6d0e93358row4_col8\" class=\"data row4 col8\" >0.059339</td>\n",
       "                        <td id=\"T_84e15814_85f7_11ed_8b60_9cb6d0e93358row4_col9\" class=\"data row4 col9\" >0.038596</td>\n",
       "                        <td id=\"T_84e15814_85f7_11ed_8b60_9cb6d0e93358row4_col10\" class=\"data row4 col10\" >-0.009215</td>\n",
       "                        <td id=\"T_84e15814_85f7_11ed_8b60_9cb6d0e93358row4_col11\" class=\"data row4 col11\" >0.115945</td>\n",
       "                        <td id=\"T_84e15814_85f7_11ed_8b60_9cb6d0e93358row4_col12\" class=\"data row4 col12\" >0.010859</td>\n",
       "                        <td id=\"T_84e15814_85f7_11ed_8b60_9cb6d0e93358row4_col13\" class=\"data row4 col13\" >0.066448</td>\n",
       "            </tr>\n",
       "            <tr>\n",
       "                        <th id=\"T_84e15814_85f7_11ed_8b60_9cb6d0e93358level0_row5\" class=\"row_heading level0 row5\" >fbs</th>\n",
       "                        <td id=\"T_84e15814_85f7_11ed_8b60_9cb6d0e93358row5_col0\" class=\"data row5 col0\" >0.132062</td>\n",
       "                        <td id=\"T_84e15814_85f7_11ed_8b60_9cb6d0e93358row5_col1\" class=\"data row5 col1\" >0.038850</td>\n",
       "                        <td id=\"T_84e15814_85f7_11ed_8b60_9cb6d0e93358row5_col2\" class=\"data row5 col2\" >-0.057663</td>\n",
       "                        <td id=\"T_84e15814_85f7_11ed_8b60_9cb6d0e93358row5_col3\" class=\"data row5 col3\" >0.180860</td>\n",
       "                        <td id=\"T_84e15814_85f7_11ed_8b60_9cb6d0e93358row5_col4\" class=\"data row5 col4\" >0.012708</td>\n",
       "                        <td id=\"T_84e15814_85f7_11ed_8b60_9cb6d0e93358row5_col5\" class=\"data row5 col5\" >1.000000</td>\n",
       "                        <td id=\"T_84e15814_85f7_11ed_8b60_9cb6d0e93358row5_col6\" class=\"data row5 col6\" >0.068831</td>\n",
       "                        <td id=\"T_84e15814_85f7_11ed_8b60_9cb6d0e93358row5_col7\" class=\"data row5 col7\" >-0.007842</td>\n",
       "                        <td id=\"T_84e15814_85f7_11ed_8b60_9cb6d0e93358row5_col8\" class=\"data row5 col8\" >-0.000893</td>\n",
       "                        <td id=\"T_84e15814_85f7_11ed_8b60_9cb6d0e93358row5_col9\" class=\"data row5 col9\" >0.008311</td>\n",
       "                        <td id=\"T_84e15814_85f7_11ed_8b60_9cb6d0e93358row5_col10\" class=\"data row5 col10\" >0.047819</td>\n",
       "                        <td id=\"T_84e15814_85f7_11ed_8b60_9cb6d0e93358row5_col11\" class=\"data row5 col11\" >0.152086</td>\n",
       "                        <td id=\"T_84e15814_85f7_11ed_8b60_9cb6d0e93358row5_col12\" class=\"data row5 col12\" >0.062209</td>\n",
       "                        <td id=\"T_84e15814_85f7_11ed_8b60_9cb6d0e93358row5_col13\" class=\"data row5 col13\" >0.049040</td>\n",
       "            </tr>\n",
       "            <tr>\n",
       "                        <th id=\"T_84e15814_85f7_11ed_8b60_9cb6d0e93358level0_row6\" class=\"row_heading level0 row6\" >restecg</th>\n",
       "                        <td id=\"T_84e15814_85f7_11ed_8b60_9cb6d0e93358row6_col0\" class=\"data row6 col0\" >0.149917</td>\n",
       "                        <td id=\"T_84e15814_85f7_11ed_8b60_9cb6d0e93358row6_col1\" class=\"data row6 col1\" >0.033897</td>\n",
       "                        <td id=\"T_84e15814_85f7_11ed_8b60_9cb6d0e93358row6_col2\" class=\"data row6 col2\" >0.063905</td>\n",
       "                        <td id=\"T_84e15814_85f7_11ed_8b60_9cb6d0e93358row6_col3\" class=\"data row6 col3\" >0.149242</td>\n",
       "                        <td id=\"T_84e15814_85f7_11ed_8b60_9cb6d0e93358row6_col4\" class=\"data row6 col4\" >0.165046</td>\n",
       "                        <td id=\"T_84e15814_85f7_11ed_8b60_9cb6d0e93358row6_col5\" class=\"data row6 col5\" >0.068831</td>\n",
       "                        <td id=\"T_84e15814_85f7_11ed_8b60_9cb6d0e93358row6_col6\" class=\"data row6 col6\" >1.000000</td>\n",
       "                        <td id=\"T_84e15814_85f7_11ed_8b60_9cb6d0e93358row6_col7\" class=\"data row6 col7\" >-0.072290</td>\n",
       "                        <td id=\"T_84e15814_85f7_11ed_8b60_9cb6d0e93358row6_col8\" class=\"data row6 col8\" >0.081874</td>\n",
       "                        <td id=\"T_84e15814_85f7_11ed_8b60_9cb6d0e93358row6_col9\" class=\"data row6 col9\" >0.113726</td>\n",
       "                        <td id=\"T_84e15814_85f7_11ed_8b60_9cb6d0e93358row6_col10\" class=\"data row6 col10\" >0.135141</td>\n",
       "                        <td id=\"T_84e15814_85f7_11ed_8b60_9cb6d0e93358row6_col11\" class=\"data row6 col11\" >0.129021</td>\n",
       "                        <td id=\"T_84e15814_85f7_11ed_8b60_9cb6d0e93358row6_col12\" class=\"data row6 col12\" >0.018795</td>\n",
       "                        <td id=\"T_84e15814_85f7_11ed_8b60_9cb6d0e93358row6_col13\" class=\"data row6 col13\" >0.184136</td>\n",
       "            </tr>\n",
       "            <tr>\n",
       "                        <th id=\"T_84e15814_85f7_11ed_8b60_9cb6d0e93358level0_row7\" class=\"row_heading level0 row7\" >thalach</th>\n",
       "                        <td id=\"T_84e15814_85f7_11ed_8b60_9cb6d0e93358row7_col0\" class=\"data row7 col0\" >-0.394563</td>\n",
       "                        <td id=\"T_84e15814_85f7_11ed_8b60_9cb6d0e93358row7_col1\" class=\"data row7 col1\" >-0.060496</td>\n",
       "                        <td id=\"T_84e15814_85f7_11ed_8b60_9cb6d0e93358row7_col2\" class=\"data row7 col2\" >-0.339308</td>\n",
       "                        <td id=\"T_84e15814_85f7_11ed_8b60_9cb6d0e93358row7_col3\" class=\"data row7 col3\" >-0.049108</td>\n",
       "                        <td id=\"T_84e15814_85f7_11ed_8b60_9cb6d0e93358row7_col4\" class=\"data row7 col4\" >-0.000075</td>\n",
       "                        <td id=\"T_84e15814_85f7_11ed_8b60_9cb6d0e93358row7_col5\" class=\"data row7 col5\" >-0.007842</td>\n",
       "                        <td id=\"T_84e15814_85f7_11ed_8b60_9cb6d0e93358row7_col6\" class=\"data row7 col6\" >-0.072290</td>\n",
       "                        <td id=\"T_84e15814_85f7_11ed_8b60_9cb6d0e93358row7_col7\" class=\"data row7 col7\" >1.000000</td>\n",
       "                        <td id=\"T_84e15814_85f7_11ed_8b60_9cb6d0e93358row7_col8\" class=\"data row7 col8\" >-0.384368</td>\n",
       "                        <td id=\"T_84e15814_85f7_11ed_8b60_9cb6d0e93358row7_col9\" class=\"data row7 col9\" >-0.347640</td>\n",
       "                        <td id=\"T_84e15814_85f7_11ed_8b60_9cb6d0e93358row7_col10\" class=\"data row7 col10\" >-0.389307</td>\n",
       "                        <td id=\"T_84e15814_85f7_11ed_8b60_9cb6d0e93358row7_col11\" class=\"data row7 col11\" >-0.268727</td>\n",
       "                        <td id=\"T_84e15814_85f7_11ed_8b60_9cb6d0e93358row7_col12\" class=\"data row7 col12\" >-0.274831</td>\n",
       "                        <td id=\"T_84e15814_85f7_11ed_8b60_9cb6d0e93358row7_col13\" class=\"data row7 col13\" >-0.420639</td>\n",
       "            </tr>\n",
       "            <tr>\n",
       "                        <th id=\"T_84e15814_85f7_11ed_8b60_9cb6d0e93358level0_row8\" class=\"row_heading level0 row8\" >exang</th>\n",
       "                        <td id=\"T_84e15814_85f7_11ed_8b60_9cb6d0e93358row8_col0\" class=\"data row8 col0\" >0.096489</td>\n",
       "                        <td id=\"T_84e15814_85f7_11ed_8b60_9cb6d0e93358row8_col1\" class=\"data row8 col1\" >0.143581</td>\n",
       "                        <td id=\"T_84e15814_85f7_11ed_8b60_9cb6d0e93358row8_col2\" class=\"data row8 col2\" >0.377525</td>\n",
       "                        <td id=\"T_84e15814_85f7_11ed_8b60_9cb6d0e93358row8_col3\" class=\"data row8 col3\" >0.066691</td>\n",
       "                        <td id=\"T_84e15814_85f7_11ed_8b60_9cb6d0e93358row8_col4\" class=\"data row8 col4\" >0.059339</td>\n",
       "                        <td id=\"T_84e15814_85f7_11ed_8b60_9cb6d0e93358row8_col5\" class=\"data row8 col5\" >-0.000893</td>\n",
       "                        <td id=\"T_84e15814_85f7_11ed_8b60_9cb6d0e93358row8_col6\" class=\"data row8 col6\" >0.081874</td>\n",
       "                        <td id=\"T_84e15814_85f7_11ed_8b60_9cb6d0e93358row8_col7\" class=\"data row8 col7\" >-0.384368</td>\n",
       "                        <td id=\"T_84e15814_85f7_11ed_8b60_9cb6d0e93358row8_col8\" class=\"data row8 col8\" >1.000000</td>\n",
       "                        <td id=\"T_84e15814_85f7_11ed_8b60_9cb6d0e93358row8_col9\" class=\"data row8 col9\" >0.289310</td>\n",
       "                        <td id=\"T_84e15814_85f7_11ed_8b60_9cb6d0e93358row8_col10\" class=\"data row8 col10\" >0.250572</td>\n",
       "                        <td id=\"T_84e15814_85f7_11ed_8b60_9cb6d0e93358row8_col11\" class=\"data row8 col11\" >0.148232</td>\n",
       "                        <td id=\"T_84e15814_85f7_11ed_8b60_9cb6d0e93358row8_col12\" class=\"data row8 col12\" >0.326927</td>\n",
       "                        <td id=\"T_84e15814_85f7_11ed_8b60_9cb6d0e93358row8_col13\" class=\"data row8 col13\" >0.391613</td>\n",
       "            </tr>\n",
       "            <tr>\n",
       "                        <th id=\"T_84e15814_85f7_11ed_8b60_9cb6d0e93358level0_row9\" class=\"row_heading level0 row9\" >oldpeak</th>\n",
       "                        <td id=\"T_84e15814_85f7_11ed_8b60_9cb6d0e93358row9_col0\" class=\"data row9 col0\" >0.197123</td>\n",
       "                        <td id=\"T_84e15814_85f7_11ed_8b60_9cb6d0e93358row9_col1\" class=\"data row9 col1\" >0.106567</td>\n",
       "                        <td id=\"T_84e15814_85f7_11ed_8b60_9cb6d0e93358row9_col2\" class=\"data row9 col2\" >0.203244</td>\n",
       "                        <td id=\"T_84e15814_85f7_11ed_8b60_9cb6d0e93358row9_col3\" class=\"data row9 col3\" >0.191243</td>\n",
       "                        <td id=\"T_84e15814_85f7_11ed_8b60_9cb6d0e93358row9_col4\" class=\"data row9 col4\" >0.038596</td>\n",
       "                        <td id=\"T_84e15814_85f7_11ed_8b60_9cb6d0e93358row9_col5\" class=\"data row9 col5\" >0.008311</td>\n",
       "                        <td id=\"T_84e15814_85f7_11ed_8b60_9cb6d0e93358row9_col6\" class=\"data row9 col6\" >0.113726</td>\n",
       "                        <td id=\"T_84e15814_85f7_11ed_8b60_9cb6d0e93358row9_col7\" class=\"data row9 col7\" >-0.347640</td>\n",
       "                        <td id=\"T_84e15814_85f7_11ed_8b60_9cb6d0e93358row9_col8\" class=\"data row9 col8\" >0.289310</td>\n",
       "                        <td id=\"T_84e15814_85f7_11ed_8b60_9cb6d0e93358row9_col9\" class=\"data row9 col9\" >1.000000</td>\n",
       "                        <td id=\"T_84e15814_85f7_11ed_8b60_9cb6d0e93358row9_col10\" class=\"data row9 col10\" >0.579037</td>\n",
       "                        <td id=\"T_84e15814_85f7_11ed_8b60_9cb6d0e93358row9_col11\" class=\"data row9 col11\" >0.294452</td>\n",
       "                        <td id=\"T_84e15814_85f7_11ed_8b60_9cb6d0e93358row9_col12\" class=\"data row9 col12\" >0.344976</td>\n",
       "                        <td id=\"T_84e15814_85f7_11ed_8b60_9cb6d0e93358row9_col13\" class=\"data row9 col13\" >0.501461</td>\n",
       "            </tr>\n",
       "            <tr>\n",
       "                        <th id=\"T_84e15814_85f7_11ed_8b60_9cb6d0e93358level0_row10\" class=\"row_heading level0 row10\" >slope</th>\n",
       "                        <td id=\"T_84e15814_85f7_11ed_8b60_9cb6d0e93358row10_col0\" class=\"data row10 col0\" >0.159405</td>\n",
       "                        <td id=\"T_84e15814_85f7_11ed_8b60_9cb6d0e93358row10_col1\" class=\"data row10 col1\" >0.033345</td>\n",
       "                        <td id=\"T_84e15814_85f7_11ed_8b60_9cb6d0e93358row10_col2\" class=\"data row10 col2\" >0.151079</td>\n",
       "                        <td id=\"T_84e15814_85f7_11ed_8b60_9cb6d0e93358row10_col3\" class=\"data row10 col3\" >0.121172</td>\n",
       "                        <td id=\"T_84e15814_85f7_11ed_8b60_9cb6d0e93358row10_col4\" class=\"data row10 col4\" >-0.009215</td>\n",
       "                        <td id=\"T_84e15814_85f7_11ed_8b60_9cb6d0e93358row10_col5\" class=\"data row10 col5\" >0.047819</td>\n",
       "                        <td id=\"T_84e15814_85f7_11ed_8b60_9cb6d0e93358row10_col6\" class=\"data row10 col6\" >0.135141</td>\n",
       "                        <td id=\"T_84e15814_85f7_11ed_8b60_9cb6d0e93358row10_col7\" class=\"data row10 col7\" >-0.389307</td>\n",
       "                        <td id=\"T_84e15814_85f7_11ed_8b60_9cb6d0e93358row10_col8\" class=\"data row10 col8\" >0.250572</td>\n",
       "                        <td id=\"T_84e15814_85f7_11ed_8b60_9cb6d0e93358row10_col9\" class=\"data row10 col9\" >0.579037</td>\n",
       "                        <td id=\"T_84e15814_85f7_11ed_8b60_9cb6d0e93358row10_col10\" class=\"data row10 col10\" >1.000000</td>\n",
       "                        <td id=\"T_84e15814_85f7_11ed_8b60_9cb6d0e93358row10_col11\" class=\"data row10 col11\" >0.109761</td>\n",
       "                        <td id=\"T_84e15814_85f7_11ed_8b60_9cb6d0e93358row10_col12\" class=\"data row10 col12\" >0.279688</td>\n",
       "                        <td id=\"T_84e15814_85f7_11ed_8b60_9cb6d0e93358row10_col13\" class=\"data row10 col13\" >0.374689</td>\n",
       "            </tr>\n",
       "            <tr>\n",
       "                        <th id=\"T_84e15814_85f7_11ed_8b60_9cb6d0e93358level0_row11\" class=\"row_heading level0 row11\" >ca</th>\n",
       "                        <td id=\"T_84e15814_85f7_11ed_8b60_9cb6d0e93358row11_col0\" class=\"data row11 col0\" >0.362210</td>\n",
       "                        <td id=\"T_84e15814_85f7_11ed_8b60_9cb6d0e93358row11_col1\" class=\"data row11 col1\" >0.091925</td>\n",
       "                        <td id=\"T_84e15814_85f7_11ed_8b60_9cb6d0e93358row11_col2\" class=\"data row11 col2\" >0.235644</td>\n",
       "                        <td id=\"T_84e15814_85f7_11ed_8b60_9cb6d0e93358row11_col3\" class=\"data row11 col3\" >0.097954</td>\n",
       "                        <td id=\"T_84e15814_85f7_11ed_8b60_9cb6d0e93358row11_col4\" class=\"data row11 col4\" >0.115945</td>\n",
       "                        <td id=\"T_84e15814_85f7_11ed_8b60_9cb6d0e93358row11_col5\" class=\"data row11 col5\" >0.152086</td>\n",
       "                        <td id=\"T_84e15814_85f7_11ed_8b60_9cb6d0e93358row11_col6\" class=\"data row11 col6\" >0.129021</td>\n",
       "                        <td id=\"T_84e15814_85f7_11ed_8b60_9cb6d0e93358row11_col7\" class=\"data row11 col7\" >-0.268727</td>\n",
       "                        <td id=\"T_84e15814_85f7_11ed_8b60_9cb6d0e93358row11_col8\" class=\"data row11 col8\" >0.148232</td>\n",
       "                        <td id=\"T_84e15814_85f7_11ed_8b60_9cb6d0e93358row11_col9\" class=\"data row11 col9\" >0.294452</td>\n",
       "                        <td id=\"T_84e15814_85f7_11ed_8b60_9cb6d0e93358row11_col10\" class=\"data row11 col10\" >0.109761</td>\n",
       "                        <td id=\"T_84e15814_85f7_11ed_8b60_9cb6d0e93358row11_col11\" class=\"data row11 col11\" >1.000000</td>\n",
       "                        <td id=\"T_84e15814_85f7_11ed_8b60_9cb6d0e93358row11_col12\" class=\"data row11 col12\" >0.256382</td>\n",
       "                        <td id=\"T_84e15814_85f7_11ed_8b60_9cb6d0e93358row11_col13\" class=\"data row11 col13\" >0.521178</td>\n",
       "            </tr>\n",
       "            <tr>\n",
       "                        <th id=\"T_84e15814_85f7_11ed_8b60_9cb6d0e93358level0_row12\" class=\"row_heading level0 row12\" >thal</th>\n",
       "                        <td id=\"T_84e15814_85f7_11ed_8b60_9cb6d0e93358row12_col0\" class=\"data row12 col0\" >0.126586</td>\n",
       "                        <td id=\"T_84e15814_85f7_11ed_8b60_9cb6d0e93358row12_col1\" class=\"data row12 col1\" >0.383652</td>\n",
       "                        <td id=\"T_84e15814_85f7_11ed_8b60_9cb6d0e93358row12_col2\" class=\"data row12 col2\" >0.268500</td>\n",
       "                        <td id=\"T_84e15814_85f7_11ed_8b60_9cb6d0e93358row12_col3\" class=\"data row12 col3\" >0.138183</td>\n",
       "                        <td id=\"T_84e15814_85f7_11ed_8b60_9cb6d0e93358row12_col4\" class=\"data row12 col4\" >0.010859</td>\n",
       "                        <td id=\"T_84e15814_85f7_11ed_8b60_9cb6d0e93358row12_col5\" class=\"data row12 col5\" >0.062209</td>\n",
       "                        <td id=\"T_84e15814_85f7_11ed_8b60_9cb6d0e93358row12_col6\" class=\"data row12 col6\" >0.018795</td>\n",
       "                        <td id=\"T_84e15814_85f7_11ed_8b60_9cb6d0e93358row12_col7\" class=\"data row12 col7\" >-0.274831</td>\n",
       "                        <td id=\"T_84e15814_85f7_11ed_8b60_9cb6d0e93358row12_col8\" class=\"data row12 col8\" >0.326927</td>\n",
       "                        <td id=\"T_84e15814_85f7_11ed_8b60_9cb6d0e93358row12_col9\" class=\"data row12 col9\" >0.344976</td>\n",
       "                        <td id=\"T_84e15814_85f7_11ed_8b60_9cb6d0e93358row12_col10\" class=\"data row12 col10\" >0.279688</td>\n",
       "                        <td id=\"T_84e15814_85f7_11ed_8b60_9cb6d0e93358row12_col11\" class=\"data row12 col11\" >0.256382</td>\n",
       "                        <td id=\"T_84e15814_85f7_11ed_8b60_9cb6d0e93358row12_col12\" class=\"data row12 col12\" >1.000000</td>\n",
       "                        <td id=\"T_84e15814_85f7_11ed_8b60_9cb6d0e93358row12_col13\" class=\"data row12 col13\" >0.513377</td>\n",
       "            </tr>\n",
       "            <tr>\n",
       "                        <th id=\"T_84e15814_85f7_11ed_8b60_9cb6d0e93358level0_row13\" class=\"row_heading level0 row13\" >class</th>\n",
       "                        <td id=\"T_84e15814_85f7_11ed_8b60_9cb6d0e93358row13_col0\" class=\"data row13 col0\" >0.222156</td>\n",
       "                        <td id=\"T_84e15814_85f7_11ed_8b60_9cb6d0e93358row13_col1\" class=\"data row13 col1\" >0.226797</td>\n",
       "                        <td id=\"T_84e15814_85f7_11ed_8b60_9cb6d0e93358row13_col2\" class=\"data row13 col2\" >0.404248</td>\n",
       "                        <td id=\"T_84e15814_85f7_11ed_8b60_9cb6d0e93358row13_col3\" class=\"data row13 col3\" >0.159620</td>\n",
       "                        <td id=\"T_84e15814_85f7_11ed_8b60_9cb6d0e93358row13_col4\" class=\"data row13 col4\" >0.066448</td>\n",
       "                        <td id=\"T_84e15814_85f7_11ed_8b60_9cb6d0e93358row13_col5\" class=\"data row13 col5\" >0.049040</td>\n",
       "                        <td id=\"T_84e15814_85f7_11ed_8b60_9cb6d0e93358row13_col6\" class=\"data row13 col6\" >0.184136</td>\n",
       "                        <td id=\"T_84e15814_85f7_11ed_8b60_9cb6d0e93358row13_col7\" class=\"data row13 col7\" >-0.420639</td>\n",
       "                        <td id=\"T_84e15814_85f7_11ed_8b60_9cb6d0e93358row13_col8\" class=\"data row13 col8\" >0.391613</td>\n",
       "                        <td id=\"T_84e15814_85f7_11ed_8b60_9cb6d0e93358row13_col9\" class=\"data row13 col9\" >0.501461</td>\n",
       "                        <td id=\"T_84e15814_85f7_11ed_8b60_9cb6d0e93358row13_col10\" class=\"data row13 col10\" >0.374689</td>\n",
       "                        <td id=\"T_84e15814_85f7_11ed_8b60_9cb6d0e93358row13_col11\" class=\"data row13 col11\" >0.521178</td>\n",
       "                        <td id=\"T_84e15814_85f7_11ed_8b60_9cb6d0e93358row13_col12\" class=\"data row13 col12\" >0.513377</td>\n",
       "                        <td id=\"T_84e15814_85f7_11ed_8b60_9cb6d0e93358row13_col13\" class=\"data row13 col13\" >1.000000</td>\n",
       "            </tr>\n",
       "    </tbody></table>"
      ],
      "text/plain": [
       "<pandas.io.formats.style.Styler at 0x2607fed2fd0>"
      ]
     },
     "execution_count": 8,
     "metadata": {},
     "output_type": "execute_result"
    }
   ],
   "source": [
    "corr_matrix = HD.corr()\n",
    "corr_matrix.style.background_gradient(cmap='YlOrRd')"
   ]
  },
  {
   "cell_type": "code",
   "execution_count": 9,
   "id": "b54c8e52",
   "metadata": {},
   "outputs": [],
   "source": [
    "cols = ['age', 'sex', 'cp', 'trestbps', 'chol', 'fbs', 'restecg', 'thalach',\n",
    "       'exang', 'oldpeak', 'slope', 'ca', 'thal']"
   ]
  },
  {
   "cell_type": "code",
   "execution_count": 10,
   "id": "4bf01353",
   "metadata": {},
   "outputs": [
    {
     "data": {
      "text/plain": [
       "array([0, 2, 1, 3, 4], dtype=int64)"
      ]
     },
     "execution_count": 10,
     "metadata": {},
     "output_type": "execute_result"
    }
   ],
   "source": [
    "HD[\"class\"].unique()"
   ]
  },
  {
   "cell_type": "code",
   "execution_count": null,
   "id": "c2639c2a",
   "metadata": {},
   "outputs": [],
   "source": []
  },
  {
   "cell_type": "code",
   "execution_count": 11,
   "id": "0e412017",
   "metadata": {},
   "outputs": [
    {
     "data": {
      "image/png": "[encoded data removed]",
      "text/plain": [
       "<Figure size 576x360 with 1 Axes>"
      ]
     },
     "metadata": {
      "needs_background": "light"
     },
     "output_type": "display_data"
    },
    {
     "data": {
      "image/png": "[encoded data removed]",
      "text/plain": [
       "<Figure size 576x360 with 1 Axes>"
      ]
     },
     "metadata": {
      "needs_background": "light"
     },
     "output_type": "display_data"
    },
    {
     "data": {
      "image/png": "[encoded data removed]",
      "text/plain": [
       "<Figure size 576x360 with 1 Axes>"
      ]
     },
     "metadata": {
      "needs_background": "light"
     },
     "output_type": "display_data"
    },
    {
     "data": {
      "image/png": "[encoded data removed]",
      "text/plain": [
       "<Figure size 576x360 with 1 Axes>"
      ]
     },
     "metadata": {
      "needs_background": "light"
     },
     "output_type": "display_data"
    },
    {
     "data": {
      "image/png": "[encoded data removed]",
      "text/plain": [
       "<Figure size 576x360 with 1 Axes>"
      ]
     },
     "metadata": {
      "needs_background": "light"
     },
     "output_type": "display_data"
    },
    {
     "data": {
      "image/png": "[encoded data removed]",
      "text/plain": [
       "<Figure size 576x360 with 1 Axes>"
      ]
     },
     "metadata": {
      "needs_background": "light"
     },
     "output_type": "display_data"
    },
    {
     "data": {
      "image/png": "[encoded data removed]",
      "text/plain": [
       "<Figure size 576x360 with 1 Axes>"
      ]
     },
     "metadata": {
      "needs_background": "light"
     },
     "output_type": "display_data"
    },
    {
     "data": {
      "image/png": "[encoded data removed]",
      "text/plain": [
       "<Figure size 576x360 with 1 Axes>"
      ]
     },
     "metadata": {
      "needs_background": "light"
     },
     "output_type": "display_data"
    },
    {
     "data": {
      "image/png": "[encoded data removed]",
      "text/plain": [
       "<Figure size 576x360 with 1 Axes>"
      ]
     },
     "metadata": {
      "needs_background": "light"
     },
     "output_type": "display_data"
    },
    {
     "data": {
      "image/png": "[encoded data removed]",
      "text/plain": [
       "<Figure size 576x360 with 1 Axes>"
      ]
     },
     "metadata": {
      "needs_background": "light"
     },
     "output_type": "display_data"
    },
    {
     "data": {
      "image/png": "[encoded data removed]",
      "text/plain": [
       "<Figure size 576x360 with 1 Axes>"
      ]
     },
     "metadata": {
      "needs_background": "light"
     },
     "output_type": "display_data"
    },
    {
     "data": {
      "image/png": "[encoded data removed]",
      "text/plain": [
       "<Figure size 576x360 with 1 Axes>"
      ]
     },
     "metadata": {
      "needs_background": "light"
     },
     "output_type": "display_data"
    },
    {
     "data": {
      "image/png": "[encoded data removed]",
      "text/plain": [
       "<Figure size 576x360 with 1 Axes>"
      ]
     },
     "metadata": {
      "needs_background": "light"
     },
     "output_type": "display_data"
    },
    {
     "data": {
      "image/png": "[encoded data removed]",
      "text/plain": [
       "<Figure size 576x360 with 1 Axes>"
      ]
     },
     "metadata": {
      "needs_background": "light"
     },
     "output_type": "display_data"
    }
   ],
   "source": [
    "for i in range (0, len(HD.columns)):\n",
    "    HD[HD.columns[i]].plot(kind = 'hist', grid = True, figsize = (8, 5))\n",
    "    plt.xlabel(HD.columns[i])\n",
    "    plt.ylabel('Frequency')\n",
    "    plt.show()"
   ]
  },
  {
   "cell_type": "markdown",
   "id": "a505ac38",
   "metadata": {},
   "source": [
    "### 3 Normalize the Dataset"
   ]
  },
  {
   "cell_type": "markdown",
   "id": "0774e102",
   "metadata": {},
   "source": [
    "Decision Trees can handle all handles without Normalization. Therefore no adjustments to the data has been applied."
   ]
  },
  {
   "cell_type": "markdown",
   "id": "b04ff9dd",
   "metadata": {},
   "source": [
    "### 4 Split the Dataset in Multiclass and Binary"
   ]
  },
  {
   "cell_type": "markdown",
   "id": "e82ce506",
   "metadata": {},
   "source": [
    "Add new Column \"Class Binary\" which is derived from the \"Class\" > 0"
   ]
  },
  {
   "cell_type": "code",
   "execution_count": 12,
   "id": "a2e06ab7",
   "metadata": {},
   "outputs": [
    {
     "data": {
      "text/html": [
       "<div>\n",
       "<style scoped>\n",
       "    .dataframe tbody tr th:only-of-type {\n",
       "        vertical-align: middle;\n",
       "    }\n",
       "\n",
       "    .dataframe tbody tr th {\n",
       "        vertical-align: top;\n",
       "    }\n",
       "\n",
       "    .dataframe thead th {\n",
       "        text-align: right;\n",
       "    }\n",
       "</style>\n",
       "<table border=\"1\" class=\"dataframe\">\n",
       "  <thead>\n",
       "    <tr style=\"text-align: right;\">\n",
       "      <th></th>\n",
       "      <th>age</th>\n",
       "      <th>sex</th>\n",
       "      <th>cp</th>\n",
       "      <th>trestbps</th>\n",
       "      <th>chol</th>\n",
       "      <th>fbs</th>\n",
       "      <th>restecg</th>\n",
       "      <th>thalach</th>\n",
       "      <th>exang</th>\n",
       "      <th>oldpeak</th>\n",
       "      <th>slope</th>\n",
       "      <th>ca</th>\n",
       "      <th>thal</th>\n",
       "      <th>class</th>\n",
       "      <th>class binary</th>\n",
       "    </tr>\n",
       "  </thead>\n",
       "  <tbody>\n",
       "    <tr>\n",
       "      <th>0</th>\n",
       "      <td>63.0</td>\n",
       "      <td>1.0</td>\n",
       "      <td>1.0</td>\n",
       "      <td>145.0</td>\n",
       "      <td>233.0</td>\n",
       "      <td>1.0</td>\n",
       "      <td>2.0</td>\n",
       "      <td>150.0</td>\n",
       "      <td>0.0</td>\n",
       "      <td>2.3</td>\n",
       "      <td>3.0</td>\n",
       "      <td>0.0</td>\n",
       "      <td>6.0</td>\n",
       "      <td>0</td>\n",
       "      <td>0</td>\n",
       "    </tr>\n",
       "    <tr>\n",
       "      <th>1</th>\n",
       "      <td>67.0</td>\n",
       "      <td>1.0</td>\n",
       "      <td>4.0</td>\n",
       "      <td>160.0</td>\n",
       "      <td>286.0</td>\n",
       "      <td>0.0</td>\n",
       "      <td>2.0</td>\n",
       "      <td>108.0</td>\n",
       "      <td>1.0</td>\n",
       "      <td>1.5</td>\n",
       "      <td>2.0</td>\n",
       "      <td>3.0</td>\n",
       "      <td>3.0</td>\n",
       "      <td>2</td>\n",
       "      <td>1</td>\n",
       "    </tr>\n",
       "    <tr>\n",
       "      <th>2</th>\n",
       "      <td>67.0</td>\n",
       "      <td>1.0</td>\n",
       "      <td>4.0</td>\n",
       "      <td>120.0</td>\n",
       "      <td>229.0</td>\n",
       "      <td>0.0</td>\n",
       "      <td>2.0</td>\n",
       "      <td>129.0</td>\n",
       "      <td>1.0</td>\n",
       "      <td>2.6</td>\n",
       "      <td>2.0</td>\n",
       "      <td>2.0</td>\n",
       "      <td>7.0</td>\n",
       "      <td>1</td>\n",
       "      <td>1</td>\n",
       "    </tr>\n",
       "    <tr>\n",
       "      <th>3</th>\n",
       "      <td>37.0</td>\n",
       "      <td>1.0</td>\n",
       "      <td>3.0</td>\n",
       "      <td>130.0</td>\n",
       "      <td>250.0</td>\n",
       "      <td>0.0</td>\n",
       "      <td>0.0</td>\n",
       "      <td>187.0</td>\n",
       "      <td>0.0</td>\n",
       "      <td>3.5</td>\n",
       "      <td>3.0</td>\n",
       "      <td>0.0</td>\n",
       "      <td>3.0</td>\n",
       "      <td>0</td>\n",
       "      <td>0</td>\n",
       "    </tr>\n",
       "    <tr>\n",
       "      <th>4</th>\n",
       "      <td>41.0</td>\n",
       "      <td>0.0</td>\n",
       "      <td>2.0</td>\n",
       "      <td>130.0</td>\n",
       "      <td>204.0</td>\n",
       "      <td>0.0</td>\n",
       "      <td>2.0</td>\n",
       "      <td>172.0</td>\n",
       "      <td>0.0</td>\n",
       "      <td>1.4</td>\n",
       "      <td>1.0</td>\n",
       "      <td>0.0</td>\n",
       "      <td>3.0</td>\n",
       "      <td>0</td>\n",
       "      <td>0</td>\n",
       "    </tr>\n",
       "  </tbody>\n",
       "</table>\n",
       "</div>"
      ],
      "text/plain": [
       "    age  sex   cp  trestbps   chol  fbs  restecg  thalach  exang  oldpeak  \\\n",
       "0  63.0  1.0  1.0     145.0  233.0  1.0      2.0    150.0    0.0      2.3   \n",
       "1  67.0  1.0  4.0     160.0  286.0  0.0      2.0    108.0    1.0      1.5   \n",
       "2  67.0  1.0  4.0     120.0  229.0  0.0      2.0    129.0    1.0      2.6   \n",
       "3  37.0  1.0  3.0     130.0  250.0  0.0      0.0    187.0    0.0      3.5   \n",
       "4  41.0  0.0  2.0     130.0  204.0  0.0      2.0    172.0    0.0      1.4   \n",
       "\n",
       "   slope   ca  thal  class  class binary  \n",
       "0    3.0  0.0   6.0      0             0  \n",
       "1    2.0  3.0   3.0      2             1  \n",
       "2    2.0  2.0   7.0      1             1  \n",
       "3    3.0  0.0   3.0      0             0  \n",
       "4    1.0  0.0   3.0      0             0  "
      ]
     },
     "execution_count": 12,
     "metadata": {},
     "output_type": "execute_result"
    }
   ],
   "source": [
    "HD[\"class binary\"] = np.where(HD[\"class\"] > 0, 1, 0)\n",
    "HD.head()"
   ]
  },
  {
   "cell_type": "markdown",
   "id": "cad8a299",
   "metadata": {},
   "source": [
    "#### 4.1 Multiclass"
   ]
  },
  {
   "cell_type": "markdown",
   "id": "f8dd29b7",
   "metadata": {},
   "source": [
    "For Multiclass we drop \"Class Binary\" and rename \"Class\" to \"Class Multi\""
   ]
  },
  {
   "cell_type": "code",
   "execution_count": 13,
   "id": "1e5315d3",
   "metadata": {},
   "outputs": [
    {
     "data": {
      "text/html": [
       "<div>\n",
       "<style scoped>\n",
       "    .dataframe tbody tr th:only-of-type {\n",
       "        vertical-align: middle;\n",
       "    }\n",
       "\n",
       "    .dataframe tbody tr th {\n",
       "        vertical-align: top;\n",
       "    }\n",
       "\n",
       "    .dataframe thead th {\n",
       "        text-align: right;\n",
       "    }\n",
       "</style>\n",
       "<table border=\"1\" class=\"dataframe\">\n",
       "  <thead>\n",
       "    <tr style=\"text-align: right;\">\n",
       "      <th></th>\n",
       "      <th>age</th>\n",
       "      <th>sex</th>\n",
       "      <th>cp</th>\n",
       "      <th>trestbps</th>\n",
       "      <th>chol</th>\n",
       "      <th>fbs</th>\n",
       "      <th>restecg</th>\n",
       "      <th>thalach</th>\n",
       "      <th>exang</th>\n",
       "      <th>oldpeak</th>\n",
       "      <th>slope</th>\n",
       "      <th>ca</th>\n",
       "      <th>thal</th>\n",
       "      <th>class multi</th>\n",
       "    </tr>\n",
       "  </thead>\n",
       "  <tbody>\n",
       "    <tr>\n",
       "      <th>0</th>\n",
       "      <td>63.0</td>\n",
       "      <td>1.0</td>\n",
       "      <td>1.0</td>\n",
       "      <td>145.0</td>\n",
       "      <td>233.0</td>\n",
       "      <td>1.0</td>\n",
       "      <td>2.0</td>\n",
       "      <td>150.0</td>\n",
       "      <td>0.0</td>\n",
       "      <td>2.3</td>\n",
       "      <td>3.0</td>\n",
       "      <td>0.0</td>\n",
       "      <td>6.0</td>\n",
       "      <td>0</td>\n",
       "    </tr>\n",
       "    <tr>\n",
       "      <th>1</th>\n",
       "      <td>67.0</td>\n",
       "      <td>1.0</td>\n",
       "      <td>4.0</td>\n",
       "      <td>160.0</td>\n",
       "      <td>286.0</td>\n",
       "      <td>0.0</td>\n",
       "      <td>2.0</td>\n",
       "      <td>108.0</td>\n",
       "      <td>1.0</td>\n",
       "      <td>1.5</td>\n",
       "      <td>2.0</td>\n",
       "      <td>3.0</td>\n",
       "      <td>3.0</td>\n",
       "      <td>2</td>\n",
       "    </tr>\n",
       "    <tr>\n",
       "      <th>2</th>\n",
       "      <td>67.0</td>\n",
       "      <td>1.0</td>\n",
       "      <td>4.0</td>\n",
       "      <td>120.0</td>\n",
       "      <td>229.0</td>\n",
       "      <td>0.0</td>\n",
       "      <td>2.0</td>\n",
       "      <td>129.0</td>\n",
       "      <td>1.0</td>\n",
       "      <td>2.6</td>\n",
       "      <td>2.0</td>\n",
       "      <td>2.0</td>\n",
       "      <td>7.0</td>\n",
       "      <td>1</td>\n",
       "    </tr>\n",
       "    <tr>\n",
       "      <th>3</th>\n",
       "      <td>37.0</td>\n",
       "      <td>1.0</td>\n",
       "      <td>3.0</td>\n",
       "      <td>130.0</td>\n",
       "      <td>250.0</td>\n",
       "      <td>0.0</td>\n",
       "      <td>0.0</td>\n",
       "      <td>187.0</td>\n",
       "      <td>0.0</td>\n",
       "      <td>3.5</td>\n",
       "      <td>3.0</td>\n",
       "      <td>0.0</td>\n",
       "      <td>3.0</td>\n",
       "      <td>0</td>\n",
       "    </tr>\n",
       "    <tr>\n",
       "      <th>4</th>\n",
       "      <td>41.0</td>\n",
       "      <td>0.0</td>\n",
       "      <td>2.0</td>\n",
       "      <td>130.0</td>\n",
       "      <td>204.0</td>\n",
       "      <td>0.0</td>\n",
       "      <td>2.0</td>\n",
       "      <td>172.0</td>\n",
       "      <td>0.0</td>\n",
       "      <td>1.4</td>\n",
       "      <td>1.0</td>\n",
       "      <td>0.0</td>\n",
       "      <td>3.0</td>\n",
       "      <td>0</td>\n",
       "    </tr>\n",
       "  </tbody>\n",
       "</table>\n",
       "</div>"
      ],
      "text/plain": [
       "    age  sex   cp  trestbps   chol  fbs  restecg  thalach  exang  oldpeak  \\\n",
       "0  63.0  1.0  1.0     145.0  233.0  1.0      2.0    150.0    0.0      2.3   \n",
       "1  67.0  1.0  4.0     160.0  286.0  0.0      2.0    108.0    1.0      1.5   \n",
       "2  67.0  1.0  4.0     120.0  229.0  0.0      2.0    129.0    1.0      2.6   \n",
       "3  37.0  1.0  3.0     130.0  250.0  0.0      0.0    187.0    0.0      3.5   \n",
       "4  41.0  0.0  2.0     130.0  204.0  0.0      2.0    172.0    0.0      1.4   \n",
       "\n",
       "   slope   ca  thal  class multi  \n",
       "0    3.0  0.0   6.0            0  \n",
       "1    2.0  3.0   3.0            2  \n",
       "2    2.0  2.0   7.0            1  \n",
       "3    3.0  0.0   3.0            0  \n",
       "4    1.0  0.0   3.0            0  "
      ]
     },
     "execution_count": 13,
     "metadata": {},
     "output_type": "execute_result"
    }
   ],
   "source": [
    "HD_multi = HD.drop('class binary', axis=1)\n",
    "HD_multi.rename(columns={'class': 'class multi'}, inplace=True)\n",
    "HD_multi.head()"
   ]
  },
  {
   "cell_type": "code",
   "execution_count": 14,
   "id": "625d473c",
   "metadata": {},
   "outputs": [
    {
     "data": {
      "image/png": "[encoded data removed]",
      "text/plain": [
       "<Figure size 432x288 with 1 Axes>"
      ]
     },
     "metadata": {
      "needs_background": "light"
     },
     "output_type": "display_data"
    },
    {
     "data": {
      "image/png": "[encoded data removed]",
      "text/plain": [
       "<Figure size 432x288 with 1 Axes>"
      ]
     },
     "metadata": {
      "needs_background": "light"
     },
     "output_type": "display_data"
    },
    {
     "data": {
      "image/png": "[encoded data removed]",
      "text/plain": [
       "<Figure size 432x288 with 1 Axes>"
      ]
     },
     "metadata": {
      "needs_background": "light"
     },
     "output_type": "display_data"
    },
    {
     "data": {
      "image/png": "[encoded data removed]",
      "text/plain": [
       "<Figure size 432x288 with 1 Axes>"
      ]
     },
     "metadata": {
      "needs_background": "light"
     },
     "output_type": "display_data"
    },
    {
     "data": {
      "image/png": "[encoded data removed]",
      "text/plain": [
       "<Figure size 432x288 with 1 Axes>"
      ]
     },
     "metadata": {
      "needs_background": "light"
     },
     "output_type": "display_data"
    },
    {
     "data": {
      "image/png": "[encoded data removed]",
      "text/plain": [
       "<Figure size 432x288 with 1 Axes>"
      ]
     },
     "metadata": {
      "needs_background": "light"
     },
     "output_type": "display_data"
    },
    {
     "data": {
      "image/png": "[encoded data removed]",
      "text/plain": [
       "<Figure size 432x288 with 1 Axes>"
      ]
     },
     "metadata": {
      "needs_background": "light"
     },
     "output_type": "display_data"
    },
    {
     "data": {
      "image/png": "[encoded data removed]",
      "text/plain": [
       "<Figure size 432x288 with 1 Axes>"
      ]
     },
     "metadata": {
      "needs_background": "light"
     },
     "output_type": "display_data"
    },
    {
     "data": {
      "image/png": "[encoded data removed]",
      "text/plain": [
       "<Figure size 432x288 with 1 Axes>"
      ]
     },
     "metadata": {
      "needs_background": "light"
     },
     "output_type": "display_data"
    },
    {
     "data": {
      "image/png": "[encoded data removed]",
      "text/plain": [
       "<Figure size 432x288 with 1 Axes>"
      ]
     },
     "metadata": {
      "needs_background": "light"
     },
     "output_type": "display_data"
    },
    {
     "data": {
      "image/png": "[encoded data removed]",
      "text/plain": [
       "<Figure size 432x288 with 1 Axes>"
      ]
     },
     "metadata": {
      "needs_background": "light"
     },
     "output_type": "display_data"
    },
    {
     "data": {
      "image/png": "[encoded data removed]",
      "text/plain": [
       "<Figure size 432x288 with 1 Axes>"
      ]
     },
     "metadata": {
      "needs_background": "light"
     },
     "output_type": "display_data"
    },
    {
     "data": {
      "image/png": "[encoded data removed]",
      "text/plain": [
       "<Figure size 432x288 with 1 Axes>"
      ]
     },
     "metadata": {
      "needs_background": "light"
     },
     "output_type": "display_data"
    }
   ],
   "source": [
    "for i in cols[:]: \n",
    "    plt.hist(HD[HD[\"class\"]==0][i], color='blue', label='Grade 0', alpha=0.7, density=True)\n",
    "    plt.hist(HD[HD[\"class\"]==1][i], color='green', label='Grade 1', alpha=0.7, density=True)\n",
    "    plt.hist(HD[HD[\"class\"]==2][i], color='red', label='Grade 2', alpha=0.7, density=True)\n",
    "    plt.hist(HD[HD[\"class\"]==3][i], color='yellow', label='Grade 3', alpha=0.7, density=True)\n",
    "    plt.hist(HD[HD[\"class\"]==4][i], color='purple', label='Grade 4', alpha=0.7, density=True)\n",
    "    plt.xlabel(i)\n",
    "    plt.ylabel('Probability')\n",
    "    plt.legend()\n",
    "    plt.show()"
   ]
  },
  {
   "cell_type": "markdown",
   "id": "347cd42d",
   "metadata": {},
   "source": [
    "#### 4.2 Binary"
   ]
  },
  {
   "cell_type": "markdown",
   "id": "859a98d5",
   "metadata": {},
   "source": [
    "We drop \"Class\", because \"Class Binary\" is already available"
   ]
  },
  {
   "cell_type": "code",
   "execution_count": 15,
   "id": "0a2b2216",
   "metadata": {},
   "outputs": [
    {
     "data": {
      "text/html": [
       "<div>\n",
       "<style scoped>\n",
       "    .dataframe tbody tr th:only-of-type {\n",
       "        vertical-align: middle;\n",
       "    }\n",
       "\n",
       "    .dataframe tbody tr th {\n",
       "        vertical-align: top;\n",
       "    }\n",
       "\n",
       "    .dataframe thead th {\n",
       "        text-align: right;\n",
       "    }\n",
       "</style>\n",
       "<table border=\"1\" class=\"dataframe\">\n",
       "  <thead>\n",
       "    <tr style=\"text-align: right;\">\n",
       "      <th></th>\n",
       "      <th>age</th>\n",
       "      <th>sex</th>\n",
       "      <th>cp</th>\n",
       "      <th>trestbps</th>\n",
       "      <th>chol</th>\n",
       "      <th>fbs</th>\n",
       "      <th>restecg</th>\n",
       "      <th>thalach</th>\n",
       "      <th>exang</th>\n",
       "      <th>oldpeak</th>\n",
       "      <th>slope</th>\n",
       "      <th>ca</th>\n",
       "      <th>thal</th>\n",
       "      <th>class binary</th>\n",
       "    </tr>\n",
       "  </thead>\n",
       "  <tbody>\n",
       "    <tr>\n",
       "      <th>0</th>\n",
       "      <td>63.0</td>\n",
       "      <td>1.0</td>\n",
       "      <td>1.0</td>\n",
       "      <td>145.0</td>\n",
       "      <td>233.0</td>\n",
       "      <td>1.0</td>\n",
       "      <td>2.0</td>\n",
       "      <td>150.0</td>\n",
       "      <td>0.0</td>\n",
       "      <td>2.3</td>\n",
       "      <td>3.0</td>\n",
       "      <td>0.0</td>\n",
       "      <td>6.0</td>\n",
       "      <td>0</td>\n",
       "    </tr>\n",
       "    <tr>\n",
       "      <th>1</th>\n",
       "      <td>67.0</td>\n",
       "      <td>1.0</td>\n",
       "      <td>4.0</td>\n",
       "      <td>160.0</td>\n",
       "      <td>286.0</td>\n",
       "      <td>0.0</td>\n",
       "      <td>2.0</td>\n",
       "      <td>108.0</td>\n",
       "      <td>1.0</td>\n",
       "      <td>1.5</td>\n",
       "      <td>2.0</td>\n",
       "      <td>3.0</td>\n",
       "      <td>3.0</td>\n",
       "      <td>1</td>\n",
       "    </tr>\n",
       "    <tr>\n",
       "      <th>2</th>\n",
       "      <td>67.0</td>\n",
       "      <td>1.0</td>\n",
       "      <td>4.0</td>\n",
       "      <td>120.0</td>\n",
       "      <td>229.0</td>\n",
       "      <td>0.0</td>\n",
       "      <td>2.0</td>\n",
       "      <td>129.0</td>\n",
       "      <td>1.0</td>\n",
       "      <td>2.6</td>\n",
       "      <td>2.0</td>\n",
       "      <td>2.0</td>\n",
       "      <td>7.0</td>\n",
       "      <td>1</td>\n",
       "    </tr>\n",
       "    <tr>\n",
       "      <th>3</th>\n",
       "      <td>37.0</td>\n",
       "      <td>1.0</td>\n",
       "      <td>3.0</td>\n",
       "      <td>130.0</td>\n",
       "      <td>250.0</td>\n",
       "      <td>0.0</td>\n",
       "      <td>0.0</td>\n",
       "      <td>187.0</td>\n",
       "      <td>0.0</td>\n",
       "      <td>3.5</td>\n",
       "      <td>3.0</td>\n",
       "      <td>0.0</td>\n",
       "      <td>3.0</td>\n",
       "      <td>0</td>\n",
       "    </tr>\n",
       "    <tr>\n",
       "      <th>4</th>\n",
       "      <td>41.0</td>\n",
       "      <td>0.0</td>\n",
       "      <td>2.0</td>\n",
       "      <td>130.0</td>\n",
       "      <td>204.0</td>\n",
       "      <td>0.0</td>\n",
       "      <td>2.0</td>\n",
       "      <td>172.0</td>\n",
       "      <td>0.0</td>\n",
       "      <td>1.4</td>\n",
       "      <td>1.0</td>\n",
       "      <td>0.0</td>\n",
       "      <td>3.0</td>\n",
       "      <td>0</td>\n",
       "    </tr>\n",
       "  </tbody>\n",
       "</table>\n",
       "</div>"
      ],
      "text/plain": [
       "    age  sex   cp  trestbps   chol  fbs  restecg  thalach  exang  oldpeak  \\\n",
       "0  63.0  1.0  1.0     145.0  233.0  1.0      2.0    150.0    0.0      2.3   \n",
       "1  67.0  1.0  4.0     160.0  286.0  0.0      2.0    108.0    1.0      1.5   \n",
       "2  67.0  1.0  4.0     120.0  229.0  0.0      2.0    129.0    1.0      2.6   \n",
       "3  37.0  1.0  3.0     130.0  250.0  0.0      0.0    187.0    0.0      3.5   \n",
       "4  41.0  0.0  2.0     130.0  204.0  0.0      2.0    172.0    0.0      1.4   \n",
       "\n",
       "   slope   ca  thal  class binary  \n",
       "0    3.0  0.0   6.0             0  \n",
       "1    2.0  3.0   3.0             1  \n",
       "2    2.0  2.0   7.0             1  \n",
       "3    3.0  0.0   3.0             0  \n",
       "4    1.0  0.0   3.0             0  "
      ]
     },
     "execution_count": 15,
     "metadata": {},
     "output_type": "execute_result"
    }
   ],
   "source": [
    "HD_binary = HD.drop('class', axis=1)\n",
    "HD_binary.head()"
   ]
  },
  {
   "cell_type": "code",
   "execution_count": 16,
   "id": "a0068a6b",
   "metadata": {},
   "outputs": [
    {
     "data": {
      "image/png": "[encoded data removed]",
      "text/plain": [
       "<Figure size 432x288 with 1 Axes>"
      ]
     },
     "metadata": {
      "needs_background": "light"
     },
     "output_type": "display_data"
    },
    {
     "data": {
      "image/png": "[encoded data removed]",
      "text/plain": [
       "<Figure size 432x288 with 1 Axes>"
      ]
     },
     "metadata": {
      "needs_background": "light"
     },
     "output_type": "display_data"
    },
    {
     "data": {
      "image/png": "[encoded data removed]",
      "text/plain": [
       "<Figure size 432x288 with 1 Axes>"
      ]
     },
     "metadata": {
      "needs_background": "light"
     },
     "output_type": "display_data"
    },
    {
     "data": {
      "image/png": "[encoded data removed]",
      "text/plain": [
       "<Figure size 432x288 with 1 Axes>"
      ]
     },
     "metadata": {
      "needs_background": "light"
     },
     "output_type": "display_data"
    },
    {
     "data": {
      "image/png": "[encoded data removed]",
      "text/plain": [
       "<Figure size 432x288 with 1 Axes>"
      ]
     },
     "metadata": {
      "needs_background": "light"
     },
     "output_type": "display_data"
    },
    {
     "data": {
      "image/png": "[encoded data removed]",
      "text/plain": [
       "<Figure size 432x288 with 1 Axes>"
      ]
     },
     "metadata": {
      "needs_background": "light"
     },
     "output_type": "display_data"
    },
    {
     "data": {
      "image/png": "[encoded data removed]",
      "text/plain": [
       "<Figure size 432x288 with 1 Axes>"
      ]
     },
     "metadata": {
      "needs_background": "light"
     },
     "output_type": "display_data"
    },
    {
     "data": {
      "image/png": "[encoded data removed]",
      "text/plain": [
       "<Figure size 432x288 with 1 Axes>"
      ]
     },
     "metadata": {
      "needs_background": "light"
     },
     "output_type": "display_data"
    },
    {
     "data": {
      "image/png": "[encoded data removed]",
      "text/plain": [
       "<Figure size 432x288 with 1 Axes>"
      ]
     },
     "metadata": {
      "needs_background": "light"
     },
     "output_type": "display_data"
    },
    {
     "data": {
      "image/png": "[encoded data removed]",
      "text/plain": [
       "<Figure size 432x288 with 1 Axes>"
      ]
     },
     "metadata": {
      "needs_background": "light"
     },
     "output_type": "display_data"
    },
    {
     "data": {
      "image/png": "[encoded data removed]",
      "text/plain": [
       "<Figure size 432x288 with 1 Axes>"
      ]
     },
     "metadata": {
      "needs_background": "light"
     },
     "output_type": "display_data"
    },
    {
     "data": {
      "image/png": "[encoded data removed]",
      "text/plain": [
       "<Figure size 432x288 with 1 Axes>"
      ]
     },
     "metadata": {
      "needs_background": "light"
     },
     "output_type": "display_data"
    },
    {
     "data": {
      "image/png": "[encoded data removed]",
      "text/plain": [
       "<Figure size 432x288 with 1 Axes>"
      ]
     },
     "metadata": {
      "needs_background": "light"
     },
     "output_type": "display_data"
    }
   ],
   "source": [
    "for i in cols[:]: \n",
    "    plt.hist(HD[HD[\"class binary\"]==1][i], color='blue', label='True', alpha=0.7, density=True)\n",
    "    plt.hist(HD[HD[\"class binary\"]==0][i], color='red', label='False', alpha=0.7, density=True)\n",
    "    plt.xlabel(i)\n",
    "    plt.ylabel('Probability')\n",
    "    plt.legend()\n",
    "    plt.show()"
   ]
  },
  {
   "cell_type": "markdown",
   "id": "9d5dd709",
   "metadata": {},
   "source": [
    "### 5 Define X & Y"
   ]
  },
  {
   "cell_type": "markdown",
   "id": "bad03543",
   "metadata": {},
   "source": [
    "We define the x Table and y Table\n",
    "- x Table contains all features (without the outcome)\n",
    "- y Table only contains the Outcome"
   ]
  },
  {
   "cell_type": "markdown",
   "id": "557c314c",
   "metadata": {},
   "source": [
    "#### 5.1 Multi"
   ]
  },
  {
   "cell_type": "code",
   "execution_count": 17,
   "id": "53469630",
   "metadata": {},
   "outputs": [],
   "source": [
    "x_multi = HD_multi.drop('class multi', axis=1)       # features\n",
    "y_multi = HD_multi['class multi']                    # labels"
   ]
  },
  {
   "cell_type": "code",
   "execution_count": 18,
   "id": "924c34fc",
   "metadata": {},
   "outputs": [
    {
     "data": {
      "text/html": [
       "<div>\n",
       "<style scoped>\n",
       "    .dataframe tbody tr th:only-of-type {\n",
       "        vertical-align: middle;\n",
       "    }\n",
       "\n",
       "    .dataframe tbody tr th {\n",
       "        vertical-align: top;\n",
       "    }\n",
       "\n",
       "    .dataframe thead th {\n",
       "        text-align: right;\n",
       "    }\n",
       "</style>\n",
       "<table border=\"1\" class=\"dataframe\">\n",
       "  <thead>\n",
       "    <tr style=\"text-align: right;\">\n",
       "      <th></th>\n",
       "      <th>age</th>\n",
       "      <th>sex</th>\n",
       "      <th>cp</th>\n",
       "      <th>trestbps</th>\n",
       "      <th>chol</th>\n",
       "      <th>fbs</th>\n",
       "      <th>restecg</th>\n",
       "      <th>thalach</th>\n",
       "      <th>exang</th>\n",
       "      <th>oldpeak</th>\n",
       "      <th>slope</th>\n",
       "      <th>ca</th>\n",
       "      <th>thal</th>\n",
       "    </tr>\n",
       "  </thead>\n",
       "  <tbody>\n",
       "    <tr>\n",
       "      <th>0</th>\n",
       "      <td>63.0</td>\n",
       "      <td>1.0</td>\n",
       "      <td>1.0</td>\n",
       "      <td>145.0</td>\n",
       "      <td>233.0</td>\n",
       "      <td>1.0</td>\n",
       "      <td>2.0</td>\n",
       "      <td>150.0</td>\n",
       "      <td>0.0</td>\n",
       "      <td>2.3</td>\n",
       "      <td>3.0</td>\n",
       "      <td>0.0</td>\n",
       "      <td>6.0</td>\n",
       "    </tr>\n",
       "    <tr>\n",
       "      <th>1</th>\n",
       "      <td>67.0</td>\n",
       "      <td>1.0</td>\n",
       "      <td>4.0</td>\n",
       "      <td>160.0</td>\n",
       "      <td>286.0</td>\n",
       "      <td>0.0</td>\n",
       "      <td>2.0</td>\n",
       "      <td>108.0</td>\n",
       "      <td>1.0</td>\n",
       "      <td>1.5</td>\n",
       "      <td>2.0</td>\n",
       "      <td>3.0</td>\n",
       "      <td>3.0</td>\n",
       "    </tr>\n",
       "    <tr>\n",
       "      <th>2</th>\n",
       "      <td>67.0</td>\n",
       "      <td>1.0</td>\n",
       "      <td>4.0</td>\n",
       "      <td>120.0</td>\n",
       "      <td>229.0</td>\n",
       "      <td>0.0</td>\n",
       "      <td>2.0</td>\n",
       "      <td>129.0</td>\n",
       "      <td>1.0</td>\n",
       "      <td>2.6</td>\n",
       "      <td>2.0</td>\n",
       "      <td>2.0</td>\n",
       "      <td>7.0</td>\n",
       "    </tr>\n",
       "    <tr>\n",
       "      <th>3</th>\n",
       "      <td>37.0</td>\n",
       "      <td>1.0</td>\n",
       "      <td>3.0</td>\n",
       "      <td>130.0</td>\n",
       "      <td>250.0</td>\n",
       "      <td>0.0</td>\n",
       "      <td>0.0</td>\n",
       "      <td>187.0</td>\n",
       "      <td>0.0</td>\n",
       "      <td>3.5</td>\n",
       "      <td>3.0</td>\n",
       "      <td>0.0</td>\n",
       "      <td>3.0</td>\n",
       "    </tr>\n",
       "    <tr>\n",
       "      <th>4</th>\n",
       "      <td>41.0</td>\n",
       "      <td>0.0</td>\n",
       "      <td>2.0</td>\n",
       "      <td>130.0</td>\n",
       "      <td>204.0</td>\n",
       "      <td>0.0</td>\n",
       "      <td>2.0</td>\n",
       "      <td>172.0</td>\n",
       "      <td>0.0</td>\n",
       "      <td>1.4</td>\n",
       "      <td>1.0</td>\n",
       "      <td>0.0</td>\n",
       "      <td>3.0</td>\n",
       "    </tr>\n",
       "  </tbody>\n",
       "</table>\n",
       "</div>"
      ],
      "text/plain": [
       "    age  sex   cp  trestbps   chol  fbs  restecg  thalach  exang  oldpeak  \\\n",
       "0  63.0  1.0  1.0     145.0  233.0  1.0      2.0    150.0    0.0      2.3   \n",
       "1  67.0  1.0  4.0     160.0  286.0  0.0      2.0    108.0    1.0      1.5   \n",
       "2  67.0  1.0  4.0     120.0  229.0  0.0      2.0    129.0    1.0      2.6   \n",
       "3  37.0  1.0  3.0     130.0  250.0  0.0      0.0    187.0    0.0      3.5   \n",
       "4  41.0  0.0  2.0     130.0  204.0  0.0      2.0    172.0    0.0      1.4   \n",
       "\n",
       "   slope   ca  thal  \n",
       "0    3.0  0.0   6.0  \n",
       "1    2.0  3.0   3.0  \n",
       "2    2.0  2.0   7.0  \n",
       "3    3.0  0.0   3.0  \n",
       "4    1.0  0.0   3.0  "
      ]
     },
     "execution_count": 18,
     "metadata": {},
     "output_type": "execute_result"
    }
   ],
   "source": [
    "x_multi.head()"
   ]
  },
  {
   "cell_type": "code",
   "execution_count": 19,
   "id": "e7852f8c",
   "metadata": {},
   "outputs": [
    {
     "data": {
      "text/plain": [
       "0    0\n",
       "1    2\n",
       "2    1\n",
       "3    0\n",
       "4    0\n",
       "Name: class multi, dtype: int64"
      ]
     },
     "execution_count": 19,
     "metadata": {},
     "output_type": "execute_result"
    }
   ],
   "source": [
    "y_multi.head()"
   ]
  },
  {
   "cell_type": "markdown",
   "id": "37fcb790",
   "metadata": {},
   "source": [
    "#### 5.2 Binary"
   ]
  },
  {
   "cell_type": "markdown",
   "id": "df29b91c",
   "metadata": {},
   "source": [
    "We define the x Table and y Table\n",
    "- x Table contains all features (without the outcome)\n",
    "- y Table only contains the Outcome"
   ]
  },
  {
   "cell_type": "code",
   "execution_count": 20,
   "id": "e7a9b2dc",
   "metadata": {},
   "outputs": [],
   "source": [
    "x_binary = HD_binary.drop('class binary', axis=1)       # features\n",
    "y_binary = HD_binary['class binary']                    # labels"
   ]
  },
  {
   "cell_type": "code",
   "execution_count": 21,
   "id": "fed19573",
   "metadata": {},
   "outputs": [
    {
     "data": {
      "text/html": [
       "<div>\n",
       "<style scoped>\n",
       "    .dataframe tbody tr th:only-of-type {\n",
       "        vertical-align: middle;\n",
       "    }\n",
       "\n",
       "    .dataframe tbody tr th {\n",
       "        vertical-align: top;\n",
       "    }\n",
       "\n",
       "    .dataframe thead th {\n",
       "        text-align: right;\n",
       "    }\n",
       "</style>\n",
       "<table border=\"1\" class=\"dataframe\">\n",
       "  <thead>\n",
       "    <tr style=\"text-align: right;\">\n",
       "      <th></th>\n",
       "      <th>age</th>\n",
       "      <th>sex</th>\n",
       "      <th>cp</th>\n",
       "      <th>trestbps</th>\n",
       "      <th>chol</th>\n",
       "      <th>fbs</th>\n",
       "      <th>restecg</th>\n",
       "      <th>thalach</th>\n",
       "      <th>exang</th>\n",
       "      <th>oldpeak</th>\n",
       "      <th>slope</th>\n",
       "      <th>ca</th>\n",
       "      <th>thal</th>\n",
       "    </tr>\n",
       "  </thead>\n",
       "  <tbody>\n",
       "    <tr>\n",
       "      <th>0</th>\n",
       "      <td>63.0</td>\n",
       "      <td>1.0</td>\n",
       "      <td>1.0</td>\n",
       "      <td>145.0</td>\n",
       "      <td>233.0</td>\n",
       "      <td>1.0</td>\n",
       "      <td>2.0</td>\n",
       "      <td>150.0</td>\n",
       "      <td>0.0</td>\n",
       "      <td>2.3</td>\n",
       "      <td>3.0</td>\n",
       "      <td>0.0</td>\n",
       "      <td>6.0</td>\n",
       "    </tr>\n",
       "    <tr>\n",
       "      <th>1</th>\n",
       "      <td>67.0</td>\n",
       "      <td>1.0</td>\n",
       "      <td>4.0</td>\n",
       "      <td>160.0</td>\n",
       "      <td>286.0</td>\n",
       "      <td>0.0</td>\n",
       "      <td>2.0</td>\n",
       "      <td>108.0</td>\n",
       "      <td>1.0</td>\n",
       "      <td>1.5</td>\n",
       "      <td>2.0</td>\n",
       "      <td>3.0</td>\n",
       "      <td>3.0</td>\n",
       "    </tr>\n",
       "    <tr>\n",
       "      <th>2</th>\n",
       "      <td>67.0</td>\n",
       "      <td>1.0</td>\n",
       "      <td>4.0</td>\n",
       "      <td>120.0</td>\n",
       "      <td>229.0</td>\n",
       "      <td>0.0</td>\n",
       "      <td>2.0</td>\n",
       "      <td>129.0</td>\n",
       "      <td>1.0</td>\n",
       "      <td>2.6</td>\n",
       "      <td>2.0</td>\n",
       "      <td>2.0</td>\n",
       "      <td>7.0</td>\n",
       "    </tr>\n",
       "    <tr>\n",
       "      <th>3</th>\n",
       "      <td>37.0</td>\n",
       "      <td>1.0</td>\n",
       "      <td>3.0</td>\n",
       "      <td>130.0</td>\n",
       "      <td>250.0</td>\n",
       "      <td>0.0</td>\n",
       "      <td>0.0</td>\n",
       "      <td>187.0</td>\n",
       "      <td>0.0</td>\n",
       "      <td>3.5</td>\n",
       "      <td>3.0</td>\n",
       "      <td>0.0</td>\n",
       "      <td>3.0</td>\n",
       "    </tr>\n",
       "    <tr>\n",
       "      <th>4</th>\n",
       "      <td>41.0</td>\n",
       "      <td>0.0</td>\n",
       "      <td>2.0</td>\n",
       "      <td>130.0</td>\n",
       "      <td>204.0</td>\n",
       "      <td>0.0</td>\n",
       "      <td>2.0</td>\n",
       "      <td>172.0</td>\n",
       "      <td>0.0</td>\n",
       "      <td>1.4</td>\n",
       "      <td>1.0</td>\n",
       "      <td>0.0</td>\n",
       "      <td>3.0</td>\n",
       "    </tr>\n",
       "  </tbody>\n",
       "</table>\n",
       "</div>"
      ],
      "text/plain": [
       "    age  sex   cp  trestbps   chol  fbs  restecg  thalach  exang  oldpeak  \\\n",
       "0  63.0  1.0  1.0     145.0  233.0  1.0      2.0    150.0    0.0      2.3   \n",
       "1  67.0  1.0  4.0     160.0  286.0  0.0      2.0    108.0    1.0      1.5   \n",
       "2  67.0  1.0  4.0     120.0  229.0  0.0      2.0    129.0    1.0      2.6   \n",
       "3  37.0  1.0  3.0     130.0  250.0  0.0      0.0    187.0    0.0      3.5   \n",
       "4  41.0  0.0  2.0     130.0  204.0  0.0      2.0    172.0    0.0      1.4   \n",
       "\n",
       "   slope   ca  thal  \n",
       "0    3.0  0.0   6.0  \n",
       "1    2.0  3.0   3.0  \n",
       "2    2.0  2.0   7.0  \n",
       "3    3.0  0.0   3.0  \n",
       "4    1.0  0.0   3.0  "
      ]
     },
     "execution_count": 21,
     "metadata": {},
     "output_type": "execute_result"
    }
   ],
   "source": [
    "x_binary.head()"
   ]
  },
  {
   "cell_type": "code",
   "execution_count": 22,
   "id": "5cc52714",
   "metadata": {},
   "outputs": [
    {
     "data": {
      "text/plain": [
       "0    0\n",
       "1    1\n",
       "2    1\n",
       "3    0\n",
       "4    0\n",
       "Name: class binary, dtype: int32"
      ]
     },
     "execution_count": 22,
     "metadata": {},
     "output_type": "execute_result"
    }
   ],
   "source": [
    "y_binary.head()"
   ]
  },
  {
   "cell_type": "markdown",
   "id": "296d32ac",
   "metadata": {},
   "source": [
    "### 6 Analysis of the different classes"
   ]
  },
  {
   "cell_type": "code",
   "execution_count": 23,
   "id": "0bfbfa97",
   "metadata": {},
   "outputs": [
    {
     "data": {
      "image/png": "[encoded data removed]",
      "text/plain": [
       "<Figure size 432x288 with 1 Axes>"
      ]
     },
     "metadata": {
      "needs_background": "light"
     },
     "output_type": "display_data"
    }
   ],
   "source": [
    "sns.countplot(y_multi);"
   ]
  },
  {
   "cell_type": "code",
   "execution_count": 24,
   "id": "e4976a1f",
   "metadata": {},
   "outputs": [
    {
     "name": "stdout",
     "output_type": "stream",
     "text": [
      "The percentage of 0 is: 53.87 %\n",
      "The percentage of 1 is: 18.18 %\n",
      "The percentage of 2 is: 11.78 %\n",
      "The percentage of 3 is: 11.78 %\n",
      "The percentage of 4 is: 4.38 %\n"
     ]
    }
   ],
   "source": [
    "print('The percentage of 0 is:', '{:.2f}'.format(len(HD_multi[HD_multi['class multi']==0])/len(y_multi)*100), '%')\n",
    "print('The percentage of 1 is:', '{:.2f}'.format(len(HD_multi[HD_multi['class multi']==1])/len(y_multi)*100), '%')\n",
    "print('The percentage of 2 is:', '{:.2f}'.format(len(HD_multi[HD_multi['class multi']==2])/len(y_multi)*100), '%')\n",
    "print('The percentage of 3 is:', '{:.2f}'.format(len(HD_multi[HD_multi['class multi']==3])/len(y_multi)*100), '%')\n",
    "print('The percentage of 4 is:', '{:.2f}'.format(len(HD_multi[HD_multi['class multi']==4])/len(y_multi)*100), '%')"
   ]
  },
  {
   "cell_type": "code",
   "execution_count": 25,
   "id": "fe85ff6e",
   "metadata": {},
   "outputs": [
    {
     "data": {
      "image/png": "[encoded data removed]",
      "text/plain": [
       "<Figure size 432x288 with 1 Axes>"
      ]
     },
     "metadata": {
      "needs_background": "light"
     },
     "output_type": "display_data"
    }
   ],
   "source": [
    "sns.countplot(y_binary);"
   ]
  },
  {
   "cell_type": "code",
   "execution_count": 26,
   "id": "2018bfc0",
   "metadata": {},
   "outputs": [
    {
     "name": "stdout",
     "output_type": "stream",
     "text": [
      "The percentage of 0 is: 53.87 %\n",
      "The percentage of 1 is: 46.13 %\n"
     ]
    }
   ],
   "source": [
    "print('The percentage of 0 is:', '{:.2f}'.format(len(HD_binary[HD_binary['class binary']==0])/len(y_binary)*100), '%')\n",
    "print('The percentage of 1 is:', '{:.2f}'.format(len(HD_binary[HD_binary['class binary']==1])/len(y_binary)*100), '%')"
   ]
  },
  {
   "cell_type": "markdown",
   "id": "9ef80546",
   "metadata": {},
   "source": [
    "### 7 Split the Dataset into Train-Validation-Test"
   ]
  },
  {
   "cell_type": "markdown",
   "id": "114b4751",
   "metadata": {},
   "source": [
    "#### 7.1 Multi"
   ]
  },
  {
   "attachments": {},
   "cell_type": "markdown",
   "id": "bdcafeb8",
   "metadata": {},
   "source": []
  },
  {
   "cell_type": "code",
   "execution_count": 27,
   "id": "2706102c",
   "metadata": {},
   "outputs": [],
   "source": [
    "from sklearn.model_selection import train_test_split\n",
    "\n",
    "#split in Train (0.7) & in Test (0.3)\n",
    "# random_state means the code will always have the same training set (in order to reproduce results)\n",
    "x_multi_train, x_multi_test, y_multi_train, y_multi_test = train_test_split(x_multi, y_multi, test_size=0.3, random_state=42, stratify=y_multi)\n",
    "\n",
    "#Split Train (0.7) into Train (0.5) & Validation (0.2)\n",
    "# random_state means the code will always have the same training set (in order to reproduce results)\n",
    "x_multi_train_val, x_multi_validation, y_multi_train_val, y_multi_validation = train_test_split(x_multi_train, y_multi_train, test_size=(0.2/0.7), random_state=42, stratify=y_multi_train)"
   ]
  },
  {
   "cell_type": "code",
   "execution_count": 28,
   "id": "f55dfee0",
   "metadata": {},
   "outputs": [
    {
     "name": "stdout",
     "output_type": "stream",
     "text": [
      "Shape of x_multi_train             : (207, 13)\n",
      "Shape of x_multi_test              : (90, 13)\n",
      "Shape of y_multi_train             : (207,)\n",
      "Shape of y_multi_test              : (90,)\n",
      "\n",
      "Lenght of Dataset                  :  297\n",
      "Percentage of Train_multi          :  69.70 %\n",
      "Percentage of Test_multi           :  30.30 %\n",
      "Percentage of x_multi_train_val    :  49.49 %\n",
      "Percentage of Validation_multi     :  20.20 %\n"
     ]
    }
   ],
   "source": [
    "#Quick check if the split is correct:\n",
    "print(\"Shape of x_multi_train             : \"+str(x_multi_train.shape))\n",
    "print(\"Shape of x_multi_test              : \"+str(x_multi_test.shape))\n",
    "print(\"Shape of y_multi_train             : \"+str(y_multi_train.shape))\n",
    "print(\"Shape of y_multi_test              : \"+str(y_multi_test.shape))\n",
    "print('')\n",
    "print(\"Lenght of Dataset                  : \", len(x_multi))\n",
    "print(\"Percentage of Train_multi          : \", '{:.2f}'.format(len(x_multi_train)/len(x_multi)*100), '%')\n",
    "print(\"Percentage of Test_multi           : \", '{:.2f}'.format(len(x_multi_test)/len(x_multi)*100), '%')\n",
    "\n",
    "print(\"Percentage of x_multi_train_val    : \", '{:.2f}'.format(len(x_multi_train_val)/len(x_multi)*100), '%')\n",
    "print(\"Percentage of Validation_multi     : \", '{:.2f}'.format(len(x_multi_validation)/len(x_multi)*100), '%')\n"
   ]
  },
  {
   "cell_type": "markdown",
   "id": "892aec30",
   "metadata": {},
   "source": [
    "#### 7.2 Binary"
   ]
  },
  {
   "cell_type": "code",
   "execution_count": 29,
   "id": "8cd58d00",
   "metadata": {},
   "outputs": [],
   "source": [
    "from sklearn.model_selection import train_test_split\n",
    "\n",
    "#Split in Train (0.7) & in Test (0.3)\n",
    "#random_state means the code will always have the same training set (in order to reproduce results)\n",
    "x_binary_train, x_binary_test, y_binary_train, y_binary_test = train_test_split(x_binary, y_binary, test_size=0.3, random_state=42, stratify=y_binary)\n",
    "\n",
    "#Split Train (0.7) into Train (0.5) & Validation (0.2)\n",
    "#random_state means the code will always have the same training set (in order to reproduce results)\n",
    "x_binary_train_val, x_binary_validation, y_binary_train_val, y_binary_validation = train_test_split(x_binary_train, y_binary_train, test_size=(0.2/0.7), random_state=42,stratify=y_binary_train )"
   ]
  },
  {
   "cell_type": "code",
   "execution_count": 30,
   "id": "57c328ba",
   "metadata": {},
   "outputs": [
    {
     "name": "stdout",
     "output_type": "stream",
     "text": [
      "Shape of x_binary_train             : (207, 13)\n",
      "Shape of x_binary_test              : (90, 13)\n",
      "Shape of y_binary_train             : (207,)\n",
      "Shape of y_binary_test              : (90,)\n",
      "\n",
      "Lenght of Dataset                   :  297\n",
      "Percentage of Train_binary          :  69.70 %\n",
      "Percentage of Test_binary           :  30.30 %\n",
      "Percentage of x_binary_train_val    :  49.49 %\n",
      "Percentage of Validation_binary     :  20.20 %\n"
     ]
    }
   ],
   "source": [
    "#Quick check if the split is correct:\n",
    "print(\"Shape of x_binary_train             : \"+str(x_binary_train.shape))\n",
    "print(\"Shape of x_binary_test              : \"+str(x_binary_test.shape))\n",
    "print(\"Shape of y_binary_train             : \"+str(y_binary_train.shape))\n",
    "print(\"Shape of y_binary_test              : \"+str(y_binary_test.shape))\n",
    "print('')\n",
    "print(\"Lenght of Dataset                   : \", len(x_binary))\n",
    "print(\"Percentage of Train_binary          : \", '{:.2f}'.format(len(x_binary_train)/len(x_binary)*100), '%')\n",
    "print(\"Percentage of Test_binary           : \", '{:.2f}'.format(len(x_binary_test)/len(x_binary)*100), '%')\n",
    "\n",
    "print(\"Percentage of x_binary_train_val    : \", '{:.2f}'.format(len(x_binary_train_val)/len(x_binary)*100), '%')\n",
    "print(\"Percentage of Validation_binary     : \", '{:.2f}'.format(len(x_binary_validation)/len(x_binary)*100), '%')\n"
   ]
  },
  {
   "cell_type": "markdown",
   "id": "ac948caf",
   "metadata": {},
   "source": [
    "### 8 Implementing the Models"
   ]
  },
  {
   "attachments": {},
   "cell_type": "markdown",
   "id": "b0900971",
   "metadata": {},
   "source": [
    "Overview of the applied Models:\n",
    "\n",
    "        8.1 Decision Tree Binary:\n",
    "                \n",
    "                8.1.1 Basic Decision Tree -> Train & Test + Max Depth = 3\n",
    "                8.1.2 Decision Tree mit Cross Validation (KFold: Max Depth und Hyperparameter Tuning)\n",
    "        8.2 Decision Tree Multiclass:\n",
    "                \n",
    "                8.2.1 Basic Decision Tree -> Train & Test + Max Depth = 3\n",
    "                8.2.2 Decision Tree mit Cross Validation (KFold: Max Depth und Hyperparameter Tuning)\n",
    "        8.3 Random Forest mit Binary:\n",
    "\n",
    "                8.3.1 Basic Random Forest  -> Train & Test + Max Depth = 3\n",
    "                8.3.2 Random Forest mit Cross Validation (KFold: Max Depth und Hyperparameter Tuning)\n",
    "        8.4 Random Forest mit Multiclass:\n",
    "        \n",
    "                8.4.1 Basic Random Forest  -> Train & Test + Max Depth = 3\n",
    "                8.4.2 Random Forest mit Cross Validation (KFold: Max Depth und Hyperparameter Tuning)"
   ]
  },
  {
   "attachments": {},
   "cell_type": "markdown",
   "id": "cc202812",
   "metadata": {},
   "source": [
    "We use the following Model Abbreviations:\n",
    "- dtb_basic\n",
    "- dtb_cv\n",
    "- dtm_basic\n",
    "- dtm_cv\n",
    "- rfb_basic\n",
    "- rfb_cv\n",
    "- rfm_basic\n",
    "- rfm_cv"
   ]
  },
  {
   "attachments": {},
   "cell_type": "markdown",
   "id": "e5f2ad40",
   "metadata": {},
   "source": [
    "For each applied Model we will save the following Performance Metrics:\n",
    "- Model\n",
    "- Max Depth\n",
    "- Accuracy in Sample\n",
    "- Accuracy out of Sample\n",
    "- Precision Score\n",
    "- Recall Score\n",
    "- F1 Score"
   ]
  },
  {
   "cell_type": "code",
   "execution_count": 206,
   "id": "11122bfd",
   "metadata": {},
   "outputs": [],
   "source": [
    "Results = []"
   ]
  },
  {
   "cell_type": "markdown",
   "id": "4a79e02b",
   "metadata": {},
   "source": [
    "#### 8.1 Decision Tree Binary"
   ]
  },
  {
   "cell_type": "markdown",
   "id": "14fea073",
   "metadata": {},
   "source": [
    "##### 8.1.1 Decision Tree Binary (dtb_basic)"
   ]
  },
  {
   "attachments": {},
   "cell_type": "markdown",
   "id": "a8c611ee",
   "metadata": {},
   "source": [
    "Create Basic Decision Tree for Binary, with Default Parameters and Max Depth = 3"
   ]
  },
  {
   "cell_type": "code",
   "execution_count": 32,
   "id": "6653f612",
   "metadata": {},
   "outputs": [],
   "source": [
    "from sklearn.tree import DecisionTreeClassifier\n",
    "\n",
    "dtb_basic = DecisionTreeClassifier(max_depth=3, random_state=2)\n",
    "dtb_basic.fit(x_binary_train, y_binary_train);"
   ]
  },
  {
   "cell_type": "code",
   "execution_count": 75,
   "id": "6e3d3289",
   "metadata": {},
   "outputs": [
    {
     "name": "stdout",
     "output_type": "stream",
     "text": [
      "              precision    recall  f1-score   support\n",
      "\n",
      "           0      0.714     0.833     0.769        48\n",
      "           1      0.765     0.619     0.684        42\n",
      "\n",
      "    accuracy                          0.733        90\n",
      "   macro avg      0.739     0.726     0.727        90\n",
      "weighted avg      0.738     0.733     0.730        90\n",
      "\n"
     ]
    }
   ],
   "source": [
    "from sklearn.metrics import classification_report\n",
    "\n",
    "y_predict = dtb_basic.predict(x_binary_test)\n",
    "dtb_basic_report = classification_report(y_binary_test, y_predict, output_dict=True, digits=3)\n",
    "print(classification_report(y_binary_test, y_predict, digits=3))"
   ]
  },
  {
   "cell_type": "code",
   "execution_count": 118,
   "id": "313c039b",
   "metadata": {},
   "outputs": [
    {
     "data": {
      "image/png": "[encoded data removed]",
      "text/plain": [
       "<Figure size 360x360 with 2 Axes>"
      ]
     },
     "metadata": {
      "needs_background": "light"
     },
     "output_type": "display_data"
    }
   ],
   "source": [
    "from sklearn.metrics import confusion_matrix\n",
    "from sklearn.metrics import plot_confusion_matrix\n",
    "cm = confusion_matrix(y_binary_test, y_predict)\n",
    "\n",
    "fig, ax = plt.subplots(figsize=(5, 5))\n",
    "plot_confusion_matrix(dtb_basic, x_binary_test, y_binary_test, display_labels= None, cmap=plt.cm.Blues, ax=ax)\n",
    "plt.show()"
   ]
  },
  {
   "cell_type": "code",
   "execution_count": 214,
   "id": "65836394",
   "metadata": {},
   "outputs": [
    {
     "data": {
      "text/html": [
       "<div>\n",
       "<style scoped>\n",
       "    .dataframe tbody tr th:only-of-type {\n",
       "        vertical-align: middle;\n",
       "    }\n",
       "\n",
       "    .dataframe tbody tr th {\n",
       "        vertical-align: top;\n",
       "    }\n",
       "\n",
       "    .dataframe thead th {\n",
       "        text-align: right;\n",
       "    }\n",
       "</style>\n",
       "<table border=\"1\" class=\"dataframe\">\n",
       "  <thead>\n",
       "    <tr style=\"text-align: right;\">\n",
       "      <th></th>\n",
       "      <th>Model</th>\n",
       "      <th>max_depth</th>\n",
       "      <th>accuracy_in_sample</th>\n",
       "      <th>accuracy_out_sample</th>\n",
       "      <th>Precision</th>\n",
       "      <th>Recall</th>\n",
       "      <th>F1</th>\n",
       "    </tr>\n",
       "  </thead>\n",
       "  <tbody>\n",
       "    <tr>\n",
       "      <th>0</th>\n",
       "      <td>dtb_basic</td>\n",
       "      <td>3</td>\n",
       "      <td>0.879227</td>\n",
       "      <td>0.733333</td>\n",
       "      <td>0.737815</td>\n",
       "      <td>0.733333</td>\n",
       "      <td>0.729555</td>\n",
       "    </tr>\n",
       "  </tbody>\n",
       "</table>\n",
       "</div>"
      ],
      "text/plain": [
       "       Model  max_depth  accuracy_in_sample  accuracy_out_sample  Precision  \\\n",
       "0  dtb_basic          3            0.879227             0.733333   0.737815   \n",
       "\n",
       "     Recall        F1  \n",
       "0  0.733333  0.729555  "
      ]
     },
     "execution_count": 214,
     "metadata": {},
     "output_type": "execute_result"
    }
   ],
   "source": [
    "from sklearn.metrics import accuracy_score, recall_score, precision_score, f1_score\n",
    "model = 'dtb_basic'\n",
    "max_depth = 3\n",
    "accuracy_in_sample = dtb_basic.score(x_binary_train, y_binary_train)\n",
    "accuracy_out_sample = dtb_basic.score(x_binary_test, y_binary_test)\n",
    "Precision = dtb_basic_report['weighted avg']['precision'] \n",
    "Recall = dtb_basic_report['weighted avg']['recall']\n",
    "F1 = dtb_basic_report['weighted avg']['f1-score']\n",
    "cm = confusion_matrix(y_binary_test, y_predict)\n",
    "\n",
    "#Append the Results from the Loop to the existing Dataframe:\n",
    "dtb_basic_temp = [(model, max_depth, accuracy_in_sample, accuracy_out_sample, Precision, Recall, F1)]\n",
    "dtb_basic_results = pd.DataFrame(dtb_basic_temp)\n",
    "dtb_basic_results.rename(columns= {0:'Model', 1:'max_depth', 2:'accuracy_in_sample', 3:'accuracy_out_sample', 4:'Precision', 5:'Recall', 6:'F1'}, inplace = True)\n",
    "dtb_basic_results"
   ]
  },
  {
   "cell_type": "code",
   "execution_count": null,
   "id": "93d90527",
   "metadata": {},
   "outputs": [],
   "source": [
    "plt.figure(figsize = (16, 12))\n",
    "plot_tree(dtc_tuned, filled = True, rounded = True, feature_names = feature_names, fontsize = 8, class_names = classnames)\n",
    "plt.show()"
   ]
  },
  {
   "cell_type": "markdown",
   "id": "2abf05b3",
   "metadata": {},
   "source": [
    "##### 8.1.2 Decision Tree Binary with Cross Validation (dtb_cv)"
   ]
  },
  {
   "cell_type": "code",
   "execution_count": 122,
   "id": "ae156259",
   "metadata": {},
   "outputs": [
    {
     "name": "stdout",
     "output_type": "stream",
     "text": [
      "Fitting 15 folds for each of 440 candidates, totalling 6600 fits\n"
     ]
    },
    {
     "name": "stderr",
     "output_type": "stream",
     "text": [
      "[Parallel(n_jobs=1)]: Using backend SequentialBackend with 1 concurrent workers.\n"
     ]
    },
    {
     "name": "stdout",
     "output_type": "stream",
     "text": [
      "Best Model:\n",
      "{'criterion': 'entropy', 'max_depth': 5, 'max_features': 'sqrt', 'min_samples_split': 15}\n",
      "Best Score:\n",
      "0.8052264808362372\n"
     ]
    },
    {
     "name": "stderr",
     "output_type": "stream",
     "text": [
      "[Parallel(n_jobs=1)]: Done 6600 out of 6600 | elapsed:   43.1s finished\n"
     ]
    }
   ],
   "source": [
    "from sklearn.tree import DecisionTreeClassifier\n",
    "from sklearn.model_selection import GridSearchCV\n",
    "from sklearn.model_selection import RepeatedStratifiedKFold\n",
    "from sklearn.metrics import accuracy_score\n",
    "from sklearn.metrics import make_scorer\n",
    "\n",
    "df_classifier = DecisionTreeClassifier(random_state=2)\n",
    "\n",
    "cv_method = RepeatedStratifiedKFold(n_splits=5, \n",
    "                                    n_repeats=3, \n",
    "                                    random_state=2)\n",
    "\n",
    "params_DT = {'criterion': ['gini', 'entropy'],\n",
    "             'max_depth': [1, 2, 3, 4, 5, 6, 7, 8, 10, 15, 20],\n",
    "             'min_samples_split': [2,3,4,5,6,7,8,9,10,15],\n",
    "             'max_features': ['sqrt','log2']}\n",
    "\n",
    "dtb_cv = GridSearchCV(estimator=df_classifier, \n",
    "                     param_grid=params_DT, \n",
    "                     cv=cv_method,\n",
    "                     verbose=1, #output Messages\n",
    "                     scoring='accuracy')\n",
    "\n",
    "dtb_cv.fit(x_binary_train, y_binary_train)\n",
    "print('Best Model:')\n",
    "print(dtb_cv.best_params_)\n",
    "print('Best Score:')\n",
    "print(dtb_cv.best_score_)"
   ]
  },
  {
   "cell_type": "code",
   "execution_count": 123,
   "id": "d27be95c",
   "metadata": {},
   "outputs": [
    {
     "name": "stdout",
     "output_type": "stream",
     "text": [
      "              precision    recall  f1-score   support\n",
      "\n",
      "           0      0.772     0.917     0.838        48\n",
      "           1      0.879     0.690     0.773        42\n",
      "\n",
      "    accuracy                          0.811        90\n",
      "   macro avg      0.825     0.804     0.806        90\n",
      "weighted avg      0.822     0.811     0.808        90\n",
      "\n"
     ]
    }
   ],
   "source": [
    "dtb_cv_best = DecisionTreeClassifier(random_state=2, **dtb_cv.best_params_).fit(x_binary_train, y_binary_train)\n",
    "y_pred = dtb_cv_best.predict(x_binary_test)\n",
    "dtb_cv_report = classification_report(y_binary_test,y_pred, digits=3, output_dict=True)\n",
    "print(classification_report(y_binary_test,y_pred, digits=3))"
   ]
  },
  {
   "cell_type": "code",
   "execution_count": 127,
   "id": "e3bd810c",
   "metadata": {},
   "outputs": [
    {
     "data": {
      "image/png": "[encoded data removed]",
      "text/plain": [
       "<Figure size 360x360 with 2 Axes>"
      ]
     },
     "metadata": {
      "needs_background": "light"
     },
     "output_type": "display_data"
    }
   ],
   "source": [
    "from sklearn.metrics import confusion_matrix\n",
    "from sklearn.metrics import plot_confusion_matrix\n",
    "\n",
    "fig, ax = plt.subplots(figsize=(5, 5))\n",
    "plot_confusion_matrix(dtb_cv_best, x_binary_test, y_binary_test, display_labels= None, cmap=plt.cm.Blues, ax=ax)\n",
    "plt.show()"
   ]
  },
  {
   "cell_type": "code",
   "execution_count": 215,
   "id": "ff62ddf8",
   "metadata": {},
   "outputs": [
    {
     "data": {
      "text/html": [
       "<div>\n",
       "<style scoped>\n",
       "    .dataframe tbody tr th:only-of-type {\n",
       "        vertical-align: middle;\n",
       "    }\n",
       "\n",
       "    .dataframe tbody tr th {\n",
       "        vertical-align: top;\n",
       "    }\n",
       "\n",
       "    .dataframe thead th {\n",
       "        text-align: right;\n",
       "    }\n",
       "</style>\n",
       "<table border=\"1\" class=\"dataframe\">\n",
       "  <thead>\n",
       "    <tr style=\"text-align: right;\">\n",
       "      <th></th>\n",
       "      <th>Model</th>\n",
       "      <th>max_depth</th>\n",
       "      <th>accuracy_in_sample</th>\n",
       "      <th>accuracy_out_sample</th>\n",
       "      <th>Precision</th>\n",
       "      <th>Recall</th>\n",
       "      <th>F1</th>\n",
       "    </tr>\n",
       "  </thead>\n",
       "  <tbody>\n",
       "    <tr>\n",
       "      <th>0</th>\n",
       "      <td>dtb_cv</td>\n",
       "      <td>5</td>\n",
       "      <td>0.805226</td>\n",
       "      <td>0.811111</td>\n",
       "      <td>0.821797</td>\n",
       "      <td>0.811111</td>\n",
       "      <td>0.807873</td>\n",
       "    </tr>\n",
       "  </tbody>\n",
       "</table>\n",
       "</div>"
      ],
      "text/plain": [
       "    Model  max_depth  accuracy_in_sample  accuracy_out_sample  Precision  \\\n",
       "0  dtb_cv          5            0.805226             0.811111   0.821797   \n",
       "\n",
       "     Recall        F1  \n",
       "0  0.811111  0.807873  "
      ]
     },
     "execution_count": 215,
     "metadata": {},
     "output_type": "execute_result"
    }
   ],
   "source": [
    "model = 'dtb_cv'\n",
    "max_depth = dtb_cv.best_params_['max_depth']\n",
    "accuracy_in_sample = dtb_cv.best_score_ \n",
    "accuracy_out_sample = dtb_cv_best.score(x_binary_test, y_binary_test)\n",
    "Precision = dtb_cv_report['weighted avg']['precision'] \n",
    "Recall = dtb_cv_report['weighted avg']['recall']\n",
    "F1 = dtb_cv_report['weighted avg']['f1-score']\n",
    "\n",
    "#Append the Results from the Loop to the existing Dataframe:\n",
    "dtb_cv_temp = [(model, max_depth, accuracy_in_sample, accuracy_out_sample, Precision, Recall, F1)]\n",
    "dtb_cv_results = pd.DataFrame(dtb_cv_temp)\n",
    "dtb_cv_results.rename(columns= {0:'Model', 1:'max_depth', 2:'accuracy_in_sample', 3:'accuracy_out_sample', 4:'Precision', 5:'Recall', 6:'F1'}, inplace = True)\n",
    "dtb_cv_results"
   ]
  },
  {
   "cell_type": "code",
   "execution_count": 129,
   "id": "68ed7865",
   "metadata": {},
   "outputs": [
    {
     "data": {
      "image/png": "[encoded data removed]",
      "text/plain": [
       "<Figure size 432x288 with 1 Axes>"
      ]
     },
     "metadata": {
      "needs_background": "light"
     },
     "output_type": "display_data"
    }
   ],
   "source": [
    "#ACHTUNG HIER WIRD EIN AVERAGE GERECHNET, WIR HABEN OBEN NEU AUCH NOCH SQRT UND LOG2? \n",
    "results_DT = pd.DataFrame(dtb_cv.cv_results_['params'])\n",
    "results_DT['test_score'] = dtb_cv.cv_results_['mean_test_score']\n",
    "results_DT.columns\n",
    "\n",
    "for i in ['gini', 'entropy']:\n",
    "    temp = results_DT[results_DT['criterion'] == i]\n",
    "    temp_average = temp.groupby('max_depth').agg({'test_score': 'mean'})\n",
    "    plt.plot(temp_average, marker = '.', label = i)\n",
    "    \n",
    "plt.legend()\n",
    "plt.xlabel('Max Depth')\n",
    "plt.ylabel(\"Mean CV Score\")\n",
    "plt.title(\"DT Performance Comparison\")\n",
    "plt.show()"
   ]
  },
  {
   "cell_type": "markdown",
   "id": "bf41b848",
   "metadata": {},
   "source": [
    "#### 8.2 Decision Tree Multiclass"
   ]
  },
  {
   "cell_type": "markdown",
   "id": "0dc36768",
   "metadata": {},
   "source": [
    "##### 8.2.1 Decision Tree Basic (dtm_basic)"
   ]
  },
  {
   "cell_type": "code",
   "execution_count": 130,
   "id": "3ad060fc",
   "metadata": {},
   "outputs": [],
   "source": [
    "from sklearn.tree import DecisionTreeClassifier\n",
    "\n",
    "dtm_basic = DecisionTreeClassifier(criterion = 'entropy',max_depth=3, random_state=2)\n",
    "dtm_basic.fit(x_multi_train, y_multi_train);"
   ]
  },
  {
   "cell_type": "code",
   "execution_count": 131,
   "id": "75192b30",
   "metadata": {},
   "outputs": [
    {
     "name": "stdout",
     "output_type": "stream",
     "text": [
      "              precision    recall  f1-score   support\n",
      "\n",
      "           0      0.701     0.979     0.817        48\n",
      "           1      0.000     0.000     0.000        16\n",
      "           2      0.100     0.182     0.129        11\n",
      "           3      0.000     0.000     0.000        11\n",
      "           4      0.000     0.000     0.000         4\n",
      "\n",
      "    accuracy                          0.544        90\n",
      "   macro avg      0.160     0.232     0.189        90\n",
      "weighted avg      0.386     0.544     0.452        90\n",
      "\n"
     ]
    },
    {
     "name": "stderr",
     "output_type": "stream",
     "text": [
      "c:\\Users\\lione\\anaconda3\\lib\\site-packages\\sklearn\\metrics\\_classification.py:1221: UndefinedMetricWarning: Precision and F-score are ill-defined and being set to 0.0 in labels with no predicted samples. Use `zero_division` parameter to control this behavior.\n",
      "  _warn_prf(average, modifier, msg_start, len(result))\n"
     ]
    }
   ],
   "source": [
    "from sklearn.metrics import classification_report, accuracy_score\n",
    "\n",
    "y_predict = dtm_basic.predict(x_multi_test)\n",
    "dtm_basic_report = classification_report(y_multi_test, y_predict, output_dict=True, digits=3)\n",
    "print(classification_report(y_multi_test, y_predict, digits=3))"
   ]
  },
  {
   "cell_type": "code",
   "execution_count": 133,
   "id": "77967df1",
   "metadata": {},
   "outputs": [
    {
     "data": {
      "image/png": "[encoded data removed]",
      "text/plain": [
       "<Figure size 360x360 with 2 Axes>"
      ]
     },
     "metadata": {
      "needs_background": "light"
     },
     "output_type": "display_data"
    }
   ],
   "source": [
    "from sklearn.metrics import confusion_matrix\n",
    "from sklearn.metrics import plot_confusion_matrix\n",
    "\n",
    "fig, ax = plt.subplots(figsize=(5, 5))\n",
    "plot_confusion_matrix(dtm_basic, x_multi_test, y_multi_test, display_labels= None, cmap=plt.cm.Blues, ax=ax)\n",
    "plt.show()"
   ]
  },
  {
   "cell_type": "code",
   "execution_count": 216,
   "id": "a4410337",
   "metadata": {},
   "outputs": [
    {
     "data": {
      "text/html": [
       "<div>\n",
       "<style scoped>\n",
       "    .dataframe tbody tr th:only-of-type {\n",
       "        vertical-align: middle;\n",
       "    }\n",
       "\n",
       "    .dataframe tbody tr th {\n",
       "        vertical-align: top;\n",
       "    }\n",
       "\n",
       "    .dataframe thead th {\n",
       "        text-align: right;\n",
       "    }\n",
       "</style>\n",
       "<table border=\"1\" class=\"dataframe\">\n",
       "  <thead>\n",
       "    <tr style=\"text-align: right;\">\n",
       "      <th></th>\n",
       "      <th>Model</th>\n",
       "      <th>max_depth</th>\n",
       "      <th>accuracy_in_sample</th>\n",
       "      <th>accuracy_out_sample</th>\n",
       "      <th>Precision</th>\n",
       "      <th>Recall</th>\n",
       "      <th>F1</th>\n",
       "    </tr>\n",
       "  </thead>\n",
       "  <tbody>\n",
       "    <tr>\n",
       "      <th>0</th>\n",
       "      <td>dtm_basic</td>\n",
       "      <td>3</td>\n",
       "      <td>0.642512</td>\n",
       "      <td>0.544444</td>\n",
       "      <td>0.386352</td>\n",
       "      <td>0.544444</td>\n",
       "      <td>0.451713</td>\n",
       "    </tr>\n",
       "  </tbody>\n",
       "</table>\n",
       "</div>"
      ],
      "text/plain": [
       "       Model  max_depth  accuracy_in_sample  accuracy_out_sample  Precision  \\\n",
       "0  dtm_basic          3            0.642512             0.544444   0.386352   \n",
       "\n",
       "     Recall        F1  \n",
       "0  0.544444  0.451713  "
      ]
     },
     "execution_count": 216,
     "metadata": {},
     "output_type": "execute_result"
    }
   ],
   "source": [
    "model = 'dtm_basic'\n",
    "max_depth = 3\n",
    "accuracy_in_sample = dtm_basic.score(x_multi_train, y_multi_train)\n",
    "accuracy_out_sample = dtm_basic.score(x_multi_test, y_multi_test)\n",
    "Precision = dtm_basic_report['weighted avg']['precision'] \n",
    "Recall = dtm_basic_report['weighted avg']['recall']\n",
    "F1 = dtm_basic_report['weighted avg']['f1-score']\n",
    "\n",
    "\n",
    "#Append the Results from the Loop to the existing Dataframe:\n",
    "dtm_basic_temp = [(model, max_depth, accuracy_in_sample, accuracy_out_sample, Precision, Recall, F1)]\n",
    "dtm_basic_results = pd.DataFrame(dtm_basic_temp)\n",
    "dtm_basic_results.rename(columns= {0:'Model', 1:'max_depth', 2:'accuracy_in_sample', 3:'accuracy_out_sample', 4:'Precision', 5:'Recall', 6:'F1'}, inplace = True)\n",
    "dtm_basic_results"
   ]
  },
  {
   "cell_type": "markdown",
   "id": "0810d07b",
   "metadata": {},
   "source": [
    "##### 8.2.2 Decision Tree Multiclass Cross Validation (dtm_cv)"
   ]
  },
  {
   "cell_type": "code",
   "execution_count": 115,
   "id": "f6476cb2",
   "metadata": {},
   "outputs": [
    {
     "name": "stdout",
     "output_type": "stream",
     "text": [
      "Fitting 15 folds for each of 440 candidates, totalling 6600 fits\n"
     ]
    },
    {
     "name": "stderr",
     "output_type": "stream",
     "text": [
      "[Parallel(n_jobs=1)]: Using backend SequentialBackend with 1 concurrent workers.\n"
     ]
    },
    {
     "name": "stdout",
     "output_type": "stream",
     "text": [
      "Best Model:\n",
      "{'criterion': 'entropy', 'max_depth': 4, 'max_features': 'sqrt', 'min_samples_split': 8}\n",
      "Best Score:\n",
      "0.5783972125435539\n"
     ]
    },
    {
     "name": "stderr",
     "output_type": "stream",
     "text": [
      "[Parallel(n_jobs=1)]: Done 6600 out of 6600 | elapsed:   42.5s finished\n"
     ]
    }
   ],
   "source": [
    "from sklearn.tree import DecisionTreeClassifier\n",
    "from sklearn.model_selection import GridSearchCV\n",
    "from sklearn.model_selection import RepeatedStratifiedKFold\n",
    "from sklearn.metrics import accuracy_score\n",
    "from sklearn.metrics import make_scorer\n",
    "\n",
    "df_classifier = DecisionTreeClassifier(random_state=2)\n",
    "\n",
    "cv_method = RepeatedStratifiedKFold(n_splits=5, \n",
    "                                    n_repeats=3, \n",
    "                                    random_state=2)\n",
    "\n",
    "params_DT = {'criterion': ['gini', 'entropy'],\n",
    "             'max_depth': [1, 2, 3, 4, 5, 6, 7, 8, 10, 15, 20],\n",
    "             'min_samples_split': [2, 3,4,5,6,7,8,9,10,15],\n",
    "             'max_features': ['sqrt','log2']}\n",
    "\n",
    "dtm_cv = GridSearchCV(estimator=df_classifier, \n",
    "                     param_grid=params_DT, \n",
    "                     cv=cv_method,\n",
    "                     verbose=1, #output Messages\n",
    "                     scoring='accuracy')\n",
    "\n",
    "dtm_cv.fit(x_multi_train, y_multi_train)\n",
    "print('Best Model:')\n",
    "print(dtm_cv.best_params_)\n",
    "print('Best Score:')\n",
    "print(dtm_cv.best_score_)"
   ]
  },
  {
   "cell_type": "code",
   "execution_count": 136,
   "id": "03562e4c",
   "metadata": {},
   "outputs": [
    {
     "name": "stdout",
     "output_type": "stream",
     "text": [
      "              precision    recall  f1-score   support\n",
      "\n",
      "           0      0.719     0.958     0.821        48\n",
      "           1      0.167     0.062     0.091        16\n",
      "           2      0.111     0.091     0.100        11\n",
      "           3      0.273     0.273     0.273        11\n",
      "           4      0.000     0.000     0.000         4\n",
      "\n",
      "    accuracy                          0.567        90\n",
      "   macro avg      0.254     0.277     0.257        90\n",
      "weighted avg      0.460     0.567     0.500        90\n",
      "\n"
     ]
    },
    {
     "name": "stderr",
     "output_type": "stream",
     "text": [
      "c:\\Users\\lione\\anaconda3\\lib\\site-packages\\sklearn\\metrics\\_classification.py:1221: UndefinedMetricWarning: Precision and F-score are ill-defined and being set to 0.0 in labels with no predicted samples. Use `zero_division` parameter to control this behavior.\n",
      "  _warn_prf(average, modifier, msg_start, len(result))\n"
     ]
    }
   ],
   "source": [
    "dtm_cv_best = DecisionTreeClassifier(random_state=2, **dtm_cv.best_params_).fit(x_multi_train, y_multi_train)\n",
    "y_pred = dtm_cv.predict(x_multi_test)\n",
    "dtm_cv_report = classification_report(y_multi_test, y_pred, output_dict=True, digits=3)\n",
    "print(classification_report(y_multi_test, y_pred, digits=3))"
   ]
  },
  {
   "cell_type": "code",
   "execution_count": 137,
   "id": "2fdec6d4",
   "metadata": {},
   "outputs": [
    {
     "data": {
      "image/png": "[encoded data removed]",
      "text/plain": [
       "<Figure size 360x360 with 2 Axes>"
      ]
     },
     "metadata": {
      "needs_background": "light"
     },
     "output_type": "display_data"
    }
   ],
   "source": [
    "from sklearn.metrics import confusion_matrix\n",
    "from sklearn.metrics import plot_confusion_matrix\n",
    "\n",
    "fig, ax = plt.subplots(figsize=(5, 5))\n",
    "plot_confusion_matrix(dtm_cv_best, x_multi_test, y_multi_test, display_labels= None, cmap=plt.cm.Blues, ax=ax)\n",
    "plt.show()"
   ]
  },
  {
   "cell_type": "code",
   "execution_count": 217,
   "id": "b9303465",
   "metadata": {},
   "outputs": [
    {
     "data": {
      "text/html": [
       "<div>\n",
       "<style scoped>\n",
       "    .dataframe tbody tr th:only-of-type {\n",
       "        vertical-align: middle;\n",
       "    }\n",
       "\n",
       "    .dataframe tbody tr th {\n",
       "        vertical-align: top;\n",
       "    }\n",
       "\n",
       "    .dataframe thead th {\n",
       "        text-align: right;\n",
       "    }\n",
       "</style>\n",
       "<table border=\"1\" class=\"dataframe\">\n",
       "  <thead>\n",
       "    <tr style=\"text-align: right;\">\n",
       "      <th></th>\n",
       "      <th>Model</th>\n",
       "      <th>max_depth</th>\n",
       "      <th>accuracy_in_sample</th>\n",
       "      <th>accuracy_out_sample</th>\n",
       "      <th>Precision</th>\n",
       "      <th>Recall</th>\n",
       "      <th>F1</th>\n",
       "    </tr>\n",
       "  </thead>\n",
       "  <tbody>\n",
       "    <tr>\n",
       "      <th>0</th>\n",
       "      <td>dtm_cv</td>\n",
       "      <td>4</td>\n",
       "      <td>0.578397</td>\n",
       "      <td>0.566667</td>\n",
       "      <td>0.459877</td>\n",
       "      <td>0.566667</td>\n",
       "      <td>0.499812</td>\n",
       "    </tr>\n",
       "  </tbody>\n",
       "</table>\n",
       "</div>"
      ],
      "text/plain": [
       "    Model  max_depth  accuracy_in_sample  accuracy_out_sample  Precision  \\\n",
       "0  dtm_cv          4            0.578397             0.566667   0.459877   \n",
       "\n",
       "     Recall        F1  \n",
       "0  0.566667  0.499812  "
      ]
     },
     "execution_count": 217,
     "metadata": {},
     "output_type": "execute_result"
    }
   ],
   "source": [
    "#Hier müssen die Resultate von der Liste von oben einfügen:\n",
    "model = 'dtm_cv'\n",
    "max_depth = dtm_cv.best_params_['max_depth']\n",
    "accuracy_in_sample = dtm_cv.best_score_ \n",
    "accuracy_out_sample = dtm_cv_best.score(x_multi_test, y_multi_test)\n",
    "Precision = dtm_cv_report['weighted avg']['precision'] \n",
    "Recall = dtm_cv_report['weighted avg']['recall']\n",
    "F1 = dtm_cv_report['weighted avg']['f1-score']\n",
    "\n",
    "#Append the Results from the Loop to the existing Dataframe:\n",
    "dtm_cv_temp = [(model, max_depth, accuracy_in_sample, accuracy_out_sample, Precision, Recall, F1)]\n",
    "dtm_cv_results = pd.DataFrame(dtm_cv_temp)\n",
    "dtm_cv_results.rename(columns={0:'Model', 1:'max_depth', 2:'accuracy_in_sample', 3:'accuracy_out_sample', 4:'Precision', 5:'Recall', 6:'F1'}, inplace = True)\n",
    "dtm_cv_results"
   ]
  },
  {
   "cell_type": "markdown",
   "id": "f4bb6fc8",
   "metadata": {},
   "source": [
    "#### 8.3 Random Forest Binary (rfb)"
   ]
  },
  {
   "cell_type": "markdown",
   "id": "9b6eadb9",
   "metadata": {},
   "source": [
    "##### 8.3.1 Random Forest Binary Basic (rfb_basic)"
   ]
  },
  {
   "cell_type": "code",
   "execution_count": 178,
   "id": "81be60e6",
   "metadata": {},
   "outputs": [
    {
     "data": {
      "text/plain": [
       "RandomForestClassifier(max_depth=3, random_state=2)"
      ]
     },
     "execution_count": 178,
     "metadata": {},
     "output_type": "execute_result"
    }
   ],
   "source": [
    "from sklearn.ensemble import RandomForestClassifier\n",
    "\n",
    "rfb_basic = RandomForestClassifier(max_depth=3, random_state=2)\n",
    "rfb_basic.fit(x_binary_train, y_binary_train)"
   ]
  },
  {
   "cell_type": "code",
   "execution_count": 179,
   "id": "8494ae87",
   "metadata": {},
   "outputs": [
    {
     "name": "stdout",
     "output_type": "stream",
     "text": [
      "              precision    recall  f1-score   support\n",
      "\n",
      "           0      0.800     0.917     0.854        48\n",
      "           1      0.886     0.738     0.805        42\n",
      "\n",
      "    accuracy                          0.833        90\n",
      "   macro avg      0.843     0.827     0.830        90\n",
      "weighted avg      0.840     0.833     0.831        90\n",
      "\n"
     ]
    }
   ],
   "source": [
    "from sklearn.metrics import classification_report, accuracy_score\n",
    "\n",
    "y_predict = rfb_basic.predict(x_binary_test)\n",
    "rfb_basic_report = classification_report(y_binary_test, y_predict, output_dict=True, digits=3)\n",
    "print(classification_report(y_binary_test, y_predict, digits=3))"
   ]
  },
  {
   "cell_type": "code",
   "execution_count": 180,
   "id": "8a61f581",
   "metadata": {},
   "outputs": [
    {
     "data": {
      "image/png": "[encoded data removed]",
      "text/plain": [
       "<Figure size 360x360 with 2 Axes>"
      ]
     },
     "metadata": {
      "needs_background": "light"
     },
     "output_type": "display_data"
    }
   ],
   "source": [
    "from sklearn.metrics import confusion_matrix\n",
    "from sklearn.metrics import plot_confusion_matrix\n",
    "\n",
    "fig, ax = plt.subplots(figsize=(5, 5))\n",
    "plot_confusion_matrix(rfb_basic, x_binary_test, y_binary_test, display_labels= None, cmap=plt.cm.Blues, ax=ax)\n",
    "plt.show()"
   ]
  },
  {
   "attachments": {},
   "cell_type": "markdown",
   "id": "a39c9c66",
   "metadata": {},
   "source": [
    "Stimmt das überhaupt mit Test? müsste man nicht Predict machen?"
   ]
  },
  {
   "cell_type": "code",
   "execution_count": 218,
   "id": "c3782ed9",
   "metadata": {},
   "outputs": [
    {
     "data": {
      "text/html": [
       "<div>\n",
       "<style scoped>\n",
       "    .dataframe tbody tr th:only-of-type {\n",
       "        vertical-align: middle;\n",
       "    }\n",
       "\n",
       "    .dataframe tbody tr th {\n",
       "        vertical-align: top;\n",
       "    }\n",
       "\n",
       "    .dataframe thead th {\n",
       "        text-align: right;\n",
       "    }\n",
       "</style>\n",
       "<table border=\"1\" class=\"dataframe\">\n",
       "  <thead>\n",
       "    <tr style=\"text-align: right;\">\n",
       "      <th></th>\n",
       "      <th>Model</th>\n",
       "      <th>max_depth</th>\n",
       "      <th>accuracy_in_sample</th>\n",
       "      <th>accuracy_out_sample</th>\n",
       "      <th>Precision</th>\n",
       "      <th>Recall</th>\n",
       "      <th>F1</th>\n",
       "    </tr>\n",
       "  </thead>\n",
       "  <tbody>\n",
       "    <tr>\n",
       "      <th>0</th>\n",
       "      <td>rfb_basic</td>\n",
       "      <td>3</td>\n",
       "      <td>0.879227</td>\n",
       "      <td>0.833333</td>\n",
       "      <td>0.84</td>\n",
       "      <td>0.833333</td>\n",
       "      <td>0.831421</td>\n",
       "    </tr>\n",
       "  </tbody>\n",
       "</table>\n",
       "</div>"
      ],
      "text/plain": [
       "       Model  max_depth  accuracy_in_sample  accuracy_out_sample  Precision  \\\n",
       "0  rfb_basic          3            0.879227             0.833333       0.84   \n",
       "\n",
       "     Recall        F1  \n",
       "0  0.833333  0.831421  "
      ]
     },
     "execution_count": 218,
     "metadata": {},
     "output_type": "execute_result"
    }
   ],
   "source": [
    "model = 'rfb_basic'\n",
    "max_depth = 3\n",
    "accuracy_in_sample = rfb_basic.score(x_binary_train, y_binary_train)\n",
    "accuracy_out_sample = rfb_basic.score(x_binary_test, y_binary_test)\n",
    "Precision = rfb_basic_report['weighted avg']['precision'] \n",
    "Recall = rfb_basic_report['weighted avg']['recall']\n",
    "F1 = rfb_basic_report['weighted avg']['f1-score']\n",
    "\n",
    "#Append the Results from the Loop to the existing Dataframe:\n",
    "rfb_basic_temp = [(model, max_depth, accuracy_in_sample, accuracy_out_sample, Precision, Recall, F1)]\n",
    "rfb_basic_results = pd.DataFrame(rfb_basic_temp)\n",
    "rfb_basic_results.rename(columns= {0:'Model', 1:'max_depth', 2:'accuracy_in_sample', 3:'accuracy_out_sample', 4:'Precision', 5:'Recall', 6:'F1'}, inplace = True)\n",
    "rfb_basic_results"
   ]
  },
  {
   "attachments": {},
   "cell_type": "markdown",
   "id": "e4ed50e7",
   "metadata": {},
   "source": [
    "##### 8.3.2 Random Forest Binary mit CV (rfb_cv)"
   ]
  },
  {
   "cell_type": "code",
   "execution_count": 182,
   "id": "060ad5e5",
   "metadata": {},
   "outputs": [
    {
     "name": "stdout",
     "output_type": "stream",
     "text": [
      "Fitting 15 folds for each of 440 candidates, totalling 6600 fits\n"
     ]
    },
    {
     "name": "stderr",
     "output_type": "stream",
     "text": [
      "[Parallel(n_jobs=1)]: Using backend SequentialBackend with 1 concurrent workers.\n"
     ]
    },
    {
     "name": "stdout",
     "output_type": "stream",
     "text": [
      "Best Model:\n",
      "{'criterion': 'entropy', 'max_depth': 4, 'max_features': 'sqrt', 'min_samples_split': 8}\n",
      "Best Score:\n",
      "0.8421215640727837\n"
     ]
    },
    {
     "name": "stderr",
     "output_type": "stream",
     "text": [
      "[Parallel(n_jobs=1)]: Done 6600 out of 6600 | elapsed: 15.1min finished\n"
     ]
    }
   ],
   "source": [
    "from sklearn.ensemble import RandomForestClassifier\n",
    "from sklearn.model_selection import GridSearchCV\n",
    "from sklearn.model_selection import RepeatedStratifiedKFold\n",
    "from sklearn.metrics import accuracy_score\n",
    "from sklearn.metrics import make_scorer\n",
    "\n",
    "rfb_cv = RandomForestClassifier(random_state=2)\n",
    "\n",
    "cv_method = RepeatedStratifiedKFold(n_splits=5, \n",
    "                                    n_repeats=3, \n",
    "                                    random_state=2)\n",
    "\n",
    "params_DT = {'criterion': ['gini', 'entropy'],\n",
    "             'max_depth': [1, 2, 3, 4, 5, 6, 7, 8, 10],\n",
    "             'min_samples_split': [2, 3,4,5,6,7,8,9,10],\n",
    "             'max_features': ['sqrt','log2']}\n",
    "\n",
    "rfb_cv = GridSearchCV(estimator=rfb_cv, \n",
    "                     param_grid=params_DT, \n",
    "                     cv=cv_method,\n",
    "                     verbose=1, #output Messages\n",
    "                     scoring='accuracy')\n",
    "\n",
    "rfb_cv.fit(x_binary_train, y_binary_train)\n",
    "print('Best Model:')\n",
    "print(rfb_cv.best_params_)\n",
    "print('Best Score:')\n",
    "print(rfb_cv.best_score_)"
   ]
  },
  {
   "cell_type": "code",
   "execution_count": 183,
   "id": "246c5117",
   "metadata": {},
   "outputs": [
    {
     "name": "stdout",
     "output_type": "stream",
     "text": [
      "              precision    recall  f1-score   support\n",
      "\n",
      "           0      0.815     0.917     0.863        48\n",
      "           1      0.889     0.762     0.821        42\n",
      "\n",
      "    accuracy                          0.844        90\n",
      "   macro avg      0.852     0.839     0.842        90\n",
      "weighted avg      0.849     0.844     0.843        90\n",
      "\n"
     ]
    }
   ],
   "source": [
    "y_predict = rfb_cv.predict(x_binary_test)\n",
    "rfb_cv_report = classification_report(y_binary_test, y_predict, output_dict=True, digits=3)\n",
    "print(classification_report(y_binary_test, y_predict, digits=3))"
   ]
  },
  {
   "cell_type": "code",
   "execution_count": 184,
   "id": "4c11c9f2",
   "metadata": {},
   "outputs": [
    {
     "data": {
      "image/png": "[encoded data removed]",
      "text/plain": [
       "<Figure size 360x360 with 2 Axes>"
      ]
     },
     "metadata": {
      "needs_background": "light"
     },
     "output_type": "display_data"
    }
   ],
   "source": [
    "from sklearn.metrics import confusion_matrix\n",
    "from sklearn.metrics import plot_confusion_matrix\n",
    "\n",
    "fig, ax = plt.subplots(figsize=(5, 5))\n",
    "plot_confusion_matrix(rfb_cv, x_binary_test, y_binary_test, display_labels= None, cmap=plt.cm.Blues, ax=ax)\n",
    "plt.show()"
   ]
  },
  {
   "cell_type": "code",
   "execution_count": 219,
   "id": "3d01993e",
   "metadata": {},
   "outputs": [
    {
     "data": {
      "text/html": [
       "<div>\n",
       "<style scoped>\n",
       "    .dataframe tbody tr th:only-of-type {\n",
       "        vertical-align: middle;\n",
       "    }\n",
       "\n",
       "    .dataframe tbody tr th {\n",
       "        vertical-align: top;\n",
       "    }\n",
       "\n",
       "    .dataframe thead th {\n",
       "        text-align: right;\n",
       "    }\n",
       "</style>\n",
       "<table border=\"1\" class=\"dataframe\">\n",
       "  <thead>\n",
       "    <tr style=\"text-align: right;\">\n",
       "      <th></th>\n",
       "      <th>Model</th>\n",
       "      <th>max_depth</th>\n",
       "      <th>accuracy_in_sample</th>\n",
       "      <th>accuracy_out_sample</th>\n",
       "      <th>Precision</th>\n",
       "      <th>Recall</th>\n",
       "      <th>F1</th>\n",
       "    </tr>\n",
       "  </thead>\n",
       "  <tbody>\n",
       "    <tr>\n",
       "      <th>0</th>\n",
       "      <td>rfb_cv</td>\n",
       "      <td>4</td>\n",
       "      <td>0.842122</td>\n",
       "      <td>0.844444</td>\n",
       "      <td>0.849383</td>\n",
       "      <td>0.844444</td>\n",
       "      <td>0.843037</td>\n",
       "    </tr>\n",
       "  </tbody>\n",
       "</table>\n",
       "</div>"
      ],
      "text/plain": [
       "    Model  max_depth  accuracy_in_sample  accuracy_out_sample  Precision  \\\n",
       "0  rfb_cv          4            0.842122             0.844444   0.849383   \n",
       "\n",
       "     Recall        F1  \n",
       "0  0.844444  0.843037  "
      ]
     },
     "execution_count": 219,
     "metadata": {},
     "output_type": "execute_result"
    }
   ],
   "source": [
    "model = 'rfb_cv'\n",
    "max_depth = rfb_cv.best_params_['max_depth']\n",
    "accuracy_in_sample = rfb_cv.best_score_ \n",
    "accuracy_out_sample = rfb_cv.score(x_binary_test, y_binary_test)\n",
    "Precision = rfb_cv_report['weighted avg']['precision'] \n",
    "Recall = rfb_cv_report['weighted avg']['recall']\n",
    "F1 = rfb_cv_report['weighted avg']['f1-score']\n",
    "\n",
    "#Append the Results from the Loop to the existing Dataframe:\n",
    "rfb_cv_temp = [(model, max_depth, accuracy_in_sample, accuracy_out_sample, Precision, Recall, F1)]\n",
    "rfb_cv_results = pd.DataFrame(rfb_cv_temp)\n",
    "rfb_cv_results.rename(columns= {0:'Model', 1:'max_depth', 2:'accuracy_in_sample', 3:'accuracy_out_sample', 4:'Precision', 5:'Recall', 6:'F1'}, inplace = True)\n",
    "rfb_cv_results"
   ]
  },
  {
   "cell_type": "markdown",
   "id": "654b394b",
   "metadata": {},
   "source": [
    "#### 8.4 Random Forest Multiclass (rfm)"
   ]
  },
  {
   "attachments": {},
   "cell_type": "markdown",
   "id": "c176fc97",
   "metadata": {},
   "source": [
    "##### 8.4.1 Random Forest Multi (rfm_basic)"
   ]
  },
  {
   "cell_type": "code",
   "execution_count": 186,
   "id": "91fdd793",
   "metadata": {},
   "outputs": [
    {
     "data": {
      "text/plain": [
       "RandomForestClassifier(max_depth=3, random_state=2)"
      ]
     },
     "execution_count": 186,
     "metadata": {},
     "output_type": "execute_result"
    }
   ],
   "source": [
    "# Import relevant packages\n",
    "from sklearn.ensemble import RandomForestClassifier\n",
    "rfm_basic = RandomForestClassifier(max_depth=3, random_state=2)\n",
    "rfm_basic.fit(x_multi_train, y_multi_train)"
   ]
  },
  {
   "cell_type": "code",
   "execution_count": 187,
   "id": "2d03a3af",
   "metadata": {},
   "outputs": [
    {
     "name": "stdout",
     "output_type": "stream",
     "text": [
      "              precision    recall  f1-score   support\n",
      "\n",
      "           0      0.671     0.979     0.797        48\n",
      "           1      0.000     0.000     0.000        16\n",
      "           2      0.000     0.000     0.000        11\n",
      "           3      0.333     0.364     0.348        11\n",
      "           4      0.000     0.000     0.000         4\n",
      "\n",
      "    accuracy                          0.567        90\n",
      "   macro avg      0.201     0.269     0.229        90\n",
      "weighted avg      0.399     0.567     0.467        90\n",
      "\n"
     ]
    },
    {
     "name": "stderr",
     "output_type": "stream",
     "text": [
      "c:\\Users\\lione\\anaconda3\\lib\\site-packages\\sklearn\\metrics\\_classification.py:1221: UndefinedMetricWarning: Precision and F-score are ill-defined and being set to 0.0 in labels with no predicted samples. Use `zero_division` parameter to control this behavior.\n",
      "  _warn_prf(average, modifier, msg_start, len(result))\n"
     ]
    }
   ],
   "source": [
    "from sklearn.metrics import classification_report, accuracy_score\n",
    "\n",
    "y_predict = rfm_basic.predict(x_multi_test)\n",
    "rfm_basic_report = classification_report(y_multi_test, y_predict, output_dict=True, digits=3)\n",
    "print(classification_report(y_multi_test, y_predict, digits=3))"
   ]
  },
  {
   "cell_type": "code",
   "execution_count": 188,
   "id": "ca2689b4",
   "metadata": {},
   "outputs": [
    {
     "data": {
      "image/png": "[encoded data removed]",
      "text/plain": [
       "<Figure size 504x504 with 2 Axes>"
      ]
     },
     "metadata": {
      "needs_background": "light"
     },
     "output_type": "display_data"
    }
   ],
   "source": [
    "fig, ax = plt.subplots(figsize=(7, 7))\n",
    "plot_confusion_matrix(rfm_basic, x_multi_test, y_multi_test, display_labels= None, cmap=plt.cm.Blues, ax=ax)\n",
    "plt.show()"
   ]
  },
  {
   "cell_type": "code",
   "execution_count": 220,
   "id": "0c31af83",
   "metadata": {},
   "outputs": [
    {
     "data": {
      "text/html": [
       "<div>\n",
       "<style scoped>\n",
       "    .dataframe tbody tr th:only-of-type {\n",
       "        vertical-align: middle;\n",
       "    }\n",
       "\n",
       "    .dataframe tbody tr th {\n",
       "        vertical-align: top;\n",
       "    }\n",
       "\n",
       "    .dataframe thead th {\n",
       "        text-align: right;\n",
       "    }\n",
       "</style>\n",
       "<table border=\"1\" class=\"dataframe\">\n",
       "  <thead>\n",
       "    <tr style=\"text-align: right;\">\n",
       "      <th></th>\n",
       "      <th>Model</th>\n",
       "      <th>max_depth</th>\n",
       "      <th>accuracy_in_sample</th>\n",
       "      <th>accuracy_out_sample</th>\n",
       "      <th>Precision</th>\n",
       "      <th>Recall</th>\n",
       "      <th>F1</th>\n",
       "    </tr>\n",
       "  </thead>\n",
       "  <tbody>\n",
       "    <tr>\n",
       "      <th>0</th>\n",
       "      <td>rfm_basic</td>\n",
       "      <td>3</td>\n",
       "      <td>0.705314</td>\n",
       "      <td>0.566667</td>\n",
       "      <td>0.398836</td>\n",
       "      <td>0.566667</td>\n",
       "      <td>0.467371</td>\n",
       "    </tr>\n",
       "  </tbody>\n",
       "</table>\n",
       "</div>"
      ],
      "text/plain": [
       "       Model  max_depth  accuracy_in_sample  accuracy_out_sample  Precision  \\\n",
       "0  rfm_basic          3            0.705314             0.566667   0.398836   \n",
       "\n",
       "     Recall        F1  \n",
       "0  0.566667  0.467371  "
      ]
     },
     "execution_count": 220,
     "metadata": {},
     "output_type": "execute_result"
    }
   ],
   "source": [
    "model = 'rfm_basic'\n",
    "max_depth = 3\n",
    "accuracy_in_sample = rfm_basic.score(x_multi_train, y_multi_train)\n",
    "accuracy_out_sample = rfm_basic.score(x_multi_test, y_multi_test)\n",
    "Precision = rfm_basic_report['weighted avg']['precision'] \n",
    "Recall = rfm_basic_report['weighted avg']['recall']\n",
    "F1 = rfm_basic_report['weighted avg']['f1-score']\n",
    "\n",
    "#Append the Results from the Loop to the existing Dataframe:\n",
    "rfm_basic_temp = [(model, max_depth, accuracy_in_sample, accuracy_out_sample, Precision, Recall, F1)]\n",
    "rfm_basic_results= pd.DataFrame(rfm_basic_temp)\n",
    "rfm_basic_results.rename(columns= {0:'Model', 1:'max_depth', 2:'accuracy_in_sample', 3:'accuracy_out_sample', 4:'Precision', 5:'Recall', 6:'F1'}, inplace = True)\n",
    "rfm_basic_results"
   ]
  },
  {
   "attachments": {},
   "cell_type": "markdown",
   "id": "c70849be",
   "metadata": {},
   "source": [
    "##### 8.4.2 Random Forest Multi mit CV (rfm_cv)"
   ]
  },
  {
   "cell_type": "code",
   "execution_count": 190,
   "id": "5b0282e6",
   "metadata": {},
   "outputs": [
    {
     "name": "stdout",
     "output_type": "stream",
     "text": [
      "Fitting 15 folds for each of 440 candidates, totalling 6600 fits\n"
     ]
    },
    {
     "name": "stderr",
     "output_type": "stream",
     "text": [
      "[Parallel(n_jobs=1)]: Using backend SequentialBackend with 1 concurrent workers.\n"
     ]
    },
    {
     "name": "stdout",
     "output_type": "stream",
     "text": [
      "Best Model:\n",
      "{'criterion': 'entropy', 'max_depth': 6, 'max_features': 'sqrt', 'min_samples_split': 5}\n",
      "Best Score:\n",
      "0.6038327526132404\n"
     ]
    },
    {
     "name": "stderr",
     "output_type": "stream",
     "text": [
      "[Parallel(n_jobs=1)]: Done 6600 out of 6600 | elapsed: 14.9min finished\n"
     ]
    }
   ],
   "source": [
    "from sklearn.ensemble import RandomForestClassifier\n",
    "from sklearn.model_selection import GridSearchCV\n",
    "from sklearn.model_selection import RepeatedStratifiedKFold\n",
    "from sklearn.metrics import accuracy_score\n",
    "from sklearn.metrics import make_scorer\n",
    "\n",
    "rfm_cv = RandomForestClassifier(random_state=2)\n",
    "\n",
    "cv_method = RepeatedStratifiedKFold(n_splits=5, \n",
    "                                    n_repeats=3, \n",
    "                                    random_state=2)\n",
    "\n",
    "params_DT = {'criterion': ['gini', 'entropy'],\n",
    "             'max_depth': [1, 2, 3, 4, 5, 6, 7, 8, 10],\n",
    "             'min_samples_split': [2, 3,4,5,6,7,8,9,10],\n",
    "             'max_features': ['sqrt','log2']}\n",
    "\n",
    "rfm_cv = GridSearchCV(estimator=rfm_cv, \n",
    "                     param_grid=params_DT, \n",
    "                     cv=cv_method,\n",
    "                     verbose=1, #output Messages\n",
    "                     scoring='accuracy')\n",
    "\n",
    "rfm_cv.fit(x_multi_train, y_multi_train)\n",
    "print('Best Model:')\n",
    "print(rfm_cv.best_params_)\n",
    "print('Best Score:')\n",
    "print(rfm_cv.best_score_)"
   ]
  },
  {
   "cell_type": "code",
   "execution_count": 191,
   "id": "7dbf42b2",
   "metadata": {},
   "outputs": [
    {
     "name": "stdout",
     "output_type": "stream",
     "text": [
      "              precision    recall  f1-score   support\n",
      "\n",
      "           0      0.754     0.958     0.844        48\n",
      "           1      0.000     0.000     0.000        16\n",
      "           2      0.000     0.000     0.000        11\n",
      "           3      0.100     0.091     0.095        11\n",
      "           4      0.000     0.000     0.000         4\n",
      "\n",
      "    accuracy                          0.522        90\n",
      "   macro avg      0.171     0.210     0.188        90\n",
      "weighted avg      0.414     0.522     0.462        90\n",
      "\n"
     ]
    }
   ],
   "source": [
    "y_predict = rfm_cv.predict(x_multi_test)\n",
    "rfm_cv_report = classification_report(y_multi_test, y_predict, output_dict=True, digits=3)\n",
    "print(classification_report(y_multi_test, y_predict, digits=3))"
   ]
  },
  {
   "cell_type": "code",
   "execution_count": 192,
   "id": "01de7cec",
   "metadata": {},
   "outputs": [
    {
     "data": {
      "image/png": "[encoded data removed]",
      "text/plain": [
       "<Figure size 504x504 with 2 Axes>"
      ]
     },
     "metadata": {
      "needs_background": "light"
     },
     "output_type": "display_data"
    }
   ],
   "source": [
    "fig, ax = plt.subplots(figsize=(7, 7))\n",
    "plot_confusion_matrix(rfm_cv, x_multi_test, y_multi_test, display_labels= None, cmap=plt.cm.Blues, ax=ax)\n",
    "plt.show()"
   ]
  },
  {
   "cell_type": "code",
   "execution_count": 221,
   "id": "d6b5e799",
   "metadata": {},
   "outputs": [
    {
     "data": {
      "text/html": [
       "<div>\n",
       "<style scoped>\n",
       "    .dataframe tbody tr th:only-of-type {\n",
       "        vertical-align: middle;\n",
       "    }\n",
       "\n",
       "    .dataframe tbody tr th {\n",
       "        vertical-align: top;\n",
       "    }\n",
       "\n",
       "    .dataframe thead th {\n",
       "        text-align: right;\n",
       "    }\n",
       "</style>\n",
       "<table border=\"1\" class=\"dataframe\">\n",
       "  <thead>\n",
       "    <tr style=\"text-align: right;\">\n",
       "      <th></th>\n",
       "      <th>Model</th>\n",
       "      <th>max_depth</th>\n",
       "      <th>accuracy_in_sample</th>\n",
       "      <th>accuracy_out_sample</th>\n",
       "      <th>Precision</th>\n",
       "      <th>Recall</th>\n",
       "      <th>F1</th>\n",
       "    </tr>\n",
       "  </thead>\n",
       "  <tbody>\n",
       "    <tr>\n",
       "      <th>0</th>\n",
       "      <td>rfm_cv</td>\n",
       "      <td>6</td>\n",
       "      <td>0.603833</td>\n",
       "      <td>0.522222</td>\n",
       "      <td>0.414408</td>\n",
       "      <td>0.522222</td>\n",
       "      <td>0.461793</td>\n",
       "    </tr>\n",
       "  </tbody>\n",
       "</table>\n",
       "</div>"
      ],
      "text/plain": [
       "    Model  max_depth  accuracy_in_sample  accuracy_out_sample  Precision  \\\n",
       "0  rfm_cv          6            0.603833             0.522222   0.414408   \n",
       "\n",
       "     Recall        F1  \n",
       "0  0.522222  0.461793  "
      ]
     },
     "execution_count": 221,
     "metadata": {},
     "output_type": "execute_result"
    }
   ],
   "source": [
    "model = 'rfm_cv'\n",
    "max_depth = rfm_cv.best_params_['max_depth']\n",
    "accuracy_in_sample = rfm_cv.best_score_\n",
    "accuracy_out_sample = rfm_cv.score(x_multi_test, y_multi_test)\n",
    "Precision = rfm_cv_report['weighted avg']['precision'] \n",
    "Recall = rfm_cv_report['weighted avg']['recall']\n",
    "F1 = rfm_cv_report['weighted avg']['f1-score']\n",
    "\n",
    "#Append the Results from the Loop to the existing Dataframe:\n",
    "rfm_cv_temp = [(model, max_depth, accuracy_in_sample, accuracy_out_sample, Precision, Recall, F1)]\n",
    "rfm_cv_results = pd.DataFrame(rfm_cv_temp)\n",
    "rfm_cv_results.rename(columns={0:'Model', 1:'max_depth', 2:'accuracy_in_sample', 3:'accuracy_out_sample', 4:'Precision', 5:'Recall', 6:'F1'}, inplace = True)\n",
    "rfm_cv_results"
   ]
  },
  {
   "cell_type": "markdown",
   "id": "abaef5da",
   "metadata": {},
   "source": [
    "### 9 All Results"
   ]
  },
  {
   "cell_type": "code",
   "execution_count": 222,
   "id": "c0883a77",
   "metadata": {},
   "outputs": [],
   "source": [
    "Results = pd.DataFrame()"
   ]
  },
  {
   "cell_type": "code",
   "execution_count": 223,
   "id": "9b6e9ed9",
   "metadata": {},
   "outputs": [
    {
     "data": {
      "text/html": [
       "<div>\n",
       "<style scoped>\n",
       "    .dataframe tbody tr th:only-of-type {\n",
       "        vertical-align: middle;\n",
       "    }\n",
       "\n",
       "    .dataframe tbody tr th {\n",
       "        vertical-align: top;\n",
       "    }\n",
       "\n",
       "    .dataframe thead th {\n",
       "        text-align: right;\n",
       "    }\n",
       "</style>\n",
       "<table border=\"1\" class=\"dataframe\">\n",
       "  <thead>\n",
       "    <tr style=\"text-align: right;\">\n",
       "      <th></th>\n",
       "      <th>Model</th>\n",
       "      <th>max_depth</th>\n",
       "      <th>accuracy_in_sample</th>\n",
       "      <th>accuracy_out_sample</th>\n",
       "      <th>Precision</th>\n",
       "      <th>Recall</th>\n",
       "      <th>F1</th>\n",
       "    </tr>\n",
       "  </thead>\n",
       "  <tbody>\n",
       "    <tr>\n",
       "      <th>0</th>\n",
       "      <td>rfm_cv</td>\n",
       "      <td>6</td>\n",
       "      <td>0.603833</td>\n",
       "      <td>0.522222</td>\n",
       "      <td>0.414408</td>\n",
       "      <td>0.522222</td>\n",
       "      <td>0.461793</td>\n",
       "    </tr>\n",
       "  </tbody>\n",
       "</table>\n",
       "</div>"
      ],
      "text/plain": [
       "    Model  max_depth  accuracy_in_sample  accuracy_out_sample  Precision  \\\n",
       "0  rfm_cv          6            0.603833             0.522222   0.414408   \n",
       "\n",
       "     Recall        F1  \n",
       "0  0.522222  0.461793  "
      ]
     },
     "execution_count": 223,
     "metadata": {},
     "output_type": "execute_result"
    }
   ],
   "source": [
    "dtb_basic_results\n",
    "dtm_cv_results\n",
    "dtb_basic_results\n",
    "dtm_cv_results\n",
    "rfb_basic_results\n",
    "rfb_cv_results\n",
    "rfm_basic_results\n",
    "rfm_cv_results"
   ]
  },
  {
   "cell_type": "code",
   "execution_count": 236,
   "id": "ed5b333d",
   "metadata": {},
   "outputs": [
    {
     "data": {
      "text/html": [
       "<div>\n",
       "<style scoped>\n",
       "    .dataframe tbody tr th:only-of-type {\n",
       "        vertical-align: middle;\n",
       "    }\n",
       "\n",
       "    .dataframe tbody tr th {\n",
       "        vertical-align: top;\n",
       "    }\n",
       "\n",
       "    .dataframe thead th {\n",
       "        text-align: right;\n",
       "    }\n",
       "</style>\n",
       "<table border=\"1\" class=\"dataframe\">\n",
       "  <thead>\n",
       "    <tr style=\"text-align: right;\">\n",
       "      <th></th>\n",
       "      <th>index</th>\n",
       "      <th>Model</th>\n",
       "      <th>max_depth</th>\n",
       "      <th>accuracy_in_sample</th>\n",
       "      <th>accuracy_out_sample</th>\n",
       "      <th>Precision</th>\n",
       "      <th>Recall</th>\n",
       "      <th>F1</th>\n",
       "    </tr>\n",
       "  </thead>\n",
       "  <tbody>\n",
       "    <tr>\n",
       "      <th>0</th>\n",
       "      <td>0</td>\n",
       "      <td>dtb_basic</td>\n",
       "      <td>3</td>\n",
       "      <td>0.879227</td>\n",
       "      <td>0.733333</td>\n",
       "      <td>0.737815</td>\n",
       "      <td>0.733333</td>\n",
       "      <td>0.729555</td>\n",
       "    </tr>\n",
       "    <tr>\n",
       "      <th>1</th>\n",
       "      <td>0</td>\n",
       "      <td>dtb_cv</td>\n",
       "      <td>5</td>\n",
       "      <td>0.805226</td>\n",
       "      <td>0.811111</td>\n",
       "      <td>0.821797</td>\n",
       "      <td>0.811111</td>\n",
       "      <td>0.807873</td>\n",
       "    </tr>\n",
       "    <tr>\n",
       "      <th>2</th>\n",
       "      <td>0</td>\n",
       "      <td>rfb_basic</td>\n",
       "      <td>3</td>\n",
       "      <td>0.879227</td>\n",
       "      <td>0.833333</td>\n",
       "      <td>0.840000</td>\n",
       "      <td>0.833333</td>\n",
       "      <td>0.831421</td>\n",
       "    </tr>\n",
       "    <tr>\n",
       "      <th>3</th>\n",
       "      <td>0</td>\n",
       "      <td>rfb_cv</td>\n",
       "      <td>4</td>\n",
       "      <td>0.842122</td>\n",
       "      <td>0.844444</td>\n",
       "      <td>0.849383</td>\n",
       "      <td>0.844444</td>\n",
       "      <td>0.843037</td>\n",
       "    </tr>\n",
       "  </tbody>\n",
       "</table>\n",
       "</div>"
      ],
      "text/plain": [
       "   index      Model  max_depth  accuracy_in_sample  accuracy_out_sample  \\\n",
       "0      0  dtb_basic          3            0.879227             0.733333   \n",
       "1      0     dtb_cv          5            0.805226             0.811111   \n",
       "2      0  rfb_basic          3            0.879227             0.833333   \n",
       "3      0     rfb_cv          4            0.842122             0.844444   \n",
       "\n",
       "   Precision    Recall        F1  \n",
       "0   0.737815  0.733333  0.729555  \n",
       "1   0.821797  0.811111  0.807873  \n",
       "2   0.840000  0.833333  0.831421  \n",
       "3   0.849383  0.844444  0.843037  "
      ]
     },
     "execution_count": 236,
     "metadata": {},
     "output_type": "execute_result"
    }
   ],
   "source": [
    "Results_binary = pd.DataFrame()\n",
    "Results_binary = Results_binary.append(dtb_basic_results)\n",
    "Results_binary = Results_binary.append(dtb_cv_results)\n",
    "Results_binary = Results_binary.append(rfb_basic_results)\n",
    "Results_binary = Results_binary.append(rfb_cv_results)\n",
    "\n",
    "Results_multi  = pd.DataFrame()\n",
    "Results_multi = Results_multi.append(dtm_basic_results)\n",
    "Results_multi = Results_multi.append(dtm_cv_results)\n",
    "Results_multi = Results_multi.append(rfm_basic_results)\n",
    "Results_multi = Results_multi.append(rfm_cv_results)\n",
    "#Results.to_excel('Results.xlsx')\n",
    "Results_binary.reset_index()"
   ]
  },
  {
   "cell_type": "code",
   "execution_count": 237,
   "id": "2c375ccd",
   "metadata": {},
   "outputs": [
    {
     "data": {
      "text/html": [
       "<div>\n",
       "<style scoped>\n",
       "    .dataframe tbody tr th:only-of-type {\n",
       "        vertical-align: middle;\n",
       "    }\n",
       "\n",
       "    .dataframe tbody tr th {\n",
       "        vertical-align: top;\n",
       "    }\n",
       "\n",
       "    .dataframe thead th {\n",
       "        text-align: right;\n",
       "    }\n",
       "</style>\n",
       "<table border=\"1\" class=\"dataframe\">\n",
       "  <thead>\n",
       "    <tr style=\"text-align: right;\">\n",
       "      <th></th>\n",
       "      <th>index</th>\n",
       "      <th>Model</th>\n",
       "      <th>max_depth</th>\n",
       "      <th>accuracy_in_sample</th>\n",
       "      <th>accuracy_out_sample</th>\n",
       "      <th>Precision</th>\n",
       "      <th>Recall</th>\n",
       "      <th>F1</th>\n",
       "    </tr>\n",
       "  </thead>\n",
       "  <tbody>\n",
       "    <tr>\n",
       "      <th>0</th>\n",
       "      <td>0</td>\n",
       "      <td>dtm_basic</td>\n",
       "      <td>3</td>\n",
       "      <td>0.642512</td>\n",
       "      <td>0.544444</td>\n",
       "      <td>0.386352</td>\n",
       "      <td>0.544444</td>\n",
       "      <td>0.451713</td>\n",
       "    </tr>\n",
       "    <tr>\n",
       "      <th>1</th>\n",
       "      <td>0</td>\n",
       "      <td>dtm_cv</td>\n",
       "      <td>4</td>\n",
       "      <td>0.578397</td>\n",
       "      <td>0.566667</td>\n",
       "      <td>0.459877</td>\n",
       "      <td>0.566667</td>\n",
       "      <td>0.499812</td>\n",
       "    </tr>\n",
       "    <tr>\n",
       "      <th>2</th>\n",
       "      <td>0</td>\n",
       "      <td>rfm_basic</td>\n",
       "      <td>3</td>\n",
       "      <td>0.705314</td>\n",
       "      <td>0.566667</td>\n",
       "      <td>0.398836</td>\n",
       "      <td>0.566667</td>\n",
       "      <td>0.467371</td>\n",
       "    </tr>\n",
       "    <tr>\n",
       "      <th>3</th>\n",
       "      <td>0</td>\n",
       "      <td>rfm_cv</td>\n",
       "      <td>6</td>\n",
       "      <td>0.603833</td>\n",
       "      <td>0.522222</td>\n",
       "      <td>0.414408</td>\n",
       "      <td>0.522222</td>\n",
       "      <td>0.461793</td>\n",
       "    </tr>\n",
       "  </tbody>\n",
       "</table>\n",
       "</div>"
      ],
      "text/plain": [
       "   index      Model  max_depth  accuracy_in_sample  accuracy_out_sample  \\\n",
       "0      0  dtm_basic          3            0.642512             0.544444   \n",
       "1      0     dtm_cv          4            0.578397             0.566667   \n",
       "2      0  rfm_basic          3            0.705314             0.566667   \n",
       "3      0     rfm_cv          6            0.603833             0.522222   \n",
       "\n",
       "   Precision    Recall        F1  \n",
       "0   0.386352  0.544444  0.451713  \n",
       "1   0.459877  0.566667  0.499812  \n",
       "2   0.398836  0.566667  0.467371  \n",
       "3   0.414408  0.522222  0.461793  "
      ]
     },
     "execution_count": 237,
     "metadata": {},
     "output_type": "execute_result"
    }
   ],
   "source": [
    "Results_multi.reset_index()"
   ]
  },
  {
   "cell_type": "markdown",
   "id": "85930965",
   "metadata": {},
   "source": [
    "### 10 Plots of best Model"
   ]
  },
  {
   "cell_type": "code",
   "execution_count": 68,
   "id": "7b9b6b05",
   "metadata": {},
   "outputs": [
    {
     "ename": "NameError",
     "evalue": "name 'rf' is not defined",
     "output_type": "error",
     "traceback": [
      "\u001b[1;31m---------------------------------------------------------------------------\u001b[0m",
      "\u001b[1;31mNameError\u001b[0m                                 Traceback (most recent call last)",
      "\u001b[1;32m<ipython-input-68-9676eb2a373b>\u001b[0m in \u001b[0;36m<module>\u001b[1;34m\u001b[0m\n\u001b[1;32m----> 1\u001b[1;33m \u001b[0mpredicted\u001b[0m \u001b[1;33m=\u001b[0m \u001b[0mrf\u001b[0m\u001b[1;33m.\u001b[0m\u001b[0mpredict\u001b[0m\u001b[1;33m(\u001b[0m\u001b[0mx_multi_test\u001b[0m\u001b[1;33m)\u001b[0m\u001b[1;33m\u001b[0m\u001b[1;33m\u001b[0m\u001b[0m\n\u001b[0m\u001b[0;32m      2\u001b[0m \u001b[0mpredicted_results\u001b[0m \u001b[1;33m=\u001b[0m \u001b[0mpd\u001b[0m\u001b[1;33m.\u001b[0m\u001b[0mDataFrame\u001b[0m\u001b[1;33m(\u001b[0m\u001b[0mpredicted\u001b[0m\u001b[1;33m)\u001b[0m\u001b[1;33m\u001b[0m\u001b[1;33m\u001b[0m\u001b[0m\n\u001b[0;32m      3\u001b[0m \u001b[1;33m\u001b[0m\u001b[0m\n\u001b[0;32m      4\u001b[0m \u001b[0mpredicted_results\u001b[0m\u001b[1;33m\u001b[0m\u001b[1;33m\u001b[0m\u001b[0m\n\u001b[0;32m      5\u001b[0m \u001b[0maccuracy_score\u001b[0m\u001b[1;33m(\u001b[0m\u001b[0my_multi_train\u001b[0m\u001b[1;33m,\u001b[0m \u001b[0mpredicted_results\u001b[0m\u001b[1;33m)\u001b[0m\u001b[1;33m\u001b[0m\u001b[1;33m\u001b[0m\u001b[0m\n",
      "\u001b[1;31mNameError\u001b[0m: name 'rf' is not defined"
     ]
    }
   ],
   "source": [
    "predicted = rf.predict(x_multi_test)\n",
    "predicted_results = pd.DataFrame(predicted)\n",
    "\n",
    "predicted_results\n",
    "accuracy_score(y_multi_train, predicted_results)\n",
    "\n",
    "from sklearn.tree import plot_tree\n",
    "plot_tree(dtb_basic, filled = True, rounded = True)"
   ]
  },
  {
   "cell_type": "code",
   "execution_count": null,
   "id": "0015ed19",
   "metadata": {},
   "outputs": [],
   "source": [
    "# Out-of-sample \n",
    "y_pred = de_reg_basic.predict(x_multi_test)\n",
    "\n",
    "# confusion_matrix\n",
    "from sklearn.metrics import confusion_matrix\n",
    "\n",
    "# Out-of-Sample Confusion Matrix\n",
    "cm_credit = confusion_matrix(y_test, y_pred)\n",
    "cm_credit\n",
    "\n",
    "def plot_decision_boundary(clf, X, Y, cmap='Paired_r'):\n",
    "    h = 0.02\n",
    "    x_min, x_max = X[:,0].min() - 10*h, X[:,0].max() + 10*h\n",
    "    y_min, y_max = X[:,1].min() - 10*h, X[:,1].max() + 10*h\n",
    "    xx, yy = np.meshgrid(np.arange(x_min, x_max, h),\n",
    "                         np.arange(y_min, y_max, h))\n",
    "    Z = clf.predict(np.c_[xx.ravel(), yy.ravel()])\n",
    "    Z = Z.reshape(xx.shape)\n",
    "\n",
    "    plt.figure(figsize=(5,5))\n",
    "    plt.contourf(xx, yy, Z, cmap=cmap, alpha=0.25)\n",
    "    plt.contour(xx, yy, Z, colors='k', linewidths=0.7)\n",
    "    plt.scatter(X[:,0], X[:,1], c=Y, cmap=cmap, edgecolors='k');\n",
    "\n",
    "plot_decision_boundary(dtb_basic, X, y)\n",
    "\n",
    "from sklearn.metrics import plot_confusion_matrix\n",
    "disp = plot_confusion_matrix(dtb_basic, x_test, y_test,cmap=plt.cm.Blues)"
   ]
  },
  {
   "cell_type": "code",
   "execution_count": null,
   "id": "d5415124",
   "metadata": {},
   "outputs": [],
   "source": [
    "plt.figure(figsize = (16, 12))\n",
    "plot_tree(dtb_basic, filled = True, rounded = True, feature_names = feature_names, fontsize = 8, class_names = classnames)\n",
    "plt.show()"
   ]
  },
  {
   "cell_type": "code",
   "execution_count": null,
   "id": "8595f9ee",
   "metadata": {},
   "outputs": [],
   "source": []
  },
  {
   "cell_type": "code",
   "execution_count": null,
   "id": "33d5d1ff",
   "metadata": {},
   "outputs": [],
   "source": []
  }
 ],
 "metadata": {
  "kernelspec": {
   "display_name": "Python 3.8.3 ('base')",
   "language": "python",
   "name": "python3"
  },
  "language_info": {
   "codemirror_mode": {
    "name": "ipython",
    "version": 3
   },
   "file_extension": ".py",
   "mimetype": "text/x-python",
   "name": "python",
   "nbconvert_exporter": "python",
   "pygments_lexer": "ipython3",
   "version": "3.8.3 (default, Jul  2 2020, 17:30:36) [MSC v.1916 64 bit (AMD64)]"
  },
  "vscode": {
   "interpreter": {
    "hash": "e520a469617dc4d8bf771f1a7d6422397314db060637112fffa727df7f704ab9"
   }
  }
 },
 "nbformat": 4,
 "nbformat_minor": 5
}
