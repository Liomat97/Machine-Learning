{
 "cells": [
  {
   "cell_type": "markdown",
   "id": "c5c9ed7a",
   "metadata": {},
   "source": [
    "# Import of the Data files and basic Libraries"
   ]
  },
  {
   "cell_type": "code",
   "execution_count": 1,
   "id": "14047bd7",
   "metadata": {},
   "outputs": [],
   "source": [
    "# import pandas\n",
    "import pandas as pd\n",
    "\n",
    "# import numpy\n",
    "import numpy as np \n",
    "\n",
    "# import matplot\n",
    "import matplotlib.pyplot as plt \n",
    "\n",
    "# import seaborn\n",
    "import seaborn as sns\n",
    "\n",
    "# other imports will be made when needed later in the code"
   ]
  },
  {
   "cell_type": "code",
   "execution_count": 2,
   "id": "49fa703a",
   "metadata": {},
   "outputs": [],
   "source": [
    "HD = pd.read_csv('HeartDisease.csv', sep=',')"
   ]
  },
  {
   "cell_type": "markdown",
   "id": "cb8dfb39",
   "metadata": {},
   "source": [
    "# Inspecting the Dataset"
   ]
  },
  {
   "cell_type": "code",
   "execution_count": 3,
   "id": "2d9f027b",
   "metadata": {},
   "outputs": [
    {
     "data": {
      "text/html": [
       "<div>\n",
       "<style scoped>\n",
       "    .dataframe tbody tr th:only-of-type {\n",
       "        vertical-align: middle;\n",
       "    }\n",
       "\n",
       "    .dataframe tbody tr th {\n",
       "        vertical-align: top;\n",
       "    }\n",
       "\n",
       "    .dataframe thead th {\n",
       "        text-align: right;\n",
       "    }\n",
       "</style>\n",
       "<table border=\"1\" class=\"dataframe\">\n",
       "  <thead>\n",
       "    <tr style=\"text-align: right;\">\n",
       "      <th></th>\n",
       "      <th>age</th>\n",
       "      <th>sex</th>\n",
       "      <th>cp</th>\n",
       "      <th>trestbps</th>\n",
       "      <th>chol</th>\n",
       "      <th>fbs</th>\n",
       "      <th>restecg</th>\n",
       "      <th>thalach</th>\n",
       "      <th>exang</th>\n",
       "      <th>oldpeak</th>\n",
       "      <th>slope</th>\n",
       "      <th>ca</th>\n",
       "      <th>thal</th>\n",
       "      <th>class</th>\n",
       "    </tr>\n",
       "  </thead>\n",
       "  <tbody>\n",
       "    <tr>\n",
       "      <th>0</th>\n",
       "      <td>63.0</td>\n",
       "      <td>1.0</td>\n",
       "      <td>1.0</td>\n",
       "      <td>145.0</td>\n",
       "      <td>233.0</td>\n",
       "      <td>1.0</td>\n",
       "      <td>2.0</td>\n",
       "      <td>150.0</td>\n",
       "      <td>0.0</td>\n",
       "      <td>2.3</td>\n",
       "      <td>3.0</td>\n",
       "      <td>0.0</td>\n",
       "      <td>6.0</td>\n",
       "      <td>0</td>\n",
       "    </tr>\n",
       "    <tr>\n",
       "      <th>1</th>\n",
       "      <td>67.0</td>\n",
       "      <td>1.0</td>\n",
       "      <td>4.0</td>\n",
       "      <td>160.0</td>\n",
       "      <td>286.0</td>\n",
       "      <td>0.0</td>\n",
       "      <td>2.0</td>\n",
       "      <td>108.0</td>\n",
       "      <td>1.0</td>\n",
       "      <td>1.5</td>\n",
       "      <td>2.0</td>\n",
       "      <td>3.0</td>\n",
       "      <td>3.0</td>\n",
       "      <td>2</td>\n",
       "    </tr>\n",
       "    <tr>\n",
       "      <th>2</th>\n",
       "      <td>67.0</td>\n",
       "      <td>1.0</td>\n",
       "      <td>4.0</td>\n",
       "      <td>120.0</td>\n",
       "      <td>229.0</td>\n",
       "      <td>0.0</td>\n",
       "      <td>2.0</td>\n",
       "      <td>129.0</td>\n",
       "      <td>1.0</td>\n",
       "      <td>2.6</td>\n",
       "      <td>2.0</td>\n",
       "      <td>2.0</td>\n",
       "      <td>7.0</td>\n",
       "      <td>1</td>\n",
       "    </tr>\n",
       "    <tr>\n",
       "      <th>3</th>\n",
       "      <td>37.0</td>\n",
       "      <td>1.0</td>\n",
       "      <td>3.0</td>\n",
       "      <td>130.0</td>\n",
       "      <td>250.0</td>\n",
       "      <td>0.0</td>\n",
       "      <td>0.0</td>\n",
       "      <td>187.0</td>\n",
       "      <td>0.0</td>\n",
       "      <td>3.5</td>\n",
       "      <td>3.0</td>\n",
       "      <td>0.0</td>\n",
       "      <td>3.0</td>\n",
       "      <td>0</td>\n",
       "    </tr>\n",
       "    <tr>\n",
       "      <th>4</th>\n",
       "      <td>41.0</td>\n",
       "      <td>0.0</td>\n",
       "      <td>2.0</td>\n",
       "      <td>130.0</td>\n",
       "      <td>204.0</td>\n",
       "      <td>0.0</td>\n",
       "      <td>2.0</td>\n",
       "      <td>172.0</td>\n",
       "      <td>0.0</td>\n",
       "      <td>1.4</td>\n",
       "      <td>1.0</td>\n",
       "      <td>0.0</td>\n",
       "      <td>3.0</td>\n",
       "      <td>0</td>\n",
       "    </tr>\n",
       "  </tbody>\n",
       "</table>\n",
       "</div>"
      ],
      "text/plain": [
       "    age  sex   cp  trestbps   chol  fbs  restecg  thalach  exang  oldpeak  \\\n",
       "0  63.0  1.0  1.0     145.0  233.0  1.0      2.0    150.0    0.0      2.3   \n",
       "1  67.0  1.0  4.0     160.0  286.0  0.0      2.0    108.0    1.0      1.5   \n",
       "2  67.0  1.0  4.0     120.0  229.0  0.0      2.0    129.0    1.0      2.6   \n",
       "3  37.0  1.0  3.0     130.0  250.0  0.0      0.0    187.0    0.0      3.5   \n",
       "4  41.0  0.0  2.0     130.0  204.0  0.0      2.0    172.0    0.0      1.4   \n",
       "\n",
       "   slope   ca  thal  class  \n",
       "0    3.0  0.0   6.0      0  \n",
       "1    2.0  3.0   3.0      2  \n",
       "2    2.0  2.0   7.0      1  \n",
       "3    3.0  0.0   3.0      0  \n",
       "4    1.0  0.0   3.0      0  "
      ]
     },
     "execution_count": 3,
     "metadata": {},
     "output_type": "execute_result"
    }
   ],
   "source": [
    "HD.head(5)"
   ]
  },
  {
   "cell_type": "code",
   "execution_count": 4,
   "id": "142b5103",
   "metadata": {},
   "outputs": [
    {
     "name": "stdout",
     "output_type": "stream",
     "text": [
      "<class 'pandas.core.frame.DataFrame'>\n",
      "RangeIndex: 297 entries, 0 to 296\n",
      "Data columns (total 14 columns):\n",
      " #   Column    Non-Null Count  Dtype  \n",
      "---  ------    --------------  -----  \n",
      " 0   age       297 non-null    float64\n",
      " 1   sex       297 non-null    float64\n",
      " 2   cp        297 non-null    float64\n",
      " 3   trestbps  297 non-null    float64\n",
      " 4   chol      297 non-null    float64\n",
      " 5   fbs       297 non-null    float64\n",
      " 6   restecg   297 non-null    float64\n",
      " 7   thalach   297 non-null    float64\n",
      " 8   exang     297 non-null    float64\n",
      " 9   oldpeak   297 non-null    float64\n",
      " 10  slope     297 non-null    float64\n",
      " 11  ca        297 non-null    float64\n",
      " 12  thal      297 non-null    float64\n",
      " 13  class     297 non-null    int64  \n",
      "dtypes: float64(13), int64(1)\n",
      "memory usage: 32.6 KB\n"
     ]
    }
   ],
   "source": [
    "HD.info()"
   ]
  },
  {
   "cell_type": "code",
   "execution_count": 5,
   "id": "db96e5e7",
   "metadata": {},
   "outputs": [
    {
     "name": "stdout",
     "output_type": "stream",
     "text": [
      "The shape of the Dataset is:  (297, 14)\n"
     ]
    }
   ],
   "source": [
    "print('The shape of the Dataset is: ', HD.shape)"
   ]
  },
  {
   "cell_type": "code",
   "execution_count": 6,
   "id": "106b825a",
   "metadata": {
    "scrolled": true
   },
   "outputs": [
    {
     "data": {
      "text/html": [
       "<div>\n",
       "<style scoped>\n",
       "    .dataframe tbody tr th:only-of-type {\n",
       "        vertical-align: middle;\n",
       "    }\n",
       "\n",
       "    .dataframe tbody tr th {\n",
       "        vertical-align: top;\n",
       "    }\n",
       "\n",
       "    .dataframe thead th {\n",
       "        text-align: right;\n",
       "    }\n",
       "</style>\n",
       "<table border=\"1\" class=\"dataframe\">\n",
       "  <thead>\n",
       "    <tr style=\"text-align: right;\">\n",
       "      <th></th>\n",
       "      <th>age</th>\n",
       "      <th>sex</th>\n",
       "      <th>cp</th>\n",
       "      <th>trestbps</th>\n",
       "      <th>chol</th>\n",
       "      <th>fbs</th>\n",
       "      <th>restecg</th>\n",
       "      <th>thalach</th>\n",
       "      <th>exang</th>\n",
       "      <th>oldpeak</th>\n",
       "      <th>slope</th>\n",
       "      <th>ca</th>\n",
       "      <th>thal</th>\n",
       "      <th>class</th>\n",
       "    </tr>\n",
       "  </thead>\n",
       "  <tbody>\n",
       "    <tr>\n",
       "      <th>count</th>\n",
       "      <td>297.000000</td>\n",
       "      <td>297.000000</td>\n",
       "      <td>297.000000</td>\n",
       "      <td>297.000000</td>\n",
       "      <td>297.000000</td>\n",
       "      <td>297.000000</td>\n",
       "      <td>297.000000</td>\n",
       "      <td>297.000000</td>\n",
       "      <td>297.000000</td>\n",
       "      <td>297.000000</td>\n",
       "      <td>297.000000</td>\n",
       "      <td>297.000000</td>\n",
       "      <td>297.000000</td>\n",
       "      <td>297.000000</td>\n",
       "    </tr>\n",
       "    <tr>\n",
       "      <th>mean</th>\n",
       "      <td>54.542088</td>\n",
       "      <td>0.676768</td>\n",
       "      <td>3.158249</td>\n",
       "      <td>131.693603</td>\n",
       "      <td>247.350168</td>\n",
       "      <td>0.144781</td>\n",
       "      <td>0.996633</td>\n",
       "      <td>149.599327</td>\n",
       "      <td>0.326599</td>\n",
       "      <td>1.055556</td>\n",
       "      <td>1.602694</td>\n",
       "      <td>0.676768</td>\n",
       "      <td>4.730640</td>\n",
       "      <td>0.946128</td>\n",
       "    </tr>\n",
       "    <tr>\n",
       "      <th>std</th>\n",
       "      <td>9.049736</td>\n",
       "      <td>0.468500</td>\n",
       "      <td>0.964859</td>\n",
       "      <td>17.762806</td>\n",
       "      <td>51.997583</td>\n",
       "      <td>0.352474</td>\n",
       "      <td>0.994914</td>\n",
       "      <td>22.941562</td>\n",
       "      <td>0.469761</td>\n",
       "      <td>1.166123</td>\n",
       "      <td>0.618187</td>\n",
       "      <td>0.938965</td>\n",
       "      <td>1.938629</td>\n",
       "      <td>1.234551</td>\n",
       "    </tr>\n",
       "    <tr>\n",
       "      <th>min</th>\n",
       "      <td>29.000000</td>\n",
       "      <td>0.000000</td>\n",
       "      <td>1.000000</td>\n",
       "      <td>94.000000</td>\n",
       "      <td>126.000000</td>\n",
       "      <td>0.000000</td>\n",
       "      <td>0.000000</td>\n",
       "      <td>71.000000</td>\n",
       "      <td>0.000000</td>\n",
       "      <td>0.000000</td>\n",
       "      <td>1.000000</td>\n",
       "      <td>0.000000</td>\n",
       "      <td>3.000000</td>\n",
       "      <td>0.000000</td>\n",
       "    </tr>\n",
       "    <tr>\n",
       "      <th>25%</th>\n",
       "      <td>48.000000</td>\n",
       "      <td>0.000000</td>\n",
       "      <td>3.000000</td>\n",
       "      <td>120.000000</td>\n",
       "      <td>211.000000</td>\n",
       "      <td>0.000000</td>\n",
       "      <td>0.000000</td>\n",
       "      <td>133.000000</td>\n",
       "      <td>0.000000</td>\n",
       "      <td>0.000000</td>\n",
       "      <td>1.000000</td>\n",
       "      <td>0.000000</td>\n",
       "      <td>3.000000</td>\n",
       "      <td>0.000000</td>\n",
       "    </tr>\n",
       "    <tr>\n",
       "      <th>50%</th>\n",
       "      <td>56.000000</td>\n",
       "      <td>1.000000</td>\n",
       "      <td>3.000000</td>\n",
       "      <td>130.000000</td>\n",
       "      <td>243.000000</td>\n",
       "      <td>0.000000</td>\n",
       "      <td>1.000000</td>\n",
       "      <td>153.000000</td>\n",
       "      <td>0.000000</td>\n",
       "      <td>0.800000</td>\n",
       "      <td>2.000000</td>\n",
       "      <td>0.000000</td>\n",
       "      <td>3.000000</td>\n",
       "      <td>0.000000</td>\n",
       "    </tr>\n",
       "    <tr>\n",
       "      <th>75%</th>\n",
       "      <td>61.000000</td>\n",
       "      <td>1.000000</td>\n",
       "      <td>4.000000</td>\n",
       "      <td>140.000000</td>\n",
       "      <td>276.000000</td>\n",
       "      <td>0.000000</td>\n",
       "      <td>2.000000</td>\n",
       "      <td>166.000000</td>\n",
       "      <td>1.000000</td>\n",
       "      <td>1.600000</td>\n",
       "      <td>2.000000</td>\n",
       "      <td>1.000000</td>\n",
       "      <td>7.000000</td>\n",
       "      <td>2.000000</td>\n",
       "    </tr>\n",
       "    <tr>\n",
       "      <th>max</th>\n",
       "      <td>77.000000</td>\n",
       "      <td>1.000000</td>\n",
       "      <td>4.000000</td>\n",
       "      <td>200.000000</td>\n",
       "      <td>564.000000</td>\n",
       "      <td>1.000000</td>\n",
       "      <td>2.000000</td>\n",
       "      <td>202.000000</td>\n",
       "      <td>1.000000</td>\n",
       "      <td>6.200000</td>\n",
       "      <td>3.000000</td>\n",
       "      <td>3.000000</td>\n",
       "      <td>7.000000</td>\n",
       "      <td>4.000000</td>\n",
       "    </tr>\n",
       "  </tbody>\n",
       "</table>\n",
       "</div>"
      ],
      "text/plain": [
       "              age         sex          cp    trestbps        chol         fbs  \\\n",
       "count  297.000000  297.000000  297.000000  297.000000  297.000000  297.000000   \n",
       "mean    54.542088    0.676768    3.158249  131.693603  247.350168    0.144781   \n",
       "std      9.049736    0.468500    0.964859   17.762806   51.997583    0.352474   \n",
       "min     29.000000    0.000000    1.000000   94.000000  126.000000    0.000000   \n",
       "25%     48.000000    0.000000    3.000000  120.000000  211.000000    0.000000   \n",
       "50%     56.000000    1.000000    3.000000  130.000000  243.000000    0.000000   \n",
       "75%     61.000000    1.000000    4.000000  140.000000  276.000000    0.000000   \n",
       "max     77.000000    1.000000    4.000000  200.000000  564.000000    1.000000   \n",
       "\n",
       "          restecg     thalach       exang     oldpeak       slope          ca  \\\n",
       "count  297.000000  297.000000  297.000000  297.000000  297.000000  297.000000   \n",
       "mean     0.996633  149.599327    0.326599    1.055556    1.602694    0.676768   \n",
       "std      0.994914   22.941562    0.469761    1.166123    0.618187    0.938965   \n",
       "min      0.000000   71.000000    0.000000    0.000000    1.000000    0.000000   \n",
       "25%      0.000000  133.000000    0.000000    0.000000    1.000000    0.000000   \n",
       "50%      1.000000  153.000000    0.000000    0.800000    2.000000    0.000000   \n",
       "75%      2.000000  166.000000    1.000000    1.600000    2.000000    1.000000   \n",
       "max      2.000000  202.000000    1.000000    6.200000    3.000000    3.000000   \n",
       "\n",
       "             thal       class  \n",
       "count  297.000000  297.000000  \n",
       "mean     4.730640    0.946128  \n",
       "std      1.938629    1.234551  \n",
       "min      3.000000    0.000000  \n",
       "25%      3.000000    0.000000  \n",
       "50%      3.000000    0.000000  \n",
       "75%      7.000000    2.000000  \n",
       "max      7.000000    4.000000  "
      ]
     },
     "execution_count": 6,
     "metadata": {},
     "output_type": "execute_result"
    }
   ],
   "source": [
    "HD.describe()"
   ]
  },
  {
   "cell_type": "code",
   "execution_count": 7,
   "id": "c826e4ba",
   "metadata": {},
   "outputs": [
    {
     "data": {
      "text/html": [
       "<style type=\"text/css\">\n",
       "#T_aad59_row0_col0, #T_aad59_row1_col1, #T_aad59_row2_col2, #T_aad59_row3_col3, #T_aad59_row4_col4, #T_aad59_row5_col5, #T_aad59_row6_col6, #T_aad59_row7_col7, #T_aad59_row8_col8, #T_aad59_row9_col9, #T_aad59_row10_col10, #T_aad59_row11_col11, #T_aad59_row12_col12, #T_aad59_row13_col13 {\n",
       "  background-color: #800026;\n",
       "  color: #f1f1f1;\n",
       "}\n",
       "#T_aad59_row0_col1 {\n",
       "  background-color: #fff3ae;\n",
       "  color: #000000;\n",
       "}\n",
       "#T_aad59_row0_col2, #T_aad59_row0_col3, #T_aad59_row0_col4 {\n",
       "  background-color: #febf5a;\n",
       "  color: #000000;\n",
       "}\n",
       "#T_aad59_row0_col5, #T_aad59_row5_col4, #T_aad59_row10_col3 {\n",
       "  background-color: #ffe58f;\n",
       "  color: #000000;\n",
       "}\n",
       "#T_aad59_row0_col6, #T_aad59_row5_col2 {\n",
       "  background-color: #fee084;\n",
       "  color: #000000;\n",
       "}\n",
       "#T_aad59_row0_col7, #T_aad59_row7_col3 {\n",
       "  background-color: #fffdc6;\n",
       "  color: #000000;\n",
       "}\n",
       "#T_aad59_row0_col8 {\n",
       "  background-color: #febb56;\n",
       "  color: #000000;\n",
       "}\n",
       "#T_aad59_row0_col9, #T_aad59_row9_col2 {\n",
       "  background-color: #fea948;\n",
       "  color: #000000;\n",
       "}\n",
       "#T_aad59_row0_col10, #T_aad59_row2_col11, #T_aad59_row10_col0 {\n",
       "  background-color: #feac49;\n",
       "  color: #000000;\n",
       "}\n",
       "#T_aad59_row0_col11 {\n",
       "  background-color: #fd8e3c;\n",
       "  color: #f1f1f1;\n",
       "}\n",
       "#T_aad59_row0_col12, #T_aad59_row5_col10, #T_aad59_row6_col11 {\n",
       "  background-color: #fec561;\n",
       "  color: #000000;\n",
       "}\n",
       "#T_aad59_row0_col13 {\n",
       "  background-color: #fd9c42;\n",
       "  color: #000000;\n",
       "}\n",
       "#T_aad59_row1_col0, #T_aad59_row8_col4 {\n",
       "  background-color: #fede82;\n",
       "  color: #000000;\n",
       "}\n",
       "#T_aad59_row1_col2, #T_aad59_row3_col7 {\n",
       "  background-color: #fed673;\n",
       "  color: #000000;\n",
       "}\n",
       "#T_aad59_row1_col3, #T_aad59_row1_col4, #T_aad59_row2_col5, #T_aad59_row4_col1, #T_aad59_row7_col0, #T_aad59_row7_col2, #T_aad59_row7_col6, #T_aad59_row7_col8, #T_aad59_row7_col9, #T_aad59_row7_col10, #T_aad59_row7_col11, #T_aad59_row7_col12, #T_aad59_row7_col13, #T_aad59_row13_col7 {\n",
       "  background-color: #ffffcc;\n",
       "  color: #000000;\n",
       "}\n",
       "#T_aad59_row1_col5 {\n",
       "  background-color: #fff2ac;\n",
       "  color: #000000;\n",
       "}\n",
       "#T_aad59_row1_col6, #T_aad59_row10_col5, #T_aad59_row13_col5 {\n",
       "  background-color: #fff1a9;\n",
       "  color: #000000;\n",
       "}\n",
       "#T_aad59_row1_col7 {\n",
       "  background-color: #fed976;\n",
       "  color: #000000;\n",
       "}\n",
       "#T_aad59_row1_col8 {\n",
       "  background-color: #feb04b;\n",
       "  color: #000000;\n",
       "}\n",
       "#T_aad59_row1_col9, #T_aad59_row6_col8 {\n",
       "  background-color: #febe59;\n",
       "  color: #000000;\n",
       "}\n",
       "#T_aad59_row1_col10, #T_aad59_row4_col11, #T_aad59_row6_col2, #T_aad59_row6_col4 {\n",
       "  background-color: #fec965;\n",
       "  color: #000000;\n",
       "}\n",
       "#T_aad59_row1_col11 {\n",
       "  background-color: #fecf6b;\n",
       "  color: #000000;\n",
       "}\n",
       "#T_aad59_row1_col12 {\n",
       "  background-color: #fd8439;\n",
       "  color: #f1f1f1;\n",
       "}\n",
       "#T_aad59_row1_col13, #T_aad59_row12_col2 {\n",
       "  background-color: #fd9a42;\n",
       "  color: #000000;\n",
       "}\n",
       "#T_aad59_row2_col0 {\n",
       "  background-color: #feb651;\n",
       "  color: #000000;\n",
       "}\n",
       "#T_aad59_row2_col1, #T_aad59_row9_col6, #T_aad59_row12_col4 {\n",
       "  background-color: #ffe590;\n",
       "  color: #000000;\n",
       "}\n",
       "#T_aad59_row2_col3 {\n",
       "  background-color: #fffbc2;\n",
       "  color: #000000;\n",
       "}\n",
       "#T_aad59_row2_col4, #T_aad59_row3_col2, #T_aad59_row3_col5, #T_aad59_row4_col12 {\n",
       "  background-color: #fedd7f;\n",
       "  color: #000000;\n",
       "}\n",
       "#T_aad59_row2_col6 {\n",
       "  background-color: #ffeda0;\n",
       "  color: #000000;\n",
       "}\n",
       "#T_aad59_row2_col7 {\n",
       "  background-color: #fff7b9;\n",
       "  color: #000000;\n",
       "}\n",
       "#T_aad59_row2_col8, #T_aad59_row13_col10 {\n",
       "  background-color: #fd7435;\n",
       "  color: #f1f1f1;\n",
       "}\n",
       "#T_aad59_row2_col9, #T_aad59_row3_col13 {\n",
       "  background-color: #fea848;\n",
       "  color: #000000;\n",
       "}\n",
       "#T_aad59_row2_col10, #T_aad59_row6_col0 {\n",
       "  background-color: #feae4a;\n",
       "  color: #000000;\n",
       "}\n",
       "#T_aad59_row2_col12, #T_aad59_row4_col0, #T_aad59_row11_col2 {\n",
       "  background-color: #fea245;\n",
       "  color: #000000;\n",
       "}\n",
       "#T_aad59_row2_col13 {\n",
       "  background-color: #fc6430;\n",
       "  color: #f1f1f1;\n",
       "}\n",
       "#T_aad59_row3_col0 {\n",
       "  background-color: #fd903d;\n",
       "  color: #000000;\n",
       "}\n",
       "#T_aad59_row3_col1 {\n",
       "  background-color: #ffefa5;\n",
       "  color: #000000;\n",
       "}\n",
       "#T_aad59_row3_col4, #T_aad59_row4_col10, #T_aad59_row5_col8 {\n",
       "  background-color: #fed16e;\n",
       "  color: #000000;\n",
       "}\n",
       "#T_aad59_row3_col6 {\n",
       "  background-color: #fee085;\n",
       "  color: #000000;\n",
       "}\n",
       "#T_aad59_row3_col8 {\n",
       "  background-color: #fec15d;\n",
       "  color: #000000;\n",
       "}\n",
       "#T_aad59_row3_col9 {\n",
       "  background-color: #feab49;\n",
       "  color: #000000;\n",
       "}\n",
       "#T_aad59_row3_col10 {\n",
       "  background-color: #feb44e;\n",
       "  color: #000000;\n",
       "}\n",
       "#T_aad59_row3_col11, #T_aad59_row4_col9, #T_aad59_row8_col1 {\n",
       "  background-color: #fece6a;\n",
       "  color: #000000;\n",
       "}\n",
       "#T_aad59_row3_col12, #T_aad59_row4_col8 {\n",
       "  background-color: #fec35e;\n",
       "  color: #000000;\n",
       "}\n",
       "#T_aad59_row4_col2 {\n",
       "  background-color: #fec863;\n",
       "  color: #000000;\n",
       "}\n",
       "#T_aad59_row4_col3 {\n",
       "  background-color: #ffe48c;\n",
       "  color: #000000;\n",
       "}\n",
       "#T_aad59_row4_col5 {\n",
       "  background-color: #fff5b5;\n",
       "  color: #000000;\n",
       "}\n",
       "#T_aad59_row4_col6, #T_aad59_row13_col4 {\n",
       "  background-color: #fede80;\n",
       "  color: #000000;\n",
       "}\n",
       "#T_aad59_row4_col7 {\n",
       "  background-color: #fecb67;\n",
       "  color: #000000;\n",
       "}\n",
       "#T_aad59_row4_col13, #T_aad59_row6_col9 {\n",
       "  background-color: #febd57;\n",
       "  color: #000000;\n",
       "}\n",
       "#T_aad59_row5_col0, #T_aad59_row6_col10 {\n",
       "  background-color: #feb24c;\n",
       "  color: #000000;\n",
       "}\n",
       "#T_aad59_row5_col1, #T_aad59_row9_col4, #T_aad59_row11_col5 {\n",
       "  background-color: #fee288;\n",
       "  color: #000000;\n",
       "}\n",
       "#T_aad59_row5_col3 {\n",
       "  background-color: #fedc7c;\n",
       "  color: #000000;\n",
       "}\n",
       "#T_aad59_row5_col6 {\n",
       "  background-color: #ffec9f;\n",
       "  color: #000000;\n",
       "}\n",
       "#T_aad59_row5_col7 {\n",
       "  background-color: #fecc68;\n",
       "  color: #000000;\n",
       "}\n",
       "#T_aad59_row5_col9, #T_aad59_row5_col12, #T_aad59_row11_col4 {\n",
       "  background-color: #fed572;\n",
       "  color: #000000;\n",
       "}\n",
       "#T_aad59_row5_col11, #T_aad59_row5_col13, #T_aad59_row8_col11 {\n",
       "  background-color: #fec05b;\n",
       "  color: #000000;\n",
       "}\n",
       "#T_aad59_row6_col1, #T_aad59_row10_col1, #T_aad59_row10_col6, #T_aad59_row12_col3 {\n",
       "  background-color: #fee289;\n",
       "  color: #000000;\n",
       "}\n",
       "#T_aad59_row6_col3 {\n",
       "  background-color: #fee187;\n",
       "  color: #000000;\n",
       "}\n",
       "#T_aad59_row6_col5 {\n",
       "  background-color: #ffeea3;\n",
       "  color: #000000;\n",
       "}\n",
       "#T_aad59_row6_col7 {\n",
       "  background-color: #feda78;\n",
       "  color: #000000;\n",
       "}\n",
       "#T_aad59_row6_col12 {\n",
       "  background-color: #fedd7e;\n",
       "  color: #000000;\n",
       "}\n",
       "#T_aad59_row6_col13, #T_aad59_row9_col0 {\n",
       "  background-color: #fea446;\n",
       "  color: #000000;\n",
       "}\n",
       "#T_aad59_row7_col1, #T_aad59_row12_col5 {\n",
       "  background-color: #ffefa4;\n",
       "  color: #000000;\n",
       "}\n",
       "#T_aad59_row7_col4 {\n",
       "  background-color: #ffe793;\n",
       "  color: #000000;\n",
       "}\n",
       "#T_aad59_row7_col5 {\n",
       "  background-color: #fff8bb;\n",
       "  color: #000000;\n",
       "}\n",
       "#T_aad59_row8_col0, #T_aad59_row13_col1 {\n",
       "  background-color: #feb953;\n",
       "  color: #000000;\n",
       "}\n",
       "#T_aad59_row8_col2 {\n",
       "  background-color: #fd7a37;\n",
       "  color: #f1f1f1;\n",
       "}\n",
       "#T_aad59_row8_col3 {\n",
       "  background-color: #ffeda1;\n",
       "  color: #000000;\n",
       "}\n",
       "#T_aad59_row8_col5, #T_aad59_row9_col7 {\n",
       "  background-color: #fff8ba;\n",
       "  color: #000000;\n",
       "}\n",
       "#T_aad59_row8_col6 {\n",
       "  background-color: #ffea9b;\n",
       "  color: #000000;\n",
       "}\n",
       "#T_aad59_row8_col7 {\n",
       "  background-color: #fffcc4;\n",
       "  color: #000000;\n",
       "}\n",
       "#T_aad59_row8_col9, #T_aad59_row8_col12 {\n",
       "  background-color: #fd9640;\n",
       "  color: #000000;\n",
       "}\n",
       "#T_aad59_row8_col10, #T_aad59_row10_col8 {\n",
       "  background-color: #fd9941;\n",
       "  color: #000000;\n",
       "}\n",
       "#T_aad59_row8_col13 {\n",
       "  background-color: #fc6832;\n",
       "  color: #f1f1f1;\n",
       "}\n",
       "#T_aad59_row9_col1 {\n",
       "  background-color: #fed774;\n",
       "  color: #000000;\n",
       "}\n",
       "#T_aad59_row9_col3, #T_aad59_row11_col1, #T_aad59_row13_col6 {\n",
       "  background-color: #fedb7a;\n",
       "  color: #000000;\n",
       "}\n",
       "#T_aad59_row9_col5 {\n",
       "  background-color: #fff7b7;\n",
       "  color: #000000;\n",
       "}\n",
       "#T_aad59_row9_col8, #T_aad59_row9_col12, #T_aad59_row12_col1 {\n",
       "  background-color: #fd913e;\n",
       "  color: #000000;\n",
       "}\n",
       "#T_aad59_row9_col10 {\n",
       "  background-color: #ed3022;\n",
       "  color: #f1f1f1;\n",
       "}\n",
       "#T_aad59_row9_col11, #T_aad59_row13_col0 {\n",
       "  background-color: #fd9e43;\n",
       "  color: #000000;\n",
       "}\n",
       "#T_aad59_row9_col13 {\n",
       "  background-color: #f74327;\n",
       "  color: #f1f1f1;\n",
       "}\n",
       "#T_aad59_row10_col2 {\n",
       "  background-color: #feb54f;\n",
       "  color: #000000;\n",
       "}\n",
       "#T_aad59_row10_col4 {\n",
       "  background-color: #ffe895;\n",
       "  color: #000000;\n",
       "}\n",
       "#T_aad59_row10_col7 {\n",
       "  background-color: #fffcc5;\n",
       "  color: #000000;\n",
       "}\n",
       "#T_aad59_row10_col9 {\n",
       "  background-color: #ef3323;\n",
       "  color: #f1f1f1;\n",
       "}\n",
       "#T_aad59_row10_col11 {\n",
       "  background-color: #feca66;\n",
       "  color: #000000;\n",
       "}\n",
       "#T_aad59_row10_col12 {\n",
       "  background-color: #fea044;\n",
       "  color: #000000;\n",
       "}\n",
       "#T_aad59_row10_col13, #T_aad59_row13_col8 {\n",
       "  background-color: #fd6e33;\n",
       "  color: #f1f1f1;\n",
       "}\n",
       "#T_aad59_row11_col0 {\n",
       "  background-color: #fd7836;\n",
       "  color: #f1f1f1;\n",
       "}\n",
       "#T_aad59_row11_col3 {\n",
       "  background-color: #ffe997;\n",
       "  color: #000000;\n",
       "}\n",
       "#T_aad59_row11_col6 {\n",
       "  background-color: #fee38b;\n",
       "  color: #000000;\n",
       "}\n",
       "#T_aad59_row11_col7 {\n",
       "  background-color: #fff0a7;\n",
       "  color: #000000;\n",
       "}\n",
       "#T_aad59_row11_col8 {\n",
       "  background-color: #feaf4b;\n",
       "  color: #000000;\n",
       "}\n",
       "#T_aad59_row11_col9 {\n",
       "  background-color: #fd953f;\n",
       "  color: #000000;\n",
       "}\n",
       "#T_aad59_row11_col10 {\n",
       "  background-color: #feb852;\n",
       "  color: #000000;\n",
       "}\n",
       "#T_aad59_row11_col12 {\n",
       "  background-color: #fea647;\n",
       "  color: #000000;\n",
       "}\n",
       "#T_aad59_row11_col13 {\n",
       "  background-color: #f43e26;\n",
       "  color: #f1f1f1;\n",
       "}\n",
       "#T_aad59_row12_col0 {\n",
       "  background-color: #feb34d;\n",
       "  color: #000000;\n",
       "}\n",
       "#T_aad59_row12_col6 {\n",
       "  background-color: #fff3af;\n",
       "  color: #000000;\n",
       "}\n",
       "#T_aad59_row12_col7 {\n",
       "  background-color: #fff0a8;\n",
       "  color: #000000;\n",
       "}\n",
       "#T_aad59_row12_col8, #T_aad59_row12_col9 {\n",
       "  background-color: #fd863a;\n",
       "  color: #f1f1f1;\n",
       "}\n",
       "#T_aad59_row12_col10 {\n",
       "  background-color: #fd923e;\n",
       "  color: #000000;\n",
       "}\n",
       "#T_aad59_row12_col11 {\n",
       "  background-color: #fea747;\n",
       "  color: #000000;\n",
       "}\n",
       "#T_aad59_row12_col13 {\n",
       "  background-color: #f54026;\n",
       "  color: #f1f1f1;\n",
       "}\n",
       "#T_aad59_row13_col2 {\n",
       "  background-color: #fd7034;\n",
       "  color: #f1f1f1;\n",
       "}\n",
       "#T_aad59_row13_col3 {\n",
       "  background-color: #fedf83;\n",
       "  color: #000000;\n",
       "}\n",
       "#T_aad59_row13_col9 {\n",
       "  background-color: #fb4b29;\n",
       "  color: #f1f1f1;\n",
       "}\n",
       "#T_aad59_row13_col11 {\n",
       "  background-color: #fc4f2a;\n",
       "  color: #f1f1f1;\n",
       "}\n",
       "#T_aad59_row13_col12 {\n",
       "  background-color: #fc512b;\n",
       "  color: #f1f1f1;\n",
       "}\n",
       "</style>\n",
       "<table id=\"T_aad59\">\n",
       "  <thead>\n",
       "    <tr>\n",
       "      <th class=\"blank level0\" >&nbsp;</th>\n",
       "      <th id=\"T_aad59_level0_col0\" class=\"col_heading level0 col0\" >age</th>\n",
       "      <th id=\"T_aad59_level0_col1\" class=\"col_heading level0 col1\" >sex</th>\n",
       "      <th id=\"T_aad59_level0_col2\" class=\"col_heading level0 col2\" >cp</th>\n",
       "      <th id=\"T_aad59_level0_col3\" class=\"col_heading level0 col3\" >trestbps</th>\n",
       "      <th id=\"T_aad59_level0_col4\" class=\"col_heading level0 col4\" >chol</th>\n",
       "      <th id=\"T_aad59_level0_col5\" class=\"col_heading level0 col5\" >fbs</th>\n",
       "      <th id=\"T_aad59_level0_col6\" class=\"col_heading level0 col6\" >restecg</th>\n",
       "      <th id=\"T_aad59_level0_col7\" class=\"col_heading level0 col7\" >thalach</th>\n",
       "      <th id=\"T_aad59_level0_col8\" class=\"col_heading level0 col8\" >exang</th>\n",
       "      <th id=\"T_aad59_level0_col9\" class=\"col_heading level0 col9\" >oldpeak</th>\n",
       "      <th id=\"T_aad59_level0_col10\" class=\"col_heading level0 col10\" >slope</th>\n",
       "      <th id=\"T_aad59_level0_col11\" class=\"col_heading level0 col11\" >ca</th>\n",
       "      <th id=\"T_aad59_level0_col12\" class=\"col_heading level0 col12\" >thal</th>\n",
       "      <th id=\"T_aad59_level0_col13\" class=\"col_heading level0 col13\" >class</th>\n",
       "    </tr>\n",
       "  </thead>\n",
       "  <tbody>\n",
       "    <tr>\n",
       "      <th id=\"T_aad59_level0_row0\" class=\"row_heading level0 row0\" >age</th>\n",
       "      <td id=\"T_aad59_row0_col0\" class=\"data row0 col0\" >1.000000</td>\n",
       "      <td id=\"T_aad59_row0_col1\" class=\"data row0 col1\" >-0.092399</td>\n",
       "      <td id=\"T_aad59_row0_col2\" class=\"data row0 col2\" >0.110471</td>\n",
       "      <td id=\"T_aad59_row0_col3\" class=\"data row0 col3\" >0.290476</td>\n",
       "      <td id=\"T_aad59_row0_col4\" class=\"data row0 col4\" >0.202644</td>\n",
       "      <td id=\"T_aad59_row0_col5\" class=\"data row0 col5\" >0.132062</td>\n",
       "      <td id=\"T_aad59_row0_col6\" class=\"data row0 col6\" >0.149917</td>\n",
       "      <td id=\"T_aad59_row0_col7\" class=\"data row0 col7\" >-0.394563</td>\n",
       "      <td id=\"T_aad59_row0_col8\" class=\"data row0 col8\" >0.096489</td>\n",
       "      <td id=\"T_aad59_row0_col9\" class=\"data row0 col9\" >0.197123</td>\n",
       "      <td id=\"T_aad59_row0_col10\" class=\"data row0 col10\" >0.159405</td>\n",
       "      <td id=\"T_aad59_row0_col11\" class=\"data row0 col11\" >0.362210</td>\n",
       "      <td id=\"T_aad59_row0_col12\" class=\"data row0 col12\" >0.126586</td>\n",
       "      <td id=\"T_aad59_row0_col13\" class=\"data row0 col13\" >0.222156</td>\n",
       "    </tr>\n",
       "    <tr>\n",
       "      <th id=\"T_aad59_level0_row1\" class=\"row_heading level0 row1\" >sex</th>\n",
       "      <td id=\"T_aad59_row1_col0\" class=\"data row1 col0\" >-0.092399</td>\n",
       "      <td id=\"T_aad59_row1_col1\" class=\"data row1 col1\" >1.000000</td>\n",
       "      <td id=\"T_aad59_row1_col2\" class=\"data row1 col2\" >0.008908</td>\n",
       "      <td id=\"T_aad59_row1_col3\" class=\"data row1 col3\" >-0.066340</td>\n",
       "      <td id=\"T_aad59_row1_col4\" class=\"data row1 col4\" >-0.198089</td>\n",
       "      <td id=\"T_aad59_row1_col5\" class=\"data row1 col5\" >0.038850</td>\n",
       "      <td id=\"T_aad59_row1_col6\" class=\"data row1 col6\" >0.033897</td>\n",
       "      <td id=\"T_aad59_row1_col7\" class=\"data row1 col7\" >-0.060496</td>\n",
       "      <td id=\"T_aad59_row1_col8\" class=\"data row1 col8\" >0.143581</td>\n",
       "      <td id=\"T_aad59_row1_col9\" class=\"data row1 col9\" >0.106567</td>\n",
       "      <td id=\"T_aad59_row1_col10\" class=\"data row1 col10\" >0.033345</td>\n",
       "      <td id=\"T_aad59_row1_col11\" class=\"data row1 col11\" >0.091925</td>\n",
       "      <td id=\"T_aad59_row1_col12\" class=\"data row1 col12\" >0.383652</td>\n",
       "      <td id=\"T_aad59_row1_col13\" class=\"data row1 col13\" >0.226797</td>\n",
       "    </tr>\n",
       "    <tr>\n",
       "      <th id=\"T_aad59_level0_row2\" class=\"row_heading level0 row2\" >cp</th>\n",
       "      <td id=\"T_aad59_row2_col0\" class=\"data row2 col0\" >0.110471</td>\n",
       "      <td id=\"T_aad59_row2_col1\" class=\"data row2 col1\" >0.008908</td>\n",
       "      <td id=\"T_aad59_row2_col2\" class=\"data row2 col2\" >1.000000</td>\n",
       "      <td id=\"T_aad59_row2_col3\" class=\"data row2 col3\" >-0.036980</td>\n",
       "      <td id=\"T_aad59_row2_col4\" class=\"data row2 col4\" >0.072088</td>\n",
       "      <td id=\"T_aad59_row2_col5\" class=\"data row2 col5\" >-0.057663</td>\n",
       "      <td id=\"T_aad59_row2_col6\" class=\"data row2 col6\" >0.063905</td>\n",
       "      <td id=\"T_aad59_row2_col7\" class=\"data row2 col7\" >-0.339308</td>\n",
       "      <td id=\"T_aad59_row2_col8\" class=\"data row2 col8\" >0.377525</td>\n",
       "      <td id=\"T_aad59_row2_col9\" class=\"data row2 col9\" >0.203244</td>\n",
       "      <td id=\"T_aad59_row2_col10\" class=\"data row2 col10\" >0.151079</td>\n",
       "      <td id=\"T_aad59_row2_col11\" class=\"data row2 col11\" >0.235644</td>\n",
       "      <td id=\"T_aad59_row2_col12\" class=\"data row2 col12\" >0.268500</td>\n",
       "      <td id=\"T_aad59_row2_col13\" class=\"data row2 col13\" >0.404248</td>\n",
       "    </tr>\n",
       "    <tr>\n",
       "      <th id=\"T_aad59_level0_row3\" class=\"row_heading level0 row3\" >trestbps</th>\n",
       "      <td id=\"T_aad59_row3_col0\" class=\"data row3 col0\" >0.290476</td>\n",
       "      <td id=\"T_aad59_row3_col1\" class=\"data row3 col1\" >-0.066340</td>\n",
       "      <td id=\"T_aad59_row3_col2\" class=\"data row3 col2\" >-0.036980</td>\n",
       "      <td id=\"T_aad59_row3_col3\" class=\"data row3 col3\" >1.000000</td>\n",
       "      <td id=\"T_aad59_row3_col4\" class=\"data row3 col4\" >0.131536</td>\n",
       "      <td id=\"T_aad59_row3_col5\" class=\"data row3 col5\" >0.180860</td>\n",
       "      <td id=\"T_aad59_row3_col6\" class=\"data row3 col6\" >0.149242</td>\n",
       "      <td id=\"T_aad59_row3_col7\" class=\"data row3 col7\" >-0.049108</td>\n",
       "      <td id=\"T_aad59_row3_col8\" class=\"data row3 col8\" >0.066691</td>\n",
       "      <td id=\"T_aad59_row3_col9\" class=\"data row3 col9\" >0.191243</td>\n",
       "      <td id=\"T_aad59_row3_col10\" class=\"data row3 col10\" >0.121172</td>\n",
       "      <td id=\"T_aad59_row3_col11\" class=\"data row3 col11\" >0.097954</td>\n",
       "      <td id=\"T_aad59_row3_col12\" class=\"data row3 col12\" >0.138183</td>\n",
       "      <td id=\"T_aad59_row3_col13\" class=\"data row3 col13\" >0.159620</td>\n",
       "    </tr>\n",
       "    <tr>\n",
       "      <th id=\"T_aad59_level0_row4\" class=\"row_heading level0 row4\" >chol</th>\n",
       "      <td id=\"T_aad59_row4_col0\" class=\"data row4 col0\" >0.202644</td>\n",
       "      <td id=\"T_aad59_row4_col1\" class=\"data row4 col1\" >-0.198089</td>\n",
       "      <td id=\"T_aad59_row4_col2\" class=\"data row4 col2\" >0.072088</td>\n",
       "      <td id=\"T_aad59_row4_col3\" class=\"data row4 col3\" >0.131536</td>\n",
       "      <td id=\"T_aad59_row4_col4\" class=\"data row4 col4\" >1.000000</td>\n",
       "      <td id=\"T_aad59_row4_col5\" class=\"data row4 col5\" >0.012708</td>\n",
       "      <td id=\"T_aad59_row4_col6\" class=\"data row4 col6\" >0.165046</td>\n",
       "      <td id=\"T_aad59_row4_col7\" class=\"data row4 col7\" >-0.000075</td>\n",
       "      <td id=\"T_aad59_row4_col8\" class=\"data row4 col8\" >0.059339</td>\n",
       "      <td id=\"T_aad59_row4_col9\" class=\"data row4 col9\" >0.038596</td>\n",
       "      <td id=\"T_aad59_row4_col10\" class=\"data row4 col10\" >-0.009215</td>\n",
       "      <td id=\"T_aad59_row4_col11\" class=\"data row4 col11\" >0.115945</td>\n",
       "      <td id=\"T_aad59_row4_col12\" class=\"data row4 col12\" >0.010859</td>\n",
       "      <td id=\"T_aad59_row4_col13\" class=\"data row4 col13\" >0.066448</td>\n",
       "    </tr>\n",
       "    <tr>\n",
       "      <th id=\"T_aad59_level0_row5\" class=\"row_heading level0 row5\" >fbs</th>\n",
       "      <td id=\"T_aad59_row5_col0\" class=\"data row5 col0\" >0.132062</td>\n",
       "      <td id=\"T_aad59_row5_col1\" class=\"data row5 col1\" >0.038850</td>\n",
       "      <td id=\"T_aad59_row5_col2\" class=\"data row5 col2\" >-0.057663</td>\n",
       "      <td id=\"T_aad59_row5_col3\" class=\"data row5 col3\" >0.180860</td>\n",
       "      <td id=\"T_aad59_row5_col4\" class=\"data row5 col4\" >0.012708</td>\n",
       "      <td id=\"T_aad59_row5_col5\" class=\"data row5 col5\" >1.000000</td>\n",
       "      <td id=\"T_aad59_row5_col6\" class=\"data row5 col6\" >0.068831</td>\n",
       "      <td id=\"T_aad59_row5_col7\" class=\"data row5 col7\" >-0.007842</td>\n",
       "      <td id=\"T_aad59_row5_col8\" class=\"data row5 col8\" >-0.000893</td>\n",
       "      <td id=\"T_aad59_row5_col9\" class=\"data row5 col9\" >0.008311</td>\n",
       "      <td id=\"T_aad59_row5_col10\" class=\"data row5 col10\" >0.047819</td>\n",
       "      <td id=\"T_aad59_row5_col11\" class=\"data row5 col11\" >0.152086</td>\n",
       "      <td id=\"T_aad59_row5_col12\" class=\"data row5 col12\" >0.062209</td>\n",
       "      <td id=\"T_aad59_row5_col13\" class=\"data row5 col13\" >0.049040</td>\n",
       "    </tr>\n",
       "    <tr>\n",
       "      <th id=\"T_aad59_level0_row6\" class=\"row_heading level0 row6\" >restecg</th>\n",
       "      <td id=\"T_aad59_row6_col0\" class=\"data row6 col0\" >0.149917</td>\n",
       "      <td id=\"T_aad59_row6_col1\" class=\"data row6 col1\" >0.033897</td>\n",
       "      <td id=\"T_aad59_row6_col2\" class=\"data row6 col2\" >0.063905</td>\n",
       "      <td id=\"T_aad59_row6_col3\" class=\"data row6 col3\" >0.149242</td>\n",
       "      <td id=\"T_aad59_row6_col4\" class=\"data row6 col4\" >0.165046</td>\n",
       "      <td id=\"T_aad59_row6_col5\" class=\"data row6 col5\" >0.068831</td>\n",
       "      <td id=\"T_aad59_row6_col6\" class=\"data row6 col6\" >1.000000</td>\n",
       "      <td id=\"T_aad59_row6_col7\" class=\"data row6 col7\" >-0.072290</td>\n",
       "      <td id=\"T_aad59_row6_col8\" class=\"data row6 col8\" >0.081874</td>\n",
       "      <td id=\"T_aad59_row6_col9\" class=\"data row6 col9\" >0.113726</td>\n",
       "      <td id=\"T_aad59_row6_col10\" class=\"data row6 col10\" >0.135141</td>\n",
       "      <td id=\"T_aad59_row6_col11\" class=\"data row6 col11\" >0.129021</td>\n",
       "      <td id=\"T_aad59_row6_col12\" class=\"data row6 col12\" >0.018795</td>\n",
       "      <td id=\"T_aad59_row6_col13\" class=\"data row6 col13\" >0.184136</td>\n",
       "    </tr>\n",
       "    <tr>\n",
       "      <th id=\"T_aad59_level0_row7\" class=\"row_heading level0 row7\" >thalach</th>\n",
       "      <td id=\"T_aad59_row7_col0\" class=\"data row7 col0\" >-0.394563</td>\n",
       "      <td id=\"T_aad59_row7_col1\" class=\"data row7 col1\" >-0.060496</td>\n",
       "      <td id=\"T_aad59_row7_col2\" class=\"data row7 col2\" >-0.339308</td>\n",
       "      <td id=\"T_aad59_row7_col3\" class=\"data row7 col3\" >-0.049108</td>\n",
       "      <td id=\"T_aad59_row7_col4\" class=\"data row7 col4\" >-0.000075</td>\n",
       "      <td id=\"T_aad59_row7_col5\" class=\"data row7 col5\" >-0.007842</td>\n",
       "      <td id=\"T_aad59_row7_col6\" class=\"data row7 col6\" >-0.072290</td>\n",
       "      <td id=\"T_aad59_row7_col7\" class=\"data row7 col7\" >1.000000</td>\n",
       "      <td id=\"T_aad59_row7_col8\" class=\"data row7 col8\" >-0.384368</td>\n",
       "      <td id=\"T_aad59_row7_col9\" class=\"data row7 col9\" >-0.347640</td>\n",
       "      <td id=\"T_aad59_row7_col10\" class=\"data row7 col10\" >-0.389307</td>\n",
       "      <td id=\"T_aad59_row7_col11\" class=\"data row7 col11\" >-0.268727</td>\n",
       "      <td id=\"T_aad59_row7_col12\" class=\"data row7 col12\" >-0.274831</td>\n",
       "      <td id=\"T_aad59_row7_col13\" class=\"data row7 col13\" >-0.420639</td>\n",
       "    </tr>\n",
       "    <tr>\n",
       "      <th id=\"T_aad59_level0_row8\" class=\"row_heading level0 row8\" >exang</th>\n",
       "      <td id=\"T_aad59_row8_col0\" class=\"data row8 col0\" >0.096489</td>\n",
       "      <td id=\"T_aad59_row8_col1\" class=\"data row8 col1\" >0.143581</td>\n",
       "      <td id=\"T_aad59_row8_col2\" class=\"data row8 col2\" >0.377525</td>\n",
       "      <td id=\"T_aad59_row8_col3\" class=\"data row8 col3\" >0.066691</td>\n",
       "      <td id=\"T_aad59_row8_col4\" class=\"data row8 col4\" >0.059339</td>\n",
       "      <td id=\"T_aad59_row8_col5\" class=\"data row8 col5\" >-0.000893</td>\n",
       "      <td id=\"T_aad59_row8_col6\" class=\"data row8 col6\" >0.081874</td>\n",
       "      <td id=\"T_aad59_row8_col7\" class=\"data row8 col7\" >-0.384368</td>\n",
       "      <td id=\"T_aad59_row8_col8\" class=\"data row8 col8\" >1.000000</td>\n",
       "      <td id=\"T_aad59_row8_col9\" class=\"data row8 col9\" >0.289310</td>\n",
       "      <td id=\"T_aad59_row8_col10\" class=\"data row8 col10\" >0.250572</td>\n",
       "      <td id=\"T_aad59_row8_col11\" class=\"data row8 col11\" >0.148232</td>\n",
       "      <td id=\"T_aad59_row8_col12\" class=\"data row8 col12\" >0.326927</td>\n",
       "      <td id=\"T_aad59_row8_col13\" class=\"data row8 col13\" >0.391613</td>\n",
       "    </tr>\n",
       "    <tr>\n",
       "      <th id=\"T_aad59_level0_row9\" class=\"row_heading level0 row9\" >oldpeak</th>\n",
       "      <td id=\"T_aad59_row9_col0\" class=\"data row9 col0\" >0.197123</td>\n",
       "      <td id=\"T_aad59_row9_col1\" class=\"data row9 col1\" >0.106567</td>\n",
       "      <td id=\"T_aad59_row9_col2\" class=\"data row9 col2\" >0.203244</td>\n",
       "      <td id=\"T_aad59_row9_col3\" class=\"data row9 col3\" >0.191243</td>\n",
       "      <td id=\"T_aad59_row9_col4\" class=\"data row9 col4\" >0.038596</td>\n",
       "      <td id=\"T_aad59_row9_col5\" class=\"data row9 col5\" >0.008311</td>\n",
       "      <td id=\"T_aad59_row9_col6\" class=\"data row9 col6\" >0.113726</td>\n",
       "      <td id=\"T_aad59_row9_col7\" class=\"data row9 col7\" >-0.347640</td>\n",
       "      <td id=\"T_aad59_row9_col8\" class=\"data row9 col8\" >0.289310</td>\n",
       "      <td id=\"T_aad59_row9_col9\" class=\"data row9 col9\" >1.000000</td>\n",
       "      <td id=\"T_aad59_row9_col10\" class=\"data row9 col10\" >0.579037</td>\n",
       "      <td id=\"T_aad59_row9_col11\" class=\"data row9 col11\" >0.294452</td>\n",
       "      <td id=\"T_aad59_row9_col12\" class=\"data row9 col12\" >0.344976</td>\n",
       "      <td id=\"T_aad59_row9_col13\" class=\"data row9 col13\" >0.501461</td>\n",
       "    </tr>\n",
       "    <tr>\n",
       "      <th id=\"T_aad59_level0_row10\" class=\"row_heading level0 row10\" >slope</th>\n",
       "      <td id=\"T_aad59_row10_col0\" class=\"data row10 col0\" >0.159405</td>\n",
       "      <td id=\"T_aad59_row10_col1\" class=\"data row10 col1\" >0.033345</td>\n",
       "      <td id=\"T_aad59_row10_col2\" class=\"data row10 col2\" >0.151079</td>\n",
       "      <td id=\"T_aad59_row10_col3\" class=\"data row10 col3\" >0.121172</td>\n",
       "      <td id=\"T_aad59_row10_col4\" class=\"data row10 col4\" >-0.009215</td>\n",
       "      <td id=\"T_aad59_row10_col5\" class=\"data row10 col5\" >0.047819</td>\n",
       "      <td id=\"T_aad59_row10_col6\" class=\"data row10 col6\" >0.135141</td>\n",
       "      <td id=\"T_aad59_row10_col7\" class=\"data row10 col7\" >-0.389307</td>\n",
       "      <td id=\"T_aad59_row10_col8\" class=\"data row10 col8\" >0.250572</td>\n",
       "      <td id=\"T_aad59_row10_col9\" class=\"data row10 col9\" >0.579037</td>\n",
       "      <td id=\"T_aad59_row10_col10\" class=\"data row10 col10\" >1.000000</td>\n",
       "      <td id=\"T_aad59_row10_col11\" class=\"data row10 col11\" >0.109761</td>\n",
       "      <td id=\"T_aad59_row10_col12\" class=\"data row10 col12\" >0.279688</td>\n",
       "      <td id=\"T_aad59_row10_col13\" class=\"data row10 col13\" >0.374689</td>\n",
       "    </tr>\n",
       "    <tr>\n",
       "      <th id=\"T_aad59_level0_row11\" class=\"row_heading level0 row11\" >ca</th>\n",
       "      <td id=\"T_aad59_row11_col0\" class=\"data row11 col0\" >0.362210</td>\n",
       "      <td id=\"T_aad59_row11_col1\" class=\"data row11 col1\" >0.091925</td>\n",
       "      <td id=\"T_aad59_row11_col2\" class=\"data row11 col2\" >0.235644</td>\n",
       "      <td id=\"T_aad59_row11_col3\" class=\"data row11 col3\" >0.097954</td>\n",
       "      <td id=\"T_aad59_row11_col4\" class=\"data row11 col4\" >0.115945</td>\n",
       "      <td id=\"T_aad59_row11_col5\" class=\"data row11 col5\" >0.152086</td>\n",
       "      <td id=\"T_aad59_row11_col6\" class=\"data row11 col6\" >0.129021</td>\n",
       "      <td id=\"T_aad59_row11_col7\" class=\"data row11 col7\" >-0.268727</td>\n",
       "      <td id=\"T_aad59_row11_col8\" class=\"data row11 col8\" >0.148232</td>\n",
       "      <td id=\"T_aad59_row11_col9\" class=\"data row11 col9\" >0.294452</td>\n",
       "      <td id=\"T_aad59_row11_col10\" class=\"data row11 col10\" >0.109761</td>\n",
       "      <td id=\"T_aad59_row11_col11\" class=\"data row11 col11\" >1.000000</td>\n",
       "      <td id=\"T_aad59_row11_col12\" class=\"data row11 col12\" >0.256382</td>\n",
       "      <td id=\"T_aad59_row11_col13\" class=\"data row11 col13\" >0.521178</td>\n",
       "    </tr>\n",
       "    <tr>\n",
       "      <th id=\"T_aad59_level0_row12\" class=\"row_heading level0 row12\" >thal</th>\n",
       "      <td id=\"T_aad59_row12_col0\" class=\"data row12 col0\" >0.126586</td>\n",
       "      <td id=\"T_aad59_row12_col1\" class=\"data row12 col1\" >0.383652</td>\n",
       "      <td id=\"T_aad59_row12_col2\" class=\"data row12 col2\" >0.268500</td>\n",
       "      <td id=\"T_aad59_row12_col3\" class=\"data row12 col3\" >0.138183</td>\n",
       "      <td id=\"T_aad59_row12_col4\" class=\"data row12 col4\" >0.010859</td>\n",
       "      <td id=\"T_aad59_row12_col5\" class=\"data row12 col5\" >0.062209</td>\n",
       "      <td id=\"T_aad59_row12_col6\" class=\"data row12 col6\" >0.018795</td>\n",
       "      <td id=\"T_aad59_row12_col7\" class=\"data row12 col7\" >-0.274831</td>\n",
       "      <td id=\"T_aad59_row12_col8\" class=\"data row12 col8\" >0.326927</td>\n",
       "      <td id=\"T_aad59_row12_col9\" class=\"data row12 col9\" >0.344976</td>\n",
       "      <td id=\"T_aad59_row12_col10\" class=\"data row12 col10\" >0.279688</td>\n",
       "      <td id=\"T_aad59_row12_col11\" class=\"data row12 col11\" >0.256382</td>\n",
       "      <td id=\"T_aad59_row12_col12\" class=\"data row12 col12\" >1.000000</td>\n",
       "      <td id=\"T_aad59_row12_col13\" class=\"data row12 col13\" >0.513377</td>\n",
       "    </tr>\n",
       "    <tr>\n",
       "      <th id=\"T_aad59_level0_row13\" class=\"row_heading level0 row13\" >class</th>\n",
       "      <td id=\"T_aad59_row13_col0\" class=\"data row13 col0\" >0.222156</td>\n",
       "      <td id=\"T_aad59_row13_col1\" class=\"data row13 col1\" >0.226797</td>\n",
       "      <td id=\"T_aad59_row13_col2\" class=\"data row13 col2\" >0.404248</td>\n",
       "      <td id=\"T_aad59_row13_col3\" class=\"data row13 col3\" >0.159620</td>\n",
       "      <td id=\"T_aad59_row13_col4\" class=\"data row13 col4\" >0.066448</td>\n",
       "      <td id=\"T_aad59_row13_col5\" class=\"data row13 col5\" >0.049040</td>\n",
       "      <td id=\"T_aad59_row13_col6\" class=\"data row13 col6\" >0.184136</td>\n",
       "      <td id=\"T_aad59_row13_col7\" class=\"data row13 col7\" >-0.420639</td>\n",
       "      <td id=\"T_aad59_row13_col8\" class=\"data row13 col8\" >0.391613</td>\n",
       "      <td id=\"T_aad59_row13_col9\" class=\"data row13 col9\" >0.501461</td>\n",
       "      <td id=\"T_aad59_row13_col10\" class=\"data row13 col10\" >0.374689</td>\n",
       "      <td id=\"T_aad59_row13_col11\" class=\"data row13 col11\" >0.521178</td>\n",
       "      <td id=\"T_aad59_row13_col12\" class=\"data row13 col12\" >0.513377</td>\n",
       "      <td id=\"T_aad59_row13_col13\" class=\"data row13 col13\" >1.000000</td>\n",
       "    </tr>\n",
       "  </tbody>\n",
       "</table>\n"
      ],
      "text/plain": [
       "<pandas.io.formats.style.Styler at 0x26bd2852200>"
      ]
     },
     "execution_count": 7,
     "metadata": {},
     "output_type": "execute_result"
    }
   ],
   "source": [
    "corr_matrix = HD.corr()\n",
    "corr_matrix.style.background_gradient(cmap='YlOrRd')\n",
    "# 'RdBu_r', 'BrBG_r', 'PuOr_r', 'coolwarm' are other good diverging colormaps"
   ]
  },
  {
   "cell_type": "code",
   "execution_count": 8,
   "id": "13dda0eb",
   "metadata": {},
   "outputs": [
    {
     "data": {
      "image/png": "[encoded data removed]",
      "text/plain": [
       "<Figure size 360x1800 with 14 Axes>"
      ]
     },
     "metadata": {
      "needs_background": "light"
     },
     "output_type": "display_data"
    }
   ],
   "source": [
    "fig, axs = plt.subplots(len(HD.columns), figsize=(5, 25))\n",
    "for n, col in enumerate(HD.columns):\n",
    "    HD[col].hist(ax=axs[n], legend=True)"
   ]
  },
  {
   "cell_type": "code",
   "execution_count": 9,
   "id": "a05825aa",
   "metadata": {},
   "outputs": [
    {
     "data": {
      "text/plain": [
       "<AxesSubplot:ylabel='Frequency'>"
      ]
     },
     "execution_count": 9,
     "metadata": {},
     "output_type": "execute_result"
    },
    {
     "data": {
      "image/png": "[encoded data removed]",
      "text/plain": [
       "<Figure size 432x288 with 1 Axes>"
      ]
     },
     "metadata": {
      "needs_background": "light"
     },
     "output_type": "display_data"
    }
   ],
   "source": [
    "HD['age'].plot(kind='hist', legend='age')"
   ]
  },
  {
   "cell_type": "code",
   "execution_count": 10,
   "id": "2962f75f",
   "metadata": {},
   "outputs": [
    {
     "data": {
      "text/plain": [
       "<AxesSubplot:ylabel='Frequency'>"
      ]
     },
     "execution_count": 10,
     "metadata": {},
     "output_type": "execute_result"
    },
    {
     "data": {
      "image/png": "[encoded data removed]",
      "text/plain": [
       "<Figure size 432x288 with 1 Axes>"
      ]
     },
     "metadata": {
      "needs_background": "light"
     },
     "output_type": "display_data"
    }
   ],
   "source": [
    "HD['sex'].plot(kind='hist', legend='sex')"
   ]
  },
  {
   "cell_type": "code",
   "execution_count": 11,
   "id": "18f3dd3a",
   "metadata": {},
   "outputs": [
    {
     "data": {
      "text/plain": [
       "<AxesSubplot:ylabel='Frequency'>"
      ]
     },
     "execution_count": 11,
     "metadata": {},
     "output_type": "execute_result"
    },
    {
     "data": {
      "image/png": "[encoded data removed]",
      "text/plain": [
       "<Figure size 432x288 with 1 Axes>"
      ]
     },
     "metadata": {
      "needs_background": "light"
     },
     "output_type": "display_data"
    }
   ],
   "source": [
    "HD['cp'].plot(kind='hist', legend='cp')"
   ]
  },
  {
   "cell_type": "code",
   "execution_count": 12,
   "id": "d3ea21dc",
   "metadata": {},
   "outputs": [
    {
     "data": {
      "text/plain": [
       "<AxesSubplot:ylabel='Frequency'>"
      ]
     },
     "execution_count": 12,
     "metadata": {},
     "output_type": "execute_result"
    },
    {
     "data": {
      "image/png": "[encoded data removed]",
      "text/plain": [
       "<Figure size 432x288 with 1 Axes>"
      ]
     },
     "metadata": {
      "needs_background": "light"
     },
     "output_type": "display_data"
    }
   ],
   "source": [
    "HD['trestbps'].plot(kind='hist', legend='trestbps')"
   ]
  },
  {
   "cell_type": "code",
   "execution_count": 13,
   "id": "cb058c1b",
   "metadata": {},
   "outputs": [
    {
     "data": {
      "text/plain": [
       "<AxesSubplot:ylabel='Frequency'>"
      ]
     },
     "execution_count": 13,
     "metadata": {},
     "output_type": "execute_result"
    },
    {
     "data": {
      "image/png": "[encoded data removed]",
      "text/plain": [
       "<Figure size 432x288 with 1 Axes>"
      ]
     },
     "metadata": {
      "needs_background": "light"
     },
     "output_type": "display_data"
    }
   ],
   "source": [
    "HD['chol'].plot(kind='hist', legend='chol')"
   ]
  },
  {
   "cell_type": "code",
   "execution_count": 14,
   "id": "0c88cfec",
   "metadata": {},
   "outputs": [
    {
     "data": {
      "text/plain": [
       "<AxesSubplot:ylabel='Frequency'>"
      ]
     },
     "execution_count": 14,
     "metadata": {},
     "output_type": "execute_result"
    },
    {
     "data": {
      "image/png": "[encoded data removed]",
      "text/plain": [
       "<Figure size 432x288 with 1 Axes>"
      ]
     },
     "metadata": {
      "needs_background": "light"
     },
     "output_type": "display_data"
    }
   ],
   "source": [
    "HD['fbs'].plot(kind='hist', legend='fbs')"
   ]
  },
  {
   "cell_type": "code",
   "execution_count": 15,
   "id": "8d32f144",
   "metadata": {},
   "outputs": [
    {
     "data": {
      "text/plain": [
       "<AxesSubplot:ylabel='Frequency'>"
      ]
     },
     "execution_count": 15,
     "metadata": {},
     "output_type": "execute_result"
    },
    {
     "data": {
      "image/png": "[encoded data removed]",
      "text/plain": [
       "<Figure size 432x288 with 1 Axes>"
      ]
     },
     "metadata": {
      "needs_background": "light"
     },
     "output_type": "display_data"
    }
   ],
   "source": [
    "HD['restecg'].plot(kind='hist', legend='restecg')"
   ]
  },
  {
   "cell_type": "code",
   "execution_count": 16,
   "id": "a262a8d9",
   "metadata": {},
   "outputs": [
    {
     "data": {
      "text/plain": [
       "<AxesSubplot:ylabel='Frequency'>"
      ]
     },
     "execution_count": 16,
     "metadata": {},
     "output_type": "execute_result"
    },
    {
     "data": {
      "image/png": "[encoded data removed]",
      "text/plain": [
       "<Figure size 432x288 with 1 Axes>"
      ]
     },
     "metadata": {
      "needs_background": "light"
     },
     "output_type": "display_data"
    }
   ],
   "source": [
    "HD['thalach'].plot(kind='hist', legend='thalach')"
   ]
  },
  {
   "cell_type": "code",
   "execution_count": 17,
   "id": "51ff7027",
   "metadata": {},
   "outputs": [
    {
     "data": {
      "text/plain": [
       "<AxesSubplot:ylabel='Frequency'>"
      ]
     },
     "execution_count": 17,
     "metadata": {},
     "output_type": "execute_result"
    },
    {
     "data": {
      "image/png": "[encoded data removed]",
      "text/plain": [
       "<Figure size 432x288 with 1 Axes>"
      ]
     },
     "metadata": {
      "needs_background": "light"
     },
     "output_type": "display_data"
    }
   ],
   "source": [
    "HD['exang'].plot(kind='hist', legend='exang')"
   ]
  },
  {
   "cell_type": "code",
   "execution_count": 18,
   "id": "878be59f",
   "metadata": {},
   "outputs": [
    {
     "data": {
      "text/plain": [
       "<AxesSubplot:ylabel='Frequency'>"
      ]
     },
     "execution_count": 18,
     "metadata": {},
     "output_type": "execute_result"
    },
    {
     "data": {
      "image/png": "[encoded data removed]",
      "text/plain": [
       "<Figure size 432x288 with 1 Axes>"
      ]
     },
     "metadata": {
      "needs_background": "light"
     },
     "output_type": "display_data"
    }
   ],
   "source": [
    "HD['oldpeak'].plot(kind='hist', legend='oldpeak')"
   ]
  },
  {
   "cell_type": "code",
   "execution_count": 19,
   "id": "c3323dea",
   "metadata": {},
   "outputs": [
    {
     "data": {
      "text/plain": [
       "<AxesSubplot:ylabel='Frequency'>"
      ]
     },
     "execution_count": 19,
     "metadata": {},
     "output_type": "execute_result"
    },
    {
     "data": {
      "image/png": "[encoded data removed]",
      "text/plain": [
       "<Figure size 432x288 with 1 Axes>"
      ]
     },
     "metadata": {
      "needs_background": "light"
     },
     "output_type": "display_data"
    }
   ],
   "source": [
    "HD['slope'].plot(kind='hist', legend='slope')"
   ]
  },
  {
   "cell_type": "code",
   "execution_count": 20,
   "id": "b8906b3f",
   "metadata": {},
   "outputs": [
    {
     "data": {
      "text/plain": [
       "<AxesSubplot:ylabel='Frequency'>"
      ]
     },
     "execution_count": 20,
     "metadata": {},
     "output_type": "execute_result"
    },
    {
     "data": {
      "image/png": "[encoded data removed]",
      "text/plain": [
       "<Figure size 432x288 with 1 Axes>"
      ]
     },
     "metadata": {
      "needs_background": "light"
     },
     "output_type": "display_data"
    }
   ],
   "source": [
    "HD['ca'].plot(kind='hist', legend='ca')"
   ]
  },
  {
   "cell_type": "code",
   "execution_count": 21,
   "id": "4634fc24",
   "metadata": {},
   "outputs": [
    {
     "data": {
      "text/plain": [
       "<AxesSubplot:ylabel='Frequency'>"
      ]
     },
     "execution_count": 21,
     "metadata": {},
     "output_type": "execute_result"
    },
    {
     "data": {
      "image/png": "[encoded data removed]",
      "text/plain": [
       "<Figure size 432x288 with 1 Axes>"
      ]
     },
     "metadata": {
      "needs_background": "light"
     },
     "output_type": "display_data"
    }
   ],
   "source": [
    "HD['thal'].plot(kind='hist', legend='thal')"
   ]
  },
  {
   "cell_type": "code",
   "execution_count": 23,
   "id": "d7283384",
   "metadata": {},
   "outputs": [
    {
     "data": {
      "text/plain": [
       "<AxesSubplot:ylabel='Frequency'>"
      ]
     },
     "execution_count": 23,
     "metadata": {},
     "output_type": "execute_result"
    },
    {
     "data": {
      "image/png": "[encoded data removed]",
      "text/plain": [
       "<Figure size 432x288 with 1 Axes>"
      ]
     },
     "metadata": {
      "needs_background": "light"
     },
     "output_type": "display_data"
    }
   ],
   "source": [
    "HD['class'].plot(kind='hist', legend='class')"
   ]
  },
  {
   "cell_type": "markdown",
   "id": "a505ac38",
   "metadata": {},
   "source": [
    "# Normalize the Dataset"
   ]
  },
  {
   "cell_type": "code",
   "execution_count": 25,
   "id": "0774e102",
   "metadata": {},
   "outputs": [],
   "source": [
    "# when using decision trees, no Normalization is needed"
   ]
  },
  {
   "cell_type": "markdown",
   "id": "b04ff9dd",
   "metadata": {},
   "source": [
    "# Split the Dataset in Multiclass and Binary"
   ]
  },
  {
   "cell_type": "code",
   "execution_count": 26,
   "id": "a2e06ab7",
   "metadata": {},
   "outputs": [
    {
     "data": {
      "text/html": [
       "<div>\n",
       "<style scoped>\n",
       "    .dataframe tbody tr th:only-of-type {\n",
       "        vertical-align: middle;\n",
       "    }\n",
       "\n",
       "    .dataframe tbody tr th {\n",
       "        vertical-align: top;\n",
       "    }\n",
       "\n",
       "    .dataframe thead th {\n",
       "        text-align: right;\n",
       "    }\n",
       "</style>\n",
       "<table border=\"1\" class=\"dataframe\">\n",
       "  <thead>\n",
       "    <tr style=\"text-align: right;\">\n",
       "      <th></th>\n",
       "      <th>age</th>\n",
       "      <th>sex</th>\n",
       "      <th>cp</th>\n",
       "      <th>trestbps</th>\n",
       "      <th>chol</th>\n",
       "      <th>fbs</th>\n",
       "      <th>restecg</th>\n",
       "      <th>thalach</th>\n",
       "      <th>exang</th>\n",
       "      <th>oldpeak</th>\n",
       "      <th>slope</th>\n",
       "      <th>ca</th>\n",
       "      <th>thal</th>\n",
       "      <th>class</th>\n",
       "      <th>class binary</th>\n",
       "    </tr>\n",
       "  </thead>\n",
       "  <tbody>\n",
       "    <tr>\n",
       "      <th>0</th>\n",
       "      <td>63.0</td>\n",
       "      <td>1.0</td>\n",
       "      <td>1.0</td>\n",
       "      <td>145.0</td>\n",
       "      <td>233.0</td>\n",
       "      <td>1.0</td>\n",
       "      <td>2.0</td>\n",
       "      <td>150.0</td>\n",
       "      <td>0.0</td>\n",
       "      <td>2.3</td>\n",
       "      <td>3.0</td>\n",
       "      <td>0.0</td>\n",
       "      <td>6.0</td>\n",
       "      <td>0</td>\n",
       "      <td>0</td>\n",
       "    </tr>\n",
       "    <tr>\n",
       "      <th>1</th>\n",
       "      <td>67.0</td>\n",
       "      <td>1.0</td>\n",
       "      <td>4.0</td>\n",
       "      <td>160.0</td>\n",
       "      <td>286.0</td>\n",
       "      <td>0.0</td>\n",
       "      <td>2.0</td>\n",
       "      <td>108.0</td>\n",
       "      <td>1.0</td>\n",
       "      <td>1.5</td>\n",
       "      <td>2.0</td>\n",
       "      <td>3.0</td>\n",
       "      <td>3.0</td>\n",
       "      <td>2</td>\n",
       "      <td>1</td>\n",
       "    </tr>\n",
       "    <tr>\n",
       "      <th>2</th>\n",
       "      <td>67.0</td>\n",
       "      <td>1.0</td>\n",
       "      <td>4.0</td>\n",
       "      <td>120.0</td>\n",
       "      <td>229.0</td>\n",
       "      <td>0.0</td>\n",
       "      <td>2.0</td>\n",
       "      <td>129.0</td>\n",
       "      <td>1.0</td>\n",
       "      <td>2.6</td>\n",
       "      <td>2.0</td>\n",
       "      <td>2.0</td>\n",
       "      <td>7.0</td>\n",
       "      <td>1</td>\n",
       "      <td>1</td>\n",
       "    </tr>\n",
       "    <tr>\n",
       "      <th>3</th>\n",
       "      <td>37.0</td>\n",
       "      <td>1.0</td>\n",
       "      <td>3.0</td>\n",
       "      <td>130.0</td>\n",
       "      <td>250.0</td>\n",
       "      <td>0.0</td>\n",
       "      <td>0.0</td>\n",
       "      <td>187.0</td>\n",
       "      <td>0.0</td>\n",
       "      <td>3.5</td>\n",
       "      <td>3.0</td>\n",
       "      <td>0.0</td>\n",
       "      <td>3.0</td>\n",
       "      <td>0</td>\n",
       "      <td>0</td>\n",
       "    </tr>\n",
       "    <tr>\n",
       "      <th>4</th>\n",
       "      <td>41.0</td>\n",
       "      <td>0.0</td>\n",
       "      <td>2.0</td>\n",
       "      <td>130.0</td>\n",
       "      <td>204.0</td>\n",
       "      <td>0.0</td>\n",
       "      <td>2.0</td>\n",
       "      <td>172.0</td>\n",
       "      <td>0.0</td>\n",
       "      <td>1.4</td>\n",
       "      <td>1.0</td>\n",
       "      <td>0.0</td>\n",
       "      <td>3.0</td>\n",
       "      <td>0</td>\n",
       "      <td>0</td>\n",
       "    </tr>\n",
       "  </tbody>\n",
       "</table>\n",
       "</div>"
      ],
      "text/plain": [
       "    age  sex   cp  trestbps   chol  fbs  restecg  thalach  exang  oldpeak  \\\n",
       "0  63.0  1.0  1.0     145.0  233.0  1.0      2.0    150.0    0.0      2.3   \n",
       "1  67.0  1.0  4.0     160.0  286.0  0.0      2.0    108.0    1.0      1.5   \n",
       "2  67.0  1.0  4.0     120.0  229.0  0.0      2.0    129.0    1.0      2.6   \n",
       "3  37.0  1.0  3.0     130.0  250.0  0.0      0.0    187.0    0.0      3.5   \n",
       "4  41.0  0.0  2.0     130.0  204.0  0.0      2.0    172.0    0.0      1.4   \n",
       "\n",
       "   slope   ca  thal  class  class binary  \n",
       "0    3.0  0.0   6.0      0             0  \n",
       "1    2.0  3.0   3.0      2             1  \n",
       "2    2.0  2.0   7.0      1             1  \n",
       "3    3.0  0.0   3.0      0             0  \n",
       "4    1.0  0.0   3.0      0             0  "
      ]
     },
     "execution_count": 26,
     "metadata": {},
     "output_type": "execute_result"
    }
   ],
   "source": [
    "HD[\"class binary\"] = np.where(HD[\"class\"] > 0, 1, 0)\n",
    "HD.head()"
   ]
  },
  {
   "cell_type": "code",
   "execution_count": 27,
   "id": "1e5315d3",
   "metadata": {},
   "outputs": [
    {
     "data": {
      "text/html": [
       "<div>\n",
       "<style scoped>\n",
       "    .dataframe tbody tr th:only-of-type {\n",
       "        vertical-align: middle;\n",
       "    }\n",
       "\n",
       "    .dataframe tbody tr th {\n",
       "        vertical-align: top;\n",
       "    }\n",
       "\n",
       "    .dataframe thead th {\n",
       "        text-align: right;\n",
       "    }\n",
       "</style>\n",
       "<table border=\"1\" class=\"dataframe\">\n",
       "  <thead>\n",
       "    <tr style=\"text-align: right;\">\n",
       "      <th></th>\n",
       "      <th>age</th>\n",
       "      <th>sex</th>\n",
       "      <th>cp</th>\n",
       "      <th>trestbps</th>\n",
       "      <th>chol</th>\n",
       "      <th>fbs</th>\n",
       "      <th>restecg</th>\n",
       "      <th>thalach</th>\n",
       "      <th>exang</th>\n",
       "      <th>oldpeak</th>\n",
       "      <th>slope</th>\n",
       "      <th>ca</th>\n",
       "      <th>thal</th>\n",
       "      <th>class multi</th>\n",
       "    </tr>\n",
       "  </thead>\n",
       "  <tbody>\n",
       "    <tr>\n",
       "      <th>0</th>\n",
       "      <td>63.0</td>\n",
       "      <td>1.0</td>\n",
       "      <td>1.0</td>\n",
       "      <td>145.0</td>\n",
       "      <td>233.0</td>\n",
       "      <td>1.0</td>\n",
       "      <td>2.0</td>\n",
       "      <td>150.0</td>\n",
       "      <td>0.0</td>\n",
       "      <td>2.3</td>\n",
       "      <td>3.0</td>\n",
       "      <td>0.0</td>\n",
       "      <td>6.0</td>\n",
       "      <td>0</td>\n",
       "    </tr>\n",
       "    <tr>\n",
       "      <th>1</th>\n",
       "      <td>67.0</td>\n",
       "      <td>1.0</td>\n",
       "      <td>4.0</td>\n",
       "      <td>160.0</td>\n",
       "      <td>286.0</td>\n",
       "      <td>0.0</td>\n",
       "      <td>2.0</td>\n",
       "      <td>108.0</td>\n",
       "      <td>1.0</td>\n",
       "      <td>1.5</td>\n",
       "      <td>2.0</td>\n",
       "      <td>3.0</td>\n",
       "      <td>3.0</td>\n",
       "      <td>2</td>\n",
       "    </tr>\n",
       "    <tr>\n",
       "      <th>2</th>\n",
       "      <td>67.0</td>\n",
       "      <td>1.0</td>\n",
       "      <td>4.0</td>\n",
       "      <td>120.0</td>\n",
       "      <td>229.0</td>\n",
       "      <td>0.0</td>\n",
       "      <td>2.0</td>\n",
       "      <td>129.0</td>\n",
       "      <td>1.0</td>\n",
       "      <td>2.6</td>\n",
       "      <td>2.0</td>\n",
       "      <td>2.0</td>\n",
       "      <td>7.0</td>\n",
       "      <td>1</td>\n",
       "    </tr>\n",
       "    <tr>\n",
       "      <th>3</th>\n",
       "      <td>37.0</td>\n",
       "      <td>1.0</td>\n",
       "      <td>3.0</td>\n",
       "      <td>130.0</td>\n",
       "      <td>250.0</td>\n",
       "      <td>0.0</td>\n",
       "      <td>0.0</td>\n",
       "      <td>187.0</td>\n",
       "      <td>0.0</td>\n",
       "      <td>3.5</td>\n",
       "      <td>3.0</td>\n",
       "      <td>0.0</td>\n",
       "      <td>3.0</td>\n",
       "      <td>0</td>\n",
       "    </tr>\n",
       "    <tr>\n",
       "      <th>4</th>\n",
       "      <td>41.0</td>\n",
       "      <td>0.0</td>\n",
       "      <td>2.0</td>\n",
       "      <td>130.0</td>\n",
       "      <td>204.0</td>\n",
       "      <td>0.0</td>\n",
       "      <td>2.0</td>\n",
       "      <td>172.0</td>\n",
       "      <td>0.0</td>\n",
       "      <td>1.4</td>\n",
       "      <td>1.0</td>\n",
       "      <td>0.0</td>\n",
       "      <td>3.0</td>\n",
       "      <td>0</td>\n",
       "    </tr>\n",
       "  </tbody>\n",
       "</table>\n",
       "</div>"
      ],
      "text/plain": [
       "    age  sex   cp  trestbps   chol  fbs  restecg  thalach  exang  oldpeak  \\\n",
       "0  63.0  1.0  1.0     145.0  233.0  1.0      2.0    150.0    0.0      2.3   \n",
       "1  67.0  1.0  4.0     160.0  286.0  0.0      2.0    108.0    1.0      1.5   \n",
       "2  67.0  1.0  4.0     120.0  229.0  0.0      2.0    129.0    1.0      2.6   \n",
       "3  37.0  1.0  3.0     130.0  250.0  0.0      0.0    187.0    0.0      3.5   \n",
       "4  41.0  0.0  2.0     130.0  204.0  0.0      2.0    172.0    0.0      1.4   \n",
       "\n",
       "   slope   ca  thal  class multi  \n",
       "0    3.0  0.0   6.0            0  \n",
       "1    2.0  3.0   3.0            2  \n",
       "2    2.0  2.0   7.0            1  \n",
       "3    3.0  0.0   3.0            0  \n",
       "4    1.0  0.0   3.0            0  "
      ]
     },
     "execution_count": 27,
     "metadata": {},
     "output_type": "execute_result"
    }
   ],
   "source": [
    "HD_multi = HD.drop('class binary', axis=1)\n",
    "HD_multi.rename(columns={'class': 'class multi'}, inplace=True)\n",
    "HD_multi.head()"
   ]
  },
  {
   "cell_type": "code",
   "execution_count": 28,
   "id": "0a2b2216",
   "metadata": {},
   "outputs": [
    {
     "data": {
      "text/html": [
       "<div>\n",
       "<style scoped>\n",
       "    .dataframe tbody tr th:only-of-type {\n",
       "        vertical-align: middle;\n",
       "    }\n",
       "\n",
       "    .dataframe tbody tr th {\n",
       "        vertical-align: top;\n",
       "    }\n",
       "\n",
       "    .dataframe thead th {\n",
       "        text-align: right;\n",
       "    }\n",
       "</style>\n",
       "<table border=\"1\" class=\"dataframe\">\n",
       "  <thead>\n",
       "    <tr style=\"text-align: right;\">\n",
       "      <th></th>\n",
       "      <th>age</th>\n",
       "      <th>sex</th>\n",
       "      <th>cp</th>\n",
       "      <th>trestbps</th>\n",
       "      <th>chol</th>\n",
       "      <th>fbs</th>\n",
       "      <th>restecg</th>\n",
       "      <th>thalach</th>\n",
       "      <th>exang</th>\n",
       "      <th>oldpeak</th>\n",
       "      <th>slope</th>\n",
       "      <th>ca</th>\n",
       "      <th>thal</th>\n",
       "      <th>class binary</th>\n",
       "    </tr>\n",
       "  </thead>\n",
       "  <tbody>\n",
       "    <tr>\n",
       "      <th>0</th>\n",
       "      <td>63.0</td>\n",
       "      <td>1.0</td>\n",
       "      <td>1.0</td>\n",
       "      <td>145.0</td>\n",
       "      <td>233.0</td>\n",
       "      <td>1.0</td>\n",
       "      <td>2.0</td>\n",
       "      <td>150.0</td>\n",
       "      <td>0.0</td>\n",
       "      <td>2.3</td>\n",
       "      <td>3.0</td>\n",
       "      <td>0.0</td>\n",
       "      <td>6.0</td>\n",
       "      <td>0</td>\n",
       "    </tr>\n",
       "    <tr>\n",
       "      <th>1</th>\n",
       "      <td>67.0</td>\n",
       "      <td>1.0</td>\n",
       "      <td>4.0</td>\n",
       "      <td>160.0</td>\n",
       "      <td>286.0</td>\n",
       "      <td>0.0</td>\n",
       "      <td>2.0</td>\n",
       "      <td>108.0</td>\n",
       "      <td>1.0</td>\n",
       "      <td>1.5</td>\n",
       "      <td>2.0</td>\n",
       "      <td>3.0</td>\n",
       "      <td>3.0</td>\n",
       "      <td>1</td>\n",
       "    </tr>\n",
       "    <tr>\n",
       "      <th>2</th>\n",
       "      <td>67.0</td>\n",
       "      <td>1.0</td>\n",
       "      <td>4.0</td>\n",
       "      <td>120.0</td>\n",
       "      <td>229.0</td>\n",
       "      <td>0.0</td>\n",
       "      <td>2.0</td>\n",
       "      <td>129.0</td>\n",
       "      <td>1.0</td>\n",
       "      <td>2.6</td>\n",
       "      <td>2.0</td>\n",
       "      <td>2.0</td>\n",
       "      <td>7.0</td>\n",
       "      <td>1</td>\n",
       "    </tr>\n",
       "    <tr>\n",
       "      <th>3</th>\n",
       "      <td>37.0</td>\n",
       "      <td>1.0</td>\n",
       "      <td>3.0</td>\n",
       "      <td>130.0</td>\n",
       "      <td>250.0</td>\n",
       "      <td>0.0</td>\n",
       "      <td>0.0</td>\n",
       "      <td>187.0</td>\n",
       "      <td>0.0</td>\n",
       "      <td>3.5</td>\n",
       "      <td>3.0</td>\n",
       "      <td>0.0</td>\n",
       "      <td>3.0</td>\n",
       "      <td>0</td>\n",
       "    </tr>\n",
       "    <tr>\n",
       "      <th>4</th>\n",
       "      <td>41.0</td>\n",
       "      <td>0.0</td>\n",
       "      <td>2.0</td>\n",
       "      <td>130.0</td>\n",
       "      <td>204.0</td>\n",
       "      <td>0.0</td>\n",
       "      <td>2.0</td>\n",
       "      <td>172.0</td>\n",
       "      <td>0.0</td>\n",
       "      <td>1.4</td>\n",
       "      <td>1.0</td>\n",
       "      <td>0.0</td>\n",
       "      <td>3.0</td>\n",
       "      <td>0</td>\n",
       "    </tr>\n",
       "  </tbody>\n",
       "</table>\n",
       "</div>"
      ],
      "text/plain": [
       "    age  sex   cp  trestbps   chol  fbs  restecg  thalach  exang  oldpeak  \\\n",
       "0  63.0  1.0  1.0     145.0  233.0  1.0      2.0    150.0    0.0      2.3   \n",
       "1  67.0  1.0  4.0     160.0  286.0  0.0      2.0    108.0    1.0      1.5   \n",
       "2  67.0  1.0  4.0     120.0  229.0  0.0      2.0    129.0    1.0      2.6   \n",
       "3  37.0  1.0  3.0     130.0  250.0  0.0      0.0    187.0    0.0      3.5   \n",
       "4  41.0  0.0  2.0     130.0  204.0  0.0      2.0    172.0    0.0      1.4   \n",
       "\n",
       "   slope   ca  thal  class binary  \n",
       "0    3.0  0.0   6.0             0  \n",
       "1    2.0  3.0   3.0             1  \n",
       "2    2.0  2.0   7.0             1  \n",
       "3    3.0  0.0   3.0             0  \n",
       "4    1.0  0.0   3.0             0  "
      ]
     },
     "execution_count": 28,
     "metadata": {},
     "output_type": "execute_result"
    }
   ],
   "source": [
    "HD_binary = HD.drop('class', axis=1)\n",
    "HD_binary.head()"
   ]
  },
  {
   "cell_type": "markdown",
   "id": "9d5dd709",
   "metadata": {},
   "source": [
    "# Define X & Y"
   ]
  },
  {
   "cell_type": "code",
   "execution_count": 29,
   "id": "53469630",
   "metadata": {},
   "outputs": [],
   "source": [
    "# We define the x Table and y Table\n",
    "    #x Table contains all features (without the outcome)\n",
    "    #y Table only contains the Outcome\n",
    "x_multi = HD_multi.drop('class multi', axis=1)       # features\n",
    "y_multi = HD_multi['class multi']                    # labels"
   ]
  },
  {
   "cell_type": "code",
   "execution_count": 30,
   "id": "924c34fc",
   "metadata": {},
   "outputs": [
    {
     "data": {
      "text/html": [
       "<div>\n",
       "<style scoped>\n",
       "    .dataframe tbody tr th:only-of-type {\n",
       "        vertical-align: middle;\n",
       "    }\n",
       "\n",
       "    .dataframe tbody tr th {\n",
       "        vertical-align: top;\n",
       "    }\n",
       "\n",
       "    .dataframe thead th {\n",
       "        text-align: right;\n",
       "    }\n",
       "</style>\n",
       "<table border=\"1\" class=\"dataframe\">\n",
       "  <thead>\n",
       "    <tr style=\"text-align: right;\">\n",
       "      <th></th>\n",
       "      <th>age</th>\n",
       "      <th>sex</th>\n",
       "      <th>cp</th>\n",
       "      <th>trestbps</th>\n",
       "      <th>chol</th>\n",
       "      <th>fbs</th>\n",
       "      <th>restecg</th>\n",
       "      <th>thalach</th>\n",
       "      <th>exang</th>\n",
       "      <th>oldpeak</th>\n",
       "      <th>slope</th>\n",
       "      <th>ca</th>\n",
       "      <th>thal</th>\n",
       "    </tr>\n",
       "  </thead>\n",
       "  <tbody>\n",
       "    <tr>\n",
       "      <th>0</th>\n",
       "      <td>63.0</td>\n",
       "      <td>1.0</td>\n",
       "      <td>1.0</td>\n",
       "      <td>145.0</td>\n",
       "      <td>233.0</td>\n",
       "      <td>1.0</td>\n",
       "      <td>2.0</td>\n",
       "      <td>150.0</td>\n",
       "      <td>0.0</td>\n",
       "      <td>2.3</td>\n",
       "      <td>3.0</td>\n",
       "      <td>0.0</td>\n",
       "      <td>6.0</td>\n",
       "    </tr>\n",
       "    <tr>\n",
       "      <th>1</th>\n",
       "      <td>67.0</td>\n",
       "      <td>1.0</td>\n",
       "      <td>4.0</td>\n",
       "      <td>160.0</td>\n",
       "      <td>286.0</td>\n",
       "      <td>0.0</td>\n",
       "      <td>2.0</td>\n",
       "      <td>108.0</td>\n",
       "      <td>1.0</td>\n",
       "      <td>1.5</td>\n",
       "      <td>2.0</td>\n",
       "      <td>3.0</td>\n",
       "      <td>3.0</td>\n",
       "    </tr>\n",
       "    <tr>\n",
       "      <th>2</th>\n",
       "      <td>67.0</td>\n",
       "      <td>1.0</td>\n",
       "      <td>4.0</td>\n",
       "      <td>120.0</td>\n",
       "      <td>229.0</td>\n",
       "      <td>0.0</td>\n",
       "      <td>2.0</td>\n",
       "      <td>129.0</td>\n",
       "      <td>1.0</td>\n",
       "      <td>2.6</td>\n",
       "      <td>2.0</td>\n",
       "      <td>2.0</td>\n",
       "      <td>7.0</td>\n",
       "    </tr>\n",
       "    <tr>\n",
       "      <th>3</th>\n",
       "      <td>37.0</td>\n",
       "      <td>1.0</td>\n",
       "      <td>3.0</td>\n",
       "      <td>130.0</td>\n",
       "      <td>250.0</td>\n",
       "      <td>0.0</td>\n",
       "      <td>0.0</td>\n",
       "      <td>187.0</td>\n",
       "      <td>0.0</td>\n",
       "      <td>3.5</td>\n",
       "      <td>3.0</td>\n",
       "      <td>0.0</td>\n",
       "      <td>3.0</td>\n",
       "    </tr>\n",
       "    <tr>\n",
       "      <th>4</th>\n",
       "      <td>41.0</td>\n",
       "      <td>0.0</td>\n",
       "      <td>2.0</td>\n",
       "      <td>130.0</td>\n",
       "      <td>204.0</td>\n",
       "      <td>0.0</td>\n",
       "      <td>2.0</td>\n",
       "      <td>172.0</td>\n",
       "      <td>0.0</td>\n",
       "      <td>1.4</td>\n",
       "      <td>1.0</td>\n",
       "      <td>0.0</td>\n",
       "      <td>3.0</td>\n",
       "    </tr>\n",
       "  </tbody>\n",
       "</table>\n",
       "</div>"
      ],
      "text/plain": [
       "    age  sex   cp  trestbps   chol  fbs  restecg  thalach  exang  oldpeak  \\\n",
       "0  63.0  1.0  1.0     145.0  233.0  1.0      2.0    150.0    0.0      2.3   \n",
       "1  67.0  1.0  4.0     160.0  286.0  0.0      2.0    108.0    1.0      1.5   \n",
       "2  67.0  1.0  4.0     120.0  229.0  0.0      2.0    129.0    1.0      2.6   \n",
       "3  37.0  1.0  3.0     130.0  250.0  0.0      0.0    187.0    0.0      3.5   \n",
       "4  41.0  0.0  2.0     130.0  204.0  0.0      2.0    172.0    0.0      1.4   \n",
       "\n",
       "   slope   ca  thal  \n",
       "0    3.0  0.0   6.0  \n",
       "1    2.0  3.0   3.0  \n",
       "2    2.0  2.0   7.0  \n",
       "3    3.0  0.0   3.0  \n",
       "4    1.0  0.0   3.0  "
      ]
     },
     "execution_count": 30,
     "metadata": {},
     "output_type": "execute_result"
    }
   ],
   "source": [
    "x_multi.head()"
   ]
  },
  {
   "cell_type": "code",
   "execution_count": 31,
   "id": "e7852f8c",
   "metadata": {},
   "outputs": [
    {
     "data": {
      "text/plain": [
       "0    0\n",
       "1    2\n",
       "2    1\n",
       "3    0\n",
       "4    0\n",
       "Name: class multi, dtype: int64"
      ]
     },
     "execution_count": 31,
     "metadata": {},
     "output_type": "execute_result"
    }
   ],
   "source": [
    "y_multi.head()"
   ]
  },
  {
   "cell_type": "code",
   "execution_count": 32,
   "id": "e7a9b2dc",
   "metadata": {},
   "outputs": [],
   "source": [
    "# We define the x Table and y Table\n",
    "    #x Table contains all features (without the outcome)\n",
    "    #y Table only contains the Outcome\n",
    "x_binary = HD_binary.drop('class binary', axis=1)       # features\n",
    "y_binary = HD_binary['class binary']                    # labels"
   ]
  },
  {
   "cell_type": "code",
   "execution_count": 33,
   "id": "fed19573",
   "metadata": {},
   "outputs": [
    {
     "data": {
      "text/html": [
       "<div>\n",
       "<style scoped>\n",
       "    .dataframe tbody tr th:only-of-type {\n",
       "        vertical-align: middle;\n",
       "    }\n",
       "\n",
       "    .dataframe tbody tr th {\n",
       "        vertical-align: top;\n",
       "    }\n",
       "\n",
       "    .dataframe thead th {\n",
       "        text-align: right;\n",
       "    }\n",
       "</style>\n",
       "<table border=\"1\" class=\"dataframe\">\n",
       "  <thead>\n",
       "    <tr style=\"text-align: right;\">\n",
       "      <th></th>\n",
       "      <th>age</th>\n",
       "      <th>sex</th>\n",
       "      <th>cp</th>\n",
       "      <th>trestbps</th>\n",
       "      <th>chol</th>\n",
       "      <th>fbs</th>\n",
       "      <th>restecg</th>\n",
       "      <th>thalach</th>\n",
       "      <th>exang</th>\n",
       "      <th>oldpeak</th>\n",
       "      <th>slope</th>\n",
       "      <th>ca</th>\n",
       "      <th>thal</th>\n",
       "    </tr>\n",
       "  </thead>\n",
       "  <tbody>\n",
       "    <tr>\n",
       "      <th>0</th>\n",
       "      <td>63.0</td>\n",
       "      <td>1.0</td>\n",
       "      <td>1.0</td>\n",
       "      <td>145.0</td>\n",
       "      <td>233.0</td>\n",
       "      <td>1.0</td>\n",
       "      <td>2.0</td>\n",
       "      <td>150.0</td>\n",
       "      <td>0.0</td>\n",
       "      <td>2.3</td>\n",
       "      <td>3.0</td>\n",
       "      <td>0.0</td>\n",
       "      <td>6.0</td>\n",
       "    </tr>\n",
       "    <tr>\n",
       "      <th>1</th>\n",
       "      <td>67.0</td>\n",
       "      <td>1.0</td>\n",
       "      <td>4.0</td>\n",
       "      <td>160.0</td>\n",
       "      <td>286.0</td>\n",
       "      <td>0.0</td>\n",
       "      <td>2.0</td>\n",
       "      <td>108.0</td>\n",
       "      <td>1.0</td>\n",
       "      <td>1.5</td>\n",
       "      <td>2.0</td>\n",
       "      <td>3.0</td>\n",
       "      <td>3.0</td>\n",
       "    </tr>\n",
       "    <tr>\n",
       "      <th>2</th>\n",
       "      <td>67.0</td>\n",
       "      <td>1.0</td>\n",
       "      <td>4.0</td>\n",
       "      <td>120.0</td>\n",
       "      <td>229.0</td>\n",
       "      <td>0.0</td>\n",
       "      <td>2.0</td>\n",
       "      <td>129.0</td>\n",
       "      <td>1.0</td>\n",
       "      <td>2.6</td>\n",
       "      <td>2.0</td>\n",
       "      <td>2.0</td>\n",
       "      <td>7.0</td>\n",
       "    </tr>\n",
       "    <tr>\n",
       "      <th>3</th>\n",
       "      <td>37.0</td>\n",
       "      <td>1.0</td>\n",
       "      <td>3.0</td>\n",
       "      <td>130.0</td>\n",
       "      <td>250.0</td>\n",
       "      <td>0.0</td>\n",
       "      <td>0.0</td>\n",
       "      <td>187.0</td>\n",
       "      <td>0.0</td>\n",
       "      <td>3.5</td>\n",
       "      <td>3.0</td>\n",
       "      <td>0.0</td>\n",
       "      <td>3.0</td>\n",
       "    </tr>\n",
       "    <tr>\n",
       "      <th>4</th>\n",
       "      <td>41.0</td>\n",
       "      <td>0.0</td>\n",
       "      <td>2.0</td>\n",
       "      <td>130.0</td>\n",
       "      <td>204.0</td>\n",
       "      <td>0.0</td>\n",
       "      <td>2.0</td>\n",
       "      <td>172.0</td>\n",
       "      <td>0.0</td>\n",
       "      <td>1.4</td>\n",
       "      <td>1.0</td>\n",
       "      <td>0.0</td>\n",
       "      <td>3.0</td>\n",
       "    </tr>\n",
       "  </tbody>\n",
       "</table>\n",
       "</div>"
      ],
      "text/plain": [
       "    age  sex   cp  trestbps   chol  fbs  restecg  thalach  exang  oldpeak  \\\n",
       "0  63.0  1.0  1.0     145.0  233.0  1.0      2.0    150.0    0.0      2.3   \n",
       "1  67.0  1.0  4.0     160.0  286.0  0.0      2.0    108.0    1.0      1.5   \n",
       "2  67.0  1.0  4.0     120.0  229.0  0.0      2.0    129.0    1.0      2.6   \n",
       "3  37.0  1.0  3.0     130.0  250.0  0.0      0.0    187.0    0.0      3.5   \n",
       "4  41.0  0.0  2.0     130.0  204.0  0.0      2.0    172.0    0.0      1.4   \n",
       "\n",
       "   slope   ca  thal  \n",
       "0    3.0  0.0   6.0  \n",
       "1    2.0  3.0   3.0  \n",
       "2    2.0  2.0   7.0  \n",
       "3    3.0  0.0   3.0  \n",
       "4    1.0  0.0   3.0  "
      ]
     },
     "execution_count": 33,
     "metadata": {},
     "output_type": "execute_result"
    }
   ],
   "source": [
    "x_binary.head()"
   ]
  },
  {
   "cell_type": "code",
   "execution_count": 34,
   "id": "5cc52714",
   "metadata": {},
   "outputs": [
    {
     "data": {
      "text/plain": [
       "0    0\n",
       "1    1\n",
       "2    1\n",
       "3    0\n",
       "4    0\n",
       "Name: class binary, dtype: int32"
      ]
     },
     "execution_count": 34,
     "metadata": {},
     "output_type": "execute_result"
    }
   ],
   "source": [
    "y_binary.head()"
   ]
  },
  {
   "cell_type": "markdown",
   "id": "296d32ac",
   "metadata": {},
   "source": [
    "# Analysis of the different classes"
   ]
  },
  {
   "cell_type": "code",
   "execution_count": 39,
   "id": "0bfbfa97",
   "metadata": {},
   "outputs": [
    {
     "name": "stderr",
     "output_type": "stream",
     "text": [
      "c:\\Users\\Raphael\\AppData\\Local\\Programs\\Python\\Python310\\lib\\site-packages\\seaborn\\_decorators.py:36: FutureWarning: Pass the following variable as a keyword arg: x. From version 0.12, the only valid positional argument will be `data`, and passing other arguments without an explicit keyword will result in an error or misinterpretation.\n",
      "  warnings.warn(\n"
     ]
    },
    {
     "data": {
      "text/plain": [
       "<AxesSubplot:xlabel='class multi', ylabel='count'>"
      ]
     },
     "execution_count": 39,
     "metadata": {},
     "output_type": "execute_result"
    },
    {
     "data": {
      "image/png": "[encoded data removed]",
      "text/plain": [
       "<Figure size 432x288 with 1 Axes>"
      ]
     },
     "metadata": {
      "needs_background": "light"
     },
     "output_type": "display_data"
    }
   ],
   "source": [
    "sns.countplot(y_multi)"
   ]
  },
  {
   "cell_type": "code",
   "execution_count": 40,
   "id": "e4976a1f",
   "metadata": {},
   "outputs": [
    {
     "name": "stdout",
     "output_type": "stream",
     "text": [
      "The percentage of 0 is: 53.87 %\n",
      "The percentage of 1 is: 18.18 %\n",
      "The percentage of 2 is: 11.78 %\n",
      "The percentage of 3 is: 11.78 %\n",
      "The percentage of 4 is: 4.38 %\n"
     ]
    }
   ],
   "source": [
    "print('The percentage of 0 is:', '{:.2f}'.format(len(HD_multi[HD_multi['class multi']==0])/len(y_multi)*100), '%')\n",
    "print('The percentage of 1 is:', '{:.2f}'.format(len(HD_multi[HD_multi['class multi']==1])/len(y_multi)*100), '%')\n",
    "print('The percentage of 2 is:', '{:.2f}'.format(len(HD_multi[HD_multi['class multi']==2])/len(y_multi)*100), '%')\n",
    "print('The percentage of 3 is:', '{:.2f}'.format(len(HD_multi[HD_multi['class multi']==3])/len(y_multi)*100), '%')\n",
    "print('The percentage of 4 is:', '{:.2f}'.format(len(HD_multi[HD_multi['class multi']==4])/len(y_multi)*100), '%')"
   ]
  },
  {
   "cell_type": "code",
   "execution_count": 41,
   "id": "fe85ff6e",
   "metadata": {},
   "outputs": [
    {
     "name": "stderr",
     "output_type": "stream",
     "text": [
      "c:\\Users\\Raphael\\AppData\\Local\\Programs\\Python\\Python310\\lib\\site-packages\\seaborn\\_decorators.py:36: FutureWarning: Pass the following variable as a keyword arg: x. From version 0.12, the only valid positional argument will be `data`, and passing other arguments without an explicit keyword will result in an error or misinterpretation.\n",
      "  warnings.warn(\n"
     ]
    },
    {
     "data": {
      "text/plain": [
       "<AxesSubplot:xlabel='class binary', ylabel='count'>"
      ]
     },
     "execution_count": 41,
     "metadata": {},
     "output_type": "execute_result"
    },
    {
     "data": {
      "image/png": "[encoded data removed]",
      "text/plain": [
       "<Figure size 432x288 with 1 Axes>"
      ]
     },
     "metadata": {
      "needs_background": "light"
     },
     "output_type": "display_data"
    }
   ],
   "source": [
    "sns.countplot(y_binary)"
   ]
  },
  {
   "cell_type": "code",
   "execution_count": 46,
   "id": "2018bfc0",
   "metadata": {},
   "outputs": [
    {
     "name": "stdout",
     "output_type": "stream",
     "text": [
      "The percentage of 0 is: 53.87 %\n",
      "The percentage of 1 is: 46.13 %\n"
     ]
    }
   ],
   "source": [
    "print('The percentage of 0 is:', '{:.2f}'.format(len(HD_binary[HD_binary['class binary']==0])/len(y_binary)*100), '%')\n",
    "print('The percentage of 1 is:', '{:.2f}'.format(len(HD_binary[HD_binary['class binary']==1])/len(y_binary)*100), '%')"
   ]
  },
  {
   "cell_type": "markdown",
   "id": "9ef80546",
   "metadata": {},
   "source": [
    "# Split the Dataset into Train-Validation-Test\n",
    "#### Multi"
   ]
  },
  {
   "cell_type": "code",
   "execution_count": 62,
   "id": "2706102c",
   "metadata": {},
   "outputs": [],
   "source": [
    "from sklearn.model_selection import train_test_split\n",
    "\n",
    "# First we split in Train (0.7) & in Test (0.3)\n",
    "# random_state means the code will always have the same training set (in order to reproduce results)\n",
    "x_multi_train, x_multi_test, y_multi_train, y_multi_test = train_test_split(x_multi, y_multi, test_size=0.3, random_state=42, stratify=y_multi)\n",
    "\n",
    "#Secondly we split in Train & Validation\n",
    "# random_state means the code will always have the same training set (in order to reproduce results)\n",
    "\n",
    "x_multi_train_val, x_multi_validation, y_multi_train_val, y_multi_validation = train_test_split(x_multi_train, y_multi_train, test_size=(0.2/0.7), random_state=42, stratify=y_multi_train)"
   ]
  },
  {
   "cell_type": "code",
   "execution_count": 63,
   "id": "f55dfee0",
   "metadata": {},
   "outputs": [
    {
     "name": "stdout",
     "output_type": "stream",
     "text": [
      "Shape of x_multi_train             : (207, 13)\n",
      "Shape of x_multi_test              : (90, 13)\n",
      "Shape of y_multi_train             : (207,)\n",
      "Shape of y_multi_test              : (90,)\n",
      "\n",
      "Lenght of Dataset                  :  297\n",
      "Percentage of Train_multi          :  69.70 %\n",
      "Percentage of Test_multi           :  30.30 %\n",
      "Percentage of x_multi_train_val    :  49.49 %\n",
      "Percentage of Validation_multi     :  20.20 %\n"
     ]
    }
   ],
   "source": [
    "#Quick check if the split is correct:\n",
    "print(\"Shape of x_multi_train             : \"+str(x_multi_train.shape))\n",
    "print(\"Shape of x_multi_test              : \"+str(x_multi_test.shape))\n",
    "print(\"Shape of y_multi_train             : \"+str(y_multi_train.shape))\n",
    "print(\"Shape of y_multi_test              : \"+str(y_multi_test.shape))\n",
    "print('')\n",
    "print(\"Lenght of Dataset                  : \", len(x_multi))\n",
    "print(\"Percentage of Train_multi          : \", '{:.2f}'.format(len(x_multi_train)/len(x_multi)*100), '%')\n",
    "print(\"Percentage of Test_multi           : \", '{:.2f}'.format(len(x_multi_test)/len(x_multi)*100), '%')\n",
    "\n",
    "print(\"Percentage of x_multi_train_val    : \", '{:.2f}'.format(len(x_multi_train_val)/len(x_multi)*100), '%')\n",
    "print(\"Percentage of Validation_multi     : \", '{:.2f}'.format(len(x_multi_validation)/len(x_multi)*100), '%')\n"
   ]
  },
  {
   "cell_type": "markdown",
   "id": "892aec30",
   "metadata": {},
   "source": [
    "# Split the Dataset into Train-Validation-Test\n",
    "#### Binary"
   ]
  },
  {
   "cell_type": "code",
   "execution_count": 58,
   "id": "8cd58d00",
   "metadata": {},
   "outputs": [],
   "source": [
    "from sklearn.model_selection import train_test_split\n",
    "\n",
    "# First we split in Train (0.7) & in Test (0.3)\n",
    "# random_state means the code will always have the same training set (in order to reproduce results)\n",
    "x_binary_train, x_binary_test, y_binary_train, y_binary_test = train_test_split(x_binary, y_binary, test_size=0.3, random_state=42, stratify=y_binary)\n",
    "\n",
    "#Secondly we split in Train & Validation\n",
    "# random_state means the code will always have the same training set (in order to reproduce results)\n",
    "\n",
    "x_binary_train_val, x_binary_validation, y_binary_train_val, y_binary_validation = train_test_split(x_binary_train, y_binary_train, test_size=(0.2/0.7), random_state=42)"
   ]
  },
  {
   "cell_type": "code",
   "execution_count": 59,
   "id": "57c328ba",
   "metadata": {},
   "outputs": [
    {
     "name": "stdout",
     "output_type": "stream",
     "text": [
      "Shape of x_binary_train             : (207, 13)\n",
      "Shape of x_binary_test              : (90, 13)\n",
      "Shape of y_binary_train             : (207,)\n",
      "Shape of y_binary_test              : (90,)\n",
      "\n",
      "Lenght of Dataset                   :  297\n",
      "Percentage of Train_binary          :  69.70 %\n",
      "Percentage of Test_binary           :  30.30 %\n",
      "Percentage of x_binary_train_val    :  49.49 %\n",
      "Percentage of Validation_binary     :  20.20 %\n"
     ]
    }
   ],
   "source": [
    "#Quick check if the split is correct:\n",
    "print(\"Shape of x_binary_train             : \"+str(x_binary_train.shape))\n",
    "print(\"Shape of x_binary_test              : \"+str(x_binary_test.shape))\n",
    "print(\"Shape of y_binary_train             : \"+str(y_binary_train.shape))\n",
    "print(\"Shape of y_binary_test              : \"+str(y_binary_test.shape))\n",
    "print('')\n",
    "print(\"Lenght of Dataset                   : \", len(x_binary))\n",
    "print(\"Percentage of Train_binary          : \", '{:.2f}'.format(len(x_binary_train)/len(x_binary)*100), '%')\n",
    "print(\"Percentage of Test_binary           : \", '{:.2f}'.format(len(x_binary_test)/len(x_binary)*100), '%')\n",
    "\n",
    "print(\"Percentage of x_binary_train_val    : \", '{:.2f}'.format(len(x_binary_train_val)/len(x_binary)*100), '%')\n",
    "print(\"Percentage of Validation_binary     : \", '{:.2f}'.format(len(x_binary_validation)/len(x_binary)*100), '%')\n"
   ]
  },
  {
   "cell_type": "markdown",
   "id": "8e79f8f0",
   "metadata": {},
   "source": [
    "# Inspecting the Sample Datesets"
   ]
  },
  {
   "cell_type": "code",
   "execution_count": null,
   "id": "361478eb",
   "metadata": {},
   "outputs": [],
   "source": []
  },
  {
   "cell_type": "code",
   "execution_count": null,
   "id": "fa91aae0",
   "metadata": {},
   "outputs": [],
   "source": []
  },
  {
   "cell_type": "code",
   "execution_count": null,
   "id": "e2d6f7a7",
   "metadata": {},
   "outputs": [],
   "source": []
  },
  {
   "cell_type": "markdown",
   "id": "ac948caf",
   "metadata": {},
   "source": [
    "# Implementing the Model"
   ]
  },
  {
   "cell_type": "markdown",
   "id": "b0900971",
   "metadata": {},
   "source": [
    "1. Decision Tree mit Regression (Binär): \n",
    "\n",
    "        a) Basic Decision Tree -> Train & Test + Max Debth = 3\n",
    "    \n",
    "        b) Decision Tree mit Cross Validation (KFold: Max Debth und Hyperparameter Tuning)\n",
    "2. Decision Tree mit Classifier (1-4 Classes):\n",
    "\n",
    "        a) Basic Decision Tree -> Train & Test + Max Debth = 3\n",
    "\n",
    "        b) Decision Tree mit Cross Validation (Max Debth und Hyperparameter Tuning)\n",
    "3. Random Forest mit Regression (Binär):\n",
    "\n",
    "4. Random Forest mit Classifier:"
   ]
  },
  {
   "cell_type": "markdown",
   "id": "e5f2ad40",
   "metadata": {},
   "source": [
    "Results:\n",
    "- Accurary in Sample\n",
    "- Accuracy out of Sample\n",
    "- Precision Score\n",
    "- Recall Score\n",
    "- F1 Score\n",
    "- TP\n",
    "- TN\n",
    "- FP\n",
    "- FN"
   ]
  },
  {
   "cell_type": "code",
   "execution_count": 67,
   "id": "ed4f08c0",
   "metadata": {},
   "outputs": [],
   "source": [
    "import pandas as pd\n",
    "import seaborn as sns\n",
    "from sklearn.model_selection import train_test_split\n",
    "\n",
    "# Decision tree classifier implementation of scikit-learn\n",
    "from sklearn.tree import DecisionTreeClassifier\n",
    "\n",
    "from sklearn.tree import plot_tree"
   ]
  },
  {
   "cell_type": "code",
   "execution_count": null,
   "id": "e2bd25c1",
   "metadata": {},
   "outputs": [],
   "source": [
    "features_names_multi = x_multi.columns\n",
    "classes_multi = y_multi.unique()\n",
    "\n",
    "plot_tree(dt_credit, filled = True, rounded = True, feature_names = feature_names)"
   ]
  },
  {
   "cell_type": "code",
   "execution_count": 77,
   "id": "22f0dbb2",
   "metadata": {},
   "outputs": [
    {
     "data": {
      "text/plain": [
       "array([0, 2, 1, 3, 4], dtype=int64)"
      ]
     },
     "execution_count": 77,
     "metadata": {},
     "output_type": "execute_result"
    }
   ],
   "source": [
    "classes_multi = y_multi.unique()\n",
    "classes_multi"
   ]
  },
  {
   "cell_type": "code",
   "execution_count": null,
   "id": "7a375131",
   "metadata": {},
   "outputs": [],
   "source": []
  },
  {
   "cell_type": "markdown",
   "id": "11778f84",
   "metadata": {},
   "source": [
    "Definition of Results Set:"
   ]
  },
  {
   "cell_type": "code",
   "execution_count": 51,
   "id": "11122bfd",
   "metadata": {},
   "outputs": [],
   "source": [
    "Results = []"
   ]
  },
  {
   "cell_type": "code",
   "execution_count": 52,
   "id": "6653f612",
   "metadata": {},
   "outputs": [
    {
     "data": {
      "text/html": [
       "<style>#sk-container-id-1 {color: black;background-color: white;}#sk-container-id-1 pre{padding: 0;}#sk-container-id-1 div.sk-toggleable {background-color: white;}#sk-container-id-1 label.sk-toggleable__label {cursor: pointer;display: block;width: 100%;margin-bottom: 0;padding: 0.3em;box-sizing: border-box;text-align: center;}#sk-container-id-1 label.sk-toggleable__label-arrow:before {content: \"▸\";float: left;margin-right: 0.25em;color: #696969;}#sk-container-id-1 label.sk-toggleable__label-arrow:hover:before {color: black;}#sk-container-id-1 div.sk-estimator:hover label.sk-toggleable__label-arrow:before {color: black;}#sk-container-id-1 div.sk-toggleable__content {max-height: 0;max-width: 0;overflow: hidden;text-align: left;background-color: #f0f8ff;}#sk-container-id-1 div.sk-toggleable__content pre {margin: 0.2em;color: black;border-radius: 0.25em;background-color: #f0f8ff;}#sk-container-id-1 input.sk-toggleable__control:checked~div.sk-toggleable__content {max-height: 200px;max-width: 100%;overflow: auto;}#sk-container-id-1 input.sk-toggleable__control:checked~label.sk-toggleable__label-arrow:before {content: \"▾\";}#sk-container-id-1 div.sk-estimator input.sk-toggleable__control:checked~label.sk-toggleable__label {background-color: #d4ebff;}#sk-container-id-1 div.sk-label input.sk-toggleable__control:checked~label.sk-toggleable__label {background-color: #d4ebff;}#sk-container-id-1 input.sk-hidden--visually {border: 0;clip: rect(1px 1px 1px 1px);clip: rect(1px, 1px, 1px, 1px);height: 1px;margin: -1px;overflow: hidden;padding: 0;position: absolute;width: 1px;}#sk-container-id-1 div.sk-estimator {font-family: monospace;background-color: #f0f8ff;border: 1px dotted black;border-radius: 0.25em;box-sizing: border-box;margin-bottom: 0.5em;}#sk-container-id-1 div.sk-estimator:hover {background-color: #d4ebff;}#sk-container-id-1 div.sk-parallel-item::after {content: \"\";width: 100%;border-bottom: 1px solid gray;flex-grow: 1;}#sk-container-id-1 div.sk-label:hover label.sk-toggleable__label {background-color: #d4ebff;}#sk-container-id-1 div.sk-serial::before {content: \"\";position: absolute;border-left: 1px solid gray;box-sizing: border-box;top: 0;bottom: 0;left: 50%;z-index: 0;}#sk-container-id-1 div.sk-serial {display: flex;flex-direction: column;align-items: center;background-color: white;padding-right: 0.2em;padding-left: 0.2em;position: relative;}#sk-container-id-1 div.sk-item {position: relative;z-index: 1;}#sk-container-id-1 div.sk-parallel {display: flex;align-items: stretch;justify-content: center;background-color: white;position: relative;}#sk-container-id-1 div.sk-item::before, #sk-container-id-1 div.sk-parallel-item::before {content: \"\";position: absolute;border-left: 1px solid gray;box-sizing: border-box;top: 0;bottom: 0;left: 50%;z-index: -1;}#sk-container-id-1 div.sk-parallel-item {display: flex;flex-direction: column;z-index: 1;position: relative;background-color: white;}#sk-container-id-1 div.sk-parallel-item:first-child::after {align-self: flex-end;width: 50%;}#sk-container-id-1 div.sk-parallel-item:last-child::after {align-self: flex-start;width: 50%;}#sk-container-id-1 div.sk-parallel-item:only-child::after {width: 0;}#sk-container-id-1 div.sk-dashed-wrapped {border: 1px dashed gray;margin: 0 0.4em 0.5em 0.4em;box-sizing: border-box;padding-bottom: 0.4em;background-color: white;}#sk-container-id-1 div.sk-label label {font-family: monospace;font-weight: bold;display: inline-block;line-height: 1.2em;}#sk-container-id-1 div.sk-label-container {text-align: center;}#sk-container-id-1 div.sk-container {/* jupyter's `normalize.less` sets `[hidden] { display: none; }` but bootstrap.min.css set `[hidden] { display: none !important; }` so we also need the `!important` here to be able to override the default hidden behavior on the sphinx rendered scikit-learn.org. See: https://github.com/scikit-learn/scikit-learn/issues/21755 */display: inline-block !important;position: relative;}#sk-container-id-1 div.sk-text-repr-fallback {display: none;}</style><div id=\"sk-container-id-1\" class=\"sk-top-container\"><div class=\"sk-text-repr-fallback\"><pre>DecisionTreeClassifier(criterion=&#x27;entropy&#x27;, max_depth=3, random_state=2)</pre><b>In a Jupyter environment, please rerun this cell to show the HTML representation or trust the notebook. <br />On GitHub, the HTML representation is unable to render, please try loading this page with nbviewer.org.</b></div><div class=\"sk-container\" hidden><div class=\"sk-item\"><div class=\"sk-estimator sk-toggleable\"><input class=\"sk-toggleable__control sk-hidden--visually\" id=\"sk-estimator-id-1\" type=\"checkbox\" checked><label for=\"sk-estimator-id-1\" class=\"sk-toggleable__label sk-toggleable__label-arrow\">DecisionTreeClassifier</label><div class=\"sk-toggleable__content\"><pre>DecisionTreeClassifier(criterion=&#x27;entropy&#x27;, max_depth=3, random_state=2)</pre></div></div></div></div></div>"
      ],
      "text/plain": [
       "DecisionTreeClassifier(criterion='entropy', max_depth=3, random_state=2)"
      ]
     },
     "execution_count": 52,
     "metadata": {},
     "output_type": "execute_result"
    }
   ],
   "source": [
    "# Decision tree classifier implementation of scikit-learn\n",
    "from sklearn.tree import DecisionTreeClassifier\n",
    "from sklearn.tree import DecisionTreeRegressor\n",
    "\n",
    "# Define the tree classifier\n",
    "tree_multi = DecisionTreeClassifier(criterion = 'entropy',max_depth=3, random_state=2)\n",
    "\n",
    "# Train tree classifier on the training set\n",
    "tree_multi.fit(x_multi_train, y_multi_train)"
   ]
  },
  {
   "cell_type": "code",
   "execution_count": 53,
   "id": "db43e166",
   "metadata": {},
   "outputs": [
    {
     "name": "stdout",
     "output_type": "stream",
     "text": [
      "Accuracy on the training set: 0.628\n",
      "Accuracy on the test set: 0.522\n"
     ]
    }
   ],
   "source": [
    "print(\"Accuracy on the training set: {:.3f}\".format(tree_multi.score(x_multi_train, y_multi_train)))\n",
    "print(\"Accuracy on the test set: {:.3f}\".format(tree_multi.score(x_multi_test, y_multi_test)))"
   ]
  },
  {
   "cell_type": "code",
   "execution_count": 54,
   "id": "e4a84580",
   "metadata": {},
   "outputs": [
    {
     "data": {
      "text/plain": [
       "0.6280193236714976"
      ]
     },
     "execution_count": 54,
     "metadata": {},
     "output_type": "execute_result"
    }
   ],
   "source": [
    "# Accurary in Sample\n",
    "tree_multi.score(x_multi_train, y_multi_train)"
   ]
  },
  {
   "cell_type": "code",
   "execution_count": 55,
   "id": "5b5df774",
   "metadata": {},
   "outputs": [
    {
     "data": {
      "text/plain": [
       "0.5222222222222223"
      ]
     },
     "execution_count": 55,
     "metadata": {},
     "output_type": "execute_result"
    }
   ],
   "source": [
    "# Accuracy out of Sample\n",
    "tree_multi.score(x_multi_test, y_multi_test)"
   ]
  },
  {
   "cell_type": "code",
   "execution_count": null,
   "id": "16d1116e",
   "metadata": {},
   "outputs": [],
   "source": [
    "# Precision Score\n"
   ]
  },
  {
   "cell_type": "code",
   "execution_count": null,
   "id": "676d9c63",
   "metadata": {},
   "outputs": [],
   "source": [
    "# Recall Score\n"
   ]
  },
  {
   "cell_type": "code",
   "execution_count": null,
   "id": "4282073d",
   "metadata": {},
   "outputs": [],
   "source": [
    "# F1 Score\n"
   ]
  },
  {
   "cell_type": "code",
   "execution_count": null,
   "id": "f95ae373",
   "metadata": {},
   "outputs": [],
   "source": [
    "# TP\n"
   ]
  },
  {
   "cell_type": "code",
   "execution_count": null,
   "id": "6479fbdf",
   "metadata": {},
   "outputs": [],
   "source": [
    "# TN\n"
   ]
  },
  {
   "cell_type": "code",
   "execution_count": null,
   "id": "d02e726b",
   "metadata": {},
   "outputs": [],
   "source": [
    "# FP\n"
   ]
  },
  {
   "cell_type": "code",
   "execution_count": null,
   "id": "654f3ed1",
   "metadata": {},
   "outputs": [],
   "source": [
    "# FN"
   ]
  },
  {
   "cell_type": "code",
   "execution_count": null,
   "id": "d3871eba",
   "metadata": {},
   "outputs": [],
   "source": []
  },
  {
   "cell_type": "code",
   "execution_count": null,
   "id": "d3d4b204",
   "metadata": {},
   "outputs": [],
   "source": []
  },
  {
   "cell_type": "code",
   "execution_count": null,
   "id": "35cd69d3",
   "metadata": {},
   "outputs": [],
   "source": []
  },
  {
   "cell_type": "code",
   "execution_count": null,
   "id": "b0ed5c47",
   "metadata": {},
   "outputs": [],
   "source": []
  },
  {
   "cell_type": "code",
   "execution_count": 67,
   "id": "cdfbb8e9",
   "metadata": {},
   "outputs": [
    {
     "ename": "NameError",
     "evalue": "name 'RandomForestClassifier' is not defined",
     "output_type": "error",
     "traceback": [
      "\u001b[1;31m---------------------------------------------------------------------------\u001b[0m",
      "\u001b[1;31mNameError\u001b[0m                                 Traceback (most recent call last)",
      "\u001b[1;32m<ipython-input-67-095fcb3f27cd>\u001b[0m in \u001b[0;36m<module>\u001b[1;34m\u001b[0m\n\u001b[0;32m      1\u001b[0m \u001b[1;31m# Import relevant packages\u001b[0m\u001b[1;33m\u001b[0m\u001b[1;33m\u001b[0m\u001b[1;33m\u001b[0m\u001b[0m\n\u001b[0;32m      2\u001b[0m \u001b[1;33m\u001b[0m\u001b[0m\n\u001b[1;32m----> 3\u001b[1;33m \u001b[0mrf\u001b[0m \u001b[1;33m=\u001b[0m \u001b[0mRandomForestClassifier\u001b[0m\u001b[1;33m(\u001b[0m\u001b[0mmax_depth\u001b[0m\u001b[1;33m=\u001b[0m\u001b[1;36m10\u001b[0m\u001b[1;33m,\u001b[0m \u001b[0mrandom_state\u001b[0m\u001b[1;33m=\u001b[0m\u001b[1;36m0\u001b[0m\u001b[1;33m)\u001b[0m\u001b[1;33m\u001b[0m\u001b[1;33m\u001b[0m\u001b[0m\n\u001b[0m\u001b[0;32m      4\u001b[0m \u001b[1;32mfrom\u001b[0m \u001b[0msklearn\u001b[0m\u001b[1;33m.\u001b[0m\u001b[0mmetrics\u001b[0m \u001b[1;32mimport\u001b[0m \u001b[0mroc_auc_score\u001b[0m\u001b[1;33m\u001b[0m\u001b[1;33m\u001b[0m\u001b[0m\n\u001b[0;32m      5\u001b[0m \u001b[1;32mfrom\u001b[0m \u001b[0msklearn\u001b[0m\u001b[1;33m.\u001b[0m\u001b[0mmetrics\u001b[0m \u001b[1;32mimport\u001b[0m \u001b[0mroc_curve\u001b[0m\u001b[1;33m,\u001b[0m \u001b[0mauc\u001b[0m\u001b[1;33m\u001b[0m\u001b[1;33m\u001b[0m\u001b[0m\n",
      "\u001b[1;31mNameError\u001b[0m: name 'RandomForestClassifier' is not defined"
     ]
    }
   ],
   "source": [
    "# Import relevant packages\n",
    "from sklearn.ensemble import RandomForestClassifier\n",
    "rf = RandomForestClassifier(max_depth=10, random_state=0)\n",
    "rf.fit(X_train, Y_train)\n",
    "\n",
    "from sklearn.metrics import roc_auc_score\n",
    "from sklearn.metrics import roc_curve, auc\n",
    "from sklearn.metrics import accuracy_score\n",
    "from sklearn.metrics import precision_score\n",
    "from sklearn.metrics import recall_score\n",
    "from sklearn import metrics"
   ]
  },
  {
   "cell_type": "code",
   "execution_count": null,
   "id": "c6d14405",
   "metadata": {},
   "outputs": [],
   "source": [
    "predicted = rf.predict(x_multi_test)"
   ]
  },
  {
   "cell_type": "code",
   "execution_count": null,
   "id": "02074fd1",
   "metadata": {},
   "outputs": [],
   "source": [
    "predicted_results = pd.DataFrame(predicted)\n",
    "\n",
    "predicted_results"
   ]
  },
  {
   "cell_type": "code",
   "execution_count": null,
   "id": "05e242ed",
   "metadata": {},
   "outputs": [],
   "source": [
    "accuracy_score(y_multi_train, predicted_results)"
   ]
  },
  {
   "cell_type": "code",
   "execution_count": null,
   "id": "1c6a5326",
   "metadata": {},
   "outputs": [],
   "source": []
  },
  {
   "cell_type": "code",
   "execution_count": null,
   "id": "7f129220",
   "metadata": {},
   "outputs": [],
   "source": []
  },
  {
   "cell_type": "code",
   "execution_count": null,
   "id": "a6a58f2e",
   "metadata": {},
   "outputs": [],
   "source": []
  },
  {
   "cell_type": "code",
   "execution_count": 48,
   "id": "080185ed",
   "metadata": {},
   "outputs": [
    {
     "data": {
      "text/plain": [
       "[Text(167.4, 190.26, 'X[11] <= 0.5\\nentropy = 1.866\\nsamples = 207\\nvalue = [111, 37, 25, 24, 10]'),\n",
       " Text(83.7, 135.9, 'X[12] <= 6.5\\nentropy = 1.166\\nsamples = 119\\nvalue = [91, 16, 4, 6, 2]'),\n",
       " Text(41.85, 81.53999999999999, 'X[7] <= 147.5\\nentropy = 0.621\\nsamples = 86\\nvalue = [76, 7, 3, 0, 0]'),\n",
       " Text(20.925, 27.180000000000007, 'entropy = 1.118\\nsamples = 22\\nvalue = [16, 3, 3, 0, 0]'),\n",
       " Text(62.775000000000006, 27.180000000000007, 'entropy = 0.337\\nsamples = 64\\nvalue = [60, 4, 0, 0, 0]'),\n",
       " Text(125.55000000000001, 81.53999999999999, 'X[9] <= 1.95\\nentropy = 1.873\\nsamples = 33\\nvalue = [15, 9, 1, 6, 2]'),\n",
       " Text(104.625, 27.180000000000007, 'entropy = 1.352\\nsamples = 27\\nvalue = [15, 9, 0, 3, 0]'),\n",
       " Text(146.475, 27.180000000000007, 'entropy = 1.459\\nsamples = 6\\nvalue = [0, 0, 1, 3, 2]'),\n",
       " Text(251.10000000000002, 135.9, 'X[9] <= 0.9\\nentropy = 2.255\\nsamples = 88\\nvalue = [20, 21, 21, 18, 8]'),\n",
       " Text(209.25, 81.53999999999999, 'X[2] <= 3.5\\nentropy = 1.955\\nsamples = 39\\nvalue = [18, 10, 4, 5, 2]'),\n",
       " Text(188.32500000000002, 27.180000000000007, 'entropy = 1.301\\nsamples = 23\\nvalue = [15, 6, 1, 1, 0]'),\n",
       " Text(230.175, 27.180000000000007, 'entropy = 2.281\\nsamples = 16\\nvalue = [3, 4, 3, 4, 2]'),\n",
       " Text(292.95, 81.53999999999999, 'X[8] <= 0.5\\nentropy = 2.081\\nsamples = 49\\nvalue = [2, 11, 17, 13, 6]'),\n",
       " Text(272.02500000000003, 27.180000000000007, 'entropy = 2.16\\nsamples = 21\\nvalue = [2, 2, 7, 5, 5]'),\n",
       " Text(313.875, 27.180000000000007, 'entropy = 1.745\\nsamples = 28\\nvalue = [0, 9, 10, 8, 1]')]"
      ]
     },
     "execution_count": 48,
     "metadata": {},
     "output_type": "execute_result"
    },
    {
     "data": {
      "image/png": "[encoded data removed]",
      "text/plain": [
       "<Figure size 432x288 with 1 Axes>"
      ]
     },
     "metadata": {
      "needs_background": "light"
     },
     "output_type": "display_data"
    }
   ],
   "source": [
    "from sklearn.tree import plot_tree\n",
    "plot_tree(tree_multi, filled = True, rounded = True)"
   ]
  },
  {
   "cell_type": "code",
   "execution_count": 49,
   "id": "5397dba5",
   "metadata": {},
   "outputs": [],
   "source": [
    "# Out-of-sample \n",
    "y_pred = tree_multi.predict(x_multi_test)"
   ]
  },
  {
   "cell_type": "code",
   "execution_count": 50,
   "id": "7a2c433e",
   "metadata": {},
   "outputs": [],
   "source": [
    "# confusion_matrix\n",
    "from sklearn.metrics import confusion_matrix"
   ]
  },
  {
   "cell_type": "code",
   "execution_count": 51,
   "id": "e6c0e669",
   "metadata": {},
   "outputs": [
    {
     "ename": "NameError",
     "evalue": "name 'y_test' is not defined",
     "output_type": "error",
     "traceback": [
      "\u001b[1;31m---------------------------------------------------------------------------\u001b[0m",
      "\u001b[1;31mNameError\u001b[0m                                 Traceback (most recent call last)",
      "\u001b[1;32m<ipython-input-51-48922c23fe57>\u001b[0m in \u001b[0;36m<module>\u001b[1;34m\u001b[0m\n\u001b[0;32m      1\u001b[0m \u001b[1;31m# Out-of-Sample Confusion Matrix\u001b[0m\u001b[1;33m\u001b[0m\u001b[1;33m\u001b[0m\u001b[1;33m\u001b[0m\u001b[0m\n\u001b[1;32m----> 2\u001b[1;33m \u001b[0mcm_credit\u001b[0m \u001b[1;33m=\u001b[0m \u001b[0mconfusion_matrix\u001b[0m\u001b[1;33m(\u001b[0m\u001b[0my_test\u001b[0m\u001b[1;33m,\u001b[0m \u001b[0my_pred\u001b[0m\u001b[1;33m)\u001b[0m\u001b[1;33m\u001b[0m\u001b[1;33m\u001b[0m\u001b[0m\n\u001b[0m\u001b[0;32m      3\u001b[0m \u001b[0mcm_credit\u001b[0m\u001b[1;33m\u001b[0m\u001b[1;33m\u001b[0m\u001b[0m\n",
      "\u001b[1;31mNameError\u001b[0m: name 'y_test' is not defined"
     ]
    }
   ],
   "source": [
    "# Out-of-Sample Confusion Matrix\n",
    "cm_credit = confusion_matrix(y_test, y_pred)\n",
    "cm_credit"
   ]
  },
  {
   "cell_type": "code",
   "execution_count": null,
   "id": "5d030166",
   "metadata": {},
   "outputs": [],
   "source": [
    "def plot_decision_boundary(clf, X, Y, cmap='Paired_r'):\n",
    "    h = 0.02\n",
    "    x_min, x_max = X[:,0].min() - 10*h, X[:,0].max() + 10*h\n",
    "    y_min, y_max = X[:,1].min() - 10*h, X[:,1].max() + 10*h\n",
    "    xx, yy = np.meshgrid(np.arange(x_min, x_max, h),\n",
    "                         np.arange(y_min, y_max, h))\n",
    "    Z = clf.predict(np.c_[xx.ravel(), yy.ravel()])\n",
    "    Z = Z.reshape(xx.shape)\n",
    "\n",
    "    plt.figure(figsize=(5,5))\n",
    "    plt.contourf(xx, yy, Z, cmap=cmap, alpha=0.25)\n",
    "    plt.contour(xx, yy, Z, colors='k', linewidths=0.7)\n",
    "    plt.scatter(X[:,0], X[:,1], c=Y, cmap=cmap, edgecolors='k');"
   ]
  },
  {
   "cell_type": "code",
   "execution_count": null,
   "id": "e898165e",
   "metadata": {},
   "outputs": [],
   "source": [
    "plot_decision_boundary(dt_model, X, y)"
   ]
  },
  {
   "cell_type": "code",
   "execution_count": 52,
   "id": "2c5e4422",
   "metadata": {},
   "outputs": [
    {
     "ename": "NameError",
     "evalue": "name 'dt_model' is not defined",
     "output_type": "error",
     "traceback": [
      "\u001b[1;31m---------------------------------------------------------------------------\u001b[0m",
      "\u001b[1;31mNameError\u001b[0m                                 Traceback (most recent call last)",
      "\u001b[1;32m<ipython-input-52-6fb2546543db>\u001b[0m in \u001b[0;36m<module>\u001b[1;34m\u001b[0m\n\u001b[0;32m      1\u001b[0m \u001b[1;32mfrom\u001b[0m \u001b[0msklearn\u001b[0m\u001b[1;33m.\u001b[0m\u001b[0mmetrics\u001b[0m \u001b[1;32mimport\u001b[0m \u001b[0mplot_confusion_matrix\u001b[0m\u001b[1;33m\u001b[0m\u001b[1;33m\u001b[0m\u001b[0m\n\u001b[1;32m----> 2\u001b[1;33m \u001b[0mdisp\u001b[0m \u001b[1;33m=\u001b[0m \u001b[0mplot_confusion_matrix\u001b[0m\u001b[1;33m(\u001b[0m\u001b[0mdt_model\u001b[0m\u001b[1;33m,\u001b[0m \u001b[0mx_test\u001b[0m\u001b[1;33m,\u001b[0m \u001b[0my_test\u001b[0m\u001b[1;33m,\u001b[0m\u001b[0mcmap\u001b[0m\u001b[1;33m=\u001b[0m\u001b[0mplt\u001b[0m\u001b[1;33m.\u001b[0m\u001b[0mcm\u001b[0m\u001b[1;33m.\u001b[0m\u001b[0mBlues\u001b[0m\u001b[1;33m)\u001b[0m\u001b[1;33m\u001b[0m\u001b[1;33m\u001b[0m\u001b[0m\n\u001b[0m",
      "\u001b[1;31mNameError\u001b[0m: name 'dt_model' is not defined"
     ]
    }
   ],
   "source": [
    "from sklearn.metrics import plot_confusion_matrix\n",
    "disp = plot_confusion_matrix(dt_model, x_test, y_test,cmap=plt.cm.Blues)"
   ]
  },
  {
   "cell_type": "code",
   "execution_count": 53,
   "id": "cadffce8",
   "metadata": {},
   "outputs": [
    {
     "ename": "SyntaxError",
     "evalue": "invalid syntax (<ipython-input-53-a27a243ebfe4>, line 3)",
     "output_type": "error",
     "traceback": [
      "\u001b[1;36m  File \u001b[1;32m\"<ipython-input-53-a27a243ebfe4>\"\u001b[1;36m, line \u001b[1;32m3\u001b[0m\n\u001b[1;33m    from\u001b[0m\n\u001b[1;37m         ^\u001b[0m\n\u001b[1;31mSyntaxError\u001b[0m\u001b[1;31m:\u001b[0m invalid syntax\n"
     ]
    }
   ],
   "source": [
    "# With cross validation\n",
    "from sklearn.model_selection import cross_validate, KFold\n",
    "from "
   ]
  },
  {
   "cell_type": "code",
   "execution_count": 54,
   "id": "c11d1c26",
   "metadata": {},
   "outputs": [],
   "source": [
    "# Define lists for the accuracies\n",
    "cv_acc_list = []\n",
    "cv_tpr_list = []\n",
    "cv_acc_in_list = []\n",
    "cv_tpr_in_list = []"
   ]
  },
  {
   "cell_type": "code",
   "execution_count": 59,
   "id": "d4eb4168",
   "metadata": {},
   "outputs": [],
   "source": [
    "for depth in range(1,21):\n",
    "    # model\n",
    "    clf = DecisionTreeClassifier(criterion = 'entropy', max_depth = depth)\n",
    "    # 10-Fold cross validation on whole dataset\n",
    "    cv_results = cross_validate(clf, x_binary, y_binary,\n",
    "                                cv = KFold(n_splits = 10, shuffle = True, random_state = 31),\n",
    "                                scoring = ['accuracy', 'recall'], return_train_score = True)\n",
    "    # Scores in lists\n",
    "    cv_acc_list.append(cv_results['test_accuracy'].mean())\n",
    "    cv_tpr_list.append(cv_results['test_recall'].mean())\n",
    "    cv_acc_in_list.append(cv_results['train_accuracy'].mean())\n",
    "    cv_tpr_in_list.append(cv_results['train_recall'].mean())"
   ]
  },
  {
   "cell_type": "code",
   "execution_count": 65,
   "id": "d216422e",
   "metadata": {},
   "outputs": [
    {
     "ename": "ValueError",
     "evalue": "Classification metrics can't handle a mix of multiclass and continuous targets",
     "output_type": "error",
     "traceback": [
      "\u001b[1;31m---------------------------------------------------------------------------\u001b[0m",
      "\u001b[1;31mValueError\u001b[0m                                Traceback (most recent call last)",
      "\u001b[1;32m<ipython-input-65-d489eb229ac3>\u001b[0m in \u001b[0;36m<module>\u001b[1;34m\u001b[0m\n\u001b[0;32m      3\u001b[0m     \u001b[0mclf\u001b[0m \u001b[1;33m=\u001b[0m \u001b[0mDecisionTreeRegressor\u001b[0m\u001b[1;33m(\u001b[0m\u001b[0mcriterion\u001b[0m\u001b[1;33m=\u001b[0m\u001b[1;34m'friedman_mse'\u001b[0m\u001b[1;33m,\u001b[0m \u001b[0mmax_depth\u001b[0m \u001b[1;33m=\u001b[0m \u001b[0mdepth\u001b[0m\u001b[1;33m)\u001b[0m\u001b[1;33m\u001b[0m\u001b[1;33m\u001b[0m\u001b[0m\n\u001b[0;32m      4\u001b[0m     \u001b[1;31m# 10-Fold cross validation on whole dataset\u001b[0m\u001b[1;33m\u001b[0m\u001b[1;33m\u001b[0m\u001b[1;33m\u001b[0m\u001b[0m\n\u001b[1;32m----> 5\u001b[1;33m     cv_results = cross_validate(clf, x_multi, y_multi,\n\u001b[0m\u001b[0;32m      6\u001b[0m                                 \u001b[0mcv\u001b[0m \u001b[1;33m=\u001b[0m \u001b[0mKFold\u001b[0m\u001b[1;33m(\u001b[0m\u001b[0mn_splits\u001b[0m \u001b[1;33m=\u001b[0m \u001b[1;36m10\u001b[0m\u001b[1;33m,\u001b[0m \u001b[0mshuffle\u001b[0m \u001b[1;33m=\u001b[0m \u001b[1;32mTrue\u001b[0m\u001b[1;33m,\u001b[0m \u001b[0mrandom_state\u001b[0m \u001b[1;33m=\u001b[0m \u001b[1;36m31\u001b[0m\u001b[1;33m)\u001b[0m\u001b[1;33m,\u001b[0m\u001b[1;33m\u001b[0m\u001b[1;33m\u001b[0m\u001b[0m\n\u001b[0;32m      7\u001b[0m                                 scoring = ['accuracy', 'recall'], return_train_score = True)\n",
      "\u001b[1;32mc:\\Users\\lione\\anaconda3\\lib\\site-packages\\sklearn\\utils\\validation.py\u001b[0m in \u001b[0;36minner_f\u001b[1;34m(*args, **kwargs)\u001b[0m\n\u001b[0;32m     71\u001b[0m                           FutureWarning)\n\u001b[0;32m     72\u001b[0m         \u001b[0mkwargs\u001b[0m\u001b[1;33m.\u001b[0m\u001b[0mupdate\u001b[0m\u001b[1;33m(\u001b[0m\u001b[1;33m{\u001b[0m\u001b[0mk\u001b[0m\u001b[1;33m:\u001b[0m \u001b[0marg\u001b[0m \u001b[1;32mfor\u001b[0m \u001b[0mk\u001b[0m\u001b[1;33m,\u001b[0m \u001b[0marg\u001b[0m \u001b[1;32min\u001b[0m \u001b[0mzip\u001b[0m\u001b[1;33m(\u001b[0m\u001b[0msig\u001b[0m\u001b[1;33m.\u001b[0m\u001b[0mparameters\u001b[0m\u001b[1;33m,\u001b[0m \u001b[0margs\u001b[0m\u001b[1;33m)\u001b[0m\u001b[1;33m}\u001b[0m\u001b[1;33m)\u001b[0m\u001b[1;33m\u001b[0m\u001b[1;33m\u001b[0m\u001b[0m\n\u001b[1;32m---> 73\u001b[1;33m         \u001b[1;32mreturn\u001b[0m \u001b[0mf\u001b[0m\u001b[1;33m(\u001b[0m\u001b[1;33m**\u001b[0m\u001b[0mkwargs\u001b[0m\u001b[1;33m)\u001b[0m\u001b[1;33m\u001b[0m\u001b[1;33m\u001b[0m\u001b[0m\n\u001b[0m\u001b[0;32m     74\u001b[0m     \u001b[1;32mreturn\u001b[0m \u001b[0minner_f\u001b[0m\u001b[1;33m\u001b[0m\u001b[1;33m\u001b[0m\u001b[0m\n\u001b[0;32m     75\u001b[0m \u001b[1;33m\u001b[0m\u001b[0m\n",
      "\u001b[1;32mc:\\Users\\lione\\anaconda3\\lib\\site-packages\\sklearn\\model_selection\\_validation.py\u001b[0m in \u001b[0;36mcross_validate\u001b[1;34m(estimator, X, y, groups, scoring, cv, n_jobs, verbose, fit_params, pre_dispatch, return_train_score, return_estimator, error_score)\u001b[0m\n\u001b[0;32m    240\u001b[0m     parallel = Parallel(n_jobs=n_jobs, verbose=verbose,\n\u001b[0;32m    241\u001b[0m                         pre_dispatch=pre_dispatch)\n\u001b[1;32m--> 242\u001b[1;33m     scores = parallel(\n\u001b[0m\u001b[0;32m    243\u001b[0m         delayed(_fit_and_score)(\n\u001b[0;32m    244\u001b[0m             \u001b[0mclone\u001b[0m\u001b[1;33m(\u001b[0m\u001b[0mestimator\u001b[0m\u001b[1;33m)\u001b[0m\u001b[1;33m,\u001b[0m \u001b[0mX\u001b[0m\u001b[1;33m,\u001b[0m \u001b[0my\u001b[0m\u001b[1;33m,\u001b[0m \u001b[0mscorers\u001b[0m\u001b[1;33m,\u001b[0m \u001b[0mtrain\u001b[0m\u001b[1;33m,\u001b[0m \u001b[0mtest\u001b[0m\u001b[1;33m,\u001b[0m \u001b[0mverbose\u001b[0m\u001b[1;33m,\u001b[0m \u001b[1;32mNone\u001b[0m\u001b[1;33m,\u001b[0m\u001b[1;33m\u001b[0m\u001b[1;33m\u001b[0m\u001b[0m\n",
      "\u001b[1;32mc:\\Users\\lione\\anaconda3\\lib\\site-packages\\joblib\\parallel.py\u001b[0m in \u001b[0;36m__call__\u001b[1;34m(self, iterable)\u001b[0m\n\u001b[0;32m   1027\u001b[0m             \u001b[1;31m# remaining jobs.\u001b[0m\u001b[1;33m\u001b[0m\u001b[1;33m\u001b[0m\u001b[1;33m\u001b[0m\u001b[0m\n\u001b[0;32m   1028\u001b[0m             \u001b[0mself\u001b[0m\u001b[1;33m.\u001b[0m\u001b[0m_iterating\u001b[0m \u001b[1;33m=\u001b[0m \u001b[1;32mFalse\u001b[0m\u001b[1;33m\u001b[0m\u001b[1;33m\u001b[0m\u001b[0m\n\u001b[1;32m-> 1029\u001b[1;33m             \u001b[1;32mif\u001b[0m \u001b[0mself\u001b[0m\u001b[1;33m.\u001b[0m\u001b[0mdispatch_one_batch\u001b[0m\u001b[1;33m(\u001b[0m\u001b[0miterator\u001b[0m\u001b[1;33m)\u001b[0m\u001b[1;33m:\u001b[0m\u001b[1;33m\u001b[0m\u001b[1;33m\u001b[0m\u001b[0m\n\u001b[0m\u001b[0;32m   1030\u001b[0m                 \u001b[0mself\u001b[0m\u001b[1;33m.\u001b[0m\u001b[0m_iterating\u001b[0m \u001b[1;33m=\u001b[0m \u001b[0mself\u001b[0m\u001b[1;33m.\u001b[0m\u001b[0m_original_iterator\u001b[0m \u001b[1;32mis\u001b[0m \u001b[1;32mnot\u001b[0m \u001b[1;32mNone\u001b[0m\u001b[1;33m\u001b[0m\u001b[1;33m\u001b[0m\u001b[0m\n\u001b[0;32m   1031\u001b[0m \u001b[1;33m\u001b[0m\u001b[0m\n",
      "\u001b[1;32mc:\\Users\\lione\\anaconda3\\lib\\site-packages\\joblib\\parallel.py\u001b[0m in \u001b[0;36mdispatch_one_batch\u001b[1;34m(self, iterator)\u001b[0m\n\u001b[0;32m    845\u001b[0m                 \u001b[1;32mreturn\u001b[0m \u001b[1;32mFalse\u001b[0m\u001b[1;33m\u001b[0m\u001b[1;33m\u001b[0m\u001b[0m\n\u001b[0;32m    846\u001b[0m             \u001b[1;32melse\u001b[0m\u001b[1;33m:\u001b[0m\u001b[1;33m\u001b[0m\u001b[1;33m\u001b[0m\u001b[0m\n\u001b[1;32m--> 847\u001b[1;33m                 \u001b[0mself\u001b[0m\u001b[1;33m.\u001b[0m\u001b[0m_dispatch\u001b[0m\u001b[1;33m(\u001b[0m\u001b[0mtasks\u001b[0m\u001b[1;33m)\u001b[0m\u001b[1;33m\u001b[0m\u001b[1;33m\u001b[0m\u001b[0m\n\u001b[0m\u001b[0;32m    848\u001b[0m                 \u001b[1;32mreturn\u001b[0m \u001b[1;32mTrue\u001b[0m\u001b[1;33m\u001b[0m\u001b[1;33m\u001b[0m\u001b[0m\n\u001b[0;32m    849\u001b[0m \u001b[1;33m\u001b[0m\u001b[0m\n",
      "\u001b[1;32mc:\\Users\\lione\\anaconda3\\lib\\site-packages\\joblib\\parallel.py\u001b[0m in \u001b[0;36m_dispatch\u001b[1;34m(self, batch)\u001b[0m\n\u001b[0;32m    763\u001b[0m         \u001b[1;32mwith\u001b[0m \u001b[0mself\u001b[0m\u001b[1;33m.\u001b[0m\u001b[0m_lock\u001b[0m\u001b[1;33m:\u001b[0m\u001b[1;33m\u001b[0m\u001b[1;33m\u001b[0m\u001b[0m\n\u001b[0;32m    764\u001b[0m             \u001b[0mjob_idx\u001b[0m \u001b[1;33m=\u001b[0m \u001b[0mlen\u001b[0m\u001b[1;33m(\u001b[0m\u001b[0mself\u001b[0m\u001b[1;33m.\u001b[0m\u001b[0m_jobs\u001b[0m\u001b[1;33m)\u001b[0m\u001b[1;33m\u001b[0m\u001b[1;33m\u001b[0m\u001b[0m\n\u001b[1;32m--> 765\u001b[1;33m             \u001b[0mjob\u001b[0m \u001b[1;33m=\u001b[0m \u001b[0mself\u001b[0m\u001b[1;33m.\u001b[0m\u001b[0m_backend\u001b[0m\u001b[1;33m.\u001b[0m\u001b[0mapply_async\u001b[0m\u001b[1;33m(\u001b[0m\u001b[0mbatch\u001b[0m\u001b[1;33m,\u001b[0m \u001b[0mcallback\u001b[0m\u001b[1;33m=\u001b[0m\u001b[0mcb\u001b[0m\u001b[1;33m)\u001b[0m\u001b[1;33m\u001b[0m\u001b[1;33m\u001b[0m\u001b[0m\n\u001b[0m\u001b[0;32m    766\u001b[0m             \u001b[1;31m# A job can complete so quickly than its callback is\u001b[0m\u001b[1;33m\u001b[0m\u001b[1;33m\u001b[0m\u001b[1;33m\u001b[0m\u001b[0m\n\u001b[0;32m    767\u001b[0m             \u001b[1;31m# called before we get here, causing self._jobs to\u001b[0m\u001b[1;33m\u001b[0m\u001b[1;33m\u001b[0m\u001b[1;33m\u001b[0m\u001b[0m\n",
      "\u001b[1;32mc:\\Users\\lione\\anaconda3\\lib\\site-packages\\joblib\\_parallel_backends.py\u001b[0m in \u001b[0;36mapply_async\u001b[1;34m(self, func, callback)\u001b[0m\n\u001b[0;32m    206\u001b[0m     \u001b[1;32mdef\u001b[0m \u001b[0mapply_async\u001b[0m\u001b[1;33m(\u001b[0m\u001b[0mself\u001b[0m\u001b[1;33m,\u001b[0m \u001b[0mfunc\u001b[0m\u001b[1;33m,\u001b[0m \u001b[0mcallback\u001b[0m\u001b[1;33m=\u001b[0m\u001b[1;32mNone\u001b[0m\u001b[1;33m)\u001b[0m\u001b[1;33m:\u001b[0m\u001b[1;33m\u001b[0m\u001b[1;33m\u001b[0m\u001b[0m\n\u001b[0;32m    207\u001b[0m         \u001b[1;34m\"\"\"Schedule a func to be run\"\"\"\u001b[0m\u001b[1;33m\u001b[0m\u001b[1;33m\u001b[0m\u001b[0m\n\u001b[1;32m--> 208\u001b[1;33m         \u001b[0mresult\u001b[0m \u001b[1;33m=\u001b[0m \u001b[0mImmediateResult\u001b[0m\u001b[1;33m(\u001b[0m\u001b[0mfunc\u001b[0m\u001b[1;33m)\u001b[0m\u001b[1;33m\u001b[0m\u001b[1;33m\u001b[0m\u001b[0m\n\u001b[0m\u001b[0;32m    209\u001b[0m         \u001b[1;32mif\u001b[0m \u001b[0mcallback\u001b[0m\u001b[1;33m:\u001b[0m\u001b[1;33m\u001b[0m\u001b[1;33m\u001b[0m\u001b[0m\n\u001b[0;32m    210\u001b[0m             \u001b[0mcallback\u001b[0m\u001b[1;33m(\u001b[0m\u001b[0mresult\u001b[0m\u001b[1;33m)\u001b[0m\u001b[1;33m\u001b[0m\u001b[1;33m\u001b[0m\u001b[0m\n",
      "\u001b[1;32mc:\\Users\\lione\\anaconda3\\lib\\site-packages\\joblib\\_parallel_backends.py\u001b[0m in \u001b[0;36m__init__\u001b[1;34m(self, batch)\u001b[0m\n\u001b[0;32m    570\u001b[0m         \u001b[1;31m# Don't delay the application, to avoid keeping the input\u001b[0m\u001b[1;33m\u001b[0m\u001b[1;33m\u001b[0m\u001b[1;33m\u001b[0m\u001b[0m\n\u001b[0;32m    571\u001b[0m         \u001b[1;31m# arguments in memory\u001b[0m\u001b[1;33m\u001b[0m\u001b[1;33m\u001b[0m\u001b[1;33m\u001b[0m\u001b[0m\n\u001b[1;32m--> 572\u001b[1;33m         \u001b[0mself\u001b[0m\u001b[1;33m.\u001b[0m\u001b[0mresults\u001b[0m \u001b[1;33m=\u001b[0m \u001b[0mbatch\u001b[0m\u001b[1;33m(\u001b[0m\u001b[1;33m)\u001b[0m\u001b[1;33m\u001b[0m\u001b[1;33m\u001b[0m\u001b[0m\n\u001b[0m\u001b[0;32m    573\u001b[0m \u001b[1;33m\u001b[0m\u001b[0m\n\u001b[0;32m    574\u001b[0m     \u001b[1;32mdef\u001b[0m \u001b[0mget\u001b[0m\u001b[1;33m(\u001b[0m\u001b[0mself\u001b[0m\u001b[1;33m)\u001b[0m\u001b[1;33m:\u001b[0m\u001b[1;33m\u001b[0m\u001b[1;33m\u001b[0m\u001b[0m\n",
      "\u001b[1;32mc:\\Users\\lione\\anaconda3\\lib\\site-packages\\joblib\\parallel.py\u001b[0m in \u001b[0;36m__call__\u001b[1;34m(self)\u001b[0m\n\u001b[0;32m    250\u001b[0m         \u001b[1;31m# change the default number of processes to -1\u001b[0m\u001b[1;33m\u001b[0m\u001b[1;33m\u001b[0m\u001b[1;33m\u001b[0m\u001b[0m\n\u001b[0;32m    251\u001b[0m         \u001b[1;32mwith\u001b[0m \u001b[0mparallel_backend\u001b[0m\u001b[1;33m(\u001b[0m\u001b[0mself\u001b[0m\u001b[1;33m.\u001b[0m\u001b[0m_backend\u001b[0m\u001b[1;33m,\u001b[0m \u001b[0mn_jobs\u001b[0m\u001b[1;33m=\u001b[0m\u001b[0mself\u001b[0m\u001b[1;33m.\u001b[0m\u001b[0m_n_jobs\u001b[0m\u001b[1;33m)\u001b[0m\u001b[1;33m:\u001b[0m\u001b[1;33m\u001b[0m\u001b[1;33m\u001b[0m\u001b[0m\n\u001b[1;32m--> 252\u001b[1;33m             return [func(*args, **kwargs)\n\u001b[0m\u001b[0;32m    253\u001b[0m                     for func, args, kwargs in self.items]\n\u001b[0;32m    254\u001b[0m \u001b[1;33m\u001b[0m\u001b[0m\n",
      "\u001b[1;32mc:\\Users\\lione\\anaconda3\\lib\\site-packages\\joblib\\parallel.py\u001b[0m in \u001b[0;36m<listcomp>\u001b[1;34m(.0)\u001b[0m\n\u001b[0;32m    250\u001b[0m         \u001b[1;31m# change the default number of processes to -1\u001b[0m\u001b[1;33m\u001b[0m\u001b[1;33m\u001b[0m\u001b[1;33m\u001b[0m\u001b[0m\n\u001b[0;32m    251\u001b[0m         \u001b[1;32mwith\u001b[0m \u001b[0mparallel_backend\u001b[0m\u001b[1;33m(\u001b[0m\u001b[0mself\u001b[0m\u001b[1;33m.\u001b[0m\u001b[0m_backend\u001b[0m\u001b[1;33m,\u001b[0m \u001b[0mn_jobs\u001b[0m\u001b[1;33m=\u001b[0m\u001b[0mself\u001b[0m\u001b[1;33m.\u001b[0m\u001b[0m_n_jobs\u001b[0m\u001b[1;33m)\u001b[0m\u001b[1;33m:\u001b[0m\u001b[1;33m\u001b[0m\u001b[1;33m\u001b[0m\u001b[0m\n\u001b[1;32m--> 252\u001b[1;33m             return [func(*args, **kwargs)\n\u001b[0m\u001b[0;32m    253\u001b[0m                     for func, args, kwargs in self.items]\n\u001b[0;32m    254\u001b[0m \u001b[1;33m\u001b[0m\u001b[0m\n",
      "\u001b[1;32mc:\\Users\\lione\\anaconda3\\lib\\site-packages\\sklearn\\model_selection\\_validation.py\u001b[0m in \u001b[0;36m_fit_and_score\u001b[1;34m(estimator, X, y, scorer, train, test, verbose, parameters, fit_params, return_train_score, return_parameters, return_n_test_samples, return_times, return_estimator, error_score)\u001b[0m\n\u001b[0;32m    558\u001b[0m     \u001b[1;32melse\u001b[0m\u001b[1;33m:\u001b[0m\u001b[1;33m\u001b[0m\u001b[1;33m\u001b[0m\u001b[0m\n\u001b[0;32m    559\u001b[0m         \u001b[0mfit_time\u001b[0m \u001b[1;33m=\u001b[0m \u001b[0mtime\u001b[0m\u001b[1;33m.\u001b[0m\u001b[0mtime\u001b[0m\u001b[1;33m(\u001b[0m\u001b[1;33m)\u001b[0m \u001b[1;33m-\u001b[0m \u001b[0mstart_time\u001b[0m\u001b[1;33m\u001b[0m\u001b[1;33m\u001b[0m\u001b[0m\n\u001b[1;32m--> 560\u001b[1;33m         \u001b[0mtest_scores\u001b[0m \u001b[1;33m=\u001b[0m \u001b[0m_score\u001b[0m\u001b[1;33m(\u001b[0m\u001b[0mestimator\u001b[0m\u001b[1;33m,\u001b[0m \u001b[0mX_test\u001b[0m\u001b[1;33m,\u001b[0m \u001b[0my_test\u001b[0m\u001b[1;33m,\u001b[0m \u001b[0mscorer\u001b[0m\u001b[1;33m)\u001b[0m\u001b[1;33m\u001b[0m\u001b[1;33m\u001b[0m\u001b[0m\n\u001b[0m\u001b[0;32m    561\u001b[0m         \u001b[0mscore_time\u001b[0m \u001b[1;33m=\u001b[0m \u001b[0mtime\u001b[0m\u001b[1;33m.\u001b[0m\u001b[0mtime\u001b[0m\u001b[1;33m(\u001b[0m\u001b[1;33m)\u001b[0m \u001b[1;33m-\u001b[0m \u001b[0mstart_time\u001b[0m \u001b[1;33m-\u001b[0m \u001b[0mfit_time\u001b[0m\u001b[1;33m\u001b[0m\u001b[1;33m\u001b[0m\u001b[0m\n\u001b[0;32m    562\u001b[0m         \u001b[1;32mif\u001b[0m \u001b[0mreturn_train_score\u001b[0m\u001b[1;33m:\u001b[0m\u001b[1;33m\u001b[0m\u001b[1;33m\u001b[0m\u001b[0m\n",
      "\u001b[1;32mc:\\Users\\lione\\anaconda3\\lib\\site-packages\\sklearn\\model_selection\\_validation.py\u001b[0m in \u001b[0;36m_score\u001b[1;34m(estimator, X_test, y_test, scorer)\u001b[0m\n\u001b[0;32m    605\u001b[0m         \u001b[0mscores\u001b[0m \u001b[1;33m=\u001b[0m \u001b[0mscorer\u001b[0m\u001b[1;33m(\u001b[0m\u001b[0mestimator\u001b[0m\u001b[1;33m,\u001b[0m \u001b[0mX_test\u001b[0m\u001b[1;33m)\u001b[0m\u001b[1;33m\u001b[0m\u001b[1;33m\u001b[0m\u001b[0m\n\u001b[0;32m    606\u001b[0m     \u001b[1;32melse\u001b[0m\u001b[1;33m:\u001b[0m\u001b[1;33m\u001b[0m\u001b[1;33m\u001b[0m\u001b[0m\n\u001b[1;32m--> 607\u001b[1;33m         \u001b[0mscores\u001b[0m \u001b[1;33m=\u001b[0m \u001b[0mscorer\u001b[0m\u001b[1;33m(\u001b[0m\u001b[0mestimator\u001b[0m\u001b[1;33m,\u001b[0m \u001b[0mX_test\u001b[0m\u001b[1;33m,\u001b[0m \u001b[0my_test\u001b[0m\u001b[1;33m)\u001b[0m\u001b[1;33m\u001b[0m\u001b[1;33m\u001b[0m\u001b[0m\n\u001b[0m\u001b[0;32m    608\u001b[0m \u001b[1;33m\u001b[0m\u001b[0m\n\u001b[0;32m    609\u001b[0m     error_msg = (\"scoring must return a number, got %s (%s) \"\n",
      "\u001b[1;32mc:\\Users\\lione\\anaconda3\\lib\\site-packages\\sklearn\\metrics\\_scorer.py\u001b[0m in \u001b[0;36m__call__\u001b[1;34m(self, estimator, *args, **kwargs)\u001b[0m\n\u001b[0;32m     85\u001b[0m         \u001b[1;32mfor\u001b[0m \u001b[0mname\u001b[0m\u001b[1;33m,\u001b[0m \u001b[0mscorer\u001b[0m \u001b[1;32min\u001b[0m \u001b[0mself\u001b[0m\u001b[1;33m.\u001b[0m\u001b[0m_scorers\u001b[0m\u001b[1;33m.\u001b[0m\u001b[0mitems\u001b[0m\u001b[1;33m(\u001b[0m\u001b[1;33m)\u001b[0m\u001b[1;33m:\u001b[0m\u001b[1;33m\u001b[0m\u001b[1;33m\u001b[0m\u001b[0m\n\u001b[0;32m     86\u001b[0m             \u001b[1;32mif\u001b[0m \u001b[0misinstance\u001b[0m\u001b[1;33m(\u001b[0m\u001b[0mscorer\u001b[0m\u001b[1;33m,\u001b[0m \u001b[0m_BaseScorer\u001b[0m\u001b[1;33m)\u001b[0m\u001b[1;33m:\u001b[0m\u001b[1;33m\u001b[0m\u001b[1;33m\u001b[0m\u001b[0m\n\u001b[1;32m---> 87\u001b[1;33m                 score = scorer._score(cached_call, estimator,\n\u001b[0m\u001b[0;32m     88\u001b[0m                                       *args, **kwargs)\n\u001b[0;32m     89\u001b[0m             \u001b[1;32melse\u001b[0m\u001b[1;33m:\u001b[0m\u001b[1;33m\u001b[0m\u001b[1;33m\u001b[0m\u001b[0m\n",
      "\u001b[1;32mc:\\Users\\lione\\anaconda3\\lib\\site-packages\\sklearn\\metrics\\_scorer.py\u001b[0m in \u001b[0;36m_score\u001b[1;34m(self, method_caller, estimator, X, y_true, sample_weight)\u001b[0m\n\u001b[0;32m    210\u001b[0m                                                  **self._kwargs)\n\u001b[0;32m    211\u001b[0m         \u001b[1;32melse\u001b[0m\u001b[1;33m:\u001b[0m\u001b[1;33m\u001b[0m\u001b[1;33m\u001b[0m\u001b[0m\n\u001b[1;32m--> 212\u001b[1;33m             return self._sign * self._score_func(y_true, y_pred,\n\u001b[0m\u001b[0;32m    213\u001b[0m                                                  **self._kwargs)\n\u001b[0;32m    214\u001b[0m \u001b[1;33m\u001b[0m\u001b[0m\n",
      "\u001b[1;32mc:\\Users\\lione\\anaconda3\\lib\\site-packages\\sklearn\\utils\\validation.py\u001b[0m in \u001b[0;36minner_f\u001b[1;34m(*args, **kwargs)\u001b[0m\n\u001b[0;32m     71\u001b[0m                           FutureWarning)\n\u001b[0;32m     72\u001b[0m         \u001b[0mkwargs\u001b[0m\u001b[1;33m.\u001b[0m\u001b[0mupdate\u001b[0m\u001b[1;33m(\u001b[0m\u001b[1;33m{\u001b[0m\u001b[0mk\u001b[0m\u001b[1;33m:\u001b[0m \u001b[0marg\u001b[0m \u001b[1;32mfor\u001b[0m \u001b[0mk\u001b[0m\u001b[1;33m,\u001b[0m \u001b[0marg\u001b[0m \u001b[1;32min\u001b[0m \u001b[0mzip\u001b[0m\u001b[1;33m(\u001b[0m\u001b[0msig\u001b[0m\u001b[1;33m.\u001b[0m\u001b[0mparameters\u001b[0m\u001b[1;33m,\u001b[0m \u001b[0margs\u001b[0m\u001b[1;33m)\u001b[0m\u001b[1;33m}\u001b[0m\u001b[1;33m)\u001b[0m\u001b[1;33m\u001b[0m\u001b[1;33m\u001b[0m\u001b[0m\n\u001b[1;32m---> 73\u001b[1;33m         \u001b[1;32mreturn\u001b[0m \u001b[0mf\u001b[0m\u001b[1;33m(\u001b[0m\u001b[1;33m**\u001b[0m\u001b[0mkwargs\u001b[0m\u001b[1;33m)\u001b[0m\u001b[1;33m\u001b[0m\u001b[1;33m\u001b[0m\u001b[0m\n\u001b[0m\u001b[0;32m     74\u001b[0m     \u001b[1;32mreturn\u001b[0m \u001b[0minner_f\u001b[0m\u001b[1;33m\u001b[0m\u001b[1;33m\u001b[0m\u001b[0m\n\u001b[0;32m     75\u001b[0m \u001b[1;33m\u001b[0m\u001b[0m\n",
      "\u001b[1;32mc:\\Users\\lione\\anaconda3\\lib\\site-packages\\sklearn\\metrics\\_classification.py\u001b[0m in \u001b[0;36maccuracy_score\u001b[1;34m(y_true, y_pred, normalize, sample_weight)\u001b[0m\n\u001b[0;32m    185\u001b[0m \u001b[1;33m\u001b[0m\u001b[0m\n\u001b[0;32m    186\u001b[0m     \u001b[1;31m# Compute accuracy for each possible representation\u001b[0m\u001b[1;33m\u001b[0m\u001b[1;33m\u001b[0m\u001b[1;33m\u001b[0m\u001b[0m\n\u001b[1;32m--> 187\u001b[1;33m     \u001b[0my_type\u001b[0m\u001b[1;33m,\u001b[0m \u001b[0my_true\u001b[0m\u001b[1;33m,\u001b[0m \u001b[0my_pred\u001b[0m \u001b[1;33m=\u001b[0m \u001b[0m_check_targets\u001b[0m\u001b[1;33m(\u001b[0m\u001b[0my_true\u001b[0m\u001b[1;33m,\u001b[0m \u001b[0my_pred\u001b[0m\u001b[1;33m)\u001b[0m\u001b[1;33m\u001b[0m\u001b[1;33m\u001b[0m\u001b[0m\n\u001b[0m\u001b[0;32m    188\u001b[0m     \u001b[0mcheck_consistent_length\u001b[0m\u001b[1;33m(\u001b[0m\u001b[0my_true\u001b[0m\u001b[1;33m,\u001b[0m \u001b[0my_pred\u001b[0m\u001b[1;33m,\u001b[0m \u001b[0msample_weight\u001b[0m\u001b[1;33m)\u001b[0m\u001b[1;33m\u001b[0m\u001b[1;33m\u001b[0m\u001b[0m\n\u001b[0;32m    189\u001b[0m     \u001b[1;32mif\u001b[0m \u001b[0my_type\u001b[0m\u001b[1;33m.\u001b[0m\u001b[0mstartswith\u001b[0m\u001b[1;33m(\u001b[0m\u001b[1;34m'multilabel'\u001b[0m\u001b[1;33m)\u001b[0m\u001b[1;33m:\u001b[0m\u001b[1;33m\u001b[0m\u001b[1;33m\u001b[0m\u001b[0m\n",
      "\u001b[1;32mc:\\Users\\lione\\anaconda3\\lib\\site-packages\\sklearn\\metrics\\_classification.py\u001b[0m in \u001b[0;36m_check_targets\u001b[1;34m(y_true, y_pred)\u001b[0m\n\u001b[0;32m     88\u001b[0m \u001b[1;33m\u001b[0m\u001b[0m\n\u001b[0;32m     89\u001b[0m     \u001b[1;32mif\u001b[0m \u001b[0mlen\u001b[0m\u001b[1;33m(\u001b[0m\u001b[0my_type\u001b[0m\u001b[1;33m)\u001b[0m \u001b[1;33m>\u001b[0m \u001b[1;36m1\u001b[0m\u001b[1;33m:\u001b[0m\u001b[1;33m\u001b[0m\u001b[1;33m\u001b[0m\u001b[0m\n\u001b[1;32m---> 90\u001b[1;33m         raise ValueError(\"Classification metrics can't handle a mix of {0} \"\n\u001b[0m\u001b[0;32m     91\u001b[0m                          \"and {1} targets\".format(type_true, type_pred))\n\u001b[0;32m     92\u001b[0m \u001b[1;33m\u001b[0m\u001b[0m\n",
      "\u001b[1;31mValueError\u001b[0m: Classification metrics can't handle a mix of multiclass and continuous targets"
     ]
    }
   ],
   "source": [
    "for depth in range(1,21):\n",
    "    # model\n",
    "    clf = DecisionTreeRegressor(criterion='friedman_mse', max_depth = depth)\n",
    "    # 10-Fold cross validation on whole dataset\n",
    "    cv_results = cross_validate(clf, x_multi, y_multi,\n",
    "                                cv = KFold(n_splits = 10, shuffle = True, random_state = 31),\n",
    "                                scoring = ['accuracy', 'recall'], return_train_score = True)\n",
    "    # Scores in lists\n",
    "    cv_acc_list.append(cv_results['test_accuracy'].mean())\n",
    "    cv_tpr_list.append(cv_results['test_recall'].mean())\n",
    "    cv_acc_in_list.append(cv_results['train_accuracy'].mean())\n",
    "    cv_tpr_in_list.append(cv_results['train_recall'].mean())"
   ]
  },
  {
   "cell_type": "markdown",
   "id": "04eea39a",
   "metadata": {},
   "source": [
    "# Recall and Precision Scores for each scenario and classifier"
   ]
  },
  {
   "cell_type": "code",
   "execution_count": null,
   "id": "33969cbd",
   "metadata": {},
   "outputs": [],
   "source": [
    "# True Positive Rate (=recall_score)\n",
    "from sklearn.metrics import recall_score"
   ]
  },
  {
   "cell_type": "code",
   "execution_count": null,
   "id": "7998e03a",
   "metadata": {},
   "outputs": [],
   "source": [
    "# Out-of-Sample TPR\n",
    "recall_score(y_test, y_pred)"
   ]
  },
  {
   "cell_type": "code",
   "execution_count": null,
   "id": "921aae24",
   "metadata": {},
   "outputs": [],
   "source": []
  },
  {
   "cell_type": "code",
   "execution_count": null,
   "id": "caf27453",
   "metadata": {},
   "outputs": [],
   "source": []
  },
  {
   "cell_type": "code",
   "execution_count": null,
   "id": "83c9dca2",
   "metadata": {},
   "outputs": [],
   "source": []
  },
  {
   "cell_type": "code",
   "execution_count": null,
   "id": "2248dded",
   "metadata": {},
   "outputs": [],
   "source": []
  },
  {
   "cell_type": "code",
   "execution_count": null,
   "id": "6c997410",
   "metadata": {},
   "outputs": [],
   "source": []
  }
 ],
 "metadata": {
  "kernelspec": {
   "display_name": "Python 3.10.0 64-bit",
   "language": "python",
   "name": "python3"
  },
  "language_info": {
   "codemirror_mode": {
    "name": "ipython",
    "version": 3
   },
   "file_extension": ".py",
   "mimetype": "text/x-python",
   "name": "python",
   "nbconvert_exporter": "python",
   "pygments_lexer": "ipython3",
   "version": "3.10.0"
  },
  "vscode": {
   "interpreter": {
    "hash": "41a53f9f1c4e6100adb615a97637846208a0e91ef79bf1ee121234ca4e90fc3d"
   }
  }
 },
 "nbformat": 4,
 "nbformat_minor": 5
}
