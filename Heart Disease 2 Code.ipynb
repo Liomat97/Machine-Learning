{
 "cells": [
  {
   "cell_type": "markdown",
   "metadata": {},
   "source": [
    "# Machine Learning\n",
    "© Bledar Fazlija, 2021\n",
    "\n",
    "- Linear regression\n",
    "- Logistic regression\n",
    "- Naive Bayes classifier\n",
    "- K-nearest neighbors (KNN)\n",
    "- Decision trees\n",
    "- **Ensemble learning**\n",
    "- Support Vector Machines (SVMs)\n",
    "- Unsupervised learning\n",
    "\n",
    "**This lecture in short**: In this lecture you learn how to combine several models and how that might lead to models with increased predictive performance. You will learn two tree-based and important methods *random forest* and *adaboost*.\n"
   ]
  },
  {
   "cell_type": "code",
   "execution_count": null,
   "metadata": {},
   "outputs": [],
   "source": [
    "from sklearn.tree import DecisionTreeClassifier\n",
    "from sklearn.model_selection import GridSearchCV\n",
    "from sklearn.model_selection import RepeatedStratifiedKFold\n",
    "from sklearn.metrics import accuracy_score\n",
    "from sklearn.metrics import make_scorer\n",
    "\n",
    "scoring = {\"AUC\": \"roc_auc\", \"Accuracy\": make_scorer(accuracy_score)}\n",
    "\n",
    "df_classifier = DecisionTreeClassifier(random_state=2)\n",
    "\n",
    "cv_method = RepeatedStratifiedKFold(n_splits=5, \n",
    "                                    n_repeats=3, \n",
    "                                    random_state=2)\n",
    "\n",
    "params_DT = {'criterion': ['entropy'],\n",
    "             'max_depth': [1, 2, 3, 4, 5, 6, 7, 8,10,15,20],\n",
    "             'min_samples_split': [2, 3]}\n",
    "\n",
    "dtb_cv = GridSearchCV(estimator=df_classifier, \n",
    "                     #param_grid=params_DT, \n",
    "                     param_grid={\"min_samples_split\": range(2, 403, 20)},\n",
    "                     cv=cv_method,\n",
    "                     verbose=1, #output Messages\n",
    "                     #refit=False,\n",
    "                     refit=\"AUC\",\n",
    "                     return_train_score=True,\n",
    "                     scoring=scoring) #'accuracy') #brauchen wir noch mehr Outputs?\n",
    "\n",
    "dtb_cv.fit(x_binary, y_binary)\n",
    "results = dtb_cv.cv_results_;"
   ]
  },
  {
   "cell_type": "code",
   "execution_count": null,
   "metadata": {},
   "outputs": [],
   "source": [
    "plt.figure(figsize=(13, 13))\n",
    "plt.title(\"GridSearchCV evaluating using multiple scorers simultaneously\", fontsize=16)\n",
    "\n",
    "plt.xlabel(\"min_samples_split\")\n",
    "plt.ylabel(\"Score\")\n",
    "\n",
    "ax = plt.gca()\n",
    "ax.set_xlim(0, 150)\n",
    "ax.set_ylim(0.5, 1)\n",
    "\n",
    "# Get the regular numpy array from the MaskedArray\n",
    "X_axis = np.array(results[\"param_min_samples_split\"].data, dtype=float)\n",
    "\n",
    "for scorer, color in zip(sorted(scoring), [\"g\", \"k\"]):\n",
    "    for sample, style in ((\"train\", \"--\"), (\"test\", \"-\")):\n",
    "        sample_score_mean = results[\"mean_%s_%s\" % (sample, scorer)]\n",
    "        sample_score_std = results[\"std_%s_%s\" % (sample, scorer)]\n",
    "        ax.fill_between(\n",
    "            X_axis,\n",
    "            sample_score_mean - sample_score_std,\n",
    "            sample_score_mean + sample_score_std,\n",
    "            alpha=0.1 if sample == \"test\" else 0,\n",
    "            color=color,\n",
    "        )\n",
    "        ax.plot(\n",
    "            X_axis,\n",
    "            sample_score_mean,\n",
    "            style,\n",
    "            color=color,\n",
    "            alpha=1 if sample == \"test\" else 0.7,\n",
    "            label=\"%s (%s)\" % (scorer, sample),\n",
    "        )\n",
    "\n",
    "    best_index = np.nonzero(results[\"rank_test_%s\" % scorer] == 1)[0][0]\n",
    "    best_score = results[\"mean_test_%s\" % scorer][best_index]\n",
    "\n",
    "    # Plot a dotted vertical line at the best score for that scorer marked by x\n",
    "    ax.plot(\n",
    "        [\n",
    "            X_axis[best_index],\n",
    "        ]\n",
    "        * 2,\n",
    "        [0, best_score],\n",
    "        linestyle=\"-.\",\n",
    "        color=color,\n",
    "        marker=\"x\",\n",
    "        markeredgewidth=3,\n",
    "        ms=8,\n",
    "    )\n",
    "\n",
    "    # Annotate the best score for that scorer\n",
    "    ax.annotate(\"%0.2f\" % best_score, (X_axis[best_index], best_score + 0.005))\n",
    "\n",
    "plt.legend(loc=\"best\")\n",
    "plt.grid(False)\n",
    "plt.show()"
   ]
  },
  {
   "cell_type": "code",
   "execution_count": null,
   "metadata": {},
   "outputs": [],
   "source": []
  },
  {
   "cell_type": "code",
   "execution_count": null,
   "metadata": {},
   "outputs": [],
   "source": []
  },
  {
   "cell_type": "markdown",
   "metadata": {},
   "source": [
    "# Ensemble Learning\n",
    "It is well known in the field of machine learning (also shown by the [no free lunch theorem](https://en.wikipedia.org/wiki/No_free_lunch_theorem)) that there is no single model that works best on all problems/datasets. Different models usually show different strengths and weaknesses. Ensemble learning is the attempt to build one model by combining several models. This often helps to tackle some of the problems that each single model has (like being a poor predictor, having high bias, high variance, etc.). \n",
    "\n",
    "## Lecture overview\n",
    "- Bootstrap\n",
    "- Bagging\n",
    "- Random Forest\n",
    "- AdaBoost\n",
    "\n",
    "\n",
    "### Basic ideas\n",
    "\n",
    "Instead of using only one model, how about using several models at the same time? Different models have different strengths and weaknesses. Can we take advantage of that? The following figure shows the overall idea of ensemble learning. \n",
    "\n",
    "\n",
    "<table><tr><td><img src='Ensemble.jpg' style=\"width: 550px;\"></td></tr><table>\n",
    "    \n",
    "Out of single dataset we generate several datasets (often of approximately the same size; how is that possible? **Any ideas?**) und train a model for each. At the end we combine them to get a single prediction (do you have an idea of how you could do that? **Any ideas?**). \n",
    "\n",
    "Questions we want to answer are:\n",
    "\n",
    "- How do we estimate performance of machine learning models?\n",
    "- How do we combine several models (their results, respectively) to get a better result for a given problem?\n",
    "\n",
    "- Can several weak predictors (models) be combined to give one strong predictor?\n",
    "\n",
    "- Can we use several models to reduce high variance?\n",
    "\n",
    "### Literature\n",
    "\n",
    "- [1] Pattern Recgonition and Machine Learning, Bishop. \n",
    "- [2] The Elements of Statistical Learning 2nd Edition,  T. Hastie, R. Tibshirani, J. Friedman\n",
    "\n",
    "\n",
    "### Applications\n",
    "The methods described here are widely applied. Especially the two methods *random forest* and *adaboost* have become workhorses in industry and are widely used in research as well.\n",
    "\n",
    "\n",
    "\n"
   ]
  },
  {
   "cell_type": "markdown",
   "metadata": {},
   "source": [
    "## Bootstrap\n",
    "\n",
    "One way to test the accuracy of a statistical model (that we will also use for our machine learning models as well) is to generate out of an existing dataset several datasets and use them to train models and compare their results. We already encountered the so-called *$K$-fold cross-validation*, for which we splited the dataset in $K$ subsets, for which each plays the role of a validation set at some point in the process, while the others are training sets. \n",
    "\n",
    "One special property of cross-validation was that the validation set was *disjoint* from the train set at all instances. For the *bootstrap* method, we *get rid of this property*!\n",
    "\n",
    "Consider a dataset $Z = \\{z_1,...,z_N\\}$. From this, generate a new data set $Z_b$ by drawing $N$ points at random from $Z$, *with replacement*. This leads to a set that might have repetitions, whereas some of the points from $Z$ are not in $Z_b$. This process can be repeated to generate $n$ different datasets of the same size.\n",
    "\n",
    "### Illustration\n",
    "\n",
    "The following figure illustrates the generation of $n$ bootstraps. \n",
    "\n",
    "<table><tr><td><img src='bootstrap.jpg' style=\"width: 750px;\"></td></tr><table>\n",
    "\n",
    "\n",
    "We can use these sets and test the variability of the performance in models on these datesets. \n",
    "    \n",
    "As *test sets* we use the datapoints that were in the original dataset $Z$ but not in the respective $Z_i$. \n",
    "    \n",
    "The performance of the model is *averaged* over all iterations (i.e. training on $Z_i$ and testing \"Test set $i$\")\n"
   ]
  },
  {
   "cell_type": "markdown",
   "metadata": {},
   "source": [
    "**Example**: Consider the list $Z=[1,3,4,5,6]$. Two examples of bootstraps are $Z_1=[3,1,3,4,1]$ and $Z_2=[1,3,3,4,4]$."
   ]
  },
  {
   "cell_type": "markdown",
   "metadata": {},
   "source": [
    "**Exercise**: Consider the labeled dataset $X = \\{(1,0), (2,1), (5,0), (6,0), (8,1), (9,1), (12,1), (18,0), (20,1)\\}$. Generate a boostraps from $X$. \n",
    "\n",
    "**Solution**: One example of a bootstrap is $X_1 = [(1,0), (2,1), (5,0), (6,0), (2,1), (9,1), (2,1), (18,0), (5,0)].$"
   ]
  },
  {
   "cell_type": "markdown",
   "metadata": {},
   "source": [
    "**Exercise**: Write a small program that generates, for given numbers $n$ and $k$, $k$ bootstraps out of the set $Z=\\{1,2,..,n\\}$. \n",
    "\n",
    "*Hint*: Write a function with arguments $n$ and $k$, returning the $k$ bootstraps. You may also set $k$ to a small number $<10$, if a general $k$ is too complicated.\n"
   ]
  },
  {
   "cell_type": "markdown",
   "metadata": {},
   "source": [
    "## Bagging \n",
    "\n",
    "Bagging is short for bootstrap aggregating. So, the concept of bootstrap is used crucially. It is an ensemble meta-algorithm to improve the stability and accuracy of machine learning algorithms used for classification and regression. It reduces variance and helps to avoid overfitting. In the context of decision trees bagging is particularly efficient, however, the method can also be used for other models. \n",
    "\n",
    "\n",
    "**In short**: Bagging is...\n",
    "\n",
    "... *used to combine prediction of different classification and regression models*.\n",
    "\n",
    "... *used to reduce the variance of an estimated prediction function*.\n",
    "\n",
    "... *efficient for high-variance, low-bias procedures (e.g. decision trees)*.\n",
    "\n",
    "... *helps to avoid to overfitting*. \n",
    "\n",
    "<br>\n",
    "\n",
    "The following figure illustrates the way bagging works. \n",
    "\n",
    "\n",
    "<table><tr><td><img src='bagging_2.jpg' style=\"width: 750px;\"></td></tr><table>\n",
    "\n",
    "\n",
    "<br>\n",
    "\n",
    "### Formalism\n",
    "\n",
    "For a given set $Z$, consider $B$ bootstraps $Z_1, ...., Z_B$ (generated as described above). Use each set $Z_i$ to train a model $y_i$, for $i=1, ..., B$.\n",
    "\n",
    "The *committee* prediction in the *regression* case (i.e. prediction from all the trained models) is given by:\n",
    "\n",
    "<h4>\n",
    "$$y_{com}(x) = \\frac{1}{B}\\sum_{m=1}^B y_m(x).$$\n",
    "</h4>\n",
    "\n",
    "This way of combining models is called *bootstrap aggregating*, also called *bagging*.  \n",
    "    \n",
    "**Note** that we have weighted all $y_m$'s equally above. However, this is not necessary and one can give different weights to different $y_m$'s.\n",
    "\n",
    "<h4>\n",
    "$$y_{com}(x) = \\frac{1}{B}\\sum_{m=1}^B w_my_m(x).$$\n",
    "</h4> \n",
    "\n",
    "This weighting could be seen as higher weights being representing *better* or *more important* models, whereas lower weight means that that model plays less of a role, which we would call *weaker* model. \n",
    "\n",
    "Here fit the same regression tree many times to bootstraps generated out of the training data. Then, similarly to above, take the average of the results.\n",
    "\n",
    "\n",
    "\n"
   ]
  },
  {
   "cell_type": "markdown",
   "metadata": {},
   "source": [
    "### Exercise (!). \n",
    "\n",
    "\n",
    "Given an example of bagging using *Decision Trees* or *KNN* for classification and regression. For this, use one of the datasets used so far. Compare the results with the performance of the *base model*.  \n",
    "\n",
    "*Hint*: Use the two packages:\n",
    "- https://scikit-learn.org/stable/modules/generated/sklearn.ensemble.BaggingRegressor.html \n",
    "- https://scikit-learn.org/stable/modules/generated/sklearn.ensemble.BaggingClassifier.html\n",
    "\n",
    "\n"
   ]
  },
  {
   "cell_type": "markdown",
   "metadata": {},
   "source": [
    "\n"
   ]
  },
  {
   "cell_type": "markdown",
   "metadata": {},
   "source": [
    "**Note**: For some kind of models (e.g. decision trees) bagging variants are widely used and there are implementations. "
   ]
  },
  {
   "cell_type": "markdown",
   "metadata": {},
   "source": [
    "## From bagging to *random forest*\n",
    "\n",
    "Random forest is essentially bagging with *one crucial difference*: At each split in the learning process, only a random **subset** of the whole set of features is selected. This generates a set of de-correlated trees. It is one of the most widely used class of machine learning models. It is among the workhorses in both industry and research.\n",
    "\n"
   ]
  },
  {
   "cell_type": "markdown",
   "metadata": {},
   "source": [
    "### Random forest algorithm\n",
    "\n",
    "   - Can be used for classification and regression\n",
    "   - Handles well for different levels of scales of data\n",
    "       - metric and categorial data?\n",
    "\n",
    "We will explain the random forest algorithm here. Assume we consider a training set $X$ consisting of $N$ elements. \n",
    "\n",
    "<hr>\n",
    "\n",
    "**Algorithm (see [2] for details)**\n",
    "\n",
    "1. For b = 1 to B do the following:\n",
    "\n",
    "    (a) Generate a bootstrap $X_b$ of size $N$ from the training data.\n",
    "    \n",
    "    (b) Create a tree $T_b$ to $X_b$, by recursively repeating for each terminal node of the tree, until the minimum node size $n_{min}$ is reached.\n",
    "        i. Select m variables (features) at random from the p variables (features). \n",
    "        ii. Pick the best variable/split-point among the m.\n",
    "        iii. Split the node into two daughter nodes.\n",
    "        \n",
    " \n",
    "2. Output the ensemble of trees $\\{T_b\\}_{b=1}^B$.\n",
    "\n",
    "\n",
    "\n",
    "Next, we explain how to make a prediction at a **new point** $x$ for regression and classification tasks.  \n",
    "\n",
    "For a _regression_ task we predict by: \n",
    "\n",
    "<h4>\n",
    " \n",
    "$$F_{random forest}(x)=\\frac{1}{B} \\sum_{b=1}^B T_b(x).$$\n",
    "\n",
    "</h4>\n",
    "\n",
    "\n",
    "For _classification_ we proceed as follows. Let $C_b(x)$ be the class prediction of the $b$th random-forest tree.\n",
    "The final prediction is then given \n",
    "\n",
    "<h4>\n",
    "    \n",
    "$$C_{random forest}(x) = \\text{majority vote among } \\{C_1(x),C_2(x),...,C_B(x)\\}$$\n",
    "\n",
    "</h4>\n",
    "\n",
    "Put differently, $x$ is assigned to the class which has the most votes counted over all classifications over the different trees.  \n",
    "\n",
    "<hr>\n",
    "\n",
    "**Todo**:\n",
    "- Add figure for random forest."
   ]
  },
  {
   "cell_type": "markdown",
   "metadata": {},
   "source": [
    "### Measuring Performance\n",
    "\n",
    "For every bootstrap there will be datapoints that were in the original training set but not in the bootstrap. In makes sense to consider the performance on such points, which are called **out-of-bag samples**.\n",
    "\n",
    "\n"
   ]
  },
  {
   "cell_type": "markdown",
   "metadata": {},
   "source": [
    "### Implementation of random forest \n",
    "\n",
    "First let us generate a synthetic dataset that we will use as a first example, to test the different models. "
   ]
  },
  {
   "cell_type": "code",
   "execution_count": 18,
   "metadata": {},
   "outputs": [],
   "source": [
    "import numpy as np\n",
    "import matplotlib.pyplot as plt\n",
    "from sklearn.model_selection import train_test_split"
   ]
  },
  {
   "cell_type": "markdown",
   "metadata": {},
   "source": [
    "### Synthetic data example\n",
    "\n",
    "The following is a function that uses the `random.randn()` function of numpy to generate a set of data. "
   ]
  },
  {
   "cell_type": "code",
   "execution_count": 28,
   "metadata": {},
   "outputs": [],
   "source": [
    "def random_data(n):\n",
    "    X = np.random.normal(size=(n,2))+np.random.randn(1)\n",
    "    Y = np.random.choice([-1,1], size=n)\n",
    "    for i in range(len(Y)):\n",
    "        X[i] += Y[i]*np.array([-1,0.9])\n",
    "    return X,Y"
   ]
  },
  {
   "cell_type": "markdown",
   "metadata": {},
   "source": [
    "### Split data\n",
    "\n",
    "Use the above function to generate a dataset of $500$ datapoints and split data into a training set and a test set."
   ]
  },
  {
   "cell_type": "code",
   "execution_count": 29,
   "metadata": {},
   "outputs": [],
   "source": [
    "X,Y = random_data(500)\n",
    "\n",
    "X_train, X_test, Y_train, Y_test = train_test_split(X,Y, stratify=Y, random_state=42)"
   ]
  },
  {
   "cell_type": "markdown",
   "metadata": {},
   "source": [
    "Let us consider the distribution of the two classes that we want to predict. "
   ]
  },
  {
   "cell_type": "code",
   "execution_count": 30,
   "metadata": {},
   "outputs": [
    {
     "data": {
      "text/plain": [
       "<matplotlib.axes._subplots.AxesSubplot at 0x7f84d4a5d4d0>"
      ]
     },
     "execution_count": 30,
     "metadata": {},
     "output_type": "execute_result"
    },
    {
     "data": {
      "image/png": "[encoded data removed]",
      "text/plain": [
       "<Figure size 432x288 with 1 Axes>"
      ]
     },
     "metadata": {
      "needs_background": "light"
     },
     "output_type": "display_data"
    }
   ],
   "source": [
    "import seaborn as sns\n",
    "\n",
    "sns.countplot(Y)    "
   ]
  },
  {
   "cell_type": "markdown",
   "metadata": {},
   "source": [
    "**Exercise**: Write a code that counts the number of the different classes. "
   ]
  },
  {
   "cell_type": "markdown",
   "metadata": {},
   "source": [
    "Let us plot the data in a scatterplot.\n",
    "\n"
   ]
  },
  {
   "cell_type": "code",
   "execution_count": 31,
   "metadata": {},
   "outputs": [
    {
     "data": {
      "text/plain": [
       "<matplotlib.collections.PathCollection at 0x7f84d4bc6ed0>"
      ]
     },
     "execution_count": 31,
     "metadata": {},
     "output_type": "execute_result"
    },
    {
     "data": {
      "image/png": "[encoded data removed]",
      "text/plain": [
       "<Figure size 360x360 with 1 Axes>"
      ]
     },
     "metadata": {
      "needs_background": "light"
     },
     "output_type": "display_data"
    }
   ],
   "source": [
    "plt.figure(figsize=(5,5))\n",
    "plt.scatter(X_train[:,0], X_train[:,1],c=Y_train, cmap='Paired_r', edgecolors='k')"
   ]
  },
  {
   "cell_type": "markdown",
   "metadata": {},
   "source": [
    "### Import the random forest classifier"
   ]
  },
  {
   "cell_type": "code",
   "execution_count": 23,
   "metadata": {},
   "outputs": [],
   "source": [
    "from sklearn.ensemble import RandomForestClassifier"
   ]
  },
  {
   "cell_type": "markdown",
   "metadata": {},
   "source": [
    "### Define and train a random forest classifier\n",
    "\n",
    "Note the setting concerning the hyperparameter `max_depth`. We will discuss about its effect in more detail below. "
   ]
  },
  {
   "cell_type": "code",
   "execution_count": 36,
   "metadata": {},
   "outputs": [],
   "source": [
    "rf = RandomForestClassifier(max_depth=15, random_state=0)"
   ]
  },
  {
   "cell_type": "code",
   "execution_count": 37,
   "metadata": {},
   "outputs": [
    {
     "data": {
      "text/plain": [
       "RandomForestClassifier(bootstrap=True, ccp_alpha=0.0, class_weight=None,\n",
       "                       criterion='gini', max_depth=15, max_features='auto',\n",
       "                       max_leaf_nodes=None, max_samples=None,\n",
       "                       min_impurity_decrease=0.0, min_impurity_split=None,\n",
       "                       min_samples_leaf=1, min_samples_split=2,\n",
       "                       min_weight_fraction_leaf=0.0, n_estimators=100,\n",
       "                       n_jobs=None, oob_score=False, random_state=0, verbose=0,\n",
       "                       warm_start=False)"
      ]
     },
     "execution_count": 37,
     "metadata": {},
     "output_type": "execute_result"
    }
   ],
   "source": [
    "#Fit random forest classification model to training data\n",
    "rf.fit(X_train, Y_train)"
   ]
  },
  {
   "cell_type": "markdown",
   "metadata": {},
   "source": [
    "Compute the predictions of the trained model `rf` on the test set $X_{test}$."
   ]
  },
  {
   "cell_type": "code",
   "execution_count": 38,
   "metadata": {},
   "outputs": [],
   "source": [
    "y_pred = rf.predict(X_test)"
   ]
  },
  {
   "cell_type": "markdown",
   "metadata": {},
   "source": [
    "**Exercise**\n",
    "\n",
    "Plot the predicted and the true labels. Write a small program that compares them and says whether the results are good or not (for this define a threshold of what good or bad is for you; you may also choose more categories like bad, middle, good results).\n",
    "\n",
    "*Hint*: You may find code in prior notebooks, for the first part of the exercise. "
   ]
  },
  {
   "cell_type": "markdown",
   "metadata": {},
   "source": [
    "### Import methods for confusion matrix and metrics"
   ]
  },
  {
   "cell_type": "code",
   "execution_count": 40,
   "metadata": {},
   "outputs": [
    {
     "name": "stdout",
     "output_type": "stream",
     "text": [
      "\n",
      " \n",
      " Classification report \n",
      "\n",
      "               precision    recall  f1-score   support\n",
      "\n",
      "          -1       0.95      0.90      0.92        60\n",
      "           1       0.91      0.95      0.93        65\n",
      "\n",
      "    accuracy                           0.93       125\n",
      "   macro avg       0.93      0.93      0.93       125\n",
      "weighted avg       0.93      0.93      0.93       125\n",
      "\n"
     ]
    }
   ],
   "source": [
    "from sklearn.metrics import confusion_matrix\n",
    "from sklearn import metrics\n",
    "\n",
    "print(\"\\n \\n Classification report \\n\\n\", metrics.classification_report(Y_test, y_pred))"
   ]
  },
  {
   "cell_type": "code",
   "execution_count": 15,
   "metadata": {},
   "outputs": [
    {
     "name": "stdout",
     "output_type": "stream",
     "text": [
      "\n",
      " \n",
      " The confusion matrix is given by: \n",
      " \n",
      " [[53  6]\n",
      " [ 7 59]]\n"
     ]
    }
   ],
   "source": [
    "cm = confusion_matrix(Y_test, y_pred)\n",
    "print(\"\\n \\n The confusion matrix is given by: \\n \\n\", cm)"
   ]
  },
  {
   "cell_type": "markdown",
   "metadata": {},
   "source": [
    "### Random forest feature importance  \n",
    "\n",
    "One important aspect of random forest is its ability to list the order of predictive power of the given features (=variables). For example, if one likes to predict the income of a person and is given the features *age, years spent in school, income of parents, number of siblings*; feature importance can determine which of those are most useful to predict income (for a random forest model) and order them accordingly. \n",
    "\n",
    "\n",
    "**Remark**: Random forest feature importance can also solely be used to find out which features are to be used in a model, even when the underlying model is not related to trees or random forest. This falls into the area of [**feature selection**](https://en.wikipedia.org/wiki/Feature_selection), which is an art in itself and usually a crucial aspect in many practical applications. In the above example you might find out, for instance, that it is most useful to use just the features *age, years spent in school and income of parents* and neglect the others as they are not beneficial. "
   ]
  },
  {
   "cell_type": "markdown",
   "metadata": {},
   "source": [
    "####  Example of feature importance\n",
    "\n",
    "Let us compute the feature importance for the two features ($x$- and $y$-coordinates) of the above synthetically generated dataset.  "
   ]
  },
  {
   "cell_type": "code",
   "execution_count": 41,
   "metadata": {},
   "outputs": [
    {
     "name": "stdout",
     "output_type": "stream",
     "text": [
      "[0.59697223 0.40302777]\n"
     ]
    }
   ],
   "source": [
    "print(rf.feature_importances_)"
   ]
  },
  {
   "cell_type": "markdown",
   "metadata": {},
   "source": [
    "**Exercise**\n",
    "\n",
    "- Conduct hyperparameter tuning for the parameters 'max_depth' and 'random_state' by check for a list of integers of your choice for each of the two parameters. \n",
    "\n",
    "- Plot the scores for each of the parameters\n",
    "\n",
    "*Hint*: Consider the example in the notebook on decision trees. \n"
   ]
  },
  {
   "cell_type": "markdown",
   "metadata": {},
   "source": [
    "### Further example with random forest\n",
    "\n",
    "We will consider the digits dataset that contains handwritten digits. The relevant task is classifying the handwritten task and thus predicting numbers $0, ..., 9$."
   ]
  },
  {
   "cell_type": "code",
   "execution_count": 42,
   "metadata": {},
   "outputs": [],
   "source": [
    "import pandas as pd\n",
    "\n",
    "#Load digits dataset\n",
    "from sklearn.datasets import load_digits\n",
    "\n",
    "digits = load_digits()"
   ]
  },
  {
   "cell_type": "code",
   "execution_count": 43,
   "metadata": {},
   "outputs": [
    {
     "data": {
      "text/plain": [
       "(1797, 64)"
      ]
     },
     "execution_count": 43,
     "metadata": {},
     "output_type": "execute_result"
    }
   ],
   "source": [
    "digits.data.shape"
   ]
  },
  {
   "cell_type": "markdown",
   "metadata": {},
   "source": [
    "Let us look at some examples of handwritten digits among the numbers $0,...,9$."
   ]
  },
  {
   "cell_type": "code",
   "execution_count": 44,
   "metadata": {
    "scrolled": false
   },
   "outputs": [
    {
     "data": {
      "text/plain": [
       "<Figure size 432x288 with 0 Axes>"
      ]
     },
     "metadata": {},
     "output_type": "display_data"
    },
    {
     "data": {
      "image/png": "[encoded data removed]",
      "text/plain": [
       "<Figure size 288x288 with 1 Axes>"
      ]
     },
     "metadata": {
      "needs_background": "light"
     },
     "output_type": "display_data"
    },
    {
     "data": {
      "text/plain": [
       "<Figure size 432x288 with 0 Axes>"
      ]
     },
     "metadata": {},
     "output_type": "display_data"
    },
    {
     "data": {
      "image/png": "[encoded data removed]",
      "text/plain": [
       "<Figure size 288x288 with 1 Axes>"
      ]
     },
     "metadata": {
      "needs_background": "light"
     },
     "output_type": "display_data"
    },
    {
     "data": {
      "text/plain": [
       "<Figure size 432x288 with 0 Axes>"
      ]
     },
     "metadata": {},
     "output_type": "display_data"
    },
    {
     "data": {
      "image/png": "[encoded data removed]",
      "text/plain": [
       "<Figure size 288x288 with 1 Axes>"
      ]
     },
     "metadata": {
      "needs_background": "light"
     },
     "output_type": "display_data"
    }
   ],
   "source": [
    "import matplotlib.pyplot as plt \n",
    "\n",
    "for i in range(4,7):\n",
    "    plt.gray() \n",
    "    plt.matshow(digits.images[i]) \n",
    "    plt.show() "
   ]
  },
  {
   "cell_type": "markdown",
   "metadata": {},
   "source": [
    "**Note** that each of these figures has $8\\cdot 8=64$ squares. \n",
    "\n",
    "So, in the dataframe below, each row represents one handwritten number. "
   ]
  },
  {
   "cell_type": "code",
   "execution_count": 45,
   "metadata": {},
   "outputs": [],
   "source": [
    "# Transform the numpy array into a dataframe\n",
    "df = pd.DataFrame(digits.data)\n",
    "\n",
    "#labels of each of the pictures\n",
    "df_targets = pd.DataFrame(digits.target)"
   ]
  },
  {
   "cell_type": "code",
   "execution_count": 46,
   "metadata": {},
   "outputs": [
    {
     "data": {
      "text/html": [
       "<div>\n",
       "<style scoped>\n",
       "    .dataframe tbody tr th:only-of-type {\n",
       "        vertical-align: middle;\n",
       "    }\n",
       "\n",
       "    .dataframe tbody tr th {\n",
       "        vertical-align: top;\n",
       "    }\n",
       "\n",
       "    .dataframe thead th {\n",
       "        text-align: right;\n",
       "    }\n",
       "</style>\n",
       "<table border=\"1\" class=\"dataframe\">\n",
       "  <thead>\n",
       "    <tr style=\"text-align: right;\">\n",
       "      <th></th>\n",
       "      <th>0</th>\n",
       "      <th>1</th>\n",
       "      <th>2</th>\n",
       "      <th>3</th>\n",
       "      <th>4</th>\n",
       "      <th>5</th>\n",
       "      <th>6</th>\n",
       "      <th>7</th>\n",
       "      <th>8</th>\n",
       "      <th>9</th>\n",
       "      <th>...</th>\n",
       "      <th>54</th>\n",
       "      <th>55</th>\n",
       "      <th>56</th>\n",
       "      <th>57</th>\n",
       "      <th>58</th>\n",
       "      <th>59</th>\n",
       "      <th>60</th>\n",
       "      <th>61</th>\n",
       "      <th>62</th>\n",
       "      <th>63</th>\n",
       "    </tr>\n",
       "  </thead>\n",
       "  <tbody>\n",
       "    <tr>\n",
       "      <th>0</th>\n",
       "      <td>0.0</td>\n",
       "      <td>0.0</td>\n",
       "      <td>5.0</td>\n",
       "      <td>13.0</td>\n",
       "      <td>9.0</td>\n",
       "      <td>1.0</td>\n",
       "      <td>0.0</td>\n",
       "      <td>0.0</td>\n",
       "      <td>0.0</td>\n",
       "      <td>0.0</td>\n",
       "      <td>...</td>\n",
       "      <td>0.0</td>\n",
       "      <td>0.0</td>\n",
       "      <td>0.0</td>\n",
       "      <td>0.0</td>\n",
       "      <td>6.0</td>\n",
       "      <td>13.0</td>\n",
       "      <td>10.0</td>\n",
       "      <td>0.0</td>\n",
       "      <td>0.0</td>\n",
       "      <td>0.0</td>\n",
       "    </tr>\n",
       "    <tr>\n",
       "      <th>1</th>\n",
       "      <td>0.0</td>\n",
       "      <td>0.0</td>\n",
       "      <td>0.0</td>\n",
       "      <td>12.0</td>\n",
       "      <td>13.0</td>\n",
       "      <td>5.0</td>\n",
       "      <td>0.0</td>\n",
       "      <td>0.0</td>\n",
       "      <td>0.0</td>\n",
       "      <td>0.0</td>\n",
       "      <td>...</td>\n",
       "      <td>0.0</td>\n",
       "      <td>0.0</td>\n",
       "      <td>0.0</td>\n",
       "      <td>0.0</td>\n",
       "      <td>0.0</td>\n",
       "      <td>11.0</td>\n",
       "      <td>16.0</td>\n",
       "      <td>10.0</td>\n",
       "      <td>0.0</td>\n",
       "      <td>0.0</td>\n",
       "    </tr>\n",
       "    <tr>\n",
       "      <th>2</th>\n",
       "      <td>0.0</td>\n",
       "      <td>0.0</td>\n",
       "      <td>0.0</td>\n",
       "      <td>4.0</td>\n",
       "      <td>15.0</td>\n",
       "      <td>12.0</td>\n",
       "      <td>0.0</td>\n",
       "      <td>0.0</td>\n",
       "      <td>0.0</td>\n",
       "      <td>0.0</td>\n",
       "      <td>...</td>\n",
       "      <td>5.0</td>\n",
       "      <td>0.0</td>\n",
       "      <td>0.0</td>\n",
       "      <td>0.0</td>\n",
       "      <td>0.0</td>\n",
       "      <td>3.0</td>\n",
       "      <td>11.0</td>\n",
       "      <td>16.0</td>\n",
       "      <td>9.0</td>\n",
       "      <td>0.0</td>\n",
       "    </tr>\n",
       "    <tr>\n",
       "      <th>3</th>\n",
       "      <td>0.0</td>\n",
       "      <td>0.0</td>\n",
       "      <td>7.0</td>\n",
       "      <td>15.0</td>\n",
       "      <td>13.0</td>\n",
       "      <td>1.0</td>\n",
       "      <td>0.0</td>\n",
       "      <td>0.0</td>\n",
       "      <td>0.0</td>\n",
       "      <td>8.0</td>\n",
       "      <td>...</td>\n",
       "      <td>9.0</td>\n",
       "      <td>0.0</td>\n",
       "      <td>0.0</td>\n",
       "      <td>0.0</td>\n",
       "      <td>7.0</td>\n",
       "      <td>13.0</td>\n",
       "      <td>13.0</td>\n",
       "      <td>9.0</td>\n",
       "      <td>0.0</td>\n",
       "      <td>0.0</td>\n",
       "    </tr>\n",
       "    <tr>\n",
       "      <th>4</th>\n",
       "      <td>0.0</td>\n",
       "      <td>0.0</td>\n",
       "      <td>0.0</td>\n",
       "      <td>1.0</td>\n",
       "      <td>11.0</td>\n",
       "      <td>0.0</td>\n",
       "      <td>0.0</td>\n",
       "      <td>0.0</td>\n",
       "      <td>0.0</td>\n",
       "      <td>0.0</td>\n",
       "      <td>...</td>\n",
       "      <td>0.0</td>\n",
       "      <td>0.0</td>\n",
       "      <td>0.0</td>\n",
       "      <td>0.0</td>\n",
       "      <td>0.0</td>\n",
       "      <td>2.0</td>\n",
       "      <td>16.0</td>\n",
       "      <td>4.0</td>\n",
       "      <td>0.0</td>\n",
       "      <td>0.0</td>\n",
       "    </tr>\n",
       "    <tr>\n",
       "      <th>...</th>\n",
       "      <td>...</td>\n",
       "      <td>...</td>\n",
       "      <td>...</td>\n",
       "      <td>...</td>\n",
       "      <td>...</td>\n",
       "      <td>...</td>\n",
       "      <td>...</td>\n",
       "      <td>...</td>\n",
       "      <td>...</td>\n",
       "      <td>...</td>\n",
       "      <td>...</td>\n",
       "      <td>...</td>\n",
       "      <td>...</td>\n",
       "      <td>...</td>\n",
       "      <td>...</td>\n",
       "      <td>...</td>\n",
       "      <td>...</td>\n",
       "      <td>...</td>\n",
       "      <td>...</td>\n",
       "      <td>...</td>\n",
       "      <td>...</td>\n",
       "    </tr>\n",
       "    <tr>\n",
       "      <th>1792</th>\n",
       "      <td>0.0</td>\n",
       "      <td>0.0</td>\n",
       "      <td>4.0</td>\n",
       "      <td>10.0</td>\n",
       "      <td>13.0</td>\n",
       "      <td>6.0</td>\n",
       "      <td>0.0</td>\n",
       "      <td>0.0</td>\n",
       "      <td>0.0</td>\n",
       "      <td>1.0</td>\n",
       "      <td>...</td>\n",
       "      <td>4.0</td>\n",
       "      <td>0.0</td>\n",
       "      <td>0.0</td>\n",
       "      <td>0.0</td>\n",
       "      <td>2.0</td>\n",
       "      <td>14.0</td>\n",
       "      <td>15.0</td>\n",
       "      <td>9.0</td>\n",
       "      <td>0.0</td>\n",
       "      <td>0.0</td>\n",
       "    </tr>\n",
       "    <tr>\n",
       "      <th>1793</th>\n",
       "      <td>0.0</td>\n",
       "      <td>0.0</td>\n",
       "      <td>6.0</td>\n",
       "      <td>16.0</td>\n",
       "      <td>13.0</td>\n",
       "      <td>11.0</td>\n",
       "      <td>1.0</td>\n",
       "      <td>0.0</td>\n",
       "      <td>0.0</td>\n",
       "      <td>0.0</td>\n",
       "      <td>...</td>\n",
       "      <td>1.0</td>\n",
       "      <td>0.0</td>\n",
       "      <td>0.0</td>\n",
       "      <td>0.0</td>\n",
       "      <td>6.0</td>\n",
       "      <td>16.0</td>\n",
       "      <td>14.0</td>\n",
       "      <td>6.0</td>\n",
       "      <td>0.0</td>\n",
       "      <td>0.0</td>\n",
       "    </tr>\n",
       "    <tr>\n",
       "      <th>1794</th>\n",
       "      <td>0.0</td>\n",
       "      <td>0.0</td>\n",
       "      <td>1.0</td>\n",
       "      <td>11.0</td>\n",
       "      <td>15.0</td>\n",
       "      <td>1.0</td>\n",
       "      <td>0.0</td>\n",
       "      <td>0.0</td>\n",
       "      <td>0.0</td>\n",
       "      <td>0.0</td>\n",
       "      <td>...</td>\n",
       "      <td>0.0</td>\n",
       "      <td>0.0</td>\n",
       "      <td>0.0</td>\n",
       "      <td>0.0</td>\n",
       "      <td>2.0</td>\n",
       "      <td>9.0</td>\n",
       "      <td>13.0</td>\n",
       "      <td>6.0</td>\n",
       "      <td>0.0</td>\n",
       "      <td>0.0</td>\n",
       "    </tr>\n",
       "    <tr>\n",
       "      <th>1795</th>\n",
       "      <td>0.0</td>\n",
       "      <td>0.0</td>\n",
       "      <td>2.0</td>\n",
       "      <td>10.0</td>\n",
       "      <td>7.0</td>\n",
       "      <td>0.0</td>\n",
       "      <td>0.0</td>\n",
       "      <td>0.0</td>\n",
       "      <td>0.0</td>\n",
       "      <td>0.0</td>\n",
       "      <td>...</td>\n",
       "      <td>2.0</td>\n",
       "      <td>0.0</td>\n",
       "      <td>0.0</td>\n",
       "      <td>0.0</td>\n",
       "      <td>5.0</td>\n",
       "      <td>12.0</td>\n",
       "      <td>16.0</td>\n",
       "      <td>12.0</td>\n",
       "      <td>0.0</td>\n",
       "      <td>0.0</td>\n",
       "    </tr>\n",
       "    <tr>\n",
       "      <th>1796</th>\n",
       "      <td>0.0</td>\n",
       "      <td>0.0</td>\n",
       "      <td>10.0</td>\n",
       "      <td>14.0</td>\n",
       "      <td>8.0</td>\n",
       "      <td>1.0</td>\n",
       "      <td>0.0</td>\n",
       "      <td>0.0</td>\n",
       "      <td>0.0</td>\n",
       "      <td>2.0</td>\n",
       "      <td>...</td>\n",
       "      <td>8.0</td>\n",
       "      <td>0.0</td>\n",
       "      <td>0.0</td>\n",
       "      <td>1.0</td>\n",
       "      <td>8.0</td>\n",
       "      <td>12.0</td>\n",
       "      <td>14.0</td>\n",
       "      <td>12.0</td>\n",
       "      <td>1.0</td>\n",
       "      <td>0.0</td>\n",
       "    </tr>\n",
       "  </tbody>\n",
       "</table>\n",
       "<p>1797 rows × 64 columns</p>\n",
       "</div>"
      ],
      "text/plain": [
       "       0    1     2     3     4     5    6    7    8    9   ...   54   55  \\\n",
       "0     0.0  0.0   5.0  13.0   9.0   1.0  0.0  0.0  0.0  0.0  ...  0.0  0.0   \n",
       "1     0.0  0.0   0.0  12.0  13.0   5.0  0.0  0.0  0.0  0.0  ...  0.0  0.0   \n",
       "2     0.0  0.0   0.0   4.0  15.0  12.0  0.0  0.0  0.0  0.0  ...  5.0  0.0   \n",
       "3     0.0  0.0   7.0  15.0  13.0   1.0  0.0  0.0  0.0  8.0  ...  9.0  0.0   \n",
       "4     0.0  0.0   0.0   1.0  11.0   0.0  0.0  0.0  0.0  0.0  ...  0.0  0.0   \n",
       "...   ...  ...   ...   ...   ...   ...  ...  ...  ...  ...  ...  ...  ...   \n",
       "1792  0.0  0.0   4.0  10.0  13.0   6.0  0.0  0.0  0.0  1.0  ...  4.0  0.0   \n",
       "1793  0.0  0.0   6.0  16.0  13.0  11.0  1.0  0.0  0.0  0.0  ...  1.0  0.0   \n",
       "1794  0.0  0.0   1.0  11.0  15.0   1.0  0.0  0.0  0.0  0.0  ...  0.0  0.0   \n",
       "1795  0.0  0.0   2.0  10.0   7.0   0.0  0.0  0.0  0.0  0.0  ...  2.0  0.0   \n",
       "1796  0.0  0.0  10.0  14.0   8.0   1.0  0.0  0.0  0.0  2.0  ...  8.0  0.0   \n",
       "\n",
       "       56   57   58    59    60    61   62   63  \n",
       "0     0.0  0.0  6.0  13.0  10.0   0.0  0.0  0.0  \n",
       "1     0.0  0.0  0.0  11.0  16.0  10.0  0.0  0.0  \n",
       "2     0.0  0.0  0.0   3.0  11.0  16.0  9.0  0.0  \n",
       "3     0.0  0.0  7.0  13.0  13.0   9.0  0.0  0.0  \n",
       "4     0.0  0.0  0.0   2.0  16.0   4.0  0.0  0.0  \n",
       "...   ...  ...  ...   ...   ...   ...  ...  ...  \n",
       "1792  0.0  0.0  2.0  14.0  15.0   9.0  0.0  0.0  \n",
       "1793  0.0  0.0  6.0  16.0  14.0   6.0  0.0  0.0  \n",
       "1794  0.0  0.0  2.0   9.0  13.0   6.0  0.0  0.0  \n",
       "1795  0.0  0.0  5.0  12.0  16.0  12.0  0.0  0.0  \n",
       "1796  0.0  1.0  8.0  12.0  14.0  12.0  1.0  0.0  \n",
       "\n",
       "[1797 rows x 64 columns]"
      ]
     },
     "execution_count": 46,
     "metadata": {},
     "output_type": "execute_result"
    }
   ],
   "source": [
    "df"
   ]
  },
  {
   "cell_type": "markdown",
   "metadata": {},
   "source": [
    "Let us build a random forest classification model to predict the digits corresponding to the given pictures. \n",
    "\n",
    "Above we have already used _from sklearn.ensemble import RandomForestClassifier_."
   ]
  },
  {
   "cell_type": "code",
   "execution_count": 47,
   "metadata": {},
   "outputs": [
    {
     "data": {
      "text/html": [
       "<div>\n",
       "<style scoped>\n",
       "    .dataframe tbody tr th:only-of-type {\n",
       "        vertical-align: middle;\n",
       "    }\n",
       "\n",
       "    .dataframe tbody tr th {\n",
       "        vertical-align: top;\n",
       "    }\n",
       "\n",
       "    .dataframe thead th {\n",
       "        text-align: right;\n",
       "    }\n",
       "</style>\n",
       "<table border=\"1\" class=\"dataframe\">\n",
       "  <thead>\n",
       "    <tr style=\"text-align: right;\">\n",
       "      <th></th>\n",
       "      <th>0</th>\n",
       "    </tr>\n",
       "  </thead>\n",
       "  <tbody>\n",
       "    <tr>\n",
       "      <th>0</th>\n",
       "      <td>0</td>\n",
       "    </tr>\n",
       "    <tr>\n",
       "      <th>1</th>\n",
       "      <td>1</td>\n",
       "    </tr>\n",
       "    <tr>\n",
       "      <th>2</th>\n",
       "      <td>2</td>\n",
       "    </tr>\n",
       "    <tr>\n",
       "      <th>3</th>\n",
       "      <td>3</td>\n",
       "    </tr>\n",
       "    <tr>\n",
       "      <th>4</th>\n",
       "      <td>4</td>\n",
       "    </tr>\n",
       "    <tr>\n",
       "      <th>...</th>\n",
       "      <td>...</td>\n",
       "    </tr>\n",
       "    <tr>\n",
       "      <th>1792</th>\n",
       "      <td>9</td>\n",
       "    </tr>\n",
       "    <tr>\n",
       "      <th>1793</th>\n",
       "      <td>0</td>\n",
       "    </tr>\n",
       "    <tr>\n",
       "      <th>1794</th>\n",
       "      <td>8</td>\n",
       "    </tr>\n",
       "    <tr>\n",
       "      <th>1795</th>\n",
       "      <td>9</td>\n",
       "    </tr>\n",
       "    <tr>\n",
       "      <th>1796</th>\n",
       "      <td>8</td>\n",
       "    </tr>\n",
       "  </tbody>\n",
       "</table>\n",
       "<p>1797 rows × 1 columns</p>\n",
       "</div>"
      ],
      "text/plain": [
       "      0\n",
       "0     0\n",
       "1     1\n",
       "2     2\n",
       "3     3\n",
       "4     4\n",
       "...  ..\n",
       "1792  9\n",
       "1793  0\n",
       "1794  8\n",
       "1795  9\n",
       "1796  8\n",
       "\n",
       "[1797 rows x 1 columns]"
      ]
     },
     "execution_count": 47,
     "metadata": {},
     "output_type": "execute_result"
    }
   ],
   "source": [
    "df_targets"
   ]
  },
  {
   "cell_type": "markdown",
   "metadata": {},
   "source": [
    "### Split the data "
   ]
  },
  {
   "cell_type": "code",
   "execution_count": 48,
   "metadata": {},
   "outputs": [],
   "source": [
    "X_train, X_test, Y_train, Y_test = train_test_split(df,df_targets, random_state=42)"
   ]
  },
  {
   "cell_type": "markdown",
   "metadata": {},
   "source": [
    "### Define and train a random forest model "
   ]
  },
  {
   "cell_type": "code",
   "execution_count": 61,
   "metadata": {},
   "outputs": [],
   "source": [
    "rf = RandomForestClassifier(max_depth=10, random_state=0)"
   ]
  },
  {
   "cell_type": "markdown",
   "metadata": {},
   "source": [
    "**Exercise** (!): Define decision tree model (with same depth) and run through to compare the two results (i.e. random forest vs. simple decision tree 🌳). Try increasing model complexity and see what happens.\n",
    "\n",
    "*Hint*: With growing model complexity you should notice the disadvantage of simple decision trees due to overfitting (high variance). "
   ]
  },
  {
   "cell_type": "code",
   "execution_count": 62,
   "metadata": {},
   "outputs": [
    {
     "name": "stderr",
     "output_type": "stream",
     "text": [
      "/Users/bf/opt/anaconda3/lib/python3.7/site-packages/ipykernel_launcher.py:1: DataConversionWarning: A column-vector y was passed when a 1d array was expected. Please change the shape of y to (n_samples,), for example using ravel().\n",
      "  \"\"\"Entry point for launching an IPython kernel.\n"
     ]
    },
    {
     "data": {
      "text/plain": [
       "RandomForestClassifier(bootstrap=True, ccp_alpha=0.0, class_weight=None,\n",
       "                       criterion='gini', max_depth=10, max_features='auto',\n",
       "                       max_leaf_nodes=None, max_samples=None,\n",
       "                       min_impurity_decrease=0.0, min_impurity_split=None,\n",
       "                       min_samples_leaf=1, min_samples_split=2,\n",
       "                       min_weight_fraction_leaf=0.0, n_estimators=100,\n",
       "                       n_jobs=None, oob_score=False, random_state=0, verbose=0,\n",
       "                       warm_start=False)"
      ]
     },
     "execution_count": 62,
     "metadata": {},
     "output_type": "execute_result"
    }
   ],
   "source": [
    "rf.fit(X_train, Y_train)"
   ]
  },
  {
   "cell_type": "markdown",
   "metadata": {},
   "source": [
    "### Compute the predictions on the test set"
   ]
  },
  {
   "cell_type": "code",
   "execution_count": 63,
   "metadata": {},
   "outputs": [],
   "source": [
    "# Now predict the value of the digit on the second half:\n",
    "predicted = rf.predict(X_test)"
   ]
  },
  {
   "cell_type": "code",
   "execution_count": 64,
   "metadata": {},
   "outputs": [
    {
     "data": {
      "text/plain": [
       "numpy.ndarray"
      ]
     },
     "execution_count": 64,
     "metadata": {},
     "output_type": "execute_result"
    }
   ],
   "source": [
    "type(predicted)"
   ]
  },
  {
   "cell_type": "code",
   "execution_count": 65,
   "metadata": {},
   "outputs": [
    {
     "data": {
      "text/html": [
       "<div>\n",
       "<style scoped>\n",
       "    .dataframe tbody tr th:only-of-type {\n",
       "        vertical-align: middle;\n",
       "    }\n",
       "\n",
       "    .dataframe tbody tr th {\n",
       "        vertical-align: top;\n",
       "    }\n",
       "\n",
       "    .dataframe thead th {\n",
       "        text-align: right;\n",
       "    }\n",
       "</style>\n",
       "<table border=\"1\" class=\"dataframe\">\n",
       "  <thead>\n",
       "    <tr style=\"text-align: right;\">\n",
       "      <th></th>\n",
       "      <th>0</th>\n",
       "    </tr>\n",
       "  </thead>\n",
       "  <tbody>\n",
       "    <tr>\n",
       "      <th>0</th>\n",
       "      <td>6</td>\n",
       "    </tr>\n",
       "    <tr>\n",
       "      <th>1</th>\n",
       "      <td>9</td>\n",
       "    </tr>\n",
       "    <tr>\n",
       "      <th>2</th>\n",
       "      <td>3</td>\n",
       "    </tr>\n",
       "    <tr>\n",
       "      <th>3</th>\n",
       "      <td>7</td>\n",
       "    </tr>\n",
       "    <tr>\n",
       "      <th>4</th>\n",
       "      <td>2</td>\n",
       "    </tr>\n",
       "    <tr>\n",
       "      <th>...</th>\n",
       "      <td>...</td>\n",
       "    </tr>\n",
       "    <tr>\n",
       "      <th>445</th>\n",
       "      <td>3</td>\n",
       "    </tr>\n",
       "    <tr>\n",
       "      <th>446</th>\n",
       "      <td>6</td>\n",
       "    </tr>\n",
       "    <tr>\n",
       "      <th>447</th>\n",
       "      <td>2</td>\n",
       "    </tr>\n",
       "    <tr>\n",
       "      <th>448</th>\n",
       "      <td>6</td>\n",
       "    </tr>\n",
       "    <tr>\n",
       "      <th>449</th>\n",
       "      <td>5</td>\n",
       "    </tr>\n",
       "  </tbody>\n",
       "</table>\n",
       "<p>450 rows × 1 columns</p>\n",
       "</div>"
      ],
      "text/plain": [
       "     0\n",
       "0    6\n",
       "1    9\n",
       "2    3\n",
       "3    7\n",
       "4    2\n",
       "..  ..\n",
       "445  3\n",
       "446  6\n",
       "447  2\n",
       "448  6\n",
       "449  5\n",
       "\n",
       "[450 rows x 1 columns]"
      ]
     },
     "execution_count": 65,
     "metadata": {},
     "output_type": "execute_result"
    }
   ],
   "source": [
    "predicted_results = pd.DataFrame(predicted)\n",
    "\n",
    "predicted_results"
   ]
  },
  {
   "cell_type": "code",
   "execution_count": 66,
   "metadata": {},
   "outputs": [],
   "source": [
    "# Import relevant packages\n",
    "from sklearn.metrics import roc_auc_score\n",
    "from sklearn.metrics import roc_curve, auc\n",
    "from sklearn.metrics import accuracy_score\n",
    "from sklearn.metrics import precision_score\n",
    "from sklearn.metrics import recall_score\n",
    "from sklearn import metrics"
   ]
  },
  {
   "cell_type": "markdown",
   "metadata": {},
   "source": [
    "If you do not know what these packages are used for, read the corresponding sklearn page. "
   ]
  },
  {
   "cell_type": "code",
   "execution_count": 67,
   "metadata": {},
   "outputs": [
    {
     "data": {
      "text/plain": [
       "0.9733333333333334"
      ]
     },
     "execution_count": 67,
     "metadata": {},
     "output_type": "execute_result"
    }
   ],
   "source": [
    "accuracy_score(Y_test, predicted_results)"
   ]
  },
  {
   "cell_type": "code",
   "execution_count": 68,
   "metadata": {},
   "outputs": [
    {
     "data": {
      "text/plain": [
       "0.973995009412211"
      ]
     },
     "execution_count": 68,
     "metadata": {},
     "output_type": "execute_result"
    }
   ],
   "source": [
    "precision_score(Y_test, predicted_results, average='macro')"
   ]
  },
  {
   "cell_type": "code",
   "execution_count": 69,
   "metadata": {},
   "outputs": [
    {
     "data": {
      "text/plain": [
       "0.9736717777918722"
      ]
     },
     "execution_count": 69,
     "metadata": {},
     "output_type": "execute_result"
    }
   ],
   "source": [
    "recall_score(Y_test, predicted_results, average='macro')"
   ]
  },
  {
   "cell_type": "markdown",
   "metadata": {},
   "source": [
    "**Exercise**"
   ]
  },
  {
   "cell_type": "code",
   "execution_count": 70,
   "metadata": {},
   "outputs": [
    {
     "name": "stdout",
     "output_type": "stream",
     "text": [
      "[[42  0  0  0  1  0  0  0  0  0]\n",
      " [ 0 37  0  0  0  0  0  0  0  0]\n",
      " [ 0  0 38  0  0  0  0  0  0  0]\n",
      " [ 0  0  0 43  0  1  0  0  2  0]\n",
      " [ 0  0  0  0 55  0  0  0  0  0]\n",
      " [ 0  0  0  0  0 57  1  0  0  1]\n",
      " [ 0  0  0  0  0  1 44  0  0  0]\n",
      " [ 0  0  0  0  0  0  0 40  0  1]\n",
      " [ 0  2  0  0  0  0  0  0 36  0]\n",
      " [ 0  0  0  0  0  1  0  1  0 46]]\n"
     ]
    }
   ],
   "source": [
    "# Print the confusion matrix\n",
    "print(metrics.confusion_matrix(Y_test, predicted_results))"
   ]
  },
  {
   "cell_type": "markdown",
   "metadata": {},
   "source": [
    "**Exercise** (With this exercise you will learn to interpret the results of a confusion matrix)\n",
    "\n",
    "- Looking at this confusion matrix, what can be said about the best performance measure? \n",
    "\n",
    "- Which class is being predicted particularly good/bad? Which numbers does the algorithm mistaken for which ones most often? \n",
    "\n",
    "- Explain in words what this confusion matrix says about the classification of the class 0 (=number 0) and class 10 (=number 9). Give a possible explanation in terms of why a human might make similar mistakes. \n",
    "\n",
    "- How would you define a notion of accuracy given such a confusion matrix? We have seen the definition of accuracy for a confusion matrix for binary classification in the context of *logistic regression*. Compare your results with that of the accuracy given below in the *classification report*.\n"
   ]
  },
  {
   "cell_type": "markdown",
   "metadata": {},
   "source": [
    "**Exercise** (!): Compare random forest with bagging for the handwritten digits. "
   ]
  },
  {
   "cell_type": "code",
   "execution_count": 71,
   "metadata": {},
   "outputs": [
    {
     "name": "stdout",
     "output_type": "stream",
     "text": [
      "              precision    recall  f1-score   support\n",
      "\n",
      "           0      1.000     0.977     0.988        43\n",
      "           1      0.949     1.000     0.974        37\n",
      "           2      1.000     1.000     1.000        38\n",
      "           3      1.000     0.935     0.966        46\n",
      "           4      0.982     1.000     0.991        55\n",
      "           5      0.950     0.966     0.958        59\n",
      "           6      0.978     0.978     0.978        45\n",
      "           7      0.976     0.976     0.976        41\n",
      "           8      0.947     0.947     0.947        38\n",
      "           9      0.958     0.958     0.958        48\n",
      "\n",
      "    accuracy                          0.973       450\n",
      "   macro avg      0.974     0.974     0.974       450\n",
      "weighted avg      0.974     0.973     0.973       450\n",
      "\n"
     ]
    }
   ],
   "source": [
    "# Print the precision and recall, among other metrics\n",
    "print(metrics.classification_report(Y_test, predicted_results, digits=3))"
   ]
  },
  {
   "cell_type": "markdown",
   "metadata": {},
   "source": [
    "## Boosting\n",
    "... *combining many weak learners to get one strong one*.\n",
    "\n",
    "... *committee of weak learners, changing over time, members cast a weighted vote*.\n",
    "\n",
    "**Optional reading task**: See [2], page 337 onwards, for more details on boosting. \n",
    "\n",
    "In contrast to bagging, for boosting\n",
    "- base classifiers are trained in sequence\n",
    "- each base classifier is trained using a weighted form of the dataset"
   ]
  },
  {
   "cell_type": "markdown",
   "metadata": {},
   "source": [
    "Let us introduce the notions needed to understand the working of the concept of boosting. We assume from now on that we deal with a *binary classification* task with two classes labeled $-1$ and $+1$.  \n",
    "\n",
    "**Definition (error rate)**: The *error rate* of a predictor (=classifier) $G$ on a given training set $\\{(x_i, y_i)\\}_{i=1}^N$ is given by: \n",
    "\n",
    "<h4>\n",
    "$$\\overline{err} = \\frac{1}{N}\\sum_{i=1}^N I(y_i \\not = G(x_i)), $$\n",
    "</h4>\n",
    "\n",
    "where $I$ is the indicator function, which is equal to $1$ when the argument is true and $0$ otherwise. \n",
    "\n",
    "**Example**: $I(1\\not=2) = 1$ and $I(1\\not=1) = 0$. \n"
   ]
  },
  {
   "cell_type": "markdown",
   "metadata": {},
   "source": [
    "**Example**: Let us compute an example of an error rate. Assume you are given the datapoints $\\{(x_1,1), (x_2,1), (x_3,-1), (x_4,1)\\}$ and that the predictor $G$ gives the following results: $G(x_1)=-1, G(x_2)=1, G(x_3)=-1, G(x_4)=1$. The error rate is computed as $\\overline{err} = \\frac{1}{4}(1+0+0+0) = \\frac{1}{4}$. \n",
    "\n",
    "Thus, the given predictor $G$ has an error rate of 25\\% on the given training set.\n",
    "\n",
    "\n"
   ]
  },
  {
   "cell_type": "markdown",
   "metadata": {},
   "source": [
    "**General definition (Indicator function)**: For a subset $A$ of a set $X$, the indicator function $I_A:X\\rightarrow \\{0,1\\}$ is given by\n",
    "\n",
    "$\n",
    "I_A (x) = \n",
    " \\begin{cases} \n",
    "      1 & x\\in A \\\\\n",
    "      0 & x\\not\\in A.  \n",
    "   \\end{cases}\n",
    "$"
   ]
  },
  {
   "cell_type": "markdown",
   "metadata": {},
   "source": [
    "Another notion needed in the present context is that of *weak classifier*. \n",
    "\n",
    "**Definition (weak classifier, [2], page 337)**: A _weak classifier_ is one whose error rate is only slightly better than random guessing. This means that the error rate is just slightly below $0.5$, in the context of binary classification. "
   ]
  },
  {
   "cell_type": "markdown",
   "metadata": {},
   "source": [
    "The following schematic depiction ([2], page 338) explains the way that boosting works. \n",
    "\n",
    "<br>\n",
    "\n",
    "<table><tr><td><img src='boosting.png' style=\"width: 550px;\"></td></tr><table>\n",
    "    \n",
    "<br>\n",
    "    \n",
    "Note: The final classifier just asks for the sign (whether positive or negative) as this discussion assumed the underlying problem to be a binary classification problem with classes $-1$ and $+1$. Thus, majority vote is equivalent to asking whether the weighted sum of all predictions is positive or negative. "
   ]
  },
  {
   "cell_type": "markdown",
   "metadata": {},
   "source": [
    "### Weighting of the training set\n",
    "\n",
    "The question remains: *How does the weighting of the training sets work*? \n",
    "\n",
    "At each boosting step, weights $w_1, ..., w_N$ are multiplied to the training data points $\\{(x_i,y_i)\\}_{i=1}^N$. \n",
    "\n",
    "At the initial step, all weights are chosen equal to be $w_i = 1/N$.\n",
    "\n",
    "For the steps $m=2, ..., M$: Weights are modified individually, and the classification algorithm is used on the new dataset. Weights of points that were misclassified in the prior step (i.e. for $G_{m-1}$) are increased, while, on the other hand, weights of points correctly classified by $G_{m-1}$ are decreased. \n",
    "\n",
    "\n",
    "## AdaBoost\n",
    "\n",
    "The precise way in which the weights are modified is given in the case of **Adaboost** in the following outline of the algorithm.\n",
    "\n",
    "<br>\n",
    "Source: [2], page 339. \n",
    "<table><tr><td><img src='adaboost.png' style=\"width: 650px;\"></td></tr><table>\n",
    "\n",
    "\n"
   ]
  },
  {
   "cell_type": "markdown",
   "metadata": {},
   "source": [
    "### Remark\n",
    "\n",
    "One can show that the above algorithm is equivalent to an optimization problem called *Forward Stagewise Additive Modeling* that uses an exponential loss function. For further reading see [2], page 342.\n"
   ]
  },
  {
   "cell_type": "markdown",
   "metadata": {},
   "source": [
    "## Implementation of Adaboost\n",
    "\n",
    "Let us consider an the example with synthetic data and compare the results of Adaboost and simple decision trees. \n"
   ]
  },
  {
   "cell_type": "code",
   "execution_count": 33,
   "metadata": {},
   "outputs": [],
   "source": [
    "from sklearn.ensemble import AdaBoostClassifier"
   ]
  },
  {
   "cell_type": "markdown",
   "metadata": {},
   "source": [
    "### Define and train a model"
   ]
  },
  {
   "cell_type": "code",
   "execution_count": 34,
   "metadata": {},
   "outputs": [],
   "source": [
    "# Define AdaBoost model\n",
    "clf = AdaBoostClassifier(n_estimators=100, random_state=0)"
   ]
  },
  {
   "cell_type": "code",
   "execution_count": 35,
   "metadata": {},
   "outputs": [
    {
     "name": "stderr",
     "output_type": "stream",
     "text": [
      "/Users/bf/opt/anaconda3/lib/python3.7/site-packages/sklearn/utils/validation.py:760: DataConversionWarning: A column-vector y was passed when a 1d array was expected. Please change the shape of y to (n_samples, ), for example using ravel().\n",
      "  y = column_or_1d(y, warn=True)\n"
     ]
    },
    {
     "data": {
      "text/plain": [
       "AdaBoostClassifier(algorithm='SAMME.R', base_estimator=None, learning_rate=1.0,\n",
       "                   n_estimators=100, random_state=0)"
      ]
     },
     "execution_count": 35,
     "metadata": {},
     "output_type": "execute_result"
    }
   ],
   "source": [
    "# Train model on the training set\n",
    "clf.fit(X_train, Y_train)"
   ]
  },
  {
   "cell_type": "markdown",
   "metadata": {},
   "source": [
    "### Compute the feature importances\n",
    "\n",
    "Note that this uses the *random forest feature importance* introduced above. We could use this information to select the features that help in prediction. "
   ]
  },
  {
   "cell_type": "code",
   "execution_count": 36,
   "metadata": {},
   "outputs": [
    {
     "data": {
      "text/plain": [
       "array([0.  , 0.  , 0.  , 0.  , 0.  , 0.  , 0.  , 0.  , 0.  , 0.  , 0.  ,\n",
       "       0.  , 0.  , 0.  , 0.  , 0.  , 0.  , 0.  , 0.  , 0.  , 0.  , 0.01,\n",
       "       0.  , 0.  , 0.  , 0.  , 0.  , 0.  , 0.49, 0.  , 0.  , 0.  , 0.  ,\n",
       "       0.  , 0.  , 0.  , 0.5 , 0.  , 0.  , 0.  , 0.  , 0.  , 0.  , 0.  ,\n",
       "       0.  , 0.  , 0.  , 0.  , 0.  , 0.  , 0.  , 0.  , 0.  , 0.  , 0.  ,\n",
       "       0.  , 0.  , 0.  , 0.  , 0.  , 0.  , 0.  , 0.  , 0.  ])"
      ]
     },
     "execution_count": 36,
     "metadata": {},
     "output_type": "execute_result"
    }
   ],
   "source": [
    "clf.feature_importances_"
   ]
  },
  {
   "cell_type": "markdown",
   "metadata": {},
   "source": [
    "**Exercise**: Interpret these results. "
   ]
  },
  {
   "cell_type": "code",
   "execution_count": 37,
   "metadata": {},
   "outputs": [
    {
     "data": {
      "text/plain": [
       "array([0, 8, 8, ..., 8, 8, 8])"
      ]
     },
     "execution_count": 37,
     "metadata": {},
     "output_type": "execute_result"
    }
   ],
   "source": [
    "clf.predict(df.values)"
   ]
  },
  {
   "cell_type": "code",
   "execution_count": 38,
   "metadata": {},
   "outputs": [
    {
     "name": "stdout",
     "output_type": "stream",
     "text": [
      "Accuracy on the training set: 0.347\n",
      "Accuracy on the test set: 0.336\n"
     ]
    }
   ],
   "source": [
    "print(\"Accuracy on the training set: {:.3f}\".format(clf.score(X_train, Y_train)))\n",
    "print(\"Accuracy on the test set: {:.3f}\".format(clf.score(X_test, Y_test)))"
   ]
  },
  {
   "cell_type": "markdown",
   "metadata": {},
   "source": [
    "### Compare above results with simple decision trees"
   ]
  },
  {
   "cell_type": "code",
   "execution_count": 39,
   "metadata": {},
   "outputs": [],
   "source": [
    "from sklearn.tree import DecisionTreeClassifier"
   ]
  },
  {
   "cell_type": "code",
   "execution_count": 40,
   "metadata": {},
   "outputs": [],
   "source": [
    "tree = DecisionTreeClassifier(max_depth=3, random_state=2)"
   ]
  },
  {
   "cell_type": "code",
   "execution_count": 41,
   "metadata": {},
   "outputs": [],
   "source": [
    "tree.fit(X_train,Y_train);"
   ]
  },
  {
   "cell_type": "code",
   "execution_count": 42,
   "metadata": {},
   "outputs": [
    {
     "name": "stdout",
     "output_type": "stream",
     "text": [
      "Accuracy on the training set: 0.411\n",
      "Accuracy on the test set: 0.380\n"
     ]
    }
   ],
   "source": [
    "print(\"Accuracy on the training set: {:.3f}\".format(tree.score(X_train, Y_train)))\n",
    "print(\"Accuracy on the test set: {:.3f}\".format(tree.score(X_test, Y_test)))"
   ]
  },
  {
   "cell_type": "markdown",
   "metadata": {},
   "source": [
    "**Exercise**: Repeat the experiments done with decision trees on the iris dataset with Adaboost and compare the results. "
   ]
  },
  {
   "cell_type": "markdown",
   "metadata": {},
   "source": [
    "### Exercise: Apply what you have learned!\n",
    "\n",
    "- Invest some time to do experiments with the ensemble learning methods that you have learned in this notebook. Consider different experiments that we conducted with simple decision trees and other methods and compare them with random forest and adaboost. \n",
    "\n",
    "- Try to \"see\" the decrease in variance for decision trees when using random forest. Ask yourself: what happens with the bias as we use random forest instead of simple decision trees? \n",
    "\n",
    "- Discuss what tradeoff you would like to see between model complexity and model performance for decision trees and in which cases you would like or abstain from using random forest and adaboost. \n",
    "\n",
    "- Using the results from the exercises on bagging for KNN: Compare them with bagging for decision trees and random forest. You should note that bagging is particularly powerful when used with decision trees. Why could that be? Does KNN also have high variance? "
   ]
  },
  {
   "cell_type": "markdown",
   "metadata": {},
   "source": [
    "### Tasks\n",
    "- Go through the notebook step by step\n",
    "- Solve exercises or go through the solutions"
   ]
  },
  {
   "cell_type": "markdown",
   "metadata": {},
   "source": [
    "### Optional exercise\n",
    "\n",
    "Conduct feature selection for problems that we have considered earlier using random forest feature importance. See if you can increase the predictive performance of whatever model you are using by choosing only the best features. "
   ]
  },
  {
   "cell_type": "markdown",
   "metadata": {},
   "source": [
    "### Advanced reading\n",
    "\n",
    "Although methods like random forest and adaboost are very powerful, it is not entirely clear why this is the case. The following paper makes an attempt towards explaining the success. \n",
    "\n",
    "https://dl.acm.org/doi/pdf/10.5555/3122009.3153004"
   ]
  },
  {
   "cell_type": "code",
   "execution_count": null,
   "metadata": {},
   "outputs": [],
   "source": []
  }
 ],
 "metadata": {
  "kernelspec": {
   "display_name": "Python 3.8.3 ('base')",
   "language": "python",
   "name": "python3"
  },
  "language_info": {
   "codemirror_mode": {
    "name": "ipython",
    "version": 3
   },
   "file_extension": ".py",
   "mimetype": "text/x-python",
   "name": "python",
   "nbconvert_exporter": "python",
   "pygments_lexer": "ipython3",
   "version": "3.8.3 (default, Jul  2 2020, 17:30:36) [MSC v.1916 64 bit (AMD64)]"
  },
  "vscode": {
   "interpreter": {
    "hash": "e520a469617dc4d8bf771f1a7d6422397314db060637112fffa727df7f704ab9"
   }
  }
 },
 "nbformat": 4,
 "nbformat_minor": 4
}
